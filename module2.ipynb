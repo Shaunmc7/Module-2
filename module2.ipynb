{
 "cells": [
  {
   "cell_type": "markdown",
   "metadata": {},
   "source": [
    "# Module 2 Assignment"
   ]
  },
  {
   "cell_type": "markdown",
   "metadata": {},
   "source": [
    "## Processing Data"
   ]
  },
  {
   "cell_type": "markdown",
   "metadata": {},
   "source": [
    "### Importing Packages and Data"
   ]
  },
  {
   "cell_type": "code",
   "execution_count": 1,
   "metadata": {},
   "outputs": [],
   "source": [
    "import pandas as pd"
   ]
  },
  {
   "cell_type": "code",
   "execution_count": 2,
   "metadata": {},
   "outputs": [],
   "source": [
    "scopus2022 = pd.read_csv('scopus 2022 2021.csv',  sep = ',')\n",
    "scopus = pd.read_csv('scopus.csv',  sep = ',')"
   ]
  },
  {
   "cell_type": "code",
   "execution_count": 8,
   "metadata": {},
   "outputs": [
    {
     "name": "stderr",
     "output_type": "stream",
     "text": [
      "C:\\Users\\Shaun\\AppData\\Local\\Temp\\ipykernel_7772\\3402760882.py:1: FutureWarning: The frame.append method is deprecated and will be removed from pandas in a future version. Use pandas.concat instead.\n",
      "  data = scopus2022.append(scopus, ignore_index=True)\n"
     ]
    }
   ],
   "source": [
    "data = scopus2022.append(scopus, ignore_index=True)"
   ]
  },
  {
   "cell_type": "code",
   "execution_count": 12,
   "metadata": {},
   "outputs": [
    {
     "name": "stdout",
     "output_type": "stream",
     "text": [
      "<class 'pandas.core.frame.DataFrame'>\n",
      "RangeIndex: 3400 entries, 0 to 3399\n",
      "Data columns (total 54 columns):\n",
      " #   Column                         Non-Null Count  Dtype  \n",
      "---  ------                         --------------  -----  \n",
      " 0   Authors                        3400 non-null   object \n",
      " 1   Author(s) ID                   3399 non-null   object \n",
      " 2   Title                          3400 non-null   object \n",
      " 3   Year                           3400 non-null   int64  \n",
      " 4   Source title                   3400 non-null   object \n",
      " 5   Volume                         2320 non-null   object \n",
      " 6   Issue                          1426 non-null   object \n",
      " 7   Art. No.                       1051 non-null   object \n",
      " 8   Page start                     2336 non-null   object \n",
      " 9   Page end                       2326 non-null   object \n",
      " 10  Page count                     38 non-null     float64\n",
      " 11  Cited by                       2164 non-null   float64\n",
      " 12  DOI                            2972 non-null   object \n",
      " 13  Link                           3400 non-null   object \n",
      " 14  Affiliations                   3305 non-null   object \n",
      " 15  Authors with affiliations      3342 non-null   object \n",
      " 16  Abstract                       3400 non-null   object \n",
      " 17  Author Keywords                2781 non-null   object \n",
      " 18  Index Keywords                 1616 non-null   object \n",
      " 19  Molecular Sequence Numbers     0 non-null      float64\n",
      " 20  Chemicals/CAS                  4 non-null      object \n",
      " 21  Tradenames                     0 non-null      float64\n",
      " 22  Manufacturers                  0 non-null      float64\n",
      " 23  Funding Details                827 non-null    object \n",
      " 24  Funding Text 1                 1039 non-null   object \n",
      " 25  Funding Text 2                 141 non-null    object \n",
      " 26  Funding Text 3                 7 non-null      object \n",
      " 27  Funding Text 4                 1 non-null      object \n",
      " 28  Funding Text 5                 1 non-null      object \n",
      " 29  Funding Text 6                 1 non-null      object \n",
      " 30  Funding Text 7                 1 non-null      object \n",
      " 31  Funding Text 8                 0 non-null      float64\n",
      " 32  Funding Text 9                 0 non-null      float64\n",
      " 33  Funding Text 10                0 non-null      float64\n",
      " 34  References                     3212 non-null   object \n",
      " 35  Correspondence Address         2354 non-null   object \n",
      " 36  Editors                        491 non-null    object \n",
      " 37  Sponsors                       319 non-null    object \n",
      " 38  Publisher                      3394 non-null   object \n",
      " 39  Conference name                1063 non-null   object \n",
      " 40  Conference date                1062 non-null   object \n",
      " 41  Conference location            3 non-null      object \n",
      " 42  Conference code                1065 non-null   float64\n",
      " 43  ISSN                           2540 non-null   object \n",
      " 44  ISBN                           1174 non-null   object \n",
      " 45  CODEN                          276 non-null    object \n",
      " 46  PubMed ID                      36 non-null     float64\n",
      " 47  Language of Original Document  3400 non-null   object \n",
      " 48  Abbreviated Source Title       3396 non-null   object \n",
      " 49  Document Type                  3400 non-null   object \n",
      " 50  Publication Stage              3400 non-null   object \n",
      " 51  Open Access                    1097 non-null   object \n",
      " 52  Source                         3400 non-null   object \n",
      " 53  EID                            3400 non-null   object \n",
      "dtypes: float64(10), int64(1), object(43)\n",
      "memory usage: 1.4+ MB\n"
     ]
    }
   ],
   "source": [
    "data.info()"
   ]
  },
  {
   "cell_type": "code",
   "execution_count": 15,
   "metadata": {},
   "outputs": [],
   "source": [
    "data = data[['Authors', 'Author(s) ID','Title', 'Abstract','Year', 'Source title']]"
   ]
  },
  {
   "cell_type": "code",
   "execution_count": 16,
   "metadata": {},
   "outputs": [
    {
     "data": {
      "text/plain": [
       "Index(['Authors', 'Author(s) ID', 'Title', 'Abstract', 'Year', 'Source title'], dtype='object')"
      ]
     },
     "execution_count": 16,
     "metadata": {},
     "output_type": "execute_result"
    }
   ],
   "source": [
    "data.columns"
   ]
  },
  {
   "cell_type": "code",
   "execution_count": 18,
   "metadata": {},
   "outputs": [
    {
     "name": "stderr",
     "output_type": "stream",
     "text": [
      "C:\\Users\\Shaun\\AppData\\Local\\Temp\\ipykernel_7772\\4068009536.py:1: SettingWithCopyWarning: \n",
      "A value is trying to be set on a copy of a slice from a DataFrame.\n",
      "Try using .loc[row_indexer,col_indexer] = value instead\n",
      "\n",
      "See the caveats in the documentation: https://pandas.pydata.org/pandas-docs/stable/user_guide/indexing.html#returning-a-view-versus-a-copy\n",
      "  data ['text'] = data['Title'] + '. ' + data['Abstract']\n"
     ]
    }
   ],
   "source": [
    "data ['text'] = data['Title'] + '. ' + data['Abstract']"
   ]
  }
 ],
 "metadata": {
  "kernelspec": {
   "display_name": "Python 3.10.8 64-bit (microsoft store)",
   "language": "python",
   "name": "python3"
  },
  "language_info": {
   "codemirror_mode": {
    "name": "ipython",
    "version": 3
   },
   "file_extension": ".py",
   "mimetype": "text/x-python",
   "name": "python",
   "nbconvert_exporter": "python",
   "pygments_lexer": "ipython3",
   "version": "3.10.8"
  },
  "orig_nbformat": 4,
  "vscode": {
   "interpreter": {
    "hash": "e512212120320149b780edf3747de0aeb2f70a10b1a5a94b6070f6e26b15f6f2"
   }
  }
 },
 "nbformat": 4,
 "nbformat_minor": 2
}

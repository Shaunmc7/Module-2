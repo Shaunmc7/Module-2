{
 "cells": [
  {
   "cell_type": "markdown",
   "metadata": {},
   "source": [
    "# Module 2 Assignment"
   ]
  },
  {
   "cell_type": "markdown",
   "metadata": {},
   "source": [
    "## Processing Data"
   ]
  },
  {
   "cell_type": "markdown",
   "metadata": {},
   "source": [
    "In this section we load in the data and make it ready for NA and NLP."
   ]
  },
  {
   "cell_type": "markdown",
   "metadata": {},
   "source": [
    "### Importing Packages and Data"
   ]
  },
  {
   "cell_type": "code",
   "execution_count": 196,
   "metadata": {},
   "outputs": [],
   "source": [
    "import pandas as pd"
   ]
  },
  {
   "cell_type": "code",
   "execution_count": 197,
   "metadata": {},
   "outputs": [],
   "source": [
    "#Reading the two CSV data files \n",
    "scopus2022 = pd.read_csv('scopus 2022 2021.csv',  sep = ',')\n",
    "scopus = pd.read_csv('scopus.csv',  sep = ',')"
   ]
  },
  {
   "cell_type": "code",
   "execution_count": 198,
   "metadata": {},
   "outputs": [
    {
     "name": "stderr",
     "output_type": "stream",
     "text": [
      "C:\\Users\\anett\\AppData\\Local\\Temp\\ipykernel_11848\\2463292892.py:2: FutureWarning: The frame.append method is deprecated and will be removed from pandas in a future version. Use pandas.concat instead.\n",
      "  data = scopus2022.append(scopus, ignore_index=True)\n"
     ]
    }
   ],
   "source": [
    "#Appending the two data files \n",
    "data = scopus2022.append(scopus, ignore_index=True)"
   ]
  },
  {
   "cell_type": "code",
   "execution_count": 199,
   "metadata": {},
   "outputs": [
    {
     "name": "stdout",
     "output_type": "stream",
     "text": [
      "<class 'pandas.core.frame.DataFrame'>\n",
      "RangeIndex: 3400 entries, 0 to 3399\n",
      "Data columns (total 54 columns):\n",
      " #   Column                         Non-Null Count  Dtype  \n",
      "---  ------                         --------------  -----  \n",
      " 0   Authors                        3400 non-null   object \n",
      " 1   Author(s) ID                   3399 non-null   object \n",
      " 2   Title                          3400 non-null   object \n",
      " 3   Year                           3400 non-null   int64  \n",
      " 4   Source title                   3400 non-null   object \n",
      " 5   Volume                         2320 non-null   object \n",
      " 6   Issue                          1426 non-null   object \n",
      " 7   Art. No.                       1051 non-null   object \n",
      " 8   Page start                     2336 non-null   object \n",
      " 9   Page end                       2326 non-null   object \n",
      " 10  Page count                     38 non-null     float64\n",
      " 11  Cited by                       2164 non-null   float64\n",
      " 12  DOI                            2972 non-null   object \n",
      " 13  Link                           3400 non-null   object \n",
      " 14  Affiliations                   3305 non-null   object \n",
      " 15  Authors with affiliations      3342 non-null   object \n",
      " 16  Abstract                       3400 non-null   object \n",
      " 17  Author Keywords                2781 non-null   object \n",
      " 18  Index Keywords                 1616 non-null   object \n",
      " 19  Molecular Sequence Numbers     0 non-null      float64\n",
      " 20  Chemicals/CAS                  4 non-null      object \n",
      " 21  Tradenames                     0 non-null      float64\n",
      " 22  Manufacturers                  0 non-null      float64\n",
      " 23  Funding Details                827 non-null    object \n",
      " 24  Funding Text 1                 1039 non-null   object \n",
      " 25  Funding Text 2                 141 non-null    object \n",
      " 26  Funding Text 3                 7 non-null      object \n",
      " 27  Funding Text 4                 1 non-null      object \n",
      " 28  Funding Text 5                 1 non-null      object \n",
      " 29  Funding Text 6                 1 non-null      object \n",
      " 30  Funding Text 7                 1 non-null      object \n",
      " 31  Funding Text 8                 0 non-null      float64\n",
      " 32  Funding Text 9                 0 non-null      float64\n",
      " 33  Funding Text 10                0 non-null      float64\n",
      " 34  References                     3212 non-null   object \n",
      " 35  Correspondence Address         2354 non-null   object \n",
      " 36  Editors                        491 non-null    object \n",
      " 37  Sponsors                       319 non-null    object \n",
      " 38  Publisher                      3394 non-null   object \n",
      " 39  Conference name                1063 non-null   object \n",
      " 40  Conference date                1062 non-null   object \n",
      " 41  Conference location            3 non-null      object \n",
      " 42  Conference code                1065 non-null   float64\n",
      " 43  ISSN                           2540 non-null   object \n",
      " 44  ISBN                           1174 non-null   object \n",
      " 45  CODEN                          276 non-null    object \n",
      " 46  PubMed ID                      36 non-null     float64\n",
      " 47  Language of Original Document  3400 non-null   object \n",
      " 48  Abbreviated Source Title       3396 non-null   object \n",
      " 49  Document Type                  3400 non-null   object \n",
      " 50  Publication Stage              3400 non-null   object \n",
      " 51  Open Access                    1097 non-null   object \n",
      " 52  Source                         3400 non-null   object \n",
      " 53  EID                            3400 non-null   object \n",
      "dtypes: float64(10), int64(1), object(43)\n",
      "memory usage: 1.4+ MB\n"
     ]
    }
   ],
   "source": [
    "#Getting an overview of the data\n",
    "data.info()"
   ]
  },
  {
   "cell_type": "code",
   "execution_count": 200,
   "metadata": {},
   "outputs": [
    {
     "data": {
      "text/plain": [
       "Index(['Authors', 'Author(s) ID', 'Title', 'Year', 'Source title', 'Volume',\n",
       "       'Issue', 'Art. No.', 'Page start', 'Page end', 'Page count', 'Cited by',\n",
       "       'DOI', 'Link', 'Affiliations', 'Authors with affiliations', 'Abstract',\n",
       "       'Author Keywords', 'Index Keywords', 'Molecular Sequence Numbers',\n",
       "       'Chemicals/CAS', 'Tradenames', 'Manufacturers', 'Funding Details',\n",
       "       'Funding Text 1', 'Funding Text 2', 'Funding Text 3', 'Funding Text 4',\n",
       "       'Funding Text 5', 'Funding Text 6', 'Funding Text 7', 'Funding Text 8',\n",
       "       'Funding Text 9', 'Funding Text 10', 'References',\n",
       "       'Correspondence Address', 'Editors', 'Sponsors', 'Publisher',\n",
       "       'Conference name', 'Conference date', 'Conference location',\n",
       "       'Conference code', 'ISSN', 'ISBN', 'CODEN', 'PubMed ID',\n",
       "       'Language of Original Document', 'Abbreviated Source Title',\n",
       "       'Document Type', 'Publication Stage', 'Open Access', 'Source', 'EID'],\n",
       "      dtype='object')"
      ]
     },
     "execution_count": 200,
     "metadata": {},
     "output_type": "execute_result"
    }
   ],
   "source": [
    "#Getting an overview of the data\n",
    "data.columns"
   ]
  },
  {
   "cell_type": "code",
   "execution_count": 201,
   "metadata": {},
   "outputs": [
    {
     "data": {
      "text/html": [
       "<div>\n",
       "<style scoped>\n",
       "    .dataframe tbody tr th:only-of-type {\n",
       "        vertical-align: middle;\n",
       "    }\n",
       "\n",
       "    .dataframe tbody tr th {\n",
       "        vertical-align: top;\n",
       "    }\n",
       "\n",
       "    .dataframe thead th {\n",
       "        text-align: right;\n",
       "    }\n",
       "</style>\n",
       "<table border=\"1\" class=\"dataframe\">\n",
       "  <thead>\n",
       "    <tr style=\"text-align: right;\">\n",
       "      <th></th>\n",
       "      <th>Authors</th>\n",
       "      <th>Author(s) ID</th>\n",
       "      <th>Title</th>\n",
       "      <th>Year</th>\n",
       "      <th>Affiliations</th>\n",
       "      <th>Cited by</th>\n",
       "      <th>References</th>\n",
       "      <th>Source title</th>\n",
       "    </tr>\n",
       "  </thead>\n",
       "  <tbody>\n",
       "    <tr>\n",
       "      <th>0</th>\n",
       "      <td>Yang T., Zhang X.</td>\n",
       "      <td>57907798100;56342888200;</td>\n",
       "      <td>FinTech adoption and financial inclusion: Evid...</td>\n",
       "      <td>2022</td>\n",
       "      <td>Department of Financial Statistics, School of ...</td>\n",
       "      <td>NaN</td>\n",
       "      <td>Agarwal, S., Basu, D., Ghosh, P., Pareek, B., ...</td>\n",
       "      <td>Journal of Banking and Finance</td>\n",
       "    </tr>\n",
       "    <tr>\n",
       "      <th>1</th>\n",
       "      <td>Wang X., Wang Y., Zhao Y.</td>\n",
       "      <td>57193015825;57901727900;57901783600;</td>\n",
       "      <td>Financial permeation and rural poverty reducti...</td>\n",
       "      <td>2022</td>\n",
       "      <td>College of Finance and Statistics, Hunan Unive...</td>\n",
       "      <td>NaN</td>\n",
       "      <td>Aghion, P., Bolton, P., A theory of trickle-do...</td>\n",
       "      <td>China Economic Review</td>\n",
       "    </tr>\n",
       "    <tr>\n",
       "      <th>2</th>\n",
       "      <td>Dzandu M.D., Hanu C., Amegbe H.</td>\n",
       "      <td>56590001600;57201152816;57194904537;</td>\n",
       "      <td>Gamification of mobile money payment for gener...</td>\n",
       "      <td>2022</td>\n",
       "      <td>Centre for Digital Business Research, Westmins...</td>\n",
       "      <td>NaN</td>\n",
       "      <td>Abou-Shouk, M., Soliman, M., The impact of gam...</td>\n",
       "      <td>Technological Forecasting and Social Change</td>\n",
       "    </tr>\n",
       "    <tr>\n",
       "      <th>3</th>\n",
       "      <td>Grassi L., Fantaccini S.</td>\n",
       "      <td>57192656409;57895835500;</td>\n",
       "      <td>An overview of Fintech applications to solve t...</td>\n",
       "      <td>2022</td>\n",
       "      <td>School of Management, Politecnico di Milano, M...</td>\n",
       "      <td>NaN</td>\n",
       "      <td>Abbott, K., Shao, H., Shi, L., Policy options ...</td>\n",
       "      <td>Financial Innovation</td>\n",
       "    </tr>\n",
       "    <tr>\n",
       "      <th>4</th>\n",
       "      <td>DeFusco A.A., Tang H., Yannelis C.</td>\n",
       "      <td>57193852071;57890330600;55413678100;</td>\n",
       "      <td>Measuring the welfare cost of asymmetric infor...</td>\n",
       "      <td>2022</td>\n",
       "      <td>Northwestern University, Kellogg School of Man...</td>\n",
       "      <td>NaN</td>\n",
       "      <td>Adams, W., Einav, L., Levin, J., Liquidity con...</td>\n",
       "      <td>Journal of Financial Economics</td>\n",
       "    </tr>\n",
       "  </tbody>\n",
       "</table>\n",
       "</div>"
      ],
      "text/plain": [
       "                              Authors                          Author(s) ID  \\\n",
       "0                   Yang T., Zhang X.              57907798100;56342888200;   \n",
       "1           Wang X., Wang Y., Zhao Y.  57193015825;57901727900;57901783600;   \n",
       "2     Dzandu M.D., Hanu C., Amegbe H.  56590001600;57201152816;57194904537;   \n",
       "3            Grassi L., Fantaccini S.              57192656409;57895835500;   \n",
       "4  DeFusco A.A., Tang H., Yannelis C.  57193852071;57890330600;55413678100;   \n",
       "\n",
       "                                               Title  Year  \\\n",
       "0  FinTech adoption and financial inclusion: Evid...  2022   \n",
       "1  Financial permeation and rural poverty reducti...  2022   \n",
       "2  Gamification of mobile money payment for gener...  2022   \n",
       "3  An overview of Fintech applications to solve t...  2022   \n",
       "4  Measuring the welfare cost of asymmetric infor...  2022   \n",
       "\n",
       "                                        Affiliations  Cited by  \\\n",
       "0  Department of Financial Statistics, School of ...       NaN   \n",
       "1  College of Finance and Statistics, Hunan Unive...       NaN   \n",
       "2  Centre for Digital Business Research, Westmins...       NaN   \n",
       "3  School of Management, Politecnico di Milano, M...       NaN   \n",
       "4  Northwestern University, Kellogg School of Man...       NaN   \n",
       "\n",
       "                                          References  \\\n",
       "0  Agarwal, S., Basu, D., Ghosh, P., Pareek, B., ...   \n",
       "1  Aghion, P., Bolton, P., A theory of trickle-do...   \n",
       "2  Abou-Shouk, M., Soliman, M., The impact of gam...   \n",
       "3  Abbott, K., Shao, H., Shi, L., Policy options ...   \n",
       "4  Adams, W., Einav, L., Levin, J., Liquidity con...   \n",
       "\n",
       "                                  Source title  \n",
       "0               Journal of Banking and Finance  \n",
       "1                        China Economic Review  \n",
       "2  Technological Forecasting and Social Change  \n",
       "3                         Financial Innovation  \n",
       "4               Journal of Financial Economics  "
      ]
     },
     "execution_count": 201,
     "metadata": {},
     "output_type": "execute_result"
    }
   ],
   "source": [
    "#Specify data columns for Network Analysis\n",
    "data_NA = data[['Authors', 'Author(s) ID', 'Title', 'Year', 'Affiliations', 'Cited by', 'References', 'Source title',]]\n",
    "data_NA.head()"
   ]
  },
  {
   "cell_type": "code",
   "execution_count": 202,
   "metadata": {},
   "outputs": [],
   "source": [
    "#2 Specify data columns for Network Analysis\n",
    "# data_NA = data[['Authors', 'Author(s) ID','Title', 'Abstract', 'Year', 'Source title', 'Author Keywords', 'Affiliations', 'Cited by', 'References']]\n",
    "# data_NA.head()"
   ]
  },
  {
   "cell_type": "code",
   "execution_count": 203,
   "metadata": {},
   "outputs": [
    {
     "data": {
      "text/html": [
       "<div>\n",
       "<style scoped>\n",
       "    .dataframe tbody tr th:only-of-type {\n",
       "        vertical-align: middle;\n",
       "    }\n",
       "\n",
       "    .dataframe tbody tr th {\n",
       "        vertical-align: top;\n",
       "    }\n",
       "\n",
       "    .dataframe thead th {\n",
       "        text-align: right;\n",
       "    }\n",
       "</style>\n",
       "<table border=\"1\" class=\"dataframe\">\n",
       "  <thead>\n",
       "    <tr style=\"text-align: right;\">\n",
       "      <th></th>\n",
       "      <th>Authors</th>\n",
       "      <th>Author(s) ID</th>\n",
       "      <th>Title</th>\n",
       "      <th>Abstract</th>\n",
       "      <th>Year</th>\n",
       "      <th>Source title</th>\n",
       "      <th>Author Keywords</th>\n",
       "    </tr>\n",
       "  </thead>\n",
       "  <tbody>\n",
       "    <tr>\n",
       "      <th>0</th>\n",
       "      <td>Yang T., Zhang X.</td>\n",
       "      <td>57907798100;56342888200;</td>\n",
       "      <td>FinTech adoption and financial inclusion: Evid...</td>\n",
       "      <td>This paper provides micro-level evidence on ho...</td>\n",
       "      <td>2022</td>\n",
       "      <td>Journal of Banking and Finance</td>\n",
       "      <td>Consumption; Consumption inequality; Credit co...</td>\n",
       "    </tr>\n",
       "    <tr>\n",
       "      <th>1</th>\n",
       "      <td>Wang X., Wang Y., Zhao Y.</td>\n",
       "      <td>57193015825;57901727900;57901783600;</td>\n",
       "      <td>Financial permeation and rural poverty reducti...</td>\n",
       "      <td>We investigate how financial permeation affect...</td>\n",
       "      <td>2022</td>\n",
       "      <td>China Economic Review</td>\n",
       "      <td>Bank branch expansion; Financial permeation; F...</td>\n",
       "    </tr>\n",
       "    <tr>\n",
       "      <th>2</th>\n",
       "      <td>Dzandu M.D., Hanu C., Amegbe H.</td>\n",
       "      <td>56590001600;57201152816;57194904537;</td>\n",
       "      <td>Gamification of mobile money payment for gener...</td>\n",
       "      <td>This study develops and tests an integrated mo...</td>\n",
       "      <td>2022</td>\n",
       "      <td>Technological Forecasting and Social Change</td>\n",
       "      <td>Customer value; FinTech; Gamification; Marketi...</td>\n",
       "    </tr>\n",
       "    <tr>\n",
       "      <th>3</th>\n",
       "      <td>Grassi L., Fantaccini S.</td>\n",
       "      <td>57192656409;57895835500;</td>\n",
       "      <td>An overview of Fintech applications to solve t...</td>\n",
       "      <td>Crowdfunding is emerging as an alternative for...</td>\n",
       "      <td>2022</td>\n",
       "      <td>Financial Innovation</td>\n",
       "      <td>Crowdfunding; Fintech; Health crowdfunding; He...</td>\n",
       "    </tr>\n",
       "    <tr>\n",
       "      <th>4</th>\n",
       "      <td>DeFusco A.A., Tang H., Yannelis C.</td>\n",
       "      <td>57193852071;57890330600;55413678100;</td>\n",
       "      <td>Measuring the welfare cost of asymmetric infor...</td>\n",
       "      <td>Information asymmetries are known in theory to...</td>\n",
       "      <td>2022</td>\n",
       "      <td>Journal of Financial Economics</td>\n",
       "      <td>Asymmetric information; Consumer credit; Exper...</td>\n",
       "    </tr>\n",
       "  </tbody>\n",
       "</table>\n",
       "</div>"
      ],
      "text/plain": [
       "                              Authors                          Author(s) ID  \\\n",
       "0                   Yang T., Zhang X.              57907798100;56342888200;   \n",
       "1           Wang X., Wang Y., Zhao Y.  57193015825;57901727900;57901783600;   \n",
       "2     Dzandu M.D., Hanu C., Amegbe H.  56590001600;57201152816;57194904537;   \n",
       "3            Grassi L., Fantaccini S.              57192656409;57895835500;   \n",
       "4  DeFusco A.A., Tang H., Yannelis C.  57193852071;57890330600;55413678100;   \n",
       "\n",
       "                                               Title  \\\n",
       "0  FinTech adoption and financial inclusion: Evid...   \n",
       "1  Financial permeation and rural poverty reducti...   \n",
       "2  Gamification of mobile money payment for gener...   \n",
       "3  An overview of Fintech applications to solve t...   \n",
       "4  Measuring the welfare cost of asymmetric infor...   \n",
       "\n",
       "                                            Abstract  Year  \\\n",
       "0  This paper provides micro-level evidence on ho...  2022   \n",
       "1  We investigate how financial permeation affect...  2022   \n",
       "2  This study develops and tests an integrated mo...  2022   \n",
       "3  Crowdfunding is emerging as an alternative for...  2022   \n",
       "4  Information asymmetries are known in theory to...  2022   \n",
       "\n",
       "                                  Source title  \\\n",
       "0               Journal of Banking and Finance   \n",
       "1                        China Economic Review   \n",
       "2  Technological Forecasting and Social Change   \n",
       "3                         Financial Innovation   \n",
       "4               Journal of Financial Economics   \n",
       "\n",
       "                                     Author Keywords  \n",
       "0  Consumption; Consumption inequality; Credit co...  \n",
       "1  Bank branch expansion; Financial permeation; F...  \n",
       "2  Customer value; FinTech; Gamification; Marketi...  \n",
       "3  Crowdfunding; Fintech; Health crowdfunding; He...  \n",
       "4  Asymmetric information; Consumer credit; Exper...  "
      ]
     },
     "execution_count": 203,
     "metadata": {},
     "output_type": "execute_result"
    }
   ],
   "source": [
    "#Specify data columns for Natural Language Processing\n",
    "data_NLP = data[['Authors', 'Author(s) ID','Title', 'Abstract','Year', 'Source title', 'Author Keywords']]\n",
    "data_NLP.head()"
   ]
  },
  {
   "cell_type": "code",
   "execution_count": 204,
   "metadata": {},
   "outputs": [
    {
     "name": "stderr",
     "output_type": "stream",
     "text": [
      "C:\\Users\\anett\\AppData\\Local\\Temp\\ipykernel_11848\\3485860570.py:2: SettingWithCopyWarning: \n",
      "A value is trying to be set on a copy of a slice from a DataFrame.\n",
      "Try using .loc[row_indexer,col_indexer] = value instead\n",
      "\n",
      "See the caveats in the documentation: https://pandas.pydata.org/pandas-docs/stable/user_guide/indexing.html#returning-a-view-versus-a-copy\n",
      "  data_NLP ['text'] = data_NLP['Title'] + '. ' + data_NLP['Abstract']\n"
     ]
    }
   ],
   "source": [
    "#Adding together title and abstract for NLP\n",
    "data_NLP ['text'] = data_NLP['Title'] + '. ' + data_NLP['Abstract']"
   ]
  },
  {
   "cell_type": "markdown",
   "metadata": {},
   "source": [
    "## Network Analysis"
   ]
  },
  {
   "cell_type": "markdown",
   "metadata": {},
   "source": [
    "In this section we look into networks between authors. The aim is to identify co-authorships and locate important autors as well as detecting communities.\n",
    "\n",
    "It is an undirecet network since we have authors working on papers together. Also, the nature of the network is bipartite as the nodes can be authors or papers. Hence, authors are connected if they have been working on the same paper. Furthermore, the network should not consist of self-loops, since the authors cannot co-author with themselves. "
   ]
  },
  {
   "cell_type": "markdown",
   "metadata": {},
   "source": [
    "### Importing packages and preparing data for Network Analysis"
   ]
  },
  {
   "cell_type": "code",
   "execution_count": 205,
   "metadata": {},
   "outputs": [],
   "source": [
    "# pip install nxviz"
   ]
  },
  {
   "cell_type": "code",
   "execution_count": 206,
   "metadata": {},
   "outputs": [],
   "source": [
    "# pip install networkx"
   ]
  },
  {
   "cell_type": "code",
   "execution_count": 207,
   "metadata": {},
   "outputs": [],
   "source": [
    "#Importing packages for network analysis\n",
    "import networkx as nx\n",
    "import nxviz as nv\n",
    "import matplotlib.pyplot as plt \n"
   ]
  },
  {
   "cell_type": "code",
   "execution_count": 208,
   "metadata": {},
   "outputs": [
    {
     "name": "stdout",
     "output_type": "stream",
     "text": [
      "<class 'pandas.core.frame.DataFrame'>\n",
      "RangeIndex: 3400 entries, 0 to 3399\n",
      "Data columns (total 8 columns):\n",
      " #   Column        Non-Null Count  Dtype  \n",
      "---  ------        --------------  -----  \n",
      " 0   Authors       3400 non-null   object \n",
      " 1   Author(s) ID  3399 non-null   object \n",
      " 2   Title         3400 non-null   object \n",
      " 3   Year          3400 non-null   int64  \n",
      " 4   Affiliations  3305 non-null   object \n",
      " 5   Cited by      2164 non-null   float64\n",
      " 6   References    3212 non-null   object \n",
      " 7   Source title  3400 non-null   object \n",
      "dtypes: float64(1), int64(1), object(6)\n",
      "memory usage: 212.6+ KB\n"
     ]
    }
   ],
   "source": [
    "data_NA.info()"
   ]
  },
  {
   "cell_type": "code",
   "execution_count": 209,
   "metadata": {},
   "outputs": [],
   "source": [
    "#Splitting up the data so each author has a row for each paper he/she has been working on\n",
    "# data_NA['Authors'] = data_NA['Authors'].str.split(',')\n",
    "# data_NA.explode('Authors').reset_index(drop=True)"
   ]
  },
  {
   "cell_type": "code",
   "execution_count": 210,
   "metadata": {},
   "outputs": [],
   "source": [
    "#Splitting up the data so each author has a row for each paper he/she has been working on\n",
    "data_NA2 = data_NA.assign(Authors=data_NA['Authors'].str.split(',')).explode('Authors', ignore_index=True)\n",
    "\n",
    "\n",
    "# https://stackoverflow.com/questions/67495847/pandas-to-create-new-rows-from-a-cell-that-has-multiple-values-in-python\n",
    "# https://stackoverflow.com/questions/72063907/how-to-save-a-data-frame-with-with-the-split-explode-method-in-a-separte-row "
   ]
  },
  {
   "cell_type": "code",
   "execution_count": 211,
   "metadata": {},
   "outputs": [
    {
     "data": {
      "text/plain": [
       "0             Yang T.\n",
       "1            Zhang X.\n",
       "2             Wang X.\n",
       "3             Wang Y.\n",
       "4             Zhao Y.\n",
       "            ...      \n",
       "9644         Zhang W.\n",
       "9645      Danial S.N.\n",
       "9646        Noor S.R.\n",
       "9647      Usmani B.A.\n",
       "9648     Zaidi S.J.H.\n",
       "Name: Authors, Length: 9649, dtype: object"
      ]
     },
     "execution_count": 211,
     "metadata": {},
     "output_type": "execute_result"
    }
   ],
   "source": [
    "data_NA2['Authors']"
   ]
  },
  {
   "cell_type": "code",
   "execution_count": 212,
   "metadata": {},
   "outputs": [
    {
     "name": "stdout",
     "output_type": "stream",
     "text": [
      "<class 'pandas.core.frame.DataFrame'>\n",
      "RangeIndex: 9649 entries, 0 to 9648\n",
      "Data columns (total 8 columns):\n",
      " #   Column        Non-Null Count  Dtype  \n",
      "---  ------        --------------  -----  \n",
      " 0   Authors       9649 non-null   object \n",
      " 1   Author(s) ID  9648 non-null   object \n",
      " 2   Title         9649 non-null   object \n",
      " 3   Year          9649 non-null   int64  \n",
      " 4   Affiliations  9522 non-null   object \n",
      " 5   Cited by      6387 non-null   float64\n",
      " 6   References    9286 non-null   object \n",
      " 7   Source title  9649 non-null   object \n",
      "dtypes: float64(1), int64(1), object(6)\n",
      "memory usage: 603.2+ KB\n"
     ]
    }
   ],
   "source": [
    "data_NA2.info()"
   ]
  },
  {
   "cell_type": "code",
   "execution_count": 217,
   "metadata": {},
   "outputs": [],
   "source": [
    "data_NA3 = data_NA.assign(Authors=data_NA['Author(s) ID'].str.split(',')).explode('Author(s) ID', ignore_index=True)"
   ]
  },
  {
   "cell_type": "code",
   "execution_count": 218,
   "metadata": {},
   "outputs": [
    {
     "data": {
      "text/html": [
       "<div>\n",
       "<style scoped>\n",
       "    .dataframe tbody tr th:only-of-type {\n",
       "        vertical-align: middle;\n",
       "    }\n",
       "\n",
       "    .dataframe tbody tr th {\n",
       "        vertical-align: top;\n",
       "    }\n",
       "\n",
       "    .dataframe thead th {\n",
       "        text-align: right;\n",
       "    }\n",
       "</style>\n",
       "<table border=\"1\" class=\"dataframe\">\n",
       "  <thead>\n",
       "    <tr style=\"text-align: right;\">\n",
       "      <th></th>\n",
       "      <th>Authors</th>\n",
       "      <th>Author(s) ID</th>\n",
       "      <th>Title</th>\n",
       "      <th>Year</th>\n",
       "      <th>Affiliations</th>\n",
       "      <th>Cited by</th>\n",
       "      <th>References</th>\n",
       "      <th>Source title</th>\n",
       "    </tr>\n",
       "  </thead>\n",
       "  <tbody>\n",
       "    <tr>\n",
       "      <th>0</th>\n",
       "      <td>NaN</td>\n",
       "      <td>57907798100</td>\n",
       "      <td>FinTech adoption and financial inclusion: Evid...</td>\n",
       "      <td>2022</td>\n",
       "      <td>Department of Financial Statistics, School of ...</td>\n",
       "      <td>NaN</td>\n",
       "      <td>Agarwal, S., Basu, D., Ghosh, P., Pareek, B., ...</td>\n",
       "      <td>Journal of Banking and Finance</td>\n",
       "    </tr>\n",
       "    <tr>\n",
       "      <th>1</th>\n",
       "      <td>NaN</td>\n",
       "      <td>56342888200</td>\n",
       "      <td>FinTech adoption and financial inclusion: Evid...</td>\n",
       "      <td>2022</td>\n",
       "      <td>Department of Financial Statistics, School of ...</td>\n",
       "      <td>NaN</td>\n",
       "      <td>Agarwal, S., Basu, D., Ghosh, P., Pareek, B., ...</td>\n",
       "      <td>Journal of Banking and Finance</td>\n",
       "    </tr>\n",
       "    <tr>\n",
       "      <th>2</th>\n",
       "      <td>NaN</td>\n",
       "      <td></td>\n",
       "      <td>FinTech adoption and financial inclusion: Evid...</td>\n",
       "      <td>2022</td>\n",
       "      <td>Department of Financial Statistics, School of ...</td>\n",
       "      <td>NaN</td>\n",
       "      <td>Agarwal, S., Basu, D., Ghosh, P., Pareek, B., ...</td>\n",
       "      <td>Journal of Banking and Finance</td>\n",
       "    </tr>\n",
       "    <tr>\n",
       "      <th>3</th>\n",
       "      <td>NaN</td>\n",
       "      <td>57193015825</td>\n",
       "      <td>Financial permeation and rural poverty reducti...</td>\n",
       "      <td>2022</td>\n",
       "      <td>College of Finance and Statistics, Hunan Unive...</td>\n",
       "      <td>NaN</td>\n",
       "      <td>Aghion, P., Bolton, P., A theory of trickle-do...</td>\n",
       "      <td>China Economic Review</td>\n",
       "    </tr>\n",
       "    <tr>\n",
       "      <th>4</th>\n",
       "      <td>NaN</td>\n",
       "      <td>57901727900</td>\n",
       "      <td>Financial permeation and rural poverty reducti...</td>\n",
       "      <td>2022</td>\n",
       "      <td>College of Finance and Statistics, Hunan Unive...</td>\n",
       "      <td>NaN</td>\n",
       "      <td>Aghion, P., Bolton, P., A theory of trickle-do...</td>\n",
       "      <td>China Economic Review</td>\n",
       "    </tr>\n",
       "    <tr>\n",
       "      <th>...</th>\n",
       "      <td>...</td>\n",
       "      <td>...</td>\n",
       "      <td>...</td>\n",
       "      <td>...</td>\n",
       "      <td>...</td>\n",
       "      <td>...</td>\n",
       "      <td>...</td>\n",
       "      <td>...</td>\n",
       "    </tr>\n",
       "    <tr>\n",
       "      <th>12981</th>\n",
       "      <td>NaN</td>\n",
       "      <td>24823887800</td>\n",
       "      <td>A dynamical system and neural network perspect...</td>\n",
       "      <td>2008</td>\n",
       "      <td>Dadabhoy Institute of Higher Education, SNPA-1...</td>\n",
       "      <td>NaN</td>\n",
       "      <td>Box, G.E.P., Jenkins, G.M., Reinsel, G.C., (19...</td>\n",
       "      <td>Communications in Computer and Information Sci...</td>\n",
       "    </tr>\n",
       "    <tr>\n",
       "      <th>12982</th>\n",
       "      <td>NaN</td>\n",
       "      <td>24825002200</td>\n",
       "      <td>A dynamical system and neural network perspect...</td>\n",
       "      <td>2008</td>\n",
       "      <td>Dadabhoy Institute of Higher Education, SNPA-1...</td>\n",
       "      <td>NaN</td>\n",
       "      <td>Box, G.E.P., Jenkins, G.M., Reinsel, G.C., (19...</td>\n",
       "      <td>Communications in Computer and Information Sci...</td>\n",
       "    </tr>\n",
       "    <tr>\n",
       "      <th>12983</th>\n",
       "      <td>NaN</td>\n",
       "      <td>26666352700</td>\n",
       "      <td>A dynamical system and neural network perspect...</td>\n",
       "      <td>2008</td>\n",
       "      <td>Dadabhoy Institute of Higher Education, SNPA-1...</td>\n",
       "      <td>NaN</td>\n",
       "      <td>Box, G.E.P., Jenkins, G.M., Reinsel, G.C., (19...</td>\n",
       "      <td>Communications in Computer and Information Sci...</td>\n",
       "    </tr>\n",
       "    <tr>\n",
       "      <th>12984</th>\n",
       "      <td>NaN</td>\n",
       "      <td>57549810600</td>\n",
       "      <td>A dynamical system and neural network perspect...</td>\n",
       "      <td>2008</td>\n",
       "      <td>Dadabhoy Institute of Higher Education, SNPA-1...</td>\n",
       "      <td>NaN</td>\n",
       "      <td>Box, G.E.P., Jenkins, G.M., Reinsel, G.C., (19...</td>\n",
       "      <td>Communications in Computer and Information Sci...</td>\n",
       "    </tr>\n",
       "    <tr>\n",
       "      <th>12985</th>\n",
       "      <td>NaN</td>\n",
       "      <td></td>\n",
       "      <td>A dynamical system and neural network perspect...</td>\n",
       "      <td>2008</td>\n",
       "      <td>Dadabhoy Institute of Higher Education, SNPA-1...</td>\n",
       "      <td>NaN</td>\n",
       "      <td>Box, G.E.P., Jenkins, G.M., Reinsel, G.C., (19...</td>\n",
       "      <td>Communications in Computer and Information Sci...</td>\n",
       "    </tr>\n",
       "  </tbody>\n",
       "</table>\n",
       "<p>12986 rows × 8 columns</p>\n",
       "</div>"
      ],
      "text/plain": [
       "       Authors Author(s) ID  \\\n",
       "0          NaN  57907798100   \n",
       "1          NaN  56342888200   \n",
       "2          NaN                \n",
       "3          NaN  57193015825   \n",
       "4          NaN  57901727900   \n",
       "...        ...          ...   \n",
       "12981      NaN  24823887800   \n",
       "12982      NaN  24825002200   \n",
       "12983      NaN  26666352700   \n",
       "12984      NaN  57549810600   \n",
       "12985      NaN                \n",
       "\n",
       "                                                   Title  Year  \\\n",
       "0      FinTech adoption and financial inclusion: Evid...  2022   \n",
       "1      FinTech adoption and financial inclusion: Evid...  2022   \n",
       "2      FinTech adoption and financial inclusion: Evid...  2022   \n",
       "3      Financial permeation and rural poverty reducti...  2022   \n",
       "4      Financial permeation and rural poverty reducti...  2022   \n",
       "...                                                  ...   ...   \n",
       "12981  A dynamical system and neural network perspect...  2008   \n",
       "12982  A dynamical system and neural network perspect...  2008   \n",
       "12983  A dynamical system and neural network perspect...  2008   \n",
       "12984  A dynamical system and neural network perspect...  2008   \n",
       "12985  A dynamical system and neural network perspect...  2008   \n",
       "\n",
       "                                            Affiliations  Cited by  \\\n",
       "0      Department of Financial Statistics, School of ...       NaN   \n",
       "1      Department of Financial Statistics, School of ...       NaN   \n",
       "2      Department of Financial Statistics, School of ...       NaN   \n",
       "3      College of Finance and Statistics, Hunan Unive...       NaN   \n",
       "4      College of Finance and Statistics, Hunan Unive...       NaN   \n",
       "...                                                  ...       ...   \n",
       "12981  Dadabhoy Institute of Higher Education, SNPA-1...       NaN   \n",
       "12982  Dadabhoy Institute of Higher Education, SNPA-1...       NaN   \n",
       "12983  Dadabhoy Institute of Higher Education, SNPA-1...       NaN   \n",
       "12984  Dadabhoy Institute of Higher Education, SNPA-1...       NaN   \n",
       "12985  Dadabhoy Institute of Higher Education, SNPA-1...       NaN   \n",
       "\n",
       "                                              References  \\\n",
       "0      Agarwal, S., Basu, D., Ghosh, P., Pareek, B., ...   \n",
       "1      Agarwal, S., Basu, D., Ghosh, P., Pareek, B., ...   \n",
       "2      Agarwal, S., Basu, D., Ghosh, P., Pareek, B., ...   \n",
       "3      Aghion, P., Bolton, P., A theory of trickle-do...   \n",
       "4      Aghion, P., Bolton, P., A theory of trickle-do...   \n",
       "...                                                  ...   \n",
       "12981  Box, G.E.P., Jenkins, G.M., Reinsel, G.C., (19...   \n",
       "12982  Box, G.E.P., Jenkins, G.M., Reinsel, G.C., (19...   \n",
       "12983  Box, G.E.P., Jenkins, G.M., Reinsel, G.C., (19...   \n",
       "12984  Box, G.E.P., Jenkins, G.M., Reinsel, G.C., (19...   \n",
       "12985  Box, G.E.P., Jenkins, G.M., Reinsel, G.C., (19...   \n",
       "\n",
       "                                            Source title  \n",
       "0                         Journal of Banking and Finance  \n",
       "1                         Journal of Banking and Finance  \n",
       "2                         Journal of Banking and Finance  \n",
       "3                                  China Economic Review  \n",
       "4                                  China Economic Review  \n",
       "...                                                  ...  \n",
       "12981  Communications in Computer and Information Sci...  \n",
       "12982  Communications in Computer and Information Sci...  \n",
       "12983  Communications in Computer and Information Sci...  \n",
       "12984  Communications in Computer and Information Sci...  \n",
       "12985  Communications in Computer and Information Sci...  \n",
       "\n",
       "[12986 rows x 8 columns]"
      ]
     },
     "execution_count": 218,
     "metadata": {},
     "output_type": "execute_result"
    }
   ],
   "source": [
    "data_NA3"
   ]
  },
  {
   "cell_type": "code",
   "execution_count": 213,
   "metadata": {},
   "outputs": [],
   "source": [
    "# data_NA3 = data_NA.assign(AuthorsID=data_NA['Author(s) ID'].str.split(';')).explode('Author(s) ID', ignore_index=True)"
   ]
  },
  {
   "cell_type": "code",
   "execution_count": 214,
   "metadata": {},
   "outputs": [
    {
     "data": {
      "text/plain": [
       "0                               57907798100;56342888200;\n",
       "1                   57193015825;57901727900;57901783600;\n",
       "2                   56590001600;57201152816;57194904537;\n",
       "3                               57192656409;57895835500;\n",
       "4                   57193852071;57890330600;55413678100;\n",
       "                              ...                       \n",
       "3395                                        35072693600;\n",
       "3396                            57221353725;55762978100;\n",
       "3397                                        36617357100;\n",
       "3398                            55479146300;56621528900;\n",
       "3399    24823887800;24825002200;26666352700;57549810600;\n",
       "Name: Author(s) ID, Length: 3400, dtype: object"
      ]
     },
     "execution_count": 214,
     "metadata": {},
     "output_type": "execute_result"
    }
   ],
   "source": [
    "# data_NA3['Author(s) ID']"
   ]
  },
  {
   "cell_type": "code",
   "execution_count": null,
   "metadata": {},
   "outputs": [],
   "source": [
    "data_NA3.info()"
   ]
  },
  {
   "cell_type": "code",
   "execution_count": null,
   "metadata": {},
   "outputs": [],
   "source": [
    "# TEST \n",
    "\n",
    "# data_NA = data_NA.assign(AuthorsID=data_NA['Author(s) ID'].str.split(';')).explode('Author(s) ID', ignore_index=True)"
   ]
  },
  {
   "cell_type": "code",
   "execution_count": null,
   "metadata": {},
   "outputs": [],
   "source": [
    "# data_NA['Author(s) ID']"
   ]
  },
  {
   "cell_type": "code",
   "execution_count": null,
   "metadata": {},
   "outputs": [],
   "source": [
    "data_NA.info()"
   ]
  },
  {
   "cell_type": "code",
   "execution_count": null,
   "metadata": {},
   "outputs": [],
   "source": [
    "#Splitting up the data so each author has a row for each paper he/she has been working on\n",
    "# data_NA['Authors'] = data_NA['Authors'].str.split(',')\n",
    "# data_NA.explode('Authors', ignore_index=True)"
   ]
  },
  {
   "cell_type": "code",
   "execution_count": null,
   "metadata": {},
   "outputs": [],
   "source": [
    "#Splitting up the data so each author has a row for each paper he/she has been working on\n",
    "# data_NA['Author(s) ID'] = data_NA['Author(s) ID'].str.split(';')\n",
    "# data_NA.explode('Author(s) ID').reset_index(drop=True)\n",
    "# https://stackoverflow.com/questions/67495847/pandas-to-create-new-rows-from-a-cell-that-has-multiple-values-in-python"
   ]
  },
  {
   "cell_type": "markdown",
   "metadata": {},
   "source": [
    "### Co-authorship network"
   ]
  },
  {
   "cell_type": "markdown",
   "metadata": {},
   "source": [
    "Here we specify a network of co-authorships computing unpartite projections of a bipartite graph. The network shows which authors have been working on papers together. "
   ]
  },
  {
   "cell_type": "code",
   "execution_count": null,
   "metadata": {},
   "outputs": [],
   "source": [
    "# Constructing a graph \n",
    "G = nx.Graph()"
   ]
  },
  {
   "cell_type": "code",
   "execution_count": null,
   "metadata": {},
   "outputs": [],
   "source": [
    "#Nodelist\n",
    "G.add_nodes_from(data_NA['Author(s) ID'], bipartite='Author(s) ID')\n",
    "G.add_nodes_from(data_NA['Title'], bipartite='Title')\n",
    "# G.nodes()\n"
   ]
  },
  {
   "cell_type": "code",
   "execution_count": null,
   "metadata": {},
   "outputs": [],
   "source": [
    "#Edgelist\n",
    "G.add_edges_from(zip(data_NA['Author(s) ID'], data_NA['Title']))\n",
    "# G.edges()"
   ]
  },
  {
   "cell_type": "code",
   "execution_count": null,
   "metadata": {},
   "outputs": [],
   "source": [
    "#Adjacency Matrix\n",
    "data_select = data[['Author(s) ID', 'Title']]\n",
    "edges = pd.merge(data_select, data_select, on='Title')\n",
    "edges.head()"
   ]
  },
  {
   "cell_type": "code",
   "execution_count": null,
   "metadata": {},
   "outputs": [],
   "source": [
    "#Do not want self loops\n",
    "# edges = edges[edges.Author(s) ID_x != edges.Author(s) ID_y]"
   ]
  },
  {
   "cell_type": "code",
   "execution_count": null,
   "metadata": {},
   "outputs": [],
   "source": [
    "edges = edges.groupby(['Author(s) ID_x', 'Author(s) ID_y']).size().reset_index()"
   ]
  },
  {
   "cell_type": "code",
   "execution_count": null,
   "metadata": {},
   "outputs": [],
   "source": [
    "#Drawing the network\n",
    "# nx.draw(G)"
   ]
  },
  {
   "cell_type": "markdown",
   "metadata": {},
   "source": [
    "### Centrality"
   ]
  },
  {
   "cell_type": "code",
   "execution_count": null,
   "metadata": {},
   "outputs": [],
   "source": [
    "# pip install holoviews"
   ]
  },
  {
   "cell_type": "code",
   "execution_count": null,
   "metadata": {},
   "outputs": [],
   "source": [
    "# pip install bokeh"
   ]
  },
  {
   "cell_type": "code",
   "execution_count": null,
   "metadata": {},
   "outputs": [],
   "source": [
    "# Import the libraries and link to the bokeh backend\n",
    "import holoviews as hv\n",
    "from holoviews import opts\n",
    "hv.extension('bokeh')\n",
    "from bokeh.plotting import show\n",
    "\n",
    "# Setting the default figure size a bit larger\n",
    "defaults = dict(width=750, height=750, padding=0.1,\n",
    "                xaxis=None, yaxis=None)\n",
    "hv.opts.defaults(\n",
    "    opts.EdgePaths(**defaults), opts.Graph(**defaults), opts.Nodes(**defaults))"
   ]
  },
  {
   "cell_type": "code",
   "execution_count": null,
   "metadata": {},
   "outputs": [],
   "source": [
    "G_layout = nx.layout.fruchterman_reingold_layout(G)"
   ]
  },
  {
   "cell_type": "markdown",
   "metadata": {},
   "source": [
    "#### Degree Centrality\n",
    "Degree Centrality is a measure of how many ties a nodes has. So a author that have co-authored with more authors will have a higher centrality degree."
   ]
  },
  {
   "cell_type": "code",
   "execution_count": null,
   "metadata": {},
   "outputs": [],
   "source": [
    "#Degree centrality \n",
    "cent_degree = dict(nx.degree(G))\n",
    "\n",
    "nx.set_node_attributes(G, cent_degree, 'cent_degree')\n",
    "\n",
    "g_plot = hv.Graph.from_networkx(G, G_layout).opts(tools=['hover'],\n",
    "                                                  node_size='cent_degree')\n",
    "\n",
    "show(hv.render(g_plot))"
   ]
  },
  {
   "cell_type": "markdown",
   "metadata": {},
   "source": [
    "#### Eigenvector Centrality\n",
    "Eigenvector Centrality is a measure of the influence a node has on a network - it takes into account the centrality of the autors connections."
   ]
  },
  {
   "cell_type": "code",
   "execution_count": null,
   "metadata": {},
   "outputs": [],
   "source": [
    "#Eigenvector centrality\n",
    "cent_eigen = dict(nx.eigenvector_centrality(G))\n",
    "\n",
    "for  i in cent_eigen:\n",
    "  cent_eigen[i] = cent_eigen[i]*100\n",
    "\n",
    "nx.set_node_attributes(G, cent_eigen, 'cent_eigen')\n",
    "\n",
    "g_plot = hv.Graph.from_networkx(G, G_layout).opts(tools=['hover'],\n",
    "                                                  node_size='cent_eigen' )\n",
    "\n",
    "show(hv.render(g_plot))"
   ]
  },
  {
   "cell_type": "markdown",
   "metadata": {},
   "source": [
    "#### Betweenness Centrality \n",
    "Betweenness Centrality is a measure of how often a author are in the shortes path between two other authors. It has to do with information passing between others. "
   ]
  },
  {
   "cell_type": "code",
   "execution_count": null,
   "metadata": {},
   "outputs": [],
   "source": [
    "#Betweenness centrality\n",
    "cent_between = nx.betweenness_centrality(G)\n",
    "\n",
    "for  i in cent_between:\n",
    "  cent_between[i] = cent_between[i]*100\n",
    "\n",
    "nx.set_node_attributes(G, cent_between, 'cent_between')\n",
    "\n",
    "g_plot = hv.Graph.from_networkx(G, G_layout).opts(tools=['hover'],\n",
    "                                                  node_size='cent_between' )\n",
    "\n",
    "show(hv.render(g_plot))"
   ]
  },
  {
   "cell_type": "markdown",
   "metadata": {},
   "source": [
    "### Communities"
   ]
  },
  {
   "cell_type": "code",
   "execution_count": null,
   "metadata": {},
   "outputs": [],
   "source": [
    "#Form groups that have a maximum of within-connectivity and a minimum between connectivity. Using The Lovain Algorithm to detect communities. "
   ]
  },
  {
   "cell_type": "code",
   "execution_count": null,
   "metadata": {},
   "outputs": [],
   "source": [
    "#Assortiativity\n",
    "# G_friendship = nx.from_pandas_adjacency(mat_friendship, create_using=nx.DiGraph)\n",
    "# nx.attribute_assortativity_coefficient(G_friendship, 'seniority')"
   ]
  },
  {
   "cell_type": "markdown",
   "metadata": {},
   "source": [
    "### The network over time (evolvement of the network)"
   ]
  }
 ],
 "metadata": {
  "kernelspec": {
   "display_name": "Python 3.10.7 64-bit",
   "language": "python",
   "name": "python3"
  },
  "language_info": {
   "codemirror_mode": {
    "name": "ipython",
    "version": 3
   },
   "file_extension": ".py",
   "mimetype": "text/x-python",
   "name": "python",
   "nbconvert_exporter": "python",
   "pygments_lexer": "ipython3",
   "version": "3.10.7"
  },
  "orig_nbformat": 4,
  "vscode": {
   "interpreter": {
    "hash": "ead7228e3ce83e41bf70533ef6cb908cca47080070bf26203aecc408ed5f3ad8"
   }
  }
 },
 "nbformat": 4,
 "nbformat_minor": 2
}

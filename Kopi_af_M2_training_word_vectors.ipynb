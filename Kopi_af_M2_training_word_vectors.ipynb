{
  "cells": [
    {
      "cell_type": "markdown",
      "metadata": {
        "id": "VLbsQbzzYlwp"
      },
      "source": [
        "# Training customized word embeddings\n",
        "\n",
        "Word embeddings became big around 2013 and are linked to [this paper](https://arxiv.org/abs/1301.3781) with the beautiful title \n",
        "*Efficient Estimation of Word Representations in Vector Space* by Tomas Mokolov et al. coming out of Google. This was the foundation of Word2Vec.\n",
        "\n",
        "The idea behind it is easiest summarized by the following quote: \n",
        "\n",
        "\n",
        "> *You shall know a word by the company it keeps (Firth, J. R. 1957:11)*\n",
        "\n",
        "![](https://ruder.io/content/images/size/w2000/2016/04/word_embeddings_colah.png)\n",
        "\n",
        "Let me start with a fascinating example of word embeddings in practice. Below, you can see a figure from the paper: \n",
        "*Dynamic Word Embeddings for Evolving Semantic Discovery*. Here (in simple terms) the researchers estimated word vectors for from textual inputs in different time-frames. They picked out some terms and person that obviously changed *their company* over the years. Then they look at the relative position of these terms compared to terms that did not change much (anchors). If you are interested in this kind of research, check out [this blog](https://blog.acolyer.org/2018/02/22/dynamic-word-embeddings-for-evolving-semantic-discovery/) that describes the paper briefly or the [original paper](https://arxiv.org/abs/1703.00607).\n",
        "\n",
        "![alt text](https://adriancolyer.files.wordpress.com/2018/02/evolving-word-embeddings-fig-1.jpeg)\n",
        "\n",
        "Word embeddings allow us to create term representations that \"learn\" meaning from semantic and syntactic features. These models take a sequence of sentences as an input and scan for all individual terms that appear in the whole corpus and all their occurrences. Such contextual learning seems to be able to pick up non-trivial conceptual details and it is this class of models that today enable technologies such as chatbots, machine translation and much more.\n",
        "\n",
        "The early word embedding models were Word2Vec and [GloVe](https://nlp.stanford.edu/projects/glove/).\n",
        "In December 2017 Facebook presented [fastText](https://fasttext.cc/) (by the way - by 2017 Tomas Mikolov was working for Facebook and is one of the authors of the [paper](https://arxiv.org/abs/1607.04606) that introduces the research behind fastText). This model extends the idea of Word2Vec, enriching these vectors by information from sub-word elements. What does that mean? Words are not only defined by surrounding words but in addition also by the various syllables that make up the word. Why should that be a good idea? Well, now words such as *apple* and *apples* do not only get similar vectors due to them often sharing context but also because they are composed of the same sub-word elements. This comes in particularly handy when we are dealing with language that have a rich morphology such as Turkish or Russian.  This is also great when working with web-text, which is often messy and misspelt.\n",
        "\n",
        "The current state-of-the-art transformer models go even further and implement context-specificity (a word may change meaning depending on the context in which it occurs)\n",
        "\n",
        "Now the good news: You will find pre-trained vectors from all mentioned models online. They will do great in most cases. However, when working with specific tasks: Some obscure languages and/or specific technical jargon (specific scientific field or industry e.g. finance, insurance), it is nice to know how to train such word-vectors.\n",
        "\n",
        "\n",
        "In this tutorial we will train the \"classic\" Word2Vec model, considering bi-grams. We will also look a bit into data-engineering issues in sequence-training. Finally, we will look at how we can use such models for text representation beyond individual words.\n",
        "\n",
        "## Data\n",
        "\n",
        "The data used here are 10k cooking related posts from Reddit. They come in JSON-lines format and can be either downloaded first or opened via requests.\n",
        "\n",
        "## Plan of attack\n",
        "In this tutorial we will not be using Spacy, as it is not fast enough for use in training of large language models.\n",
        "The intent is to understand training from disk - where the file is not opened (with e.g. pandas) and an object in memory but streamed from disk."
      ]
    },
    {
      "cell_type": "code",
      "execution_count": 1,
      "metadata": {
        "colab": {
          "base_uri": "https://localhost:8080/"
        },
        "id": "S6qffJDvqFVq",
        "outputId": "e51c053a-b80d-4e84-aa86-33f7be7b59da"
      },
      "outputs": [
        {
          "name": "stdout",
          "output_type": "stream",
          "text": [
            "--2022-11-01 15:04:31--  https://raw.githubusercontent.com/aaubs/ds-master/main/data/reddit_r_cooking_sample.jsonl\n",
            "Resolving raw.githubusercontent.com (raw.githubusercontent.com)... 185.199.108.133, 185.199.111.133, 185.199.109.133, ...\n",
            "Connecting to raw.githubusercontent.com (raw.githubusercontent.com)|185.199.108.133|:443... connected.\n",
            "HTTP request sent, awaiting response... 200 OK\n",
            "Length: 2675456 (2.6M) [text/plain]\n",
            "Saving to: ‘reddit_r_cooking_sample.jsonl’\n",
            "\n",
            "reddit_r_cooking_sa 100%[===================>]   2.55M  --.-KB/s    in 0.08s   \n",
            "\n",
            "2022-11-01 15:04:32 (32.9 MB/s) - ‘reddit_r_cooking_sample.jsonl’ saved [2675456/2675456]\n",
            "\n"
          ]
        }
      ],
      "source": [
        "# download data (optional when training from memory)\n",
        "!wget https://raw.githubusercontent.com/aaubs/ds-master/main/data/reddit_r_cooking_sample.jsonl"
      ]
    },
    {
      "cell_type": "code",
      "execution_count": 2,
      "metadata": {
        "colab": {
          "base_uri": "https://localhost:8080/"
        },
        "id": "k_iGYh4etyYt",
        "outputId": "cef95594-10db-4019-e09b-a1b4ed92d4af"
      },
      "outputs": [
        {
          "name": "stdout",
          "output_type": "stream",
          "text": [
            "Looking in indexes: https://pypi.org/simple, https://us-python.pkg.dev/colab-wheels/public/simple/\n",
            "Requirement already satisfied: gensim in /usr/local/lib/python3.7/dist-packages (3.6.0)\n",
            "Collecting gensim\n",
            "  Downloading gensim-4.2.0-cp37-cp37m-manylinux_2_12_x86_64.manylinux2010_x86_64.whl (24.1 MB)\n",
            "\u001b[K     |████████████████████████████████| 24.1 MB 1.6 MB/s \n",
            "\u001b[?25hRequirement already satisfied: scipy>=0.18.1 in /usr/local/lib/python3.7/dist-packages (from gensim) (1.7.3)\n",
            "Requirement already satisfied: smart-open>=1.8.1 in /usr/local/lib/python3.7/dist-packages (from gensim) (5.2.1)\n",
            "Requirement already satisfied: numpy>=1.17.0 in /usr/local/lib/python3.7/dist-packages (from gensim) (1.21.6)\n",
            "Installing collected packages: gensim\n",
            "  Attempting uninstall: gensim\n",
            "    Found existing installation: gensim 3.6.0\n",
            "    Uninstalling gensim-3.6.0:\n",
            "      Successfully uninstalled gensim-3.6.0\n",
            "Successfully installed gensim-4.2.0\n"
          ]
        }
      ],
      "source": [
        "# installs\n",
        "!pip install --upgrade gensim"
      ]
    },
    {
      "cell_type": "code",
      "execution_count": 3,
      "metadata": {
        "colab": {
          "base_uri": "https://localhost:8080/"
        },
        "id": "maHvkJm-qQqi",
        "outputId": "5de69a82-ca21-4230-e184-9afc6dca5ab9"
      },
      "outputs": [
        {
          "name": "stderr",
          "output_type": "stream",
          "text": [
            "[nltk_data] Downloading package punkt to /root/nltk_data...\n",
            "[nltk_data]   Unzipping tokenizers/punkt.zip.\n"
          ]
        }
      ],
      "source": [
        "import pandas as pd\n",
        "import numpy as np\n",
        "import json\n",
        "\n",
        "# we will use nltk for sentence tokenization\n",
        "import nltk\n",
        "from nltk.tokenize import sent_tokenize\n",
        "nltk.download('punkt')\n",
        "\n",
        "# we will be using gensim for training\n",
        "import gensim\n",
        "from gensim import utils\n",
        "from gensim.models.word2vec import Word2Vec\n",
        "from gensim.models.fasttext import FastText\n",
        "from gensim.models.phrases import Phrases, ENGLISH_CONNECTOR_WORDS\n",
        "\n",
        "\n",
        "# Logging settings\n",
        "import logging\n",
        "\n",
        "for handler in logging.root.handlers[:]:\n",
        "   logging.root.removeHandler(handler)\n",
        "\n",
        "logging.basicConfig(format='%(asctime)s : %(levelname)s : %(message)s', level=logging.INFO)"
      ]
    },
    {
      "cell_type": "markdown",
      "metadata": {
        "id": "p-vGObWWc8ZB"
      },
      "source": [
        "## Simple In-memory training\n",
        "\n",
        "To better understand the training itself we start with simple model training out of memory. All the data will be loaded with pandas.\n",
        "Preprocessing results will also be stored in the dataframe. This is a viable approache up a certain data-size. When going beyond 5M texts (depending on the hardware) that's probably not a good idea.."
      ]
    },
    {
      "cell_type": "code",
      "execution_count": 4,
      "metadata": {
        "id": "dGaq3bGZqUJi"
      },
      "outputs": [],
      "source": [
        "# load data\n",
        "data = pd.read_json('https://raw.githubusercontent.com/aaubs/ds-master/main/data/reddit_r_cooking_sample.jsonl', lines=True)"
      ]
    },
    {
      "cell_type": "code",
      "execution_count": 5,
      "metadata": {
        "colab": {
          "base_uri": "https://localhost:8080/",
          "height": 206
        },
        "id": "_BQE_vtjqX-w",
        "outputId": "2d294c6a-7981-4062-80d6-53dbf8d7d604"
      },
      "outputs": [
        {
          "data": {
            "text/html": [
              "\n",
              "  <div id=\"df-1ed84725-4fdf-44e3-8704-8c61002d0305\">\n",
              "    <div class=\"colab-df-container\">\n",
              "      <div>\n",
              "<style scoped>\n",
              "    .dataframe tbody tr th:only-of-type {\n",
              "        vertical-align: middle;\n",
              "    }\n",
              "\n",
              "    .dataframe tbody tr th {\n",
              "        vertical-align: top;\n",
              "    }\n",
              "\n",
              "    .dataframe thead th {\n",
              "        text-align: right;\n",
              "    }\n",
              "</style>\n",
              "<table border=\"1\" class=\"dataframe\">\n",
              "  <thead>\n",
              "    <tr style=\"text-align: right;\">\n",
              "      <th></th>\n",
              "      <th>text</th>\n",
              "      <th>meta</th>\n",
              "    </tr>\n",
              "  </thead>\n",
              "  <tbody>\n",
              "    <tr>\n",
              "      <th>0</th>\n",
              "      <td>Where do you get the mock duck? I've only rece...</td>\n",
              "      <td>{'section': 'Cooking', 'utc': '1364690064'}</td>\n",
              "    </tr>\n",
              "    <tr>\n",
              "      <th>1</th>\n",
              "      <td>Microwaves are terrible. Everyone in this sub ...</td>\n",
              "      <td>{'section': 'Cooking', 'utc': '1368260826'}</td>\n",
              "    </tr>\n",
              "    <tr>\n",
              "      <th>2</th>\n",
              "      <td>My Pro 500 is going on 18 years old. Thing is ...</td>\n",
              "      <td>{'section': 'Cooking', 'utc': 1518485096}</td>\n",
              "    </tr>\n",
              "    <tr>\n",
              "      <th>3</th>\n",
              "      <td>deglazing works ok. but not as well as on a st...</td>\n",
              "      <td>{'section': 'Cooking', 'utc': '1413146528'}</td>\n",
              "    </tr>\n",
              "    <tr>\n",
              "      <th>4</th>\n",
              "      <td>Does Google not exist in Germany? 7g dry is 1....</td>\n",
              "      <td>{'section': 'Cooking', 'utc': 1522171636}</td>\n",
              "    </tr>\n",
              "  </tbody>\n",
              "</table>\n",
              "</div>\n",
              "      <button class=\"colab-df-convert\" onclick=\"convertToInteractive('df-1ed84725-4fdf-44e3-8704-8c61002d0305')\"\n",
              "              title=\"Convert this dataframe to an interactive table.\"\n",
              "              style=\"display:none;\">\n",
              "        \n",
              "  <svg xmlns=\"http://www.w3.org/2000/svg\" height=\"24px\"viewBox=\"0 0 24 24\"\n",
              "       width=\"24px\">\n",
              "    <path d=\"M0 0h24v24H0V0z\" fill=\"none\"/>\n",
              "    <path d=\"M18.56 5.44l.94 2.06.94-2.06 2.06-.94-2.06-.94-.94-2.06-.94 2.06-2.06.94zm-11 1L8.5 8.5l.94-2.06 2.06-.94-2.06-.94L8.5 2.5l-.94 2.06-2.06.94zm10 10l.94 2.06.94-2.06 2.06-.94-2.06-.94-.94-2.06-.94 2.06-2.06.94z\"/><path d=\"M17.41 7.96l-1.37-1.37c-.4-.4-.92-.59-1.43-.59-.52 0-1.04.2-1.43.59L10.3 9.45l-7.72 7.72c-.78.78-.78 2.05 0 2.83L4 21.41c.39.39.9.59 1.41.59.51 0 1.02-.2 1.41-.59l7.78-7.78 2.81-2.81c.8-.78.8-2.07 0-2.86zM5.41 20L4 18.59l7.72-7.72 1.47 1.35L5.41 20z\"/>\n",
              "  </svg>\n",
              "      </button>\n",
              "      \n",
              "  <style>\n",
              "    .colab-df-container {\n",
              "      display:flex;\n",
              "      flex-wrap:wrap;\n",
              "      gap: 12px;\n",
              "    }\n",
              "\n",
              "    .colab-df-convert {\n",
              "      background-color: #E8F0FE;\n",
              "      border: none;\n",
              "      border-radius: 50%;\n",
              "      cursor: pointer;\n",
              "      display: none;\n",
              "      fill: #1967D2;\n",
              "      height: 32px;\n",
              "      padding: 0 0 0 0;\n",
              "      width: 32px;\n",
              "    }\n",
              "\n",
              "    .colab-df-convert:hover {\n",
              "      background-color: #E2EBFA;\n",
              "      box-shadow: 0px 1px 2px rgba(60, 64, 67, 0.3), 0px 1px 3px 1px rgba(60, 64, 67, 0.15);\n",
              "      fill: #174EA6;\n",
              "    }\n",
              "\n",
              "    [theme=dark] .colab-df-convert {\n",
              "      background-color: #3B4455;\n",
              "      fill: #D2E3FC;\n",
              "    }\n",
              "\n",
              "    [theme=dark] .colab-df-convert:hover {\n",
              "      background-color: #434B5C;\n",
              "      box-shadow: 0px 1px 3px 1px rgba(0, 0, 0, 0.15);\n",
              "      filter: drop-shadow(0px 1px 2px rgba(0, 0, 0, 0.3));\n",
              "      fill: #FFFFFF;\n",
              "    }\n",
              "  </style>\n",
              "\n",
              "      <script>\n",
              "        const buttonEl =\n",
              "          document.querySelector('#df-1ed84725-4fdf-44e3-8704-8c61002d0305 button.colab-df-convert');\n",
              "        buttonEl.style.display =\n",
              "          google.colab.kernel.accessAllowed ? 'block' : 'none';\n",
              "\n",
              "        async function convertToInteractive(key) {\n",
              "          const element = document.querySelector('#df-1ed84725-4fdf-44e3-8704-8c61002d0305');\n",
              "          const dataTable =\n",
              "            await google.colab.kernel.invokeFunction('convertToInteractive',\n",
              "                                                     [key], {});\n",
              "          if (!dataTable) return;\n",
              "\n",
              "          const docLinkHtml = 'Like what you see? Visit the ' +\n",
              "            '<a target=\"_blank\" href=https://colab.research.google.com/notebooks/data_table.ipynb>data table notebook</a>'\n",
              "            + ' to learn more about interactive tables.';\n",
              "          element.innerHTML = '';\n",
              "          dataTable['output_type'] = 'display_data';\n",
              "          await google.colab.output.renderOutput(dataTable, element);\n",
              "          const docLink = document.createElement('div');\n",
              "          docLink.innerHTML = docLinkHtml;\n",
              "          element.appendChild(docLink);\n",
              "        }\n",
              "      </script>\n",
              "    </div>\n",
              "  </div>\n",
              "  "
            ],
            "text/plain": [
              "                                                text  \\\n",
              "0  Where do you get the mock duck? I've only rece...   \n",
              "1  Microwaves are terrible. Everyone in this sub ...   \n",
              "2  My Pro 500 is going on 18 years old. Thing is ...   \n",
              "3  deglazing works ok. but not as well as on a st...   \n",
              "4  Does Google not exist in Germany? 7g dry is 1....   \n",
              "\n",
              "                                          meta  \n",
              "0  {'section': 'Cooking', 'utc': '1364690064'}  \n",
              "1  {'section': 'Cooking', 'utc': '1368260826'}  \n",
              "2    {'section': 'Cooking', 'utc': 1518485096}  \n",
              "3  {'section': 'Cooking', 'utc': '1413146528'}  \n",
              "4    {'section': 'Cooking', 'utc': 1522171636}  "
            ]
          },
          "execution_count": 5,
          "metadata": {},
          "output_type": "execute_result"
        }
      ],
      "source": [
        "data.head()"
      ]
    },
    {
      "cell_type": "markdown",
      "metadata": {
        "id": "CDlgZNWsdq0s"
      },
      "source": [
        "Word2Vec uses sentences to train, not paragraphs. Therefore we will need to sentence-tokenize."
      ]
    },
    {
      "cell_type": "code",
      "execution_count": 6,
      "metadata": {
        "colab": {
          "base_uri": "https://localhost:8080/"
        },
        "id": "WZ3F19r5z3H6",
        "outputId": "24db8392-14b0-4236-f3b0-9e9417024ae7"
      },
      "outputs": [
        {
          "data": {
            "text/plain": [
              "['this is a sentence.', 'also that one.']"
            ]
          },
          "execution_count": 6,
          "metadata": {},
          "output_type": "execute_result"
        }
      ],
      "source": [
        "# NLTK tokenizer:\n",
        "sent_tokenize('this is a sentence. also that one.')"
      ]
    },
    {
      "cell_type": "code",
      "execution_count": 7,
      "metadata": {
        "id": "2ZRvFTU2zp4p"
      },
      "outputs": [],
      "source": [
        "# Let's apply that to all texts\n",
        "sentences = []\n",
        "for i in data['text']:\n",
        "  sentences.extend(sent_tokenize(i))"
      ]
    },
    {
      "cell_type": "code",
      "execution_count": 8,
      "metadata": {
        "colab": {
          "base_uri": "https://localhost:8080/"
        },
        "id": "iZCwa5lH0Mq1",
        "outputId": "bfef67b1-a8d9-4622-bfac-fccf8037b0ee"
      },
      "outputs": [
        {
          "data": {
            "text/plain": [
              "29445"
            ]
          },
          "execution_count": 8,
          "metadata": {},
          "output_type": "execute_result"
        }
      ],
      "source": [
        "len(sentences)"
      ]
    },
    {
      "cell_type": "markdown",
      "metadata": {
        "id": "ll1MhWVfeCG8"
      },
      "source": [
        "Gensim has efficient simple preprocessing as part of the utility functions. That works well for most latin-letter texts. Check out [Gensim docos](https://tedboy.github.io/nlps/generated/generated/gensim.utils.simple_preprocess.html) for more into."
      ]
    },
    {
      "cell_type": "code",
      "execution_count": 9,
      "metadata": {
        "id": "hPSpWs_quIO_"
      },
      "outputs": [],
      "source": [
        "# simple prepro (tokenization, lowercase, de-accent (otional))\n",
        "sentences_prepro = [utils.simple_preprocess(line) for line in sentences]"
      ]
    },
    {
      "cell_type": "markdown",
      "metadata": {
        "id": "sJpPII06ehW1"
      },
      "source": [
        "We are not removing stopwords for Word2Vec, as the model actually cares about syntax. One thing that we can do is identifying n-grams (phrases)."
      ]
    },
    {
      "cell_type": "code",
      "execution_count": 10,
      "metadata": {
        "colab": {
          "base_uri": "https://localhost:8080/"
        },
        "id": "zII18gcct_d2",
        "outputId": "38333d87-3aba-4ac4-84ec-08c00a012ba9"
      },
      "outputs": [
        {
          "name": "stderr",
          "output_type": "stream",
          "text": [
            "2022-11-01 15:04:50,384 : INFO : collecting all words and their counts\n",
            "2022-11-01 15:04:50,387 : INFO : PROGRESS: at sentence #0, processed 0 words and 0 word types\n",
            "2022-11-01 15:04:50,554 : INFO : PROGRESS: at sentence #10000, processed 123637 words and 74036 word types\n",
            "2022-11-01 15:04:50,729 : INFO : PROGRESS: at sentence #20000, processed 245368 words and 129436 word types\n",
            "2022-11-01 15:04:50,899 : INFO : collected 176735 token types (unigram + bigrams) from a corpus of 359868 words and 29445 sentences\n",
            "2022-11-01 15:04:50,902 : INFO : merged Phrases<176735 vocab, min_count=1, threshold=1, max_vocab_size=40000000>\n",
            "2022-11-01 15:04:50,907 : INFO : Phrases lifecycle event {'msg': 'built Phrases<176735 vocab, min_count=1, threshold=1, max_vocab_size=40000000> in 0.52s', 'datetime': '2022-11-01T15:04:50.907864', 'gensim': '4.2.0', 'python': '3.7.15 (default, Oct 12 2022, 19:14:55) \\n[GCC 7.5.0]', 'platform': 'Linux-5.10.133+-x86_64-with-Ubuntu-18.04-bionic', 'event': 'created'}\n"
          ]
        }
      ],
      "source": [
        "# trainig a model to identify n-grams\n",
        "phrase_model = Phrases(sentences_prepro, min_count=1, threshold=1, connector_words=ENGLISH_CONNECTOR_WORDS)"
      ]
    },
    {
      "cell_type": "code",
      "execution_count": 11,
      "metadata": {
        "id": "osOmQ11HuUtF"
      },
      "outputs": [],
      "source": [
        "# apply the model\n",
        "sentences_phrased = [phrase_model[line] for line in sentences_prepro]"
      ]
    },
    {
      "cell_type": "code",
      "execution_count": 12,
      "metadata": {
        "colab": {
          "base_uri": "https://localhost:8080/"
        },
        "id": "M_AxSeeQum2F",
        "outputId": "e133a1ae-824a-48a9-e9be-5946deabf161"
      },
      "outputs": [
        {
          "data": {
            "text/plain": [
              "[['where_do', 'you_get', 'the', 'mock', 'duck'],\n",
              " ['ve_only', 'recently', 'tried_it', 'in', 'restaurant', 'and', 'loved_it'],\n",
              " ['hoisin', 'we_use', 'for', 'sandwich', 'condiment', 'mixed_with_sriracha'],\n",
              " ['you_could', 'make_those', 'pancakes', 'with', 'another', 'faux', 'meat'],\n",
              " ['some_of_those',\n",
              "  'grain',\n",
              "  'sausages_are',\n",
              "  'really_good',\n",
              "  'and',\n",
              "  'you_can',\n",
              "  'slice_them']]"
            ]
          },
          "execution_count": 12,
          "metadata": {},
          "output_type": "execute_result"
        }
      ],
      "source": [
        "# quick check\n",
        "sentences_phrased[:5]"
      ]
    },
    {
      "cell_type": "markdown",
      "metadata": {
        "id": "_A9-WXqCe5AG"
      },
      "source": [
        "obviousely, some hyperparameter tuning is needed"
      ]
    },
    {
      "cell_type": "code",
      "execution_count": 13,
      "metadata": {
        "colab": {
          "base_uri": "https://localhost:8080/"
        },
        "id": "TqStLJB5urRA",
        "outputId": "9f4b780d-64ed-4084-9436-e817475ea4dd"
      },
      "outputs": [
        {
          "name": "stderr",
          "output_type": "stream",
          "text": [
            "2022-11-01 15:04:51,611 : INFO : collecting all words and their counts\n",
            "2022-11-01 15:04:51,616 : INFO : PROGRESS: at sentence #0, processed 0 words and 0 word types\n",
            "2022-11-01 15:04:51,807 : INFO : PROGRESS: at sentence #10000, processed 123637 words and 74036 word types\n",
            "2022-11-01 15:04:52,124 : INFO : PROGRESS: at sentence #20000, processed 245368 words and 129436 word types\n",
            "2022-11-01 15:04:52,311 : INFO : collected 176735 token types (unigram + bigrams) from a corpus of 359868 words and 29445 sentences\n",
            "2022-11-01 15:04:52,313 : INFO : merged Phrases<176735 vocab, min_count=25, threshold=20, max_vocab_size=40000000>\n",
            "2022-11-01 15:04:52,322 : INFO : Phrases lifecycle event {'msg': 'built Phrases<176735 vocab, min_count=25, threshold=20, max_vocab_size=40000000> in 0.71s', 'datetime': '2022-11-01T15:04:52.322617', 'gensim': '4.2.0', 'python': '3.7.15 (default, Oct 12 2022, 19:14:55) \\n[GCC 7.5.0]', 'platform': 'Linux-5.10.133+-x86_64-with-Ubuntu-18.04-bionic', 'event': 'created'}\n"
          ]
        },
        {
          "data": {
            "text/plain": [
              "[['where', 'do', 'you', 'get', 'the', 'mock', 'duck'],\n",
              " ['ve',\n",
              "  'only',\n",
              "  'recently',\n",
              "  'tried',\n",
              "  'it',\n",
              "  'in',\n",
              "  'restaurant',\n",
              "  'and',\n",
              "  'loved',\n",
              "  'it'],\n",
              " ['hoisin',\n",
              "  'we',\n",
              "  'use',\n",
              "  'for',\n",
              "  'sandwich',\n",
              "  'condiment',\n",
              "  'mixed',\n",
              "  'with',\n",
              "  'sriracha'],\n",
              " ['you',\n",
              "  'could',\n",
              "  'make',\n",
              "  'those',\n",
              "  'pancakes',\n",
              "  'with',\n",
              "  'another',\n",
              "  'faux',\n",
              "  'meat'],\n",
              " ['some',\n",
              "  'of',\n",
              "  'those',\n",
              "  'grain',\n",
              "  'sausages',\n",
              "  'are',\n",
              "  'really',\n",
              "  'good',\n",
              "  'and',\n",
              "  'you',\n",
              "  'can',\n",
              "  'slice',\n",
              "  'them']]"
            ]
          },
          "execution_count": 13,
          "metadata": {},
          "output_type": "execute_result"
        }
      ],
      "source": [
        "# adjusting min_count and threshold (that's a value calculated within the model - read docus)\n",
        "phrase_model = Phrases(sentences_prepro, min_count=25, threshold=20, connector_words=ENGLISH_CONNECTOR_WORDS)\n",
        "sentences_phrased = [phrase_model[line] for line in sentences_prepro]\n",
        "sentences_phrased[:5]"
      ]
    },
    {
      "cell_type": "code",
      "execution_count": 14,
      "metadata": {
        "colab": {
          "base_uri": "https://localhost:8080/"
        },
        "id": "N0JdwoIpve-A",
        "outputId": "e46b3b88-38c8-448a-bf1b-86bed71266a3"
      },
      "outputs": [
        {
          "name": "stdout",
          "output_type": "stream",
          "text": [
            "as_well 27.471339649272448\n",
            "ve_been 41.653628014475565\n",
            "stainless_steel 339.0599520383693\n",
            "your_own 20.223897445413495\n",
            "more_than 20.47408324458768\n",
            "stir_fry 192.49911686782454\n",
            "salt_pepper 31.312819683243973\n",
            "olive_oil 184.98806397708285\n",
            "store_bought 37.18857840249137\n",
            "sour_cream 170.60931322975085\n",
            "ve_never 32.897408361970214\n",
            "slow_cooker 332.58133391235117\n",
            "mashed_potatoes 166.10432330827066\n",
            "thank_you 20.47161354330867\n",
            "tomato_sauce 20.939855748581923\n",
            "they_re 27.604060913705585\n",
            "ve_got 21.553749715437903\n",
            "check_out 30.309552392385527\n",
            "talking_about 51.24875724937863\n",
            "cast_iron 782.157477411027\n",
            "alton_brown 256.58036640165915\n",
            "pulled_pork 112.0196486780152\n",
            "http_www 292.3240096923725\n",
            "com_recipes 21.29508394248534\n",
            "better_than 33.40834415963816\n",
            "don_know 24.0042240154292\n",
            "sous_vide 1497.1500605082697\n",
            "next_time 35.865252904469585\n",
            "grocery_store 213.3450024142926\n",
            "imgur_com 81.90843485169492\n",
            "ground_beef 91.19453044375645\n",
            "grew_up 45.984822202948834\n",
            "make_sure 24.00867902694272\n",
            "chicken_breasts 29.188962816157037\n",
            "chicken_breast 42.88990454618994\n",
            "has_been 28.276186190690467\n",
            "non_stick 246.62336367864975\n",
            "little_bit 29.975005690668645\n",
            "my_wife 27.593286494925838\n",
            "high_heat 44.7203947368421\n",
            "food_processor 66.14746428794211\n",
            "chili_powder 24.752030749120788\n",
            "rice_cooker 36.07271748912206\n",
            "scrambled_eggs 133.56324845948146\n",
            "be_able 40.02815986954355\n",
            "https_www 300.9566237597211\n",
            "youtube_com 35.241276171485545\n",
            "rather_than 83.85831842090992\n",
            "end_up 20.713883875202175\n",
            "lemon_juice 209.30866025166543\n",
            "red_wine 80.15192743764173\n",
            "lime_juice 77.93407562562011\n",
            "brown_sugar 45.76318192349101\n",
            "peanut_butter 59.5200942972609\n",
            "soy_sauce 111.50473186119875\n",
            "sesame_oil 66.39327779373743\n",
            "my_favorite 38.694033935413245\n",
            "my_mom 32.58924522189829\n",
            "cutting_board 338.4231845632641\n",
            "too_much 26.600084208440656\n",
            "white_wine 23.82001725160386\n",
            "dutch_oven 133.8072131598871\n",
            "should_be 23.984295907870774\n",
            "years_ago 128.4038070328393\n",
            "pretty_much 31.305098340658056\n",
            "difference_between 34.61320015667842\n",
            "pressure_cooker 190.61151855047456\n",
            "good_luck 54.79840376665136\n",
            "ice_cream 167.13804148871264\n",
            "instant_pot 97.58558443764865\n",
            "salt_and_pepper 30.632106211869107\n",
            "amp_amp 22.885871711697714\n",
            "room_temperature 30.683159722222225\n",
            "copymethat_com 51.64669783752191\n",
            "crock_pot 79.48147148767764\n",
            "ended_up 23.950428230702514\n",
            "garlic_powder 25.50078327905347\n",
            "coconut_milk 125.34397163120568\n",
            "amazon_com 38.13726067168864\n",
            "black_pepper 84.46117084826761\n",
            "seriouseats_com 33.0386964107677\n",
            "serious_eats 99.85028248587571\n",
            "www_amazon 43.44518190757129\n",
            "pho_pho 871.4107012417822\n"
          ]
        }
      ],
      "source": [
        "# did we actually find anything?\n",
        "for phrase, score in phrase_model.find_phrases(sentences_prepro).items():\n",
        "    print(phrase, score)"
      ]
    },
    {
      "cell_type": "markdown",
      "metadata": {
        "id": "NRkgZneFfM2x"
      },
      "source": [
        "Once sentences are pre-processed (tokenized, list of lists) we can train the model."
      ]
    },
    {
      "cell_type": "code",
      "execution_count": 15,
      "metadata": {
        "colab": {
          "base_uri": "https://localhost:8080/"
        },
        "id": "qWLP480uw2bS",
        "outputId": "e53087a5-f2fe-425a-a563-059435070c30"
      },
      "outputs": [
        {
          "name": "stderr",
          "output_type": "stream",
          "text": [
            "2022-11-01 15:04:54,022 : INFO : collecting all words and their counts\n",
            "2022-11-01 15:04:54,027 : INFO : PROGRESS: at sentence #0, processed 0 words, keeping 0 word types\n",
            "2022-11-01 15:04:54,068 : INFO : PROGRESS: at sentence #10000, processed 121743 words, keeping 9863 word types\n",
            "2022-11-01 15:04:54,105 : INFO : PROGRESS: at sentence #20000, processed 241677 words, keeping 13807 word types\n",
            "2022-11-01 15:04:54,139 : INFO : collected 16762 word types from a corpus of 354479 raw words and 29445 sentences\n",
            "2022-11-01 15:04:54,140 : INFO : Creating a fresh vocabulary\n",
            "2022-11-01 15:04:54,179 : INFO : Word2Vec lifecycle event {'msg': 'effective_min_count=5 retains 4857 unique words (28.98% of original 16762, drops 11905)', 'datetime': '2022-11-01T15:04:54.179874', 'gensim': '4.2.0', 'python': '3.7.15 (default, Oct 12 2022, 19:14:55) \\n[GCC 7.5.0]', 'platform': 'Linux-5.10.133+-x86_64-with-Ubuntu-18.04-bionic', 'event': 'prepare_vocab'}\n",
            "2022-11-01 15:04:54,191 : INFO : Word2Vec lifecycle event {'msg': 'effective_min_count=5 leaves 335749 word corpus (94.72% of original 354479, drops 18730)', 'datetime': '2022-11-01T15:04:54.191545', 'gensim': '4.2.0', 'python': '3.7.15 (default, Oct 12 2022, 19:14:55) \\n[GCC 7.5.0]', 'platform': 'Linux-5.10.133+-x86_64-with-Ubuntu-18.04-bionic', 'event': 'prepare_vocab'}\n",
            "2022-11-01 15:04:54,229 : INFO : deleting the raw counts dictionary of 16762 items\n",
            "2022-11-01 15:04:54,240 : INFO : sample=0.001 downsamples 55 most-common words\n",
            "2022-11-01 15:04:54,241 : INFO : Word2Vec lifecycle event {'msg': 'downsampling leaves estimated 258903.2163278526 word corpus (77.1%% of prior 335749)', 'datetime': '2022-11-01T15:04:54.241781', 'gensim': '4.2.0', 'python': '3.7.15 (default, Oct 12 2022, 19:14:55) \\n[GCC 7.5.0]', 'platform': 'Linux-5.10.133+-x86_64-with-Ubuntu-18.04-bionic', 'event': 'prepare_vocab'}\n",
            "2022-11-01 15:04:54,329 : INFO : estimated required memory for 4857 words and 300 dimensions: 14085300 bytes\n",
            "2022-11-01 15:04:54,331 : INFO : resetting layer weights\n",
            "2022-11-01 15:04:54,354 : INFO : Word2Vec lifecycle event {'update': False, 'trim_rule': 'None', 'datetime': '2022-11-01T15:04:54.354343', 'gensim': '4.2.0', 'python': '3.7.15 (default, Oct 12 2022, 19:14:55) \\n[GCC 7.5.0]', 'platform': 'Linux-5.10.133+-x86_64-with-Ubuntu-18.04-bionic', 'event': 'build_vocab'}\n",
            "2022-11-01 15:04:54,356 : INFO : Word2Vec lifecycle event {'msg': 'training model with 4 workers on 4857 vocabulary and 300 features, using sg=0 hs=0 sample=0.001 negative=5 window=5 shrink_windows=True', 'datetime': '2022-11-01T15:04:54.356071', 'gensim': '4.2.0', 'python': '3.7.15 (default, Oct 12 2022, 19:14:55) \\n[GCC 7.5.0]', 'platform': 'Linux-5.10.133+-x86_64-with-Ubuntu-18.04-bionic', 'event': 'train'}\n",
            "2022-11-01 15:04:55,062 : INFO : EPOCH 0: training on 354479 raw words (258943 effective words) took 0.7s, 380959 effective words/s\n",
            "2022-11-01 15:04:56,001 : INFO : EPOCH 1: training on 354479 raw words (259144 effective words) took 0.9s, 280133 effective words/s\n",
            "2022-11-01 15:04:56,973 : INFO : EPOCH 2: training on 354479 raw words (258765 effective words) took 0.9s, 277409 effective words/s\n",
            "2022-11-01 15:04:58,024 : INFO : EPOCH 3 - PROGRESS: at 97.16% examples, 244077 words/s, in_qsize 1, out_qsize 1\n",
            "2022-11-01 15:04:58,044 : INFO : EPOCH 3: training on 354479 raw words (258670 effective words) took 1.1s, 246182 effective words/s\n",
            "2022-11-01 15:04:59,070 : INFO : EPOCH 4: training on 354479 raw words (258791 effective words) took 1.0s, 262499 effective words/s\n",
            "2022-11-01 15:04:59,971 : INFO : EPOCH 5: training on 354479 raw words (259055 effective words) took 0.9s, 293219 effective words/s\n",
            "2022-11-01 15:05:00,911 : INFO : EPOCH 6: training on 354479 raw words (259121 effective words) took 0.9s, 289072 effective words/s\n",
            "2022-11-01 15:05:01,881 : INFO : EPOCH 7: training on 354479 raw words (258991 effective words) took 0.9s, 273296 effective words/s\n",
            "2022-11-01 15:05:02,985 : INFO : EPOCH 8 - PROGRESS: at 100.00% examples, 248011 words/s, in_qsize 0, out_qsize 1\n",
            "2022-11-01 15:05:02,988 : INFO : EPOCH 8: training on 354479 raw words (258976 effective words) took 1.0s, 247404 effective words/s\n",
            "2022-11-01 15:05:03,931 : INFO : EPOCH 9: training on 354479 raw words (258450 effective words) took 0.9s, 282375 effective words/s\n",
            "2022-11-01 15:05:04,804 : INFO : EPOCH 10: training on 354479 raw words (258817 effective words) took 0.9s, 304064 effective words/s\n",
            "2022-11-01 15:05:05,697 : INFO : EPOCH 11: training on 354479 raw words (259110 effective words) took 0.9s, 304167 effective words/s\n",
            "2022-11-01 15:05:06,699 : INFO : EPOCH 12: training on 354479 raw words (258848 effective words) took 1.0s, 266388 effective words/s\n",
            "2022-11-01 15:05:07,763 : INFO : EPOCH 13 - PROGRESS: at 95.93% examples, 241998 words/s, in_qsize 2, out_qsize 1\n",
            "2022-11-01 15:05:07,778 : INFO : EPOCH 13: training on 354479 raw words (259015 effective words) took 1.0s, 248948 effective words/s\n",
            "2022-11-01 15:05:08,826 : INFO : EPOCH 14 - PROGRESS: at 87.33% examples, 219797 words/s, in_qsize 5, out_qsize 0\n",
            "2022-11-01 15:05:08,875 : INFO : EPOCH 14: training on 354479 raw words (258869 effective words) took 1.1s, 240142 effective words/s\n",
            "2022-11-01 15:05:08,876 : INFO : Word2Vec lifecycle event {'msg': 'training on 5317185 raw words (3883565 effective words) took 14.5s, 267576 effective words/s', 'datetime': '2022-11-01T15:05:08.876942', 'gensim': '4.2.0', 'python': '3.7.15 (default, Oct 12 2022, 19:14:55) \\n[GCC 7.5.0]', 'platform': 'Linux-5.10.133+-x86_64-with-Ubuntu-18.04-bionic', 'event': 'train'}\n",
            "2022-11-01 15:05:08,879 : INFO : Word2Vec lifecycle event {'params': 'Word2Vec<vocab=4857, vector_size=300, alpha=0.025>', 'datetime': '2022-11-01T15:05:08.879405', 'gensim': '4.2.0', 'python': '3.7.15 (default, Oct 12 2022, 19:14:55) \\n[GCC 7.5.0]', 'platform': 'Linux-5.10.133+-x86_64-with-Ubuntu-18.04-bionic', 'event': 'created'}\n"
          ]
        }
      ],
      "source": [
        "model = gensim.models.Word2Vec(sentences=sentences_phrased, \n",
        "                               vector_size=300, \n",
        "                               window=5, \n",
        "                               min_count=5, \n",
        "                               workers=4, \n",
        "                               epochs=15)"
      ]
    },
    {
      "cell_type": "code",
      "execution_count": 16,
      "metadata": {
        "colab": {
          "base_uri": "https://localhost:8080/"
        },
        "id": "Hwirw6wKxSrD",
        "outputId": "f1edd186-91bf-462a-9ecc-b0992140d5ef"
      },
      "outputs": [
        {
          "data": {
            "text/plain": [
              "[('electric', 0.8057990670204163),\n",
              " ('bare', 0.7724413275718689),\n",
              " ('pressure_cooker', 0.7668929696083069),\n",
              " ('smoker', 0.7512131929397583),\n",
              " ('ss', 0.743894636631012),\n",
              " ('cast_iron', 0.743208646774292),\n",
              " ('oven', 0.721584141254425),\n",
              " ('crock_pot', 0.7208809852600098),\n",
              " ('wok', 0.7184653282165527),\n",
              " ('skillet', 0.7170997858047485)]"
            ]
          },
          "execution_count": 16,
          "metadata": {},
          "output_type": "execute_result"
        }
      ],
      "source": [
        "# check most similar terms\n",
        "model.wv.most_similar('dutch_oven')"
      ]
    },
    {
      "cell_type": "code",
      "execution_count": 17,
      "metadata": {
        "colab": {
          "base_uri": "https://localhost:8080/"
        },
        "id": "ox6_ykEZk3Cn",
        "outputId": "cbeb9f26-6e3d-404b-923e-b761d0181545"
      },
      "outputs": [
        {
          "data": {
            "text/plain": [
              "array([ 0.01459577,  0.00051552,  0.03378123, -0.06099399,  0.14045642,\n",
              "       -0.06822933, -0.08402817,  0.23614497,  0.13813491, -0.12879542,\n",
              "        0.01250404, -0.14240834,  0.01904952,  0.03136403, -0.03646796,\n",
              "       -0.13897865,  0.05526898, -0.0383767 , -0.0014335 , -0.04038331,\n",
              "        0.09598418, -0.01977006,  0.07523971,  0.11076099, -0.08894028,\n",
              "       -0.03512162, -0.02173638,  0.05409386, -0.09885938, -0.01030666,\n",
              "       -0.04874817,  0.18512665, -0.07877014,  0.12038369, -0.14203385,\n",
              "        0.13327682,  0.06715305, -0.2822212 , -0.09083666, -0.06442374,\n",
              "       -0.22567119, -0.00222421,  0.12802269, -0.12861009, -0.15939379,\n",
              "        0.11796158,  0.10332466,  0.0298819 , -0.07896766,  0.26637504,\n",
              "        0.06439476, -0.04309073, -0.14780426,  0.06083586, -0.0601622 ,\n",
              "        0.07341482,  0.29285246, -0.01333882, -0.05669258, -0.04951216,\n",
              "       -0.15498039,  0.10532729, -0.05211889,  0.13003305, -0.03847679,\n",
              "        0.0511533 ,  0.00375731,  0.16538042, -0.12729827, -0.15313198,\n",
              "        0.04365279, -0.0958716 ,  0.17922714, -0.06153013,  0.05469872,\n",
              "        0.16500457,  0.01523809,  0.3531728 ,  0.07761011,  0.01225545,\n",
              "        0.02397563, -0.11494575,  0.0796921 ,  0.03913211, -0.07065961,\n",
              "        0.01762804, -0.03334915,  0.07435319,  0.14410523,  0.02496495,\n",
              "        0.1757782 ,  0.19682382,  0.07584286, -0.04358227,  0.038884  ,\n",
              "        0.19533063,  0.27861696, -0.03662255, -0.2210459 ,  0.03747696,\n",
              "       -0.03261115, -0.08293731,  0.15797022,  0.12526102,  0.00526942,\n",
              "        0.07763489, -0.05054649, -0.08798506,  0.02745252, -0.08574922,\n",
              "       -0.06433357, -0.06747713, -0.0343689 ,  0.25870726, -0.10106678,\n",
              "       -0.02445325,  0.10183258,  0.0699589 ,  0.10233128, -0.1555349 ,\n",
              "        0.08525623,  0.14693096, -0.00253546,  0.05981839, -0.00740555,\n",
              "        0.14166184, -0.14586206,  0.03679083,  0.02718968,  0.14993557,\n",
              "        0.06956355,  0.2924826 ,  0.02690631, -0.33719182, -0.08579697,\n",
              "        0.19416107,  0.03430223,  0.10843832, -0.1084507 , -0.04620649,\n",
              "       -0.11400262, -0.13759907,  0.09596597, -0.02053506,  0.17393008,\n",
              "        0.02465921, -0.10568577, -0.17453374,  0.12656635, -0.03882939,\n",
              "       -0.09813017, -0.21126764, -0.05404166, -0.01794154, -0.1815847 ,\n",
              "        0.08857819, -0.07959893, -0.14128022,  0.01398054,  0.1679255 ,\n",
              "        0.01368165,  0.04399634, -0.09648449, -0.0025234 , -0.03147542,\n",
              "       -0.00323716,  0.13957788,  0.07628012,  0.03514657,  0.07055994,\n",
              "       -0.15635505, -0.02911373,  0.01866502,  0.05887276, -0.0070448 ,\n",
              "       -0.06722708, -0.0223647 , -0.11614725,  0.06075123, -0.18532592,\n",
              "        0.00777945, -0.01242683, -0.2263363 , -0.09548208, -0.0470477 ,\n",
              "       -0.19782618,  0.0467463 ,  0.09959496,  0.04779724, -0.12222742,\n",
              "        0.11997057, -0.08192789, -0.24466477,  0.13129354, -0.03913037,\n",
              "       -0.10592361, -0.07290766, -0.05130962,  0.13165529, -0.00677909,\n",
              "       -0.06433108,  0.19660544, -0.04270006, -0.18362066,  0.10768053,\n",
              "       -0.01384653, -0.07552818,  0.08493683, -0.12718852,  0.07112268,\n",
              "       -0.00157617,  0.08256757, -0.00138498,  0.04073339,  0.02739019,\n",
              "       -0.19392267, -0.15558457,  0.00848304, -0.08295389, -0.20208566,\n",
              "       -0.11128986,  0.14051582,  0.1319759 , -0.04184914, -0.0497624 ,\n",
              "        0.03508876,  0.10889138,  0.00872725,  0.08079282, -0.03936381,\n",
              "       -0.04196184, -0.04845431, -0.05582942, -0.07052738, -0.14710455,\n",
              "       -0.03760558, -0.01566993, -0.04285641,  0.04896991, -0.13682358,\n",
              "       -0.07512715, -0.00759642, -0.16874447, -0.06043488,  0.14174464,\n",
              "       -0.22866428,  0.03033161,  0.03248854,  0.04014894, -0.03521589,\n",
              "        0.11065843, -0.03722837, -0.04903363, -0.0662442 , -0.16440901,\n",
              "       -0.06700056,  0.14300491, -0.07064287, -0.00393203, -0.05228481,\n",
              "       -0.03987049, -0.01864919,  0.03093026, -0.13777827, -0.21046309,\n",
              "       -0.03909406,  0.1191776 ,  0.05125557, -0.3047676 , -0.01214898,\n",
              "       -0.13897999,  0.12665467, -0.04438645,  0.012661  ,  0.02091488,\n",
              "        0.15846142,  0.08490825,  0.07836705, -0.11713133,  0.00887042,\n",
              "        0.05810631,  0.02153317,  0.11088569, -0.12111179,  0.02926321,\n",
              "        0.15602599, -0.15059616,  0.2230918 , -0.02324347, -0.05923074,\n",
              "       -0.07001508,  0.09214243,  0.10880996, -0.07552517,  0.19425513,\n",
              "        0.08831494, -0.0224866 , -0.02125123,  0.05481114, -0.17146842],\n",
              "      dtype=float32)"
            ]
          },
          "execution_count": 17,
          "metadata": {},
          "output_type": "execute_result"
        }
      ],
      "source": [
        "# we can call the vector of each word\n",
        "model.wv['kettle']"
      ]
    },
    {
      "cell_type": "code",
      "execution_count": 18,
      "metadata": {
        "colab": {
          "base_uri": "https://localhost:8080/"
        },
        "id": "-a6llx8p2CkM",
        "outputId": "7e86a190-0cb6-43ef-dadf-f80662935f87"
      },
      "outputs": [
        {
          "data": {
            "text/plain": [
              "(4857, 300)"
            ]
          },
          "execution_count": 18,
          "metadata": {},
          "output_type": "execute_result"
        }
      ],
      "source": [
        "model.wv.vectors.shape"
      ]
    },
    {
      "cell_type": "code",
      "execution_count": 19,
      "metadata": {
        "colab": {
          "base_uri": "https://localhost:8080/"
        },
        "id": "fRwJ5SGQ2gNC",
        "outputId": "fe257a42-05da-4eeb-fc6e-332743ff6ddb"
      },
      "outputs": [
        {
          "data": {
            "text/plain": [
              "{'the': 0,\n",
              " 'and': 1,\n",
              " 'it': 2,\n",
              " 'to': 3,\n",
              " 'you': 4,\n",
              " 'of': 5,\n",
              " 'in': 6,\n",
              " 'is': 7,\n",
              " 'that': 8,\n",
              " 'for': 9,\n",
              " 'with': 10,\n",
              " 'but': 11,\n",
              " 'or': 12,\n",
              " 'on': 13,\n",
              " 'have': 14,\n",
              " 'if': 15,\n",
              " 'can': 16,\n",
              " 'this': 17,\n",
              " 'my': 18,\n",
              " 'like': 19,\n",
              " 'just': 20,\n",
              " 'are': 21,\n",
              " 'not': 22,\n",
              " 'be': 23,\n",
              " 'as': 24,\n",
              " 'so': 25,\n",
              " 'some': 26,\n",
              " 'your': 27,\n",
              " 'make': 28,\n",
              " 'them': 29,\n",
              " 'at': 30,\n",
              " 'use': 31,\n",
              " 'they': 32,\n",
              " 'was': 33,\n",
              " 'all': 34,\n",
              " 'do': 35,\n",
              " 'good': 36,\n",
              " 'from': 37,\n",
              " 'one': 38,\n",
              " 'what': 39,\n",
              " 'get': 40,\n",
              " 'out': 41,\n",
              " 'don': 42,\n",
              " 'then': 43,\n",
              " 'up': 44,\n",
              " 'about': 45,\n",
              " 'add': 46,\n",
              " 'would': 47,\n",
              " 'an': 48,\n",
              " 'will': 49,\n",
              " 'when': 50,\n",
              " 'more': 51,\n",
              " 'there': 52,\n",
              " 'cook': 53,\n",
              " 'cooking': 54,\n",
              " 'me': 55,\n",
              " 'also': 56,\n",
              " 'really': 57,\n",
              " 'chicken': 58,\n",
              " 'sauce': 59,\n",
              " 'time': 60,\n",
              " 'how': 61,\n",
              " 'food': 62,\n",
              " 'recipe': 63,\n",
              " 'meat': 64,\n",
              " 'pan': 65,\n",
              " 'water': 66,\n",
              " 'into': 67,\n",
              " 'want': 68,\n",
              " 're': 69,\n",
              " 'no': 70,\n",
              " 'think': 71,\n",
              " 'cheese': 72,\n",
              " 'we': 73,\n",
              " 'go': 74,\n",
              " 'too': 75,\n",
              " 'because': 76,\n",
              " 'way': 77,\n",
              " 'put': 78,\n",
              " 'any': 79,\n",
              " 'made': 80,\n",
              " 'by': 81,\n",
              " 'll': 82,\n",
              " 've': 83,\n",
              " 'rice': 84,\n",
              " 'had': 85,\n",
              " 'much': 86,\n",
              " 'over': 87,\n",
              " 'has': 88,\n",
              " 'oil': 89,\n",
              " 'great': 90,\n",
              " 'garlic': 91,\n",
              " 'only': 92,\n",
              " 'people': 93,\n",
              " 'try': 94,\n",
              " 'other': 95,\n",
              " 'even': 96,\n",
              " 'something': 97,\n",
              " 'very': 98,\n",
              " 'butter': 99,\n",
              " 'need': 100,\n",
              " 'salt': 101,\n",
              " 'before': 102,\n",
              " 'oven': 103,\n",
              " 'which': 104,\n",
              " 'things': 105,\n",
              " 'eat': 106,\n",
              " 'used': 107,\n",
              " 'could': 108,\n",
              " 'heat': 109,\n",
              " 'well': 110,\n",
              " 'most': 111,\n",
              " 'little': 112,\n",
              " 'lot': 113,\n",
              " 'than': 114,\n",
              " 'until': 115,\n",
              " 'off': 116,\n",
              " 'always': 117,\n",
              " 'taste': 118,\n",
              " 'here': 119,\n",
              " 'hot': 120,\n",
              " 'know': 121,\n",
              " 'he': 122,\n",
              " 'thing': 123,\n",
              " 'though': 124,\n",
              " 'bit': 125,\n",
              " 'recipes': 126,\n",
              " 'still': 127,\n",
              " 'going': 128,\n",
              " 'love': 129,\n",
              " 'minutes': 130,\n",
              " 'same': 131,\n",
              " 'never': 132,\n",
              " 'now': 133,\n",
              " 'their': 134,\n",
              " 'using': 135,\n",
              " 'after': 136,\n",
              " 'cooked': 137,\n",
              " 'better': 138,\n",
              " 'bread': 139,\n",
              " 'few': 140,\n",
              " 'first': 141,\n",
              " 'find': 142,\n",
              " 'easy': 143,\n",
              " 'making': 144,\n",
              " 'take': 145,\n",
              " 'best': 146,\n",
              " 'top': 147,\n",
              " 'pretty': 148,\n",
              " 'work': 149,\n",
              " 'usually': 150,\n",
              " 'down': 151,\n",
              " 'eggs': 152,\n",
              " 'amp': 153,\n",
              " 'flavor': 154,\n",
              " 'two': 155,\n",
              " 'she': 156,\n",
              " 'once': 157,\n",
              " 'maybe': 158,\n",
              " 'fresh': 159,\n",
              " 'makes': 160,\n",
              " 'doesn': 161,\n",
              " 'might': 162,\n",
              " 'its': 163,\n",
              " 'while': 164,\n",
              " 'enough': 165,\n",
              " 'those': 166,\n",
              " 'dish': 167,\n",
              " 'long': 168,\n",
              " 'keep': 169,\n",
              " 'buy': 170,\n",
              " 'see': 171,\n",
              " 'stuff': 172,\n",
              " 'pasta': 173,\n",
              " 'why': 174,\n",
              " 'did': 175,\n",
              " 'let': 176,\n",
              " 'right': 177,\n",
              " 'onion': 178,\n",
              " 'day': 179,\n",
              " 'thanks': 180,\n",
              " 'say': 181,\n",
              " 'different': 182,\n",
              " 'cut': 183,\n",
              " 'anything': 184,\n",
              " 'probably': 185,\n",
              " 'every': 186,\n",
              " 'were': 187,\n",
              " 'ingredients': 188,\n",
              " 'these': 189,\n",
              " 'actually': 190,\n",
              " 'done': 191,\n",
              " 'com': 192,\n",
              " 'sure': 193,\n",
              " 'onions': 194,\n",
              " 'fish': 195,\n",
              " 'whole': 196,\n",
              " 'delicious': 197,\n",
              " 'bacon': 198,\n",
              " 'mix': 199,\n",
              " 'got': 200,\n",
              " 'where': 201,\n",
              " 'does': 202,\n",
              " 'nice': 203,\n",
              " 'pot': 204,\n",
              " 'many': 205,\n",
              " 'kitchen': 206,\n",
              " 'should': 207,\n",
              " 'soup': 208,\n",
              " 'beef': 209,\n",
              " 'egg': 210,\n",
              " 'they_re': 211,\n",
              " 'fat': 212,\n",
              " 'without': 213,\n",
              " 'flour': 214,\n",
              " 'sugar': 215,\n",
              " 'pepper': 216,\n",
              " 'being': 217,\n",
              " 'everything': 218,\n",
              " 'less': 219,\n",
              " 'knife': 220,\n",
              " 'give': 221,\n",
              " 'around': 222,\n",
              " 'steak': 223,\n",
              " 'small': 224,\n",
              " 'potatoes': 225,\n",
              " 'who': 226,\n",
              " 'new': 227,\n",
              " 'as_well': 228,\n",
              " 'home': 229,\n",
              " 'big': 230,\n",
              " 'stock': 231,\n",
              " 'yeah': 232,\n",
              " 'tomatoes': 233,\n",
              " 'isn': 234,\n",
              " 'chili': 235,\n",
              " 'dry': 236,\n",
              " 'pork': 237,\n",
              " 'last': 238,\n",
              " 'beans': 239,\n",
              " 'sounds': 240,\n",
              " 'back': 241,\n",
              " 'look': 242,\n",
              " 'half': 243,\n",
              " 'ever': 244,\n",
              " 'pizza': 245,\n",
              " 'her': 246,\n",
              " 'kind': 247,\n",
              " 'cup': 248,\n",
              " 'etc': 249,\n",
              " 'low': 250,\n",
              " 'sweet': 251,\n",
              " 'fine': 252,\n",
              " 'instead': 253,\n",
              " 'red': 254,\n",
              " 'said': 255,\n",
              " 'start': 256,\n",
              " 'may': 257,\n",
              " 'side': 258,\n",
              " 'white': 259,\n",
              " 'place': 260,\n",
              " 'hours': 261,\n",
              " 'both': 262,\n",
              " 'another': 263,\n",
              " 'dishes': 264,\n",
              " 'olive_oil': 265,\n",
              " 'cream': 266,\n",
              " 'milk': 267,\n",
              " 'been': 268,\n",
              " 'definitely': 269,\n",
              " 'point': 270,\n",
              " 'since': 271,\n",
              " 'fried': 272,\n",
              " 'veggies': 273,\n",
              " 'high': 274,\n",
              " 'hard': 275,\n",
              " 'http_www': 276,\n",
              " 'didn': 277,\n",
              " 'yes': 278,\n",
              " 'years': 279,\n",
              " 'least': 280,\n",
              " 'spices': 281,\n",
              " 'am': 282,\n",
              " 'times': 283,\n",
              " 'whatever': 284,\n",
              " 'green': 285,\n",
              " 'simple': 286,\n",
              " 'cold': 287,\n",
              " 'week': 288,\n",
              " 'cheap': 289,\n",
              " 'powder': 290,\n",
              " 'brown': 291,\n",
              " 'idea': 292,\n",
              " 'bad': 293,\n",
              " 'through': 294,\n",
              " 'salad': 295,\n",
              " 'feel': 296,\n",
              " 'throw': 297,\n",
              " 'either': 298,\n",
              " 'grill': 299,\n",
              " 'baking': 300,\n",
              " 'tried': 301,\n",
              " 'cast_iron': 302,\n",
              " 'vinegar': 303,\n",
              " 'amazing': 304,\n",
              " 'roast': 305,\n",
              " 'sometimes': 306,\n",
              " 'together': 307,\n",
              " 'meal': 308,\n",
              " 'super': 309,\n",
              " 'eating': 310,\n",
              " 'couple': 311,\n",
              " 'large': 312,\n",
              " 'his': 313,\n",
              " 'tomato': 314,\n",
              " 'thank_you': 315,\n",
              " 'doing': 316,\n",
              " 'part': 317,\n",
              " 'someone': 318,\n",
              " 'thought': 319,\n",
              " 'oh': 320,\n",
              " 'serve': 321,\n",
              " 'almost': 322,\n",
              " 'fridge': 323,\n",
              " 'won': 324,\n",
              " 'us': 325,\n",
              " 'else': 326,\n",
              " 'fry': 327,\n",
              " 'https_www': 328,\n",
              " 'set': 329,\n",
              " 'looks': 330,\n",
              " 'frozen': 331,\n",
              " 'hand': 332,\n",
              " 'often': 333,\n",
              " 'again': 334,\n",
              " 'vegetables': 335,\n",
              " 'seasoning': 336,\n",
              " 'looking': 337,\n",
              " 'help': 338,\n",
              " 'adding': 339,\n",
              " 'potato': 340,\n",
              " 'own': 341,\n",
              " 'restaurant': 342,\n",
              " 'nothing': 343,\n",
              " 'works': 344,\n",
              " 'our': 345,\n",
              " 'mine': 346,\n",
              " 'awesome': 347,\n",
              " 'liquid': 348,\n",
              " 'getting': 349,\n",
              " 'season': 350,\n",
              " 'wouldn': 351,\n",
              " 'found': 352,\n",
              " 'boil': 353,\n",
              " 'store': 354,\n",
              " 'old': 355,\n",
              " 'year': 356,\n",
              " 'peppers': 357,\n",
              " 'amount': 358,\n",
              " 'each': 359,\n",
              " 'end': 360,\n",
              " 'real': 361,\n",
              " 'family': 362,\n",
              " 'roasted': 363,\n",
              " 'chef': 364,\n",
              " 'dinner': 365,\n",
              " 'mean': 366,\n",
              " 'knives': 367,\n",
              " 'come': 368,\n",
              " 'away': 369,\n",
              " 'bake': 370,\n",
              " 'medium': 371,\n",
              " 'shit': 372,\n",
              " 'having': 373,\n",
              " 'turn': 374,\n",
              " 'chopped': 375,\n",
              " 'ones': 376,\n",
              " 'basically': 377,\n",
              " 'texture': 378,\n",
              " 'curry': 379,\n",
              " 'extra': 380,\n",
              " 'american': 381,\n",
              " 'trying': 382,\n",
              " 'under': 383,\n",
              " 'should_be': 384,\n",
              " 'style': 385,\n",
              " 'read': 386,\n",
              " 'yourself': 387,\n",
              " 'freeze': 388,\n",
              " 'quick': 389,\n",
              " 'raw': 390,\n",
              " 'chocolate': 391,\n",
              " 'myself': 392,\n",
              " 'bowl': 393,\n",
              " 'already': 394,\n",
              " 'added': 395,\n",
              " 'dough': 396,\n",
              " 'goes': 397,\n",
              " 'rest': 398,\n",
              " 'corn': 399,\n",
              " 'comes': 400,\n",
              " 'broth': 401,\n",
              " 'quite': 402,\n",
              " 'days': 403,\n",
              " 'guess': 404,\n",
              " 'temp': 405,\n",
              " 'remove': 406,\n",
              " 'temperature': 407,\n",
              " 'problem': 408,\n",
              " 'live': 409,\n",
              " 'method': 410,\n",
              " 'takes': 411,\n",
              " 'mustard': 412,\n",
              " 'skin': 413,\n",
              " 'worth': 414,\n",
              " 'paste': 415,\n",
              " 'full': 416,\n",
              " 'easier': 417,\n",
              " 'meals': 418,\n",
              " 'cool': 419,\n",
              " 'quality': 420,\n",
              " 'such': 421,\n",
              " 'wrong': 422,\n",
              " 'freezer': 423,\n",
              " 'especially': 424,\n",
              " 'prefer': 425,\n",
              " 'everyone': 426,\n",
              " 'leave': 427,\n",
              " 'dried': 428,\n",
              " 'lots': 429,\n",
              " 'sausage': 430,\n",
              " 'longer': 431,\n",
              " 'difference': 432,\n",
              " 'bbq': 433,\n",
              " 'sauces': 434,\n",
              " 'lemon': 435,\n",
              " 'french': 436,\n",
              " 'baked': 437,\n",
              " 'pie': 438,\n",
              " 'exactly': 439,\n",
              " 'far': 440,\n",
              " 'next': 441,\n",
              " 'tell': 442,\n",
              " 'more_than': 443,\n",
              " 'salmon': 444,\n",
              " 'italian': 445,\n",
              " 'carrots': 446,\n",
              " 'seems': 447,\n",
              " 'edit': 448,\n",
              " 'frying': 449,\n",
              " 'perfect': 450,\n",
              " 'recommend': 451,\n",
              " 'hour': 452,\n",
              " 'make_sure': 453,\n",
              " 'enjoy': 454,\n",
              " 'toss': 455,\n",
              " 'gets': 456,\n",
              " 'haven': 457,\n",
              " 'similar': 458,\n",
              " 'don_know': 459,\n",
              " 'ground': 460,\n",
              " 'too_much': 461,\n",
              " 'mayo': 462,\n",
              " 'aren': 463,\n",
              " 'smoke': 464,\n",
              " 'stick': 465,\n",
              " 'cups': 466,\n",
              " 'foods': 467,\n",
              " 'came': 468,\n",
              " 'expensive': 469,\n",
              " 'call': 470,\n",
              " 'ginger': 471,\n",
              " 'bag': 472,\n",
              " 'tsp': 473,\n",
              " 'life': 474,\n",
              " 'called': 475,\n",
              " 'absolutely': 476,\n",
              " 'however': 477,\n",
              " 'clean': 478,\n",
              " 'op': 479,\n",
              " 'him': 480,\n",
              " 'turkey': 481,\n",
              " 'simmer': 482,\n",
              " 'agree': 483,\n",
              " 'mushrooms': 484,\n",
              " 'cover': 485,\n",
              " 'chinese': 486,\n",
              " 'http': 487,\n",
              " 'black': 488,\n",
              " 'soft': 489,\n",
              " 'reason': 490,\n",
              " 'noodles': 491,\n",
              " 'tastes': 492,\n",
              " 'friend': 493,\n",
              " 'local': 494,\n",
              " 'skillet': 495,\n",
              " 'stir': 496,\n",
              " 'burger': 497,\n",
              " 'juice': 498,\n",
              " 'pans': 499,\n",
              " 'homemade': 500,\n",
              " 'open': 501,\n",
              " 'my_favorite': 502,\n",
              " 'lol': 503,\n",
              " 'learn': 504,\n",
              " 'stove': 505,\n",
              " 'sliced': 506,\n",
              " 'soy_sauce': 507,\n",
              " 'free': 508,\n",
              " 'started': 509,\n",
              " 'experience': 510,\n",
              " 'mind': 511,\n",
              " 'list': 512,\n",
              " 'heavy': 513,\n",
              " 'breakfast': 514,\n",
              " 've_never': 515,\n",
              " 'night': 516,\n",
              " 'unless': 517,\n",
              " 'wine': 518,\n",
              " 'three': 519,\n",
              " 'cooks': 520,\n",
              " 'post': 521,\n",
              " 'grilled': 522,\n",
              " 'price': 523,\n",
              " 'gravy': 524,\n",
              " 'microwave': 525,\n",
              " 'sorry': 526,\n",
              " 'warm': 527,\n",
              " 'boiling': 528,\n",
              " 'foil': 529,\n",
              " 'slice': 530,\n",
              " 've_been': 531,\n",
              " 'stew': 532,\n",
              " 'indian': 533,\n",
              " 'crust': 534,\n",
              " 'spice': 535,\n",
              " 'sear': 536,\n",
              " 'cilantro': 537,\n",
              " 'bring': 538,\n",
              " 'fruit': 539,\n",
              " 'toast': 540,\n",
              " 'wash': 541,\n",
              " 'thick': 542,\n",
              " 'steel': 543,\n",
              " 'asian': 544,\n",
              " 'inside': 545,\n",
              " 'easily': 546,\n",
              " 'light': 547,\n",
              " 'plastic': 548,\n",
              " 'deep': 549,\n",
              " 'thai': 550,\n",
              " 'means': 551,\n",
              " 'ok': 552,\n",
              " 'wasn': 553,\n",
              " 'possible': 554,\n",
              " 'honey': 555,\n",
              " 'course': 556,\n",
              " 'spicy': 557,\n",
              " 'generally': 558,\n",
              " 'between': 559,\n",
              " 'basic': 560,\n",
              " 'hate': 561,\n",
              " 'case': 562,\n",
              " 'html': 563,\n",
              " 'type': 564,\n",
              " 'regular': 565,\n",
              " 'person': 566,\n",
              " 'ready': 567,\n",
              " 'canned': 568,\n",
              " 'prep': 569,\n",
              " 'remember': 570,\n",
              " 'vegetable': 571,\n",
              " 'took': 572,\n",
              " 'herbs': 573,\n",
              " 'celery': 574,\n",
              " 'bottom': 575,\n",
              " 'second': 576,\n",
              " 'teaspoon': 577,\n",
              " 'version': 578,\n",
              " 'lid': 579,\n",
              " 'flavors': 580,\n",
              " 'shredded': 581,\n",
              " 'thin': 582,\n",
              " 'chop': 583,\n",
              " 'better_than': 584,\n",
              " 'beer': 585,\n",
              " 'book': 586,\n",
              " 'slightly': 587,\n",
              " 'needs': 588,\n",
              " 'several': 589,\n",
              " 'bought': 590,\n",
              " 'smoked': 591,\n",
              " 'house': 592,\n",
              " 'weird': 593,\n",
              " 'tacos': 594,\n",
              " 'bunch': 595,\n",
              " 'test': 596,\n",
              " 'pretty_much': 597,\n",
              " 'plus': 598,\n",
              " 'base': 599,\n",
              " 'mexican': 600,\n",
              " 'slow_cooker': 601,\n",
              " 'fun': 602,\n",
              " 'protein': 603,\n",
              " 'watch': 604,\n",
              " 'uses': 605,\n",
              " 'sandwich': 606,\n",
              " 'putting': 607,\n",
              " 'outside': 608,\n",
              " 'needed': 609,\n",
              " 'veg': 610,\n",
              " 'basil': 611,\n",
              " 'sit': 612,\n",
              " 'cinnamon': 613,\n",
              " 'anyone': 614,\n",
              " 'heard': 615,\n",
              " 'pick': 616,\n",
              " 'plate': 617,\n",
              " 'depending': 618,\n",
              " 'cake': 619,\n",
              " 'question': 620,\n",
              " 'seeds': 621,\n",
              " 'chips': 622,\n",
              " 'google': 623,\n",
              " 'size': 624,\n",
              " 'paprika': 625,\n",
              " 'process': 626,\n",
              " 'fuck': 627,\n",
              " 'pour': 628,\n",
              " 'thinking': 629,\n",
              " 'slow': 630,\n",
              " 'glass': 631,\n",
              " 'burn': 632,\n",
              " 'left': 633,\n",
              " 'ask': 634,\n",
              " 'interesting': 635,\n",
              " 'meats': 636,\n",
              " 'broccoli': 637,\n",
              " 'pieces': 638,\n",
              " 'huge': 639,\n",
              " 'fries': 640,\n",
              " 'minute': 641,\n",
              " 'pre': 642,\n",
              " 'amazon': 643,\n",
              " 'likely': 644,\n",
              " 'haha': 645,\n",
              " 'yet': 646,\n",
              " 'others': 647,\n",
              " 'honestly': 648,\n",
              " 'piece': 649,\n",
              " 'boiled': 650,\n",
              " 'tasty': 651,\n",
              " 'salt_pepper': 652,\n",
              " 'salsa': 653,\n",
              " 'care': 654,\n",
              " 'syrup': 655,\n",
              " 'mother': 656,\n",
              " 'sense': 657,\n",
              " 'spinach': 658,\n",
              " 'reduce': 659,\n",
              " 'check': 660,\n",
              " 'filling': 661,\n",
              " 'fucking': 662,\n",
              " 'smell': 663,\n",
              " 'reddit': 664,\n",
              " 'dont': 665,\n",
              " 'understand': 666,\n",
              " 'tofu': 667,\n",
              " 'wait': 668,\n",
              " 'totally': 669,\n",
              " 'damn': 670,\n",
              " 'salt_and_pepper': 671,\n",
              " 'completely': 672,\n",
              " 'hope': 673,\n",
              " 'per': 674,\n",
              " 'tea': 675,\n",
              " 'anyway': 676,\n",
              " 'must': 677,\n",
              " 'https': 678,\n",
              " 'normal': 679,\n",
              " 'later': 680,\n",
              " 'helps': 681,\n",
              " 'comment': 682,\n",
              " 'cheddar': 683,\n",
              " 'went': 684,\n",
              " 'cloves': 685,\n",
              " 'based': 686,\n",
              " 'inch': 687,\n",
              " 'flavour': 688,\n",
              " 'thermometer': 689,\n",
              " 'traditional': 690,\n",
              " 'above': 691,\n",
              " 'seen': 692,\n",
              " 'mostly': 693,\n",
              " 'close': 694,\n",
              " 'mixed': 695,\n",
              " 'burgers': 696,\n",
              " 'shrimp': 697,\n",
              " 'example': 698,\n",
              " 'sous_vide': 699,\n",
              " 'literally': 700,\n",
              " 'depends': 701,\n",
              " 'properly': 702,\n",
              " 'cheaper': 703,\n",
              " 'name': 704,\n",
              " 'gives': 705,\n",
              " 'apple': 706,\n",
              " 'advice': 707,\n",
              " 'stores': 708,\n",
              " 'dressing': 709,\n",
              " 'order': 710,\n",
              " 'saying': 711,\n",
              " 'finish': 712,\n",
              " 'covered': 713,\n",
              " 'personally': 714,\n",
              " 'serving': 715,\n",
              " 'common': 716,\n",
              " 'coffee': 717,\n",
              " 'mixture': 718,\n",
              " 'matter': 719,\n",
              " 'fast': 720,\n",
              " 'true': 721,\n",
              " 'ketchup': 722,\n",
              " 'paper': 723,\n",
              " 'lemon_juice': 724,\n",
              " 'ingredient': 725,\n",
              " 'product': 726,\n",
              " 'although': 727,\n",
              " 'diced': 728,\n",
              " 'minced': 729,\n",
              " 'cost': 730,\n",
              " 'slices': 731,\n",
              " 'lower': 732,\n",
              " 'brand': 733,\n",
              " 'buying': 734,\n",
              " 'certain': 735,\n",
              " 'avocado': 736,\n",
              " 'save': 737,\n",
              " 'sort': 738,\n",
              " 'suggest': 739,\n",
              " 'single': 740,\n",
              " 'step': 741,\n",
              " 'cumin': 742,\n",
              " 'roux': 743,\n",
              " 'soups': 744,\n",
              " 'little_bit': 745,\n",
              " 'safe': 746,\n",
              " 'surface': 747,\n",
              " 'stir_fry': 748,\n",
              " 'quickly': 749,\n",
              " 'your_own': 750,\n",
              " 'video': 751,\n",
              " 'hold': 752,\n",
              " 'wanted': 753,\n",
              " 'leaves': 754,\n",
              " 'spaghetti': 755,\n",
              " 'my_mom': 756,\n",
              " 'parts': 757,\n",
              " 'months': 758,\n",
              " 'stuffed': 759,\n",
              " 'friends': 760,\n",
              " 'lime': 761,\n",
              " 'parsley': 762,\n",
              " 'table': 763,\n",
              " 'bottle': 764,\n",
              " 'otherwise': 765,\n",
              " 'crispy': 766,\n",
              " 'guy': 767,\n",
              " 'wrap': 768,\n",
              " 'okay': 769,\n",
              " 'believe': 770,\n",
              " 'restaurants': 771,\n",
              " 'sides': 772,\n",
              " 'rather_than': 773,\n",
              " 'mac': 774,\n",
              " 'stay': 775,\n",
              " 'dip': 776,\n",
              " 'choice': 777,\n",
              " 'jar': 778,\n",
              " 'show': 779,\n",
              " 'man': 780,\n",
              " 'change': 781,\n",
              " 'ham': 782,\n",
              " 'melt': 783,\n",
              " 'spoon': 784,\n",
              " 'except': 785,\n",
              " 'actual': 786,\n",
              " 'fancy': 787,\n",
              " 'leftovers': 788,\n",
              " 'near': 789,\n",
              " 'sell': 790,\n",
              " 'duck': 791,\n",
              " 'money': 792,\n",
              " 'steaks': 793,\n",
              " 'seem': 794,\n",
              " 'healthy': 795,\n",
              " 'dark': 796,\n",
              " 'personal': 797,\n",
              " 'be_able': 798,\n",
              " 'layer': 799,\n",
              " 'black_pepper': 800,\n",
              " 'batter': 801,\n",
              " 'blender': 802,\n",
              " 'during': 803,\n",
              " 'has_been': 804,\n",
              " 'tend': 805,\n",
              " 'along': 806,\n",
              " 'ice_cream': 807,\n",
              " 'vegetarian': 808,\n",
              " 'adds': 809,\n",
              " 'deal': 810,\n",
              " 'says': 811,\n",
              " 'peel': 812,\n",
              " 'edge': 813,\n",
              " 'flakes': 814,\n",
              " 'specific': 815,\n",
              " 'sandwiches': 816,\n",
              " 've_got': 817,\n",
              " 'cutting': 818,\n",
              " 'non': 819,\n",
              " 'hands': 820,\n",
              " 'fan': 821,\n",
              " 'tip': 822,\n",
              " 'tuna': 823,\n",
              " 'leftover': 824,\n",
              " 'weeks': 825,\n",
              " 'consider': 826,\n",
              " 'yeast': 827,\n",
              " 'acid': 828,\n",
              " 'high_heat': 829,\n",
              " 'area': 830,\n",
              " 'cookware': 831,\n",
              " 'grain': 832,\n",
              " 'perfectly': 833,\n",
              " 'please': 834,\n",
              " 'hell': 835,\n",
              " 'mentioned': 836,\n",
              " 'form': 837,\n",
              " 'separate': 838,\n",
              " 'ice': 839,\n",
              " 'cookbook': 840,\n",
              " 'tender': 841,\n",
              " 'gonna': 842,\n",
              " 'drain': 843,\n",
              " 'god': 844,\n",
              " 'smaller': 845,\n",
              " 'shouldn': 846,\n",
              " 'served': 847,\n",
              " 'tbsp': 848,\n",
              " 'level': 849,\n",
              " 'stand': 850,\n",
              " 'handle': 851,\n",
              " 'become': 852,\n",
              " 'room': 853,\n",
              " 'metal': 854,\n",
              " 'ago': 855,\n",
              " 'source': 856,\n",
              " 'head': 857,\n",
              " 'market': 858,\n",
              " 'stainless_steel': 859,\n",
              " 'kinda': 860,\n",
              " 'peas': 861,\n",
              " 'world': 862,\n",
              " 'next_time': 863,\n",
              " 'youtube': 864,\n",
              " 'fantastic': 865,\n",
              " 'issue': 866,\n",
              " 'japanese': 867,\n",
              " 'bean': 868,\n",
              " 'recently': 869,\n",
              " 'cookies': 870,\n",
              " 'seasoned': 871,\n",
              " 'good_luck': 872,\n",
              " 'stainless': 873,\n",
              " 'air': 874,\n",
              " 'decent': 875,\n",
              " 'important': 876,\n",
              " 'taco': 877,\n",
              " 'rare': 878,\n",
              " 'line': 879,\n",
              " 'available': 880,\n",
              " 'soda': 881,\n",
              " 'run': 882,\n",
              " 'heating': 883,\n",
              " 'move': 884,\n",
              " 'rack': 885,\n",
              " 'sub': 886,\n",
              " 'ramen': 887,\n",
              " 'color': 888,\n",
              " 'follow': 889,\n",
              " 'end_up': 890,\n",
              " 'content': 891,\n",
              " 'grocery_store': 892,\n",
              " 'sheet': 893,\n",
              " 'coconut': 894,\n",
              " 'ton': 895,\n",
              " 'happy': 896,\n",
              " 'main': 897,\n",
              " 'sharp': 898,\n",
              " 'turns': 899,\n",
              " 'bell': 900,\n",
              " 'favorite': 901,\n",
              " 'oz': 902,\n",
              " 'worked': 903,\n",
              " 'saute': 904,\n",
              " 'wood': 905,\n",
              " 'casserole': 906,\n",
              " 'results': 907,\n",
              " 'scratch': 908,\n",
              " 'cayenne': 909,\n",
              " 'working': 910,\n",
              " 'eaten': 911,\n",
              " 'cuts': 912,\n",
              " 'moisture': 913,\n",
              " 'spend': 914,\n",
              " 'ground_beef': 915,\n",
              " 'gluten': 916,\n",
              " 'tomato_sauce': 917,\n",
              " 'middle': 918,\n",
              " 'break': 919,\n",
              " 'check_out': 920,\n",
              " 'straight': 921,\n",
              " 'orange': 922,\n",
              " 'taking': 923,\n",
              " 'learning': 924,\n",
              " 'online': 925,\n",
              " 'couldn': 926,\n",
              " 'cabbage': 927,\n",
              " 'rub': 928,\n",
              " 'batch': 929,\n",
              " 'bacteria': 930,\n",
              " 'job': 931,\n",
              " 'flip': 932,\n",
              " 'wow': 933,\n",
              " 'bags': 934,\n",
              " 'rather': 935,\n",
              " 'saw': 936,\n",
              " 'bits': 937,\n",
              " 'answer': 938,\n",
              " 'cause': 939,\n",
              " 'site': 940,\n",
              " 'rice_cooker': 941,\n",
              " 'wish': 942,\n",
              " 'feeling': 943,\n",
              " 'dutch_oven': 944,\n",
              " 'degrees': 945,\n",
              " 'kids': 946,\n",
              " 'fire': 947,\n",
              " 'places': 948,\n",
              " 'kinds': 949,\n",
              " 'technique': 950,\n",
              " 'forget': 951,\n",
              " 'drink': 952,\n",
              " 'container': 953,\n",
              " 'counter': 954,\n",
              " 'thyme': 955,\n",
              " 'tablespoons': 956,\n",
              " 'bone': 957,\n",
              " 'roasting': 958,\n",
              " 'min': 959,\n",
              " 'consistency': 960,\n",
              " 'steam': 961,\n",
              " 'wok': 962,\n",
              " 'aluminum': 963,\n",
              " 'obviously': 964,\n",
              " 'starch': 965,\n",
              " 'learned': 966,\n",
              " 'hit': 967,\n",
              " 'items': 968,\n",
              " 'tablespoon': 969,\n",
              " 'garlic_powder': 970,\n",
              " 'creamy': 971,\n",
              " 'options': 972,\n",
              " 'squash': 973,\n",
              " 'ahead': 974,\n",
              " 'alton_brown': 975,\n",
              " 'non_stick': 976,\n",
              " 'avoid': 977,\n",
              " 'my_wife': 978,\n",
              " 'pop': 979,\n",
              " 'tortillas': 980,\n",
              " 'talking_about': 981,\n",
              " 'melted': 982,\n",
              " 'double': 983,\n",
              " 'able': 984,\n",
              " 'plan': 985,\n",
              " 'link': 986,\n",
              " 'higher': 987,\n",
              " 'morning': 988,\n",
              " 'sour_cream': 989,\n",
              " 'wet': 990,\n",
              " 'smooth': 991,\n",
              " 'banana': 992,\n",
              " 'imagine': 993,\n",
              " 'grocery': 994,\n",
              " 'balsamic': 995,\n",
              " 'lb': 996,\n",
              " 'seriously': 997,\n",
              " 'difficult': 998,\n",
              " 'brown_sugar': 999,\n",
              " ...}"
            ]
          },
          "execution_count": 19,
          "metadata": {},
          "output_type": "execute_result"
        }
      ],
      "source": [
        "# from here you can ennter key-word dicts for mapping\n",
        "model.wv.key_to_index"
      ]
    },
    {
      "cell_type": "markdown",
      "metadata": {
        "id": "FsCIdl8xlBS0"
      },
      "source": [
        "## Training Word2Vec from disk\n",
        "\n",
        "Let's assume you want to train a word-embeddding model from disk. You downloaded all of Wikipedia or one of the large (multi GB datasets from Huggingface)"
      ]
    },
    {
      "cell_type": "code",
      "execution_count": 20,
      "metadata": {
        "id": "3gXWAQ-I3HN_"
      },
      "outputs": [],
      "source": [
        "# open file (not read yet) from disk\n",
        "texts_reddit = open('/content/reddit_r_cooking_sample.jsonl','r')"
      ]
    },
    {
      "cell_type": "code",
      "execution_count": 21,
      "metadata": {
        "colab": {
          "base_uri": "https://localhost:8080/",
          "height": 70
        },
        "id": "2MdG_3wLl_eV",
        "outputId": "92d1b845-4c11-4b74-b2b6-0b717a12090e"
      },
      "outputs": [
        {
          "data": {
            "application/vnd.google.colaboratory.intrinsic+json": {
              "type": "string"
            },
            "text/plain": [
              "'{\"text\":\"Where do you get the mock duck? I\\'ve only recently tried it in a restaurant and loved it. Hoisin we use for sandwich condiment mixed with sriracha. You could make those pancakes with another faux-meat. Some of those grain sausages are really good and you can slice them. The brand I buy sometimes is Field Roast. Also hoisin stir fried veggies with peanut is delicious.\",\"meta\":{\"section\":\"Cooking\",\"utc\":\"1364690064\"}}\\n'"
            ]
          },
          "execution_count": 21,
          "metadata": {},
          "output_type": "execute_result"
        }
      ],
      "source": [
        "# read single line (this will iterate over the lines)\n",
        "texts_reddit.readline()"
      ]
    },
    {
      "cell_type": "code",
      "execution_count": 22,
      "metadata": {
        "colab": {
          "base_uri": "https://localhost:8080/"
        },
        "id": "AnFNpnG1mC9r",
        "outputId": "72c93c5a-4e37-4939-94da-4550da664437"
      },
      "outputs": [
        {
          "data": {
            "text/plain": [
              "{'text': 'Microwaves are terrible. Everyone in this sub should know that they have no good culinary purpose. The reason they leave unpopped kernels is because they heat unevenly. Inside the microwave oven there are hotspots and there are coldspots. The rotating dish things try to mitigate this but it\\'s still a problem. The best way to do it is to not use the microwave. Simple as that. Learn to do it in a pan. It\\'s almost as easy as boiling water. This question is a bit like \"how do I blanch vegetables in the oven\". Use the right tool for the job.',\n",
              " 'meta': {'section': 'Cooking', 'utc': '1368260826'}}"
            ]
          },
          "execution_count": 22,
          "metadata": {},
          "output_type": "execute_result"
        }
      ],
      "source": [
        "# Decode JSON\n",
        "json.loads(texts_reddit.readline())"
      ]
    },
    {
      "cell_type": "markdown",
      "metadata": {
        "id": "t9etkw1XlcL4"
      },
      "source": [
        "We need to turn our comments into sentences (tokenize) and preprocess. No need to do on-the-fly preprocessing 15 times\n",
        "For that we create a new file `sentences.txt`, we tokenize our texts and write all sentences as lines into the new file. Using 1-sentence-per-line in TXTs is a common approach."
      ]
    },
    {
      "cell_type": "code",
      "execution_count": 23,
      "metadata": {
        "id": "s2NwEkMAmgGl"
      },
      "outputs": [],
      "source": [
        "# We need re-open to start from top\n",
        "texts_reddit = open('/content/reddit_r_cooking_sample.jsonl','r')"
      ]
    },
    {
      "cell_type": "code",
      "execution_count": 24,
      "metadata": {
        "id": "cCiWGQUH4SwS"
      },
      "outputs": [],
      "source": [
        "# open file\n",
        "with open('sentances.txt','w') as f:\n",
        "  for line in texts_reddit: # iterate over the json-lines with comments (alternative to readline())\n",
        "    line = json.loads(line) # decode json\n",
        "    for sent in sent_tokenize(line['text']): # sent-tokenize\n",
        "      f.write(sent) # write sents into the new file\n",
        "      f.write('\\n')\n",
        "  f.close()"
      ]
    },
    {
      "cell_type": "markdown",
      "metadata": {
        "id": "nkKp51UjmmSR"
      },
      "source": [
        "The next step is not easy but important and your first step to writing \"real code\".\n",
        "We need to define something that allows us to retrieve our sentences from the stored file one by one (and start from the beginning after the last one).\n",
        "\n",
        "A class with an `__iter__` function can help here. This becomes an iterator that yields them one by one. `yield` is different from `return`. The latter ends an execution and returns the \"overall\" result of a function. `yield` is called repeatedly."
      ]
    },
    {
      "cell_type": "code",
      "execution_count": 25,
      "metadata": {
        "id": "10YTGlGW8unx"
      },
      "outputs": [],
      "source": [
        "path = \"/content/sentances.txt\""
      ]
    },
    {
      "cell_type": "code",
      "execution_count": 26,
      "metadata": {
        "id": "RxpYOJwS5t3C"
      },
      "outputs": [],
      "source": [
        "class MyCorpus:\n",
        "    \"\"\"An iterator that yields sentences (lists of str).\"\"\"\n",
        "    def __iter__(self):\n",
        "        for line in open(path):\n",
        "            # assume there's one document per line, tokens separated by whitespace\n",
        "            yield utils.simple_preprocess(line)"
      ]
    },
    {
      "cell_type": "markdown",
      "metadata": {
        "id": "TKymLmULoHuL"
      },
      "source": [
        "Let's try out how that works"
      ]
    },
    {
      "cell_type": "code",
      "execution_count": 27,
      "metadata": {
        "id": "XXFJhLbz6tXF"
      },
      "outputs": [],
      "source": [
        "# instantiate a corpus object\n",
        "sentences_disk = MyCorpus()"
      ]
    },
    {
      "cell_type": "code",
      "execution_count": 28,
      "metadata": {
        "id": "ODb8_s_Rnzmt"
      },
      "outputs": [],
      "source": [
        "# define a generator (similar to list comprehension but on \"stand-by\")\n",
        "test_gen = (a for a in sentences_disk)"
      ]
    },
    {
      "cell_type": "code",
      "execution_count": 29,
      "metadata": {
        "colab": {
          "base_uri": "https://localhost:8080/"
        },
        "id": "CocqDbqrn_YH",
        "outputId": "9f6b3045-33e6-41d4-d3d3-046a0028ee53"
      },
      "outputs": [
        {
          "data": {
            "text/plain": [
              "['where', 'do', 'you', 'get', 'the', 'mock', 'duck']"
            ]
          },
          "execution_count": 29,
          "metadata": {},
          "output_type": "execute_result"
        }
      ],
      "source": [
        "# every time we call next, it runs one iteration\n",
        "next(test_gen)"
      ]
    },
    {
      "cell_type": "markdown",
      "metadata": {
        "id": "VTEy_juLoexu"
      },
      "source": [
        "Let's train our Phrases model from the disk-corpus"
      ]
    },
    {
      "cell_type": "code",
      "execution_count": 30,
      "metadata": {
        "id": "9k1uK2uWoc4n"
      },
      "outputs": [],
      "source": [
        "sentences_disk = MyCorpus()"
      ]
    },
    {
      "cell_type": "code",
      "execution_count": 31,
      "metadata": {
        "colab": {
          "base_uri": "https://localhost:8080/"
        },
        "id": "kt2v8Gm17j13",
        "outputId": "726eb27e-a931-4cee-aa0f-d3a04115d52f"
      },
      "outputs": [
        {
          "name": "stderr",
          "output_type": "stream",
          "text": [
            "2022-11-01 15:05:12,251 : INFO : collecting all words and their counts\n",
            "2022-11-01 15:05:12,269 : INFO : PROGRESS: at sentence #0, processed 0 words and 0 word types\n",
            "2022-11-01 15:05:13,049 : INFO : PROGRESS: at sentence #10000, processed 123637 words and 74036 word types\n",
            "2022-11-01 15:05:13,960 : INFO : PROGRESS: at sentence #20000, processed 245368 words and 129436 word types\n",
            "2022-11-01 15:05:14,751 : INFO : collected 176735 token types (unigram + bigrams) from a corpus of 359868 words and 29445 sentences\n",
            "2022-11-01 15:05:14,760 : INFO : merged Phrases<176735 vocab, min_count=25, threshold=20, max_vocab_size=40000000>\n",
            "2022-11-01 15:05:14,767 : INFO : Phrases lifecycle event {'msg': 'built Phrases<176735 vocab, min_count=25, threshold=20, max_vocab_size=40000000> in 2.52s', 'datetime': '2022-11-01T15:05:14.767561', 'gensim': '4.2.0', 'python': '3.7.15 (default, Oct 12 2022, 19:14:55) \\n[GCC 7.5.0]', 'platform': 'Linux-5.10.133+-x86_64-with-Ubuntu-18.04-bionic', 'event': 'created'}\n"
          ]
        }
      ],
      "source": [
        "phrase_model = Phrases(sentences_disk, min_count=25, threshold=20, connector_words=ENGLISH_CONNECTOR_WORDS)"
      ]
    },
    {
      "cell_type": "code",
      "execution_count": 32,
      "metadata": {
        "colab": {
          "base_uri": "https://localhost:8080/"
        },
        "id": "gNor6m0Z7upC",
        "outputId": "b4f0536d-4ed0-411b-e564-5c3d1f462ce3"
      },
      "outputs": [
        {
          "name": "stdout",
          "output_type": "stream",
          "text": [
            "as_well 27.471339649272448\n",
            "ve_been 41.653628014475565\n",
            "stainless_steel 339.0599520383693\n",
            "your_own 20.223897445413495\n",
            "more_than 20.47408324458768\n",
            "stir_fry 192.49911686782454\n",
            "salt_pepper 31.312819683243973\n",
            "olive_oil 184.98806397708285\n",
            "store_bought 37.18857840249137\n",
            "sour_cream 170.60931322975085\n",
            "ve_never 32.897408361970214\n",
            "slow_cooker 332.58133391235117\n",
            "mashed_potatoes 166.10432330827066\n",
            "thank_you 20.47161354330867\n",
            "tomato_sauce 20.939855748581923\n",
            "they_re 27.604060913705585\n",
            "ve_got 21.553749715437903\n",
            "check_out 30.309552392385527\n",
            "talking_about 51.24875724937863\n",
            "cast_iron 782.157477411027\n",
            "alton_brown 256.58036640165915\n",
            "pulled_pork 112.0196486780152\n",
            "http_www 292.3240096923725\n",
            "com_recipes 21.29508394248534\n",
            "better_than 33.40834415963816\n",
            "don_know 24.0042240154292\n",
            "sous_vide 1497.1500605082697\n",
            "next_time 35.865252904469585\n",
            "grocery_store 213.3450024142926\n",
            "imgur_com 81.90843485169492\n",
            "ground_beef 91.19453044375645\n",
            "grew_up 45.984822202948834\n",
            "make_sure 24.00867902694272\n",
            "chicken_breasts 29.188962816157037\n",
            "chicken_breast 42.88990454618994\n",
            "has_been 28.276186190690467\n",
            "non_stick 246.62336367864975\n",
            "little_bit 29.975005690668645\n",
            "my_wife 27.593286494925838\n",
            "high_heat 44.7203947368421\n",
            "food_processor 66.14746428794211\n",
            "chili_powder 24.752030749120788\n",
            "rice_cooker 36.07271748912206\n",
            "scrambled_eggs 133.56324845948146\n",
            "be_able 40.02815986954355\n",
            "https_www 300.9566237597211\n",
            "youtube_com 35.241276171485545\n",
            "rather_than 83.85831842090992\n",
            "end_up 20.713883875202175\n",
            "lemon_juice 209.30866025166543\n",
            "red_wine 80.15192743764173\n",
            "lime_juice 77.93407562562011\n",
            "brown_sugar 45.76318192349101\n",
            "peanut_butter 59.5200942972609\n",
            "soy_sauce 111.50473186119875\n",
            "sesame_oil 66.39327779373743\n",
            "my_favorite 38.694033935413245\n",
            "my_mom 32.58924522189829\n",
            "cutting_board 338.4231845632641\n",
            "too_much 26.600084208440656\n",
            "white_wine 23.82001725160386\n",
            "dutch_oven 133.8072131598871\n",
            "should_be 23.984295907870774\n",
            "years_ago 128.4038070328393\n",
            "pretty_much 31.305098340658056\n",
            "difference_between 34.61320015667842\n",
            "pressure_cooker 190.61151855047456\n",
            "good_luck 54.79840376665136\n",
            "ice_cream 167.13804148871264\n",
            "instant_pot 97.58558443764865\n",
            "salt_and_pepper 30.632106211869107\n",
            "amp_amp 22.885871711697714\n",
            "room_temperature 30.683159722222225\n",
            "copymethat_com 51.64669783752191\n",
            "crock_pot 79.48147148767764\n",
            "ended_up 23.950428230702514\n",
            "garlic_powder 25.50078327905347\n",
            "coconut_milk 125.34397163120568\n",
            "amazon_com 38.13726067168864\n",
            "black_pepper 84.46117084826761\n",
            "seriouseats_com 33.0386964107677\n",
            "serious_eats 99.85028248587571\n",
            "www_amazon 43.44518190757129\n",
            "pho_pho 871.4107012417822\n"
          ]
        }
      ],
      "source": [
        "for phrase, score in phrase_model.find_phrases(sentences_disk).items():\n",
        "    print(phrase, score)"
      ]
    },
    {
      "cell_type": "markdown",
      "metadata": {
        "id": "LBMdBRFOu7ht"
      },
      "source": [
        "🚀🚀🚀\n",
        "**Efficiency** is key when working from disk.\n",
        "Let's preprocess the inputs using simple-prepro and the phrases model.\n",
        "Since we preprocess our sentences into lists we need to store them using json such that we can load them into python objects, not strings"
      ]
    },
    {
      "cell_type": "code",
      "execution_count": 33,
      "metadata": {
        "id": "18xzuBc2vSQJ"
      },
      "outputs": [],
      "source": [
        "sentences_disk = MyCorpus()"
      ]
    },
    {
      "cell_type": "code",
      "execution_count": 34,
      "metadata": {
        "id": "7_pN3cEjvMBd"
      },
      "outputs": [],
      "source": [
        "# open new file (txt file with json-input)\n",
        "with open('sentances_phrases.txt','w') as f:\n",
        "  for sent in sentences_disk: # iterate over the json-lines with comments (alternative to readline())\n",
        "    f.write(json.dumps(phrase_model[sent])) # write sents into the new file\n",
        "    f.write('\\n')\n",
        "  f.close()"
      ]
    },
    {
      "cell_type": "code",
      "execution_count": 35,
      "metadata": {
        "id": "hnsk-h8Lxc5z"
      },
      "outputs": [],
      "source": [
        "path = '/content/sentances_phrases.txt'"
      ]
    },
    {
      "cell_type": "code",
      "execution_count": 36,
      "metadata": {
        "id": "Lf4mls_KwirG"
      },
      "outputs": [],
      "source": [
        "class MyCorpus_processed:\n",
        "    \"\"\"An iterator that yields sentences (lists of str).\"\"\"\n",
        "    def __iter__(self):\n",
        "        for line in open(path):\n",
        "            # assume there's one document per line, tokens separated by whitespace\n",
        "            yield json.loads(line)"
      ]
    },
    {
      "cell_type": "code",
      "execution_count": 37,
      "metadata": {
        "id": "GNIcwrU0x3KE"
      },
      "outputs": [],
      "source": [
        "sentences_disk = MyCorpus_processed()"
      ]
    },
    {
      "cell_type": "code",
      "execution_count": 38,
      "metadata": {
        "colab": {
          "base_uri": "https://localhost:8080/"
        },
        "id": "eqH5Ap63_RKI",
        "outputId": "183beb0e-b69f-4e27-8753-66d21ba145b1"
      },
      "outputs": [
        {
          "name": "stderr",
          "output_type": "stream",
          "text": [
            "2022-11-01 15:05:21,332 : INFO : collecting all words and their counts\n",
            "2022-11-01 15:05:21,334 : INFO : PROGRESS: at sentence #0, processed 0 words, keeping 0 word types\n",
            "2022-11-01 15:05:21,415 : INFO : PROGRESS: at sentence #10000, processed 121743 words, keeping 9863 word types\n",
            "2022-11-01 15:05:21,494 : INFO : PROGRESS: at sentence #20000, processed 241677 words, keeping 13807 word types\n",
            "2022-11-01 15:05:21,574 : INFO : collected 16762 word types from a corpus of 354479 raw words and 29445 sentences\n",
            "2022-11-01 15:05:21,576 : INFO : Creating a fresh vocabulary\n",
            "2022-11-01 15:05:21,608 : INFO : Word2Vec lifecycle event {'msg': 'effective_min_count=5 retains 4857 unique words (28.98% of original 16762, drops 11905)', 'datetime': '2022-11-01T15:05:21.608214', 'gensim': '4.2.0', 'python': '3.7.15 (default, Oct 12 2022, 19:14:55) \\n[GCC 7.5.0]', 'platform': 'Linux-5.10.133+-x86_64-with-Ubuntu-18.04-bionic', 'event': 'prepare_vocab'}\n",
            "2022-11-01 15:05:21,611 : INFO : Word2Vec lifecycle event {'msg': 'effective_min_count=5 leaves 335749 word corpus (94.72% of original 354479, drops 18730)', 'datetime': '2022-11-01T15:05:21.611439', 'gensim': '4.2.0', 'python': '3.7.15 (default, Oct 12 2022, 19:14:55) \\n[GCC 7.5.0]', 'platform': 'Linux-5.10.133+-x86_64-with-Ubuntu-18.04-bionic', 'event': 'prepare_vocab'}\n",
            "2022-11-01 15:05:21,649 : INFO : deleting the raw counts dictionary of 16762 items\n",
            "2022-11-01 15:05:21,652 : INFO : sample=0.001 downsamples 55 most-common words\n",
            "2022-11-01 15:05:21,653 : INFO : Word2Vec lifecycle event {'msg': 'downsampling leaves estimated 258903.2163278526 word corpus (77.1%% of prior 335749)', 'datetime': '2022-11-01T15:05:21.653476', 'gensim': '4.2.0', 'python': '3.7.15 (default, Oct 12 2022, 19:14:55) \\n[GCC 7.5.0]', 'platform': 'Linux-5.10.133+-x86_64-with-Ubuntu-18.04-bionic', 'event': 'prepare_vocab'}\n",
            "2022-11-01 15:05:21,724 : INFO : estimated required memory for 4857 words and 300 dimensions: 14085300 bytes\n",
            "2022-11-01 15:05:21,727 : INFO : resetting layer weights\n",
            "2022-11-01 15:05:21,742 : INFO : Word2Vec lifecycle event {'update': False, 'trim_rule': 'None', 'datetime': '2022-11-01T15:05:21.742835', 'gensim': '4.2.0', 'python': '3.7.15 (default, Oct 12 2022, 19:14:55) \\n[GCC 7.5.0]', 'platform': 'Linux-5.10.133+-x86_64-with-Ubuntu-18.04-bionic', 'event': 'build_vocab'}\n",
            "2022-11-01 15:05:21,745 : INFO : Word2Vec lifecycle event {'msg': 'training model with 4 workers on 4857 vocabulary and 300 features, using sg=0 hs=0 sample=0.001 negative=5 window=5 shrink_windows=True', 'datetime': '2022-11-01T15:05:21.745159', 'gensim': '4.2.0', 'python': '3.7.15 (default, Oct 12 2022, 19:14:55) \\n[GCC 7.5.0]', 'platform': 'Linux-5.10.133+-x86_64-with-Ubuntu-18.04-bionic', 'event': 'train'}\n",
            "2022-11-01 15:05:22,565 : INFO : EPOCH 0: training on 354479 raw words (258734 effective words) took 0.8s, 318865 effective words/s\n",
            "2022-11-01 15:05:23,379 : INFO : EPOCH 1: training on 354479 raw words (259131 effective words) took 0.8s, 321206 effective words/s\n",
            "2022-11-01 15:05:24,337 : INFO : EPOCH 2: training on 354479 raw words (258895 effective words) took 1.0s, 272305 effective words/s\n",
            "2022-11-01 15:05:25,158 : INFO : EPOCH 3: training on 354479 raw words (258962 effective words) took 0.8s, 317160 effective words/s\n",
            "2022-11-01 15:05:25,981 : INFO : EPOCH 4: training on 354479 raw words (258846 effective words) took 0.8s, 316959 effective words/s\n",
            "2022-11-01 15:05:26,813 : INFO : EPOCH 5: training on 354479 raw words (258785 effective words) took 0.8s, 314741 effective words/s\n",
            "2022-11-01 15:05:27,607 : INFO : EPOCH 6: training on 354479 raw words (258759 effective words) took 0.8s, 328409 effective words/s\n",
            "2022-11-01 15:05:28,537 : INFO : EPOCH 7: training on 354479 raw words (258962 effective words) took 0.9s, 280181 effective words/s\n",
            "2022-11-01 15:05:29,367 : INFO : EPOCH 8: training on 354479 raw words (259019 effective words) took 0.8s, 314253 effective words/s\n",
            "2022-11-01 15:05:30,190 : INFO : EPOCH 9: training on 354479 raw words (258685 effective words) took 0.8s, 316390 effective words/s\n",
            "2022-11-01 15:05:31,032 : INFO : EPOCH 10: training on 354479 raw words (259001 effective words) took 0.8s, 310402 effective words/s\n",
            "2022-11-01 15:05:31,962 : INFO : EPOCH 11: training on 354479 raw words (258619 effective words) took 0.9s, 280617 effective words/s\n",
            "2022-11-01 15:05:32,769 : INFO : EPOCH 12: training on 354479 raw words (258906 effective words) took 0.8s, 323556 effective words/s\n",
            "2022-11-01 15:05:33,596 : INFO : EPOCH 13: training on 354479 raw words (259160 effective words) took 0.8s, 316508 effective words/s\n",
            "2022-11-01 15:05:34,415 : INFO : EPOCH 14: training on 354479 raw words (258855 effective words) took 0.8s, 319286 effective words/s\n",
            "2022-11-01 15:05:34,418 : INFO : Word2Vec lifecycle event {'msg': 'training on 5317185 raw words (3883319 effective words) took 12.7s, 306524 effective words/s', 'datetime': '2022-11-01T15:05:34.418642', 'gensim': '4.2.0', 'python': '3.7.15 (default, Oct 12 2022, 19:14:55) \\n[GCC 7.5.0]', 'platform': 'Linux-5.10.133+-x86_64-with-Ubuntu-18.04-bionic', 'event': 'train'}\n",
            "2022-11-01 15:05:34,423 : INFO : Word2Vec lifecycle event {'params': 'Word2Vec<vocab=4857, vector_size=300, alpha=0.025>', 'datetime': '2022-11-01T15:05:34.422974', 'gensim': '4.2.0', 'python': '3.7.15 (default, Oct 12 2022, 19:14:55) \\n[GCC 7.5.0]', 'platform': 'Linux-5.10.133+-x86_64-with-Ubuntu-18.04-bionic', 'event': 'created'}\n"
          ]
        }
      ],
      "source": [
        "# or we just add it to the training\n",
        "model = gensim.models.Word2Vec(sentences=sentences_disk, \n",
        "                               vector_size=300, \n",
        "                               window=5, \n",
        "                               min_count=5, \n",
        "                               workers=4, \n",
        "                               epochs=15)"
      ]
    },
    {
      "cell_type": "code",
      "execution_count": 39,
      "metadata": {
        "colab": {
          "base_uri": "https://localhost:8080/"
        },
        "id": "wkIQ0f-HBQ29",
        "outputId": "357268a0-7a2a-4b2e-ba44-2cdd4519c15e"
      },
      "outputs": [
        {
          "data": {
            "text/plain": [
              "[('thyme', 0.9487970471382141),\n",
              " ('bay', 0.9379823803901672),\n",
              " ('basil', 0.9286872148513794),\n",
              " ('chilies', 0.9284491539001465),\n",
              " ('chives', 0.928163468837738),\n",
              " ('parsley', 0.9272999167442322),\n",
              " ('oregano', 0.9271392226219177),\n",
              " ('chile', 0.925579845905304),\n",
              " ('mint', 0.9250453114509583),\n",
              " ('carrot', 0.9242677688598633)]"
            ]
          },
          "execution_count": 39,
          "metadata": {},
          "output_type": "execute_result"
        }
      ],
      "source": [
        "model.wv.most_similar('coriander')"
      ]
    },
    {
      "cell_type": "markdown",
      "metadata": {
        "id": "_jDW5gJgt7wv"
      },
      "source": [
        "### Bonus: Training FastText\n",
        "\n",
        "training of FastText is syntax-wise the same.\n",
        "There are a few other paras that you can tune"
      ]
    },
    {
      "cell_type": "code",
      "execution_count": 40,
      "metadata": {
        "colab": {
          "base_uri": "https://localhost:8080/"
        },
        "id": "v4CzDHe3APOb",
        "outputId": "7aa3bfba-f642-4167-8393-4bd890e1da2a"
      },
      "outputs": [
        {
          "name": "stderr",
          "output_type": "stream",
          "text": [
            "2022-11-01 15:05:34,458 : INFO : collecting all words and their counts\n",
            "2022-11-01 15:05:34,460 : INFO : PROGRESS: at sentence #0, processed 0 words, keeping 0 word types\n",
            "2022-11-01 15:05:34,590 : INFO : PROGRESS: at sentence #10000, processed 121743 words, keeping 9863 word types\n",
            "2022-11-01 15:05:34,665 : INFO : PROGRESS: at sentence #20000, processed 241677 words, keeping 13807 word types\n",
            "2022-11-01 15:05:34,736 : INFO : collected 16762 word types from a corpus of 354479 raw words and 29445 sentences\n",
            "2022-11-01 15:05:34,738 : INFO : Creating a fresh vocabulary\n",
            "2022-11-01 15:05:34,773 : INFO : FastText lifecycle event {'msg': 'effective_min_count=5 retains 4857 unique words (28.98% of original 16762, drops 11905)', 'datetime': '2022-11-01T15:05:34.773171', 'gensim': '4.2.0', 'python': '3.7.15 (default, Oct 12 2022, 19:14:55) \\n[GCC 7.5.0]', 'platform': 'Linux-5.10.133+-x86_64-with-Ubuntu-18.04-bionic', 'event': 'prepare_vocab'}\n",
            "2022-11-01 15:05:34,775 : INFO : FastText lifecycle event {'msg': 'effective_min_count=5 leaves 335749 word corpus (94.72% of original 354479, drops 18730)', 'datetime': '2022-11-01T15:05:34.775220', 'gensim': '4.2.0', 'python': '3.7.15 (default, Oct 12 2022, 19:14:55) \\n[GCC 7.5.0]', 'platform': 'Linux-5.10.133+-x86_64-with-Ubuntu-18.04-bionic', 'event': 'prepare_vocab'}\n",
            "2022-11-01 15:05:34,827 : INFO : deleting the raw counts dictionary of 16762 items\n",
            "2022-11-01 15:05:34,834 : INFO : sample=0.001 downsamples 55 most-common words\n",
            "2022-11-01 15:05:34,837 : INFO : FastText lifecycle event {'msg': 'downsampling leaves estimated 258903.2163278526 word corpus (77.1%% of prior 335749)', 'datetime': '2022-11-01T15:05:34.837011', 'gensim': '4.2.0', 'python': '3.7.15 (default, Oct 12 2022, 19:14:55) \\n[GCC 7.5.0]', 'platform': 'Linux-5.10.133+-x86_64-with-Ubuntu-18.04-bionic', 'event': 'prepare_vocab'}\n",
            "2022-11-01 15:05:34,936 : INFO : estimated required memory for 4857 words, 2000000 buckets and 300 dimensions: 2414943496 bytes\n",
            "2022-11-01 15:05:34,939 : INFO : resetting layer weights\n",
            "2022-11-01 15:05:39,193 : INFO : FastText lifecycle event {'update': False, 'trim_rule': 'None', 'datetime': '2022-11-01T15:05:39.193915', 'gensim': '4.2.0', 'python': '3.7.15 (default, Oct 12 2022, 19:14:55) \\n[GCC 7.5.0]', 'platform': 'Linux-5.10.133+-x86_64-with-Ubuntu-18.04-bionic', 'event': 'build_vocab'}\n",
            "2022-11-01 15:05:39,197 : INFO : FastText lifecycle event {'msg': 'training model with 4 workers on 4857 vocabulary and 300 features, using sg=0 hs=0 sample=0.001 negative=5 window=8 shrink_windows=True', 'datetime': '2022-11-01T15:05:39.197194', 'gensim': '4.2.0', 'python': '3.7.15 (default, Oct 12 2022, 19:14:55) \\n[GCC 7.5.0]', 'platform': 'Linux-5.10.133+-x86_64-with-Ubuntu-18.04-bionic', 'event': 'train'}\n",
            "2022-11-01 15:05:40,262 : INFO : EPOCH 0 - PROGRESS: at 13.84% examples, 34414 words/s, in_qsize 8, out_qsize 0\n",
            "2022-11-01 15:05:41,299 : INFO : EPOCH 0 - PROGRESS: at 36.11% examples, 45235 words/s, in_qsize 7, out_qsize 0\n",
            "2022-11-01 15:05:42,309 : INFO : EPOCH 0 - PROGRESS: at 58.70% examples, 49428 words/s, in_qsize 8, out_qsize 0\n",
            "2022-11-01 15:05:43,364 : INFO : EPOCH 0 - PROGRESS: at 84.42% examples, 52682 words/s, in_qsize 6, out_qsize 0\n",
            "2022-11-01 15:05:43,837 : INFO : EPOCH 0: training on 354479 raw words (259023 effective words) took 4.6s, 55892 effective words/s\n",
            "2022-11-01 15:05:45,133 : INFO : EPOCH 1 - PROGRESS: at 16.72% examples, 33971 words/s, in_qsize 7, out_qsize 0\n",
            "2022-11-01 15:05:46,198 : INFO : EPOCH 1 - PROGRESS: at 41.79% examples, 46604 words/s, in_qsize 8, out_qsize 0\n",
            "2022-11-01 15:05:47,276 : INFO : EPOCH 1 - PROGRESS: at 67.50% examples, 51111 words/s, in_qsize 7, out_qsize 0\n",
            "2022-11-01 15:05:48,459 : INFO : EPOCH 1 - PROGRESS: at 93.09% examples, 52217 words/s, in_qsize 3, out_qsize 1\n",
            "2022-11-01 15:05:48,557 : INFO : EPOCH 1: training on 354479 raw words (259125 effective words) took 4.7s, 54964 effective words/s\n",
            "2022-11-01 15:05:49,638 : INFO : EPOCH 2 - PROGRESS: at 16.72% examples, 40702 words/s, in_qsize 7, out_qsize 0\n",
            "2022-11-01 15:05:50,808 : INFO : EPOCH 2 - PROGRESS: at 41.83% examples, 48736 words/s, in_qsize 7, out_qsize 0\n",
            "2022-11-01 15:05:51,870 : INFO : EPOCH 2 - PROGRESS: at 64.58% examples, 50761 words/s, in_qsize 7, out_qsize 0\n",
            "2022-11-01 15:05:52,909 : INFO : EPOCH 2 - PROGRESS: at 87.33% examples, 52042 words/s, in_qsize 5, out_qsize 0\n",
            "2022-11-01 15:05:53,155 : INFO : EPOCH 2: training on 354479 raw words (258812 effective words) took 4.6s, 56348 effective words/s\n",
            "2022-11-01 15:05:54,263 : INFO : EPOCH 3 - PROGRESS: at 17.00% examples, 39667 words/s, in_qsize 7, out_qsize 0\n",
            "2022-11-01 15:05:55,378 : INFO : EPOCH 3 - PROGRESS: at 41.79% examples, 49674 words/s, in_qsize 7, out_qsize 0\n",
            "2022-11-01 15:05:56,470 : INFO : EPOCH 3 - PROGRESS: at 64.58% examples, 50736 words/s, in_qsize 7, out_qsize 0\n",
            "2022-11-01 15:05:57,471 : INFO : EPOCH 3 - PROGRESS: at 90.20% examples, 54162 words/s, in_qsize 4, out_qsize 0\n",
            "2022-11-01 15:05:57,838 : INFO : EPOCH 3: training on 354479 raw words (258769 effective words) took 4.7s, 55313 effective words/s\n",
            "2022-11-01 15:05:58,984 : INFO : EPOCH 4 - PROGRESS: at 17.00% examples, 38500 words/s, in_qsize 7, out_qsize 0\n",
            "2022-11-01 15:06:00,128 : INFO : EPOCH 4 - PROGRESS: at 41.79% examples, 48040 words/s, in_qsize 6, out_qsize 1\n",
            "2022-11-01 15:06:01,592 : INFO : EPOCH 4 - PROGRESS: at 70.01% examples, 48787 words/s, in_qsize 6, out_qsize 1\n",
            "2022-11-01 15:06:02,559 : INFO : EPOCH 4: training on 354479 raw words (259018 effective words) took 4.7s, 54971 effective words/s\n",
            "2022-11-01 15:06:03,728 : INFO : EPOCH 5 - PROGRESS: at 16.72% examples, 37670 words/s, in_qsize 7, out_qsize 0\n",
            "2022-11-01 15:06:04,800 : INFO : EPOCH 5 - PROGRESS: at 41.83% examples, 49032 words/s, in_qsize 7, out_qsize 0\n",
            "2022-11-01 15:06:05,833 : INFO : EPOCH 5 - PROGRESS: at 64.58% examples, 51457 words/s, in_qsize 7, out_qsize 0\n",
            "2022-11-01 15:06:06,893 : INFO : EPOCH 5 - PROGRESS: at 87.33% examples, 52304 words/s, in_qsize 5, out_qsize 0\n",
            "2022-11-01 15:06:07,242 : INFO : EPOCH 5: training on 354479 raw words (258982 effective words) took 4.7s, 55367 effective words/s\n",
            "2022-11-01 15:06:08,251 : INFO : EPOCH 6 - PROGRESS: at 14.16% examples, 36428 words/s, in_qsize 7, out_qsize 0\n",
            "2022-11-01 15:06:09,314 : INFO : EPOCH 6 - PROGRESS: at 38.89% examples, 49524 words/s, in_qsize 7, out_qsize 0\n",
            "2022-11-01 15:06:10,670 : INFO : EPOCH 6 - PROGRESS: at 64.13% examples, 49113 words/s, in_qsize 7, out_qsize 0\n",
            "2022-11-01 15:06:11,695 : INFO : EPOCH 6 - PROGRESS: at 90.20% examples, 52541 words/s, in_qsize 4, out_qsize 0\n",
            "2022-11-01 15:06:11,902 : INFO : EPOCH 6: training on 354479 raw words (258759 effective words) took 4.7s, 55621 effective words/s\n",
            "2022-11-01 15:06:12,912 : INFO : EPOCH 7 - PROGRESS: at 14.16% examples, 36233 words/s, in_qsize 7, out_qsize 0\n",
            "2022-11-01 15:06:13,962 : INFO : EPOCH 7 - PROGRESS: at 36.23% examples, 46156 words/s, in_qsize 8, out_qsize 0\n",
            "2022-11-01 15:06:15,020 : INFO : EPOCH 7 - PROGRESS: at 58.62% examples, 49249 words/s, in_qsize 7, out_qsize 0\n",
            "2022-11-01 15:06:16,066 : INFO : EPOCH 7 - PROGRESS: at 84.42% examples, 52679 words/s, in_qsize 6, out_qsize 0\n",
            "2022-11-01 15:06:16,555 : INFO : EPOCH 7: training on 354479 raw words (258846 effective words) took 4.6s, 55689 effective words/s\n",
            "2022-11-01 15:06:17,770 : INFO : EPOCH 8 - PROGRESS: at 13.84% examples, 30189 words/s, in_qsize 7, out_qsize 0\n",
            "2022-11-01 15:06:18,815 : INFO : EPOCH 8 - PROGRESS: at 33.45% examples, 38872 words/s, in_qsize 7, out_qsize 0\n",
            "2022-11-01 15:06:20,099 : INFO : EPOCH 8 - PROGRESS: at 53.05% examples, 39280 words/s, in_qsize 7, out_qsize 0\n",
            "2022-11-01 15:06:21,204 : INFO : EPOCH 8 - PROGRESS: at 78.59% examples, 44106 words/s, in_qsize 7, out_qsize 0\n",
            "2022-11-01 15:06:21,853 : INFO : EPOCH 8: training on 354479 raw words (259101 effective words) took 5.3s, 48962 effective words/s\n",
            "2022-11-01 15:06:22,921 : INFO : EPOCH 9 - PROGRESS: at 17.10% examples, 41789 words/s, in_qsize 7, out_qsize 0\n",
            "2022-11-01 15:06:24,141 : INFO : EPOCH 9 - PROGRESS: at 36.23% examples, 41666 words/s, in_qsize 7, out_qsize 0\n",
            "2022-11-01 15:06:25,165 : INFO : EPOCH 9 - PROGRESS: at 55.71% examples, 44273 words/s, in_qsize 8, out_qsize 0\n",
            "2022-11-01 15:06:26,175 : INFO : EPOCH 9 - PROGRESS: at 72.96% examples, 44063 words/s, in_qsize 6, out_qsize 1\n",
            "2022-11-01 15:06:27,010 : INFO : EPOCH 9: training on 354479 raw words (258780 effective words) took 5.1s, 50257 effective words/s\n",
            "2022-11-01 15:06:28,080 : INFO : EPOCH 10 - PROGRESS: at 14.16% examples, 34388 words/s, in_qsize 7, out_qsize 0\n",
            "2022-11-01 15:06:29,167 : INFO : EPOCH 10 - PROGRESS: at 38.89% examples, 47694 words/s, in_qsize 7, out_qsize 0\n",
            "2022-11-01 15:06:30,160 : INFO : EPOCH 10 - PROGRESS: at 58.62% examples, 48840 words/s, in_qsize 7, out_qsize 0\n",
            "2022-11-01 15:06:31,248 : INFO : EPOCH 10 - PROGRESS: at 84.42% examples, 51829 words/s, in_qsize 6, out_qsize 0\n",
            "2022-11-01 15:06:31,668 : INFO : EPOCH 10: training on 354479 raw words (258839 effective words) took 4.6s, 55672 effective words/s\n",
            "2022-11-01 15:06:32,750 : INFO : EPOCH 11 - PROGRESS: at 17.10% examples, 40568 words/s, in_qsize 7, out_qsize 0\n",
            "2022-11-01 15:06:33,824 : INFO : EPOCH 11 - PROGRESS: at 39.13% examples, 47475 words/s, in_qsize 7, out_qsize 0\n",
            "2022-11-01 15:06:34,876 : INFO : EPOCH 11 - PROGRESS: at 61.61% examples, 50186 words/s, in_qsize 7, out_qsize 0\n",
            "2022-11-01 15:06:36,007 : INFO : EPOCH 11 - PROGRESS: at 87.28% examples, 52228 words/s, in_qsize 5, out_qsize 0\n",
            "2022-11-01 15:06:36,347 : INFO : EPOCH 11: training on 354479 raw words (258920 effective words) took 4.7s, 55387 effective words/s\n",
            "2022-11-01 15:06:37,357 : INFO : EPOCH 12 - PROGRESS: at 14.16% examples, 36290 words/s, in_qsize 7, out_qsize 0\n",
            "2022-11-01 15:06:38,598 : INFO : EPOCH 12 - PROGRESS: at 36.11% examples, 42216 words/s, in_qsize 7, out_qsize 0\n",
            "2022-11-01 15:06:39,687 : INFO : EPOCH 12 - PROGRESS: at 61.66% examples, 48193 words/s, in_qsize 7, out_qsize 0\n",
            "2022-11-01 15:06:40,716 : INFO : EPOCH 12 - PROGRESS: at 87.33% examples, 51864 words/s, in_qsize 5, out_qsize 0\n",
            "2022-11-01 15:06:41,131 : INFO : EPOCH 12: training on 354479 raw words (258919 effective words) took 4.8s, 54177 effective words/s\n",
            "2022-11-01 15:06:42,194 : INFO : EPOCH 13 - PROGRESS: at 17.00% examples, 41297 words/s, in_qsize 7, out_qsize 0\n",
            "2022-11-01 15:06:43,211 : INFO : EPOCH 13 - PROGRESS: at 38.89% examples, 49374 words/s, in_qsize 7, out_qsize 0\n",
            "2022-11-01 15:06:44,336 : INFO : EPOCH 13 - PROGRESS: at 61.61% examples, 50295 words/s, in_qsize 7, out_qsize 0\n",
            "2022-11-01 15:06:45,394 : INFO : EPOCH 13 - PROGRESS: at 84.42% examples, 51494 words/s, in_qsize 6, out_qsize 0\n",
            "2022-11-01 15:06:45,833 : INFO : EPOCH 13: training on 354479 raw words (258972 effective words) took 4.7s, 55148 effective words/s\n",
            "2022-11-01 15:06:46,879 : INFO : EPOCH 14 - PROGRESS: at 14.16% examples, 35151 words/s, in_qsize 7, out_qsize 0\n",
            "2022-11-01 15:06:47,898 : INFO : EPOCH 14 - PROGRESS: at 36.23% examples, 46102 words/s, in_qsize 7, out_qsize 0\n",
            "2022-11-01 15:06:48,905 : INFO : EPOCH 14 - PROGRESS: at 58.70% examples, 50096 words/s, in_qsize 7, out_qsize 0\n",
            "2022-11-01 15:06:49,948 : INFO : EPOCH 14 - PROGRESS: at 78.82% examples, 49806 words/s, in_qsize 7, out_qsize 0\n",
            "2022-11-01 15:06:51,011 : INFO : EPOCH 14 - PROGRESS: at 91.53% examples, 45861 words/s, in_qsize 3, out_qsize 1\n",
            "2022-11-01 15:06:51,166 : INFO : EPOCH 14: training on 354479 raw words (258809 effective words) took 5.3s, 48601 effective words/s\n",
            "2022-11-01 15:06:51,174 : INFO : FastText lifecycle event {'msg': 'training on 5317185 raw words (3883674 effective words) took 72.0s, 53960 effective words/s', 'datetime': '2022-11-01T15:06:51.174220', 'gensim': '4.2.0', 'python': '3.7.15 (default, Oct 12 2022, 19:14:55) \\n[GCC 7.5.0]', 'platform': 'Linux-5.10.133+-x86_64-with-Ubuntu-18.04-bionic', 'event': 'train'}\n",
            "2022-11-01 15:06:51,520 : INFO : FastText lifecycle event {'params': 'FastText<vocab=4857, vector_size=300, alpha=0.025>', 'datetime': '2022-11-01T15:06:51.520776', 'gensim': '4.2.0', 'python': '3.7.15 (default, Oct 12 2022, 19:14:55) \\n[GCC 7.5.0]', 'platform': 'Linux-5.10.133+-x86_64-with-Ubuntu-18.04-bionic', 'event': 'created'}\n"
          ]
        }
      ],
      "source": [
        "model_fasttext = FastText(sentences = sentences_disk, \n",
        "                          vector_size=300, \n",
        "                          window=8, \n",
        "                          min_count=5, \n",
        "                          workers=4, \n",
        "                          epochs=15)"
      ]
    },
    {
      "cell_type": "code",
      "execution_count": 41,
      "metadata": {
        "colab": {
          "base_uri": "https://localhost:8080/"
        },
        "id": "s8hXrlwZAoyw",
        "outputId": "9ace0207-0cb5-4865-f643-93f5ea9a8aa9"
      },
      "outputs": [
        {
          "data": {
            "text/plain": [
              "[('chowder', 0.9274277091026306),\n",
              " ('chili_powder', 0.9191348552703857),\n",
              " ('black_pepper', 0.9164717197418213),\n",
              " ('powder', 0.9057203531265259),\n",
              " ('powders', 0.9046632647514343),\n",
              " ('cayenne', 0.902331531047821),\n",
              " ('garlic_powder', 0.9016087055206299),\n",
              " ('powdered', 0.9012802839279175),\n",
              " ('pepper', 0.8967088460922241),\n",
              " ('oregano', 0.8918057084083557)]"
            ]
          },
          "execution_count": 41,
          "metadata": {},
          "output_type": "execute_result"
        }
      ],
      "source": [
        "model_fasttext.wv.most_similar('coriander')"
      ]
    },
    {
      "cell_type": "code",
      "execution_count": 42,
      "metadata": {
        "colab": {
          "base_uri": "https://localhost:8080/"
        },
        "id": "IZtg7Ep3BMm4",
        "outputId": "67cbc493-d4fa-40e7-d38c-795967df32d9"
      },
      "outputs": [
        {
          "data": {
            "text/plain": [
              "array([-0.12078518,  0.597558  ,  0.00331327,  1.0297153 ,  0.09155773,\n",
              "        0.29574957,  0.73296636,  0.4650821 ,  0.384209  ,  0.21762931,\n",
              "       -0.6055789 , -0.051665  ,  0.39077055, -0.45504335, -0.20111151,\n",
              "        0.39284787, -0.06931885,  0.18525817, -0.00431984,  0.03986278,\n",
              "       -0.1095335 ,  0.6636997 , -0.09697071,  0.5727559 ,  0.2781841 ,\n",
              "       -0.37117946, -0.09656594, -0.3709168 , -0.58877665, -0.32047302,\n",
              "       -0.32964802, -0.43679228, -0.3207291 , -0.35386488, -0.03786171,\n",
              "       -0.36373922,  0.02904632, -0.26232532,  0.41615665,  0.30471483,\n",
              "        0.19186927,  0.68935853, -0.46712887, -0.08489431, -0.08985439,\n",
              "       -0.06875525, -0.11272377,  0.43016848,  0.3556957 ,  0.15710631,\n",
              "        0.08752429, -0.32841668, -0.78596765, -0.2321159 , -0.9267788 ,\n",
              "        0.44065472,  0.7954728 , -0.68115926,  1.067942  , -0.09555547,\n",
              "       -1.3683629 ,  0.54949826, -0.5056994 ,  0.32614797,  1.0164382 ,\n",
              "       -0.62646544,  0.07067577,  0.28844243, -0.08612514, -0.4436712 ,\n",
              "       -0.2577243 ,  0.14145552,  0.8136598 , -0.96215415, -0.5127158 ,\n",
              "       -0.08127981, -0.6858838 ,  0.08825368, -0.29544476, -0.13858242,\n",
              "       -0.44982526, -0.70342284, -0.7428419 , -0.22174099, -0.11590289,\n",
              "        0.30729428, -0.42499265,  0.07905994,  0.42816922, -0.21676828,\n",
              "        0.09367854,  0.41319185,  0.2454524 , -0.07041488,  0.42960513,\n",
              "        0.69831604,  1.1748174 , -0.42698744,  0.11042341,  0.4333739 ,\n",
              "        0.38373658,  0.6469893 ,  0.17560178,  0.19398113,  0.74733037,\n",
              "        0.43419307,  0.15225238,  0.03971395, -0.19974092,  0.30005348,\n",
              "       -0.4275592 , -0.24160816, -0.8100191 ,  1.017543  , -0.05386464,\n",
              "       -0.35461017, -0.40413657, -0.11696824,  0.5177796 , -0.3014064 ,\n",
              "        0.34461486,  0.24830873,  0.52778953,  0.34236145, -0.23699553,\n",
              "        0.40910697,  0.41930616, -0.7726375 , -0.35486558, -0.40189123,\n",
              "        0.08733363, -0.12596995,  0.5180975 , -0.49333122,  0.25948164,\n",
              "       -0.10446009,  0.41868588, -0.24810368, -0.42375445, -0.31575933,\n",
              "        0.06515789,  0.05322792,  0.6389165 ,  0.3978808 ,  0.586596  ,\n",
              "        0.07581823, -1.0188024 , -0.41749233,  0.21707988, -0.5692868 ,\n",
              "        0.21097521, -0.20873906, -0.48794892,  0.3739709 , -0.16439028,\n",
              "       -0.22817463, -0.06613752, -0.05796667,  0.6515375 , -0.06962149,\n",
              "        0.38304126,  0.60732514, -0.11727335,  0.8835688 , -0.4139743 ,\n",
              "       -0.24747422,  0.4576976 , -0.3569979 ,  0.08300622,  0.69006187,\n",
              "        0.3792306 ,  0.49291858,  0.45686558,  0.40757358,  0.71956664,\n",
              "        0.73978233, -0.01284383,  0.5271219 , -0.5385575 , -0.53711385,\n",
              "        0.4317623 , -1.1703304 , -0.31525275, -0.6186903 ,  0.158183  ,\n",
              "       -0.07355294,  0.18162918, -0.8152524 ,  0.33403382, -0.541344  ,\n",
              "        0.52764744, -0.22993578,  0.2480811 , -0.8820063 , -0.5769916 ,\n",
              "       -0.3593477 , -0.3924592 , -0.05659795,  0.5491557 , -0.3432863 ,\n",
              "       -0.6178281 ,  0.07966799, -0.0879441 , -0.34147087, -0.08648296,\n",
              "       -0.49753767,  0.07001973, -0.32492954, -0.46383175, -0.00283346,\n",
              "       -0.43111202,  0.03225176, -1.3866607 ,  0.5973966 ,  0.2705374 ,\n",
              "       -0.8894979 , -0.13706835, -0.13765986, -0.1705268 , -0.3221482 ,\n",
              "       -0.17733377, -0.1095451 ,  0.02877139, -0.12528165, -0.63368815,\n",
              "       -0.6930017 , -0.81027186, -0.12393912,  0.09771516, -0.26210248,\n",
              "        0.47320965,  0.05694085, -0.00836763, -0.5859519 , -0.23431644,\n",
              "       -0.1992004 ,  0.48521906,  0.1297067 , -0.6027711 , -0.6021574 ,\n",
              "       -0.01711595, -0.15012689, -0.00410112, -0.23348457, -0.2567464 ,\n",
              "       -0.1907681 ,  0.24074897,  0.4967656 ,  0.0686257 ,  0.354829  ,\n",
              "        0.8180825 , -0.47114077,  0.16642724, -0.0565226 , -0.5188247 ,\n",
              "       -0.26981547,  0.31153393,  0.58046746, -0.2401842 ,  0.6822789 ,\n",
              "       -0.13227254,  0.07168728, -0.44007036, -0.45818904, -0.27480423,\n",
              "       -0.02752054, -0.27346066, -0.5924129 ,  0.20934078, -0.17739408,\n",
              "       -0.29804227,  0.36046058, -0.83179504, -0.31483147,  0.05348942,\n",
              "        0.02093589,  0.2847217 ,  0.3248669 ,  0.20625207, -0.19447005,\n",
              "        0.29524142,  0.06810032,  0.7696339 , -0.20375219,  0.43024498,\n",
              "        0.34389487,  0.21578883,  0.43050143,  0.01124156,  0.19433111,\n",
              "       -0.8516944 , -0.11472934,  0.11551993, -0.23489325,  0.5844734 ,\n",
              "        0.15259366,  0.0027859 , -1.1736687 ,  0.8541493 , -0.37202606],\n",
              "      dtype=float32)"
            ]
          },
          "execution_count": 42,
          "metadata": {},
          "output_type": "execute_result"
        }
      ],
      "source": [
        "model.wv['powder']"
      ]
    },
    {
      "cell_type": "markdown",
      "metadata": {
        "id": "jPPdBczQywEi"
      },
      "source": [
        "## Visualizing Word-Vectors\n",
        "\n",
        "now that we have our Word-vectors we should be able to reduce their dimensionality to explore visually"
      ]
    },
    {
      "cell_type": "code",
      "execution_count": 43,
      "metadata": {
        "colab": {
          "base_uri": "https://localhost:8080/"
        },
        "id": "vp5ja48Oy26Q",
        "outputId": "d3d4118f-d19c-4d24-84ec-9a5b87b35253"
      },
      "outputs": [
        {
          "name": "stdout",
          "output_type": "stream",
          "text": [
            "\u001b[K     |████████████████████████████████| 88 kB 3.2 MB/s \n",
            "\u001b[K     |████████████████████████████████| 1.1 MB 24.1 MB/s \n",
            "\u001b[?25h  Building wheel for umap-learn (setup.py) ... \u001b[?25l\u001b[?25hdone\n",
            "  Building wheel for pynndescent (setup.py) ... \u001b[?25l\u001b[?25hdone\n"
          ]
        }
      ],
      "source": [
        "!pip install umap-learn -q"
      ]
    },
    {
      "cell_type": "code",
      "execution_count": 44,
      "metadata": {
        "id": "QQrstZdjy4rz"
      },
      "outputs": [],
      "source": [
        "import random\n",
        "import umap\n",
        "import altair as alt"
      ]
    },
    {
      "cell_type": "code",
      "execution_count": 45,
      "metadata": {
        "id": "vvkLXXK2MMtx"
      },
      "outputs": [],
      "source": [
        "# picking 2000 random vectors from the W2V model\n",
        "idx = random.sample(range(len(model.wv.vectors)), 2000)"
      ]
    },
    {
      "cell_type": "code",
      "execution_count": 46,
      "metadata": {
        "id": "8Xhd-NA7Kwrm"
      },
      "outputs": [],
      "source": [
        "# creating 2D reduction\n",
        "umap_reducer = umap.UMAP(random_state=42, n_components=2)\n",
        "embeddings = umap_reducer.fit_transform(model.wv.vectors[idx])"
      ]
    },
    {
      "cell_type": "code",
      "execution_count": 47,
      "metadata": {
        "id": "cmrRGZ3ZMsgy"
      },
      "outputs": [],
      "source": [
        "# df for plot\n",
        "df_plot = pd.DataFrame(embeddings, columns=['x','y'])"
      ]
    },
    {
      "cell_type": "code",
      "execution_count": 48,
      "metadata": {
        "id": "QAboNRJD0_b0"
      },
      "outputs": [],
      "source": [
        "# vector-labels\n",
        "labels = [model.wv.index_to_key[ix] for ix in idx]"
      ]
    },
    {
      "cell_type": "code",
      "execution_count": 49,
      "metadata": {
        "id": "bWGbN-FyMvPK"
      },
      "outputs": [],
      "source": [
        "df_plot['labels'] = labels"
      ]
    },
    {
      "cell_type": "code",
      "execution_count": 50,
      "metadata": {
        "colab": {
          "base_uri": "https://localhost:8080/",
          "height": 669
        },
        "id": "miYjcUAhM_tk",
        "outputId": "78da2e5e-d866-4181-e813-27f01dfe34d1"
      },
      "outputs": [
        {
          "data": {
            "text/html": [
              "\n",
              "<div id=\"altair-viz-393ecaf50f0a446690527bf7ac461676\"></div>\n",
              "<script type=\"text/javascript\">\n",
              "  var VEGA_DEBUG = (typeof VEGA_DEBUG == \"undefined\") ? {} : VEGA_DEBUG;\n",
              "  (function(spec, embedOpt){\n",
              "    let outputDiv = document.currentScript.previousElementSibling;\n",
              "    if (outputDiv.id !== \"altair-viz-393ecaf50f0a446690527bf7ac461676\") {\n",
              "      outputDiv = document.getElementById(\"altair-viz-393ecaf50f0a446690527bf7ac461676\");\n",
              "    }\n",
              "    const paths = {\n",
              "      \"vega\": \"https://cdn.jsdelivr.net/npm//vega@5?noext\",\n",
              "      \"vega-lib\": \"https://cdn.jsdelivr.net/npm//vega-lib?noext\",\n",
              "      \"vega-lite\": \"https://cdn.jsdelivr.net/npm//vega-lite@4.17.0?noext\",\n",
              "      \"vega-embed\": \"https://cdn.jsdelivr.net/npm//vega-embed@6?noext\",\n",
              "    };\n",
              "\n",
              "    function maybeLoadScript(lib, version) {\n",
              "      var key = `${lib.replace(\"-\", \"\")}_version`;\n",
              "      return (VEGA_DEBUG[key] == version) ?\n",
              "        Promise.resolve(paths[lib]) :\n",
              "        new Promise(function(resolve, reject) {\n",
              "          var s = document.createElement('script');\n",
              "          document.getElementsByTagName(\"head\")[0].appendChild(s);\n",
              "          s.async = true;\n",
              "          s.onload = () => {\n",
              "            VEGA_DEBUG[key] = version;\n",
              "            return resolve(paths[lib]);\n",
              "          };\n",
              "          s.onerror = () => reject(`Error loading script: ${paths[lib]}`);\n",
              "          s.src = paths[lib];\n",
              "        });\n",
              "    }\n",
              "\n",
              "    function showError(err) {\n",
              "      outputDiv.innerHTML = `<div class=\"error\" style=\"color:red;\">${err}</div>`;\n",
              "      throw err;\n",
              "    }\n",
              "\n",
              "    function displayChart(vegaEmbed) {\n",
              "      vegaEmbed(outputDiv, spec, embedOpt)\n",
              "        .catch(err => showError(`Javascript Error: ${err.message}<br>This usually means there's a typo in your chart specification. See the javascript console for the full traceback.`));\n",
              "    }\n",
              "\n",
              "    if(typeof define === \"function\" && define.amd) {\n",
              "      requirejs.config({paths});\n",
              "      require([\"vega-embed\"], displayChart, err => showError(`Error loading script: ${err.message}`));\n",
              "    } else {\n",
              "      maybeLoadScript(\"vega\", \"5\")\n",
              "        .then(() => maybeLoadScript(\"vega-lite\", \"4.17.0\"))\n",
              "        .then(() => maybeLoadScript(\"vega-embed\", \"6\"))\n",
              "        .catch(showError)\n",
              "        .then(() => displayChart(vegaEmbed));\n",
              "    }\n",
              "  })({\"config\": {\"view\": {\"continuousWidth\": 400, \"continuousHeight\": 300}}, \"data\": {\"name\": \"data-b004a9b46b827ae7f613aba38e45259b\"}, \"mark\": {\"type\": \"circle\", \"size\": 60}, \"encoding\": {\"tooltip\": [{\"field\": \"labels\", \"type\": \"nominal\"}], \"x\": {\"field\": \"x\", \"type\": \"quantitative\"}, \"y\": {\"field\": \"y\", \"type\": \"quantitative\"}}, \"height\": 600, \"selection\": {\"selector001\": {\"type\": \"interval\", \"bind\": \"scales\", \"encodings\": [\"x\", \"y\"]}}, \"width\": 800, \"$schema\": \"https://vega.github.io/schema/vega-lite/v4.17.0.json\", \"datasets\": {\"data-b004a9b46b827ae7f613aba38e45259b\": [{\"x\": 7.7815842628479, \"y\": 7.622100830078125, \"labels\": \"flavour\"}, {\"x\": 7.677822589874268, \"y\": 3.5409810543060303, \"labels\": \"major\"}, {\"x\": 9.325275421142578, \"y\": 3.821363687515259, \"labels\": \"idea\"}, {\"x\": 6.947035312652588, \"y\": 4.84758186340332, \"labels\": \"industrial\"}, {\"x\": 7.032698631286621, \"y\": 5.737609386444092, \"labels\": \"kroger\"}, {\"x\": 4.046751976013184, \"y\": 4.205710411071777, \"labels\": \"glazed\"}, {\"x\": 5.388465404510498, \"y\": 8.004983901977539, \"labels\": \"letting\"}, {\"x\": 8.865133285522461, \"y\": 6.952099800109863, \"labels\": \"feed\"}, {\"x\": 7.602176189422607, \"y\": 6.3957319259643555, \"labels\": \"brittle\"}, {\"x\": 7.258697986602783, \"y\": 6.574889183044434, \"labels\": \"strictly\"}, {\"x\": 4.572760105133057, \"y\": 7.765129089355469, \"labels\": \"glass\"}, {\"x\": 5.7681708335876465, \"y\": 6.143737316131592, \"labels\": \"stovetop\"}, {\"x\": 7.809353828430176, \"y\": 3.574347496032715, \"labels\": \"central\"}, {\"x\": 8.131141662597656, \"y\": 2.5286030769348145, \"labels\": \"few\"}, {\"x\": 7.317353248596191, \"y\": 4.500814437866211, \"labels\": \"proof\"}, {\"x\": 3.463463306427002, \"y\": 4.010323524475098, \"labels\": \"bone\"}, {\"x\": 5.782280445098877, \"y\": 6.5814690589904785, \"labels\": \"pool\"}, {\"x\": 4.6601152420043945, \"y\": 5.925213813781738, \"labels\": \"ramekin\"}, {\"x\": 7.210735321044922, \"y\": 5.490950584411621, \"labels\": \"built\"}, {\"x\": 8.46786117553711, \"y\": 3.814220666885376, \"labels\": \"issues\"}, {\"x\": 7.559656620025635, \"y\": 3.4624102115631104, \"labels\": \"west\"}, {\"x\": 4.78248929977417, \"y\": 8.227935791015625, \"labels\": \"fridge\"}, {\"x\": 7.916714668273926, \"y\": 3.459968328475952, \"labels\": \"areas\"}, {\"x\": 8.547534942626953, \"y\": 6.256464004516602, \"labels\": \"alter\"}, {\"x\": 7.830031871795654, \"y\": 5.52540397644043, \"labels\": \"introduce\"}, {\"x\": 9.049161911010742, \"y\": 6.776291370391846, \"labels\": \"taking\"}, {\"x\": 7.938103675842285, \"y\": 7.3014397621154785, \"labels\": \"darker\"}, {\"x\": 6.640310287475586, \"y\": 3.26426100730896, \"labels\": \"crocker\"}, {\"x\": 7.579347610473633, \"y\": 6.776696681976318, \"labels\": \"chilling\"}, {\"x\": 7.375855445861816, \"y\": 3.082369327545166, \"labels\": \"paring\"}, {\"x\": 10.5533447265625, \"y\": 5.384960174560547, \"labels\": \"really\"}, {\"x\": 7.447873115539551, \"y\": 5.530997276306152, \"labels\": \"jersey\"}, {\"x\": 6.1612348556518555, \"y\": 4.341455936431885, \"labels\": \"tons\"}, {\"x\": 10.351631164550781, \"y\": 5.764552593231201, \"labels\": \"expensive\"}, {\"x\": 7.962648391723633, \"y\": 2.978696823120117, \"labels\": \"stores\"}, {\"x\": 8.4354887008667, \"y\": 6.885550022125244, \"labels\": \"decent\"}, {\"x\": 3.2140047550201416, \"y\": 4.686643123626709, \"labels\": \"marinated\"}, {\"x\": 9.642194747924805, \"y\": 4.479647159576416, \"labels\": \"loves\"}, {\"x\": 7.6018967628479, \"y\": 5.0874104499816895, \"labels\": \"solution\"}, {\"x\": 7.531688690185547, \"y\": 6.05765438079834, \"labels\": \"mellow\"}, {\"x\": 9.354639053344727, \"y\": 7.003848552703857, \"labels\": \"expect\"}, {\"x\": 5.818253993988037, \"y\": 7.090942859649658, \"labels\": \"grinder\"}, {\"x\": 9.914002418518066, \"y\": 5.014105319976807, \"labels\": \"ah\"}, {\"x\": 7.786223888397217, \"y\": 6.491205215454102, \"labels\": \"float\"}, {\"x\": 6.606669902801514, \"y\": 5.9334187507629395, \"labels\": \"brew\"}, {\"x\": 9.345407485961914, \"y\": 5.53206205368042, \"labels\": \"busy\"}, {\"x\": 8.015544891357422, \"y\": 5.418886184692383, \"labels\": \"produces\"}, {\"x\": 5.352829933166504, \"y\": 5.430027484893799, \"labels\": \"baste\"}, {\"x\": 4.535284519195557, \"y\": 8.057770729064941, \"labels\": \"put\"}, {\"x\": 6.9310736656188965, \"y\": 6.621957778930664, \"labels\": \"additionally\"}, {\"x\": 9.088593482971191, \"y\": 4.680263519287109, \"labels\": \"burned\"}, {\"x\": 10.502918243408203, \"y\": 5.392935276031494, \"labels\": \"interesting\"}, {\"x\": 6.787439346313477, \"y\": 6.218534469604492, \"labels\": \"presentation\"}, {\"x\": 4.889484882354736, \"y\": 7.954554557800293, \"labels\": \"fire\"}, {\"x\": 7.646445274353027, \"y\": 6.017760753631592, \"labels\": \"surgery\"}, {\"x\": 7.1713948249816895, \"y\": 6.172659873962402, \"labels\": \"covers\"}, {\"x\": 7.331463813781738, \"y\": 4.015249729156494, \"labels\": \"ranges\"}, {\"x\": 7.299713134765625, \"y\": 4.867783069610596, \"labels\": \"direction\"}, {\"x\": 7.73121452331543, \"y\": 6.1594557762146, \"labels\": \"retarded\"}, {\"x\": 2.4577181339263916, \"y\": 4.216074466705322, \"labels\": \"salmon\"}, {\"x\": 9.81602954864502, \"y\": 5.411078929901123, \"labels\": \"silly\"}, {\"x\": 7.957239151000977, \"y\": 4.612820625305176, \"labels\": \"identical\"}, {\"x\": 6.0156097412109375, \"y\": 6.850089073181152, \"labels\": \"gallons\"}, {\"x\": 5.71735954284668, \"y\": 5.02174711227417, \"labels\": \"goulash\"}, {\"x\": 6.983604907989502, \"y\": 4.292532920837402, \"labels\": \"cuisines\"}, {\"x\": 7.6197428703308105, \"y\": 2.6905198097229004, \"labels\": \"average\"}, {\"x\": 8.062285423278809, \"y\": 5.6688666343688965, \"labels\": \"tonight\"}, {\"x\": 7.916889190673828, \"y\": 3.5208377838134766, \"labels\": \"library\"}, {\"x\": 7.277840614318848, \"y\": 6.179771900177002, \"labels\": \"replaced\"}, {\"x\": 4.878744602203369, \"y\": 4.951476097106934, \"labels\": \"cola\"}, {\"x\": 1.8552629947662354, \"y\": 5.003906726837158, \"labels\": \"olive_oil\"}, {\"x\": 10.314435005187988, \"y\": 5.259201526641846, \"labels\": \"lucky\"}, {\"x\": 6.5308308601379395, \"y\": 2.3162624835968018, \"labels\": \"seriouseats_com\"}, {\"x\": 1.8455145359039307, \"y\": 4.691181659698486, \"labels\": \"basil\"}, {\"x\": 6.772270202636719, \"y\": 6.192015171051025, \"labels\": \"weights\"}, {\"x\": 5.348489761352539, \"y\": 4.12373685836792, \"labels\": \"mediterranean\"}, {\"x\": 5.748595714569092, \"y\": 7.907285213470459, \"labels\": \"beginning\"}, {\"x\": 5.069345474243164, \"y\": 7.778260231018066, \"labels\": \"searing\"}, {\"x\": 9.017789840698242, \"y\": 5.2042975425720215, \"labels\": \"insist\"}, {\"x\": 7.189757347106934, \"y\": 6.356516361236572, \"labels\": \"yay\"}, {\"x\": 8.65855884552002, \"y\": 2.987752914428711, \"labels\": \"book\"}, {\"x\": 6.01338529586792, \"y\": 4.719473838806152, \"labels\": \"combining\"}, {\"x\": 4.647463798522949, \"y\": 7.437873363494873, \"labels\": \"spray\"}, {\"x\": 5.136865139007568, \"y\": 5.49990177154541, \"labels\": \"battered\"}, {\"x\": 7.134827613830566, \"y\": 4.727647304534912, \"labels\": \"volume\"}, {\"x\": 4.88521671295166, \"y\": 5.53541374206543, \"labels\": \"figs\"}, {\"x\": 6.292128086090088, \"y\": 3.8363401889801025, \"labels\": \"treats\"}, {\"x\": 6.176024913787842, \"y\": 4.980828762054443, \"labels\": \"binder\"}, {\"x\": 7.16420316696167, \"y\": 4.112310886383057, \"labels\": \"gallery\"}, {\"x\": 4.984732627868652, \"y\": 5.818258762359619, \"labels\": \"packed\"}, {\"x\": 2.581723690032959, \"y\": 4.371110916137695, \"labels\": \"beets\"}, {\"x\": 6.014122486114502, \"y\": 6.789407253265381, \"labels\": \"whip\"}, {\"x\": 5.503360748291016, \"y\": 6.763965129852295, \"labels\": \"goodness\"}, {\"x\": 7.240335941314697, \"y\": 7.182245254516602, \"labels\": \"uniform\"}, {\"x\": 7.3299713134765625, \"y\": 6.8112688064575195, \"labels\": \"factor\"}, {\"x\": 8.829238891601562, \"y\": 6.459043979644775, \"labels\": \"getting\"}, {\"x\": 7.008510589599609, \"y\": 6.351417064666748, \"labels\": \"injury\"}, {\"x\": 7.167957782745361, \"y\": 6.240224361419678, \"labels\": \"switched\"}, {\"x\": 4.591264247894287, \"y\": 8.374543190002441, \"labels\": \"cover\"}, {\"x\": 7.779302597045898, \"y\": 5.623157501220703, \"labels\": \"pics\"}, {\"x\": 7.0314435958862305, \"y\": 6.661981105804443, \"labels\": \"radiation\"}, {\"x\": 9.21766185760498, \"y\": 2.9781391620635986, \"labels\": \"grandmother\"}, {\"x\": 4.587037086486816, \"y\": 5.24917459487915, \"labels\": \"carcass\"}, {\"x\": 3.3099119663238525, \"y\": 5.024176120758057, \"labels\": \"chiles\"}, {\"x\": 6.884420394897461, \"y\": 3.7829697132110596, \"labels\": \"dish\"}, {\"x\": 9.64046859741211, \"y\": 5.738381862640381, \"labels\": \"blah\"}, {\"x\": 2.4050135612487793, \"y\": 4.323333263397217, \"labels\": \"sprouts\"}, {\"x\": 9.43083381652832, \"y\": 7.10081672668457, \"labels\": \"be\"}, {\"x\": 8.508318901062012, \"y\": 5.977637767791748, \"labels\": \"minor\"}, {\"x\": 5.122711658477783, \"y\": 7.519289016723633, \"labels\": \"hands\"}, {\"x\": 3.6598594188690186, \"y\": 5.1034979820251465, \"labels\": \"unsalted\"}, {\"x\": 6.871531009674072, \"y\": 3.8359110355377197, \"labels\": \"dutch\"}, {\"x\": 9.081116676330566, \"y\": 3.647104263305664, \"labels\": \"near\"}, {\"x\": 3.6937196254730225, \"y\": 4.522733688354492, \"labels\": \"sprinkled\"}, {\"x\": 7.869121551513672, \"y\": 5.245561122894287, \"labels\": \"stocked\"}, {\"x\": 8.065812110900879, \"y\": 4.352957725524902, \"labels\": \"moving\"}, {\"x\": 7.841382026672363, \"y\": 6.709609031677246, \"labels\": \"determine\"}, {\"x\": 5.3177714347839355, \"y\": 6.806074142456055, \"labels\": \"whisking\"}, {\"x\": 6.445339679718018, \"y\": 6.09801721572876, \"labels\": \"hr\"}, {\"x\": 10.004470825195312, \"y\": 6.215231895446777, \"labels\": \"far\"}, {\"x\": 8.289153099060059, \"y\": 6.440666675567627, \"labels\": \"waste\"}, {\"x\": 6.531311988830566, \"y\": 7.2246222496032715, \"labels\": \"bathroom\"}, {\"x\": 8.376896858215332, \"y\": 5.299183368682861, \"labels\": \"faces\"}, {\"x\": 5.254755020141602, \"y\": 6.659770965576172, \"labels\": \"occasionally\"}, {\"x\": 7.080129146575928, \"y\": 6.821728706359863, \"labels\": \"difference_between\"}, {\"x\": 8.075698852539062, \"y\": 5.857372760772705, \"labels\": \"subscribe\"}, {\"x\": 6.505185604095459, \"y\": 5.9222588539123535, \"labels\": \"odor\"}, {\"x\": 10.033102035522461, \"y\": 4.8063130378723145, \"labels\": \"guys\"}, {\"x\": 5.931901931762695, \"y\": 6.073787212371826, \"labels\": \"natural\"}, {\"x\": 6.833371639251709, \"y\": 3.27514386177063, \"labels\": \"according\"}, {\"x\": 6.430690288543701, \"y\": 6.758314609527588, \"labels\": \"excessive\"}, {\"x\": 7.286715030670166, \"y\": 5.6188883781433105, \"labels\": \"deboning\"}, {\"x\": 8.33151626586914, \"y\": 6.011889934539795, \"labels\": \"suddenly\"}, {\"x\": 8.743496894836426, \"y\": 3.8717448711395264, \"labels\": \"folks\"}, {\"x\": 5.119852542877197, \"y\": 5.502749919891357, \"labels\": \"oranges\"}, {\"x\": 10.459798812866211, \"y\": 5.208231449127197, \"labels\": \"ll\"}, {\"x\": 6.7639479637146, \"y\": 3.5859177112579346, \"labels\": \"famous\"}, {\"x\": 7.670286178588867, \"y\": 3.3782284259796143, \"labels\": \"california\"}, {\"x\": 7.072443008422852, \"y\": 2.4302191734313965, \"labels\": \"watch\"}, {\"x\": 7.679383754730225, \"y\": 4.02768611907959, \"labels\": \"aging\"}, {\"x\": 6.671024322509766, \"y\": 5.815251350402832, \"labels\": \"thermometers\"}, {\"x\": 6.788489818572998, \"y\": 7.588854789733887, \"labels\": \"keeping\"}, {\"x\": 7.277406215667725, \"y\": 5.924069881439209, \"labels\": \"appetizer\"}, {\"x\": 6.1961588859558105, \"y\": 7.028057098388672, \"labels\": \"drawer\"}, {\"x\": 2.452009439468384, \"y\": 4.260592460632324, \"labels\": \"squash\"}, {\"x\": 4.276875019073486, \"y\": 4.125437259674072, \"labels\": \"cottage\"}, {\"x\": 4.860636234283447, \"y\": 3.873807191848755, \"labels\": \"mex\"}, {\"x\": 6.083500862121582, \"y\": 7.570100784301758, \"labels\": \"rather_than\"}, {\"x\": 6.1149797439575195, \"y\": 5.511486530303955, \"labels\": \"marshmallows\"}, {\"x\": 6.633641719818115, \"y\": 4.869581699371338, \"labels\": \"latin\"}, {\"x\": 3.168593645095825, \"y\": 4.8136515617370605, \"labels\": \"peanuts\"}, {\"x\": 6.704991817474365, \"y\": 4.24437952041626, \"labels\": \"hazan\"}, {\"x\": 4.846221923828125, \"y\": 5.9997663497924805, \"labels\": \"breading\"}, {\"x\": 8.822229385375977, \"y\": 4.4181132316589355, \"labels\": \"currently\"}, {\"x\": 6.636594772338867, \"y\": 4.641788959503174, \"labels\": \"endless\"}, {\"x\": 5.290026664733887, \"y\": 5.983701229095459, \"labels\": \"cow\"}, {\"x\": 7.430575370788574, \"y\": 4.607147216796875, \"labels\": \"influence\"}, {\"x\": 7.522945404052734, \"y\": 6.392882347106934, \"labels\": \"tallow\"}, {\"x\": 7.104022026062012, \"y\": 3.8932430744171143, \"labels\": \"method\"}, {\"x\": 6.716160774230957, \"y\": 3.292492628097534, \"labels\": \"wusthof\"}, {\"x\": 5.372396469116211, \"y\": 5.255099773406982, \"labels\": \"campbell\"}, {\"x\": 3.572849988937378, \"y\": 4.740808010101318, \"labels\": \"fruits\"}, {\"x\": 10.327593803405762, \"y\": 5.214077949523926, \"labels\": \"honestly\"}, {\"x\": 6.693863391876221, \"y\": 3.303751230239868, \"labels\": \"vietnamese\"}, {\"x\": 2.3074252605438232, \"y\": 4.4903883934021, \"labels\": \"sage\"}, {\"x\": 7.538330554962158, \"y\": 5.253831386566162, \"labels\": \"dealing\"}, {\"x\": 4.4242424964904785, \"y\": 5.392688274383545, \"labels\": \"double\"}, {\"x\": 10.106939315795898, \"y\": 5.243569850921631, \"labels\": \"looks\"}, {\"x\": 6.926393508911133, \"y\": 5.21542501449585, \"labels\": \"appliances\"}, {\"x\": 5.5797882080078125, \"y\": 4.733940601348877, \"labels\": \"packaged\"}, {\"x\": 9.948175430297852, \"y\": 4.651074409484863, \"labels\": \"happened\"}, {\"x\": 6.026521682739258, \"y\": 4.700742244720459, \"labels\": \"typical\"}, {\"x\": 4.617793560028076, \"y\": 7.981382846832275, \"labels\": \"whisk\"}, {\"x\": 5.509068965911865, \"y\": 8.36874008178711, \"labels\": \"move\"}, {\"x\": 9.814920425415039, \"y\": 5.204921245574951, \"labels\": \"eaters\"}, {\"x\": 9.754683494567871, \"y\": 5.410667419433594, \"labels\": \"nah\"}, {\"x\": 6.148988723754883, \"y\": 5.634490013122559, \"labels\": \"flow\"}, {\"x\": 9.707467079162598, \"y\": 4.351855278015137, \"labels\": \"finally\"}, {\"x\": 5.647554397583008, \"y\": 7.253306865692139, \"labels\": \"stone\"}, {\"x\": 5.210601329803467, \"y\": 7.870979309082031, \"labels\": \"set\"}, {\"x\": 4.596741199493408, \"y\": 4.679935455322266, \"labels\": \"snacks\"}, {\"x\": 4.376433849334717, \"y\": 6.873634338378906, \"labels\": \"thin\"}, {\"x\": 10.358967781066895, \"y\": 5.14771032333374, \"labels\": \"don\"}, {\"x\": 6.017232894897461, \"y\": 8.180229187011719, \"labels\": \"pick\"}, {\"x\": 9.324246406555176, \"y\": 4.840428829193115, \"labels\": \"hates\"}, {\"x\": 9.908010482788086, \"y\": 6.08596658706665, \"labels\": \"imo\"}, {\"x\": 5.517405986785889, \"y\": 8.40795612335205, \"labels\": \"break\"}, {\"x\": 8.516121864318848, \"y\": 5.155198097229004, \"labels\": \"commenter\"}, {\"x\": 6.813295841217041, \"y\": 5.555415153503418, \"labels\": \"stage\"}, {\"x\": 9.73922061920166, \"y\": 3.9904913902282715, \"labels\": \"taught\"}, {\"x\": 8.026457786560059, \"y\": 7.209973335266113, \"labels\": \"carbs\"}, {\"x\": 5.629264831542969, \"y\": 8.473481178283691, \"labels\": \"come\"}, {\"x\": 5.2737884521484375, \"y\": 5.145798683166504, \"labels\": \"blended\"}, {\"x\": 6.422933578491211, \"y\": 5.047296524047852, \"labels\": \"closed\"}, {\"x\": 3.6282248497009277, \"y\": 4.195244312286377, \"labels\": \"served\"}, {\"x\": 6.91480827331543, \"y\": 3.054790496826172, \"labels\": \"screenshot\"}, {\"x\": 4.718562126159668, \"y\": 6.065451145172119, \"labels\": \"tub\"}, {\"x\": 9.644197463989258, \"y\": 5.499894618988037, \"labels\": \"edible\"}, {\"x\": 3.485584259033203, \"y\": 4.063773155212402, \"labels\": \"loin\"}, {\"x\": 8.174659729003906, \"y\": 5.942999839782715, \"labels\": \"killing\"}, {\"x\": 5.829315662384033, \"y\": 5.984914779663086, \"labels\": \"acidity\"}, {\"x\": 9.63961124420166, \"y\": 6.209314346313477, \"labels\": \"nearly\"}, {\"x\": 6.761114120483398, \"y\": 7.4903483390808105, \"labels\": \"throwing\"}, {\"x\": 6.647442817687988, \"y\": 5.898477554321289, \"labels\": \"strength\"}, {\"x\": 2.418182849884033, \"y\": 5.083552360534668, \"labels\": \"cocoa\"}, {\"x\": 8.441316604614258, \"y\": 6.000127792358398, \"labels\": \"accurately\"}, {\"x\": 4.600645542144775, \"y\": 7.791539669036865, \"labels\": \"baking\"}, {\"x\": 8.435440063476562, \"y\": 5.944456577301025, \"labels\": \"canning\"}, {\"x\": 9.65949821472168, \"y\": 4.619591236114502, \"labels\": \"excited\"}, {\"x\": 9.608647346496582, \"y\": 6.572958946228027, \"labels\": \"follow\"}, {\"x\": 3.555814743041992, \"y\": 4.4343461990356445, \"labels\": \"miso\"}, {\"x\": 5.675650119781494, \"y\": 6.9968109130859375, \"labels\": \"core\"}, {\"x\": 5.750884056091309, \"y\": 6.236695766448975, \"labels\": \"dress\"}, {\"x\": 9.18039321899414, \"y\": 3.7916178703308105, \"labels\": \"particular\"}, {\"x\": 2.0182626247406006, \"y\": 4.998684406280518, \"labels\": \"brown_sugar\"}, {\"x\": 6.0533857345581055, \"y\": 4.487495422363281, \"labels\": \"lbs\"}, {\"x\": 4.899129867553711, \"y\": 4.863342761993408, \"labels\": \"blending\"}, {\"x\": 7.803609371185303, \"y\": 6.6382598876953125, \"labels\": \"aggressively\"}, {\"x\": 5.671420097351074, \"y\": 6.939657211303711, \"labels\": \"til\"}, {\"x\": 8.084651947021484, \"y\": 5.1497111320495605, \"labels\": \"himself\"}, {\"x\": 7.609350204467773, \"y\": 6.023617744445801, \"labels\": \"estimate\"}, {\"x\": 8.082435607910156, \"y\": 5.469755172729492, \"labels\": \"requires\"}, {\"x\": 5.170013904571533, \"y\": 8.490522384643555, \"labels\": \"bake\"}, {\"x\": 9.280160903930664, \"y\": 5.48731803894043, \"labels\": \"legit\"}, {\"x\": 6.762096405029297, \"y\": 4.747074604034424, \"labels\": \"content\"}, {\"x\": 8.125490188598633, \"y\": 6.894009590148926, \"labels\": \"fight\"}, {\"x\": 9.965179443359375, \"y\": 5.245983600616455, \"labels\": \"fuck\"}, {\"x\": 4.026935577392578, \"y\": 4.852177143096924, \"labels\": \"silken\"}, {\"x\": 5.862381458282471, \"y\": 6.981027603149414, \"labels\": \"applying\"}, {\"x\": 5.343623161315918, \"y\": 7.144428253173828, \"labels\": \"chopping\"}, {\"x\": 4.973994255065918, \"y\": 5.137183666229248, \"labels\": \"softened\"}, {\"x\": 7.781742095947266, \"y\": 4.695954322814941, \"labels\": \"ruining\"}, {\"x\": 6.486180782318115, \"y\": 4.6271562576293945, \"labels\": \"regions\"}, {\"x\": 5.138843536376953, \"y\": 4.681110382080078, \"labels\": \"pate\"}, {\"x\": 8.344034194946289, \"y\": 5.4527268409729, \"labels\": \"desert\"}, {\"x\": 2.5825774669647217, \"y\": 4.119960784912109, \"labels\": \"sandwiches\"}, {\"x\": 8.87588119506836, \"y\": 5.720260143280029, \"labels\": \"id\"}, {\"x\": 9.17796516418457, \"y\": 2.9387576580047607, \"labels\": \"family\"}, {\"x\": 9.338371276855469, \"y\": 5.504460334777832, \"labels\": \"particularly\"}, {\"x\": 8.206026077270508, \"y\": 7.47661828994751, \"labels\": \"quicker\"}, {\"x\": 4.510470867156982, \"y\": 4.97017240524292, \"labels\": \"heads\"}, {\"x\": 4.9792280197143555, \"y\": 5.621633052825928, \"labels\": \"stout\"}, {\"x\": 7.66268253326416, \"y\": 7.155439376831055, \"labels\": \"earthy\"}, {\"x\": 4.48787260055542, \"y\": 7.762873649597168, \"labels\": \"spoon\"}, {\"x\": 7.587597370147705, \"y\": 4.966065883636475, \"labels\": \"variant\"}, {\"x\": 6.5150532722473145, \"y\": 2.32456636428833, \"labels\": \"org\"}, {\"x\": 5.568511009216309, \"y\": 7.510338306427002, \"labels\": \"your\"}, {\"x\": 2.0954060554504395, \"y\": 4.947134494781494, \"labels\": \"lime_juice\"}, {\"x\": 6.627711296081543, \"y\": 5.974972248077393, \"labels\": \"soil\"}, {\"x\": 5.824028968811035, \"y\": 7.137312889099121, \"labels\": \"thrown\"}, {\"x\": 4.6341142654418945, \"y\": 5.993745803833008, \"labels\": \"gallon\"}, {\"x\": 6.3755974769592285, \"y\": 5.877444744110107, \"labels\": \"larger\"}, {\"x\": 5.705583095550537, \"y\": 7.518408298492432, \"labels\": \"build\"}, {\"x\": 6.897791862487793, \"y\": 6.642645835876465, \"labels\": \"reseason\"}, {\"x\": 6.809113025665283, \"y\": 3.9438235759735107, \"labels\": \"laundry\"}, {\"x\": 7.69753360748291, \"y\": 4.7924981117248535, \"labels\": \"camera\"}, {\"x\": 8.302046775817871, \"y\": 5.550044059753418, \"labels\": \"metric\"}, {\"x\": 7.12899112701416, \"y\": 5.285967826843262, \"labels\": \"species\"}, {\"x\": 7.154160499572754, \"y\": 4.2581048011779785, \"labels\": \"heart\"}, {\"x\": 6.016015529632568, \"y\": 5.205847263336182, \"labels\": \"bamboo\"}, {\"x\": 8.178629875183105, \"y\": 7.502834320068359, \"labels\": \"bigger\"}, {\"x\": 6.758941173553467, \"y\": 6.294549942016602, \"labels\": \"doneness\"}, {\"x\": 10.370719909667969, \"y\": 5.472064018249512, \"labels\": \"bad\"}, {\"x\": 4.5382232666015625, \"y\": 5.059670448303223, \"labels\": \"jalape\\u00f1os\"}, {\"x\": 10.013912200927734, \"y\": 5.720745086669922, \"labels\": \"incredible\"}, {\"x\": 7.088926792144775, \"y\": 4.410514831542969, \"labels\": \"fashioned\"}, {\"x\": 3.7873384952545166, \"y\": 4.136783123016357, \"labels\": \"lentil\"}, {\"x\": 8.28265380859375, \"y\": 5.663763046264648, \"labels\": \"soul\"}, {\"x\": 8.970062255859375, \"y\": 5.0502166748046875, \"labels\": \"posting\"}, {\"x\": 8.910778999328613, \"y\": 5.1840925216674805, \"labels\": \"explains\"}, {\"x\": 5.7823100090026855, \"y\": 4.596769332885742, \"labels\": \"scrambled\"}, {\"x\": 7.480499267578125, \"y\": 5.397928237915039, \"labels\": \"additives\"}, {\"x\": 5.558456897735596, \"y\": 7.339479446411133, \"labels\": \"lowest\"}, {\"x\": 8.176520347595215, \"y\": 2.5777642726898193, \"labels\": \"month\"}, {\"x\": 5.761476516723633, \"y\": 7.759929180145264, \"labels\": \"aside\"}, {\"x\": 4.709245681762695, \"y\": 7.269891262054443, \"labels\": \"parchment\"}, {\"x\": 6.3102030754089355, \"y\": 5.706643104553223, \"labels\": \"storage\"}, {\"x\": 3.057201862335205, \"y\": 5.11129903793335, \"labels\": \"tbs\"}, {\"x\": 7.208855628967285, \"y\": 2.9540188312530518, \"labels\": \"clad\"}, {\"x\": 7.9971089363098145, \"y\": 3.092973232269287, \"labels\": \"ones\"}, {\"x\": 6.916564464569092, \"y\": 6.17817497253418, \"labels\": \"sits\"}, {\"x\": 7.522358417510986, \"y\": 7.133173942565918, \"labels\": \"otherwise\"}, {\"x\": 5.093880653381348, \"y\": 5.5414838790893555, \"labels\": \"shaker\"}, {\"x\": 4.6328325271606445, \"y\": 7.177952289581299, \"labels\": \"ziplock\"}, {\"x\": 8.347622871398926, \"y\": 5.118836879730225, \"labels\": \"presented\"}, {\"x\": 7.002202987670898, \"y\": 5.785953998565674, \"labels\": \"osso\"}, {\"x\": 6.6164422035217285, \"y\": 7.361424446105957, \"labels\": \"incorporate\"}, {\"x\": 8.291155815124512, \"y\": 5.479979038238525, \"labels\": \"feature\"}, {\"x\": 7.604649543762207, \"y\": 6.83060359954834, \"labels\": \"checking\"}, {\"x\": 7.405796527862549, \"y\": 3.6460320949554443, \"labels\": \"animals\"}, {\"x\": 4.700310707092285, \"y\": 8.257819175720215, \"labels\": \"warm\"}, {\"x\": 7.657644271850586, \"y\": 4.580641746520996, \"labels\": \"language\"}, {\"x\": 10.562508583068848, \"y\": 5.414814472198486, \"labels\": \"not\"}, {\"x\": 8.321626663208008, \"y\": 5.8083882331848145, \"labels\": \"botulism\"}, {\"x\": 9.242149353027344, \"y\": 3.935183048248291, \"labels\": \"case\"}, {\"x\": 3.522371292114258, \"y\": 4.378418922424316, \"labels\": \"fermented\"}, {\"x\": 5.98183012008667, \"y\": 3.9248099327087402, \"labels\": \"chow\"}, {\"x\": 8.433786392211914, \"y\": 5.32333517074585, \"labels\": \"gingerbread\"}, {\"x\": 8.253446578979492, \"y\": 7.691524982452393, \"labels\": \"longer\"}, {\"x\": 7.892027854919434, \"y\": 3.993546962738037, \"labels\": \"kitchenaid\"}, {\"x\": 2.9926908016204834, \"y\": 4.445070743560791, \"labels\": \"shells\"}, {\"x\": 9.521145820617676, \"y\": 5.915754795074463, \"labels\": \"tends\"}, {\"x\": 7.940839767456055, \"y\": 4.846510887145996, \"labels\": \"simplest\"}, {\"x\": 8.11150074005127, \"y\": 3.609978675842285, \"labels\": \"pm\"}, {\"x\": 8.87557601928711, \"y\": 5.00769567489624, \"labels\": \"cat\"}, {\"x\": 4.158707618713379, \"y\": 4.706818580627441, \"labels\": \"powders\"}, {\"x\": 8.001797676086426, \"y\": 4.668808937072754, \"labels\": \"which\"}, {\"x\": 4.421072483062744, \"y\": 7.992870330810547, \"labels\": \"bottom\"}, {\"x\": 6.638948440551758, \"y\": 2.4515998363494873, \"labels\": \"epicurious\"}, {\"x\": 7.364405155181885, \"y\": 7.450520992279053, \"labels\": \"thicker\"}, {\"x\": 8.552061080932617, \"y\": 5.800648212432861, \"labels\": \"wise\"}, {\"x\": 8.463749885559082, \"y\": 7.4228010177612305, \"labels\": \"than\"}, {\"x\": 7.895444393157959, \"y\": 3.3231987953186035, \"labels\": \"previous\"}, {\"x\": 7.418942928314209, \"y\": 4.896738052368164, \"labels\": \"context\"}, {\"x\": 8.229841232299805, \"y\": 3.5271003246307373, \"labels\": \"books\"}, {\"x\": 10.137456893920898, \"y\": 4.649587154388428, \"labels\": \"am\"}, {\"x\": 9.75280475616455, \"y\": 5.290594577789307, \"labels\": \"disappointed\"}, {\"x\": 4.352088928222656, \"y\": 4.1239213943481445, \"labels\": \"bechamel\"}, {\"x\": 7.573581695556641, \"y\": 5.241420745849609, \"labels\": \"bank\"}, {\"x\": 9.19522476196289, \"y\": 5.460649490356445, \"labels\": \"ill\"}, {\"x\": 5.029594898223877, \"y\": 4.644637584686279, \"labels\": \"poultry\"}, {\"x\": 7.165441989898682, \"y\": 4.10746955871582, \"labels\": \"design\"}, {\"x\": 9.006021499633789, \"y\": 3.7917966842651367, \"labels\": \"information\"}, {\"x\": 8.107250213623047, \"y\": 5.280679225921631, \"labels\": \"opening\"}, {\"x\": 7.7359747886657715, \"y\": 4.043130874633789, \"labels\": \"planning\"}, {\"x\": 8.721564292907715, \"y\": 4.6171464920043945, \"labels\": \"function\"}, {\"x\": 8.653133392333984, \"y\": 7.191271781921387, \"labels\": \"replace\"}, {\"x\": 7.9560227394104, \"y\": 7.149069309234619, \"labels\": \"grind\"}, {\"x\": 5.08003568649292, \"y\": 8.145575523376465, \"labels\": \"thaw\"}, {\"x\": 3.8699042797088623, \"y\": 4.870686054229736, \"labels\": \"mango\"}, {\"x\": 7.195640563964844, \"y\": 5.12050724029541, \"labels\": \"yo\"}, {\"x\": 5.0830793380737305, \"y\": 5.0594305992126465, \"labels\": \"beet\"}, {\"x\": 8.3062744140625, \"y\": 7.575333118438721, \"labels\": \"cheaper\"}, {\"x\": 8.159589767456055, \"y\": 2.6207592487335205, \"labels\": \"several\"}, {\"x\": 2.4753262996673584, \"y\": 4.5673441886901855, \"labels\": \"chile\"}, {\"x\": 6.865000247955322, \"y\": 6.887596607208252, \"labels\": \"warp\"}, {\"x\": 6.28207540512085, \"y\": 2.5077996253967285, \"labels\": \"au\"}, {\"x\": 2.418262004852295, \"y\": 4.182191371917725, \"labels\": \"pasta\"}, {\"x\": 5.29262638092041, \"y\": 3.9666507244110107, \"labels\": \"king\"}, {\"x\": 8.8740234375, \"y\": 6.567961692810059, \"labels\": \"overpowering\"}, {\"x\": 6.800329685211182, \"y\": 4.926538467407227, \"labels\": \"body\"}, {\"x\": 8.173725128173828, \"y\": 2.5365614891052246, \"labels\": \"days\"}, {\"x\": 4.515491962432861, \"y\": 5.100099563598633, \"labels\": \"grapes\"}, {\"x\": 9.92711067199707, \"y\": 5.1559319496154785, \"labels\": \"works\"}, {\"x\": 9.29201889038086, \"y\": 5.177502155303955, \"labels\": \"present\"}, {\"x\": 8.968195915222168, \"y\": 4.8265886306762695, \"labels\": \"attention\"}, {\"x\": 1.8004666566848755, \"y\": 4.85567045211792, \"labels\": \"salt_pepper\"}, {\"x\": 4.19264554977417, \"y\": 4.52360200881958, \"labels\": \"tahini\"}, {\"x\": 6.500142574310303, \"y\": 4.107944011688232, \"labels\": \"lover\"}, {\"x\": 8.757314682006836, \"y\": 5.177062034606934, \"labels\": \"grass\"}, {\"x\": 4.178753852844238, \"y\": 7.356477737426758, \"labels\": \"bag\"}, {\"x\": 4.875305652618408, \"y\": 5.438619613647461, \"labels\": \"garlicky\"}, {\"x\": 6.750701427459717, \"y\": 2.594252347946167, \"labels\": \"basic\"}, {\"x\": 4.837666988372803, \"y\": 5.1826019287109375, \"labels\": \"marsala\"}, {\"x\": 8.85427188873291, \"y\": 4.379378795623779, \"labels\": \"pretty_much\"}, {\"x\": 5.794353485107422, \"y\": 6.314201831817627, \"labels\": \"crush\"}, {\"x\": 8.761731147766113, \"y\": 3.997999906539917, \"labels\": \"losing\"}, {\"x\": 4.681614398956299, \"y\": 4.155060291290283, \"labels\": \"quesadilla\"}, {\"x\": 5.405643939971924, \"y\": 5.309398651123047, \"labels\": \"purple\"}, {\"x\": 9.318266868591309, \"y\": 6.929896354675293, \"labels\": \"experiment\"}, {\"x\": 8.6435546875, \"y\": 2.96966552734375, \"labels\": \"page\"}, {\"x\": 7.6565070152282715, \"y\": 4.176947116851807, \"labels\": \"century\"}, {\"x\": 6.940013408660889, \"y\": 5.1432013511657715, \"labels\": \"goal\"}, {\"x\": 8.249991416931152, \"y\": 3.709413766860962, \"labels\": \"stopped\"}, {\"x\": 8.667009353637695, \"y\": 5.464994430541992, \"labels\": \"understanding\"}, {\"x\": 10.282979965209961, \"y\": 5.953822135925293, \"labels\": \"cheap\"}, {\"x\": 7.530581474304199, \"y\": 6.380063056945801, \"labels\": \"rotating\"}, {\"x\": 7.320469856262207, \"y\": 4.035126209259033, \"labels\": \"episodes\"}, {\"x\": 5.479683876037598, \"y\": 6.669285297393799, \"labels\": \"lengthwise\"}, {\"x\": 7.372318744659424, \"y\": 6.181578636169434, \"labels\": \"underrated\"}, {\"x\": 7.914933681488037, \"y\": 5.636382102966309, \"labels\": \"hero\"}, {\"x\": 5.984360218048096, \"y\": 6.205914497375488, \"labels\": \"boom\"}, {\"x\": 7.866915225982666, \"y\": 3.0352349281311035, \"labels\": \"brand\"}, {\"x\": 9.349349975585938, \"y\": 5.468454837799072, \"labels\": \"shitty\"}, {\"x\": 9.5058012008667, \"y\": 4.0202717781066895, \"labels\": \"gotten\"}, {\"x\": 9.604251861572266, \"y\": 5.865665912628174, \"labels\": \"dang\"}, {\"x\": 6.190441608428955, \"y\": 5.481269836425781, \"labels\": \"hint\"}, {\"x\": 4.60247278213501, \"y\": 5.890615463256836, \"labels\": \"tinfoil\"}, {\"x\": 5.027142524719238, \"y\": 5.433448314666748, \"labels\": \"neck\"}, {\"x\": 4.581687927246094, \"y\": 7.971108913421631, \"labels\": \"outside\"}, {\"x\": 7.03875732421875, \"y\": 2.750936508178711, \"labels\": \"sales\"}, {\"x\": 5.840339660644531, \"y\": 5.818942070007324, \"labels\": \"miracle\"}, {\"x\": 4.654557704925537, \"y\": 8.15000057220459, \"labels\": \"pop\"}, {\"x\": 9.273346900939941, \"y\": 3.6354117393493652, \"labels\": \"bought\"}, {\"x\": 7.286044120788574, \"y\": 5.650222301483154, \"labels\": \"koreans\"}, {\"x\": 7.3729472160339355, \"y\": 5.907783508300781, \"labels\": \"environment\"}, {\"x\": 7.978697776794434, \"y\": 3.8619282245635986, \"labels\": \"hundred\"}, {\"x\": 7.05312442779541, \"y\": 7.035541534423828, \"labels\": \"deliver\"}, {\"x\": 9.9940767288208, \"y\": 6.028648376464844, \"labels\": \"are\"}, {\"x\": 7.71804141998291, \"y\": 3.2735538482666016, \"labels\": \"selling\"}, {\"x\": 5.714652061462402, \"y\": 7.833700656890869, \"labels\": \"hits\"}, {\"x\": 10.026338577270508, \"y\": 3.831789016723633, \"labels\": \"he\"}, {\"x\": 7.709452152252197, \"y\": 6.688096046447754, \"labels\": \"ad\"}, {\"x\": 4.8691792488098145, \"y\": 5.6845855712890625, \"labels\": \"scallion\"}, {\"x\": 6.704448699951172, \"y\": 3.513317823410034, \"labels\": \"php\"}, {\"x\": 9.073837280273438, \"y\": 5.452054977416992, \"labels\": \"cry\"}, {\"x\": 9.309759140014648, \"y\": 3.810596466064453, \"labels\": \"born\"}, {\"x\": 7.716490268707275, \"y\": 7.624565124511719, \"labels\": \"slightly\"}, {\"x\": 2.2999470233917236, \"y\": 4.415991306304932, \"labels\": \"parmesan\"}, {\"x\": 6.724459648132324, \"y\": 6.142441749572754, \"labels\": \"floor\"}, {\"x\": 2.813361883163452, \"y\": 4.48335599899292, \"labels\": \"jelly\"}, {\"x\": 7.952932834625244, \"y\": 4.654652118682861, \"labels\": \"treated\"}, {\"x\": 7.890766620635986, \"y\": 5.502132415771484, \"labels\": \"attractive\"}, {\"x\": 7.0192742347717285, \"y\": 6.719581127166748, \"labels\": \"retention\"}, {\"x\": 5.215326309204102, \"y\": 4.909624099731445, \"labels\": \"whereas\"}, {\"x\": 7.608046054840088, \"y\": 5.744211673736572, \"labels\": \"replacement\"}, {\"x\": 5.6762542724609375, \"y\": 7.393439769744873, \"labels\": \"forming\"}, {\"x\": 8.145289421081543, \"y\": 5.928312301635742, \"labels\": \"tendency\"}, {\"x\": 7.652081489562988, \"y\": 6.4598259925842285, \"labels\": \"board\"}, {\"x\": 7.124911308288574, \"y\": 5.73350191116333, \"labels\": \"warped\"}, {\"x\": 6.095556735992432, \"y\": 6.22520637512207, \"labels\": \"pyrex\"}, {\"x\": 8.161319732666016, \"y\": 5.706549644470215, \"labels\": \"sooner\"}, {\"x\": 8.99455451965332, \"y\": 3.057687520980835, \"labels\": \"gf\"}, {\"x\": 5.339020252227783, \"y\": 4.7466888427734375, \"labels\": \"quesadillas\"}, {\"x\": 3.380119562149048, \"y\": 4.158750057220459, \"labels\": \"breakfast\"}, {\"x\": 9.138814926147461, \"y\": 6.161215305328369, \"labels\": \"short\"}, {\"x\": 8.236435890197754, \"y\": 2.600961446762085, \"labels\": \"years\"}, {\"x\": 9.165826797485352, \"y\": 5.99112606048584, \"labels\": \"technically\"}, {\"x\": 4.460636615753174, \"y\": 6.951241493225098, \"labels\": \"nice\"}, {\"x\": 4.629072666168213, \"y\": 5.215883731842041, \"labels\": \"slaw\"}, {\"x\": 4.939494609832764, \"y\": 7.462728023529053, \"labels\": \"griddle\"}, {\"x\": 2.515943765640259, \"y\": 4.151599884033203, \"labels\": \"fried\"}, {\"x\": 5.833884239196777, \"y\": 6.932545185089111, \"labels\": \"falling\"}, {\"x\": 5.620369911193848, \"y\": 6.855894565582275, \"labels\": \"slap\"}, {\"x\": 4.545047760009766, \"y\": 4.2551751136779785, \"labels\": \"marinara\"}, {\"x\": 3.555065631866455, \"y\": 4.631800651550293, \"labels\": \"cheeses\"}, {\"x\": 9.099989891052246, \"y\": 3.2447526454925537, \"labels\": \"opinion\"}, {\"x\": 5.232662677764893, \"y\": 6.45490837097168, \"labels\": \"button\"}, {\"x\": 7.623604774475098, \"y\": 4.2632832527160645, \"labels\": \"nine\"}, {\"x\": 9.073140144348145, \"y\": 3.8861589431762695, \"labels\": \"deal\"}, {\"x\": 4.840689182281494, \"y\": 8.278570175170898, \"labels\": \"slowly\"}, {\"x\": 5.616874694824219, \"y\": 4.374241352081299, \"labels\": \"english\"}, {\"x\": 2.683758497238159, \"y\": 4.267079830169678, \"labels\": \"butternut\"}, {\"x\": 8.636778831481934, \"y\": 3.1829233169555664, \"labels\": \"lopez\"}, {\"x\": 7.99432897567749, \"y\": 5.31883430480957, \"labels\": \"involving\"}, {\"x\": 7.671304225921631, \"y\": 4.805984020233154, \"labels\": \"hitting\"}, {\"x\": 8.02609920501709, \"y\": 3.1952202320098877, \"labels\": \"knives\"}, {\"x\": 4.2985687255859375, \"y\": 5.324167251586914, \"labels\": \"carmelized\"}, {\"x\": 6.867715358734131, \"y\": 6.472373962402344, \"labels\": \"growth\"}, {\"x\": 10.25684642791748, \"y\": 4.229668617248535, \"labels\": \"this\"}, {\"x\": 5.168384075164795, \"y\": 6.511616230010986, \"labels\": \"layers\"}, {\"x\": 8.485567092895508, \"y\": 6.395073413848877, \"labels\": \"individually\"}, {\"x\": 6.270599365234375, \"y\": 7.557339191436768, \"labels\": \"becomes\"}, {\"x\": 8.669001579284668, \"y\": 2.9660956859588623, \"labels\": \"law\"}, {\"x\": 6.2040228843688965, \"y\": 7.380799293518066, \"labels\": \"stays\"}, {\"x\": 3.822942018508911, \"y\": 4.112930774688721, \"labels\": \"alfredo\"}, {\"x\": 9.803696632385254, \"y\": 6.6398606300354, \"labels\": \"know\"}, {\"x\": 7.852941036224365, \"y\": 3.9357612133026123, \"labels\": \"sizes\"}, {\"x\": 4.863907814025879, \"y\": 5.639257907867432, \"labels\": \"grams\"}, {\"x\": 7.255917549133301, \"y\": 4.311356067657471, \"labels\": \"professor\"}, {\"x\": 6.610202789306641, \"y\": 4.624523162841797, \"labels\": \"louisiana\"}, {\"x\": 8.29047966003418, \"y\": 6.065202713012695, \"labels\": \"concerned\"}, {\"x\": 7.714473724365234, \"y\": 5.4496684074401855, \"labels\": \"email\"}, {\"x\": 5.2745819091796875, \"y\": 7.792837142944336, \"labels\": \"setting\"}, {\"x\": 7.696896553039551, \"y\": 4.66945219039917, \"labels\": \"state\"}, {\"x\": 8.770171165466309, \"y\": 3.0751287937164307, \"labels\": \"here\"}, {\"x\": 6.343688488006592, \"y\": 5.477837562561035, \"labels\": \"stevia\"}, {\"x\": 3.6917543411254883, \"y\": 4.890578746795654, \"labels\": \"reduction\"}, {\"x\": 6.563518047332764, \"y\": 4.177142143249512, \"labels\": \"sushi\"}, {\"x\": 6.182333469390869, \"y\": 3.649019479751587, \"labels\": \"spam\"}, {\"x\": 5.655755043029785, \"y\": 8.43149185180664, \"labels\": \"comes\"}, {\"x\": 1.838117241859436, \"y\": 4.795479774475098, \"labels\": \"celery\"}, {\"x\": 4.529712200164795, \"y\": 5.448915004730225, \"labels\": \"allspice\"}, {\"x\": 7.432436943054199, \"y\": 7.498082637786865, \"labels\": \"somewhat\"}, {\"x\": 5.734655857086182, \"y\": 5.537421703338623, \"labels\": \"additional\"}, {\"x\": 9.884564399719238, \"y\": 3.7237846851348877, \"labels\": \"her\"}, {\"x\": 9.68679428100586, \"y\": 4.086888790130615, \"labels\": \"making\"}, {\"x\": 6.77000093460083, \"y\": 6.183274745941162, \"labels\": \"heaven\"}, {\"x\": 8.23239803314209, \"y\": 7.434482097625732, \"labels\": \"healthier\"}, {\"x\": 3.98638653755188, \"y\": 4.9038238525390625, \"labels\": \"pinto\"}, {\"x\": 5.333014965057373, \"y\": 4.6843581199646, \"labels\": \"microplane\"}, {\"x\": 8.149727821350098, \"y\": 6.088108062744141, \"labels\": \"overkill\"}, {\"x\": 8.11214828491211, \"y\": 3.2588953971862793, \"labels\": \"biggest\"}, {\"x\": 7.222577095031738, \"y\": 3.9982635974884033, \"labels\": \"author\"}, {\"x\": 4.742780685424805, \"y\": 3.899204969406128, \"labels\": \"brownies\"}, {\"x\": 9.063985824584961, \"y\": 5.841362476348877, \"labels\": \"judge\"}, {\"x\": 4.736491680145264, \"y\": 4.715507507324219, \"labels\": \"chai\"}, {\"x\": 9.676794052124023, \"y\": 6.64132022857666, \"labels\": \"assume\"}, {\"x\": 6.717816352844238, \"y\": 3.373971939086914, \"labels\": \"ruhlman\"}, {\"x\": 7.552666664123535, \"y\": 5.07804012298584, \"labels\": \"comparison\"}, {\"x\": 6.97331428527832, \"y\": 2.944307565689087, \"labels\": \"essentials\"}, {\"x\": 7.137065410614014, \"y\": 4.874236106872559, \"labels\": \"vitamins\"}, {\"x\": 8.191276550292969, \"y\": 5.761328220367432, \"labels\": \"themselves\"}, {\"x\": 8.035569190979004, \"y\": 2.9714624881744385, \"labels\": \"restaurant\"}, {\"x\": 7.53408145904541, \"y\": 7.47464656829834, \"labels\": \"too_much\"}, {\"x\": 9.295207023620605, \"y\": 4.329470157623291, \"labels\": \"noticed\"}, {\"x\": 5.797855377197266, \"y\": 6.668872356414795, \"labels\": \"absorbed\"}, {\"x\": 8.56356143951416, \"y\": 5.076408386230469, \"labels\": \"ain\"}, {\"x\": 3.8842642307281494, \"y\": 4.719618797302246, \"labels\": \"habanero\"}, {\"x\": 9.999734878540039, \"y\": 4.469954490661621, \"labels\": \"you\"}, {\"x\": 5.4109344482421875, \"y\": 6.694096565246582, \"labels\": \"squares\"}, {\"x\": 6.172258377075195, \"y\": 6.225781440734863, \"labels\": \"unlike\"}, {\"x\": 8.11707592010498, \"y\": 6.332680702209473, \"labels\": \"spending\"}, {\"x\": 7.018969535827637, \"y\": 4.717092990875244, \"labels\": \"factory\"}, {\"x\": 4.4691009521484375, \"y\": 4.65328311920166, \"labels\": \"jello\"}, {\"x\": 9.994844436645508, \"y\": 5.916431903839111, \"labels\": \"surprisingly\"}, {\"x\": 5.115931510925293, \"y\": 5.911314010620117, \"labels\": \"rubbed\"}, {\"x\": 6.6407952308654785, \"y\": 4.702485084533691, \"labels\": \"textures\"}, {\"x\": 3.1501359939575195, \"y\": 5.418039798736572, \"labels\": \"sweetness\"}, {\"x\": 10.124894142150879, \"y\": 4.743144512176514, \"labels\": \"im\"}, {\"x\": 6.819125175476074, \"y\": 4.899831295013428, \"labels\": \"models\"}, {\"x\": 8.953147888183594, \"y\": 3.351212739944458, \"labels\": \"shows\"}, {\"x\": 6.872986316680908, \"y\": 5.264894962310791, \"labels\": \"above\"}, {\"x\": 8.49211597442627, \"y\": 5.689488887786865, \"labels\": \"painful\"}, {\"x\": 4.433116436004639, \"y\": 7.582666397094727, \"labels\": \"separate\"}, {\"x\": 9.33840274810791, \"y\": 5.850142478942871, \"labels\": \"anyway\"}, {\"x\": 10.424200057983398, \"y\": 5.160121917724609, \"labels\": \"doesn\"}, {\"x\": 9.711138725280762, \"y\": 6.346908092498779, \"labels\": \"soon\"}, {\"x\": 9.573769569396973, \"y\": 4.856770038604736, \"labels\": \"brain\"}, {\"x\": 7.5069146156311035, \"y\": 6.722885608673096, \"labels\": \"forcing\"}, {\"x\": 7.938221454620361, \"y\": 6.19115686416626, \"labels\": \"mentioning\"}, {\"x\": 8.333741188049316, \"y\": 6.502954006195068, \"labels\": \"ability\"}, {\"x\": 4.6811652183532715, \"y\": 5.0166802406311035, \"labels\": \"rotisserie\"}, {\"x\": 7.826436996459961, \"y\": 4.623413562774658, \"labels\": \"adapted\"}, {\"x\": 5.913710117340088, \"y\": 5.533407688140869, \"labels\": \"ladle\"}, {\"x\": 7.868564605712891, \"y\": 6.24976921081543, \"labels\": \"michael\"}, {\"x\": 8.417891502380371, \"y\": 6.869389057159424, \"labels\": \"harbor\"}, {\"x\": 7.671436309814453, \"y\": 3.928532838821411, \"labels\": \"group\"}, {\"x\": 5.117507457733154, \"y\": 7.5735764503479, \"labels\": \"hand\"}, {\"x\": 6.8524909019470215, \"y\": 6.063546657562256, \"labels\": \"station\"}, {\"x\": 6.50715446472168, \"y\": 3.9249088764190674, \"labels\": \"ip\"}, {\"x\": 2.969738245010376, \"y\": 4.860431671142578, \"labels\": \"drained\"}, {\"x\": 6.322299480438232, \"y\": 5.957188606262207, \"labels\": \"agent\"}, {\"x\": 7.871279239654541, \"y\": 5.306044101715088, \"labels\": \"reputable\"}, {\"x\": 8.586813926696777, \"y\": 4.103830337524414, \"labels\": \"chemistry\"}, {\"x\": 9.229808807373047, \"y\": 5.702214241027832, \"labels\": \"racist\"}, {\"x\": 4.048062801361084, \"y\": 5.108506202697754, \"labels\": \"pearl\"}, {\"x\": 8.55908203125, \"y\": 6.156674861907959, \"labels\": \"differently\"}, {\"x\": 4.8947367668151855, \"y\": 3.8678276538848877, \"labels\": \"rib\"}, {\"x\": 9.062936782836914, \"y\": 2.973720073699951, \"labels\": \"sister\"}, {\"x\": 7.4036173820495605, \"y\": 5.742882251739502, \"labels\": \"italians\"}, {\"x\": 9.038089752197266, \"y\": 6.832431793212891, \"labels\": \"takes\"}, {\"x\": 7.911736965179443, \"y\": 4.328837871551514, \"labels\": \"decision\"}, {\"x\": 8.656206130981445, \"y\": 4.892465114593506, \"labels\": \"male\"}, {\"x\": 9.929292678833008, \"y\": 4.989328861236572, \"labels\": \"is\"}, {\"x\": 8.84027099609375, \"y\": 4.89723539352417, \"labels\": \"sturdy\"}, {\"x\": 7.620585918426514, \"y\": 4.926240921020508, \"labels\": \"zone\"}, {\"x\": 8.119803428649902, \"y\": 4.29449987411499, \"labels\": \"value\"}, {\"x\": 7.573190212249756, \"y\": 3.2971818447113037, \"labels\": \"region\"}, {\"x\": 7.550662994384766, \"y\": 4.704998970031738, \"labels\": \"mood\"}, {\"x\": 10.326656341552734, \"y\": 5.231792449951172, \"labels\": \"but\"}, {\"x\": 4.925170421600342, \"y\": 7.940861701965332, \"labels\": \"over\"}, {\"x\": 3.0377609729766846, \"y\": 4.89020299911499, \"labels\": \"cans\"}, {\"x\": 9.407282829284668, \"y\": 5.4355363845825195, \"labels\": \"calling\"}, {\"x\": 7.761012554168701, \"y\": 4.903631687164307, \"labels\": \"grit\"}, {\"x\": 7.006955146789551, \"y\": 4.490335941314697, \"labels\": \"grills\"}, {\"x\": 4.791409492492676, \"y\": 5.539456844329834, \"labels\": \"gum\"}, {\"x\": 7.724766731262207, \"y\": 4.263527870178223, \"labels\": \"nicer\"}, {\"x\": 3.871864080429077, \"y\": 5.23535680770874, \"labels\": \"uncooked\"}, {\"x\": 4.83475923538208, \"y\": 6.350805282592773, \"labels\": \"batch\"}, {\"x\": 9.159598350524902, \"y\": 4.999284744262695, \"labels\": \"listening\"}, {\"x\": 8.815919876098633, \"y\": 3.742962121963501, \"labels\": \"thing\"}, {\"x\": 6.224804878234863, \"y\": 7.533543109893799, \"labels\": \"ensure\"}, {\"x\": 5.743522644042969, \"y\": 5.47941255569458, \"labels\": \"amino\"}, {\"x\": 4.7854323387146, \"y\": 4.986029624938965, \"labels\": \"subbing\"}, {\"x\": 4.316624164581299, \"y\": 6.869335174560547, \"labels\": \"crumble\"}, {\"x\": 9.711568832397461, \"y\": 6.796187400817871, \"labels\": \"look\"}, {\"x\": 8.05750846862793, \"y\": 5.475765228271484, \"labels\": \"error\"}, {\"x\": 8.571248054504395, \"y\": 6.046331882476807, \"labels\": \"parasites\"}, {\"x\": 7.856837272644043, \"y\": 3.1064682006835938, \"labels\": \"costco\"}, {\"x\": 6.203649044036865, \"y\": 6.201599597930908, \"labels\": \"propane\"}, {\"x\": 4.666578769683838, \"y\": 8.401535987854004, \"labels\": \"simmer\"}, {\"x\": 10.21761417388916, \"y\": 5.131641387939453, \"labels\": \"obviously\"}, {\"x\": 9.036966323852539, \"y\": 2.9619553089141846, \"labels\": \"daughter\"}, {\"x\": 5.600150108337402, \"y\": 6.032926559448242, \"labels\": \"liquor\"}, {\"x\": 9.862040519714355, \"y\": 6.289361000061035, \"labels\": \"possible\"}, {\"x\": 9.198488235473633, \"y\": 6.218005180358887, \"labels\": \"affordable\"}, {\"x\": 4.850208759307861, \"y\": 5.474149227142334, \"labels\": \"passata\"}, {\"x\": 4.457562446594238, \"y\": 4.1228861808776855, \"labels\": \"curds\"}, {\"x\": 5.856504917144775, \"y\": 7.472377777099609, \"labels\": \"toward\"}, {\"x\": 9.5090970993042, \"y\": 5.296949863433838, \"labels\": \"yup\"}, {\"x\": 6.143233299255371, \"y\": 6.159360408782959, \"labels\": \"silicone\"}, {\"x\": 9.0924711227417, \"y\": 4.0163397789001465, \"labels\": \"specific\"}, {\"x\": 8.321907997131348, \"y\": 5.211839199066162, \"labels\": \"wasting\"}, {\"x\": 7.853586196899414, \"y\": 5.847296237945557, \"labels\": \"eg\"}, {\"x\": 8.177248001098633, \"y\": 6.4661030769348145, \"labels\": \"simpler\"}, {\"x\": 7.760408878326416, \"y\": 4.361278533935547, \"labels\": \"description\"}, {\"x\": 6.961030006408691, \"y\": 4.317145824432373, \"labels\": \"magazines\"}, {\"x\": 6.109945774078369, \"y\": 3.9027979373931885, \"labels\": \"aglio\"}, {\"x\": 5.050634860992432, \"y\": 7.805086612701416, \"labels\": \"juices\"}, {\"x\": 6.047093868255615, \"y\": 5.961776256561279, \"labels\": \"mouthfeel\"}, {\"x\": 7.86337423324585, \"y\": 6.171722412109375, \"labels\": \"fault\"}, {\"x\": 2.546102523803711, \"y\": 4.0678534507751465, \"labels\": \"gravy\"}, {\"x\": 6.398915767669678, \"y\": 5.564411640167236, \"labels\": \"stones\"}, {\"x\": 3.453857183456421, \"y\": 4.751486778259277, \"labels\": \"strawberries\"}, {\"x\": 5.2434797286987305, \"y\": 4.202062606811523, \"labels\": \"pastes\"}, {\"x\": 7.096447944641113, \"y\": 5.3742756843566895, \"labels\": \"rate\"}, {\"x\": 8.052620887756348, \"y\": 4.798299789428711, \"labels\": \"birds\"}, {\"x\": 7.405467510223389, \"y\": 6.632225036621094, \"labels\": \"measured\"}, {\"x\": 2.898592710494995, \"y\": 5.025793075561523, \"labels\": \"packet\"}, {\"x\": 3.206692934036255, \"y\": 5.19822883605957, \"labels\": \"raw\"}, {\"x\": 6.05531120300293, \"y\": 7.300155162811279, \"labels\": \"park\"}, {\"x\": 6.089322566986084, \"y\": 4.339667797088623, \"labels\": \"variety\"}, {\"x\": 8.543256759643555, \"y\": 5.73891544342041, \"labels\": \"bro\"}, {\"x\": 8.80129337310791, \"y\": 4.972026348114014, \"labels\": \"winner\"}, {\"x\": 8.027067184448242, \"y\": 5.09011697769165, \"labels\": \"throughout\"}, {\"x\": 9.675199508666992, \"y\": 5.590470314025879, \"labels\": \"gotta\"}, {\"x\": 8.258235931396484, \"y\": 6.986300945281982, \"labels\": \"significantly\"}, {\"x\": 7.972859859466553, \"y\": 4.431175231933594, \"labels\": \"strop\"}, {\"x\": 9.557467460632324, \"y\": 6.089774131774902, \"labels\": \"rubbery\"}, {\"x\": 9.817866325378418, \"y\": 4.575527667999268, \"labels\": \"ate\"}, {\"x\": 9.726019859313965, \"y\": 3.760550022125244, \"labels\": \"person\"}, {\"x\": 5.157824993133545, \"y\": 4.848978042602539, \"labels\": \"goose\"}, {\"x\": 3.6528513431549072, \"y\": 4.7330002784729, \"labels\": \"mirin\"}, {\"x\": 6.353473663330078, \"y\": 2.293729066848755, \"labels\": \"utf\"}, {\"x\": 6.615101337432861, \"y\": 6.794607162475586, \"labels\": \"tomorrow\"}, {\"x\": 7.70040225982666, \"y\": 3.5312254428863525, \"labels\": \"testing\"}, {\"x\": 3.962934970855713, \"y\": 4.8470683097839355, \"labels\": \"rolled\"}, {\"x\": 7.064098834991455, \"y\": 4.752279281616211, \"labels\": \"chemicals\"}, {\"x\": 2.322007894515991, \"y\": 5.082867622375488, \"labels\": \"nutmeg\"}, {\"x\": 5.620432376861572, \"y\": 5.156022548675537, \"labels\": \"stewing\"}, {\"x\": 4.079436779022217, \"y\": 5.1701483726501465, \"labels\": \"dollop\"}, {\"x\": 8.593852996826172, \"y\": 5.092351913452148, \"labels\": \"certified\"}, {\"x\": 9.609684944152832, \"y\": 4.287970542907715, \"labels\": \"realized\"}, {\"x\": 5.718977451324463, \"y\": 8.43365478515625, \"labels\": \"pull\"}, {\"x\": 7.954808712005615, \"y\": 4.7985639572143555, \"labels\": \"brilliant\"}, {\"x\": 6.093845367431641, \"y\": 5.321389198303223, \"labels\": \"pair\"}, {\"x\": 8.325202941894531, \"y\": 4.912293910980225, \"labels\": \"regarding\"}, {\"x\": 9.152657508850098, \"y\": 3.815274953842163, \"labels\": \"advice\"}, {\"x\": 7.935068130493164, \"y\": 6.829004764556885, \"labels\": \"scent\"}, {\"x\": 8.012681007385254, \"y\": 3.3726325035095215, \"labels\": \"area\"}, {\"x\": 10.061724662780762, \"y\": 4.324290752410889, \"labels\": \"what\"}, {\"x\": 3.3970694541931152, \"y\": 4.845983028411865, \"labels\": \"mild\"}, {\"x\": 4.255499839782715, \"y\": 4.847236156463623, \"labels\": \"pint\"}, {\"x\": 4.960519790649414, \"y\": 5.23394250869751, \"labels\": \"sorbet\"}, {\"x\": 3.2357027530670166, \"y\": 4.503228664398193, \"labels\": \"mayonnaise\"}, {\"x\": 6.030388355255127, \"y\": 5.652620315551758, \"labels\": \"cioppino\"}, {\"x\": 9.565655708312988, \"y\": 3.8859753608703613, \"labels\": \"made\"}, {\"x\": 1.7618215084075928, \"y\": 4.858240604400635, \"labels\": \"paprika\"}, {\"x\": 5.235047340393066, \"y\": 5.01418924331665, \"labels\": \"swap\"}, {\"x\": 8.243582725524902, \"y\": 5.253143787384033, \"labels\": \"married\"}, {\"x\": 8.113365173339844, \"y\": 5.182873249053955, \"labels\": \"dishwashers\"}, {\"x\": 1.9425890445709229, \"y\": 4.734585285186768, \"labels\": \"coriander\"}, {\"x\": 8.10071849822998, \"y\": 3.817594528198242, \"labels\": \"owned\"}, {\"x\": 2.6814632415771484, \"y\": 4.323846817016602, \"labels\": \"thai\"}, {\"x\": 1.950074315071106, \"y\": 4.943344593048096, \"labels\": \"honey\"}, {\"x\": 4.319943428039551, \"y\": 4.949206352233887, \"labels\": \"skinless\"}, {\"x\": 9.958770751953125, \"y\": 4.704962730407715, \"labels\": \"liked\"}, {\"x\": 8.985023498535156, \"y\": 4.578956127166748, \"labels\": \"copy\"}, {\"x\": 6.6940999031066895, \"y\": 4.647575855255127, \"labels\": \"part\"}, {\"x\": 8.412532806396484, \"y\": 5.998498439788818, \"labels\": \"recall\"}, {\"x\": 1.8422679901123047, \"y\": 4.756582736968994, \"labels\": \"cilantro\"}, {\"x\": 8.644643783569336, \"y\": 5.903600215911865, \"labels\": \"surely\"}, {\"x\": 4.886003494262695, \"y\": 4.624210834503174, \"labels\": \"pulled\"}, {\"x\": 7.5046586990356445, \"y\": 6.220268726348877, \"labels\": \"death\"}, {\"x\": 10.032461166381836, \"y\": 5.980010509490967, \"labels\": \"incredibly\"}, {\"x\": 6.921574115753174, \"y\": 3.7210006713867188, \"labels\": \"notes\"}, {\"x\": 2.9187774658203125, \"y\": 4.603268146514893, \"labels\": \"kidney\"}, {\"x\": 8.36898422241211, \"y\": 6.099764347076416, \"labels\": \"bothered\"}, {\"x\": 5.980352401733398, \"y\": 6.345727443695068, \"labels\": \"picked\"}, {\"x\": 5.131965637207031, \"y\": 7.841709136962891, \"labels\": \"entire\"}, {\"x\": 4.838973045349121, \"y\": 8.063422203063965, \"labels\": \"sink\"}, {\"x\": 4.478268146514893, \"y\": 6.783727169036865, \"labels\": \"bones\"}, {\"x\": 4.638545513153076, \"y\": 6.882007122039795, \"labels\": \"bite\"}, {\"x\": 6.479094982147217, \"y\": 6.319793701171875, \"labels\": \"match\"}, {\"x\": 6.419152736663818, \"y\": 6.444106101989746, \"labels\": \"utensils\"}, {\"x\": 2.0845348834991455, \"y\": 5.224124908447266, \"labels\": \"mix\"}, {\"x\": 5.78396463394165, \"y\": 5.790858745574951, \"labels\": \"triple\"}, {\"x\": 6.526041030883789, \"y\": 5.355600833892822, \"labels\": \"blade\"}, {\"x\": 6.543581962585449, \"y\": 2.36507511138916, \"labels\": \"foodnetwork\"}, {\"x\": 6.743121147155762, \"y\": 6.4949493408203125, \"labels\": \"hence\"}, {\"x\": 4.6176958084106445, \"y\": 6.383145332336426, \"labels\": \"portions\"}, {\"x\": 8.029397010803223, \"y\": 4.615860939025879, \"labels\": \"relevant\"}, {\"x\": 6.3573527336120605, \"y\": 4.646953582763672, \"labels\": \"labels\"}, {\"x\": 7.164576530456543, \"y\": 5.062525749206543, \"labels\": \"train\"}, {\"x\": 7.177580833435059, \"y\": 5.578771114349365, \"labels\": \"sur\"}, {\"x\": 9.412729263305664, \"y\": 7.13063383102417, \"labels\": \"find\"}, {\"x\": 8.280874252319336, \"y\": 3.467337131500244, \"labels\": \"women\"}, {\"x\": 8.0283784866333, \"y\": 5.214597225189209, \"labels\": \"involves\"}, {\"x\": 5.879110813140869, \"y\": 4.04989767074585, \"labels\": \"uses\"}, {\"x\": 8.206949234008789, \"y\": 2.6513288021087646, \"labels\": \"meals\"}, {\"x\": 8.895846366882324, \"y\": 5.165220737457275, \"labels\": \"gorgeous\"}, {\"x\": 8.255341529846191, \"y\": 7.71767520904541, \"labels\": \"more\"}, {\"x\": 8.494915008544922, \"y\": 5.144000053405762, \"labels\": \"um\"}, {\"x\": 5.698859214782715, \"y\": 4.7913312911987305, \"labels\": \"lately\"}, {\"x\": 8.870582580566406, \"y\": 3.403229236602783, \"labels\": \"aunt\"}, {\"x\": 10.263789176940918, \"y\": 5.021988391876221, \"labels\": \"yet\"}, {\"x\": 7.352749347686768, \"y\": 2.6463820934295654, \"labels\": \"price\"}, {\"x\": 7.315859794616699, \"y\": 4.427319526672363, \"labels\": \"changer\"}, {\"x\": 4.754910945892334, \"y\": 4.388503074645996, \"labels\": \"bleu\"}, {\"x\": 7.390972137451172, \"y\": 5.347263336181641, \"labels\": \"maryland\"}, {\"x\": 8.674864768981934, \"y\": 6.389802932739258, \"labels\": \"forgiving\"}, {\"x\": 6.5945539474487305, \"y\": 3.7526919841766357, \"labels\": \"courtesy\"}, {\"x\": 2.0158896446228027, \"y\": 4.914105415344238, \"labels\": \"salt_and_pepper\"}, {\"x\": 8.643211364746094, \"y\": 6.258002281188965, \"labels\": \"appeal\"}, {\"x\": 6.656086444854736, \"y\": 6.3965864181518555, \"labels\": \"freshness\"}, {\"x\": 4.943775653839111, \"y\": 4.368044853210449, \"labels\": \"hawaiian\"}, {\"x\": 7.54265022277832, \"y\": 3.3323233127593994, \"labels\": \"trader\"}, {\"x\": 8.753002166748047, \"y\": 7.110296726226807, \"labels\": \"die\"}, {\"x\": 2.6916050910949707, \"y\": 4.32612943649292, \"labels\": \"tofu\"}, {\"x\": 7.331457614898682, \"y\": 7.445441722869873, \"labels\": \"richness\"}, {\"x\": 4.885828495025635, \"y\": 5.420059680938721, \"labels\": \"seaweed\"}, {\"x\": 4.04434871673584, \"y\": 5.54530143737793, \"labels\": \"spoonful\"}, {\"x\": 9.692300796508789, \"y\": 6.2845587730407715, \"labels\": \"same\"}, {\"x\": 4.545135021209717, \"y\": 4.551133155822754, \"labels\": \"penne\"}, {\"x\": 7.592681884765625, \"y\": 5.482578754425049, \"labels\": \"application\"}, {\"x\": 8.762256622314453, \"y\": 5.3005876541137695, \"labels\": \"bullshit\"}, {\"x\": 9.428915023803711, \"y\": 7.106018543243408, \"labels\": \"work\"}, {\"x\": 3.4102632999420166, \"y\": 4.9240641593933105, \"labels\": \"leeks\"}, {\"x\": 3.292677879333496, \"y\": 4.228717803955078, \"labels\": \"hummus\"}, {\"x\": 5.818826675415039, \"y\": 4.927547454833984, \"labels\": \"bullion\"}, {\"x\": 10.020342826843262, \"y\": 4.464176177978516, \"labels\": \"sense\"}, {\"x\": 9.69548225402832, \"y\": 4.226295471191406, \"labels\": \"ve_never\"}, {\"x\": 6.62083625793457, \"y\": 5.897282600402832, \"labels\": \"corner\"}, {\"x\": 3.8634228706359863, \"y\": 4.686301231384277, \"labels\": \"couscous\"}, {\"x\": 7.066567897796631, \"y\": 5.947110176086426, \"labels\": \"mid\"}, {\"x\": 7.342518329620361, \"y\": 3.941589593887329, \"labels\": \"threads\"}, {\"x\": 8.910367012023926, \"y\": 4.778163909912109, \"labels\": \"ignore\"}, {\"x\": 8.705061912536621, \"y\": 3.0218634605407715, \"labels\": \"comments\"}, {\"x\": 9.566180229187012, \"y\": 5.981394290924072, \"labels\": \"balanced\"}, {\"x\": 9.322532653808594, \"y\": 5.650062084197998, \"labels\": \"skill\"}, {\"x\": 4.553500652313232, \"y\": 7.50852108001709, \"labels\": \"towels\"}, {\"x\": 6.746419429779053, \"y\": 7.262990474700928, \"labels\": \"runny\"}, {\"x\": 8.362956047058105, \"y\": 6.520559310913086, \"labels\": \"meaty\"}, {\"x\": 4.506494522094727, \"y\": 7.879734039306641, \"labels\": \"skin\"}, {\"x\": 2.1694419384002686, \"y\": 5.096937656402588, \"labels\": \"sesame_oil\"}, {\"x\": 7.615888595581055, \"y\": 4.880516529083252, \"labels\": \"perform\"}, {\"x\": 5.663205623626709, \"y\": 4.680948257446289, \"labels\": \"besides\"}, {\"x\": 2.9029228687286377, \"y\": 4.3290696144104, \"labels\": \"shrimp\"}, {\"x\": 5.590546131134033, \"y\": 4.455288887023926, \"labels\": \"contains\"}, {\"x\": 7.335704803466797, \"y\": 4.666252613067627, \"labels\": \"developed\"}, {\"x\": 3.2111544609069824, \"y\": 4.162055015563965, \"labels\": \"chops\"}, {\"x\": 7.52077579498291, \"y\": 6.102628707885742, \"labels\": \"deglazing\"}, {\"x\": 9.082320213317871, \"y\": 5.767167568206787, \"labels\": \"accurate\"}, {\"x\": 5.432802677154541, \"y\": 6.876227378845215, \"labels\": \"carbon\"}, {\"x\": 5.543515205383301, \"y\": 5.631587982177734, \"labels\": \"favor\"}, {\"x\": 5.433563232421875, \"y\": 5.474479675292969, \"labels\": \"basting\"}, {\"x\": 9.183135032653809, \"y\": 7.226725101470947, \"labels\": \"need\"}, {\"x\": 7.505134582519531, \"y\": 4.574954986572266, \"labels\": \"benefit\"}, {\"x\": 2.671457290649414, \"y\": 4.35178804397583, \"labels\": \"spicy\"}, {\"x\": 4.391320705413818, \"y\": 4.392704486846924, \"labels\": \"con\"}, {\"x\": 7.977895259857178, \"y\": 3.917567253112793, \"labels\": \"ninja\"}, {\"x\": 8.17841625213623, \"y\": 5.695802688598633, \"labels\": \"gym\"}, {\"x\": 2.0920462608337402, \"y\": 5.1757378578186035, \"labels\": \"flour\"}, {\"x\": 6.87054443359375, \"y\": 5.912720203399658, \"labels\": \"teeth\"}, {\"x\": 5.177518844604492, \"y\": 5.351362228393555, \"labels\": \"occasional\"}, {\"x\": 2.271406650543213, \"y\": 4.4171061515808105, \"labels\": \"jam\"}, {\"x\": 5.16856575012207, \"y\": 5.56923770904541, \"labels\": \"graham\"}, {\"x\": 9.737814903259277, \"y\": 5.522519588470459, \"labels\": \"goes\"}, {\"x\": 9.405694961547852, \"y\": 7.139721870422363, \"labels\": \"check\"}, {\"x\": 9.417208671569824, \"y\": 4.214527606964111, \"labels\": \"awhile\"}, {\"x\": 4.949118137359619, \"y\": 5.71803092956543, \"labels\": \"scratch\"}, {\"x\": 5.370347023010254, \"y\": 6.832326889038086, \"labels\": \"cooler\"}, {\"x\": 7.016515731811523, \"y\": 6.026105880737305, \"labels\": \"fudge\"}, {\"x\": 4.614915370941162, \"y\": 5.812803268432617, \"labels\": \"instant\"}, {\"x\": 8.977282524108887, \"y\": 6.467031002044678, \"labels\": \"pricey\"}, {\"x\": 3.0556681156158447, \"y\": 4.767114639282227, \"labels\": \"pickle\"}, {\"x\": 7.50325870513916, \"y\": 4.385050296783447, \"labels\": \"twenty\"}, {\"x\": 3.7794878482818604, \"y\": 4.836363792419434, \"labels\": \"neutral\"}, {\"x\": 7.218850135803223, \"y\": 4.712456703186035, \"labels\": \"conditions\"}, {\"x\": 4.974112033843994, \"y\": 5.014975547790527, \"labels\": \"slicing\"}, {\"x\": 7.960425853729248, \"y\": 5.934237957000732, \"labels\": \"masa\"}, {\"x\": 6.913454532623291, \"y\": 6.745865345001221, \"labels\": \"sponge\"}, {\"x\": 10.026183128356934, \"y\": 3.821943521499634, \"labels\": \"me\"}, {\"x\": 6.586809158325195, \"y\": 3.3354263305664062, \"labels\": \"gclid\"}, {\"x\": 7.096083641052246, \"y\": 4.280786514282227, \"labels\": \"bakery\"}, {\"x\": 9.420951843261719, \"y\": 4.154783248901367, \"labels\": \"nobody\"}, {\"x\": 9.137840270996094, \"y\": 6.9688401222229, \"labels\": \"spend\"}, {\"x\": 7.590113639831543, \"y\": 5.771081447601318, \"labels\": \"creates\"}, {\"x\": 4.8356099128723145, \"y\": 4.453479290008545, \"labels\": \"wellington\"}, {\"x\": 4.965663909912109, \"y\": 3.86698842048645, \"labels\": \"pho\"}, {\"x\": 3.8519468307495117, \"y\": 5.875889301300049, \"labels\": \"handful\"}, {\"x\": 5.843750476837158, \"y\": 6.510391712188721, \"labels\": \"fluff\"}, {\"x\": 9.226658821105957, \"y\": 3.900968313217163, \"labels\": \"reason\"}, {\"x\": 7.900685787200928, \"y\": 6.530057907104492, \"labels\": \"teaches\"}, {\"x\": 3.782559394836426, \"y\": 4.861230850219727, \"labels\": \"gochujang\"}, {\"x\": 6.228127479553223, \"y\": 5.935661792755127, \"labels\": \"fear\"}, {\"x\": 9.08623218536377, \"y\": 7.1654839515686035, \"labels\": \"prefer\"}, {\"x\": 6.748688697814941, \"y\": 5.900692939758301, \"labels\": \"bagel\"}, {\"x\": 6.981247901916504, \"y\": 4.130571365356445, \"labels\": \"fan\"}, {\"x\": 5.42841911315918, \"y\": 6.11919641494751, \"labels\": \"spots\"}, {\"x\": 4.916723251342773, \"y\": 6.891559600830078, \"labels\": \"batches\"}, {\"x\": 2.789736747741699, \"y\": 4.759886741638184, \"labels\": \"or\"}, {\"x\": 2.3326609134674072, \"y\": 5.057979106903076, \"labels\": \"added\"}, {\"x\": 9.627593994140625, \"y\": 4.777700901031494, \"labels\": \"thinks\"}, {\"x\": 6.239187240600586, \"y\": 7.0073137283325195, \"labels\": \"smashed\"}, {\"x\": 4.633561134338379, \"y\": 4.203867435455322, \"labels\": \"philly\"}, {\"x\": 9.018861770629883, \"y\": 3.4859256744384766, \"labels\": \"gift\"}, {\"x\": 7.1865739822387695, \"y\": 2.6600570678710938, \"labels\": \"history\"}, {\"x\": 3.383237600326538, \"y\": 5.106207370758057, \"labels\": \"apples\"}, {\"x\": 5.67831563949585, \"y\": 8.424551963806152, \"labels\": \"turns\"}, {\"x\": 3.4461843967437744, \"y\": 4.334122657775879, \"labels\": \"guacamole\"}, {\"x\": 4.887539386749268, \"y\": 7.488108158111572, \"labels\": \"kettle\"}, {\"x\": 8.428828239440918, \"y\": 6.310693740844727, \"labels\": \"ultimately\"}, {\"x\": 5.656741619110107, \"y\": 4.690158843994141, \"labels\": \"generic\"}, {\"x\": 4.385666370391846, \"y\": 7.4649505615234375, \"labels\": \"wrapped\"}, {\"x\": 9.891430854797363, \"y\": 5.430835723876953, \"labels\": \"smells\"}, {\"x\": 6.053651809692383, \"y\": 5.037905693054199, \"labels\": \"background\"}, {\"x\": 8.902711868286133, \"y\": 3.5263097286224365, \"labels\": \"info\"}, {\"x\": 8.42659854888916, \"y\": 6.87052059173584, \"labels\": \"likely\"}, {\"x\": 7.4487433433532715, \"y\": 6.1007399559021, \"labels\": \"allergic\"}, {\"x\": 2.879760503768921, \"y\": 4.570167064666748, \"labels\": \"greek\"}, {\"x\": 7.4021100997924805, \"y\": 6.900384902954102, \"labels\": \"motor\"}, {\"x\": 6.323639869689941, \"y\": 2.332524061203003, \"labels\": \"sr\"}, {\"x\": 8.869537353515625, \"y\": 3.8089606761932373, \"labels\": \"website\"}, {\"x\": 7.272630214691162, \"y\": 3.0033912658691406, \"labels\": \"tramontina\"}, {\"x\": 6.936718940734863, \"y\": 3.6763176918029785, \"labels\": \"window\"}, {\"x\": 8.471627235412598, \"y\": 6.252830505371094, \"labels\": \"costs\"}, {\"x\": 10.032062530517578, \"y\": 4.993817329406738, \"labels\": \"thats\"}, {\"x\": 9.571903228759766, \"y\": 4.403733730316162, \"labels\": \"serious\"}, {\"x\": 7.6448798179626465, \"y\": 6.519913196563721, \"labels\": \"cure\"}, {\"x\": 8.617012023925781, \"y\": 4.728081226348877, \"labels\": \"dunno\"}, {\"x\": 5.017717361450195, \"y\": 6.166799545288086, \"labels\": \"shots\"}, {\"x\": 5.7374372482299805, \"y\": 7.816712379455566, \"labels\": \"reach\"}, {\"x\": 6.996038436889648, \"y\": 4.766984939575195, \"labels\": \"chances\"}, {\"x\": 5.983242511749268, \"y\": 6.836731433868408, \"labels\": \"scooped\"}, {\"x\": 8.755265235900879, \"y\": 5.959259510040283, \"labels\": \"simply\"}, {\"x\": 5.212978839874268, \"y\": 7.243295192718506, \"labels\": \"metal\"}, {\"x\": 2.469944953918457, \"y\": 4.267179012298584, \"labels\": \"fish\"}, {\"x\": 4.039437770843506, \"y\": 4.639614582061768, \"labels\": \"vodka\"}, {\"x\": 1.94648277759552, \"y\": 4.642117023468018, \"labels\": \"beans\"}, {\"x\": 5.002183437347412, \"y\": 6.859084129333496, \"labels\": \"lock\"}, {\"x\": 5.771674156188965, \"y\": 8.111417770385742, \"labels\": \"hold\"}, {\"x\": 4.648195266723633, \"y\": 5.4185791015625, \"labels\": \"barley\"}, {\"x\": 9.593973159790039, \"y\": 4.984704494476318, \"labels\": \"seeing\"}, {\"x\": 8.771220207214355, \"y\": 5.41166353225708, \"labels\": \"googled\"}, {\"x\": 7.0721516609191895, \"y\": 3.6023595333099365, \"labels\": \"bittman\"}, {\"x\": 2.5039145946502686, \"y\": 4.485089302062988, \"labels\": \"cherry\"}, {\"x\": 5.018268585205078, \"y\": 6.119089126586914, \"labels\": \"florets\"}, {\"x\": 6.471922874450684, \"y\": 4.73411226272583, \"labels\": \"blumenthal\"}, {\"x\": 10.131125450134277, \"y\": 4.781984806060791, \"labels\": \"unless\"}, {\"x\": 5.052180767059326, \"y\": 6.36654806137085, \"labels\": \"moon\"}, {\"x\": 7.807482719421387, \"y\": 4.428778648376465, \"labels\": \"mixers\"}, {\"x\": 2.345784902572632, \"y\": 4.2684807777404785, \"labels\": \"bacon\"}, {\"x\": 4.461584091186523, \"y\": 4.498517036437988, \"labels\": \"mousse\"}, {\"x\": 6.328579902648926, \"y\": 5.527949810028076, \"labels\": \"refrigerated\"}, {\"x\": 8.94836139678955, \"y\": 5.832210063934326, \"labels\": \"measurements\"}, {\"x\": 6.465273380279541, \"y\": 4.858008861541748, \"labels\": \"playing\"}, {\"x\": 2.3825204372406006, \"y\": 4.981152534484863, \"labels\": \"serve\"}, {\"x\": 9.418663024902344, \"y\": 4.42616605758667, \"labels\": \"learning\"}, {\"x\": 8.49032974243164, \"y\": 4.141211032867432, \"labels\": \"warranty\"}, {\"x\": 7.114948749542236, \"y\": 5.569374084472656, \"labels\": \"temperatures\"}, {\"x\": 7.297870635986328, \"y\": 7.045525074005127, \"labels\": \"maillard\"}, {\"x\": 7.857240676879883, \"y\": 4.647005081176758, \"labels\": \"yours\"}, {\"x\": 8.124768257141113, \"y\": 4.677957057952881, \"labels\": \"bill\"}, {\"x\": 6.460786819458008, \"y\": 4.220114707946777, \"labels\": \"swedish\"}, {\"x\": 2.572850227355957, \"y\": 4.127612113952637, \"labels\": \"sausage\"}, {\"x\": 8.406234741210938, \"y\": 2.6807219982147217, \"labels\": \"time\"}, {\"x\": 9.283305168151855, \"y\": 4.822519302368164, \"labels\": \"tries\"}, {\"x\": 6.914182662963867, \"y\": 4.601178169250488, \"labels\": \"foundation\"}, {\"x\": 7.995857238769531, \"y\": 4.312042236328125, \"labels\": \"system\"}, {\"x\": 7.102226257324219, \"y\": 5.569581031799316, \"labels\": \"nose\"}, {\"x\": 5.352509021759033, \"y\": 7.95223331451416, \"labels\": \"sitting\"}, {\"x\": 7.179123401641846, \"y\": 6.689132213592529, \"labels\": \"complexity\"}, {\"x\": 2.862504482269287, \"y\": 4.007266521453857, \"labels\": \"beef\"}, {\"x\": 7.332860469818115, \"y\": 5.523735523223877, \"labels\": \"challenging\"}, {\"x\": 9.360799789428711, \"y\": 7.128559589385986, \"labels\": \"give\"}, {\"x\": 7.089527130126953, \"y\": 5.859992027282715, \"labels\": \"sorta\"}, {\"x\": 6.910489559173584, \"y\": 5.8270263671875, \"labels\": \"provides\"}, {\"x\": 5.388070106506348, \"y\": 5.335577964782715, \"labels\": \"typically\"}, {\"x\": 2.898385524749756, \"y\": 4.1565046310424805, \"labels\": \"blue\"}, {\"x\": 8.611437797546387, \"y\": 7.255441188812256, \"labels\": \"become\"}, {\"x\": 7.43503999710083, \"y\": 4.286530017852783, \"labels\": \"shun\"}, {\"x\": 10.090485572814941, \"y\": 5.514945983886719, \"labels\": \"fair\"}, {\"x\": 9.88791561126709, \"y\": 4.281308650970459, \"labels\": \"sick\"}, {\"x\": 7.443179607391357, \"y\": 6.233443737030029, \"labels\": \"appetite\"}, {\"x\": 8.246966361999512, \"y\": 3.8716635704040527, \"labels\": \"rice_cooker\"}, {\"x\": 8.679245948791504, \"y\": 4.273138046264648, \"labels\": \"rules\"}, {\"x\": 7.439152717590332, \"y\": 7.565083980560303, \"labels\": \"color\"}, {\"x\": 4.346841335296631, \"y\": 4.610157012939453, \"labels\": \"asiago\"}, {\"x\": 4.698883533477783, \"y\": 8.0677490234375, \"labels\": \"batter\"}, {\"x\": 6.754214763641357, \"y\": 6.905304431915283, \"labels\": \"stuck\"}, {\"x\": 6.835653305053711, \"y\": 4.483057022094727, \"labels\": \"mixes\"}, {\"x\": 9.040933609008789, \"y\": 4.564492225646973, \"labels\": \"mention\"}, {\"x\": 9.217665672302246, \"y\": 5.845201015472412, \"labels\": \"professionally\"}, {\"x\": 6.494900703430176, \"y\": 7.582900524139404, \"labels\": \"scrub\"}, {\"x\": 2.7038424015045166, \"y\": 4.191976547241211, \"labels\": \"tacos\"}, {\"x\": 5.598940849304199, \"y\": 7.3896379470825195, \"labels\": \"thermometer\"}, {\"x\": 8.278002738952637, \"y\": 4.0141167640686035, \"labels\": \"boards\"}, {\"x\": 5.145397663116455, \"y\": 3.929265022277832, \"labels\": \"vin\"}, {\"x\": 6.402058124542236, \"y\": 2.2674262523651123, \"labels\": \"amp_amp\"}, {\"x\": 8.999567985534668, \"y\": 4.860173225402832, \"labels\": \"evidence\"}, {\"x\": 5.117496490478516, \"y\": 5.473529815673828, \"labels\": \"gin\"}, {\"x\": 9.382256507873535, \"y\": 4.342099189758301, \"labels\": \"no\"}, {\"x\": 8.830568313598633, \"y\": 5.53367805480957, \"labels\": \"lets\"}, {\"x\": 9.656658172607422, \"y\": 6.155490875244141, \"labels\": \"bet\"}, {\"x\": 9.084722518920898, \"y\": 4.874143123626709, \"labels\": \"writing\"}, {\"x\": 4.659573554992676, \"y\": 6.873030662536621, \"labels\": \"ends\"}, {\"x\": 6.60037088394165, \"y\": 5.123314380645752, \"labels\": \"fingers\"}, {\"x\": 8.622387886047363, \"y\": 4.712549209594727, \"labels\": \"agreed\"}, {\"x\": 8.853508949279785, \"y\": 5.221846103668213, \"labels\": \"equally\"}, {\"x\": 5.423079013824463, \"y\": 6.119638442993164, \"labels\": \"quarters\"}, {\"x\": 6.321720123291016, \"y\": 3.1047420501708984, \"labels\": \"prime\"}, {\"x\": 4.60645866394043, \"y\": 5.168017387390137, \"labels\": \"tomatos\"}, {\"x\": 5.663294315338135, \"y\": 5.945615291595459, \"labels\": \"sugars\"}, {\"x\": 5.452020168304443, \"y\": 7.8888840675354, \"labels\": \"flame\"}, {\"x\": 6.763386249542236, \"y\": 7.31332540512085, \"labels\": \"changes\"}, {\"x\": 9.65070629119873, \"y\": 4.993182182312012, \"labels\": \"claim\"}, {\"x\": 5.936679840087891, \"y\": 6.670954704284668, \"labels\": \"facing\"}, {\"x\": 6.193199634552002, \"y\": 5.017790794372559, \"labels\": \"lard\"}, {\"x\": 7.614442348480225, \"y\": 4.175399303436279, \"labels\": \"recommended\"}, {\"x\": 8.927177429199219, \"y\": 4.200720310211182, \"labels\": \"finding\"}, {\"x\": 7.615114688873291, \"y\": 4.613122463226318, \"labels\": \"exotic\"}, {\"x\": 9.470823287963867, \"y\": 5.733157634735107, \"labels\": \"unhealthy\"}, {\"x\": 8.085954666137695, \"y\": 4.9482340812683105, \"labels\": \"restrictions\"}, {\"x\": 10.462488174438477, \"y\": 5.2711076736450195, \"labels\": \"wrong\"}, {\"x\": 5.721935749053955, \"y\": 5.799496650695801, \"labels\": \"oils\"}, {\"x\": 7.963191032409668, \"y\": 3.6390695571899414, \"labels\": \"canada\"}, {\"x\": 7.11907958984375, \"y\": 5.590548038482666, \"labels\": \"cupboard\"}, {\"x\": 9.603705406188965, \"y\": 5.225174903869629, \"labels\": \"impressed\"}, {\"x\": 4.564508438110352, \"y\": 4.584580898284912, \"labels\": \"browns\"}, {\"x\": 7.047472953796387, \"y\": 6.624139785766602, \"labels\": \"proper\"}, {\"x\": 6.607641220092773, \"y\": 3.0534608364105225, \"labels\": \"usda\"}, {\"x\": 4.55128288269043, \"y\": 4.527576923370361, \"labels\": \"store_bought\"}, {\"x\": 8.11804485321045, \"y\": 7.414248466491699, \"labels\": \"flavorful\"}, {\"x\": 7.5423431396484375, \"y\": 5.807312488555908, \"labels\": \"durian\"}, {\"x\": 7.759861946105957, \"y\": 6.440351486206055, \"labels\": \"worn\"}, {\"x\": 5.9799323081970215, \"y\": 7.157397747039795, \"labels\": \"gelatin\"}, {\"x\": 10.206954002380371, \"y\": 4.75369930267334, \"labels\": \"if\"}, {\"x\": 9.243278503417969, \"y\": 4.522319316864014, \"labels\": \"almost\"}, {\"x\": 6.144527435302734, \"y\": 6.6594367027282715, \"labels\": \"scramble\"}, {\"x\": 6.512782573699951, \"y\": 2.280829906463623, \"labels\": \"http\"}, {\"x\": 5.205804347991943, \"y\": 5.724806308746338, \"labels\": \"muffins\"}, {\"x\": 5.225059509277344, \"y\": 7.30148983001709, \"labels\": \"removing\"}, {\"x\": 9.85594654083252, \"y\": 5.846238613128662, \"labels\": \"necessary\"}, {\"x\": 2.1343915462493896, \"y\": 4.486258506774902, \"labels\": \"orange\"}, {\"x\": 7.844570159912109, \"y\": 6.484673500061035, \"labels\": \"congee\"}, {\"x\": 7.2391037940979, \"y\": 6.895071983337402, \"labels\": \"smokiness\"}, {\"x\": 2.695443630218506, \"y\": 5.084841251373291, \"labels\": \"wine\"}, {\"x\": 4.013735294342041, \"y\": 6.147723197937012, \"labels\": \"per\"}, {\"x\": 10.413148880004883, \"y\": 5.6947021484375, \"labels\": \"fantastic\"}, {\"x\": 9.405946731567383, \"y\": 7.08545446395874, \"labels\": \"suggest\"}, {\"x\": 6.189375400543213, \"y\": 5.213803291320801, \"labels\": \"crystal\"}, {\"x\": 9.294085502624512, \"y\": 4.938103199005127, \"labels\": \"giving\"}, {\"x\": 9.306404113769531, \"y\": 5.730759143829346, \"labels\": \"tempted\"}, {\"x\": 3.012259006500244, \"y\": 5.178937911987305, \"labels\": \"cornstarch\"}, {\"x\": 8.555267333984375, \"y\": 3.0305614471435547, \"labels\": \"videos\"}, {\"x\": 5.543142318725586, \"y\": 6.912386417388916, \"labels\": \"sunny\"}, {\"x\": 4.925782203674316, \"y\": 6.895866394042969, \"labels\": \"sides\"}, {\"x\": 7.367897987365723, \"y\": 5.866868019104004, \"labels\": \"creativity\"}, {\"x\": 7.933804035186768, \"y\": 6.485084533691406, \"labels\": \"anyways\"}, {\"x\": 7.064264297485352, \"y\": 4.762347221374512, \"labels\": \"selection\"}, {\"x\": 9.343012809753418, \"y\": 4.829343318939209, \"labels\": \"convinced\"}, {\"x\": 7.140584468841553, \"y\": 3.011392116546631, \"labels\": \"multi\"}, {\"x\": 7.098039627075195, \"y\": 6.996982574462891, \"labels\": \"ratio\"}, {\"x\": 6.995855331420898, \"y\": 3.4700937271118164, \"labels\": \"staple\"}, {\"x\": 5.252386569976807, \"y\": 7.403749465942383, \"labels\": \"spot\"}, {\"x\": 7.042468070983887, \"y\": 5.224267959594727, \"labels\": \"countertop\"}, {\"x\": 6.75735330581665, \"y\": 6.898724555969238, \"labels\": \"causing\"}, {\"x\": 6.676883697509766, \"y\": 5.105831623077393, \"labels\": \"pastas\"}, {\"x\": 2.5194170475006104, \"y\": 4.808530807495117, \"labels\": \"optional\"}, {\"x\": 9.420662879943848, \"y\": 5.0734100341796875, \"labels\": \"story\"}, {\"x\": 7.9183878898620605, \"y\": 6.3114752769470215, \"labels\": \"preserve\"}, {\"x\": 9.46569538116455, \"y\": 4.3742780685424805, \"labels\": \"nothing\"}, {\"x\": 5.469507217407227, \"y\": 7.975995063781738, \"labels\": \"leaving\"}, {\"x\": 2.6380271911621094, \"y\": 4.708874702453613, \"labels\": \"puree\"}, {\"x\": 8.001258850097656, \"y\": 4.102442741394043, \"labels\": \"potluck\"}, {\"x\": 8.731200218200684, \"y\": 3.8559787273406982, \"labels\": \"lost\"}, {\"x\": 7.2650675773620605, \"y\": 5.999757766723633, \"labels\": \"delish\"}, {\"x\": 9.066229820251465, \"y\": 5.0791168212890625, \"labels\": \"for\"}, {\"x\": 8.457090377807617, \"y\": 6.165487289428711, \"labels\": \"passionate\"}, {\"x\": 7.623647212982178, \"y\": 5.149943828582764, \"labels\": \"sent\"}, {\"x\": 7.473926544189453, \"y\": 5.964478015899658, \"labels\": \"alternatives\"}, {\"x\": 5.439382553100586, \"y\": 5.201560974121094, \"labels\": \"condiments\"}, {\"x\": 7.375900745391846, \"y\": 4.995720386505127, \"labels\": \"exercise\"}, {\"x\": 8.62748908996582, \"y\": 5.681172847747803, \"labels\": \"hmmm\"}, {\"x\": 4.973169326782227, \"y\": 7.731333255767822, \"labels\": \"empty\"}, {\"x\": 8.304220199584961, \"y\": 5.191989898681641, \"labels\": \"exciting\"}, {\"x\": 7.111124038696289, \"y\": 3.641911029815674, \"labels\": \"fda\"}, {\"x\": 8.256556510925293, \"y\": 5.061676979064941, \"labels\": \"pissed\"}, {\"x\": 9.238686561584473, \"y\": 6.128009796142578, \"labels\": \"dirt\"}, {\"x\": 6.230197429656982, \"y\": 4.942138671875, \"labels\": \"sealer\"}, {\"x\": 4.578070640563965, \"y\": 8.127309799194336, \"labels\": \"heat\"}, {\"x\": 6.81780481338501, \"y\": 3.389930009841919, \"labels\": \"atk\"}, {\"x\": 2.043212413787842, \"y\": 4.606525897979736, \"labels\": \"grated\"}, {\"x\": 5.222850799560547, \"y\": 5.930625915527344, \"labels\": \"gradually\"}, {\"x\": 6.789705753326416, \"y\": 7.13772439956665, \"labels\": \"toxic\"}, {\"x\": 8.31517219543457, \"y\": 3.212531328201294, \"labels\": \"run\"}, {\"x\": 7.643413066864014, \"y\": 5.056947231292725, \"labels\": \"lifetime\"}, {\"x\": 4.529501438140869, \"y\": 6.0136847496032715, \"labels\": \"layered\"}, {\"x\": 4.788392543792725, \"y\": 5.699433326721191, \"labels\": \"drizzled\"}, {\"x\": 2.6343724727630615, \"y\": 4.282060623168945, \"labels\": \"rolls\"}, {\"x\": 7.92708158493042, \"y\": 4.2961530685424805, \"labels\": \"recent\"}, {\"x\": 4.386856555938721, \"y\": 4.219562530517578, \"labels\": \"blueberry\"}, {\"x\": 1.9797872304916382, \"y\": 4.66440486907959, \"labels\": \"finely\"}, {\"x\": 9.162379264831543, \"y\": 6.371058940887451, \"labels\": \"consuming\"}, {\"x\": 3.677731990814209, \"y\": 4.330129146575928, \"labels\": \"veggie\"}, {\"x\": 8.661628723144531, \"y\": 5.392203330993652, \"labels\": \"youre\"}, {\"x\": 6.31551456451416, \"y\": 2.3060123920440674, \"labels\": \"qid\"}, {\"x\": 7.829371929168701, \"y\": 3.5259604454040527, \"labels\": \"commercial\"}, {\"x\": 4.038909912109375, \"y\": 4.931272983551025, \"labels\": \"choy\"}, {\"x\": 8.54251480102539, \"y\": 4.921310901641846, \"labels\": \"shared\"}, {\"x\": 7.738402366638184, \"y\": 3.9911227226257324, \"labels\": \"philadelphia\"}, {\"x\": 3.9386544227600098, \"y\": 4.312483310699463, \"labels\": \"meatballs\"}, {\"x\": 2.4883697032928467, \"y\": 4.148346424102783, \"labels\": \"mac\"}, {\"x\": 8.310053825378418, \"y\": 4.168692588806152, \"labels\": \"ruined\"}, {\"x\": 6.595127582550049, \"y\": 6.741572380065918, \"labels\": \"grinding\"}, {\"x\": 5.3290181159973145, \"y\": 6.808988094329834, \"labels\": \"bare\"}, {\"x\": 7.948269844055176, \"y\": 3.9008123874664307, \"labels\": \"brunch\"}, {\"x\": 5.258888244628906, \"y\": 7.133647918701172, \"labels\": \"scraping\"}, {\"x\": 9.147490501403809, \"y\": 7.064333438873291, \"labels\": \"have\"}, {\"x\": 4.93904447555542, \"y\": 4.480446815490723, \"labels\": \"meatball\"}, {\"x\": 3.560945510864258, \"y\": 4.617191791534424, \"labels\": \"peanut\"}, {\"x\": 6.309542655944824, \"y\": 5.906915664672852, \"labels\": \"disposable\"}, {\"x\": 5.1085333824157715, \"y\": 4.037120342254639, \"labels\": \"stroganoff\"}, {\"x\": 7.873556137084961, \"y\": 3.1473426818847656, \"labels\": \"supermarket\"}, {\"x\": 10.101277351379395, \"y\": 5.026318550109863, \"labels\": \"funny\"}, {\"x\": 6.605879783630371, \"y\": 7.599370002746582, \"labels\": \"allows\"}, {\"x\": 6.8853044509887695, \"y\": 7.184316158294678, \"labels\": \"drink\"}, {\"x\": 7.71074104309082, \"y\": 3.721184015274048, \"labels\": \"nearby\"}, {\"x\": 6.21976900100708, \"y\": 4.264319896697998, \"labels\": \"all\"}, {\"x\": 5.638697624206543, \"y\": 6.898859977722168, \"labels\": \"trays\"}, {\"x\": 7.020089626312256, \"y\": 5.831368446350098, \"labels\": \"se\"}, {\"x\": 6.085559844970703, \"y\": 4.5193023681640625, \"labels\": \"loads\"}, {\"x\": 9.69951057434082, \"y\": 5.80148458480835, \"labels\": \"strong\"}, {\"x\": 7.22697114944458, \"y\": 6.300386428833008, \"labels\": \"sumac\"}, {\"x\": 4.417019844055176, \"y\": 8.017648696899414, \"labels\": \"pan\"}, {\"x\": 7.051630973815918, \"y\": 3.1005361080169678, \"labels\": \"aid\"}, {\"x\": 4.059648036956787, \"y\": 4.208253383636475, \"labels\": \"cookie\"}, {\"x\": 8.533951759338379, \"y\": 3.615222454071045, \"labels\": \"died\"}, {\"x\": 8.714944839477539, \"y\": 5.390571117401123, \"labels\": \"priced\"}, {\"x\": 5.209383964538574, \"y\": 8.27371883392334, \"labels\": \"rinse\"}, {\"x\": 2.5256996154785156, \"y\": 5.213623046875, \"labels\": \"splash\"}, {\"x\": 4.809171676635742, \"y\": 5.359718322753906, \"labels\": \"grains\"}, {\"x\": 4.6961350440979, \"y\": 8.423820495605469, \"labels\": \"let\"}, {\"x\": 5.517592906951904, \"y\": 8.109536170959473, \"labels\": \"left\"}, {\"x\": 9.2103271484375, \"y\": 5.893101692199707, \"labels\": \"tasteless\"}, {\"x\": 5.38743782043457, \"y\": 6.341236591339111, \"labels\": \"crock_pot\"}, {\"x\": 1.9455761909484863, \"y\": 5.045895576477051, \"labels\": \"butter\"}, {\"x\": 7.883334636688232, \"y\": 4.525876522064209, \"labels\": \"fellow\"}, {\"x\": 8.84726333618164, \"y\": 3.7767443656921387, \"labels\": \"way\"}, {\"x\": 7.886635780334473, \"y\": 5.902174472808838, \"labels\": \"advanced\"}, {\"x\": 9.18330192565918, \"y\": 5.130436420440674, \"labels\": \"happening\"}, {\"x\": 4.392090797424316, \"y\": 7.711269378662109, \"labels\": \"fill\"}, {\"x\": 5.865570068359375, \"y\": 3.478087902069092, \"labels\": \"classic\"}, {\"x\": 4.811547756195068, \"y\": 7.7171196937561035, \"labels\": \"dough\"}, {\"x\": 6.765147686004639, \"y\": 3.10801362991333, \"labels\": \"aged\"}, {\"x\": 6.072003364562988, \"y\": 7.01884651184082, \"labels\": \"switch\"}, {\"x\": 6.433670997619629, \"y\": 4.621134281158447, \"labels\": \"compounds\"}, {\"x\": 8.214592933654785, \"y\": 7.04259729385376, \"labels\": \"bacteria\"}, {\"x\": 8.17369556427002, \"y\": 3.0056543350219727, \"labels\": \"restaurants\"}, {\"x\": 9.919585227966309, \"y\": 4.664454460144043, \"labels\": \"interested\"}, {\"x\": 4.920140743255615, \"y\": 6.873717784881592, \"labels\": \"poured\"}, {\"x\": 5.148881435394287, \"y\": 7.4601335525512695, \"labels\": \"sale\"}, {\"x\": 7.79450798034668, \"y\": 4.203242301940918, \"labels\": \"future\"}, {\"x\": 2.4989187717437744, \"y\": 4.9593000411987305, \"labels\": \"leaves\"}, {\"x\": 9.374410629272461, \"y\": 5.371860980987549, \"labels\": \"younger\"}, {\"x\": 4.509453773498535, \"y\": 8.037920951843262, \"labels\": \"lid\"}, {\"x\": 4.2570013999938965, \"y\": 4.464455604553223, \"labels\": \"pancakes\"}, {\"x\": 8.888489723205566, \"y\": 3.3096635341644287, \"labels\": \"posts\"}, {\"x\": 4.877201557159424, \"y\": 4.398638725280762, \"labels\": \"guinness\"}, {\"x\": 8.882701873779297, \"y\": 3.093534469604492, \"labels\": \"thread\"}, {\"x\": 7.596982002258301, \"y\": 5.117814540863037, \"labels\": \"comparing\"}, {\"x\": 2.1679563522338867, \"y\": 4.300052165985107, \"labels\": \"cheese\"}, {\"x\": 4.856069087982178, \"y\": 5.506891250610352, \"labels\": \"ins\"}, {\"x\": 6.960205554962158, \"y\": 2.8801286220550537, \"labels\": \"rank\"}, {\"x\": 8.5313081741333, \"y\": 4.409610271453857, \"labels\": \"companies\"}, {\"x\": 6.975101470947266, \"y\": 5.730119705200195, \"labels\": \"asia\"}, {\"x\": 3.7045278549194336, \"y\": 4.443121910095215, \"labels\": \"oyster\"}, {\"x\": 4.665060043334961, \"y\": 4.920036315917969, \"labels\": \"omelet\"}, {\"x\": 8.820595741271973, \"y\": 3.4307947158813477, \"labels\": \"young\"}, {\"x\": 8.803604125976562, \"y\": 7.058183193206787, \"labels\": \"speak\"}, {\"x\": 4.153317451477051, \"y\": 5.2131500244140625, \"labels\": \"stems\"}, {\"x\": 7.119433879852295, \"y\": 5.6955976486206055, \"labels\": \"jesus\"}, {\"x\": 6.418408393859863, \"y\": 7.039421081542969, \"labels\": \"accidentally\"}, {\"x\": 10.066046714782715, \"y\": 4.600748538970947, \"labels\": \"knows\"}, {\"x\": 5.549825191497803, \"y\": 6.96138334274292, \"labels\": \"flipping\"}, {\"x\": 6.309423923492432, \"y\": 7.151294231414795, \"labels\": \"ring\"}, {\"x\": 6.582204818725586, \"y\": 2.396588087081909, \"labels\": \"jpg\"}, {\"x\": 8.223451614379883, \"y\": 2.600527048110962, \"labels\": \"past\"}, {\"x\": 3.0792980194091797, \"y\": 4.579366683959961, \"labels\": \"meats\"}, {\"x\": 4.27521276473999, \"y\": 7.150343418121338, \"labels\": \"saute\"}, {\"x\": 5.919130802154541, \"y\": 7.6118316650390625, \"labels\": \"distribute\"}, {\"x\": 8.953550338745117, \"y\": 3.519827127456665, \"labels\": \"personal\"}, {\"x\": 5.620477676391602, \"y\": 4.5786309242248535, \"labels\": \"cookers\"}, {\"x\": 7.8436713218688965, \"y\": 5.592555046081543, \"labels\": \"dying\"}, {\"x\": 7.397884368896484, \"y\": 3.0239779949188232, \"labels\": \"supply\"}, {\"x\": 10.49798583984375, \"y\": 5.147475719451904, \"labels\": \"could\"}, {\"x\": 6.056761264801025, \"y\": 7.30642032623291, \"labels\": \"bubbles\"}, {\"x\": 8.70374870300293, \"y\": 4.365915775299072, \"labels\": \"england\"}, {\"x\": 9.542990684509277, \"y\": 4.87705659866333, \"labels\": \"character\"}, {\"x\": 4.535171031951904, \"y\": 6.982112884521484, \"labels\": \"crispy\"}, {\"x\": 7.574769973754883, \"y\": 3.945730209350586, \"labels\": \"stars\"}, {\"x\": 10.028631210327148, \"y\": 3.9642529487609863, \"labels\": \"someone\"}, {\"x\": 4.952737331390381, \"y\": 4.912598133087158, \"labels\": \"livers\"}, {\"x\": 5.141884803771973, \"y\": 4.2616400718688965, \"labels\": \"ragu\"}, {\"x\": 4.98602294921875, \"y\": 5.438632011413574, \"labels\": \"hatch\"}, {\"x\": 6.854752063751221, \"y\": 7.4531331062316895, \"labels\": \"pointing\"}, {\"x\": 6.258045196533203, \"y\": 7.179930686950684, \"labels\": \"filet\"}, {\"x\": 3.0158278942108154, \"y\": 4.473807334899902, \"labels\": \"poached\"}, {\"x\": 6.942195892333984, \"y\": 7.142559051513672, \"labels\": \"carve\"}, {\"x\": 5.3089776039123535, \"y\": 6.670116424560547, \"labels\": \"ideally\"}, {\"x\": 6.932299613952637, \"y\": 3.9417145252227783, \"labels\": \"listed\"}, {\"x\": 7.810165882110596, \"y\": 6.9010910987854, \"labels\": \"drawn\"}, {\"x\": 4.727925777435303, \"y\": 7.8816680908203125, \"labels\": \"broiler\"}, {\"x\": 4.630806922912598, \"y\": 8.135339736938477, \"labels\": \"covered\"}, {\"x\": 5.58295202255249, \"y\": 8.408651351928711, \"labels\": \"start\"}, {\"x\": 10.005410194396973, \"y\": 4.685032367706299, \"labels\": \"talking_about\"}, {\"x\": 9.794973373413086, \"y\": 5.242907524108887, \"labels\": \"drunk\"}, {\"x\": 4.382439613342285, \"y\": 5.15234375, \"labels\": \"snap\"}, {\"x\": 2.3646931648254395, \"y\": 4.463740825653076, \"labels\": \"toast\"}, {\"x\": 5.301488876342773, \"y\": 5.97871732711792, \"labels\": \"flesh\"}, {\"x\": 8.051352500915527, \"y\": 3.2285101413726807, \"labels\": \"business\"}, {\"x\": 4.421568393707275, \"y\": 5.8139543533325195, \"labels\": \"goods\"}, {\"x\": 6.027245998382568, \"y\": 5.063231945037842, \"labels\": \"silver\"}, {\"x\": 2.5827744007110596, \"y\": 4.3902668952941895, \"labels\": \"bean\"}, {\"x\": 4.473937034606934, \"y\": 7.586932182312012, \"labels\": \"grease\"}, {\"x\": 8.86085033416748, \"y\": 5.133190155029297, \"labels\": \"laugh\"}, {\"x\": 3.9932377338409424, \"y\": 4.787604808807373, \"labels\": \"chilis\"}, {\"x\": 4.468315601348877, \"y\": 6.90472412109375, \"labels\": \"fold\"}, {\"x\": 4.0569000244140625, \"y\": 5.9484758377075195, \"labels\": \"amounts\"}, {\"x\": 8.305614471435547, \"y\": 5.614394187927246, \"labels\": \"primarily\"}, {\"x\": 7.3514084815979, \"y\": 4.677814960479736, \"labels\": \"vitamin\"}, {\"x\": 4.030627250671387, \"y\": 5.149677276611328, \"labels\": \"peppercorns\"}, {\"x\": 6.271186828613281, \"y\": 7.182945728302002, \"labels\": \"slip\"}, {\"x\": 3.4892492294311523, \"y\": 4.022042274475098, \"labels\": \"belly\"}, {\"x\": 10.200242042541504, \"y\": 5.491817951202393, \"labels\": \"difficult\"}, {\"x\": 7.625450134277344, \"y\": 3.177156925201416, \"labels\": \"thrift\"}, {\"x\": 9.361763954162598, \"y\": 5.792176246643066, \"labels\": \"prepared\"}, {\"x\": 6.379348278045654, \"y\": 2.273672580718994, \"labels\": \"amp\"}, {\"x\": 2.0184240341186523, \"y\": 4.744834899902344, \"labels\": \"balsamic\"}, {\"x\": 3.8190834522247314, \"y\": 4.5746283531188965, \"labels\": \"tamarind\"}, {\"x\": 7.2585344314575195, \"y\": 6.1719160079956055, \"labels\": \"substituting\"}, {\"x\": 10.19733715057373, \"y\": 4.270047664642334, \"labels\": \"man\"}, {\"x\": 10.046688079833984, \"y\": 5.66404390335083, \"labels\": \"eh\"}, {\"x\": 9.499470710754395, \"y\": 4.973721027374268, \"labels\": \"gosh\"}, {\"x\": 7.094564437866211, \"y\": 3.0244481563568115, \"labels\": \"grade\"}, {\"x\": 9.259562492370605, \"y\": 5.936812877655029, \"labels\": \"handy\"}, {\"x\": 9.756402969360352, \"y\": 6.6995649337768555, \"labels\": \"ask\"}, {\"x\": 4.813739776611328, \"y\": 7.410784721374512, \"labels\": \"press\"}, {\"x\": 4.7446699142456055, \"y\": 5.184255599975586, \"labels\": \"watermelon\"}, {\"x\": 2.4254493713378906, \"y\": 5.004033088684082, \"labels\": \"zest\"}, {\"x\": 5.670305252075195, \"y\": 7.965033531188965, \"labels\": \"room_temperature\"}, {\"x\": 2.564581871032715, \"y\": 4.2368388175964355, \"labels\": \"chorizo\"}, {\"x\": 8.046960830688477, \"y\": 5.211120128631592, \"labels\": \"realised\"}, {\"x\": 7.042171955108643, \"y\": 5.747650623321533, \"labels\": \"club\"}, {\"x\": 9.28969669342041, \"y\": 6.420347690582275, \"labels\": \"send\"}, {\"x\": 9.834443092346191, \"y\": 3.682860851287842, \"labels\": \"my_mom\"}, {\"x\": 3.887726068496704, \"y\": 4.42878532409668, \"labels\": \"jasmine\"}, {\"x\": 6.565579891204834, \"y\": 7.238974094390869, \"labels\": \"grab\"}, {\"x\": 6.078487396240234, \"y\": 8.028462409973145, \"labels\": \"threw\"}, {\"x\": 9.796601295471191, \"y\": 4.593207836151123, \"labels\": \"says\"}, {\"x\": 5.856719970703125, \"y\": 7.4913716316223145, \"labels\": \"breaks\"}, {\"x\": 3.2185332775115967, \"y\": 4.8554253578186035, \"labels\": \"cracked\"}, {\"x\": 5.080417633056641, \"y\": 8.209065437316895, \"labels\": \"back\"}, {\"x\": 7.104561805725098, \"y\": 3.44573974609375, \"labels\": \"guide\"}, {\"x\": 7.3973388671875, \"y\": 6.136357307434082, \"labels\": \"handling\"}, {\"x\": 3.5626730918884277, \"y\": 4.820153713226318, \"labels\": \"cranberries\"}, {\"x\": 8.865242958068848, \"y\": 4.173558235168457, \"labels\": \"downvoted\"}, {\"x\": 10.251193046569824, \"y\": 5.809348106384277, \"labels\": \"useful\"}, {\"x\": 6.959117412567139, \"y\": 5.576327323913574, \"labels\": \"feet\"}, {\"x\": 7.717954158782959, \"y\": 6.4077582359313965, \"labels\": \"proteins\"}, {\"x\": 7.010421276092529, \"y\": 5.810359477996826, \"labels\": \"projects\"}, {\"x\": 7.153144836425781, \"y\": 4.994131088256836, \"labels\": \"stomach\"}, {\"x\": 6.284334659576416, \"y\": 6.497307300567627, \"labels\": \"liquids\"}, {\"x\": 9.471673965454102, \"y\": 6.23569393157959, \"labels\": \"satisfying\"}, {\"x\": 9.56213092803955, \"y\": 4.376562595367432, \"labels\": \"pictures\"}, {\"x\": 7.728827476501465, \"y\": 5.635152816772461, \"labels\": \"across\"}, {\"x\": 8.6005859375, \"y\": 7.18180513381958, \"labels\": \"measure\"}, {\"x\": 10.444544792175293, \"y\": 5.1951727867126465, \"labels\": \"won\"}, {\"x\": 5.448741912841797, \"y\": 5.093385219573975, \"labels\": \"marzano\"}, {\"x\": 8.631065368652344, \"y\": 6.261347770690918, \"labels\": \"ship\"}, {\"x\": 3.3507471084594727, \"y\": 4.990975379943848, \"labels\": \"toppings\"}, {\"x\": 7.121439456939697, \"y\": 5.9852681159973145, \"labels\": \"alley\"}, {\"x\": 4.94252347946167, \"y\": 4.707912921905518, \"labels\": \"stirfry\"}, {\"x\": 4.8089070320129395, \"y\": 5.10654354095459, \"labels\": \"pb\"}, {\"x\": 4.999783039093018, \"y\": 4.993019104003906, \"labels\": \"legs\"}, {\"x\": 2.0657522678375244, \"y\": 4.990365982055664, \"labels\": \"syrup\"}, {\"x\": 7.117363452911377, \"y\": 6.281925201416016, \"labels\": \"granted\"}, {\"x\": 7.5963873863220215, \"y\": 4.475703239440918, \"labels\": \"compose\"}, {\"x\": 3.7604925632476807, \"y\": 4.58797550201416, \"labels\": \"glaze\"}, {\"x\": 9.184847831726074, \"y\": 5.406031608581543, \"labels\": \"expected\"}, {\"x\": 8.258519172668457, \"y\": 7.636819362640381, \"labels\": \"easier\"}, {\"x\": 5.082284927368164, \"y\": 7.0480546951293945, \"labels\": \"plank\"}, {\"x\": 9.049389839172363, \"y\": 2.9984138011932373, \"labels\": \"brother\"}, {\"x\": 3.465266704559326, \"y\": 4.916198253631592, \"labels\": \"baby\"}, {\"x\": 7.87445592880249, \"y\": 3.739687442779541, \"labels\": \"pigs\"}, {\"x\": 7.463344097137451, \"y\": 6.053300857543945, \"labels\": \"savoury\"}, {\"x\": 10.179792404174805, \"y\": 5.197487831115723, \"labels\": \"kinda\"}, {\"x\": 2.8563358783721924, \"y\": 4.638198375701904, \"labels\": \"plain\"}, {\"x\": 6.781619071960449, \"y\": 3.7837111949920654, \"labels\": \"lists\"}, {\"x\": 6.914198875427246, \"y\": 4.018827438354492, \"labels\": \"recommendation\"}, {\"x\": 4.8216471672058105, \"y\": 5.988992214202881, \"labels\": \"tupperware\"}, {\"x\": 3.7929868698120117, \"y\": 5.261173725128174, \"labels\": \"serrano\"}, {\"x\": 7.885780334472656, \"y\": 3.5316903591156006, \"labels\": \"nights\"}, {\"x\": 6.447751045227051, \"y\": 6.769121170043945, \"labels\": \"hottest\"}, {\"x\": 7.815856456756592, \"y\": 3.6608266830444336, \"labels\": \"africa\"}, {\"x\": 5.3368024826049805, \"y\": 7.372389316558838, \"labels\": \"cooled\"}, {\"x\": 5.616868495941162, \"y\": 7.901088237762451, \"labels\": \"temps\"}, {\"x\": 9.281888961791992, \"y\": 5.572092533111572, \"labels\": \"write\"}, {\"x\": 7.630168914794922, \"y\": 3.3287265300750732, \"labels\": \"sharpening\"}, {\"x\": 9.328929901123047, \"y\": 5.000289440155029, \"labels\": \"hasn\"}, {\"x\": 5.568220138549805, \"y\": 7.799437999725342, \"labels\": \"\\u00baf\"}, {\"x\": 6.203157901763916, \"y\": 7.148066520690918, \"labels\": \"dissolves\"}, {\"x\": 6.633108139038086, \"y\": 3.3097383975982666, \"labels\": \"snack\"}, {\"x\": 6.305596351623535, \"y\": 6.187608242034912, \"labels\": \"varying\"}, {\"x\": 1.8041399717330933, \"y\": 4.869019508361816, \"labels\": \"powder\"}, {\"x\": 4.368030548095703, \"y\": 4.240215301513672, \"labels\": \"meringue\"}, {\"x\": 7.703390121459961, \"y\": 4.239107131958008, \"labels\": \"memories\"}, {\"x\": 4.642740726470947, \"y\": 8.361005783081055, \"labels\": \"boil\"}, {\"x\": 10.392257690429688, \"y\": 5.422614097595215, \"labels\": \"weird\"}, {\"x\": 7.684865951538086, \"y\": 3.729156494140625, \"labels\": \"cities\"}, {\"x\": 7.857407093048096, \"y\": 6.155411720275879, \"labels\": \"approximate\"}, {\"x\": 5.420998573303223, \"y\": 6.691577434539795, \"labels\": \"marinating\"}, {\"x\": 4.776916980743408, \"y\": 4.526650905609131, \"labels\": \"packs\"}, {\"x\": 6.329115390777588, \"y\": 5.97117280960083, \"labels\": \"bc\"}, {\"x\": 6.930891036987305, \"y\": 4.087666034698486, \"labels\": \"heston\"}, {\"x\": 6.66707181930542, \"y\": 2.9291069507598877, \"labels\": \"pdf\"}, {\"x\": 3.8850977420806885, \"y\": 5.010451316833496, \"labels\": \"rum\"}, {\"x\": 9.215686798095703, \"y\": 6.941153526306152, \"labels\": \"complain\"}, {\"x\": 4.08736515045166, \"y\": 4.396498680114746, \"labels\": \"wild\"}, {\"x\": 7.297008991241455, \"y\": 4.832437038421631, \"labels\": \"citrate\"}, {\"x\": 8.558673858642578, \"y\": 4.162312030792236, \"labels\": \"sources\"}, {\"x\": 5.80210018157959, \"y\": 8.334359169006348, \"labels\": \"came\"}, {\"x\": 6.649645805358887, \"y\": 5.436825752258301, \"labels\": \"settings\"}, {\"x\": 3.633277654647827, \"y\": 5.321941375732422, \"labels\": \"sometimes\"}, {\"x\": 7.884884357452393, \"y\": 7.594903945922852, \"labels\": \"texture\"}, {\"x\": 3.5357210636138916, \"y\": 4.550000190734863, \"labels\": \"topped\"}, {\"x\": 4.111705780029297, \"y\": 6.273099899291992, \"labels\": \"couple\"}, {\"x\": 5.034019470214844, \"y\": 4.2308807373046875, \"labels\": \"fowl\"}, {\"x\": 9.717952728271484, \"y\": 5.117009162902832, \"labels\": \"surprised\"}, {\"x\": 7.147697448730469, \"y\": 3.0363683700561523, \"labels\": \"ply\"}, {\"x\": 8.413771629333496, \"y\": 5.8253397941589355, \"labels\": \"resting\"}, {\"x\": 6.5627055168151855, \"y\": 4.931233882904053, \"labels\": \"knorr\"}, {\"x\": 7.5760722160339355, \"y\": 5.407309055328369, \"labels\": \"illinois\"}, {\"x\": 5.555003643035889, \"y\": 6.863770484924316, \"labels\": \"swirl\"}, {\"x\": 3.956364631652832, \"y\": 6.093743801116943, \"labels\": \"bottle\"}, {\"x\": 10.04196548461914, \"y\": 4.443510055541992, \"labels\": \"right\"}, {\"x\": 9.356058120727539, \"y\": 5.769720077514648, \"labels\": \"effective\"}, {\"x\": 6.397976875305176, \"y\": 5.026922225952148, \"labels\": \"head\"}, {\"x\": 8.79082202911377, \"y\": 4.609035491943359, \"labels\": \"review\"}, {\"x\": 7.609281539916992, \"y\": 4.291229724884033, \"labels\": \"obsessed\"}, {\"x\": 6.497010707855225, \"y\": 7.092144012451172, \"labels\": \"mush\"}, {\"x\": 3.3723080158233643, \"y\": 5.017950057983398, \"labels\": \"saut\\u00e9ed\"}, {\"x\": 2.891721725463867, \"y\": 4.068769931793213, \"labels\": \"turkey\"}, {\"x\": 5.319077014923096, \"y\": 8.512035369873047, \"labels\": \"cook\"}, {\"x\": 6.41140079498291, \"y\": 2.2891769409179688, \"labels\": \"ref\"}, {\"x\": 4.897899150848389, \"y\": 8.290783882141113, \"labels\": \"min\"}, {\"x\": 4.233229637145996, \"y\": 4.116848468780518, \"labels\": \"buffalo\"}, {\"x\": 5.307653427124023, \"y\": 7.136350154876709, \"labels\": \"halfway\"}, {\"x\": 8.269194602966309, \"y\": 3.715404510498047, \"labels\": \"ingredient\"}, {\"x\": 7.849055767059326, \"y\": 5.467665672302246, \"labels\": \"handed\"}, {\"x\": 6.616194725036621, \"y\": 4.173549175262451, \"labels\": \"joy\"}, {\"x\": 10.008191108703613, \"y\": 4.881224155426025, \"labels\": \"dumb\"}, {\"x\": 7.665195465087891, \"y\": 5.549829006195068, \"labels\": \"refer\"}, {\"x\": 4.955835342407227, \"y\": 7.720799446105957, \"labels\": \"excess\"}, {\"x\": 9.833255767822266, \"y\": 5.702395915985107, \"labels\": \"hate\"}, {\"x\": 4.795150279998779, \"y\": 8.0024995803833, \"labels\": \"putting\"}, {\"x\": 8.0099515914917, \"y\": 5.018996238708496, \"labels\": \"mentions\"}, {\"x\": 7.608495235443115, \"y\": 4.995256423950195, \"labels\": \"driving\"}, {\"x\": 5.996734619140625, \"y\": 5.578340530395508, \"labels\": \"bush\"}, {\"x\": 8.325485229492188, \"y\": 3.0130703449249268, \"labels\": \"kitchen\"}, {\"x\": 9.752830505371094, \"y\": 4.823626518249512, \"labels\": \"understood\"}, {\"x\": 7.9121832847595215, \"y\": 4.280153274536133, \"labels\": \"depression\"}, {\"x\": 8.722823143005371, \"y\": 5.617642879486084, \"labels\": \"blind\"}, {\"x\": 4.681293964385986, \"y\": 6.755743980407715, \"labels\": \"skins\"}, {\"x\": 9.077836036682129, \"y\": 2.934134006500244, \"labels\": \"favorites\"}, {\"x\": 5.850710868835449, \"y\": 7.281439781188965, \"labels\": \"crepe\"}, {\"x\": 4.148228168487549, \"y\": 6.594387531280518, \"labels\": \"bags\"}, {\"x\": 7.338090419769287, \"y\": 6.796444892883301, \"labels\": \"prone\"}, {\"x\": 2.987288236618042, \"y\": 4.193850994110107, \"labels\": \"steak\"}, {\"x\": 8.616065979003906, \"y\": 5.224313259124756, \"labels\": \"kidding\"}, {\"x\": 8.416431427001953, \"y\": 6.308539390563965, \"labels\": \"comparable\"}, {\"x\": 5.315980911254883, \"y\": 5.304225921630859, \"labels\": \"velvet\"}, {\"x\": 8.666032791137695, \"y\": 5.70280122756958, \"labels\": \"matters\"}, {\"x\": 3.362582206726074, \"y\": 4.07827615737915, \"labels\": \"ramen\"}, {\"x\": 8.12044620513916, \"y\": 3.783994197845459, \"labels\": \"today\"}, {\"x\": 4.915952682495117, \"y\": 5.546228885650635, \"labels\": \"generous\"}, {\"x\": 2.416362762451172, \"y\": 4.334377765655518, \"labels\": \"ketchup\"}, {\"x\": 6.314911842346191, \"y\": 6.621258735656738, \"labels\": \"silky\"}, {\"x\": 6.949191093444824, \"y\": 6.008636951446533, \"labels\": \"airtight\"}, {\"x\": 9.774442672729492, \"y\": 5.502193927764893, \"labels\": \"idk\"}, {\"x\": 6.5027570724487305, \"y\": 2.279247760772705, \"labels\": \"https\"}, {\"x\": 9.903536796569824, \"y\": 4.2997002601623535, \"labels\": \"feeling\"}, {\"x\": 7.904582500457764, \"y\": 5.537571430206299, \"labels\": \"trial\"}, {\"x\": 9.190618515014648, \"y\": 5.664839744567871, \"labels\": \"poutine\"}, {\"x\": 8.71550464630127, \"y\": 3.230290651321411, \"labels\": \"ramsay\"}, {\"x\": 8.161981582641602, \"y\": 3.6432249546051025, \"labels\": \"lasted\"}, {\"x\": 6.489375114440918, \"y\": 4.804458141326904, \"labels\": \"amount\"}, {\"x\": 4.877474784851074, \"y\": 5.085818767547607, \"labels\": \"dates\"}, {\"x\": 5.030967712402344, \"y\": 3.9635517597198486, \"labels\": \"coq\"}, {\"x\": 7.36018180847168, \"y\": 6.013248443603516, \"labels\": \"demand\"}, {\"x\": 8.235162734985352, \"y\": 4.986156940460205, \"labels\": \"effects\"}, {\"x\": 7.147887229919434, \"y\": 2.662637948989868, \"labels\": \"chart\"}, {\"x\": 10.361705780029297, \"y\": 5.070948123931885, \"labels\": \"didn\"}, {\"x\": 10.481258392333984, \"y\": 5.653568267822266, \"labels\": \"great\"}, {\"x\": 6.897838592529297, \"y\": 3.3659868240356445, \"labels\": \"flexible\"}, {\"x\": 6.5706634521484375, \"y\": 2.818159818649292, \"labels\": \"tasteofhome\"}, {\"x\": 8.090461730957031, \"y\": 2.533322811126709, \"labels\": \"every\"}, {\"x\": 8.379585266113281, \"y\": 5.035702228546143, \"labels\": \"regrets\"}, {\"x\": 8.38103199005127, \"y\": 3.0827696323394775, \"labels\": \"their\"}, {\"x\": 4.222319602966309, \"y\": 5.430604457855225, \"labels\": \"stalks\"}, {\"x\": 6.170992374420166, \"y\": 4.687782287597656, \"labels\": \"sections\"}, {\"x\": 3.81142520904541, \"y\": 4.884210586547852, \"labels\": \"grey\"}, {\"x\": 8.417961120605469, \"y\": 4.210940361022949, \"labels\": \"east\"}, {\"x\": 6.4974188804626465, \"y\": 2.2734575271606445, \"labels\": \"com\"}, {\"x\": 7.3958635330200195, \"y\": 6.41025972366333, \"labels\": \"doors\"}, {\"x\": 9.083945274353027, \"y\": 4.27775239944458, \"labels\": \"interest\"}, {\"x\": 7.988125324249268, \"y\": 6.203295707702637, \"labels\": \"compared\"}, {\"x\": 8.31319808959961, \"y\": 5.813919544219971, \"labels\": \"imho\"}, {\"x\": 7.851750373840332, \"y\": 3.876696825027466, \"labels\": \"decades\"}, {\"x\": 8.187599182128906, \"y\": 3.739135265350342, \"labels\": \"raised\"}, {\"x\": 7.211206436157227, \"y\": 4.5265350341796875, \"labels\": \"whiskey\"}, {\"x\": 6.392471790313721, \"y\": 3.364933729171753, \"labels\": \"pepe\"}, {\"x\": 4.799061298370361, \"y\": 4.418266296386719, \"labels\": \"smoky\"}, {\"x\": 4.883188724517822, \"y\": 6.081723213195801, \"labels\": \"kielbasa\"}, {\"x\": 8.27877140045166, \"y\": 5.139662265777588, \"labels\": \"compliments\"}, {\"x\": 4.597546577453613, \"y\": 4.037555694580078, \"labels\": \"chip\"}, {\"x\": 9.229787826538086, \"y\": 3.0216586589813232, \"labels\": \"grandma\"}, {\"x\": 6.844361782073975, \"y\": 5.481183052062988, \"labels\": \"contents\"}, {\"x\": 5.139384746551514, \"y\": 6.287273406982422, \"labels\": \"poaching\"}, {\"x\": 7.4988694190979, \"y\": 5.765249729156494, \"labels\": \"failure\"}, {\"x\": 7.170428276062012, \"y\": 4.9462056159973145, \"labels\": \"staples\"}, {\"x\": 4.30287504196167, \"y\": 4.548571586608887, \"labels\": \"fig\"}, {\"x\": 1.9976600408554077, \"y\": 5.0366291999816895, \"labels\": \"tablespoon\"}, {\"x\": 9.020052909851074, \"y\": 2.9857823848724365, \"labels\": \"father\"}, {\"x\": 8.9840087890625, \"y\": 5.813106536865234, \"labels\": \"physically\"}, {\"x\": 5.83358907699585, \"y\": 3.9706923961639404, \"labels\": \"al\"}, {\"x\": 4.008035659790039, \"y\": 4.406121730804443, \"labels\": \"deviled\"}, {\"x\": 6.924383163452148, \"y\": 5.566100597381592, \"labels\": \"pico\"}, {\"x\": 3.926215171813965, \"y\": 4.965845584869385, \"labels\": \"sun\"}, {\"x\": 9.422664642333984, \"y\": 6.87765645980835, \"labels\": \"ruin\"}, {\"x\": 7.193686485290527, \"y\": 4.640031337738037, \"labels\": \"required\"}, {\"x\": 7.737542629241943, \"y\": 5.872251033782959, \"labels\": \"camping\"}, {\"x\": 10.039787292480469, \"y\": 4.96692419052124, \"labels\": \"confused\"}, {\"x\": 3.9896228313446045, \"y\": 4.579758644104004, \"labels\": \"casseroles\"}, {\"x\": 3.6059999465942383, \"y\": 5.316414833068848, \"labels\": \"usually\"}, {\"x\": 5.039000511169434, \"y\": 8.243692398071289, \"labels\": \"while\"}, {\"x\": 6.397251605987549, \"y\": 4.415168285369873, \"labels\": \"deli\"}, {\"x\": 6.672086715698242, \"y\": 6.900053024291992, \"labels\": \"remains\"}, {\"x\": 4.864423751831055, \"y\": 7.78438138961792, \"labels\": \"gently\"}, {\"x\": 7.350796222686768, \"y\": 5.4510931968688965, \"labels\": \"vegas\"}, {\"x\": 9.92690658569336, \"y\": 4.770171642303467, \"labels\": \"happens\"}, {\"x\": 3.9935786724090576, \"y\": 6.088090896606445, \"labels\": \"package\"}, {\"x\": 6.91454553604126, \"y\": 3.933867931365967, \"labels\": \"version\"}, {\"x\": 4.628464698791504, \"y\": 4.180480003356934, \"labels\": \"singles\"}, {\"x\": 9.360615730285645, \"y\": 7.101432800292969, \"labels\": \"avoid\"}, {\"x\": 3.8511765003204346, \"y\": 4.018836975097656, \"labels\": \"pizza\"}, {\"x\": 6.24071741104126, \"y\": 6.912330150604248, \"labels\": \"skim\"}, {\"x\": 5.003236770629883, \"y\": 8.233850479125977, \"labels\": \"off\"}, {\"x\": 7.720698833465576, \"y\": 5.017436981201172, \"labels\": \"induction\"}, {\"x\": 5.176977634429932, \"y\": 7.266748905181885, \"labels\": \"everything\"}, {\"x\": 6.640267848968506, \"y\": 2.479452610015869, \"labels\": \"co\"}, {\"x\": 6.267148494720459, \"y\": 6.976672172546387, \"labels\": \"sand\"}, {\"x\": 8.222282409667969, \"y\": 4.430886268615723, \"labels\": \"st\"}, {\"x\": 3.3835952281951904, \"y\": 4.812115669250488, \"labels\": \"garnish\"}, {\"x\": 3.4597206115722656, \"y\": 4.573520183563232, \"labels\": \"brussels\"}, {\"x\": 10.469852447509766, \"y\": 5.382960796356201, \"labels\": \"totally\"}, {\"x\": 8.03279972076416, \"y\": 5.128204822540283, \"labels\": \"drive\"}, {\"x\": 6.269311904907227, \"y\": 6.84766960144043, \"labels\": \"wrapping\"}, {\"x\": 6.799520969390869, \"y\": 5.75345516204834, \"labels\": \"thickest\"}, {\"x\": 7.5648345947265625, \"y\": 2.973616123199463, \"labels\": \"cookware\"}, {\"x\": 9.652667999267578, \"y\": 6.821291446685791, \"labels\": \"agree\"}, {\"x\": 2.3794848918914795, \"y\": 4.239801406860352, \"labels\": \"sauce\"}, {\"x\": 9.249884605407715, \"y\": 3.725633144378662, \"labels\": \"been\"}, {\"x\": 6.889018535614014, \"y\": 5.03464937210083, \"labels\": \"points\"}, {\"x\": 8.043147087097168, \"y\": 5.977919101715088, \"labels\": \"officially\"}, {\"x\": 7.18597936630249, \"y\": 4.2404656410217285, \"labels\": \"pinterest\"}, {\"x\": 2.36346697807312, \"y\": 4.706144332885742, \"labels\": \"etc\"}, {\"x\": 4.585330486297607, \"y\": 7.0380682945251465, \"labels\": \"lay\"}, {\"x\": 4.884072303771973, \"y\": 8.2191162109375, \"labels\": \"rest\"}, {\"x\": 8.213701248168945, \"y\": 3.4683752059936523, \"labels\": \"anywhere\"}, {\"x\": 9.129485130310059, \"y\": 4.579582691192627, \"labels\": \"considering\"}, {\"x\": 8.248594284057617, \"y\": 5.563161373138428, \"labels\": \"hardly\"}, {\"x\": 3.1129231452941895, \"y\": 4.376774311065674, \"labels\": \"biscuits\"}, {\"x\": 6.896444797515869, \"y\": 7.445319175720215, \"labels\": \"draw\"}, {\"x\": 7.307873725891113, \"y\": 6.805795192718506, \"labels\": \"protect\"}, {\"x\": 7.724759101867676, \"y\": 6.215267658233643, \"labels\": \"leidenfrost\"}, {\"x\": 6.611279010772705, \"y\": 7.0222859382629395, \"labels\": \"crunch\"}, {\"x\": 5.760219097137451, \"y\": 7.184251308441162, \"labels\": \"probe\"}, {\"x\": 7.899311542510986, \"y\": 5.70540189743042, \"labels\": \"dream\"}, {\"x\": 8.190713882446289, \"y\": 6.308901309967041, \"labels\": \"smelling\"}, {\"x\": 9.9266996383667, \"y\": 3.9990508556365967, \"labels\": \"read\"}, {\"x\": 3.996093988418579, \"y\": 4.2295308113098145, \"labels\": \"barbecue\"}, {\"x\": 7.1222147941589355, \"y\": 5.561542510986328, \"labels\": \"molecular\"}, {\"x\": 10.366795539855957, \"y\": 5.685457229614258, \"labels\": \"common\"}, {\"x\": 5.234829425811768, \"y\": 6.384537696838379, \"labels\": \"crockpot\"}, {\"x\": 6.2290263175964355, \"y\": 4.655054569244385, \"labels\": \"usa\"}, {\"x\": 8.005409240722656, \"y\": 3.516592025756836, \"labels\": \"words\"}, {\"x\": 8.037665367126465, \"y\": 4.436924457550049, \"labels\": \"delivery\"}, {\"x\": 6.879330158233643, \"y\": 5.17204475402832, \"labels\": \"car\"}, {\"x\": 10.154397010803223, \"y\": 4.983578205108643, \"labels\": \"true\"}, {\"x\": 10.120430946350098, \"y\": 4.274491310119629, \"labels\": \"oh\"}, {\"x\": 9.118452072143555, \"y\": 5.348340034484863, \"labels\": \"shot\"}, {\"x\": 5.3454790115356445, \"y\": 8.107422828674316, \"labels\": \"starts\"}, {\"x\": 9.572166442871094, \"y\": 4.646140098571777, \"labels\": \"gave\"}, {\"x\": 6.161988258361816, \"y\": 5.467293739318848, \"labels\": \"sparingly\"}, {\"x\": 6.788981914520264, \"y\": 5.528722763061523, \"labels\": \"consumption\"}, {\"x\": 7.715400695800781, \"y\": 3.0241267681121826, \"labels\": \"th\"}, {\"x\": 7.974115371704102, \"y\": 5.123507022857666, \"labels\": \"stories\"}, {\"x\": 3.463738203048706, \"y\": 4.081716537475586, \"labels\": \"tenderloin\"}, {\"x\": 6.773139953613281, \"y\": 4.243337154388428, \"labels\": \"choice\"}, {\"x\": 5.226813793182373, \"y\": 8.212197303771973, \"labels\": \"away\"}, {\"x\": 2.1482324600219727, \"y\": 5.160971164703369, \"labels\": \"milk\"}, {\"x\": 7.887121677398682, \"y\": 4.259157180786133, \"labels\": \"collected\"}, {\"x\": 9.047652244567871, \"y\": 5.265004634857178, \"labels\": \"meh\"}, {\"x\": 6.755044460296631, \"y\": 2.4783926010131836, \"labels\": \"check_out\"}, {\"x\": 3.591670274734497, \"y\": 4.931503772735596, \"labels\": \"pre\"}, {\"x\": 5.990286827087402, \"y\": 7.308078765869141, \"labels\": \"sieve\"}, {\"x\": 4.747877597808838, \"y\": 8.238153457641602, \"labels\": \"liquid\"}, {\"x\": 5.974637985229492, \"y\": 6.656517505645752, \"labels\": \"virgin\"}, {\"x\": 9.024761199951172, \"y\": 6.444952011108398, \"labels\": \"by\"}, {\"x\": 7.617722988128662, \"y\": 4.8572540283203125, \"labels\": \"animal\"}, {\"x\": 10.130011558532715, \"y\": 5.318201065063477, \"labels\": \"anymore\"}, {\"x\": 6.085633754730225, \"y\": 7.000405788421631, \"labels\": \"reverse\"}, {\"x\": 2.3971574306488037, \"y\": 5.174919128417969, \"labels\": \"pinch\"}, {\"x\": 7.096580982208252, \"y\": 4.5450921058654785, \"labels\": \"magnetic\"}, {\"x\": 7.209405422210693, \"y\": 6.663689613342285, \"labels\": \"maintaining\"}, {\"x\": 9.443831443786621, \"y\": 5.437617778778076, \"labels\": \"honest\"}, {\"x\": 3.7098312377929688, \"y\": 5.0083699226379395, \"labels\": \"olive\"}, {\"x\": 9.02527141571045, \"y\": 6.851987838745117, \"labels\": \"risk\"}, {\"x\": 7.679246425628662, \"y\": 4.705873966217041, \"labels\": \"created\"}, {\"x\": 6.525390625, \"y\": 5.530964374542236, \"labels\": \"greater\"}, {\"x\": 7.751248359680176, \"y\": 6.102468490600586, \"labels\": \"host\"}, {\"x\": 9.71403980255127, \"y\": 4.660518646240234, \"labels\": \"dude\"}, {\"x\": 8.834991455078125, \"y\": 5.148678302764893, \"labels\": \"zero\"}, {\"x\": 7.752641677856445, \"y\": 2.877143621444702, \"labels\": \"shelf\"}, {\"x\": 5.759853839874268, \"y\": 5.576099395751953, \"labels\": \"preparations\"}, {\"x\": 6.281296730041504, \"y\": 5.4326653480529785, \"labels\": \"tail\"}, {\"x\": 5.173414707183838, \"y\": 5.229375839233398, \"labels\": \"tinned\"}, {\"x\": 7.103485107421875, \"y\": 3.952376127243042, \"labels\": \"desserts\"}, {\"x\": 6.688019275665283, \"y\": 4.583855152130127, \"labels\": \"groceries\"}, {\"x\": 5.933136463165283, \"y\": 6.747714996337891, \"labels\": \"brushed\"}, {\"x\": 5.510152816772461, \"y\": 6.340292453765869, \"labels\": \"pocket\"}, {\"x\": 8.552286148071289, \"y\": 5.649389743804932, \"labels\": \"nasty\"}, {\"x\": 6.133397579193115, \"y\": 7.4648966789245605, \"labels\": \"shock\"}, {\"x\": 6.264907360076904, \"y\": 4.365994930267334, \"labels\": \"both\"}, {\"x\": 10.063888549804688, \"y\": 4.843551158905029, \"labels\": \"missing\"}, {\"x\": 5.044371604919434, \"y\": 8.189455032348633, \"labels\": \"degrees\"}, {\"x\": 2.9755990505218506, \"y\": 4.286495685577393, \"labels\": \"burgers\"}, {\"x\": 8.335046768188477, \"y\": 5.74810791015625, \"labels\": \"mmm\"}, {\"x\": 3.2622909545898438, \"y\": 5.144318103790283, \"labels\": \"evoo\"}, {\"x\": 3.7472286224365234, \"y\": 4.307361125946045, \"labels\": \"dipping\"}, {\"x\": 7.7415900230407715, \"y\": 4.192580699920654, \"labels\": \"nutribullet\"}, {\"x\": 8.860815048217773, \"y\": 5.831425189971924, \"labels\": \"upset\"}, {\"x\": 3.569554090499878, \"y\": 4.129217147827148, \"labels\": \"pudding\"}, {\"x\": 7.9468207359313965, \"y\": 6.102585792541504, \"labels\": \"attached\"}, {\"x\": 8.599987983703613, \"y\": 5.684352397918701, \"labels\": \"actively\"}, {\"x\": 8.227514266967773, \"y\": 7.047857761383057, \"labels\": \"things\"}, {\"x\": 9.156853675842285, \"y\": 4.670633792877197, \"labels\": \"forgot\"}, {\"x\": 2.385408401489258, \"y\": 4.573625087738037, \"labels\": \"caramelized\"}, {\"x\": 4.8744330406188965, \"y\": 8.0748872756958, \"labels\": \"brine\"}, {\"x\": 8.703627586364746, \"y\": 6.269803524017334, \"labels\": \"piss\"}, {\"x\": 8.885509490966797, \"y\": 5.785329341888428, \"labels\": \"everywhere\"}, {\"x\": 7.528784275054932, \"y\": 3.0232479572296143, \"labels\": \"creuset\"}, {\"x\": 7.718847751617432, \"y\": 4.608845233917236, \"labels\": \"foot\"}, {\"x\": 6.819594860076904, \"y\": 2.547001600265503, \"labels\": \"blog\"}, {\"x\": 10.354990005493164, \"y\": 4.66998815536499, \"labels\": \"that\"}, {\"x\": 6.812112808227539, \"y\": 2.648214817047119, \"labels\": \"essential\"}, {\"x\": 5.207263469696045, \"y\": 7.263558864593506, \"labels\": \"rolling\"}, {\"x\": 6.166408061981201, \"y\": 6.710662364959717, \"labels\": \"crispier\"}, {\"x\": 9.164937019348145, \"y\": 6.354585647583008, \"labels\": \"pleasant\"}, {\"x\": 9.083731651306152, \"y\": 5.348603248596191, \"labels\": \"magic\"}, {\"x\": 4.3601202964782715, \"y\": 5.226300239562988, \"labels\": \"parsnips\"}, {\"x\": 7.7023491859436035, \"y\": 3.032588005065918, \"labels\": \"knife\"}, {\"x\": 7.818428039550781, \"y\": 4.84771203994751, \"labels\": \"code\"}, {\"x\": 9.541731834411621, \"y\": 5.136845111846924, \"labels\": \"hah\"}, {\"x\": 8.518884658813477, \"y\": 5.81304407119751, \"labels\": \"everytime\"}, {\"x\": 5.189711093902588, \"y\": 4.886074542999268, \"labels\": \"sliders\"}, {\"x\": 6.823486328125, \"y\": 7.489315032958984, \"labels\": \"helps\"}, {\"x\": 7.496274948120117, \"y\": 6.062503814697266, \"labels\": \"loss\"}, {\"x\": 6.703287124633789, \"y\": 3.5350828170776367, \"labels\": \"carving\"}, {\"x\": 6.659439563751221, \"y\": 4.65412712097168, \"labels\": \"bayless\"}, {\"x\": 9.40985107421875, \"y\": 4.912065505981445, \"labels\": \"message\"}, {\"x\": 3.307833194732666, \"y\": 4.8650946617126465, \"labels\": \"fennel\"}, {\"x\": 2.832585096359253, \"y\": 4.570725440979004, \"labels\": \"eggs\"}, {\"x\": 9.898724555969238, \"y\": 5.640185356140137, \"labels\": \"safe\"}, {\"x\": 5.3393940925598145, \"y\": 7.391806602478027, \"labels\": \"spatula\"}, {\"x\": 5.137674808502197, \"y\": 6.6142730712890625, \"labels\": \"covering\"}, {\"x\": 8.66283893585205, \"y\": 4.165656566619873, \"labels\": \"pro\"}, {\"x\": 5.80780029296875, \"y\": 8.074575424194336, \"labels\": \"catch\"}, {\"x\": 5.335794925689697, \"y\": 5.16621208190918, \"labels\": \"crema\"}, {\"x\": 5.4076924324035645, \"y\": 5.847117900848389, \"labels\": \"closer\"}, {\"x\": 7.546864032745361, \"y\": 6.0839524269104, \"labels\": \"arguing\"}, {\"x\": 7.0403618812561035, \"y\": 6.373959541320801, \"labels\": \"fitting\"}, {\"x\": 5.476850986480713, \"y\": 5.421013355255127, \"labels\": \"pounds\"}, {\"x\": 5.844325542449951, \"y\": 7.669576168060303, \"labels\": \"shaking\"}, {\"x\": 4.45159912109375, \"y\": 7.947324275970459, \"labels\": \"pot\"}, {\"x\": 10.037081718444824, \"y\": 3.9309911727905273, \"labels\": \"who\"}, {\"x\": 6.958454132080078, \"y\": 5.742684841156006, \"labels\": \"pride\"}, {\"x\": 8.8778657913208, \"y\": 5.6935505867004395, \"labels\": \"theories\"}, {\"x\": 7.983917713165283, \"y\": 2.8185830116271973, \"labels\": \"six\"}, {\"x\": 6.0923991203308105, \"y\": 7.306496620178223, \"labels\": \"rapidly\"}, {\"x\": 9.128567695617676, \"y\": 3.073857545852661, \"labels\": \"experience\"}, {\"x\": 6.217437744140625, \"y\": 5.98931360244751, \"labels\": \"boat\"}, {\"x\": 4.50674295425415, \"y\": 7.682602882385254, \"labels\": \"inch\"}, {\"x\": 8.105241775512695, \"y\": 4.738307952880859, \"labels\": \"bullet\"}, {\"x\": 8.06800365447998, \"y\": 5.483004570007324, \"labels\": \"prepackaged\"}, {\"x\": 4.939987659454346, \"y\": 7.59234619140625, \"labels\": \"pouring\"}, {\"x\": 5.034553527832031, \"y\": 8.264628410339355, \"labels\": \"seconds\"}, {\"x\": 8.779340744018555, \"y\": 3.917722225189209, \"labels\": \"tv\"}, {\"x\": 3.525618076324463, \"y\": 5.2408833503723145, \"labels\": \"loaf\"}, {\"x\": 10.00800895690918, \"y\": 5.007410049438477, \"labels\": \"seriously\"}, {\"x\": 5.144301891326904, \"y\": 8.113171577453613, \"labels\": \"low\"}, {\"x\": 8.466404914855957, \"y\": 4.247856140136719, \"labels\": \"human\"}, {\"x\": 5.810959339141846, \"y\": 4.471445560455322, \"labels\": \"strip\"}, {\"x\": 3.292144298553467, \"y\": 4.325989723205566, \"labels\": \"cranberry\"}, {\"x\": 4.498676776885986, \"y\": 4.996184349060059, \"labels\": \"confit\"}, {\"x\": 7.909734725952148, \"y\": 5.832100868225098, \"labels\": \"emergency\"}, {\"x\": 8.1533842086792, \"y\": 5.22447395324707, \"labels\": \"tamales\"}, {\"x\": 8.476743698120117, \"y\": 4.892441272735596, \"labels\": \"suit\"}, {\"x\": 7.913198471069336, \"y\": 5.175744533538818, \"labels\": \"land\"}, {\"x\": 6.561885356903076, \"y\": 7.365506649017334, \"labels\": \"stretch\"}, {\"x\": 10.513714790344238, \"y\": 5.649121284484863, \"labels\": \"amazing\"}, {\"x\": 4.1764631271362305, \"y\": 4.982878684997559, \"labels\": \"unsweetened\"}, {\"x\": 5.8769850730896, \"y\": 5.459425449371338, \"labels\": \"caught\"}, {\"x\": 6.910952091217041, \"y\": 5.274643421173096, \"labels\": \"final\"}, {\"x\": 10.102104187011719, \"y\": 4.261724472045898, \"labels\": \"god\"}, {\"x\": 6.636332035064697, \"y\": 5.200985431671143, \"labels\": \"aroma\"}, {\"x\": 7.125651836395264, \"y\": 5.749967575073242, \"labels\": \"began\"}, {\"x\": 4.5132293701171875, \"y\": 7.7103776931762695, \"labels\": \"sheet\"}, {\"x\": 6.308780193328857, \"y\": 6.663848876953125, \"labels\": \"mill\"}, {\"x\": 6.375429153442383, \"y\": 7.0350518226623535, \"labels\": \"scrubbing\"}, {\"x\": 7.716960906982422, \"y\": 5.8153276443481445, \"labels\": \"act\"}, {\"x\": 2.3193795680999756, \"y\": 5.010763168334961, \"labels\": \"white\"}, {\"x\": 7.953792572021484, \"y\": 6.071030139923096, \"labels\": \"uncommon\"}, {\"x\": 8.994215965270996, \"y\": 4.112959384918213, \"labels\": \"any\"}, {\"x\": 6.421977519989014, \"y\": 3.8793182373046875, \"labels\": \"of\"}, {\"x\": 9.667784690856934, \"y\": 6.611382484436035, \"labels\": \"share\"}, {\"x\": 5.482804775238037, \"y\": 8.273795127868652, \"labels\": \"clean\"}, {\"x\": 6.865884304046631, \"y\": 7.178673267364502, \"labels\": \"barely\"}, {\"x\": 4.404842853546143, \"y\": 4.369166374206543, \"labels\": \"mary\"}, {\"x\": 7.008416175842285, \"y\": 6.13958740234375, \"labels\": \"overcooked\"}, {\"x\": 9.830760955810547, \"y\": 6.3203253746032715, \"labels\": \"long\"}, {\"x\": 9.245401382446289, \"y\": 6.022637367248535, \"labels\": \"friendly\"}, {\"x\": 7.345895767211914, \"y\": 4.016563415527344, \"labels\": \"newer\"}, {\"x\": 7.821733474731445, \"y\": 4.089200973510742, \"labels\": \"event\"}, {\"x\": 9.284165382385254, \"y\": 6.3263630867004395, \"labels\": \"dense\"}, {\"x\": 6.199080467224121, \"y\": 6.371702194213867, \"labels\": \"bottomed\"}, {\"x\": 8.831998825073242, \"y\": 3.1757030487060547, \"labels\": \"posted\"}, {\"x\": 6.895174026489258, \"y\": 4.0744309425354, \"labels\": \"images\"}, {\"x\": 4.852670669555664, \"y\": 7.766836643218994, \"labels\": \"transfer\"}, {\"x\": 2.6495935916900635, \"y\": 5.232152462005615, \"labels\": \"dash\"}, {\"x\": 7.2720489501953125, \"y\": 3.874772548675537, \"labels\": \"sites\"}, {\"x\": 4.5346832275390625, \"y\": 7.56839656829834, \"labels\": \"roasting\"}, {\"x\": 3.5902435779571533, \"y\": 5.1479573249816895, \"labels\": \"tbl\"}, {\"x\": 3.704730272293091, \"y\": 4.694186210632324, \"labels\": \"breads\"}, {\"x\": 8.176526069641113, \"y\": 4.67106819152832, \"labels\": \"converted\"}, {\"x\": 7.040727138519287, \"y\": 6.2281317710876465, \"labels\": \"setup\"}, {\"x\": 7.993029594421387, \"y\": 6.113849639892578, \"labels\": \"battery\"}, {\"x\": 5.183063983917236, \"y\": 7.902007102966309, \"labels\": \"refrigerator\"}, {\"x\": 6.488855838775635, \"y\": 5.519840717315674, \"labels\": \"torch\"}, {\"x\": 8.019881248474121, \"y\": 7.560525894165039, \"labels\": \"taste\"}, {\"x\": 8.621307373046875, \"y\": 7.147959232330322, \"labels\": \"provide\"}, {\"x\": 3.7691242694854736, \"y\": 4.573776721954346, \"labels\": \"jarred\"}, {\"x\": 2.701988697052002, \"y\": 4.2917890548706055, \"labels\": \"veggies\"}, {\"x\": 5.33740758895874, \"y\": 7.1571807861328125, \"labels\": \"steep\"}, {\"x\": 5.4389519691467285, \"y\": 6.896905899047852, \"labels\": \"scale\"}, {\"x\": 6.805476665496826, \"y\": 6.894829750061035, \"labels\": \"polymerized\"}, {\"x\": 6.0040693283081055, \"y\": 5.10497522354126, \"labels\": \"kerrygold\"}, {\"x\": 9.30322265625, \"y\": 4.666393756866455, \"labels\": \"free\"}, {\"x\": 4.782432556152344, \"y\": 4.582115650177002, \"labels\": \"beautiful\"}, {\"x\": 1.904259443283081, \"y\": 4.710937976837158, \"labels\": \"carrots\"}, {\"x\": 5.089606285095215, \"y\": 5.500395774841309, \"labels\": \"cheat\"}, {\"x\": 7.082683563232422, \"y\": 2.945068836212158, \"labels\": \"cuisinart\"}, {\"x\": 6.704016208648682, \"y\": 5.662840366363525, \"labels\": \"colour\"}, {\"x\": 6.869532585144043, \"y\": 3.675560235977173, \"labels\": \"americas\"}, {\"x\": 2.4882922172546387, \"y\": 4.21079683303833, \"labels\": \"cabbage\"}, {\"x\": 8.477495193481445, \"y\": 5.971811294555664, \"labels\": \"properties\"}, {\"x\": 4.888818264007568, \"y\": 8.314248085021973, \"labels\": \"steam\"}, {\"x\": 7.19295072555542, \"y\": 4.02921199798584, \"labels\": \"game\"}, {\"x\": 5.055538654327393, \"y\": 4.783721923828125, \"labels\": \"cheeks\"}, {\"x\": 5.449166774749756, \"y\": 5.728413105010986, \"labels\": \"roots\"}, {\"x\": 6.082652568817139, \"y\": 7.149029731750488, \"labels\": \"falls\"}, {\"x\": 8.293830871582031, \"y\": 4.442099571228027, \"labels\": \"resource\"}, {\"x\": 7.7958550453186035, \"y\": 4.136431694030762, \"labels\": \"ways\"}, {\"x\": 5.590591907501221, \"y\": 5.098979473114014, \"labels\": \"licorice\"}, {\"x\": 10.044456481933594, \"y\": 5.082728862762451, \"labels\": \"tasted\"}, {\"x\": 3.238463878631592, \"y\": 4.7696027755737305, \"labels\": \"chicken_breasts\"}, {\"x\": 4.224367141723633, \"y\": 5.026648044586182, \"labels\": \"preserved\"}, {\"x\": 7.548270225524902, \"y\": 6.03446102142334, \"labels\": \"creative\"}, {\"x\": 6.160935878753662, \"y\": 3.973360538482666, \"labels\": \"joint\"}, {\"x\": 7.0808024406433105, \"y\": 6.825531005859375, \"labels\": \"reuse\"}, {\"x\": 5.116525173187256, \"y\": 7.2077765464782715, \"labels\": \"strainer\"}, {\"x\": 6.403303623199463, \"y\": 3.4213504791259766, \"labels\": \"cacio\"}, {\"x\": 7.737375736236572, \"y\": 3.9328773021698, \"labels\": \"germany\"}, {\"x\": 6.357517242431641, \"y\": 4.907858848571777, \"labels\": \"suited\"}, {\"x\": 9.872225761413574, \"y\": 5.2950663566589355, \"labels\": \"expecting\"}, {\"x\": 8.55790901184082, \"y\": 6.507870197296143, \"labels\": \"promise\"}, {\"x\": 7.429030895233154, \"y\": 4.941509246826172, \"labels\": \"concerns\"}, {\"x\": 6.574888229370117, \"y\": 5.283102989196777, \"labels\": \"zojirushi\"}, {\"x\": 9.110897064208984, \"y\": 5.408860683441162, \"labels\": \"consistent\"}, {\"x\": 8.333304405212402, \"y\": 4.2123847007751465, \"labels\": \"therefore\"}, {\"x\": 10.27005672454834, \"y\": 5.978693008422852, \"labels\": \"easy\"}, {\"x\": 7.228434085845947, \"y\": 6.387662410736084, \"labels\": \"cast\"}, {\"x\": 6.339932918548584, \"y\": 6.31386661529541, \"labels\": \"spreading\"}, {\"x\": 7.6600518226623535, \"y\": 6.165029048919678, \"labels\": \"convenience\"}, {\"x\": 8.873725891113281, \"y\": 4.938117027282715, \"labels\": \"gluten\"}, {\"x\": 9.075366973876953, \"y\": 3.8445582389831543, \"labels\": \"suggestions\"}, {\"x\": 9.38025951385498, \"y\": 4.808440208435059, \"labels\": \"response\"}, {\"x\": 7.130822658538818, \"y\": 4.797798156738281, \"labels\": \"garage\"}, {\"x\": 6.666626930236816, \"y\": 7.19354772567749, \"labels\": \"rinsing\"}, {\"x\": 6.860897064208984, \"y\": 6.970730781555176, \"labels\": \"lick\"}, {\"x\": 4.8247222900390625, \"y\": 8.325450897216797, \"labels\": \"minute\"}, {\"x\": 8.003472328186035, \"y\": 2.7560830116271973, \"labels\": \"next\"}, {\"x\": 7.764077663421631, \"y\": 6.321166038513184, \"labels\": \"shitting\"}, {\"x\": 5.858951568603516, \"y\": 6.390311241149902, \"labels\": \"mitts\"}, {\"x\": 10.136405944824219, \"y\": 5.724414825439453, \"labels\": \"better_than\"}, {\"x\": 6.587518215179443, \"y\": 5.80911922454834, \"labels\": \"woks\"}, {\"x\": 9.001214981079102, \"y\": 5.0697455406188965, \"labels\": \"prefers\"}, {\"x\": 9.89718246459961, \"y\": 5.013415336608887, \"labels\": \"doubt\"}, {\"x\": 5.620934963226318, \"y\": 7.537844657897949, \"labels\": \"warming\"}, {\"x\": 8.839117050170898, \"y\": 5.9550065994262695, \"labels\": \"refuse\"}, {\"x\": 4.732447147369385, \"y\": 8.35583782196045, \"labels\": \"then\"}, {\"x\": 2.748561143875122, \"y\": 4.284302234649658, \"labels\": \"savory\"}, {\"x\": 7.0370259284973145, \"y\": 7.132575988769531, \"labels\": \"fluid\"}, {\"x\": 9.839736938476562, \"y\": 5.588831424713135, \"labels\": \"fix\"}, {\"x\": 3.267322301864624, \"y\": 4.6768083572387695, \"labels\": \"crumbled\"}, {\"x\": 1.8011467456817627, \"y\": 4.89619255065918, \"labels\": \"black_pepper\"}, {\"x\": 3.823418617248535, \"y\": 5.07896089553833, \"labels\": \"ounces\"}, {\"x\": 5.267233848571777, \"y\": 4.7428107261657715, \"labels\": \"pepperoni\"}, {\"x\": 9.748043060302734, \"y\": 4.2485175132751465, \"labels\": \"we\"}, {\"x\": 6.66309928894043, \"y\": 6.181149482727051, \"labels\": \"nd\"}, {\"x\": 8.133316040039062, \"y\": 5.032313346862793, \"labels\": \"solved\"}, {\"x\": 7.724082946777344, \"y\": 5.408595561981201, \"labels\": \"opens\"}, {\"x\": 3.6048409938812256, \"y\": 5.093542098999023, \"labels\": \"palm\"}, {\"x\": 8.681680679321289, \"y\": 5.378543376922607, \"labels\": \"sensitive\"}, {\"x\": 8.7767915725708, \"y\": 6.409667015075684, \"labels\": \"leaner\"}, {\"x\": 8.11916446685791, \"y\": 5.185081958770752, \"labels\": \"improves\"}, {\"x\": 3.3773531913757324, \"y\": 4.803244113922119, \"labels\": \"almond\"}, {\"x\": 10.5311279296875, \"y\": 5.395214557647705, \"labels\": \"still\"}, {\"x\": 8.188660621643066, \"y\": 3.8225200176239014, \"labels\": \"success\"}, {\"x\": 2.49873423576355, \"y\": 4.425395488739014, \"labels\": \"sweet\"}, {\"x\": 8.664971351623535, \"y\": 5.657219409942627, \"labels\": \"pretend\"}, {\"x\": 8.884397506713867, \"y\": 3.4806530475616455, \"labels\": \"beyond\"}, {\"x\": 4.530093193054199, \"y\": 6.83312463760376, \"labels\": \"dogs\"}, {\"x\": 4.936620235443115, \"y\": 8.312042236328125, \"labels\": \"hour\"}, {\"x\": 7.305658340454102, \"y\": 5.542151927947998, \"labels\": \"mcdonalds\"}, {\"x\": 8.009058952331543, \"y\": 4.415009021759033, \"labels\": \"experienced\"}, {\"x\": 4.460628986358643, \"y\": 7.926529407501221, \"labels\": \"side\"}, {\"x\": 7.4556145668029785, \"y\": 3.891718626022339, \"labels\": \"range\"}, {\"x\": 10.272167205810547, \"y\": 5.414603233337402, \"labels\": \"ok\"}, {\"x\": 6.337373733520508, \"y\": 4.668728351593018, \"labels\": \"ours\"}, {\"x\": 4.595240116119385, \"y\": 8.043644905090332, \"labels\": \"cold\"}, {\"x\": 7.133885383605957, \"y\": 4.181662082672119, \"labels\": \"japan\"}, {\"x\": 4.9863080978393555, \"y\": 5.47830057144165, \"labels\": \"starchy\"}, {\"x\": 2.2933530807495117, \"y\": 4.334034442901611, \"labels\": \"feta\"}, {\"x\": 8.500517845153809, \"y\": 7.0631632804870605, \"labels\": \"survive\"}, {\"x\": 7.990873336791992, \"y\": 5.066055774688721, \"labels\": \"checked\"}, {\"x\": 7.985873222351074, \"y\": 4.035999774932861, \"labels\": \"lunches\"}, {\"x\": 7.408997535705566, \"y\": 6.28436803817749, \"labels\": \"ought\"}, {\"x\": 6.653693199157715, \"y\": 6.36405086517334, \"labels\": \"rubber\"}, {\"x\": 3.5457985401153564, \"y\": 4.56463098526001, \"labels\": \"flavored\"}, {\"x\": 6.228278636932373, \"y\": 5.636813163757324, \"labels\": \"falafel\"}, {\"x\": 9.091839790344238, \"y\": 6.204798221588135, \"labels\": \"greasy\"}, {\"x\": 2.7910261154174805, \"y\": 4.069397449493408, \"labels\": \"chicken\"}, {\"x\": 7.557985305786133, \"y\": 5.170921325683594, \"labels\": \"intended\"}, {\"x\": 6.203779220581055, \"y\": 5.335964679718018, \"labels\": \"pig\"}, {\"x\": 4.794128894805908, \"y\": 7.513513565063477, \"labels\": \"directly\"}, {\"x\": 9.23299789428711, \"y\": 4.9383440017700195, \"labels\": \"clue\"}, {\"x\": 7.168562889099121, \"y\": 4.590453624725342, \"labels\": \"retailers\"}, {\"x\": 6.117638111114502, \"y\": 4.293580055236816, \"labels\": \"kinds\"}, {\"x\": 8.305079460144043, \"y\": 3.107757091522217, \"labels\": \"living\"}, {\"x\": 9.535719871520996, \"y\": 4.001834869384766, \"labels\": \"always\"}, {\"x\": 8.687433242797852, \"y\": 5.583061695098877, \"labels\": \"nor\"}, {\"x\": 7.219203948974609, \"y\": 6.4965291023254395, \"labels\": \"russets\"}, {\"x\": 7.633869171142578, \"y\": 4.395148754119873, \"labels\": \"ages\"}, {\"x\": 6.624876499176025, \"y\": 3.5782902240753174, \"labels\": \"carb\"}, {\"x\": 10.035170555114746, \"y\": 5.047959327697754, \"labels\": \"crazy\"}, {\"x\": 1.9061311483383179, \"y\": 4.769834041595459, \"labels\": \"herbs\"}, {\"x\": 5.26376485824585, \"y\": 6.574109077453613, \"labels\": \"inches\"}, {\"x\": 6.207061767578125, \"y\": 6.841976165771484, \"labels\": \"scraps\"}, {\"x\": 9.16366195678711, \"y\": 3.007624387741089, \"labels\": \"own\"}, {\"x\": 4.946043968200684, \"y\": 4.913483619689941, \"labels\": \"fajitas\"}, {\"x\": 5.575003147125244, \"y\": 7.889616966247559, \"labels\": \"apart\"}, {\"x\": 7.417799949645996, \"y\": 5.191232681274414, \"labels\": \"spin\"}, {\"x\": 5.107275485992432, \"y\": 4.85139799118042, \"labels\": \"crumbles\"}, {\"x\": 7.151933193206787, \"y\": 6.385532379150391, \"labels\": \"dissolved\"}, {\"x\": 9.996102333068848, \"y\": 4.488200664520264, \"labels\": \"knew\"}, {\"x\": 7.0248026847839355, \"y\": 6.644044876098633, \"labels\": \"rely\"}, {\"x\": 8.676475524902344, \"y\": 3.1075310707092285, \"labels\": \"channel\"}, {\"x\": 4.24521541595459, \"y\": 4.655557155609131, \"labels\": \"chutney\"}, {\"x\": 6.6107177734375, \"y\": 3.495652437210083, \"labels\": \"starter\"}, {\"x\": 8.9568510055542, \"y\": 5.4360880851745605, \"labels\": \"smart\"}, {\"x\": 7.473477363586426, \"y\": 4.644683361053467, \"labels\": \"caused\"}, {\"x\": 6.986982822418213, \"y\": 4.952035427093506, \"labels\": \"spores\"}, {\"x\": 5.70763635635376, \"y\": 7.869213104248047, \"labels\": \"heats\"}, {\"x\": 6.739769458770752, \"y\": 5.059421539306641, \"labels\": \"collagen\"}, {\"x\": 9.291563987731934, \"y\": 5.045996189117432, \"labels\": \"showing\"}, {\"x\": 4.837032318115234, \"y\": 8.3724365234375, \"labels\": \"minutes\"}, {\"x\": 9.664538383483887, \"y\": 5.7945637702941895, \"labels\": \"freezes\"}, {\"x\": 8.480438232421875, \"y\": 4.828728675842285, \"labels\": \"indeed\"}, {\"x\": 2.187713146209717, \"y\": 4.346371173858643, \"labels\": \"cheddar\"}, {\"x\": 10.374482154846191, \"y\": 5.257029056549072, \"labels\": \"certainly\"}, {\"x\": 3.162605047225952, \"y\": 4.025906085968018, \"labels\": \"stew\"}, {\"x\": 5.627321243286133, \"y\": 7.281741619110107, \"labels\": \"indirect\"}, {\"x\": 8.422886848449707, \"y\": 5.156639575958252, \"labels\": \"knowledgeable\"}, {\"x\": 6.014488697052002, \"y\": 4.946022033691406, \"labels\": \"broths\"}, {\"x\": 6.285393238067627, \"y\": 5.345024108886719, \"labels\": \"pads\"}, {\"x\": 8.292987823486328, \"y\": 3.266648054122925, \"labels\": \"trip\"}, {\"x\": 6.086202621459961, \"y\": 4.84697151184082, \"labels\": \"stinky\"}, {\"x\": 10.135187149047852, \"y\": 4.436850070953369, \"labels\": \"exactly\"}, {\"x\": 5.613812446594238, \"y\": 4.902283668518066, \"labels\": \"sheep\"}, {\"x\": 9.881616592407227, \"y\": 4.2849884033203125, \"labels\": \"wish\"}, {\"x\": 5.110097408294678, \"y\": 7.038294792175293, \"labels\": \"leftovers\"}, {\"x\": 8.0534086227417, \"y\": 2.6836578845977783, \"labels\": \"twice\"}, {\"x\": 8.378058433532715, \"y\": 4.029858112335205, \"labels\": \"childhood\"}, {\"x\": 5.706904888153076, \"y\": 7.469338417053223, \"labels\": \"maximum\"}, {\"x\": 4.4228925704956055, \"y\": 4.342069149017334, \"labels\": \"gratin\"}, {\"x\": 7.7578558921813965, \"y\": 3.3564114570617676, \"labels\": \"second\"}, {\"x\": 9.881074905395508, \"y\": 4.745173931121826, \"labels\": \"curious\"}, {\"x\": 2.712346076965332, \"y\": 4.57551908493042, \"labels\": \"crumbs\"}, {\"x\": 9.796361923217773, \"y\": 4.717108249664307, \"labels\": \"exact\"}, {\"x\": 6.493506908416748, \"y\": 5.723294734954834, \"labels\": \"max\"}, {\"x\": 6.499598026275635, \"y\": 5.163731575012207, \"labels\": \"defined\"}, {\"x\": 10.171395301818848, \"y\": 5.347490310668945, \"labels\": \"necessarily\"}, {\"x\": 8.663236618041992, \"y\": 7.072812080383301, \"labels\": \"cost\"}, {\"x\": 8.328649520874023, \"y\": 5.827169895172119, \"labels\": \"downside\"}, {\"x\": 9.905580520629883, \"y\": 6.0575270652771, \"labels\": \"aren\"}, {\"x\": 9.447687149047852, \"y\": 6.242949485778809, \"labels\": \"non_stick\"}, {\"x\": 4.39831018447876, \"y\": 4.693807125091553, \"labels\": \"gouda\"}, {\"x\": 9.372178077697754, \"y\": 5.25111722946167, \"labels\": \"special\"}, {\"x\": 5.374827861785889, \"y\": 5.596766948699951, \"labels\": \"punch\"}, {\"x\": 9.507354736328125, \"y\": 6.996966361999512, \"labels\": \"eat\"}, {\"x\": 8.502418518066406, \"y\": 4.1693339347839355, \"labels\": \"pic\"}, {\"x\": 8.230143547058105, \"y\": 2.5398387908935547, \"labels\": \"times\"}, {\"x\": 5.264817237854004, \"y\": 4.593205451965332, \"labels\": \"basmati\"}, {\"x\": 4.701543807983398, \"y\": 6.182440757751465, \"labels\": \"vs\"}, {\"x\": 8.835503578186035, \"y\": 6.121795177459717, \"labels\": \"minded\"}, {\"x\": 5.49967098236084, \"y\": 7.324407577514648, \"labels\": \"cap\"}, {\"x\": 8.64118480682373, \"y\": 4.992563247680664, \"labels\": \"challenged\"}, {\"x\": 6.870882987976074, \"y\": 6.370419025421143, \"labels\": \"increase\"}, {\"x\": 7.684810638427734, \"y\": 3.6802117824554443, \"labels\": \"sold\"}, {\"x\": 8.626784324645996, \"y\": 4.275107383728027, \"labels\": \"jobs\"}, {\"x\": 7.525835990905762, \"y\": 4.517416477203369, \"labels\": \"whose\"}, {\"x\": 2.0250532627105713, \"y\": 4.6398024559021, \"labels\": \"apple\"}, {\"x\": 6.284718036651611, \"y\": 6.2519049644470215, \"labels\": \"lines\"}, {\"x\": 6.568606853485107, \"y\": 3.7623748779296875, \"labels\": \"includes\"}, {\"x\": 6.068154811859131, \"y\": 4.5386643409729, \"labels\": \"thousand\"}, {\"x\": 7.686833381652832, \"y\": 6.114739894866943, \"labels\": \"limit\"}, {\"x\": 7.404101848602295, \"y\": 4.419638633728027, \"labels\": \"jessie\"}, {\"x\": 10.47623062133789, \"y\": 5.596827507019043, \"labels\": \"awesome\"}, {\"x\": 6.853699684143066, \"y\": 7.244918346405029, \"labels\": \"force\"}, {\"x\": 4.765957355499268, \"y\": 4.095977306365967, \"labels\": \"processed\"}, {\"x\": 5.510091304779053, \"y\": 7.078639030456543, \"labels\": \"dig\"}, {\"x\": 6.039355278015137, \"y\": 6.876369953155518, \"labels\": \"marks\"}, {\"x\": 4.983003616333008, \"y\": 7.793739318847656, \"labels\": \"the\"}, {\"x\": 4.376599311828613, \"y\": 7.785010814666748, \"labels\": \"slice\"}, {\"x\": 4.244764804840088, \"y\": 4.744539737701416, \"labels\": \"peaches\"}, {\"x\": 7.49522590637207, \"y\": 5.974089622497559, \"labels\": \"whilst\"}, {\"x\": 9.021220207214355, \"y\": 4.797048568725586, \"labels\": \"support\"}, {\"x\": 7.804646015167236, \"y\": 4.125175476074219, \"labels\": \"holidays\"}, {\"x\": 3.383953809738159, \"y\": 4.574686050415039, \"labels\": \"whipped\"}, {\"x\": 10.333413124084473, \"y\": 5.657956123352051, \"labels\": \"different\"}, {\"x\": 3.693681478500366, \"y\": 4.1424689292907715, \"labels\": \"scrambled_eggs\"}, {\"x\": 5.2062907218933105, \"y\": 5.067911624908447, \"labels\": \"cupcakes\"}, {\"x\": 7.528291702270508, \"y\": 3.139893054962158, \"labels\": \"victorinox\"}, {\"x\": 8.165727615356445, \"y\": 5.423996925354004, \"labels\": \"saves\"}, {\"x\": 5.358716011047363, \"y\": 5.230480194091797, \"labels\": \"leg\"}, {\"x\": 6.995568752288818, \"y\": 5.45388126373291, \"labels\": \"wall\"}, {\"x\": 8.423100471496582, \"y\": 7.0898261070251465, \"labels\": \"watery\"}, {\"x\": 9.452380180358887, \"y\": 3.449981212615967, \"labels\": \"chef\"}, {\"x\": 8.422554016113281, \"y\": 7.04838752746582, \"labels\": \"delicate\"}, {\"x\": 9.859357833862305, \"y\": 4.462162494659424, \"labels\": \"edit\"}, {\"x\": 7.733210563659668, \"y\": 4.034074306488037, \"labels\": \"tradition\"}, {\"x\": 6.101682186126709, \"y\": 7.322162628173828, \"labels\": \"interior\"}, {\"x\": 9.201468467712402, \"y\": 3.8604886531829834, \"labels\": \"questions\"}, {\"x\": 8.912491798400879, \"y\": 6.401044845581055, \"labels\": \"fatty\"}, {\"x\": 6.6952128410339355, \"y\": 2.8972325325012207, \"labels\": \"german\"}, {\"x\": 4.5369367599487305, \"y\": 8.116222381591797, \"labels\": \"pour\"}, {\"x\": 3.7700982093811035, \"y\": 4.59739351272583, \"labels\": \"shaved\"}, {\"x\": 7.58658504486084, \"y\": 5.516210079193115, \"labels\": \"fil\"}, {\"x\": 4.822294235229492, \"y\": 4.548887252807617, \"labels\": \"nutty\"}, {\"x\": 7.897161960601807, \"y\": 5.6475653648376465, \"labels\": \"ugh\"}, {\"x\": 5.3220038414001465, \"y\": 6.108407974243164, \"labels\": \"deeper\"}, {\"x\": 8.773811340332031, \"y\": 4.643934726715088, \"labels\": \"chance\"}, {\"x\": 5.848326683044434, \"y\": 4.411548137664795, \"labels\": \"helper\"}, {\"x\": 5.450080871582031, \"y\": 6.599898815155029, \"labels\": \"micro\"}, {\"x\": 1.8634058237075806, \"y\": 4.901148319244385, \"labels\": \"garlic_powder\"}, {\"x\": 9.69193172454834, \"y\": 5.183440685272217, \"labels\": \"mistake\"}, {\"x\": 5.677513122558594, \"y\": 6.329626083374023, \"labels\": \"cuts\"}, {\"x\": 5.464171886444092, \"y\": 6.902970314025879, \"labels\": \"lids\"}, {\"x\": 6.573351860046387, \"y\": 6.8596930503845215, \"labels\": \"afterward\"}, {\"x\": 4.34055233001709, \"y\": 4.491456508636475, \"labels\": \"smoothies\"}, {\"x\": 8.7394380569458, \"y\": 7.030872821807861, \"labels\": \"lead\"}, {\"x\": 10.115323066711426, \"y\": 4.359013557434082, \"labels\": \"saying\"}, {\"x\": 5.0781049728393555, \"y\": 5.941904067993164, \"labels\": \"box\"}, {\"x\": 3.0013234615325928, \"y\": 4.942725658416748, \"labels\": \"mash\"}, {\"x\": 7.832900047302246, \"y\": 5.492964267730713, \"labels\": \"applied\"}, {\"x\": 5.775210857391357, \"y\": 6.113543510437012, \"labels\": \"thursday\"}, {\"x\": 7.324345111846924, \"y\": 5.721217155456543, \"labels\": \"cows\"}, {\"x\": 7.3028764724731445, \"y\": 6.586211681365967, \"labels\": \"material\"}, {\"x\": 8.26048469543457, \"y\": 2.9184203147888184, \"labels\": \"our\"}, {\"x\": 5.179650783538818, \"y\": 6.755618095397949, \"labels\": \"popped\"}, {\"x\": 6.718423843383789, \"y\": 7.026559352874756, \"labels\": \"mold\"}, {\"x\": 2.5111401081085205, \"y\": 4.411406517028809, \"labels\": \"pineapple\"}, {\"x\": 8.652748107910156, \"y\": 7.080833435058594, \"labels\": \"apply\"}, {\"x\": 7.610930919647217, \"y\": 3.4395971298217773, \"labels\": \"instructions\"}, {\"x\": 6.30324125289917, \"y\": 6.207912921905518, \"labels\": \"bisquick\"}, {\"x\": 8.25564193725586, \"y\": 5.636961460113525, \"labels\": \"whetstone\"}, {\"x\": 10.251202583312988, \"y\": 5.930614471435547, \"labels\": \"healthy\"}, {\"x\": 5.198321342468262, \"y\": 5.133272647857666, \"labels\": \"salami\"}, {\"x\": 7.483667373657227, \"y\": 7.511235237121582, \"labels\": \"consistency\"}, {\"x\": 8.632913589477539, \"y\": 3.4689714908599854, \"labels\": \"lived\"}, {\"x\": 6.985045433044434, \"y\": 3.0452213287353516, \"labels\": \"attachment\"}, {\"x\": 8.854100227355957, \"y\": 4.163688659667969, \"labels\": \"rule\"}, {\"x\": 4.737540245056152, \"y\": 7.926901340484619, \"labels\": \"surface\"}, {\"x\": 9.036049842834473, \"y\": 2.9715614318847656, \"labels\": \"favourite\"}, {\"x\": 2.791895627975464, \"y\": 4.616229057312012, \"labels\": \"boiled\"}, {\"x\": 6.710928916931152, \"y\": 4.1314697265625, \"labels\": \"kind\"}, {\"x\": 9.684345245361328, \"y\": 5.7117109298706055, \"labels\": \"fancy\"}, {\"x\": 7.060181140899658, \"y\": 5.612424850463867, \"labels\": \"peoples\"}, {\"x\": 8.039608001708984, \"y\": 7.328475475311279, \"labels\": \"practice\"}, {\"x\": 5.702475070953369, \"y\": 5.4471964836120605, \"labels\": \"shortening\"}, {\"x\": 7.13727331161499, \"y\": 6.456611633300781, \"labels\": \"track\"}, {\"x\": 9.18819808959961, \"y\": 5.266387939453125, \"labels\": \"surprise\"}, {\"x\": 7.215047836303711, \"y\": 4.733657360076904, \"labels\": \"location\"}, {\"x\": 3.649920701980591, \"y\": 4.343115329742432, \"labels\": \"cornbread\"}, {\"x\": 8.655653953552246, \"y\": 4.463278293609619, \"labels\": \"names\"}, {\"x\": 8.542401313781738, \"y\": 3.3568243980407715, \"labels\": \"went\"}, {\"x\": 4.4908552169799805, \"y\": 4.667572975158691, \"labels\": \"spiced\"}, {\"x\": 9.125895500183105, \"y\": 6.2399444580078125, \"labels\": \"efficient\"}, {\"x\": 8.754081726074219, \"y\": 7.122061252593994, \"labels\": \"sharpen\"}, {\"x\": 3.4729154109954834, \"y\": 4.3279194831848145, \"labels\": \"strawberry\"}, {\"x\": 7.640450954437256, \"y\": 4.126718997955322, \"labels\": \"production\"}, {\"x\": 8.618678092956543, \"y\": 5.165078639984131, \"labels\": \"omg\"}, {\"x\": 7.815371036529541, \"y\": 6.348177433013916, \"labels\": \"microwaves\"}, {\"x\": 8.179156303405762, \"y\": 7.412906646728516, \"labels\": \"tastier\"}, {\"x\": 7.297450542449951, \"y\": 5.109397888183594, \"labels\": \"downvote\"}, {\"x\": 7.391404628753662, \"y\": 5.7193708419799805, \"labels\": \"exception\"}, {\"x\": 6.564454555511475, \"y\": 4.325221538543701, \"labels\": \"gourmet\"}, {\"x\": 5.748861312866211, \"y\": 6.876980781555176, \"labels\": \"flatten\"}, {\"x\": 8.310139656066895, \"y\": 4.630917072296143, \"labels\": \"suppose\"}, {\"x\": 7.912214279174805, \"y\": 3.0398244857788086, \"labels\": \"market\"}, {\"x\": 9.888174057006836, \"y\": 5.645967960357666, \"labels\": \"tend\"}, {\"x\": 5.622350215911865, \"y\": 4.730073928833008, \"labels\": \"vacuum\"}, {\"x\": 8.161185264587402, \"y\": 2.56160306930542, \"labels\": \"ago\"}, {\"x\": 9.89930534362793, \"y\": 6.121821880340576, \"labels\": \"such\"}, {\"x\": 7.151422023773193, \"y\": 5.418218612670898, \"labels\": \"finger\"}, {\"x\": 8.15574836730957, \"y\": 2.6774327754974365, \"labels\": \"spent\"}, {\"x\": 10.033473014831543, \"y\": 3.8476037979125977, \"labels\": \"she\"}, {\"x\": 2.924018383026123, \"y\": 4.534252643585205, \"labels\": \"steamed\"}, {\"x\": 9.836910247802734, \"y\": 5.4266228675842285, \"labels\": \"effort\"}, {\"x\": 8.633820533752441, \"y\": 5.022815704345703, \"labels\": \"paying\"}, {\"x\": 7.470789432525635, \"y\": 7.507713794708252, \"labels\": \"it\"}, {\"x\": 8.768386840820312, \"y\": 5.429681301116943, \"labels\": \"sir\"}, {\"x\": 10.023704528808594, \"y\": 5.278014659881592, \"labels\": \"worth\"}, {\"x\": 9.063455581665039, \"y\": 7.240684509277344, \"labels\": \"order\"}, {\"x\": 9.763209342956543, \"y\": 4.177506446838379, \"labels\": \"ever\"}, {\"x\": 4.471635818481445, \"y\": 7.974271774291992, \"labels\": \"grill\"}, {\"x\": 6.674257278442383, \"y\": 6.953516483306885, \"labels\": \"bubble\"}, {\"x\": 7.704171180725098, \"y\": 5.2603864669799805, \"labels\": \"nutritious\"}, {\"x\": 4.1393632888793945, \"y\": 4.460427284240723, \"labels\": \"iced\"}, {\"x\": 7.149405002593994, \"y\": 4.641514778137207, \"labels\": \"versions\"}, {\"x\": 9.776521682739258, \"y\": 5.202540874481201, \"labels\": \"clearly\"}, {\"x\": 8.4950590133667, \"y\": 5.70924711227417, \"labels\": \"challenge\"}, {\"x\": 3.5688209533691406, \"y\": 5.097877502441406, \"labels\": \"divided\"}, {\"x\": 5.810346603393555, \"y\": 5.643729209899902, \"labels\": \"polish\"}, {\"x\": 8.980460166931152, \"y\": 5.132389068603516, \"labels\": \"inspired\"}, {\"x\": 6.276058197021484, \"y\": 7.178795337677002, \"labels\": \"infuse\"}, {\"x\": 8.738194465637207, \"y\": 7.147027492523193, \"labels\": \"require\"}, {\"x\": 5.049218654632568, \"y\": 8.192314147949219, \"labels\": \"after\"}, {\"x\": 6.09333610534668, \"y\": 6.1321845054626465, \"labels\": \"vac\"}, {\"x\": 5.433149814605713, \"y\": 6.77621603012085, \"labels\": \"ferment\"}, {\"x\": 8.576298713684082, \"y\": 3.057769536972046, \"labels\": \"culinary\"}, {\"x\": 7.274598598480225, \"y\": 3.2393946647644043, \"labels\": \"main\"}, {\"x\": 7.680451393127441, \"y\": 5.741405487060547, \"labels\": \"ooh\"}, {\"x\": 6.875007629394531, \"y\": 3.183016777038574, \"labels\": \"blogs\"}, {\"x\": 7.387329578399658, \"y\": 3.7612857818603516, \"labels\": \"cases\"}, {\"x\": 5.731446743011475, \"y\": 4.8401713371276855, \"labels\": \"sweetened\"}, {\"x\": 6.412349700927734, \"y\": 4.185551643371582, \"labels\": \"course\"}, {\"x\": 5.146155834197998, \"y\": 7.715734004974365, \"labels\": \"line\"}, {\"x\": 7.651302337646484, \"y\": 4.316720485687256, \"labels\": \"service\"}, {\"x\": 6.942270755767822, \"y\": 3.4721274375915527, \"labels\": \"complete\"}, {\"x\": 3.328143358230591, \"y\": 4.331345558166504, \"labels\": \"chicken_breast\"}, {\"x\": 8.607829093933105, \"y\": 5.174238204956055, \"labels\": \"regional\"}, {\"x\": 9.621092796325684, \"y\": 6.312334060668945, \"labels\": \"close\"}, {\"x\": 8.767687797546387, \"y\": 6.931554794311523, \"labels\": \"consume\"}, {\"x\": 5.576099395751953, \"y\": 7.086160659790039, \"labels\": \"broken\"}, {\"x\": 5.975246429443359, \"y\": 4.812454700469971, \"labels\": \"raisin\"}, {\"x\": 8.586641311645508, \"y\": 3.126444101333618, \"labels\": \"user\"}, {\"x\": 7.465359210968018, \"y\": 6.727747440338135, \"labels\": \"risks\"}, {\"x\": 4.006319522857666, \"y\": 4.293585777282715, \"labels\": \"pecan\"}, {\"x\": 9.654133796691895, \"y\": 4.870633125305176, \"labels\": \"assumed\"}, {\"x\": 7.752961158752441, \"y\": 5.272599697113037, \"labels\": \"trichinosis\"}, {\"x\": 8.680344581604004, \"y\": 4.437446117401123, \"labels\": \"downvotes\"}, {\"x\": 4.595420837402344, \"y\": 5.602590084075928, \"labels\": \"bottles\"}, {\"x\": 7.177077293395996, \"y\": 6.133001327514648, \"labels\": \"wasteful\"}, {\"x\": 5.8676981925964355, \"y\": 7.908836364746094, \"labels\": \"rise\"}, {\"x\": 6.457040309906006, \"y\": 4.758879661560059, \"labels\": \"misinformation\"}, {\"x\": 8.199740409851074, \"y\": 2.7970690727233887, \"labels\": \"school\"}, {\"x\": 6.646536827087402, \"y\": 6.7080254554748535, \"labels\": \"regardless\"}, {\"x\": 6.551656246185303, \"y\": 3.512364625930786, \"labels\": \"pla\"}, {\"x\": 9.128592491149902, \"y\": 5.550883769989014, \"labels\": \"refreshing\"}, {\"x\": 2.6515417098999023, \"y\": 5.320773124694824, \"labels\": \"instead\"}, {\"x\": 4.992975234985352, \"y\": 6.097149848937988, \"labels\": \"sheets\"}, {\"x\": 8.508391380310059, \"y\": 2.791543483734131, \"labels\": \"meal\"}, {\"x\": 6.612066268920898, \"y\": 6.49267578125, \"labels\": \"granite\"}, {\"x\": 8.96722412109375, \"y\": 7.26354455947876, \"labels\": \"choose\"}, {\"x\": 10.425593376159668, \"y\": 5.637935638427734, \"labels\": \"too\"}, {\"x\": 2.2408945560455322, \"y\": 4.51553201675415, \"labels\": \"sriracha\"}, {\"x\": 8.490571022033691, \"y\": 4.896838665008545, \"labels\": \"hello\"}, {\"x\": 6.3563995361328125, \"y\": 7.4257683753967285, \"labels\": \"breaking\"}, {\"x\": 5.612176418304443, \"y\": 7.594116687774658, \"labels\": \"afterwards\"}, {\"x\": 6.947203636169434, \"y\": 3.44775652885437, \"labels\": \"wal\"}, {\"x\": 8.366071701049805, \"y\": 6.329446792602539, \"labels\": \"beginner\"}, {\"x\": 8.981728553771973, \"y\": 4.06722354888916, \"labels\": \"option\"}, {\"x\": 4.843571662902832, \"y\": 5.130122184753418, \"labels\": \"flavoured\"}, {\"x\": 2.2271077632904053, \"y\": 4.423360347747803, \"labels\": \"sour_cream\"}, {\"x\": 6.66618013381958, \"y\": 6.283282279968262, \"labels\": \"removed\"}, {\"x\": 2.1294498443603516, \"y\": 4.449380397796631, \"labels\": \"cream\"}, {\"x\": 9.746665954589844, \"y\": 6.007561683654785, \"labels\": \"hurt\"}, {\"x\": 7.511864185333252, \"y\": 4.291258811950684, \"labels\": \"former\"}, {\"x\": 5.687505722045898, \"y\": 6.465867519378662, \"labels\": \"mat\"}, {\"x\": 7.706052780151367, \"y\": 6.5171661376953125, \"labels\": \"developing\"}, {\"x\": 8.844353675842285, \"y\": 6.672855377197266, \"labels\": \"sugary\"}, {\"x\": 6.531644344329834, \"y\": 7.250621318817139, \"labels\": \"burns\"}, {\"x\": 2.94114351272583, \"y\": 5.146113872528076, \"labels\": \"extract\"}, {\"x\": 8.086556434631348, \"y\": 3.225980043411255, \"labels\": \"city\"}, {\"x\": 7.21066951751709, \"y\": 4.925568580627441, \"labels\": \"street\"}, {\"x\": 5.287288188934326, \"y\": 7.987531661987305, \"labels\": \"high\"}, {\"x\": 3.606945276260376, \"y\": 4.836052417755127, \"labels\": \"regular\"}, {\"x\": 5.531065940856934, \"y\": 5.144973278045654, \"labels\": \"naan\"}, {\"x\": 5.908666133880615, \"y\": 6.085757255554199, \"labels\": \"hog\"}, {\"x\": 7.667753219604492, \"y\": 5.887576580047607, \"labels\": \"cheers\"}, {\"x\": 8.536558151245117, \"y\": 6.6629862785339355, \"labels\": \"importantly\"}, {\"x\": 3.1440935134887695, \"y\": 5.199558258056641, \"labels\": \"citrus\"}, {\"x\": 8.664900779724121, \"y\": 5.51072883605957, \"labels\": \"expiration\"}, {\"x\": 4.850377082824707, \"y\": 4.514713764190674, \"labels\": \"tongue\"}, {\"x\": 10.223752975463867, \"y\": 5.975304126739502, \"labels\": \"quick\"}, {\"x\": 5.035914897918701, \"y\": 8.216574668884277, \"labels\": \"before\"}, {\"x\": 6.5507683753967285, \"y\": 6.770865440368652, \"labels\": \"acts\"}, {\"x\": 7.569271087646484, \"y\": 5.117086887359619, \"labels\": \"birthday\"}, {\"x\": 6.778254508972168, \"y\": 5.463876247406006, \"labels\": \"length\"}, {\"x\": 2.315049886703491, \"y\": 4.31890344619751, \"labels\": \"dressing\"}, {\"x\": 7.107832908630371, \"y\": 5.690401077270508, \"labels\": \"messed\"}, {\"x\": 6.918695449829102, \"y\": 3.2108566761016846, \"labels\": \"shopping\"}, {\"x\": 5.412398338317871, \"y\": 6.950983047485352, \"labels\": \"refrigerate\"}, {\"x\": 9.780172348022461, \"y\": 6.640006065368652, \"labels\": \"feel\"}, {\"x\": 8.303467750549316, \"y\": 2.843665599822998, \"labels\": \"many\"}, {\"x\": 6.731691360473633, \"y\": 6.683750152587891, \"labels\": \"membrane\"}, {\"x\": 8.93830394744873, \"y\": 6.188187122344971, \"labels\": \"generally\"}, {\"x\": 4.543955326080322, \"y\": 6.846011161804199, \"labels\": \"wedges\"}, {\"x\": 9.203328132629395, \"y\": 5.490936756134033, \"labels\": \"towards\"}, {\"x\": 4.948797225952148, \"y\": 6.664718151092529, \"labels\": \"charred\"}, {\"x\": 5.59671688079834, \"y\": 7.211566925048828, \"labels\": \"direct\"}, {\"x\": 8.734729766845703, \"y\": 3.24457049369812, \"labels\": \"gordon\"}, {\"x\": 6.684729099273682, \"y\": 5.325029373168945, \"labels\": \"contact\"}, {\"x\": 7.5764546394348145, \"y\": 6.148561954498291, \"labels\": \"manually\"}, {\"x\": 7.884495258331299, \"y\": 5.560431003570557, \"labels\": \"russian\"}, {\"x\": 9.376224517822266, \"y\": 5.48197603225708, \"labels\": \"hilarious\"}, {\"x\": 7.606670379638672, \"y\": 6.733278274536133, \"labels\": \"damage\"}, {\"x\": 7.552873611450195, \"y\": 6.3364386558532715, \"labels\": \"notch\"}, {\"x\": 6.447922229766846, \"y\": 4.177211761474609, \"labels\": \"variations\"}, {\"x\": 7.5472025871276855, \"y\": 4.67869234085083, \"labels\": \"manual\"}, {\"x\": 3.656006097793579, \"y\": 5.019406318664551, \"labels\": \"nuts\"}, {\"x\": 4.678130626678467, \"y\": 8.073033332824707, \"labels\": \"microwave\"}, {\"x\": 8.249829292297363, \"y\": 4.57744836807251, \"labels\": \"intolerance\"}, {\"x\": 8.518160820007324, \"y\": 4.6886138916015625, \"labels\": \"dedicated\"}, {\"x\": 10.454588890075684, \"y\": 5.680435657501221, \"labels\": \"good\"}, {\"x\": 8.355971336364746, \"y\": 7.142336368560791, \"labels\": \"subtle\"}, {\"x\": 6.855804443359375, \"y\": 3.1142756938934326, \"labels\": \"oliver\"}, {\"x\": 10.206591606140137, \"y\": 5.149651050567627, \"labels\": \"trying\"}, {\"x\": 7.24521017074585, \"y\": 6.186225414276123, \"labels\": \"donuts\"}, {\"x\": 6.629383087158203, \"y\": 5.990835666656494, \"labels\": \"reaction\"}, {\"x\": 6.100059509277344, \"y\": 4.421803951263428, \"labels\": \"key\"}, {\"x\": 6.637243270874023, \"y\": 6.56215763092041, \"labels\": \"hrs\"}, {\"x\": 6.778504848480225, \"y\": 5.472860336303711, \"labels\": \"appropriate\"}, {\"x\": 9.9926176071167, \"y\": 5.5508270263671875, \"labels\": \"although\"}, {\"x\": 1.780059814453125, \"y\": 4.8216633796691895, \"labels\": \"ginger\"}, {\"x\": 8.704031944274902, \"y\": 5.4638471603393555, \"labels\": \"basically\"}, {\"x\": 5.239602565765381, \"y\": 5.594483852386475, \"labels\": \"flower\"}, {\"x\": 3.166132926940918, \"y\": 4.4416985511779785, \"labels\": \"root\"}, {\"x\": 6.649300575256348, \"y\": 3.682093620300293, \"labels\": \"budgetbytes\"}, {\"x\": 10.287537574768066, \"y\": 4.851138114929199, \"labels\": \"since\"}, {\"x\": 7.5128936767578125, \"y\": 6.309935092926025, \"labels\": \"envy\"}, {\"x\": 10.401371955871582, \"y\": 5.148124694824219, \"labels\": \"wouldn\"}, {\"x\": 9.241479873657227, \"y\": 5.171370506286621, \"labels\": \"huh\"}, {\"x\": 8.011346817016602, \"y\": 5.722288131713867, \"labels\": \"paneer\"}, {\"x\": 6.822924613952637, \"y\": 5.346114158630371, \"labels\": \"eyes\"}, {\"x\": 9.215254783630371, \"y\": 7.188171863555908, \"labels\": \"want\"}, {\"x\": 10.013276100158691, \"y\": 4.070298671722412, \"labels\": \"op\"}, {\"x\": 6.9980034828186035, \"y\": 5.635735988616943, \"labels\": \"buffet\"}, {\"x\": 8.1900634765625, \"y\": 7.117044448852539, \"labels\": \"stuff\"}, {\"x\": 7.853668212890625, \"y\": 3.6279749870300293, \"labels\": \"chicago\"}, {\"x\": 2.513272762298584, \"y\": 4.38144588470459, \"labels\": \"greens\"}, {\"x\": 8.382465362548828, \"y\": 4.961476802825928, \"labels\": \"peasant\"}, {\"x\": 6.714879989624023, \"y\": 6.219050884246826, \"labels\": \"noticeable\"}, {\"x\": 8.142969131469727, \"y\": 7.4176812171936035, \"labels\": \"mess\"}, {\"x\": 6.835660934448242, \"y\": 6.818254470825195, \"labels\": \"ripen\"}, {\"x\": 5.661159992218018, \"y\": 7.88693380355835, \"labels\": \"lower\"}, {\"x\": 9.363001823425293, \"y\": 7.084120750427246, \"labels\": \"end_up\"}, {\"x\": 8.919174194335938, \"y\": 5.710812568664551, \"labels\": \"lacking\"}, {\"x\": 5.543790340423584, \"y\": 6.219224452972412, \"labels\": \"blood\"}, {\"x\": 8.52051067352295, \"y\": 5.112290859222412, \"labels\": \"harmful\"}, {\"x\": 8.006787300109863, \"y\": 7.172354698181152, \"labels\": \"retain\"}, {\"x\": 8.6846923828125, \"y\": 5.8809075355529785, \"labels\": \"allowed\"}, {\"x\": 10.02519702911377, \"y\": 5.009530544281006, \"labels\": \"personally\"}, {\"x\": 8.028020858764648, \"y\": 5.2569708824157715, \"labels\": \"drinking\"}, {\"x\": 4.566211700439453, \"y\": 5.083704471588135, \"labels\": \"gizzards\"}, {\"x\": 4.106127738952637, \"y\": 6.041226863861084, \"labels\": \"jars\"}, {\"x\": 7.72467041015625, \"y\": 5.148905277252197, \"labels\": \"import\"}, {\"x\": 5.105356693267822, \"y\": 7.123901844024658, \"labels\": \"tongs\"}, {\"x\": 2.381258964538574, \"y\": 4.2095746994018555, \"labels\": \"roasted\"}, {\"x\": 3.435004949569702, \"y\": 4.103304862976074, \"labels\": \"duck\"}, {\"x\": 5.390438079833984, \"y\": 5.499517917633057, \"labels\": \"mortar\"}, {\"x\": 9.597803115844727, \"y\": 3.746816396713257, \"labels\": \"child\"}, {\"x\": 9.207964897155762, \"y\": 3.0179526805877686, \"labels\": \"husband\"}, {\"x\": 7.493862628936768, \"y\": 5.906968116760254, \"labels\": \"treatment\"}, {\"x\": 8.770907402038574, \"y\": 3.176769256591797, \"labels\": \"children\"}, {\"x\": 7.323816299438477, \"y\": 5.760773181915283, \"labels\": \"stink\"}, {\"x\": 8.553964614868164, \"y\": 5.3085808753967285, \"labels\": \"impression\"}, {\"x\": 5.299169540405273, \"y\": 5.9283013343811035, \"labels\": \"formed\"}, {\"x\": 7.415465354919434, \"y\": 2.8448405265808105, \"labels\": \"at\"}, {\"x\": 5.176092624664307, \"y\": 6.93093729019165, \"labels\": \"caramelize\"}, {\"x\": 7.919927597045898, \"y\": 6.8874921798706055, \"labels\": \"gain\"}, {\"x\": 8.044629096984863, \"y\": 5.407230377197266, \"labels\": \"dc\"}, {\"x\": 5.582860946655273, \"y\": 5.3731536865234375, \"labels\": \"octopus\"}, {\"x\": 8.200716972351074, \"y\": 7.392322540283203, \"labels\": \"even\"}, {\"x\": 8.278877258300781, \"y\": 3.008507251739502, \"labels\": \"cookbooks\"}]}}, {\"mode\": \"vega-lite\"});\n",
              "</script>"
            ],
            "text/plain": [
              "alt.Chart(...)"
            ]
          },
          "execution_count": 50,
          "metadata": {},
          "output_type": "execute_result"
        }
      ],
      "source": [
        "# plot\n",
        "alt.Chart(df_plot).mark_circle(size=60).encode(\n",
        "    x='x',\n",
        "    y='y',\n",
        "    tooltip=['labels']\n",
        ").properties(\n",
        "    width=800,\n",
        "    height=600\n",
        ").interactive()"
      ]
    },
    {
      "cell_type": "markdown",
      "metadata": {
        "id": "l5PqPdQ-1ZGm"
      },
      "source": [
        "## Create sentence embeddings from our W2V model\n",
        "\n",
        "The final aim is to use the custom W2V embeddings to vectorize sentences\n",
        "We will look at average vectors and tfidf weighted avg. embeddings"
      ]
    },
    {
      "cell_type": "code",
      "execution_count": 51,
      "metadata": {
        "id": "NnMrUI9-DV-x"
      },
      "outputs": [],
      "source": [
        "test_sents = ['I love chicken super much with soy',\n",
        "              'I enjoy asian food, especially chicken',\n",
        "              'Give me cake', 'mexican food is amazing', \n",
        "              'I enjoy cuisine italian']"
      ]
    },
    {
      "cell_type": "markdown",
      "metadata": {
        "id": "6rk45Tw82I7m"
      },
      "source": [
        "### Average W2V vectors"
      ]
    },
    {
      "cell_type": "code",
      "execution_count": 52,
      "metadata": {
        "id": "iH7vW_CJEhCh"
      },
      "outputs": [],
      "source": [
        "# tokenize\n",
        "tokens = phrase_model[utils.simple_preprocess(test_sents[0])]"
      ]
    },
    {
      "cell_type": "code",
      "execution_count": 53,
      "metadata": {
        "id": "49ZKmF_1EwnD"
      },
      "outputs": [],
      "source": [
        "# filter out only those words that are part of the vocab\n",
        "tokens = [t for t in tokens if t in model.wv.key_to_index.keys()]"
      ]
    },
    {
      "cell_type": "code",
      "execution_count": 54,
      "metadata": {
        "id": "OjQy6-_8ExU7"
      },
      "outputs": [],
      "source": [
        "# create average-vectors\n",
        "avg_vec = np.average([model.wv[t] for t in tokens], axis=0)"
      ]
    },
    {
      "cell_type": "markdown",
      "metadata": {
        "id": "eIr84l6s15lS"
      },
      "source": [
        "let's package this process up into a vectorizer-function"
      ]
    },
    {
      "cell_type": "code",
      "execution_count": 55,
      "metadata": {
        "id": "AgqwnSESFr__"
      },
      "outputs": [],
      "source": [
        "def w2v_vectorize(text):\n",
        "  tokens = phrase_model[utils.simple_preprocess(text)] # preprocess just as model inputs\n",
        "  tokens = [t for t in tokens if t in model.wv.key_to_index.keys()] # filter only tokens that are in vocab\n",
        "  return np.average([model.wv[t] for t in tokens], axis=0) # calculate avg vector"
      ]
    },
    {
      "cell_type": "code",
      "execution_count": 56,
      "metadata": {
        "id": "5oBT2PDuGba4"
      },
      "outputs": [],
      "source": [
        "# it's a goof idea to stack them using numpy into a matrix\n",
        "vecs = np.vstack([w2v_vectorize(s) for s in test_sents])"
      ]
    },
    {
      "cell_type": "code",
      "execution_count": 57,
      "metadata": {
        "colab": {
          "base_uri": "https://localhost:8080/"
        },
        "id": "vZrrwfXWGOl7",
        "outputId": "3cddda39-4e5b-4a9e-fb87-8983954e2fd6"
      },
      "outputs": [
        {
          "data": {
            "text/plain": [
              "array([[0.99999994, 0.33225888, 0.19143194, 0.27539983, 0.33984554],\n",
              "       [0.33225888, 0.9999998 , 0.1990554 , 0.64899683, 0.6214321 ],\n",
              "       [0.19143194, 0.1990554 , 0.9999999 , 0.21739675, 0.28216696],\n",
              "       [0.27539983, 0.64899683, 0.21739675, 0.9999996 , 0.70198625],\n",
              "       [0.33984554, 0.6214321 , 0.28216696, 0.70198625, 1.0000002 ]],\n",
              "      dtype=float32)"
            ]
          },
          "execution_count": 57,
          "metadata": {},
          "output_type": "execute_result"
        }
      ],
      "source": [
        "# quick explaininng of the vectors (not really part of the code)\n",
        "from sklearn.metrics.pairwise import cosine_similarity\n",
        "cosine_similarity(vecs)"
      ]
    },
    {
      "cell_type": "markdown",
      "metadata": {
        "id": "_ijrfvUc2Ggg"
      },
      "source": [
        "### TFIDF weighted W2V Embeddings\n",
        "\n",
        "Very similar to avg-embeddings, however here we will use sklearn TfidfVectorizer (that one we already know) to weight our vecs\n",
        "The approach is a bit \"hacky\" but efficient"
      ]
    },
    {
      "cell_type": "code",
      "execution_count": 58,
      "metadata": {
        "id": "CqPGDRipIirt"
      },
      "outputs": [],
      "source": [
        "from sklearn.feature_extraction.text import TfidfVectorizer"
      ]
    },
    {
      "cell_type": "code",
      "execution_count": 59,
      "metadata": {
        "id": "AJhijzyt_3D5"
      },
      "outputs": [],
      "source": [
        "# function that does absolutely nothing...\n",
        "# cause we do prepro and tokenization in one using gensim, we will define it for prepro\n",
        "def dummy_fun(doc):\n",
        "    return doc"
      ]
    },
    {
      "cell_type": "code",
      "execution_count": 60,
      "metadata": {
        "colab": {
          "base_uri": "https://localhost:8080/"
        },
        "id": "WTWxNqKdKAzk",
        "outputId": "9573d02a-6f83-4677-f183-d3356bef9d10"
      },
      "outputs": [
        {
          "data": {
            "text/plain": [
              "[['love', 'chicken', 'super', 'much', 'with', 'soy'],\n",
              " ['enjoy', 'asian', 'food', 'especially', 'chicken'],\n",
              " ['give', 'me', 'cake'],\n",
              " ['mexican', 'food', 'is', 'amazing'],\n",
              " ['enjoy', 'cuisine', 'italian']]"
            ]
          },
          "execution_count": 60,
          "metadata": {},
          "output_type": "execute_result"
        }
      ],
      "source": [
        "[phrase_model[utils.simple_preprocess(text)] for text in test_sents]"
      ]
    },
    {
      "cell_type": "code",
      "execution_count": 61,
      "metadata": {
        "id": "BRhTvA39Jkzi"
      },
      "outputs": [],
      "source": [
        "# we define a preprocessing function to pass into the TfidfVectorizer\n",
        "def gensim_prepro(doc):\n",
        "  return phrase_model[utils.simple_preprocess(doc)]"
      ]
    },
    {
      "cell_type": "code",
      "execution_count": 62,
      "metadata": {
        "id": "4Nr9PLLr_5ox"
      },
      "outputs": [],
      "source": [
        "# we turn of any preprocessing and align vocabulary with the one\n",
        "# used by our embeddings\n",
        "# that will allow us to use TFIDF vectors to weight the embeddings\n",
        "\n",
        "tfidf_new_text = TfidfVectorizer(\n",
        "    vocabulary=model.wv.key_to_index.keys(), # here using the W2V vocab\n",
        "    tokenizer=dummy_fun,\n",
        "    preprocessor=gensim_prepro,\n",
        "    token_pattern=None)  "
      ]
    },
    {
      "cell_type": "code",
      "execution_count": 63,
      "metadata": {
        "id": "klAEuO17KK36"
      },
      "outputs": [],
      "source": [
        "# create TFIDF matrix (we could also just use that one for search)\n",
        "new_tfidf = tfidf_new_text.fit_transform(test_sents)"
      ]
    },
    {
      "cell_type": "code",
      "execution_count": 64,
      "metadata": {
        "colab": {
          "base_uri": "https://localhost:8080/"
        },
        "id": "isLYA0oAKNuu",
        "outputId": "4d424a03-37db-4c69-eba4-ebaaccd5d0c4"
      },
      "outputs": [
        {
          "data": {
            "text/plain": [
              "<5x4857 sparse matrix of type '<class 'numpy.float64'>'\n",
              "\twith 21 stored elements in Compressed Sparse Row format>"
            ]
          },
          "execution_count": 64,
          "metadata": {},
          "output_type": "execute_result"
        }
      ],
      "source": [
        "new_tfidf"
      ]
    },
    {
      "cell_type": "markdown",
      "metadata": {
        "id": "h4VM3Bwh24qm"
      },
      "source": [
        "This here is a cool little trick: Since N-columns for the TFIDF is the same as n-rows for our word-embeddings we can simply take a dot-product here.\n",
        "Another cool feature: this can be done sequentially for large datasets (when no space in ram)"
      ]
    },
    {
      "cell_type": "code",
      "execution_count": 65,
      "metadata": {
        "id": "6mcA211_KfbX"
      },
      "outputs": [],
      "source": [
        "# calculating TFIDF-weighted avg. embeddings\n",
        "test_w2v_tfidf = new_tfidf @ model.wv.vectors"
      ]
    },
    {
      "cell_type": "code",
      "execution_count": 66,
      "metadata": {
        "colab": {
          "base_uri": "https://localhost:8080/"
        },
        "id": "1a1Iz7K2KsIA",
        "outputId": "061bf0ef-7b6e-42b7-d2d7-a629a2ab4fb0"
      },
      "outputs": [
        {
          "data": {
            "text/plain": [
              "array([[1.        , 0.28100529, 0.20314774, 0.31770869, 0.34759816],\n",
              "       [0.28100529, 1.        , 0.18598448, 0.62465747, 0.64506126],\n",
              "       [0.20314774, 0.18598448, 1.        , 0.20873881, 0.24964549],\n",
              "       [0.31770869, 0.62465747, 0.20873881, 1.        , 0.71836449],\n",
              "       [0.34759816, 0.64506126, 0.24964549, 0.71836449, 1.        ]])"
            ]
          },
          "execution_count": 66,
          "metadata": {},
          "output_type": "execute_result"
        }
      ],
      "source": [
        "cosine_similarity(test_w2v_tfidf)"
      ]
    },
    {
      "cell_type": "markdown",
      "metadata": {
        "id": "55WP1y523Uzy"
      },
      "source": [
        "## Using these embeddings for semantic search\n",
        "We can use such embeddings (and others) for semantic search (similarity maximization) and also downstream in unsuprvised/supervised tasks."
      ]
    },
    {
      "cell_type": "code",
      "execution_count": 67,
      "metadata": {
        "id": "qnH5ZGW5Rdtj"
      },
      "outputs": [],
      "source": [
        "# create TFIDF matrix for all\n",
        "tfidf_all = tfidf_new_text.fit_transform(data['text'])"
      ]
    },
    {
      "cell_type": "code",
      "execution_count": 68,
      "metadata": {
        "id": "fAlFvbJ6RsKD"
      },
      "outputs": [],
      "source": [
        "# get vecs by dot-product\n",
        "tfidf_w2v_all = tfidf_all @ model.wv.vectors"
      ]
    },
    {
      "cell_type": "code",
      "execution_count": 69,
      "metadata": {
        "id": "FpiMq9GQRw0D"
      },
      "outputs": [],
      "source": [
        "# make query and transform it into same vector-space\n",
        "\n",
        "query = 'Steak egg'\n",
        "\n",
        "tfidf_q = tfidf_new_text.transform([query]) \n",
        "tfidf_w2v_q = tfidf_q @ model.wv.vectors"
      ]
    },
    {
      "cell_type": "code",
      "execution_count": 70,
      "metadata": {
        "id": "I9cwoccNUyz7"
      },
      "outputs": [],
      "source": [
        "# calculate cos-sim between the query and all vecs\n",
        "\n",
        "distances = cosine_similarity(tfidf_w2v_q,tfidf_w2v_all)"
      ]
    },
    {
      "cell_type": "code",
      "execution_count": 71,
      "metadata": {
        "colab": {
          "base_uri": "https://localhost:8080/"
        },
        "id": "P4Pw36GKUuUv",
        "outputId": "2c9a61f3-3f59-4c9a-bf2e-85723191bc4a"
      },
      "outputs": [
        {
          "data": {
            "text/plain": [
              "array([ 950, 5679, 3546, ..., 5576,  798, 6482])"
            ]
          },
          "execution_count": 71,
          "metadata": {},
          "output_type": "execute_result"
        }
      ],
      "source": [
        "# get corresponding texts\n",
        "ids = np.flip(np.argsort(distances))[0]\n",
        "ids"
      ]
    },
    {
      "cell_type": "code",
      "execution_count": 72,
      "metadata": {
        "colab": {
          "base_uri": "https://localhost:8080/"
        },
        "id": "w0zuI_BQUuKc",
        "outputId": "f026f510-3bc3-4416-e7f4-d15908a002fd"
      },
      "outputs": [
        {
          "name": "stdout",
          "output_type": "stream",
          "text": [
            "Malaysian-styled burger aka Ramly Burger. Basically beef patty wrapped in egg.\n",
            "Teriyaki steak bowls!!\n",
            "NJ porkroll egg and cheese on a Kaiser roll. Egg has to be runny.\n",
            "Steak\n",
            "A poached or sunny side up egg with a runny yolk is great on buttered toast. The yolk should not be watery, but slightly thickened, like cheese sauce. I also enjoy egg in soup. It cooks into threads. Stracciatella (sp) or chicken soup are good soups to add egg to.\n",
            "Gravy over rice and peas is what I serve with chicken fried steak. Shit is delicious.\n",
            "Oven baked lasagna is redundant.\n",
            "Egg-in-window.\n",
            "Frittatas Egg salad sandwiches Deviled eggs Crack 4 eggs in a water bottle (use a funnel),shake it up and freeze it for later Cobb salad Potato salad\n",
            "German oven pancakes! 6 eggs!\n"
          ]
        }
      ],
      "source": [
        "# print\n",
        "for ix in ids[:10]:\n",
        "  print(data['text'].values[ix])"
      ]
    },
    {
      "cell_type": "markdown",
      "metadata": {
        "id": "4dNpccay4Dzw"
      },
      "source": [
        "### Serialization\n",
        "\n",
        "Gensim models can be (ans should be) saved to disk after training."
      ]
    },
    {
      "cell_type": "code",
      "execution_count": 73,
      "metadata": {
        "colab": {
          "base_uri": "https://localhost:8080/"
        },
        "id": "24HXP-SDQgP2",
        "outputId": "e991b6b6-2276-46b6-e9ac-170faaf61fd1"
      },
      "outputs": [
        {
          "name": "stderr",
          "output_type": "stream",
          "text": [
            "2022-11-01 15:08:09,719 : INFO : Phrases lifecycle event {'fname_or_handle': 'bigram_model.m', 'separately': 'None', 'sep_limit': 10485760, 'ignore': frozenset(), 'datetime': '2022-11-01T15:08:09.719783', 'gensim': '4.2.0', 'python': '3.7.15 (default, Oct 12 2022, 19:14:55) \\n[GCC 7.5.0]', 'platform': 'Linux-5.10.133+-x86_64-with-Ubuntu-18.04-bionic', 'event': 'saving'}\n",
            "2022-11-01 15:08:09,818 : INFO : saved bigram_model.m\n"
          ]
        }
      ],
      "source": [
        "phrase_model.save('bigram_model.m')"
      ]
    },
    {
      "cell_type": "code",
      "execution_count": 74,
      "metadata": {
        "colab": {
          "base_uri": "https://localhost:8080/"
        },
        "id": "h8aZ260jGoK1",
        "outputId": "37f9aef3-764c-483a-845d-06fb29528149"
      },
      "outputs": [
        {
          "name": "stderr",
          "output_type": "stream",
          "text": [
            "2022-11-01 15:08:09,834 : INFO : Word2Vec lifecycle event {'fname_or_handle': 'w2v_food.m', 'separately': 'None', 'sep_limit': 10485760, 'ignore': frozenset(), 'datetime': '2022-11-01T15:08:09.834835', 'gensim': '4.2.0', 'python': '3.7.15 (default, Oct 12 2022, 19:14:55) \\n[GCC 7.5.0]', 'platform': 'Linux-5.10.133+-x86_64-with-Ubuntu-18.04-bionic', 'event': 'saving'}\n",
            "2022-11-01 15:08:09,840 : INFO : not storing attribute cum_table\n",
            "2022-11-01 15:08:09,874 : INFO : saved w2v_food.m\n"
          ]
        }
      ],
      "source": [
        "model.save('w2v_food.m')"
      ]
    },
    {
      "cell_type": "code",
      "execution_count": 75,
      "metadata": {
        "colab": {
          "base_uri": "https://localhost:8080/"
        },
        "id": "7mVoMzqGHhIX",
        "outputId": "bd106f51-b6d2-4b76-bc36-0b51aa853657"
      },
      "outputs": [
        {
          "name": "stderr",
          "output_type": "stream",
          "text": [
            "2022-11-01 15:08:09,885 : INFO : loading Word2Vec object from /content/w2v_food.m\n",
            "2022-11-01 15:08:09,907 : INFO : loading wv recursively from /content/w2v_food.m.wv.* with mmap=None\n",
            "2022-11-01 15:08:09,914 : INFO : setting ignored attribute cum_table to None\n",
            "2022-11-01 15:08:09,982 : INFO : Word2Vec lifecycle event {'fname': '/content/w2v_food.m', 'datetime': '2022-11-01T15:08:09.982258', 'gensim': '4.2.0', 'python': '3.7.15 (default, Oct 12 2022, 19:14:55) \\n[GCC 7.5.0]', 'platform': 'Linux-5.10.133+-x86_64-with-Ubuntu-18.04-bionic', 'event': 'loaded'}\n"
          ]
        }
      ],
      "source": [
        "g = Word2Vec.load('/content/w2v_food.m')"
      ]
    },
    {
      "cell_type": "code",
      "execution_count": 76,
      "metadata": {
        "colab": {
          "base_uri": "https://localhost:8080/"
        },
        "id": "oPJDNFiMHthR",
        "outputId": "82797af4-dfef-44f3-f6f5-d185655e2137"
      },
      "outputs": [
        {
          "data": {
            "text/plain": [
              "[('cloves', 0.819964587688446),\n",
              " ('celery', 0.7911463379859924),\n",
              " ('minced', 0.7880942225456238),\n",
              " ('carrots', 0.7792809009552002),\n",
              " ('chopped', 0.7780672907829285),\n",
              " ('onions', 0.7706136703491211),\n",
              " ('ginger', 0.770179271697998),\n",
              " ('cilantro', 0.769708514213562),\n",
              " ('unpeeled', 0.7607511878013611),\n",
              " ('olive_oil', 0.750318706035614)]"
            ]
          },
          "execution_count": 76,
          "metadata": {},
          "output_type": "execute_result"
        }
      ],
      "source": [
        "g.wv.most_similar('garlic')"
      ]
    }
  ],
  "metadata": {
    "colab": {
      "collapsed_sections": [],
      "provenance": []
    },
    "kernelspec": {
      "display_name": "Python 3.10.0 64-bit",
      "language": "python",
      "name": "python3"
    },
    "language_info": {
      "name": "python",
      "version": "3.10.0"
    },
    "vscode": {
      "interpreter": {
        "hash": "19f9ddf3622c0b1569490fd927172cf777b9021a692f6f37361c5e5933f47574"
      }
    }
  },
  "nbformat": 4,
  "nbformat_minor": 0
}

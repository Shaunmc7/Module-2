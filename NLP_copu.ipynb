{
  "cells": [
    {
      "cell_type": "markdown",
      "metadata": {
        "id": "dHWjyxICD2T2"
      },
      "source": [
        "### All the packages that will be needed for natural language processing"
      ]
    },
    {
      "cell_type": "code",
      "execution_count": 1,
      "metadata": {
        "colab": {
          "base_uri": "https://localhost:8080/"
        },
        "id": "0y4qSrKID2T7",
        "outputId": "3c7523eb-0b81-486d-a1f5-d6af33383516"
      },
      "outputs": [],
      "source": [
        "import matplotlib.pyplot as plt\n",
        "import pandas as pd\n",
        "import numpy as np\n",
        "import preprocessor as prepro # text prepro\n",
        "import tqdm #progress bar\n",
        "from gensim.models import LdaModel, CoherenceModel\n",
        "from gensim import corpora\n",
        "import seaborn as sns\n",
        "import spacy #spacy for quick language prepro\n",
        "nlp = spacy.load('en_core_web_sm') #instantiating English module\n",
        "\n",
        "# sampling, splitting\n",
        "from imblearn.under_sampling import RandomUnderSampler\n",
        "from sklearn.model_selection import train_test_split\n",
        "\n",
        "\n",
        "# loading ML libraries\n",
        "from sklearn.pipeline import make_pipeline #pipeline creation\n",
        "from sklearn.feature_extraction.text import TfidfVectorizer #transforms text to sparse matrix\n",
        "from sklearn.linear_model import LogisticRegression #Logit model\n",
        "from sklearn.metrics import classification_report #that's self explanatory\n",
        "from sklearn.decomposition import TruncatedSVD #dimensionality reduction\n",
        "from xgboost import XGBClassifier\n",
        "from sklearn.preprocessing import LabelEncoder\n",
        "import altair as alt #viz\n",
        "\n",
        "#explainability\n",
        "import eli5\n",
        "from eli5.lime import TextExplainer\n",
        "\n",
        "# topic modeling\n",
        "\n",
        "from gensim.corpora.dictionary import Dictionary # Import the dictionary builder\n",
        "from gensim.models import LdaMulticore # we'll use the faster multicore version of LDA\n",
        "\n",
        "# Import pyLDAvis\n",
        "import pyLDAvis\n",
        "import pyLDAvis.gensim_models as gensimvis\n",
        "\n",
        "%matplotlib inline\n",
        "pyLDAvis.enable_notebook()"
      ]
    },
    {
      "cell_type": "code",
      "execution_count": 2,
      "metadata": {
        "id": "vGXbQMWtD2T9"
      },
      "outputs": [],
      "source": [
        "# prepro settings\n",
        "# This is prob not relevant, since it has to do with tweets? \n",
        "# prepro.set_options(prepro.OPT.URL, prepro.OPT.NUMBER, prepro.OPT.RESERVED, prepro.OPT.MENTION, prepro.OPT.SMILEY)"
      ]
    },
    {
      "cell_type": "markdown",
      "metadata": {
        "id": "rcs7Hcz_D2T-"
      },
      "source": [
        "### Loading and appending the datasets"
      ]
    },
    {
      "cell_type": "code",
      "execution_count": 3,
      "metadata": {
        "id": "RWmzmswAD2T_"
      },
      "outputs": [],
      "source": [
        "scopus2022 = pd.read_csv('scopus 2022 2021.csv',  sep = ',')\n",
        "scopus = pd.read_csv('scopus.csv',  sep = ',')"
      ]
    },
    {
      "cell_type": "code",
      "execution_count": 4,
      "metadata": {
        "id": "EYEhZ0f-D2T_"
      },
      "outputs": [
        {
          "name": "stderr",
          "output_type": "stream",
          "text": [
            "C:\\Users\\maart\\AppData\\Local\\Temp\\ipykernel_19624\\3402760882.py:1: FutureWarning: The frame.append method is deprecated and will be removed from pandas in a future version. Use pandas.concat instead.\n",
            "  data = scopus2022.append(scopus, ignore_index=True)\n"
          ]
        }
      ],
      "source": [
        "data = scopus2022.append(scopus, ignore_index=True)"
      ]
    },
    {
      "cell_type": "code",
      "execution_count": 5,
      "metadata": {
        "colab": {
          "base_uri": "https://localhost:8080/",
          "height": 1000
        },
        "id": "knEto1MsD2UA",
        "outputId": "d85d89c7-00c9-4cda-d36c-b26a1d683d8b"
      },
      "outputs": [
        {
          "data": {
            "text/html": [
              "<div>\n",
              "<style scoped>\n",
              "    .dataframe tbody tr th:only-of-type {\n",
              "        vertical-align: middle;\n",
              "    }\n",
              "\n",
              "    .dataframe tbody tr th {\n",
              "        vertical-align: top;\n",
              "    }\n",
              "\n",
              "    .dataframe thead th {\n",
              "        text-align: right;\n",
              "    }\n",
              "</style>\n",
              "<table border=\"1\" class=\"dataframe\">\n",
              "  <thead>\n",
              "    <tr style=\"text-align: right;\">\n",
              "      <th></th>\n",
              "      <th>Authors</th>\n",
              "      <th>Author(s) ID</th>\n",
              "      <th>Title</th>\n",
              "      <th>Year</th>\n",
              "      <th>Source title</th>\n",
              "      <th>Volume</th>\n",
              "      <th>Issue</th>\n",
              "      <th>Art. No.</th>\n",
              "      <th>Page start</th>\n",
              "      <th>Page end</th>\n",
              "      <th>...</th>\n",
              "      <th>ISBN</th>\n",
              "      <th>CODEN</th>\n",
              "      <th>PubMed ID</th>\n",
              "      <th>Language of Original Document</th>\n",
              "      <th>Abbreviated Source Title</th>\n",
              "      <th>Document Type</th>\n",
              "      <th>Publication Stage</th>\n",
              "      <th>Open Access</th>\n",
              "      <th>Source</th>\n",
              "      <th>EID</th>\n",
              "    </tr>\n",
              "  </thead>\n",
              "  <tbody>\n",
              "    <tr>\n",
              "      <th>0</th>\n",
              "      <td>Yang T., Zhang X.</td>\n",
              "      <td>57907798100;56342888200;</td>\n",
              "      <td>FinTech adoption and financial inclusion: Evid...</td>\n",
              "      <td>2022</td>\n",
              "      <td>Journal of Banking and Finance</td>\n",
              "      <td>145</td>\n",
              "      <td>NaN</td>\n",
              "      <td>106668</td>\n",
              "      <td>NaN</td>\n",
              "      <td>NaN</td>\n",
              "      <td>...</td>\n",
              "      <td>NaN</td>\n",
              "      <td>JBFID</td>\n",
              "      <td>NaN</td>\n",
              "      <td>English</td>\n",
              "      <td>J. Bank. Financ.</td>\n",
              "      <td>Article</td>\n",
              "      <td>Final</td>\n",
              "      <td>NaN</td>\n",
              "      <td>Scopus</td>\n",
              "      <td>2-s2.0-85138806241</td>\n",
              "    </tr>\n",
              "    <tr>\n",
              "      <th>1</th>\n",
              "      <td>Wang X., Wang Y., Zhao Y.</td>\n",
              "      <td>57193015825;57901727900;57901783600;</td>\n",
              "      <td>Financial permeation and rural poverty reducti...</td>\n",
              "      <td>2022</td>\n",
              "      <td>China Economic Review</td>\n",
              "      <td>76</td>\n",
              "      <td>NaN</td>\n",
              "      <td>101863</td>\n",
              "      <td>NaN</td>\n",
              "      <td>NaN</td>\n",
              "      <td>...</td>\n",
              "      <td>NaN</td>\n",
              "      <td>NaN</td>\n",
              "      <td>NaN</td>\n",
              "      <td>English</td>\n",
              "      <td>China Econ. Rev.</td>\n",
              "      <td>Article</td>\n",
              "      <td>Final</td>\n",
              "      <td>NaN</td>\n",
              "      <td>Scopus</td>\n",
              "      <td>2-s2.0-85138589769</td>\n",
              "    </tr>\n",
              "    <tr>\n",
              "      <th>2</th>\n",
              "      <td>Dzandu M.D., Hanu C., Amegbe H.</td>\n",
              "      <td>56590001600;57201152816;57194904537;</td>\n",
              "      <td>Gamification of mobile money payment for gener...</td>\n",
              "      <td>2022</td>\n",
              "      <td>Technological Forecasting and Social Change</td>\n",
              "      <td>185</td>\n",
              "      <td>NaN</td>\n",
              "      <td>122049</td>\n",
              "      <td>NaN</td>\n",
              "      <td>NaN</td>\n",
              "      <td>...</td>\n",
              "      <td>NaN</td>\n",
              "      <td>NaN</td>\n",
              "      <td>NaN</td>\n",
              "      <td>English</td>\n",
              "      <td>Technol. Forecast. Soc. Change</td>\n",
              "      <td>Article</td>\n",
              "      <td>Final</td>\n",
              "      <td>All Open Access, Hybrid Gold, Green</td>\n",
              "      <td>Scopus</td>\n",
              "      <td>2-s2.0-85138450268</td>\n",
              "    </tr>\n",
              "    <tr>\n",
              "      <th>3</th>\n",
              "      <td>Grassi L., Fantaccini S.</td>\n",
              "      <td>57192656409;57895835500;</td>\n",
              "      <td>An overview of Fintech applications to solve t...</td>\n",
              "      <td>2022</td>\n",
              "      <td>Financial Innovation</td>\n",
              "      <td>8</td>\n",
              "      <td>1</td>\n",
              "      <td>84</td>\n",
              "      <td>NaN</td>\n",
              "      <td>NaN</td>\n",
              "      <td>...</td>\n",
              "      <td>NaN</td>\n",
              "      <td>NaN</td>\n",
              "      <td>NaN</td>\n",
              "      <td>English</td>\n",
              "      <td>Financial Innov.</td>\n",
              "      <td>Article</td>\n",
              "      <td>Final</td>\n",
              "      <td>All Open Access, Gold, Green</td>\n",
              "      <td>Scopus</td>\n",
              "      <td>2-s2.0-85138286241</td>\n",
              "    </tr>\n",
              "    <tr>\n",
              "      <th>4</th>\n",
              "      <td>DeFusco A.A., Tang H., Yannelis C.</td>\n",
              "      <td>57193852071;57890330600;55413678100;</td>\n",
              "      <td>Measuring the welfare cost of asymmetric infor...</td>\n",
              "      <td>2022</td>\n",
              "      <td>Journal of Financial Economics</td>\n",
              "      <td>146</td>\n",
              "      <td>3</td>\n",
              "      <td>NaN</td>\n",
              "      <td>821</td>\n",
              "      <td>840.0</td>\n",
              "      <td>...</td>\n",
              "      <td>NaN</td>\n",
              "      <td>JFECD</td>\n",
              "      <td>NaN</td>\n",
              "      <td>English</td>\n",
              "      <td>J. Financ. Econ.</td>\n",
              "      <td>Article</td>\n",
              "      <td>Final</td>\n",
              "      <td>NaN</td>\n",
              "      <td>Scopus</td>\n",
              "      <td>2-s2.0-85138101180</td>\n",
              "    </tr>\n",
              "    <tr>\n",
              "      <th>...</th>\n",
              "      <td>...</td>\n",
              "      <td>...</td>\n",
              "      <td>...</td>\n",
              "      <td>...</td>\n",
              "      <td>...</td>\n",
              "      <td>...</td>\n",
              "      <td>...</td>\n",
              "      <td>...</td>\n",
              "      <td>...</td>\n",
              "      <td>...</td>\n",
              "      <td>...</td>\n",
              "      <td>...</td>\n",
              "      <td>...</td>\n",
              "      <td>...</td>\n",
              "      <td>...</td>\n",
              "      <td>...</td>\n",
              "      <td>...</td>\n",
              "      <td>...</td>\n",
              "      <td>...</td>\n",
              "      <td>...</td>\n",
              "      <td>...</td>\n",
              "    </tr>\n",
              "    <tr>\n",
              "      <th>3395</th>\n",
              "      <td>Fayard E.H.</td>\n",
              "      <td>35072693600;</td>\n",
              "      <td>ACC pressure cleaning</td>\n",
              "      <td>2010</td>\n",
              "      <td>Power Engineering (Barrington, Illinois)</td>\n",
              "      <td>114</td>\n",
              "      <td>5</td>\n",
              "      <td>NaN</td>\n",
              "      <td>22</td>\n",
              "      <td>NaN</td>\n",
              "      <td>...</td>\n",
              "      <td>NaN</td>\n",
              "      <td>POENA</td>\n",
              "      <td>NaN</td>\n",
              "      <td>English</td>\n",
              "      <td>Power Eng. Barrington Ill</td>\n",
              "      <td>Short Survey</td>\n",
              "      <td>Final</td>\n",
              "      <td>NaN</td>\n",
              "      <td>Scopus</td>\n",
              "      <td>2-s2.0-77953829082</td>\n",
              "    </tr>\n",
              "    <tr>\n",
              "      <th>3396</th>\n",
              "      <td>Dassanayake M.M.K., Tilakarathne C.</td>\n",
              "      <td>57221353725;55762978100;</td>\n",
              "      <td>Predicting trading signals of Sri Lankan stock...</td>\n",
              "      <td>2010</td>\n",
              "      <td>Technological Developments in Networking, Educ...</td>\n",
              "      <td>NaN</td>\n",
              "      <td>NaN</td>\n",
              "      <td>NaN</td>\n",
              "      <td>269</td>\n",
              "      <td>273</td>\n",
              "      <td>...</td>\n",
              "      <td>9789048191505</td>\n",
              "      <td>NaN</td>\n",
              "      <td>NaN</td>\n",
              "      <td>English</td>\n",
              "      <td>Technol. Dev. Networking, Educ. Autom.</td>\n",
              "      <td>Conference Paper</td>\n",
              "      <td>Final</td>\n",
              "      <td>NaN</td>\n",
              "      <td>Scopus</td>\n",
              "      <td>2-s2.0-84878897261</td>\n",
              "    </tr>\n",
              "    <tr>\n",
              "      <th>3397</th>\n",
              "      <td>Hao H.-N.</td>\n",
              "      <td>36617357100;</td>\n",
              "      <td>Notice of Retraction: Short-term forecasting o...</td>\n",
              "      <td>2010</td>\n",
              "      <td>Proceedings - 2010 6th International Conferenc...</td>\n",
              "      <td>4</td>\n",
              "      <td>NaN</td>\n",
              "      <td>5584528</td>\n",
              "      <td>1838</td>\n",
              "      <td>1841</td>\n",
              "      <td>...</td>\n",
              "      <td>9781424459612</td>\n",
              "      <td>NaN</td>\n",
              "      <td>NaN</td>\n",
              "      <td>English</td>\n",
              "      <td>Proc. - Int. Conf. Nat. Comput., ICNC</td>\n",
              "      <td>Retracted</td>\n",
              "      <td>Final</td>\n",
              "      <td>NaN</td>\n",
              "      <td>Scopus</td>\n",
              "      <td>2-s2.0-78149350510</td>\n",
              "    </tr>\n",
              "    <tr>\n",
              "      <th>3398</th>\n",
              "      <td>Ma Z.-X., Zhang W.</td>\n",
              "      <td>55479146300;56621528900;</td>\n",
              "      <td>Notice of Retraction: An discrimination resear...</td>\n",
              "      <td>2010</td>\n",
              "      <td>ICAMS 2010 - Proceedings of 2010 IEEE Internat...</td>\n",
              "      <td>3</td>\n",
              "      <td>NaN</td>\n",
              "      <td>5553273</td>\n",
              "      <td>116</td>\n",
              "      <td>119</td>\n",
              "      <td>...</td>\n",
              "      <td>9781424469291</td>\n",
              "      <td>NaN</td>\n",
              "      <td>NaN</td>\n",
              "      <td>English</td>\n",
              "      <td>ICAMS - Proc. IEEE Int. Conf. Adv. Manage. Sci.</td>\n",
              "      <td>Retracted</td>\n",
              "      <td>Final</td>\n",
              "      <td>NaN</td>\n",
              "      <td>Scopus</td>\n",
              "      <td>2-s2.0-77957273781</td>\n",
              "    </tr>\n",
              "    <tr>\n",
              "      <th>3399</th>\n",
              "      <td>Danial S.N., Noor S.R., Usmani B.A., Zaidi S.J.H.</td>\n",
              "      <td>24823887800;24825002200;26666352700;57549810600;</td>\n",
              "      <td>A dynamical system and neural network perspect...</td>\n",
              "      <td>2008</td>\n",
              "      <td>Communications in Computer and Information Sci...</td>\n",
              "      <td>20 CCIS</td>\n",
              "      <td>NaN</td>\n",
              "      <td>NaN</td>\n",
              "      <td>88</td>\n",
              "      <td>99</td>\n",
              "      <td>...</td>\n",
              "      <td>3540898522; 9783540898528</td>\n",
              "      <td>NaN</td>\n",
              "      <td>NaN</td>\n",
              "      <td>English</td>\n",
              "      <td>Commun. Comput. Info. Sci.</td>\n",
              "      <td>Conference Paper</td>\n",
              "      <td>Final</td>\n",
              "      <td>NaN</td>\n",
              "      <td>Scopus</td>\n",
              "      <td>2-s2.0-85099426338</td>\n",
              "    </tr>\n",
              "  </tbody>\n",
              "</table>\n",
              "<p>3400 rows × 54 columns</p>\n",
              "</div>"
            ],
            "text/plain": [
              "                                                Authors  \\\n",
              "0                                     Yang T., Zhang X.   \n",
              "1                             Wang X., Wang Y., Zhao Y.   \n",
              "2                       Dzandu M.D., Hanu C., Amegbe H.   \n",
              "3                              Grassi L., Fantaccini S.   \n",
              "4                    DeFusco A.A., Tang H., Yannelis C.   \n",
              "...                                                 ...   \n",
              "3395                                        Fayard E.H.   \n",
              "3396                Dassanayake M.M.K., Tilakarathne C.   \n",
              "3397                                          Hao H.-N.   \n",
              "3398                                 Ma Z.-X., Zhang W.   \n",
              "3399  Danial S.N., Noor S.R., Usmani B.A., Zaidi S.J.H.   \n",
              "\n",
              "                                          Author(s) ID  \\\n",
              "0                             57907798100;56342888200;   \n",
              "1                 57193015825;57901727900;57901783600;   \n",
              "2                 56590001600;57201152816;57194904537;   \n",
              "3                             57192656409;57895835500;   \n",
              "4                 57193852071;57890330600;55413678100;   \n",
              "...                                                ...   \n",
              "3395                                      35072693600;   \n",
              "3396                          57221353725;55762978100;   \n",
              "3397                                      36617357100;   \n",
              "3398                          55479146300;56621528900;   \n",
              "3399  24823887800;24825002200;26666352700;57549810600;   \n",
              "\n",
              "                                                  Title  Year  \\\n",
              "0     FinTech adoption and financial inclusion: Evid...  2022   \n",
              "1     Financial permeation and rural poverty reducti...  2022   \n",
              "2     Gamification of mobile money payment for gener...  2022   \n",
              "3     An overview of Fintech applications to solve t...  2022   \n",
              "4     Measuring the welfare cost of asymmetric infor...  2022   \n",
              "...                                                 ...   ...   \n",
              "3395                              ACC pressure cleaning  2010   \n",
              "3396  Predicting trading signals of Sri Lankan stock...  2010   \n",
              "3397  Notice of Retraction: Short-term forecasting o...  2010   \n",
              "3398  Notice of Retraction: An discrimination resear...  2010   \n",
              "3399  A dynamical system and neural network perspect...  2008   \n",
              "\n",
              "                                           Source title   Volume Issue  \\\n",
              "0                        Journal of Banking and Finance      145   NaN   \n",
              "1                                 China Economic Review       76   NaN   \n",
              "2           Technological Forecasting and Social Change      185   NaN   \n",
              "3                                  Financial Innovation        8     1   \n",
              "4                        Journal of Financial Economics      146     3   \n",
              "...                                                 ...      ...   ...   \n",
              "3395           Power Engineering (Barrington, Illinois)      114     5   \n",
              "3396  Technological Developments in Networking, Educ...      NaN   NaN   \n",
              "3397  Proceedings - 2010 6th International Conferenc...        4   NaN   \n",
              "3398  ICAMS 2010 - Proceedings of 2010 IEEE Internat...        3   NaN   \n",
              "3399  Communications in Computer and Information Sci...  20 CCIS   NaN   \n",
              "\n",
              "     Art. No. Page start Page end  ...                       ISBN  CODEN  \\\n",
              "0      106668        NaN      NaN  ...                        NaN  JBFID   \n",
              "1      101863        NaN      NaN  ...                        NaN    NaN   \n",
              "2      122049        NaN      NaN  ...                        NaN    NaN   \n",
              "3          84        NaN      NaN  ...                        NaN    NaN   \n",
              "4         NaN        821    840.0  ...                        NaN  JFECD   \n",
              "...       ...        ...      ...  ...                        ...    ...   \n",
              "3395      NaN         22      NaN  ...                        NaN  POENA   \n",
              "3396      NaN        269      273  ...              9789048191505    NaN   \n",
              "3397  5584528       1838     1841  ...              9781424459612    NaN   \n",
              "3398  5553273        116      119  ...              9781424469291    NaN   \n",
              "3399      NaN         88       99  ...  3540898522; 9783540898528    NaN   \n",
              "\n",
              "     PubMed ID Language of Original Document  \\\n",
              "0          NaN                       English   \n",
              "1          NaN                       English   \n",
              "2          NaN                       English   \n",
              "3          NaN                       English   \n",
              "4          NaN                       English   \n",
              "...        ...                           ...   \n",
              "3395       NaN                       English   \n",
              "3396       NaN                       English   \n",
              "3397       NaN                       English   \n",
              "3398       NaN                       English   \n",
              "3399       NaN                       English   \n",
              "\n",
              "                             Abbreviated Source Title     Document Type  \\\n",
              "0                                    J. Bank. Financ.           Article   \n",
              "1                                    China Econ. Rev.           Article   \n",
              "2                      Technol. Forecast. Soc. Change           Article   \n",
              "3                                    Financial Innov.           Article   \n",
              "4                                    J. Financ. Econ.           Article   \n",
              "...                                               ...               ...   \n",
              "3395                        Power Eng. Barrington Ill      Short Survey   \n",
              "3396           Technol. Dev. Networking, Educ. Autom.  Conference Paper   \n",
              "3397            Proc. - Int. Conf. Nat. Comput., ICNC         Retracted   \n",
              "3398  ICAMS - Proc. IEEE Int. Conf. Adv. Manage. Sci.         Retracted   \n",
              "3399                       Commun. Comput. Info. Sci.  Conference Paper   \n",
              "\n",
              "     Publication Stage                          Open Access  Source  \\\n",
              "0                Final                                  NaN  Scopus   \n",
              "1                Final                                  NaN  Scopus   \n",
              "2                Final  All Open Access, Hybrid Gold, Green  Scopus   \n",
              "3                Final         All Open Access, Gold, Green  Scopus   \n",
              "4                Final                                  NaN  Scopus   \n",
              "...                ...                                  ...     ...   \n",
              "3395             Final                                  NaN  Scopus   \n",
              "3396             Final                                  NaN  Scopus   \n",
              "3397             Final                                  NaN  Scopus   \n",
              "3398             Final                                  NaN  Scopus   \n",
              "3399             Final                                  NaN  Scopus   \n",
              "\n",
              "                     EID  \n",
              "0     2-s2.0-85138806241  \n",
              "1     2-s2.0-85138589769  \n",
              "2     2-s2.0-85138450268  \n",
              "3     2-s2.0-85138286241  \n",
              "4     2-s2.0-85138101180  \n",
              "...                  ...  \n",
              "3395  2-s2.0-77953829082  \n",
              "3396  2-s2.0-84878897261  \n",
              "3397  2-s2.0-78149350510  \n",
              "3398  2-s2.0-77957273781  \n",
              "3399  2-s2.0-85099426338  \n",
              "\n",
              "[3400 rows x 54 columns]"
            ]
          },
          "execution_count": 5,
          "metadata": {},
          "output_type": "execute_result"
        }
      ],
      "source": [
        "data"
      ]
    },
    {
      "cell_type": "code",
      "execution_count": 6,
      "metadata": {
        "colab": {
          "base_uri": "https://localhost:8080/"
        },
        "id": "mQN6X2TfD2UB",
        "outputId": "17a6cdab-1bc8-4c3b-a53b-ea87c8f20c34"
      },
      "outputs": [
        {
          "name": "stdout",
          "output_type": "stream",
          "text": [
            "<class 'pandas.core.frame.DataFrame'>\n",
            "RangeIndex: 3400 entries, 0 to 3399\n",
            "Data columns (total 54 columns):\n",
            " #   Column                         Non-Null Count  Dtype  \n",
            "---  ------                         --------------  -----  \n",
            " 0   Authors                        3400 non-null   object \n",
            " 1   Author(s) ID                   3399 non-null   object \n",
            " 2   Title                          3400 non-null   object \n",
            " 3   Year                           3400 non-null   int64  \n",
            " 4   Source title                   3400 non-null   object \n",
            " 5   Volume                         2320 non-null   object \n",
            " 6   Issue                          1426 non-null   object \n",
            " 7   Art. No.                       1051 non-null   object \n",
            " 8   Page start                     2336 non-null   object \n",
            " 9   Page end                       2326 non-null   object \n",
            " 10  Page count                     38 non-null     float64\n",
            " 11  Cited by                       2164 non-null   float64\n",
            " 12  DOI                            2972 non-null   object \n",
            " 13  Link                           3400 non-null   object \n",
            " 14  Affiliations                   3305 non-null   object \n",
            " 15  Authors with affiliations      3342 non-null   object \n",
            " 16  Abstract                       3400 non-null   object \n",
            " 17  Author Keywords                2781 non-null   object \n",
            " 18  Index Keywords                 1616 non-null   object \n",
            " 19  Molecular Sequence Numbers     0 non-null      float64\n",
            " 20  Chemicals/CAS                  4 non-null      object \n",
            " 21  Tradenames                     0 non-null      float64\n",
            " 22  Manufacturers                  0 non-null      float64\n",
            " 23  Funding Details                827 non-null    object \n",
            " 24  Funding Text 1                 1039 non-null   object \n",
            " 25  Funding Text 2                 141 non-null    object \n",
            " 26  Funding Text 3                 7 non-null      object \n",
            " 27  Funding Text 4                 1 non-null      object \n",
            " 28  Funding Text 5                 1 non-null      object \n",
            " 29  Funding Text 6                 1 non-null      object \n",
            " 30  Funding Text 7                 1 non-null      object \n",
            " 31  Funding Text 8                 0 non-null      float64\n",
            " 32  Funding Text 9                 0 non-null      float64\n",
            " 33  Funding Text 10                0 non-null      float64\n",
            " 34  References                     3212 non-null   object \n",
            " 35  Correspondence Address         2354 non-null   object \n",
            " 36  Editors                        491 non-null    object \n",
            " 37  Sponsors                       319 non-null    object \n",
            " 38  Publisher                      3394 non-null   object \n",
            " 39  Conference name                1063 non-null   object \n",
            " 40  Conference date                1062 non-null   object \n",
            " 41  Conference location            3 non-null      object \n",
            " 42  Conference code                1065 non-null   float64\n",
            " 43  ISSN                           2540 non-null   object \n",
            " 44  ISBN                           1174 non-null   object \n",
            " 45  CODEN                          276 non-null    object \n",
            " 46  PubMed ID                      36 non-null     float64\n",
            " 47  Language of Original Document  3400 non-null   object \n",
            " 48  Abbreviated Source Title       3396 non-null   object \n",
            " 49  Document Type                  3400 non-null   object \n",
            " 50  Publication Stage              3400 non-null   object \n",
            " 51  Open Access                    1097 non-null   object \n",
            " 52  Source                         3400 non-null   object \n",
            " 53  EID                            3400 non-null   object \n",
            "dtypes: float64(10), int64(1), object(43)\n",
            "memory usage: 1.4+ MB\n"
          ]
        }
      ],
      "source": [
        "data.info()"
      ]
    },
    {
      "cell_type": "code",
      "execution_count": 7,
      "metadata": {
        "colab": {
          "base_uri": "https://localhost:8080/",
          "height": 393
        },
        "id": "YCYShS4LD2UC",
        "outputId": "5d0a5975-1205-47ac-8686-0662dddb61ff"
      },
      "outputs": [
        {
          "data": {
            "text/html": [
              "<div>\n",
              "<style scoped>\n",
              "    .dataframe tbody tr th:only-of-type {\n",
              "        vertical-align: middle;\n",
              "    }\n",
              "\n",
              "    .dataframe tbody tr th {\n",
              "        vertical-align: top;\n",
              "    }\n",
              "\n",
              "    .dataframe thead th {\n",
              "        text-align: right;\n",
              "    }\n",
              "</style>\n",
              "<table border=\"1\" class=\"dataframe\">\n",
              "  <thead>\n",
              "    <tr style=\"text-align: right;\">\n",
              "      <th></th>\n",
              "      <th>Authors</th>\n",
              "      <th>Author(s) ID</th>\n",
              "      <th>Title</th>\n",
              "      <th>Source title</th>\n",
              "      <th>Volume</th>\n",
              "      <th>Issue</th>\n",
              "      <th>Art. No.</th>\n",
              "      <th>Page start</th>\n",
              "      <th>Page end</th>\n",
              "      <th>DOI</th>\n",
              "      <th>...</th>\n",
              "      <th>ISSN</th>\n",
              "      <th>ISBN</th>\n",
              "      <th>CODEN</th>\n",
              "      <th>Language of Original Document</th>\n",
              "      <th>Abbreviated Source Title</th>\n",
              "      <th>Document Type</th>\n",
              "      <th>Publication Stage</th>\n",
              "      <th>Open Access</th>\n",
              "      <th>Source</th>\n",
              "      <th>EID</th>\n",
              "    </tr>\n",
              "  </thead>\n",
              "  <tbody>\n",
              "    <tr>\n",
              "      <th>count</th>\n",
              "      <td>3400</td>\n",
              "      <td>3399</td>\n",
              "      <td>3400</td>\n",
              "      <td>3400</td>\n",
              "      <td>2320</td>\n",
              "      <td>1426</td>\n",
              "      <td>1051</td>\n",
              "      <td>2336</td>\n",
              "      <td>2326</td>\n",
              "      <td>2972</td>\n",
              "      <td>...</td>\n",
              "      <td>2540</td>\n",
              "      <td>1174</td>\n",
              "      <td>276</td>\n",
              "      <td>3400</td>\n",
              "      <td>3396</td>\n",
              "      <td>3400</td>\n",
              "      <td>3400</td>\n",
              "      <td>1097</td>\n",
              "      <td>3400</td>\n",
              "      <td>3400</td>\n",
              "    </tr>\n",
              "    <tr>\n",
              "      <th>unique</th>\n",
              "      <td>3167</td>\n",
              "      <td>3156</td>\n",
              "      <td>3389</td>\n",
              "      <td>1455</td>\n",
              "      <td>495</td>\n",
              "      <td>81</td>\n",
              "      <td>1023</td>\n",
              "      <td>1013</td>\n",
              "      <td>1369</td>\n",
              "      <td>2969</td>\n",
              "      <td>...</td>\n",
              "      <td>949</td>\n",
              "      <td>821</td>\n",
              "      <td>124</td>\n",
              "      <td>4</td>\n",
              "      <td>1429</td>\n",
              "      <td>13</td>\n",
              "      <td>2</td>\n",
              "      <td>7</td>\n",
              "      <td>1</td>\n",
              "      <td>3400</td>\n",
              "    </tr>\n",
              "    <tr>\n",
              "      <th>top</th>\n",
              "      <td>[No author name available]</td>\n",
              "      <td>[No author id available]</td>\n",
              "      <td>Introduction</td>\n",
              "      <td>ACM International Conference Proceeding Series</td>\n",
              "      <td>8</td>\n",
              "      <td>1</td>\n",
              "      <td>8</td>\n",
              "      <td>1</td>\n",
              "      <td>20</td>\n",
              "      <td>10.1142/9789811235825_0003</td>\n",
              "      <td>...</td>\n",
              "      <td>21945357</td>\n",
              "      <td>9781799832591; 9781799832577</td>\n",
              "      <td>JEBUD</td>\n",
              "      <td>English</td>\n",
              "      <td>ACM Int. Conf. Proc. Ser.</td>\n",
              "      <td>Article</td>\n",
              "      <td>Final</td>\n",
              "      <td>All Open Access, Gold</td>\n",
              "      <td>Scopus</td>\n",
              "      <td>2-s2.0-85138806241</td>\n",
              "    </tr>\n",
              "    <tr>\n",
              "      <th>freq</th>\n",
              "      <td>58</td>\n",
              "      <td>58</td>\n",
              "      <td>4</td>\n",
              "      <td>93</td>\n",
              "      <td>95</td>\n",
              "      <td>322</td>\n",
              "      <td>4</td>\n",
              "      <td>158</td>\n",
              "      <td>11</td>\n",
              "      <td>2</td>\n",
              "      <td>...</td>\n",
              "      <td>53</td>\n",
              "      <td>15</td>\n",
              "      <td>15</td>\n",
              "      <td>3395</td>\n",
              "      <td>93</td>\n",
              "      <td>1770</td>\n",
              "      <td>3241</td>\n",
              "      <td>278</td>\n",
              "      <td>3400</td>\n",
              "      <td>1</td>\n",
              "    </tr>\n",
              "  </tbody>\n",
              "</table>\n",
              "<p>4 rows × 43 columns</p>\n",
              "</div>"
            ],
            "text/plain": [
              "                           Authors              Author(s) ID         Title  \\\n",
              "count                         3400                      3399          3400   \n",
              "unique                        3167                      3156          3389   \n",
              "top     [No author name available]  [No author id available]  Introduction   \n",
              "freq                            58                        58             4   \n",
              "\n",
              "                                          Source title Volume Issue Art. No.  \\\n",
              "count                                             3400   2320  1426     1051   \n",
              "unique                                            1455    495    81     1023   \n",
              "top     ACM International Conference Proceeding Series      8     1        8   \n",
              "freq                                                93     95   322        4   \n",
              "\n",
              "       Page start Page end                         DOI  ...      ISSN  \\\n",
              "count        2336     2326                        2972  ...      2540   \n",
              "unique       1013     1369                        2969  ...       949   \n",
              "top             1       20  10.1142/9789811235825_0003  ...  21945357   \n",
              "freq          158       11                           2  ...        53   \n",
              "\n",
              "                                ISBN  CODEN Language of Original Document  \\\n",
              "count                           1174    276                          3400   \n",
              "unique                           821    124                             4   \n",
              "top     9781799832591; 9781799832577  JEBUD                       English   \n",
              "freq                              15     15                          3395   \n",
              "\n",
              "         Abbreviated Source Title Document Type Publication Stage  \\\n",
              "count                        3396          3400              3400   \n",
              "unique                       1429            13                 2   \n",
              "top     ACM Int. Conf. Proc. Ser.       Article             Final   \n",
              "freq                           93          1770              3241   \n",
              "\n",
              "                  Open Access  Source                 EID  \n",
              "count                    1097    3400                3400  \n",
              "unique                      7       1                3400  \n",
              "top     All Open Access, Gold  Scopus  2-s2.0-85138806241  \n",
              "freq                      278    3400                   1  \n",
              "\n",
              "[4 rows x 43 columns]"
            ]
          },
          "execution_count": 7,
          "metadata": {},
          "output_type": "execute_result"
        }
      ],
      "source": [
        "data.describe(include='object')\n"
      ]
    },
    {
      "cell_type": "code",
      "execution_count": 8,
      "metadata": {
        "colab": {
          "base_uri": "https://localhost:8080/"
        },
        "id": "SYzDPh3DD2UC",
        "outputId": "10e9ec8f-765d-42ba-dee1-0afd5455ebb6"
      },
      "outputs": [
        {
          "data": {
            "text/plain": [
              "0       Consumption; Consumption inequality; Credit co...\n",
              "1       Bank branch expansion; Financial permeation; F...\n",
              "2       Customer value; FinTech; Gamification; Marketi...\n",
              "3       Crowdfunding; Fintech; Health crowdfunding; He...\n",
              "4       Asymmetric information; Consumer credit; Exper...\n",
              "                              ...                        \n",
              "3395                                                  NaN\n",
              "3396                                                  NaN\n",
              "3397    Genetic-neural network; Short-term forecasting...\n",
              "3398    Discrimination analysis; Insider trading; Mark...\n",
              "3399    correlation dimension; KSE-100 index returns; ...\n",
              "Name: Author Keywords, Length: 3400, dtype: object"
            ]
          },
          "execution_count": 8,
          "metadata": {},
          "output_type": "execute_result"
        }
      ],
      "source": [
        "data['Author Keywords']"
      ]
    },
    {
      "cell_type": "code",
      "execution_count": 9,
      "metadata": {
        "id": "yjWVXlCDD2UD"
      },
      "outputs": [],
      "source": [
        "data = data[['Authors', 'Author(s) ID','Title', 'Abstract','Year', 'Source title', 'Author Keywords']]"
      ]
    },
    {
      "cell_type": "code",
      "execution_count": 10,
      "metadata": {
        "colab": {
          "base_uri": "https://localhost:8080/"
        },
        "id": "x--8o2WVD2UF",
        "outputId": "c4f7fd9a-8dae-4d1c-fa8d-70f3918edc65"
      },
      "outputs": [
        {
          "name": "stderr",
          "output_type": "stream",
          "text": [
            "C:\\Users\\maart\\AppData\\Local\\Temp\\ipykernel_19624\\3149525087.py:1: SettingWithCopyWarning: \n",
            "A value is trying to be set on a copy of a slice from a DataFrame.\n",
            "Try using .loc[row_indexer,col_indexer] = value instead\n",
            "\n",
            "See the caveats in the documentation: https://pandas.pydata.org/pandas-docs/stable/user_guide/indexing.html#returning-a-view-versus-a-copy\n",
            "  data['Author Keywords'] = data['Author Keywords'].astype({'Author Keywords':'string'})\n"
          ]
        }
      ],
      "source": [
        "data['Author Keywords'] = data['Author Keywords'].astype({'Author Keywords':'string'})"
      ]
    },
    {
      "cell_type": "code",
      "execution_count": 11,
      "metadata": {
        "colab": {
          "base_uri": "https://localhost:8080/"
        },
        "id": "iDHNpWAjD2UF",
        "outputId": "953aae9d-70d5-43a8-b687-8f71377ff4a0"
      },
      "outputs": [
        {
          "data": {
            "text/plain": [
              "0       Consumption; Consumption inequality; Credit co...\n",
              "1       Bank branch expansion; Financial permeation; F...\n",
              "2       Customer value; FinTech; Gamification; Marketi...\n",
              "3       Crowdfunding; Fintech; Health crowdfunding; He...\n",
              "4       Asymmetric information; Consumer credit; Exper...\n",
              "                              ...                        \n",
              "3395                                                 <NA>\n",
              "3396                                                 <NA>\n",
              "3397    Genetic-neural network; Short-term forecasting...\n",
              "3398    Discrimination analysis; Insider trading; Mark...\n",
              "3399    correlation dimension; KSE-100 index returns; ...\n",
              "Name: Author Keywords, Length: 3400, dtype: string"
            ]
          },
          "execution_count": 11,
          "metadata": {},
          "output_type": "execute_result"
        }
      ],
      "source": [
        "data['Author Keywords']"
      ]
    },
    {
      "cell_type": "code",
      "execution_count": 12,
      "metadata": {
        "colab": {
          "base_uri": "https://localhost:8080/"
        },
        "id": "TnzWSAxKD2UG",
        "outputId": "83cfa5ee-d5ed-4e2d-a527-cc0e4fe13705"
      },
      "outputs": [
        {
          "name": "stderr",
          "output_type": "stream",
          "text": [
            "C:\\Users\\maart\\AppData\\Local\\Temp\\ipykernel_19624\\339833404.py:1: SettingWithCopyWarning: \n",
            "A value is trying to be set on a copy of a slice from a DataFrame\n",
            "\n",
            "See the caveats in the documentation: https://pandas.pydata.org/pandas-docs/stable/user_guide/indexing.html#returning-a-view-versus-a-copy\n",
            "  data.dropna(inplace = True)\n"
          ]
        }
      ],
      "source": [
        "data.dropna(inplace = True)"
      ]
    },
    {
      "cell_type": "code",
      "execution_count": 13,
      "metadata": {
        "colab": {
          "base_uri": "https://localhost:8080/"
        },
        "id": "pwv-tn6OD2UH",
        "outputId": "c7fd7287-93f8-45fd-9a39-da5f8e5978f0"
      },
      "outputs": [
        {
          "data": {
            "text/plain": [
              "0    Consumption; Consumption inequality; Credit co...\n",
              "1    Bank branch expansion; Financial permeation; F...\n",
              "2    Customer value; FinTech; Gamification; Marketi...\n",
              "3    Crowdfunding; Fintech; Health crowdfunding; He...\n",
              "4    Asymmetric information; Consumer credit; Exper...\n",
              "Name: Author Keywords, dtype: string"
            ]
          },
          "execution_count": 13,
          "metadata": {},
          "output_type": "execute_result"
        }
      ],
      "source": [
        "data['Author Keywords'].head()"
      ]
    },
    {
      "cell_type": "code",
      "execution_count": 14,
      "metadata": {
        "colab": {
          "base_uri": "https://localhost:8080/"
        },
        "id": "ZW9FiCqHD2UH",
        "outputId": "69163f0b-0efe-4658-de35-7c12e9387cd6"
      },
      "outputs": [
        {
          "data": {
            "text/plain": [
              "False    2781\n",
              "Name: Author Keywords, dtype: int64"
            ]
          },
          "execution_count": 14,
          "metadata": {},
          "output_type": "execute_result"
        }
      ],
      "source": [
        "data['Author Keywords'].isnull().value_counts()"
      ]
    },
    {
      "cell_type": "markdown",
      "metadata": {},
      "source": [
        "#### Preprocessing the data for Author Keywords column"
      ]
    },
    {
      "cell_type": "code",
      "execution_count": 15,
      "metadata": {
        "colab": {
          "base_uri": "https://localhost:8080/"
        },
        "id": "WoV_x76oD2UI",
        "outputId": "67f67105-7742-4d55-8404-261707aef854"
      },
      "outputs": [
        {
          "name": "stderr",
          "output_type": "stream",
          "text": [
            "  0%|          | 0/2781 [00:00<?, ?it/s]c:\\Users\\maart\\anaconda3\\lib\\site-packages\\spacy\\pipeline\\lemmatizer.py:211: UserWarning: [W108] The rule-based lemmatizer did not find POS annotation for one or more tokens. Check that your pipeline includes components that assign token.pos, typically 'tagger'+'attribute_ruler' or 'morphologizer'.\n",
            "  warnings.warn(Warnings.W108)\n",
            " 92%|█████████▏| 2561/2781 [00:01<00:00, 1483.06it/s]"
          ]
        }
      ],
      "source": [
        "# run progress bar and clean up using spacy but without some heavy parts of the pipeline\n",
        "\n",
        "clean_text = []\n",
        "\n",
        "pbar = tqdm.tqdm(total=len(data['Author Keywords']),position=0, leave=True)\n",
        "\n",
        "for text in nlp.pipe(data['Author Keywords'], disable=[\"tagger\", \"parser\", \"ner\"]):\n",
        "\n",
        "  txt = [token.lemma_.lower() for token in text \n",
        "         if token.is_alpha \n",
        "         and not token.is_stop \n",
        "         and not token.is_punct]\n",
        "\n",
        "  clean_text.append(\" \".join(txt))\n",
        "\n",
        "  pbar.update(1)"
      ]
    },
    {
      "cell_type": "code",
      "execution_count": 16,
      "metadata": {
        "id": "NtkljYgFD2UJ"
      },
      "outputs": [],
      "source": [
        "# write everything into one function that can be re-used later\n",
        "def text_prepro(texts):\n",
        "  \"\"\"\n",
        "  takes in a pandas series (1 column of a DF)\n",
        "  removes twitter stuff\n",
        "  lowercases, normalizes text\n",
        "  \"\"\"\n",
        "  texts_clean = texts.map(lambda t: prepro.clean(t))\n",
        "  clean_container = []\n",
        "\n",
        "  pbar = tqdm.tqdm(total=len(texts_clean),position=0, leave=True)\n",
        "\n",
        "  for text in nlp.pipe(texts_clean, disable=[\"tagger\", \"parser\", \"ner\"]):\n",
        "\n",
        "    txt = [token.lemma_.lower() for token in text \n",
        "          if token.is_alpha \n",
        "          and not token.is_stop \n",
        "          and not token.is_punct]\n",
        "\n",
        "    clean_container.append(\" \".join(txt))\n",
        "    pbar.update(1)\n",
        "  \n",
        "  return clean_container"
      ]
    },
    {
      "cell_type": "code",
      "execution_count": 17,
      "metadata": {
        "colab": {
          "base_uri": "https://localhost:8080/",
          "height": 352
        },
        "id": "gJk3hNMXD2UJ",
        "outputId": "e89801e3-6284-474e-9bbf-f1a6463c5b8e"
      },
      "outputs": [
        {
          "name": "stderr",
          "output_type": "stream",
          "text": [
            "100%|██████████| 2781/2781 [00:02<00:00, 1277.34it/s]\n",
            "C:\\Users\\maart\\AppData\\Local\\Temp\\ipykernel_19624\\4189515260.py:2: SettingWithCopyWarning: \n",
            "A value is trying to be set on a copy of a slice from a DataFrame.\n",
            "Try using .loc[row_indexer,col_indexer] = value instead\n",
            "\n",
            "See the caveats in the documentation: https://pandas.pydata.org/pandas-docs/stable/user_guide/indexing.html#returning-a-view-versus-a-copy\n",
            "  data['Author_Keywords'] = text_prepro(data['Author Keywords'])\n"
          ]
        }
      ],
      "source": [
        "# apply all prepro-pipeline to texts\n",
        "data['Author_Keywords'] = text_prepro(data['Author Keywords'])"
      ]
    },
    {
      "cell_type": "code",
      "execution_count": 18,
      "metadata": {
        "id": "a-AavgpuD2UK"
      },
      "outputs": [],
      "source": [
        "# preprocess texts (we need tokens)\n",
        "tokens = []\n",
        "\n",
        "for summary in nlp.pipe(data['Author Keywords'], disable=[\"ner\"]):\n",
        "  proj_tok = [token.lemma_.lower() for token in summary \n",
        "              if token.pos_ in ['NOUN', 'PROPN', 'ADJ', 'ADV'] \n",
        "              and not token.is_stop\n",
        "              and not token.is_punct] \n",
        "  tokens.append(proj_tok)"
      ]
    },
    {
      "cell_type": "code",
      "execution_count": 19,
      "metadata": {
        "colab": {
          "base_uri": "https://localhost:8080/"
        },
        "id": "e8W1SJLHD2UK",
        "outputId": "103d6e32-14fe-4f21-fe0f-c6422e45d4fc"
      },
      "outputs": [
        {
          "name": "stderr",
          "output_type": "stream",
          "text": [
            "C:\\Users\\maart\\AppData\\Local\\Temp\\ipykernel_19624\\2173657068.py:1: SettingWithCopyWarning: \n",
            "A value is trying to be set on a copy of a slice from a DataFrame.\n",
            "Try using .loc[row_indexer,col_indexer] = value instead\n",
            "\n",
            "See the caveats in the documentation: https://pandas.pydata.org/pandas-docs/stable/user_guide/indexing.html#returning-a-view-versus-a-copy\n",
            "  data['tokens'] = tokens\n"
          ]
        }
      ],
      "source": [
        "data['tokens'] = tokens"
      ]
    },
    {
      "cell_type": "code",
      "execution_count": 20,
      "metadata": {
        "id": "AKurUUVyD2UK"
      },
      "outputs": [],
      "source": [
        "# Create a Dictionary from the articles: dictionary\n",
        "dictionary = Dictionary(data['tokens'])\n",
        "dictionary.filter_extremes(no_below=50, no_above=0.5, keep_n=1000)\n",
        "# construct corpus using this dictionary\n",
        "corpus = [dictionary.doc2bow(doc) for doc in data['tokens']]"
      ]
    },
    {
      "cell_type": "markdown",
      "metadata": {},
      "source": [
        "#### Preprocessing the data for Abstract column"
      ]
    },
    {
      "cell_type": "code",
      "execution_count": 21,
      "metadata": {},
      "outputs": [
        {
          "name": "stderr",
          "output_type": "stream",
          "text": [
            "  0%|          | 0/2781 [00:00<?, ?it/s]c:\\Users\\maart\\anaconda3\\lib\\site-packages\\spacy\\pipeline\\lemmatizer.py:211: UserWarning: [W108] The rule-based lemmatizer did not find POS annotation for one or more tokens. Check that your pipeline includes components that assign token.pos, typically 'tagger'+'attribute_ruler' or 'morphologizer'.\n",
            "  warnings.warn(Warnings.W108)\n",
            " 99%|█████████▉| 2755/2781 [00:27<00:00, 187.56it/s]]"
          ]
        }
      ],
      "source": [
        "# run progress bar and clean up using spacy but without some heavy parts of the pipeline\n",
        "\n",
        "clean_text_2 = []\n",
        "\n",
        "pbar_2 = tqdm.tqdm(total=len(data['Abstract']),position=0, leave=True)\n",
        "\n",
        "for text_2 in nlp.pipe(data['Abstract'], disable=[\"tagger\", \"parser\", \"ner\"]):\n",
        "\n",
        "  txt_2 = [token_2.lemma_.lower() for token_2 in text_2 \n",
        "         if token_2.is_alpha \n",
        "         and not token_2.is_stop \n",
        "         and not token_2.is_punct]\n",
        "\n",
        "  clean_text.append(\" \".join(txt_2))\n",
        "\n",
        "  pbar_2.update(1)"
      ]
    },
    {
      "cell_type": "code",
      "execution_count": 22,
      "metadata": {},
      "outputs": [],
      "source": [
        "# write everything into one function that can be re-used later\n",
        "def text_prepro_2(texts_2):\n",
        "  \"\"\"\n",
        "  takes in a pandas series (1 column of a DF)\n",
        "  removes twitter stuff\n",
        "  lowercases, normalizes text\n",
        "  \"\"\"\n",
        "  texts_clean_2 = texts_2.map(lambda t: prepro.clean(t))\n",
        "  clean_container_2 = []\n",
        "\n",
        "  pbar_2 = tqdm.tqdm(total=len(texts_clean_2),position=0, leave=True)\n",
        "\n",
        "  for text_2 in nlp.pipe(texts_clean_2, disable=[\"tagger\", \"parser\", \"ner\"]):\n",
        "\n",
        "    txt_2 = [token_2.lemma_.lower() for token_2 in text_2 \n",
        "          if token_2.is_alpha \n",
        "          and not token_2.is_stop \n",
        "          and not token_2.is_punct]\n",
        "\n",
        "    clean_container_2.append(\" \".join(txt_2))\n",
        "    pbar_2.update(1)\n",
        "  \n",
        "  return clean_container_2"
      ]
    },
    {
      "cell_type": "code",
      "execution_count": 23,
      "metadata": {},
      "outputs": [
        {
          "name": "stderr",
          "output_type": "stream",
          "text": [
            "100%|██████████| 2781/2781 [00:23<00:00, 117.66it/s]\n",
            "C:\\Users\\maart\\AppData\\Local\\Temp\\ipykernel_19624\\41527334.py:2: SettingWithCopyWarning: \n",
            "A value is trying to be set on a copy of a slice from a DataFrame.\n",
            "Try using .loc[row_indexer,col_indexer] = value instead\n",
            "\n",
            "See the caveats in the documentation: https://pandas.pydata.org/pandas-docs/stable/user_guide/indexing.html#returning-a-view-versus-a-copy\n",
            "  data['Abstract'] = text_prepro_2(data['Abstract'])\n"
          ]
        }
      ],
      "source": [
        "# apply all prepro-pipeline to texts\n",
        "data['Abstract'] = text_prepro_2(data['Abstract'])"
      ]
    },
    {
      "cell_type": "code",
      "execution_count": 24,
      "metadata": {},
      "outputs": [],
      "source": [
        "# preprocess texts (we need tokens)\n",
        "tokens_2 = []\n",
        "\n",
        "for summary in nlp.pipe(data['Abstract'], disable=[\"ner\"]):\n",
        "  proj_tok_2 = [token_2.lemma_.lower() for token_2 in summary \n",
        "              if token_2.pos_ in ['NOUN', 'PROPN', 'ADJ', 'ADV'] \n",
        "              and not token_2.is_stop\n",
        "              and not token_2.is_punct] \n",
        "  tokens_2.append(proj_tok_2)"
      ]
    },
    {
      "cell_type": "code",
      "execution_count": 25,
      "metadata": {},
      "outputs": [
        {
          "name": "stderr",
          "output_type": "stream",
          "text": [
            "C:\\Users\\maart\\AppData\\Local\\Temp\\ipykernel_19624\\2808454871.py:1: SettingWithCopyWarning: \n",
            "A value is trying to be set on a copy of a slice from a DataFrame.\n",
            "Try using .loc[row_indexer,col_indexer] = value instead\n",
            "\n",
            "See the caveats in the documentation: https://pandas.pydata.org/pandas-docs/stable/user_guide/indexing.html#returning-a-view-versus-a-copy\n",
            "  data['tokens_2'] = tokens_2\n"
          ]
        }
      ],
      "source": [
        "data['tokens_2'] = tokens_2"
      ]
    },
    {
      "cell_type": "code",
      "execution_count": 26,
      "metadata": {},
      "outputs": [],
      "source": [
        "# Create a Dictionary from the articles: dictionary\n",
        "dictionary_2 = Dictionary(data['tokens_2'])\n",
        "dictionary_2.filter_extremes(no_below=50, no_above=0.5, keep_n=1000)\n",
        "# construct corpus using this dictionary\n",
        "corpus_2 = [dictionary_2.doc2bow(doc) for doc in data['tokens_2']]"
      ]
    },
    {
      "cell_type": "markdown",
      "metadata": {
        "id": "aCKrV34cD2UL"
      },
      "source": [
        "### UML"
      ]
    },
    {
      "cell_type": "code",
      "execution_count": 27,
      "metadata": {
        "id": "3OKlgESCD2UM"
      },
      "outputs": [],
      "source": [
        "#Importing UML packages\n",
        "from sklearn.preprocessing import StandardScaler\n",
        "scaler = StandardScaler()"
      ]
    },
    {
      "cell_type": "code",
      "execution_count": 28,
      "metadata": {
        "id": "ovV4NSyPD2UM"
      },
      "outputs": [],
      "source": [
        "from sklearn.feature_extraction.text import TfidfVectorizer\n",
        "tfidf = TfidfVectorizer(ngram_range=(1,2))"
      ]
    },
    {
      "cell_type": "code",
      "execution_count": 29,
      "metadata": {
        "id": "YWzy_-KsD2UM"
      },
      "outputs": [],
      "source": [
        "sparse_matrix =tfidf.fit_transform(data['Author Keywords'])"
      ]
    },
    {
      "cell_type": "code",
      "execution_count": 30,
      "metadata": {
        "id": "mnjUBuuJD2UM"
      },
      "outputs": [],
      "source": [
        "#Import nmf\n",
        "from sklearn.decomposition import NMF"
      ]
    },
    {
      "cell_type": "code",
      "execution_count": 31,
      "metadata": {
        "id": "qqpaks72D2UN"
      },
      "outputs": [],
      "source": [
        "#Using 4 components in order to determine relevancy\n",
        "nmf = NMF(n_components=7)"
      ]
    },
    {
      "cell_type": "code",
      "execution_count": 32,
      "metadata": {
        "colab": {
          "base_uri": "https://localhost:8080/"
        },
        "id": "5hAIGSzXD2UN",
        "outputId": "cc9f9c93-2c9d-445d-8bb9-d782d2d3a67f"
      },
      "outputs": [],
      "source": [
        "matrix_nmf = nmf.fit_transform(sparse_matrix)"
      ]
    },
    {
      "cell_type": "code",
      "execution_count": 33,
      "metadata": {
        "colab": {
          "base_uri": "https://localhost:8080/"
        },
        "id": "yOjxxkydD2UP",
        "outputId": "734859f0-5b23-46f1-8d9f-c7ae69ff3244"
      },
      "outputs": [
        {
          "data": {
            "text/plain": [
              "(2781,)"
            ]
          },
          "execution_count": 33,
          "metadata": {},
          "output_type": "execute_result"
        }
      ],
      "source": [
        "data['Author Keywords'].shape"
      ]
    },
    {
      "cell_type": "code",
      "execution_count": 34,
      "metadata": {
        "colab": {
          "base_uri": "https://localhost:8080/"
        },
        "id": "ZgVcAgrED2UP",
        "outputId": "c62b9841-4436-4150-ab42-e14e140d1514"
      },
      "outputs": [
        {
          "data": {
            "text/plain": [
              "(7, 18632)"
            ]
          },
          "execution_count": 34,
          "metadata": {},
          "output_type": "execute_result"
        }
      ],
      "source": [
        "nmf.components_.shape"
      ]
    },
    {
      "cell_type": "code",
      "execution_count": 35,
      "metadata": {
        "colab": {
          "base_uri": "https://localhost:8080/"
        },
        "id": "FCdYh81jD2UR",
        "outputId": "918c470b-ac33-452b-871b-6fac73d33bad"
      },
      "outputs": [
        {
          "data": {
            "text/plain": [
              "(2781, 7)"
            ]
          },
          "execution_count": 35,
          "metadata": {},
          "output_type": "execute_result"
        }
      ],
      "source": [
        "matrix_nmf.shape"
      ]
    },
    {
      "cell_type": "code",
      "execution_count": 36,
      "metadata": {
        "id": "5DhD_DV1D2UT"
      },
      "outputs": [
        {
          "data": {
            "text/plain": [
              "<AxesSubplot:>"
            ]
          },
          "execution_count": 36,
          "metadata": {},
          "output_type": "execute_result"
        },
        {
          "data": {
            "image/png": "[encoded data removed]",
            "text/plain": [
              "<Figure size 1440x216 with 2 Axes>"
            ]
          },
          "metadata": {
            "needs_background": "light"
          },
          "output_type": "display_data"
        }
      ],
      "source": [
        "#2 components are more relevant\n",
        "plt.figure(figsize=(20,3))\n",
        "\n",
        "sns.heatmap(pd.DataFrame(matrix_nmf, columns=['PC1','PC2','PC3','PC4','PC5', 'PC6', 'PC7']), annot=True)"
      ]
    },
    {
      "cell_type": "code",
      "execution_count": null,
      "metadata": {},
      "outputs": [],
      "source": []
    },
    {
      "cell_type": "markdown",
      "metadata": {},
      "source": [
        "### LDA For Abstract"
      ]
    },
    {
      "cell_type": "code",
      "execution_count": 37,
      "metadata": {},
      "outputs": [],
      "source": [
        "lda_model_2 = LdaMulticore(corpus_2, id2word=dictionary_2, num_topics=7, workers = 6, passes=10, random_state = 60)"
      ]
    },
    {
      "cell_type": "code",
      "execution_count": 38,
      "metadata": {},
      "outputs": [
        {
          "name": "stderr",
          "output_type": "stream",
          "text": [
            "c:\\Users\\maart\\anaconda3\\lib\\site-packages\\pyLDAvis\\_prepare.py:246: FutureWarning: In a future version of pandas all arguments of DataFrame.drop except for the argument 'labels' will be keyword-only.\n",
            "  default_term_info = default_term_info.sort_values(\n"
          ]
        }
      ],
      "source": [
        "# Let's try to visualize\n",
        "lda_display_2 = pyLDAvis.gensim_models.prepare(lda_model_2, corpus_2, dictionary_2)"
      ]
    },
    {
      "cell_type": "code",
      "execution_count": 39,
      "metadata": {},
      "outputs": [],
      "source": [
        " # Let's Visualize\n",
        "pyLDAvis.display(lda_display_2)"
      ]
    },
    {
      "cell_type": "code",
      "execution_count": 40,
      "metadata": {},
      "outputs": [],
      "source": [
        "topic_dist_2 = lda_model_2[corpus_2]"
      ]
    },
    {
      "cell_type": "code",
      "execution_count": 41,
      "metadata": {},
      "outputs": [
        {
          "name": "stderr",
          "output_type": "stream",
          "text": [
            "C:\\Users\\maart\\AppData\\Local\\Temp\\ipykernel_19624\\1577890192.py:7: SettingWithCopyWarning: \n",
            "A value is trying to be set on a copy of a slice from a DataFrame.\n",
            "Try using .loc[row_indexer,col_indexer] = value instead\n",
            "\n",
            "See the caveats in the documentation: https://pandas.pydata.org/pandas-docs/stable/user_guide/indexing.html#returning-a-view-versus-a-copy\n",
            "  data['Topic Distribution_2'] = dist_2\n"
          ]
        }
      ],
      "source": [
        "dist_2 = []\n",
        "\n",
        "for t_2 in topic_dist_2:\n",
        "    dist_2.append(t_2)  \n",
        "    \n",
        "# add list to the data frame\n",
        "data['Topic Distribution_2'] = dist_2"
      ]
    },
    {
      "cell_type": "code",
      "execution_count": 42,
      "metadata": {},
      "outputs": [],
      "source": [
        "data.reset_index(inplace=True)"
      ]
    },
    {
      "cell_type": "code",
      "execution_count": 43,
      "metadata": {},
      "outputs": [
        {
          "name": "stderr",
          "output_type": "stream",
          "text": [
            "C:\\Users\\maart\\AppData\\Local\\Temp\\ipykernel_19624\\1200667996.py:4: SettingWithCopyWarning: \n",
            "A value is trying to be set on a copy of a slice from a DataFrame.\n",
            "Try using .loc[row_indexer,col_indexer] = value instead\n",
            "\n",
            "See the caveats in the documentation: https://pandas.pydata.org/pandas-docs/stable/user_guide/indexing.html#returning-a-view-versus-a-copy\n",
            "  data['topic_num_2'] = list_topicnum_2\n"
          ]
        }
      ],
      "source": [
        "list_topicnum_2 = []\n",
        "for itm in range(len(data)):\n",
        "    list_topicnum_2.append(sorted(data['Topic Distribution_2'][itm], key=lambda tup: tup[1], reverse=True)[0][0])\n",
        "data['topic_num_2'] = list_topicnum_2"
      ]
    },
    {
      "cell_type": "code",
      "execution_count": 44,
      "metadata": {},
      "outputs": [
        {
          "data": {
            "text/plain": [
              "4    537\n",
              "2    484\n",
              "5    475\n",
              "1    367\n",
              "3    346\n",
              "6    312\n",
              "0    260\n",
              "Name: topic_num_2, dtype: int64"
            ]
          },
          "execution_count": 44,
          "metadata": {},
          "output_type": "execute_result"
        }
      ],
      "source": [
        "#Checking if we need to fix the distribution of the data\n",
        "data['topic_num_2'].value_counts()"
      ]
    },
    {
      "cell_type": "markdown",
      "metadata": {},
      "source": [
        "### LDA For Author Keywords"
      ]
    },
    {
      "cell_type": "code",
      "execution_count": 45,
      "metadata": {},
      "outputs": [],
      "source": [
        "lda_model = LdaMulticore(corpus, id2word=dictionary, num_topics=7, workers = 6, passes=10, random_state = 60)"
      ]
    },
    {
      "cell_type": "code",
      "execution_count": 46,
      "metadata": {},
      "outputs": [
        {
          "name": "stderr",
          "output_type": "stream",
          "text": [
            "c:\\Users\\maart\\anaconda3\\lib\\site-packages\\pyLDAvis\\_prepare.py:246: FutureWarning: In a future version of pandas all arguments of DataFrame.drop except for the argument 'labels' will be keyword-only.\n",
            "  default_term_info = default_term_info.sort_values(\n"
          ]
        }
      ],
      "source": [
        "# Let's try to visualize\n",
        "lda_display = pyLDAvis.gensim_models.prepare(lda_model, corpus, dictionary)"
      ]
    },
    {
      "cell_type": "code",
      "execution_count": 1,
      "metadata": {},
      "outputs": [],
      "source": [
        "# Let's Visualize\n",
        "pyLDAvis.display(lda_display)"
      ]
    },
    {
      "cell_type": "code",
      "execution_count": 48,
      "metadata": {},
      "outputs": [],
      "source": [
        "topic_dist = lda_model[corpus]"
      ]
    },
    {
      "cell_type": "code",
      "execution_count": 49,
      "metadata": {},
      "outputs": [
        {
          "name": "stderr",
          "output_type": "stream",
          "text": [
            "C:\\Users\\maart\\AppData\\Local\\Temp\\ipykernel_19624\\843073406.py:7: SettingWithCopyWarning: \n",
            "A value is trying to be set on a copy of a slice from a DataFrame.\n",
            "Try using .loc[row_indexer,col_indexer] = value instead\n",
            "\n",
            "See the caveats in the documentation: https://pandas.pydata.org/pandas-docs/stable/user_guide/indexing.html#returning-a-view-versus-a-copy\n",
            "  data['Topic Distribution'] = dist\n"
          ]
        }
      ],
      "source": [
        "dist = []\n",
        "\n",
        "for t in topic_dist:\n",
        "    dist.append(t)  \n",
        "    \n",
        "# add list to the data frame\n",
        "data['Topic Distribution'] = dist"
      ]
    },
    {
      "cell_type": "code",
      "execution_count": 50,
      "metadata": {},
      "outputs": [],
      "source": [
        "data.reset_index(inplace=True)"
      ]
    },
    {
      "cell_type": "code",
      "execution_count": 51,
      "metadata": {},
      "outputs": [
        {
          "name": "stderr",
          "output_type": "stream",
          "text": [
            "C:\\Users\\maart\\AppData\\Local\\Temp\\ipykernel_19624\\4231267861.py:4: SettingWithCopyWarning: \n",
            "A value is trying to be set on a copy of a slice from a DataFrame.\n",
            "Try using .loc[row_indexer,col_indexer] = value instead\n",
            "\n",
            "See the caveats in the documentation: https://pandas.pydata.org/pandas-docs/stable/user_guide/indexing.html#returning-a-view-versus-a-copy\n",
            "  data['topic_num'] = list_topicnum\n"
          ]
        }
      ],
      "source": [
        "list_topicnum = []\n",
        "for itm in range(len(data)):\n",
        "    list_topicnum.append(sorted(data['Topic Distribution'][itm], key=lambda tup: tup[1], reverse=True)[0][0])\n",
        "data['topic_num'] = list_topicnum"
      ]
    },
    {
      "cell_type": "code",
      "execution_count": 52,
      "metadata": {},
      "outputs": [
        {
          "data": {
            "text/plain": [
              "0    579\n",
              "1    402\n",
              "6    391\n",
              "2    380\n",
              "4    363\n",
              "5    333\n",
              "3    333\n",
              "Name: topic_num, dtype: int64"
            ]
          },
          "execution_count": 52,
          "metadata": {},
          "output_type": "execute_result"
        }
      ],
      "source": [
        "#Checking if we need to fix the distribution of the data\n",
        "data['topic_num'].value_counts()"
      ]
    },
    {
      "cell_type": "code",
      "execution_count": 53,
      "metadata": {},
      "outputs": [
        {
          "name": "stdout",
          "output_type": "stream",
          "text": [
            "<class 'pandas.core.series.Series'>\n",
            "RangeIndex: 2781 entries, 0 to 2780\n",
            "Series name: topic_num\n",
            "Non-Null Count  Dtype\n",
            "--------------  -----\n",
            "2781 non-null   int64\n",
            "dtypes: int64(1)\n",
            "memory usage: 21.9 KB\n"
          ]
        }
      ],
      "source": [
        "data['topic_num'].info()"
      ]
    },
    {
      "cell_type": "markdown",
      "metadata": {
        "id": "uDet_IXID2Uc"
      },
      "source": [
        "### Training the SML model"
      ]
    },
    {
      "cell_type": "code",
      "execution_count": 54,
      "metadata": {
        "id": "QOHDVCd0D2Ue"
      },
      "outputs": [],
      "source": [
        "# # # Here we use oversampling, since the distribution of the y value is skewed \n",
        "# X_train_SMOTE, y_train_SMOTE = SMOTE.fit_resample(data['Author Keywords'], data['topic_num'])"
      ]
    },
    {
      "cell_type": "code",
      "execution_count": 55,
      "metadata": {},
      "outputs": [
        {
          "data": {
            "text/plain": [
              "0    579\n",
              "1    402\n",
              "6    391\n",
              "2    380\n",
              "4    363\n",
              "5    333\n",
              "3    333\n",
              "Name: topic_num, dtype: int64"
            ]
          },
          "execution_count": 55,
          "metadata": {},
          "output_type": "execute_result"
        }
      ],
      "source": [
        "data['topic_num'].value_counts()"
      ]
    },
    {
      "cell_type": "code",
      "execution_count": 56,
      "metadata": {
        "id": "8C8S-54RD2Ue"
      },
      "outputs": [],
      "source": [
        "# Splitting the dataset into the Training set and Test set (since we have a new output variable)\n",
        "X_train, X_test, y_train, y_test = train_test_split(data['Abstract'], data['topic_num'], test_size = 0.2, random_state = 42)"
      ]
    },
    {
      "cell_type": "code",
      "execution_count": null,
      "metadata": {},
      "outputs": [],
      "source": [
        "#Variation of the random forest, a stronger version, where the models get better over time.\n",
        "from xgboost import XGBRegressor"
      ]
    },
    {
      "cell_type": "code",
      "execution_count": null,
      "metadata": {},
      "outputs": [],
      "source": [
        "model_xgb = XGBRegressor()"
      ]
    },
    {
      "cell_type": "markdown",
      "metadata": {},
      "source": [
        "#### XGB Classifier"
      ]
    },
    {
      "cell_type": "code",
      "execution_count": null,
      "metadata": {},
      "outputs": [],
      "source": [
        "#instantiate models and \"bundle up as pipeline\"\n",
        "\n",
        "tfidf = TfidfVectorizer()\n",
        "svd = TruncatedSVD(n_components = 100)\n",
        "cls_xg = XGBClassifier()\n",
        "\n",
        "pipe_xg = make_pipeline(tfidf, svd, cls_xg)"
      ]
    },
    {
      "cell_type": "code",
      "execution_count": null,
      "metadata": {},
      "outputs": [
        {
          "data": {
            "text/html": [
              "<style>#sk-container-id-1 {color: black;background-color: white;}#sk-container-id-1 pre{padding: 0;}#sk-container-id-1 div.sk-toggleable {background-color: white;}#sk-container-id-1 label.sk-toggleable__label {cursor: pointer;display: block;width: 100%;margin-bottom: 0;padding: 0.3em;box-sizing: border-box;text-align: center;}#sk-container-id-1 label.sk-toggleable__label-arrow:before {content: \"▸\";float: left;margin-right: 0.25em;color: #696969;}#sk-container-id-1 label.sk-toggleable__label-arrow:hover:before {color: black;}#sk-container-id-1 div.sk-estimator:hover label.sk-toggleable__label-arrow:before {color: black;}#sk-container-id-1 div.sk-toggleable__content {max-height: 0;max-width: 0;overflow: hidden;text-align: left;background-color: #f0f8ff;}#sk-container-id-1 div.sk-toggleable__content pre {margin: 0.2em;color: black;border-radius: 0.25em;background-color: #f0f8ff;}#sk-container-id-1 input.sk-toggleable__control:checked~div.sk-toggleable__content {max-height: 200px;max-width: 100%;overflow: auto;}#sk-container-id-1 input.sk-toggleable__control:checked~label.sk-toggleable__label-arrow:before {content: \"▾\";}#sk-container-id-1 div.sk-estimator input.sk-toggleable__control:checked~label.sk-toggleable__label {background-color: #d4ebff;}#sk-container-id-1 div.sk-label input.sk-toggleable__control:checked~label.sk-toggleable__label {background-color: #d4ebff;}#sk-container-id-1 input.sk-hidden--visually {border: 0;clip: rect(1px 1px 1px 1px);clip: rect(1px, 1px, 1px, 1px);height: 1px;margin: -1px;overflow: hidden;padding: 0;position: absolute;width: 1px;}#sk-container-id-1 div.sk-estimator {font-family: monospace;background-color: #f0f8ff;border: 1px dotted black;border-radius: 0.25em;box-sizing: border-box;margin-bottom: 0.5em;}#sk-container-id-1 div.sk-estimator:hover {background-color: #d4ebff;}#sk-container-id-1 div.sk-parallel-item::after {content: \"\";width: 100%;border-bottom: 1px solid gray;flex-grow: 1;}#sk-container-id-1 div.sk-label:hover label.sk-toggleable__label {background-color: #d4ebff;}#sk-container-id-1 div.sk-serial::before {content: \"\";position: absolute;border-left: 1px solid gray;box-sizing: border-box;top: 0;bottom: 0;left: 50%;z-index: 0;}#sk-container-id-1 div.sk-serial {display: flex;flex-direction: column;align-items: center;background-color: white;padding-right: 0.2em;padding-left: 0.2em;position: relative;}#sk-container-id-1 div.sk-item {position: relative;z-index: 1;}#sk-container-id-1 div.sk-parallel {display: flex;align-items: stretch;justify-content: center;background-color: white;position: relative;}#sk-container-id-1 div.sk-item::before, #sk-container-id-1 div.sk-parallel-item::before {content: \"\";position: absolute;border-left: 1px solid gray;box-sizing: border-box;top: 0;bottom: 0;left: 50%;z-index: -1;}#sk-container-id-1 div.sk-parallel-item {display: flex;flex-direction: column;z-index: 1;position: relative;background-color: white;}#sk-container-id-1 div.sk-parallel-item:first-child::after {align-self: flex-end;width: 50%;}#sk-container-id-1 div.sk-parallel-item:last-child::after {align-self: flex-start;width: 50%;}#sk-container-id-1 div.sk-parallel-item:only-child::after {width: 0;}#sk-container-id-1 div.sk-dashed-wrapped {border: 1px dashed gray;margin: 0 0.4em 0.5em 0.4em;box-sizing: border-box;padding-bottom: 0.4em;background-color: white;}#sk-container-id-1 div.sk-label label {font-family: monospace;font-weight: bold;display: inline-block;line-height: 1.2em;}#sk-container-id-1 div.sk-label-container {text-align: center;}#sk-container-id-1 div.sk-container {/* jupyter's `normalize.less` sets `[hidden] { display: none; }` but bootstrap.min.css set `[hidden] { display: none !important; }` so we also need the `!important` here to be able to override the default hidden behavior on the sphinx rendered scikit-learn.org. See: https://github.com/scikit-learn/scikit-learn/issues/21755 */display: inline-block !important;position: relative;}#sk-container-id-1 div.sk-text-repr-fallback {display: none;}</style><div id=\"sk-container-id-1\" class=\"sk-top-container\"><div class=\"sk-text-repr-fallback\"><pre>Pipeline(steps=[(&#x27;tfidfvectorizer&#x27;, TfidfVectorizer()),\n",
              "                (&#x27;truncatedsvd&#x27;, TruncatedSVD(n_components=100)),\n",
              "                (&#x27;xgbclassifier&#x27;,\n",
              "                 XGBClassifier(base_score=0.5, booster=&#x27;gbtree&#x27;, callbacks=None,\n",
              "                               colsample_bylevel=1, colsample_bynode=1,\n",
              "                               colsample_bytree=1, early_stopping_rounds=None,\n",
              "                               enable_categorical=False, eval_metric=None,\n",
              "                               gamma=0, gpu_id=-1, grow_policy=&#x27;depthwise&#x27;,\n",
              "                               importance_type=None, interaction_constraints=&#x27;&#x27;,\n",
              "                               learning_rate=0.300000012, max_bin=256,\n",
              "                               max_cat_to_onehot=4, max_delta_step=0,\n",
              "                               max_depth=6, max_leaves=0, min_child_weight=1,\n",
              "                               missing=nan, monotone_constraints=&#x27;()&#x27;,\n",
              "                               n_estimators=100, n_jobs=0, num_parallel_tree=1,\n",
              "                               objective=&#x27;multi:softprob&#x27;, predictor=&#x27;auto&#x27;,\n",
              "                               random_state=0, reg_alpha=0, ...))])</pre><b>In a Jupyter environment, please rerun this cell to show the HTML representation or trust the notebook. <br />On GitHub, the HTML representation is unable to render, please try loading this page with nbviewer.org.</b></div><div class=\"sk-container\" hidden><div class=\"sk-item sk-dashed-wrapped\"><div class=\"sk-label-container\"><div class=\"sk-label sk-toggleable\"><input class=\"sk-toggleable__control sk-hidden--visually\" id=\"sk-estimator-id-1\" type=\"checkbox\" ><label for=\"sk-estimator-id-1\" class=\"sk-toggleable__label sk-toggleable__label-arrow\">Pipeline</label><div class=\"sk-toggleable__content\"><pre>Pipeline(steps=[(&#x27;tfidfvectorizer&#x27;, TfidfVectorizer()),\n",
              "                (&#x27;truncatedsvd&#x27;, TruncatedSVD(n_components=100)),\n",
              "                (&#x27;xgbclassifier&#x27;,\n",
              "                 XGBClassifier(base_score=0.5, booster=&#x27;gbtree&#x27;, callbacks=None,\n",
              "                               colsample_bylevel=1, colsample_bynode=1,\n",
              "                               colsample_bytree=1, early_stopping_rounds=None,\n",
              "                               enable_categorical=False, eval_metric=None,\n",
              "                               gamma=0, gpu_id=-1, grow_policy=&#x27;depthwise&#x27;,\n",
              "                               importance_type=None, interaction_constraints=&#x27;&#x27;,\n",
              "                               learning_rate=0.300000012, max_bin=256,\n",
              "                               max_cat_to_onehot=4, max_delta_step=0,\n",
              "                               max_depth=6, max_leaves=0, min_child_weight=1,\n",
              "                               missing=nan, monotone_constraints=&#x27;()&#x27;,\n",
              "                               n_estimators=100, n_jobs=0, num_parallel_tree=1,\n",
              "                               objective=&#x27;multi:softprob&#x27;, predictor=&#x27;auto&#x27;,\n",
              "                               random_state=0, reg_alpha=0, ...))])</pre></div></div></div><div class=\"sk-serial\"><div class=\"sk-item\"><div class=\"sk-estimator sk-toggleable\"><input class=\"sk-toggleable__control sk-hidden--visually\" id=\"sk-estimator-id-2\" type=\"checkbox\" ><label for=\"sk-estimator-id-2\" class=\"sk-toggleable__label sk-toggleable__label-arrow\">TfidfVectorizer</label><div class=\"sk-toggleable__content\"><pre>TfidfVectorizer()</pre></div></div></div><div class=\"sk-item\"><div class=\"sk-estimator sk-toggleable\"><input class=\"sk-toggleable__control sk-hidden--visually\" id=\"sk-estimator-id-3\" type=\"checkbox\" ><label for=\"sk-estimator-id-3\" class=\"sk-toggleable__label sk-toggleable__label-arrow\">TruncatedSVD</label><div class=\"sk-toggleable__content\"><pre>TruncatedSVD(n_components=100)</pre></div></div></div><div class=\"sk-item\"><div class=\"sk-estimator sk-toggleable\"><input class=\"sk-toggleable__control sk-hidden--visually\" id=\"sk-estimator-id-4\" type=\"checkbox\" ><label for=\"sk-estimator-id-4\" class=\"sk-toggleable__label sk-toggleable__label-arrow\">XGBClassifier</label><div class=\"sk-toggleable__content\"><pre>XGBClassifier(base_score=0.5, booster=&#x27;gbtree&#x27;, callbacks=None,\n",
              "              colsample_bylevel=1, colsample_bynode=1, colsample_bytree=1,\n",
              "              early_stopping_rounds=None, enable_categorical=False,\n",
              "              eval_metric=None, gamma=0, gpu_id=-1, grow_policy=&#x27;depthwise&#x27;,\n",
              "              importance_type=None, interaction_constraints=&#x27;&#x27;,\n",
              "              learning_rate=0.300000012, max_bin=256, max_cat_to_onehot=4,\n",
              "              max_delta_step=0, max_depth=6, max_leaves=0, min_child_weight=1,\n",
              "              missing=nan, monotone_constraints=&#x27;()&#x27;, n_estimators=100,\n",
              "              n_jobs=0, num_parallel_tree=1, objective=&#x27;multi:softprob&#x27;,\n",
              "              predictor=&#x27;auto&#x27;, random_state=0, reg_alpha=0, ...)</pre></div></div></div></div></div></div></div>"
            ],
            "text/plain": [
              "Pipeline(steps=[('tfidfvectorizer', TfidfVectorizer()),\n",
              "                ('truncatedsvd', TruncatedSVD(n_components=100)),\n",
              "                ('xgbclassifier',\n",
              "                 XGBClassifier(base_score=0.5, booster='gbtree', callbacks=None,\n",
              "                               colsample_bylevel=1, colsample_bynode=1,\n",
              "                               colsample_bytree=1, early_stopping_rounds=None,\n",
              "                               enable_categorical=False, eval_metric=None,\n",
              "                               gamma=0, gpu_id=-1, grow_policy='depthwise',\n",
              "                               importance_type=None, interaction_constraints='',\n",
              "                               learning_rate=0.300000012, max_bin=256,\n",
              "                               max_cat_to_onehot=4, max_delta_step=0,\n",
              "                               max_depth=6, max_leaves=0, min_child_weight=1,\n",
              "                               missing=nan, monotone_constraints='()',\n",
              "                               n_estimators=100, n_jobs=0, num_parallel_tree=1,\n",
              "                               objective='multi:softprob', predictor='auto',\n",
              "                               random_state=0, reg_alpha=0, ...))])"
            ]
          },
          "execution_count": 56,
          "metadata": {},
          "output_type": "execute_result"
        }
      ],
      "source": [
        "pipe_xg.fit(X_train,y_train) # fit model"
      ]
    },
    {
      "cell_type": "code",
      "execution_count": null,
      "metadata": {},
      "outputs": [
        {
          "name": "stdout",
          "output_type": "stream",
          "text": [
            "              precision    recall  f1-score   support\n",
            "\n",
            "           0       1.00      0.99      1.00       457\n",
            "           1       1.00      0.99      1.00       332\n",
            "           2       1.00      1.00      1.00       302\n",
            "           3       0.97      1.00      0.98       262\n",
            "           4       1.00      1.00      1.00       303\n",
            "           5       1.00      1.00      1.00       264\n",
            "           6       1.00      1.00      1.00       304\n",
            "\n",
            "    accuracy                           1.00      2224\n",
            "   macro avg       1.00      1.00      1.00      2224\n",
            "weighted avg       1.00      1.00      1.00      2224\n",
            "\n"
          ]
        }
      ],
      "source": [
        "# evaluate model performance on training set\n",
        "\n",
        "y_eval = pipe_xg.predict(X_train)\n",
        "report = classification_report(y_train, y_eval)\n",
        "print(report)"
      ]
    },
    {
      "cell_type": "code",
      "execution_count": null,
      "metadata": {},
      "outputs": [
        {
          "name": "stdout",
          "output_type": "stream",
          "text": [
            "              precision    recall  f1-score   support\n",
            "\n",
            "           0       0.48      0.60      0.53       122\n",
            "           1       0.55      0.60      0.58        70\n",
            "           2       0.80      0.71      0.75        78\n",
            "           3       0.57      0.44      0.50        71\n",
            "           4       0.41      0.42      0.41        60\n",
            "           5       0.42      0.36      0.39        69\n",
            "           6       0.70      0.70      0.70        87\n",
            "\n",
            "    accuracy                           0.56       557\n",
            "   macro avg       0.56      0.55      0.55       557\n",
            "weighted avg       0.57      0.56      0.56       557\n",
            "\n"
          ]
        }
      ],
      "source": [
        "# evaluate model performance on test set\n",
        "#So this model has a precision score of 57%\n",
        "\n",
        "y_pred = pipe_xg.predict(X_test)\n",
        "report = classification_report(y_test, y_pred)\n",
        "print(report)"
      ]
    },
    {
      "cell_type": "markdown",
      "metadata": {},
      "source": [
        "#### Logistic Regression"
      ]
    },
    {
      "cell_type": "code",
      "execution_count": null,
      "metadata": {},
      "outputs": [
        {
          "name": "stderr",
          "output_type": "stream",
          "text": [
            "C:\\Users\\maart\\AppData\\Local\\Temp\\ipykernel_28128\\425609740.py:3: SettingWithCopyWarning: \n",
            "A value is trying to be set on a copy of a slice from a DataFrame.\n",
            "Try using .loc[row_indexer,col_indexer] = value instead\n",
            "\n",
            "See the caveats in the documentation: https://pandas.pydata.org/pandas-docs/stable/user_guide/indexing.html#returning-a-view-versus-a-copy\n",
            "  data['topic_num_2'] = data['topic_num_2'].replace(0,'Empirical Finance')\n",
            "C:\\Users\\maart\\AppData\\Local\\Temp\\ipykernel_28128\\425609740.py:4: SettingWithCopyWarning: \n",
            "A value is trying to be set on a copy of a slice from a DataFrame.\n",
            "Try using .loc[row_indexer,col_indexer] = value instead\n",
            "\n",
            "See the caveats in the documentation: https://pandas.pydata.org/pandas-docs/stable/user_guide/indexing.html#returning-a-view-versus-a-copy\n",
            "  data['topic_num_2'] = data['topic_num_2'].replace(1,'Legal')\n",
            "C:\\Users\\maart\\AppData\\Local\\Temp\\ipykernel_28128\\425609740.py:5: SettingWithCopyWarning: \n",
            "A value is trying to be set on a copy of a slice from a DataFrame.\n",
            "Try using .loc[row_indexer,col_indexer] = value instead\n",
            "\n",
            "See the caveats in the documentation: https://pandas.pydata.org/pandas-docs/stable/user_guide/indexing.html#returning-a-view-versus-a-copy\n",
            "  data['topic_num_2'] = data['topic_num_2'].replace(2,'Digital Banking')\n",
            "C:\\Users\\maart\\AppData\\Local\\Temp\\ipykernel_28128\\425609740.py:6: SettingWithCopyWarning: \n",
            "A value is trying to be set on a copy of a slice from a DataFrame.\n",
            "Try using .loc[row_indexer,col_indexer] = value instead\n",
            "\n",
            "See the caveats in the documentation: https://pandas.pydata.org/pandas-docs/stable/user_guide/indexing.html#returning-a-view-versus-a-copy\n",
            "  data['topic_num_2'] = data['topic_num_2'].replace(3,'Empirical Finance')\n",
            "C:\\Users\\maart\\AppData\\Local\\Temp\\ipykernel_28128\\425609740.py:7: SettingWithCopyWarning: \n",
            "A value is trying to be set on a copy of a slice from a DataFrame.\n",
            "Try using .loc[row_indexer,col_indexer] = value instead\n",
            "\n",
            "See the caveats in the documentation: https://pandas.pydata.org/pandas-docs/stable/user_guide/indexing.html#returning-a-view-versus-a-copy\n",
            "  data['topic_num_2'] = data['topic_num_2'].replace(4,'Quantitative Finance')\n",
            "C:\\Users\\maart\\AppData\\Local\\Temp\\ipykernel_28128\\425609740.py:8: SettingWithCopyWarning: \n",
            "A value is trying to be set on a copy of a slice from a DataFrame.\n",
            "Try using .loc[row_indexer,col_indexer] = value instead\n",
            "\n",
            "See the caveats in the documentation: https://pandas.pydata.org/pandas-docs/stable/user_guide/indexing.html#returning-a-view-versus-a-copy\n",
            "  data['topic_num_2'] = data['topic_num_2'].replace(5,'Energy Trading')\n",
            "C:\\Users\\maart\\AppData\\Local\\Temp\\ipykernel_28128\\425609740.py:9: SettingWithCopyWarning: \n",
            "A value is trying to be set on a copy of a slice from a DataFrame.\n",
            "Try using .loc[row_indexer,col_indexer] = value instead\n",
            "\n",
            "See the caveats in the documentation: https://pandas.pydata.org/pandas-docs/stable/user_guide/indexing.html#returning-a-view-versus-a-copy\n",
            "  data['topic_num_2'] = data['topic_num_2'].replace(6,'Bank Service')\n",
            "C:\\Users\\maart\\AppData\\Local\\Temp\\ipykernel_28128\\425609740.py:13: SettingWithCopyWarning: \n",
            "A value is trying to be set on a copy of a slice from a DataFrame.\n",
            "Try using .loc[row_indexer,col_indexer] = value instead\n",
            "\n",
            "See the caveats in the documentation: https://pandas.pydata.org/pandas-docs/stable/user_guide/indexing.html#returning-a-view-versus-a-copy\n",
            "  data['topic_num'] = data['topic_num'].replace(0,'Cryptocurrency')\n",
            "C:\\Users\\maart\\AppData\\Local\\Temp\\ipykernel_28128\\425609740.py:14: SettingWithCopyWarning: \n",
            "A value is trying to be set on a copy of a slice from a DataFrame.\n",
            "Try using .loc[row_indexer,col_indexer] = value instead\n",
            "\n",
            "See the caveats in the documentation: https://pandas.pydata.org/pandas-docs/stable/user_guide/indexing.html#returning-a-view-versus-a-copy\n",
            "  data['topic_num'] = data['topic_num'].replace(1,'AI')\n",
            "C:\\Users\\maart\\AppData\\Local\\Temp\\ipykernel_28128\\425609740.py:15: SettingWithCopyWarning: \n",
            "A value is trying to be set on a copy of a slice from a DataFrame.\n",
            "Try using .loc[row_indexer,col_indexer] = value instead\n",
            "\n",
            "See the caveats in the documentation: https://pandas.pydata.org/pandas-docs/stable/user_guide/indexing.html#returning-a-view-versus-a-copy\n",
            "  data['topic_num'] = data['topic_num'].replace(2,'Fintech')\n",
            "C:\\Users\\maart\\AppData\\Local\\Temp\\ipykernel_28128\\425609740.py:16: SettingWithCopyWarning: \n",
            "A value is trying to be set on a copy of a slice from a DataFrame.\n",
            "Try using .loc[row_indexer,col_indexer] = value instead\n",
            "\n",
            "See the caveats in the documentation: https://pandas.pydata.org/pandas-docs/stable/user_guide/indexing.html#returning-a-view-versus-a-copy\n",
            "  data['topic_num'] = data['topic_num'].replace(3,'Enery Trading')\n",
            "C:\\Users\\maart\\AppData\\Local\\Temp\\ipykernel_28128\\425609740.py:17: SettingWithCopyWarning: \n",
            "A value is trying to be set on a copy of a slice from a DataFrame.\n",
            "Try using .loc[row_indexer,col_indexer] = value instead\n",
            "\n",
            "See the caveats in the documentation: https://pandas.pydata.org/pandas-docs/stable/user_guide/indexing.html#returning-a-view-versus-a-copy\n",
            "  data['topic_num'] = data['topic_num'].replace(4,'Credit Risk')\n",
            "C:\\Users\\maart\\AppData\\Local\\Temp\\ipykernel_28128\\425609740.py:18: SettingWithCopyWarning: \n",
            "A value is trying to be set on a copy of a slice from a DataFrame.\n",
            "Try using .loc[row_indexer,col_indexer] = value instead\n",
            "\n",
            "See the caveats in the documentation: https://pandas.pydata.org/pandas-docs/stable/user_guide/indexing.html#returning-a-view-versus-a-copy\n",
            "  data['topic_num'] = data['topic_num'].replace(5,'Payment Services')\n",
            "C:\\Users\\maart\\AppData\\Local\\Temp\\ipykernel_28128\\425609740.py:19: SettingWithCopyWarning: \n",
            "A value is trying to be set on a copy of a slice from a DataFrame.\n",
            "Try using .loc[row_indexer,col_indexer] = value instead\n",
            "\n",
            "See the caveats in the documentation: https://pandas.pydata.org/pandas-docs/stable/user_guide/indexing.html#returning-a-view-versus-a-copy\n",
            "  data['topic_num'] = data['topic_num'].replace(6,'Digital Banking')\n"
          ]
        }
      ],
      "source": [
        "# We change the cluster numbers to qualitively interpreted labels, since we can do that for the logistic regression\n",
        "##This one is for the Abstract column\n",
        "data['topic_num_2'] = data['topic_num_2'].replace(0,'Empirical Finance')\n",
        "data['topic_num_2'] = data['topic_num_2'].replace(1,'Legal')\n",
        "data['topic_num_2'] = data['topic_num_2'].replace(2,'Digital Banking')\n",
        "data['topic_num_2'] = data['topic_num_2'].replace(3,'Empirical Finance')\n",
        "data['topic_num_2'] = data['topic_num_2'].replace(4,'Quantitative Finance')\n",
        "data['topic_num_2'] = data['topic_num_2'].replace(5,'Energy Trading')\n",
        "data['topic_num_2'] = data['topic_num_2'].replace(6,'Bank Service')\n",
        "\n",
        "##This one is for the Author Keywords column\n",
        "# We change the cluster numbers to qualitively interpreted labels\n",
        "data['topic_num'] = data['topic_num'].replace(0,'Cryptocurrency')\n",
        "data['topic_num'] = data['topic_num'].replace(1,'AI')\n",
        "data['topic_num'] = data['topic_num'].replace(2,'Fintech')\n",
        "data['topic_num'] = data['topic_num'].replace(3,'Enery Trading')\n",
        "data['topic_num'] = data['topic_num'].replace(4,'Credit Risk')\n",
        "data['topic_num'] = data['topic_num'].replace(5,'Payment Services')\n",
        "data['topic_num'] = data['topic_num'].replace(6,'Digital Banking')"
      ]
    },
    {
      "cell_type": "code",
      "execution_count": null,
      "metadata": {
        "id": "oK9aGXmVD2Uf"
      },
      "outputs": [],
      "source": [
        "#instantiate models and \"bundle up as pipeline\"\n",
        "\n",
        "tfidf = TfidfVectorizer()\n",
        "cls = LogisticRegression()\n",
        "\n",
        "pipe = make_pipeline(tfidf, cls)"
      ]
    },
    {
      "cell_type": "code",
      "execution_count": null,
      "metadata": {
        "id": "DAykPYH7D2Uf"
      },
      "outputs": [
        {
          "data": {
            "text/html": [
              "<style>#sk-container-id-2 {color: black;background-color: white;}#sk-container-id-2 pre{padding: 0;}#sk-container-id-2 div.sk-toggleable {background-color: white;}#sk-container-id-2 label.sk-toggleable__label {cursor: pointer;display: block;width: 100%;margin-bottom: 0;padding: 0.3em;box-sizing: border-box;text-align: center;}#sk-container-id-2 label.sk-toggleable__label-arrow:before {content: \"▸\";float: left;margin-right: 0.25em;color: #696969;}#sk-container-id-2 label.sk-toggleable__label-arrow:hover:before {color: black;}#sk-container-id-2 div.sk-estimator:hover label.sk-toggleable__label-arrow:before {color: black;}#sk-container-id-2 div.sk-toggleable__content {max-height: 0;max-width: 0;overflow: hidden;text-align: left;background-color: #f0f8ff;}#sk-container-id-2 div.sk-toggleable__content pre {margin: 0.2em;color: black;border-radius: 0.25em;background-color: #f0f8ff;}#sk-container-id-2 input.sk-toggleable__control:checked~div.sk-toggleable__content {max-height: 200px;max-width: 100%;overflow: auto;}#sk-container-id-2 input.sk-toggleable__control:checked~label.sk-toggleable__label-arrow:before {content: \"▾\";}#sk-container-id-2 div.sk-estimator input.sk-toggleable__control:checked~label.sk-toggleable__label {background-color: #d4ebff;}#sk-container-id-2 div.sk-label input.sk-toggleable__control:checked~label.sk-toggleable__label {background-color: #d4ebff;}#sk-container-id-2 input.sk-hidden--visually {border: 0;clip: rect(1px 1px 1px 1px);clip: rect(1px, 1px, 1px, 1px);height: 1px;margin: -1px;overflow: hidden;padding: 0;position: absolute;width: 1px;}#sk-container-id-2 div.sk-estimator {font-family: monospace;background-color: #f0f8ff;border: 1px dotted black;border-radius: 0.25em;box-sizing: border-box;margin-bottom: 0.5em;}#sk-container-id-2 div.sk-estimator:hover {background-color: #d4ebff;}#sk-container-id-2 div.sk-parallel-item::after {content: \"\";width: 100%;border-bottom: 1px solid gray;flex-grow: 1;}#sk-container-id-2 div.sk-label:hover label.sk-toggleable__label {background-color: #d4ebff;}#sk-container-id-2 div.sk-serial::before {content: \"\";position: absolute;border-left: 1px solid gray;box-sizing: border-box;top: 0;bottom: 0;left: 50%;z-index: 0;}#sk-container-id-2 div.sk-serial {display: flex;flex-direction: column;align-items: center;background-color: white;padding-right: 0.2em;padding-left: 0.2em;position: relative;}#sk-container-id-2 div.sk-item {position: relative;z-index: 1;}#sk-container-id-2 div.sk-parallel {display: flex;align-items: stretch;justify-content: center;background-color: white;position: relative;}#sk-container-id-2 div.sk-item::before, #sk-container-id-2 div.sk-parallel-item::before {content: \"\";position: absolute;border-left: 1px solid gray;box-sizing: border-box;top: 0;bottom: 0;left: 50%;z-index: -1;}#sk-container-id-2 div.sk-parallel-item {display: flex;flex-direction: column;z-index: 1;position: relative;background-color: white;}#sk-container-id-2 div.sk-parallel-item:first-child::after {align-self: flex-end;width: 50%;}#sk-container-id-2 div.sk-parallel-item:last-child::after {align-self: flex-start;width: 50%;}#sk-container-id-2 div.sk-parallel-item:only-child::after {width: 0;}#sk-container-id-2 div.sk-dashed-wrapped {border: 1px dashed gray;margin: 0 0.4em 0.5em 0.4em;box-sizing: border-box;padding-bottom: 0.4em;background-color: white;}#sk-container-id-2 div.sk-label label {font-family: monospace;font-weight: bold;display: inline-block;line-height: 1.2em;}#sk-container-id-2 div.sk-label-container {text-align: center;}#sk-container-id-2 div.sk-container {/* jupyter's `normalize.less` sets `[hidden] { display: none; }` but bootstrap.min.css set `[hidden] { display: none !important; }` so we also need the `!important` here to be able to override the default hidden behavior on the sphinx rendered scikit-learn.org. See: https://github.com/scikit-learn/scikit-learn/issues/21755 */display: inline-block !important;position: relative;}#sk-container-id-2 div.sk-text-repr-fallback {display: none;}</style><div id=\"sk-container-id-2\" class=\"sk-top-container\"><div class=\"sk-text-repr-fallback\"><pre>Pipeline(steps=[(&#x27;tfidfvectorizer&#x27;, TfidfVectorizer()),\n",
              "                (&#x27;logisticregression&#x27;, LogisticRegression())])</pre><b>In a Jupyter environment, please rerun this cell to show the HTML representation or trust the notebook. <br />On GitHub, the HTML representation is unable to render, please try loading this page with nbviewer.org.</b></div><div class=\"sk-container\" hidden><div class=\"sk-item sk-dashed-wrapped\"><div class=\"sk-label-container\"><div class=\"sk-label sk-toggleable\"><input class=\"sk-toggleable__control sk-hidden--visually\" id=\"sk-estimator-id-5\" type=\"checkbox\" ><label for=\"sk-estimator-id-5\" class=\"sk-toggleable__label sk-toggleable__label-arrow\">Pipeline</label><div class=\"sk-toggleable__content\"><pre>Pipeline(steps=[(&#x27;tfidfvectorizer&#x27;, TfidfVectorizer()),\n",
              "                (&#x27;logisticregression&#x27;, LogisticRegression())])</pre></div></div></div><div class=\"sk-serial\"><div class=\"sk-item\"><div class=\"sk-estimator sk-toggleable\"><input class=\"sk-toggleable__control sk-hidden--visually\" id=\"sk-estimator-id-6\" type=\"checkbox\" ><label for=\"sk-estimator-id-6\" class=\"sk-toggleable__label sk-toggleable__label-arrow\">TfidfVectorizer</label><div class=\"sk-toggleable__content\"><pre>TfidfVectorizer()</pre></div></div></div><div class=\"sk-item\"><div class=\"sk-estimator sk-toggleable\"><input class=\"sk-toggleable__control sk-hidden--visually\" id=\"sk-estimator-id-7\" type=\"checkbox\" ><label for=\"sk-estimator-id-7\" class=\"sk-toggleable__label sk-toggleable__label-arrow\">LogisticRegression</label><div class=\"sk-toggleable__content\"><pre>LogisticRegression()</pre></div></div></div></div></div></div></div>"
            ],
            "text/plain": [
              "Pipeline(steps=[('tfidfvectorizer', TfidfVectorizer()),\n",
              "                ('logisticregression', LogisticRegression())])"
            ]
          },
          "execution_count": 61,
          "metadata": {},
          "output_type": "execute_result"
        }
      ],
      "source": [
        "pipe.fit(X_train,y_train) # fit model"
      ]
    },
    {
      "cell_type": "code",
      "execution_count": null,
      "metadata": {
        "id": "CeeJtD-wD2Uf"
      },
      "outputs": [
        {
          "name": "stdout",
          "output_type": "stream",
          "text": [
            "              precision    recall  f1-score   support\n",
            "\n",
            "           0       0.73      0.93      0.82       457\n",
            "           1       0.86      0.84      0.85       332\n",
            "           2       0.88      0.89      0.89       302\n",
            "           3       0.86      0.73      0.79       262\n",
            "           4       0.86      0.83      0.84       303\n",
            "           5       0.89      0.77      0.82       264\n",
            "           6       0.88      0.81      0.84       304\n",
            "\n",
            "    accuracy                           0.84      2224\n",
            "   macro avg       0.85      0.83      0.84      2224\n",
            "weighted avg       0.84      0.84      0.84      2224\n",
            "\n"
          ]
        }
      ],
      "source": [
        "# evaluate model performance on training set\n",
        "\n",
        "y_eval = pipe.predict(X_train)\n",
        "report = classification_report(y_train, y_eval)\n",
        "print(report)"
      ]
    },
    {
      "cell_type": "code",
      "execution_count": null,
      "metadata": {
        "id": "D2DVUJrfD2Uf"
      },
      "outputs": [
        {
          "name": "stdout",
          "output_type": "stream",
          "text": [
            "              precision    recall  f1-score   support\n",
            "\n",
            "           0       0.46      0.75      0.57       122\n",
            "           1       0.60      0.51      0.55        70\n",
            "           2       0.81      0.72      0.76        78\n",
            "           3       0.60      0.45      0.52        71\n",
            "           4       0.41      0.37      0.39        60\n",
            "           5       0.47      0.32      0.38        69\n",
            "           6       0.76      0.64      0.70        87\n",
            "\n",
            "    accuracy                           0.57       557\n",
            "   macro avg       0.59      0.54      0.55       557\n",
            "weighted avg       0.59      0.57      0.56       557\n",
            "\n"
          ]
        }
      ],
      "source": [
        "# evaluate model performance on test set\n",
        "#It turns out that the logistic regression model is better than the XGB classifier, since we get a precision score of 59%, which is 2% higher(57%)\n",
        "\n",
        "y_pred = pipe.predict(X_test)\n",
        "report = classification_report(y_test, y_pred)\n",
        "print(report)"
      ]
    },
    {
      "cell_type": "code",
      "execution_count": null,
      "metadata": {
        "id": "XwF9Rx_fD2Uf"
      },
      "outputs": [],
      "source": [
        "t1 = ['credit credit credit  ']"
      ]
    },
    {
      "cell_type": "code",
      "execution_count": null,
      "metadata": {
        "id": "l8Hd5FPoD2Ug"
      },
      "outputs": [],
      "source": [
        "t1_p = text_prepro(pd.Series(t1))"
      ]
    },
    {
      "cell_type": "code",
      "execution_count": null,
      "metadata": {
        "id": "_iLnbvgmD2Ug"
      },
      "outputs": [],
      "source": [
        "pipe.predict (t1_p)"
      ]
    },
    {
      "cell_type": "code",
      "execution_count": null,
      "metadata": {},
      "outputs": [],
      "source": [
        "# explain one prediction\n",
        "eli5.show_prediction(pipe[1], t1_p[0], vec=pipe[0],\n",
        "                     target_names=['Cryptocurrency','AI','Fintech', 'Energy Trading', 'Credit Risk', 'Payment Services', 'Digital Banking'])"
      ]
    },
    {
      "cell_type": "code",
      "execution_count": null,
      "metadata": {},
      "outputs": [],
      "source": [
        "# overall weights (works only for linear models)\n",
        "eli5.show_weights(pipe, top=20, target_names=['Cryptocurrency','AI','Fintech', 'Energy Trading', 'Credit Risk', 'Payment Services', 'Digital Banking'])\n"
      ]
    },
    {
      "cell_type": "markdown",
      "metadata": {
        "id": "KgHWMeFoD2Uh"
      },
      "source": [
        "### We will use a coherence matrix Author Keywords"
      ]
    },
    {
      "cell_type": "code",
      "execution_count": null,
      "metadata": {
        "id": "l34LZpTID2Uh"
      },
      "outputs": [],
      "source": [
        "# cm = CoherenceModel(model=lda_model, corpus=corpus, coherence='u_mass')\n",
        "# coherence = cm.get_coherence()  # get coherence value"
      ]
    },
    {
      "cell_type": "code",
      "execution_count": null,
      "metadata": {
        "id": "CNBItmApD2Uh"
      },
      "outputs": [],
      "source": [
        "data.shape"
      ]
    },
    {
      "cell_type": "code",
      "execution_count": null,
      "metadata": {
        "id": "0Z2zstzJD2Uh"
      },
      "outputs": [],
      "source": [
        "data = data[data[\"tokens\"].str.len() != 0]"
      ]
    },
    {
      "cell_type": "code",
      "execution_count": null,
      "metadata": {
        "id": "Tl5FsA6qD2Ui"
      },
      "outputs": [],
      "source": [
        "corpus = data['tokens']"
      ]
    },
    {
      "cell_type": "code",
      "execution_count": null,
      "metadata": {
        "id": "3EIg_0OCD2Ui"
      },
      "outputs": [],
      "source": [
        "data.tokens.value_counts().reset_index()"
      ]
    },
    {
      "cell_type": "code",
      "execution_count": null,
      "metadata": {
        "id": "G4KIGKqGD2Ui"
      },
      "outputs": [],
      "source": [
        "dirichlet_dict = corpora.Dictionary(corpus)\n",
        "bow_corpus = [dirichlet_dict.doc2bow(text) for text in corpus]\n",
        "\n",
        "# Considering 1-15 topics, as the last is cut off\n",
        "num_topics = list(range(10)[1:])\n",
        "num_keywords = 15\n",
        "\n",
        "LDA_models = {}\n",
        "LDA_topics = {}\n",
        "for i in num_topics:\n",
        "    LDA_models[i] = LdaModel(corpus=bow_corpus,\n",
        "                             id2word=dirichlet_dict,\n",
        "                             num_topics=i,\n",
        "                             update_every=1,\n",
        "                             chunksize=len(bow_corpus),\n",
        "                             passes=10,\n",
        "                             alpha='auto',\n",
        "                             random_state=42)\n",
        "\n",
        "    shown_topics = LDA_models[i].show_topics(num_topics=i, \n",
        "                                             num_words=num_keywords,\n",
        "                                             formatted=False)\n",
        "    LDA_topics[i] = [[word[0] for word in topic[1]] for topic in shown_topics]"
      ]
    },
    {
      "cell_type": "code",
      "execution_count": null,
      "metadata": {
        "id": "VmTZo_WHD2Uj"
      },
      "outputs": [],
      "source": [
        "def jaccard_similarity(topic_1, topic_2):\n",
        "    \"\"\"\n",
        "    Derives the Jaccard similarity of two topics\n",
        "\n",
        "    Jaccard similarity:\n",
        "    - A statistic used for comparing the similarity and diversity of sample sets\n",
        "    - J(A,B) = (A ∩ B)/(A ∪ B)\n",
        "    - Goal is low Jaccard scores for coverage of the diverse elements\n",
        "    \"\"\"\n",
        "    intersection = set(topic_1).intersection(set(topic_2))\n",
        "    union = set(topic_1).union(set(topic_2))\n",
        "                    \n",
        "    return float(len(intersection))/float(len(union))"
      ]
    },
    {
      "cell_type": "code",
      "execution_count": null,
      "metadata": {
        "id": "FvJ5jSseD2Uj"
      },
      "outputs": [],
      "source": [
        "LDA_stability = {}\n",
        "for i in range(0, len(num_topics)-1):\n",
        "    jaccard_sims = []\n",
        "    for t1, topic1 in enumerate(LDA_topics[num_topics[i]]): # pylint: disable=unused-variable\n",
        "        sims = []\n",
        "        for t2, topic2 in enumerate(LDA_topics[num_topics[i+1]]): # pylint: disable=unused-variable\n",
        "            sims.append(jaccard_similarity(topic1, topic2))    \n",
        "        \n",
        "        jaccard_sims.append(sims)    \n",
        "    \n",
        "    LDA_stability[num_topics[i]] = jaccard_sims\n",
        "                \n",
        "mean_stabilities = [np.array(LDA_stability[i]).mean() for i in num_topics[:-1]]"
      ]
    },
    {
      "cell_type": "code",
      "execution_count": null,
      "metadata": {
        "id": "EooFV5v9D2Uk"
      },
      "outputs": [],
      "source": [
        "coherences = [CoherenceModel(model=LDA_models[i], texts=corpus, dictionary=dirichlet_dict, coherence='c_v').get_coherence() for i in num_topics[:-1]]"
      ]
    },
    {
      "cell_type": "code",
      "execution_count": null,
      "metadata": {
        "id": "h0RlkvOHD2Uk"
      },
      "outputs": [],
      "source": [
        "num_keywords = len(coherences)"
      ]
    },
    {
      "cell_type": "code",
      "execution_count": null,
      "metadata": {
        "id": "1cwFsMrGD2Uk"
      },
      "outputs": [],
      "source": [
        "coh_sta_diffs = [coherences[i] - mean_stabilities[i] for i in range(num_keywords)[:-1]] # limit topic numbers to the number of keywords\n",
        "coh_sta_max = max(coh_sta_diffs)\n",
        "coh_sta_max_idxs = [i for i, j in enumerate(coh_sta_diffs) if j == coh_sta_max]\n",
        "ideal_topic_num_index = coh_sta_max_idxs[0] # choose less topics in case there's more than one max\n",
        "ideal_topic_num = num_topics[ideal_topic_num_index]"
      ]
    },
    {
      "cell_type": "code",
      "execution_count": null,
      "metadata": {
        "id": "1lHmkEi-D2Uk"
      },
      "outputs": [],
      "source": [
        "plt.figure(figsize=(20,10))\n",
        "ax = sns.lineplot(x=num_topics[:-1], y=mean_stabilities, label='Average Topic Overlap')\n",
        "ax = sns.lineplot(x=num_topics[:-1], y=coherences, label='Topic Coherence')\n",
        "\n",
        "ax.axvline(x=ideal_topic_num, label='Ideal Number of Topics', color='black')\n",
        "ax.axvspan(xmin=ideal_topic_num - 1, xmax=ideal_topic_num + 1, alpha=0.5, facecolor='grey')\n",
        "\n",
        "y_max = max(max(mean_stabilities), max(coherences)) + (0.10 * max(max(mean_stabilities), max(coherences)))\n",
        "ax.set_ylim([0, y_max])\n",
        "ax.set_xlim([1, num_topics[-1]-1])\n",
        "                \n",
        "ax.axes.set_title('Model Metrics per Number of Topics', fontsize=25)\n",
        "ax.set_ylabel('Metric Level', fontsize=20)\n",
        "ax.set_xlabel('Number of Topics', fontsize=20)\n",
        "plt.legend(fontsize=20)\n",
        "plt.show()  "
      ]
    },
    {
      "cell_type": "code",
      "execution_count": null,
      "metadata": {},
      "outputs": [],
      "source": [
        "lsitopics = [[word for word, prob in topic]\n",
        "             for topicid, topic in lda_model.show_topics(formatted=False)]\n",
        "\n",
        "coherence_model_lda = CoherenceModel( model=lda_model,texts=tokens, dictionary=dictionary, coherence='c_v', topics = lsitopics )\n",
        "coherence_lda = coherence_model_lda.get_coherence()\n",
        "print('\\nCoherence Score for Author Keywords: ', coherence_lda)"
      ]
    },
    {
      "cell_type": "markdown",
      "metadata": {},
      "source": [
        "### We will use a coherence matrix Abstract Keywords"
      ]
    },
    {
      "cell_type": "code",
      "execution_count": null,
      "metadata": {},
      "outputs": [],
      "source": [
        "data = data[data[\"tokens_2\"].str.len() != 0]"
      ]
    },
    {
      "cell_type": "code",
      "execution_count": null,
      "metadata": {},
      "outputs": [],
      "source": [
        "corpus_2 = data['tokens_2']"
      ]
    },
    {
      "cell_type": "code",
      "execution_count": null,
      "metadata": {},
      "outputs": [],
      "source": [
        "data.tokens_2.value_counts().reset_index()"
      ]
    },
    {
      "cell_type": "code",
      "execution_count": null,
      "metadata": {},
      "outputs": [],
      "source": [
        "dirichlet_dict_2 = corpora.Dictionary(corpus_2)\n",
        "bow_corpus = [dirichlet_dict.doc2bow(text_2) for text_2 in corpus_2]\n",
        "\n",
        "# Considering 1-15 topics, as the last is cut off\n",
        "num_topics = list(range(10)[1:])\n",
        "num_keywords = 15\n",
        "\n",
        "LDA_models_2 = {}\n",
        "LDA_topics_2 = {}\n",
        "for i in num_topics:\n",
        "    LDA_models[i] = LdaModel(corpus=bow_corpus,\n",
        "                             id2word=dirichlet_dict_2,\n",
        "                             num_topics=i,\n",
        "                             update_every=1,\n",
        "                             chunksize=len(bow_corpus),\n",
        "                             passes=10,\n",
        "                             alpha='auto',\n",
        "                             random_state=42)\n",
        "\n",
        "    shown_topics = LDA_models[i].show_topics(num_topics=i, \n",
        "                                             num_words=num_keywords,\n",
        "                                             formatted=False)\n",
        "    LDA_topics[i] = [[word[0] for word in topic[1]] for topic in shown_topics]"
      ]
    },
    {
      "cell_type": "code",
      "execution_count": null,
      "metadata": {},
      "outputs": [],
      "source": [
        "def jaccard_similarity(topic_1, topic_2):\n",
        "    \"\"\"\n",
        "    Derives the Jaccard similarity of two topics\n",
        "\n",
        "    Jaccard similarity:\n",
        "    - A statistic used for comparing the similarity and diversity of sample sets\n",
        "    - J(A,B) = (A ∩ B)/(A ∪ B)\n",
        "    - Goal is low Jaccard scores for coverage of the diverse elements\n",
        "    \"\"\"\n",
        "    intersection = set(topic_1).intersection(set(topic_2))\n",
        "    union = set(topic_1).union(set(topic_2))\n",
        "                    \n",
        "    return float(len(intersection))/float(len(union))"
      ]
    },
    {
      "cell_type": "code",
      "execution_count": null,
      "metadata": {},
      "outputs": [],
      "source": [
        "LDA_stability = {}\n",
        "for i in range(0, len(num_topics)-1):\n",
        "    jaccard_sims = []\n",
        "    for t1, topic1 in enumerate(LDA_topics[num_topics[i]]): # pylint: disable=unused-variable\n",
        "        sims = []\n",
        "        for t2, topic2 in enumerate(LDA_topics[num_topics[i+1]]): # pylint: disable=unused-variable\n",
        "            sims.append(jaccard_similarity(topic1, topic2))    \n",
        "        \n",
        "        jaccard_sims.append(sims)    \n",
        "    \n",
        "    LDA_stability[num_topics[i]] = jaccard_sims\n",
        "                \n",
        "mean_stabilities_2 = [np.array(LDA_stability[i]).mean() for i in num_topics[:-1]]"
      ]
    },
    {
      "cell_type": "code",
      "execution_count": null,
      "metadata": {},
      "outputs": [],
      "source": [
        "coherences_2 = [CoherenceModel(model=LDA_models[i], texts=corpus_2, dictionary=dirichlet_dict_2, coherence='c_v').get_coherence() for i in num_topics[:-1]]"
      ]
    },
    {
      "cell_type": "code",
      "execution_count": null,
      "metadata": {},
      "outputs": [],
      "source": [
        "num_keywords = len(coherences_2)"
      ]
    },
    {
      "cell_type": "code",
      "execution_count": null,
      "metadata": {},
      "outputs": [],
      "source": [
        "coh_sta_diffs_2 = [coherences_2[i] - mean_stabilities[i] for i in range(num_keywords)[:-1]] # limit topic numbers to the number of keywords\n",
        "coh_sta_max_2 = max(coh_sta_diffs_2)\n",
        "coh_sta_max_idxs_2 = [i for i, j in enumerate(coh_sta_diffs_2) if j == coh_sta_max_2]\n",
        "ideal_topic_num_index_2 = coh_sta_max_idxs_2[0] # choose less topics in case there's more than one max\n",
        "ideal_topic_num_2 = num_topics[ideal_topic_num_index_2]"
      ]
    },
    {
      "cell_type": "code",
      "execution_count": null,
      "metadata": {},
      "outputs": [],
      "source": [
        "plt.figure(figsize=(20,10))\n",
        "ax = sns.lineplot(x=num_topics[:-1], y=mean_stabilities_2, label='Average Topic Overlap')\n",
        "ax = sns.lineplot(x=num_topics[:-1], y=coherences_2, label='Topic Coherence')\n",
        "\n",
        "ax.axvline(x=ideal_topic_num_2, label='Ideal Number of Topics', color='black')\n",
        "ax.axvspan(xmin=ideal_topic_num_2 - 1, xmax=ideal_topic_num + 1, alpha=0.5, facecolor='grey')\n",
        "\n",
        "y_max = max(max(mean_stabilities_2), max(coherences_2)) + (0.10 * max(max(mean_stabilities_2), max(coherences_2)))\n",
        "ax.set_ylim([0, y_max])\n",
        "ax.set_xlim([1, num_topics[-1]-1])\n",
        "                \n",
        "ax.axes.set_title('Model Metrics per Number of Topics', fontsize=25)\n",
        "ax.set_ylabel('Metric Level', fontsize=20)\n",
        "ax.set_xlabel('Number of Topics', fontsize=20)\n",
        "plt.legend(fontsize=20)\n",
        "plt.show()  "
      ]
    },
    {
      "cell_type": "code",
      "execution_count": null,
      "metadata": {},
      "outputs": [],
      "source": [
        "ldatopics_2 = [[word for word, prob in topic]\n",
        "             for topicid, topic in lda_model_2.show_topics(formatted=False)]\n",
        "\n",
        "coherence_model_lda_2 = CoherenceModel( model=lda_model_2,texts=tokens_2, dictionary=dictionary_2, coherence='c_v', topics = ldatopics_2 )\n",
        "coherence_lda_2 = coherence_model_lda_2.get_coherence()\n",
        "print('\\nCoherence Score for Abstract: ', coherence_lda_2)"
      ]
    }
  ],
  "metadata": {
    "colab": {
      "provenance": []
    },
    "kernelspec": {
      "display_name": "Python 3.9.12 ('base')",
      "language": "python",
      "name": "python3"
    },
    "language_info": {
      "codemirror_mode": {
        "name": "ipython",
        "version": 3
      },
      "file_extension": ".py",
      "mimetype": "text/x-python",
      "name": "python",
      "nbconvert_exporter": "python",
      "pygments_lexer": "ipython3",
      "version": "3.9.12"
    },
    "orig_nbformat": 4,
    "vscode": {
      "interpreter": {
        "hash": "995406004189bc7a762cd15e0adc766b4032076a3e0cf164ca390850079b6fa1"
      }
    }
  },
  "nbformat": 4,
  "nbformat_minor": 0
}

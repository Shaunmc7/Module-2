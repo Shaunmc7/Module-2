{
  "cells": [
    {
      "cell_type": "markdown",
      "metadata": {
        "id": "dHWjyxICD2T2"
      },
      "source": [
        "### All the packages that will be needed for natural language processing"
      ]
    },
    {
      "cell_type": "code",
      "execution_count": 1,
      "metadata": {
        "colab": {
          "base_uri": "https://localhost:8080/"
        },
        "id": "0y4qSrKID2T7",
        "outputId": "3c7523eb-0b81-486d-a1f5-d6af33383516"
      },
      "outputs": [],
      "source": [
        "import string\n",
        "from spacy.lang.en.stop_words import STOP_WORDS\n",
        "from sklearn.feature_extraction.text import CountVectorizer,TfidfVectorizer\n",
        "from spacy.lang.en import English\n",
        "from sklearn.base import TransformerMixin\n",
        "from sklearn.pipeline import Pipeline\n",
        "import matplotlib.pyplot as plt\n",
        "import pandas as pd\n",
        "import numpy as np\n",
        "import preprocessor as prepro # text prepro\n",
        "import tqdm #progress bar\n",
        "from gensim.models import LdaModel, CoherenceModel\n",
        "from gensim import corpora\n",
        "import seaborn as sns\n",
        "from imblearn.over_sampling import SMOTE\n",
        "SMOTE = SMOTE()\n",
        "import spacy #spacy for quick language prepro\n",
        "nlp = spacy.load('en_core_web_sm') #instantiating English module\n",
        "import scipy.sparse as ss\n",
        "\n",
        "# sampling, splitting\n",
        "from imblearn.under_sampling import RandomUnderSampler\n",
        "from sklearn.model_selection import train_test_split\n",
        "\n",
        "\n",
        "# loading ML libraries\n",
        "from sklearn.pipeline import make_pipeline #pipeline creation\n",
        "from sklearn.feature_extraction.text import TfidfVectorizer #transforms text to sparse matrix\n",
        "from sklearn.linear_model import LogisticRegression #Logit model\n",
        "from sklearn.metrics import classification_report #that's self explanatory\n",
        "from sklearn.decomposition import TruncatedSVD #dimensionality reduction\n",
        "from xgboost import XGBClassifier\n",
        "from sklearn.preprocessing import LabelEncoder\n",
        "import altair as alt #viz\n",
        "\n",
        "#explainability\n",
        "import eli5\n",
        "from eli5.lime import TextExplainer\n",
        "\n",
        "# topic modeling\n",
        "\n",
        "from gensim.corpora.dictionary import Dictionary # Import the dictionary builder\n",
        "from gensim.models import LdaMulticore # we'll use the faster multicore version of LDA\n",
        "\n",
        "# Import pyLDAvis\n",
        "import pyLDAvis\n",
        "import pyLDAvis.gensim_models as gensimvis\n",
        "\n",
        "%matplotlib inline\n",
        "pyLDAvis.enable_notebook()"
      ]
    },
    {
      "cell_type": "code",
      "execution_count": 2,
      "metadata": {
        "id": "vGXbQMWtD2T9"
      },
      "outputs": [],
      "source": [
        "# prepro settings\n",
        "# This is prob not relevant, since it has to do with tweets? \n",
        "# prepro.set_options(prepro.OPT.URL, prepro.OPT.NUMBER, prepro.OPT.RESERVED, prepro.OPT.MENTION, prepro.OPT.SMILEY)"
      ]
    },
    {
      "cell_type": "markdown",
      "metadata": {
        "id": "rcs7Hcz_D2T-"
      },
      "source": [
        "### Loading and appending the datasets"
      ]
    },
    {
      "cell_type": "code",
      "execution_count": 3,
      "metadata": {
        "id": "RWmzmswAD2T_"
      },
      "outputs": [],
      "source": [
        "scopus2022 = pd.read_csv('scopus 2022 2021.csv',  sep = ',')\n",
        "scopus = pd.read_csv('scopus.csv',  sep = ',')"
      ]
    },
    {
      "cell_type": "code",
      "execution_count": 4,
      "metadata": {
        "id": "EYEhZ0f-D2T_"
      },
      "outputs": [
        {
          "name": "stderr",
          "output_type": "stream",
          "text": [
            "C:\\Users\\maart\\AppData\\Local\\Temp\\ipykernel_4396\\3402760882.py:1: FutureWarning: The frame.append method is deprecated and will be removed from pandas in a future version. Use pandas.concat instead.\n",
            "  data = scopus2022.append(scopus, ignore_index=True)\n"
          ]
        }
      ],
      "source": [
        "data = scopus2022.append(scopus, ignore_index=True)"
      ]
    },
    {
      "cell_type": "code",
      "execution_count": 5,
      "metadata": {
        "colab": {
          "base_uri": "https://localhost:8080/",
          "height": 1000
        },
        "id": "knEto1MsD2UA",
        "outputId": "d85d89c7-00c9-4cda-d36c-b26a1d683d8b"
      },
      "outputs": [
        {
          "data": {
            "text/html": [
              "<div>\n",
              "<style scoped>\n",
              "    .dataframe tbody tr th:only-of-type {\n",
              "        vertical-align: middle;\n",
              "    }\n",
              "\n",
              "    .dataframe tbody tr th {\n",
              "        vertical-align: top;\n",
              "    }\n",
              "\n",
              "    .dataframe thead th {\n",
              "        text-align: right;\n",
              "    }\n",
              "</style>\n",
              "<table border=\"1\" class=\"dataframe\">\n",
              "  <thead>\n",
              "    <tr style=\"text-align: right;\">\n",
              "      <th></th>\n",
              "      <th>Authors</th>\n",
              "      <th>Author(s) ID</th>\n",
              "      <th>Title</th>\n",
              "      <th>Year</th>\n",
              "      <th>Source title</th>\n",
              "      <th>Volume</th>\n",
              "      <th>Issue</th>\n",
              "      <th>Art. No.</th>\n",
              "      <th>Page start</th>\n",
              "      <th>Page end</th>\n",
              "      <th>...</th>\n",
              "      <th>ISBN</th>\n",
              "      <th>CODEN</th>\n",
              "      <th>PubMed ID</th>\n",
              "      <th>Language of Original Document</th>\n",
              "      <th>Abbreviated Source Title</th>\n",
              "      <th>Document Type</th>\n",
              "      <th>Publication Stage</th>\n",
              "      <th>Open Access</th>\n",
              "      <th>Source</th>\n",
              "      <th>EID</th>\n",
              "    </tr>\n",
              "  </thead>\n",
              "  <tbody>\n",
              "    <tr>\n",
              "      <th>0</th>\n",
              "      <td>Yang T., Zhang X.</td>\n",
              "      <td>57907798100;56342888200;</td>\n",
              "      <td>FinTech adoption and financial inclusion: Evid...</td>\n",
              "      <td>2022</td>\n",
              "      <td>Journal of Banking and Finance</td>\n",
              "      <td>145</td>\n",
              "      <td>NaN</td>\n",
              "      <td>106668</td>\n",
              "      <td>NaN</td>\n",
              "      <td>NaN</td>\n",
              "      <td>...</td>\n",
              "      <td>NaN</td>\n",
              "      <td>JBFID</td>\n",
              "      <td>NaN</td>\n",
              "      <td>English</td>\n",
              "      <td>J. Bank. Financ.</td>\n",
              "      <td>Article</td>\n",
              "      <td>Final</td>\n",
              "      <td>NaN</td>\n",
              "      <td>Scopus</td>\n",
              "      <td>2-s2.0-85138806241</td>\n",
              "    </tr>\n",
              "    <tr>\n",
              "      <th>1</th>\n",
              "      <td>Wang X., Wang Y., Zhao Y.</td>\n",
              "      <td>57193015825;57901727900;57901783600;</td>\n",
              "      <td>Financial permeation and rural poverty reducti...</td>\n",
              "      <td>2022</td>\n",
              "      <td>China Economic Review</td>\n",
              "      <td>76</td>\n",
              "      <td>NaN</td>\n",
              "      <td>101863</td>\n",
              "      <td>NaN</td>\n",
              "      <td>NaN</td>\n",
              "      <td>...</td>\n",
              "      <td>NaN</td>\n",
              "      <td>NaN</td>\n",
              "      <td>NaN</td>\n",
              "      <td>English</td>\n",
              "      <td>China Econ. Rev.</td>\n",
              "      <td>Article</td>\n",
              "      <td>Final</td>\n",
              "      <td>NaN</td>\n",
              "      <td>Scopus</td>\n",
              "      <td>2-s2.0-85138589769</td>\n",
              "    </tr>\n",
              "    <tr>\n",
              "      <th>2</th>\n",
              "      <td>Dzandu M.D., Hanu C., Amegbe H.</td>\n",
              "      <td>56590001600;57201152816;57194904537;</td>\n",
              "      <td>Gamification of mobile money payment for gener...</td>\n",
              "      <td>2022</td>\n",
              "      <td>Technological Forecasting and Social Change</td>\n",
              "      <td>185</td>\n",
              "      <td>NaN</td>\n",
              "      <td>122049</td>\n",
              "      <td>NaN</td>\n",
              "      <td>NaN</td>\n",
              "      <td>...</td>\n",
              "      <td>NaN</td>\n",
              "      <td>NaN</td>\n",
              "      <td>NaN</td>\n",
              "      <td>English</td>\n",
              "      <td>Technol. Forecast. Soc. Change</td>\n",
              "      <td>Article</td>\n",
              "      <td>Final</td>\n",
              "      <td>All Open Access, Hybrid Gold, Green</td>\n",
              "      <td>Scopus</td>\n",
              "      <td>2-s2.0-85138450268</td>\n",
              "    </tr>\n",
              "    <tr>\n",
              "      <th>3</th>\n",
              "      <td>Grassi L., Fantaccini S.</td>\n",
              "      <td>57192656409;57895835500;</td>\n",
              "      <td>An overview of Fintech applications to solve t...</td>\n",
              "      <td>2022</td>\n",
              "      <td>Financial Innovation</td>\n",
              "      <td>8</td>\n",
              "      <td>1</td>\n",
              "      <td>84</td>\n",
              "      <td>NaN</td>\n",
              "      <td>NaN</td>\n",
              "      <td>...</td>\n",
              "      <td>NaN</td>\n",
              "      <td>NaN</td>\n",
              "      <td>NaN</td>\n",
              "      <td>English</td>\n",
              "      <td>Financial Innov.</td>\n",
              "      <td>Article</td>\n",
              "      <td>Final</td>\n",
              "      <td>All Open Access, Gold, Green</td>\n",
              "      <td>Scopus</td>\n",
              "      <td>2-s2.0-85138286241</td>\n",
              "    </tr>\n",
              "    <tr>\n",
              "      <th>4</th>\n",
              "      <td>DeFusco A.A., Tang H., Yannelis C.</td>\n",
              "      <td>57193852071;57890330600;55413678100;</td>\n",
              "      <td>Measuring the welfare cost of asymmetric infor...</td>\n",
              "      <td>2022</td>\n",
              "      <td>Journal of Financial Economics</td>\n",
              "      <td>146</td>\n",
              "      <td>3</td>\n",
              "      <td>NaN</td>\n",
              "      <td>821</td>\n",
              "      <td>840.0</td>\n",
              "      <td>...</td>\n",
              "      <td>NaN</td>\n",
              "      <td>JFECD</td>\n",
              "      <td>NaN</td>\n",
              "      <td>English</td>\n",
              "      <td>J. Financ. Econ.</td>\n",
              "      <td>Article</td>\n",
              "      <td>Final</td>\n",
              "      <td>NaN</td>\n",
              "      <td>Scopus</td>\n",
              "      <td>2-s2.0-85138101180</td>\n",
              "    </tr>\n",
              "    <tr>\n",
              "      <th>...</th>\n",
              "      <td>...</td>\n",
              "      <td>...</td>\n",
              "      <td>...</td>\n",
              "      <td>...</td>\n",
              "      <td>...</td>\n",
              "      <td>...</td>\n",
              "      <td>...</td>\n",
              "      <td>...</td>\n",
              "      <td>...</td>\n",
              "      <td>...</td>\n",
              "      <td>...</td>\n",
              "      <td>...</td>\n",
              "      <td>...</td>\n",
              "      <td>...</td>\n",
              "      <td>...</td>\n",
              "      <td>...</td>\n",
              "      <td>...</td>\n",
              "      <td>...</td>\n",
              "      <td>...</td>\n",
              "      <td>...</td>\n",
              "      <td>...</td>\n",
              "    </tr>\n",
              "    <tr>\n",
              "      <th>3395</th>\n",
              "      <td>Fayard E.H.</td>\n",
              "      <td>35072693600;</td>\n",
              "      <td>ACC pressure cleaning</td>\n",
              "      <td>2010</td>\n",
              "      <td>Power Engineering (Barrington, Illinois)</td>\n",
              "      <td>114</td>\n",
              "      <td>5</td>\n",
              "      <td>NaN</td>\n",
              "      <td>22</td>\n",
              "      <td>NaN</td>\n",
              "      <td>...</td>\n",
              "      <td>NaN</td>\n",
              "      <td>POENA</td>\n",
              "      <td>NaN</td>\n",
              "      <td>English</td>\n",
              "      <td>Power Eng. Barrington Ill</td>\n",
              "      <td>Short Survey</td>\n",
              "      <td>Final</td>\n",
              "      <td>NaN</td>\n",
              "      <td>Scopus</td>\n",
              "      <td>2-s2.0-77953829082</td>\n",
              "    </tr>\n",
              "    <tr>\n",
              "      <th>3396</th>\n",
              "      <td>Dassanayake M.M.K., Tilakarathne C.</td>\n",
              "      <td>57221353725;55762978100;</td>\n",
              "      <td>Predicting trading signals of Sri Lankan stock...</td>\n",
              "      <td>2010</td>\n",
              "      <td>Technological Developments in Networking, Educ...</td>\n",
              "      <td>NaN</td>\n",
              "      <td>NaN</td>\n",
              "      <td>NaN</td>\n",
              "      <td>269</td>\n",
              "      <td>273</td>\n",
              "      <td>...</td>\n",
              "      <td>9789048191505</td>\n",
              "      <td>NaN</td>\n",
              "      <td>NaN</td>\n",
              "      <td>English</td>\n",
              "      <td>Technol. Dev. Networking, Educ. Autom.</td>\n",
              "      <td>Conference Paper</td>\n",
              "      <td>Final</td>\n",
              "      <td>NaN</td>\n",
              "      <td>Scopus</td>\n",
              "      <td>2-s2.0-84878897261</td>\n",
              "    </tr>\n",
              "    <tr>\n",
              "      <th>3397</th>\n",
              "      <td>Hao H.-N.</td>\n",
              "      <td>36617357100;</td>\n",
              "      <td>Notice of Retraction: Short-term forecasting o...</td>\n",
              "      <td>2010</td>\n",
              "      <td>Proceedings - 2010 6th International Conferenc...</td>\n",
              "      <td>4</td>\n",
              "      <td>NaN</td>\n",
              "      <td>5584528</td>\n",
              "      <td>1838</td>\n",
              "      <td>1841</td>\n",
              "      <td>...</td>\n",
              "      <td>9781424459612</td>\n",
              "      <td>NaN</td>\n",
              "      <td>NaN</td>\n",
              "      <td>English</td>\n",
              "      <td>Proc. - Int. Conf. Nat. Comput., ICNC</td>\n",
              "      <td>Retracted</td>\n",
              "      <td>Final</td>\n",
              "      <td>NaN</td>\n",
              "      <td>Scopus</td>\n",
              "      <td>2-s2.0-78149350510</td>\n",
              "    </tr>\n",
              "    <tr>\n",
              "      <th>3398</th>\n",
              "      <td>Ma Z.-X., Zhang W.</td>\n",
              "      <td>55479146300;56621528900;</td>\n",
              "      <td>Notice of Retraction: An discrimination resear...</td>\n",
              "      <td>2010</td>\n",
              "      <td>ICAMS 2010 - Proceedings of 2010 IEEE Internat...</td>\n",
              "      <td>3</td>\n",
              "      <td>NaN</td>\n",
              "      <td>5553273</td>\n",
              "      <td>116</td>\n",
              "      <td>119</td>\n",
              "      <td>...</td>\n",
              "      <td>9781424469291</td>\n",
              "      <td>NaN</td>\n",
              "      <td>NaN</td>\n",
              "      <td>English</td>\n",
              "      <td>ICAMS - Proc. IEEE Int. Conf. Adv. Manage. Sci.</td>\n",
              "      <td>Retracted</td>\n",
              "      <td>Final</td>\n",
              "      <td>NaN</td>\n",
              "      <td>Scopus</td>\n",
              "      <td>2-s2.0-77957273781</td>\n",
              "    </tr>\n",
              "    <tr>\n",
              "      <th>3399</th>\n",
              "      <td>Danial S.N., Noor S.R., Usmani B.A., Zaidi S.J.H.</td>\n",
              "      <td>24823887800;24825002200;26666352700;57549810600;</td>\n",
              "      <td>A dynamical system and neural network perspect...</td>\n",
              "      <td>2008</td>\n",
              "      <td>Communications in Computer and Information Sci...</td>\n",
              "      <td>20 CCIS</td>\n",
              "      <td>NaN</td>\n",
              "      <td>NaN</td>\n",
              "      <td>88</td>\n",
              "      <td>99</td>\n",
              "      <td>...</td>\n",
              "      <td>3540898522; 9783540898528</td>\n",
              "      <td>NaN</td>\n",
              "      <td>NaN</td>\n",
              "      <td>English</td>\n",
              "      <td>Commun. Comput. Info. Sci.</td>\n",
              "      <td>Conference Paper</td>\n",
              "      <td>Final</td>\n",
              "      <td>NaN</td>\n",
              "      <td>Scopus</td>\n",
              "      <td>2-s2.0-85099426338</td>\n",
              "    </tr>\n",
              "  </tbody>\n",
              "</table>\n",
              "<p>3400 rows × 54 columns</p>\n",
              "</div>"
            ],
            "text/plain": [
              "                                                Authors  \\\n",
              "0                                     Yang T., Zhang X.   \n",
              "1                             Wang X., Wang Y., Zhao Y.   \n",
              "2                       Dzandu M.D., Hanu C., Amegbe H.   \n",
              "3                              Grassi L., Fantaccini S.   \n",
              "4                    DeFusco A.A., Tang H., Yannelis C.   \n",
              "...                                                 ...   \n",
              "3395                                        Fayard E.H.   \n",
              "3396                Dassanayake M.M.K., Tilakarathne C.   \n",
              "3397                                          Hao H.-N.   \n",
              "3398                                 Ma Z.-X., Zhang W.   \n",
              "3399  Danial S.N., Noor S.R., Usmani B.A., Zaidi S.J.H.   \n",
              "\n",
              "                                          Author(s) ID  \\\n",
              "0                             57907798100;56342888200;   \n",
              "1                 57193015825;57901727900;57901783600;   \n",
              "2                 56590001600;57201152816;57194904537;   \n",
              "3                             57192656409;57895835500;   \n",
              "4                 57193852071;57890330600;55413678100;   \n",
              "...                                                ...   \n",
              "3395                                      35072693600;   \n",
              "3396                          57221353725;55762978100;   \n",
              "3397                                      36617357100;   \n",
              "3398                          55479146300;56621528900;   \n",
              "3399  24823887800;24825002200;26666352700;57549810600;   \n",
              "\n",
              "                                                  Title  Year  \\\n",
              "0     FinTech adoption and financial inclusion: Evid...  2022   \n",
              "1     Financial permeation and rural poverty reducti...  2022   \n",
              "2     Gamification of mobile money payment for gener...  2022   \n",
              "3     An overview of Fintech applications to solve t...  2022   \n",
              "4     Measuring the welfare cost of asymmetric infor...  2022   \n",
              "...                                                 ...   ...   \n",
              "3395                              ACC pressure cleaning  2010   \n",
              "3396  Predicting trading signals of Sri Lankan stock...  2010   \n",
              "3397  Notice of Retraction: Short-term forecasting o...  2010   \n",
              "3398  Notice of Retraction: An discrimination resear...  2010   \n",
              "3399  A dynamical system and neural network perspect...  2008   \n",
              "\n",
              "                                           Source title   Volume Issue  \\\n",
              "0                        Journal of Banking and Finance      145   NaN   \n",
              "1                                 China Economic Review       76   NaN   \n",
              "2           Technological Forecasting and Social Change      185   NaN   \n",
              "3                                  Financial Innovation        8     1   \n",
              "4                        Journal of Financial Economics      146     3   \n",
              "...                                                 ...      ...   ...   \n",
              "3395           Power Engineering (Barrington, Illinois)      114     5   \n",
              "3396  Technological Developments in Networking, Educ...      NaN   NaN   \n",
              "3397  Proceedings - 2010 6th International Conferenc...        4   NaN   \n",
              "3398  ICAMS 2010 - Proceedings of 2010 IEEE Internat...        3   NaN   \n",
              "3399  Communications in Computer and Information Sci...  20 CCIS   NaN   \n",
              "\n",
              "     Art. No. Page start Page end  ...                       ISBN  CODEN  \\\n",
              "0      106668        NaN      NaN  ...                        NaN  JBFID   \n",
              "1      101863        NaN      NaN  ...                        NaN    NaN   \n",
              "2      122049        NaN      NaN  ...                        NaN    NaN   \n",
              "3          84        NaN      NaN  ...                        NaN    NaN   \n",
              "4         NaN        821    840.0  ...                        NaN  JFECD   \n",
              "...       ...        ...      ...  ...                        ...    ...   \n",
              "3395      NaN         22      NaN  ...                        NaN  POENA   \n",
              "3396      NaN        269      273  ...              9789048191505    NaN   \n",
              "3397  5584528       1838     1841  ...              9781424459612    NaN   \n",
              "3398  5553273        116      119  ...              9781424469291    NaN   \n",
              "3399      NaN         88       99  ...  3540898522; 9783540898528    NaN   \n",
              "\n",
              "     PubMed ID Language of Original Document  \\\n",
              "0          NaN                       English   \n",
              "1          NaN                       English   \n",
              "2          NaN                       English   \n",
              "3          NaN                       English   \n",
              "4          NaN                       English   \n",
              "...        ...                           ...   \n",
              "3395       NaN                       English   \n",
              "3396       NaN                       English   \n",
              "3397       NaN                       English   \n",
              "3398       NaN                       English   \n",
              "3399       NaN                       English   \n",
              "\n",
              "                             Abbreviated Source Title     Document Type  \\\n",
              "0                                    J. Bank. Financ.           Article   \n",
              "1                                    China Econ. Rev.           Article   \n",
              "2                      Technol. Forecast. Soc. Change           Article   \n",
              "3                                    Financial Innov.           Article   \n",
              "4                                    J. Financ. Econ.           Article   \n",
              "...                                               ...               ...   \n",
              "3395                        Power Eng. Barrington Ill      Short Survey   \n",
              "3396           Technol. Dev. Networking, Educ. Autom.  Conference Paper   \n",
              "3397            Proc. - Int. Conf. Nat. Comput., ICNC         Retracted   \n",
              "3398  ICAMS - Proc. IEEE Int. Conf. Adv. Manage. Sci.         Retracted   \n",
              "3399                       Commun. Comput. Info. Sci.  Conference Paper   \n",
              "\n",
              "     Publication Stage                          Open Access  Source  \\\n",
              "0                Final                                  NaN  Scopus   \n",
              "1                Final                                  NaN  Scopus   \n",
              "2                Final  All Open Access, Hybrid Gold, Green  Scopus   \n",
              "3                Final         All Open Access, Gold, Green  Scopus   \n",
              "4                Final                                  NaN  Scopus   \n",
              "...                ...                                  ...     ...   \n",
              "3395             Final                                  NaN  Scopus   \n",
              "3396             Final                                  NaN  Scopus   \n",
              "3397             Final                                  NaN  Scopus   \n",
              "3398             Final                                  NaN  Scopus   \n",
              "3399             Final                                  NaN  Scopus   \n",
              "\n",
              "                     EID  \n",
              "0     2-s2.0-85138806241  \n",
              "1     2-s2.0-85138589769  \n",
              "2     2-s2.0-85138450268  \n",
              "3     2-s2.0-85138286241  \n",
              "4     2-s2.0-85138101180  \n",
              "...                  ...  \n",
              "3395  2-s2.0-77953829082  \n",
              "3396  2-s2.0-84878897261  \n",
              "3397  2-s2.0-78149350510  \n",
              "3398  2-s2.0-77957273781  \n",
              "3399  2-s2.0-85099426338  \n",
              "\n",
              "[3400 rows x 54 columns]"
            ]
          },
          "execution_count": 5,
          "metadata": {},
          "output_type": "execute_result"
        }
      ],
      "source": [
        "data"
      ]
    },
    {
      "cell_type": "code",
      "execution_count": 6,
      "metadata": {
        "colab": {
          "base_uri": "https://localhost:8080/"
        },
        "id": "mQN6X2TfD2UB",
        "outputId": "17a6cdab-1bc8-4c3b-a53b-ea87c8f20c34"
      },
      "outputs": [
        {
          "name": "stdout",
          "output_type": "stream",
          "text": [
            "<class 'pandas.core.frame.DataFrame'>\n",
            "RangeIndex: 3400 entries, 0 to 3399\n",
            "Data columns (total 54 columns):\n",
            " #   Column                         Non-Null Count  Dtype  \n",
            "---  ------                         --------------  -----  \n",
            " 0   Authors                        3400 non-null   object \n",
            " 1   Author(s) ID                   3399 non-null   object \n",
            " 2   Title                          3400 non-null   object \n",
            " 3   Year                           3400 non-null   int64  \n",
            " 4   Source title                   3400 non-null   object \n",
            " 5   Volume                         2320 non-null   object \n",
            " 6   Issue                          1426 non-null   object \n",
            " 7   Art. No.                       1051 non-null   object \n",
            " 8   Page start                     2336 non-null   object \n",
            " 9   Page end                       2326 non-null   object \n",
            " 10  Page count                     38 non-null     float64\n",
            " 11  Cited by                       2164 non-null   float64\n",
            " 12  DOI                            2972 non-null   object \n",
            " 13  Link                           3400 non-null   object \n",
            " 14  Affiliations                   3305 non-null   object \n",
            " 15  Authors with affiliations      3342 non-null   object \n",
            " 16  Abstract                       3400 non-null   object \n",
            " 17  Author Keywords                2781 non-null   object \n",
            " 18  Index Keywords                 1616 non-null   object \n",
            " 19  Molecular Sequence Numbers     0 non-null      float64\n",
            " 20  Chemicals/CAS                  4 non-null      object \n",
            " 21  Tradenames                     0 non-null      float64\n",
            " 22  Manufacturers                  0 non-null      float64\n",
            " 23  Funding Details                827 non-null    object \n",
            " 24  Funding Text 1                 1039 non-null   object \n",
            " 25  Funding Text 2                 141 non-null    object \n",
            " 26  Funding Text 3                 7 non-null      object \n",
            " 27  Funding Text 4                 1 non-null      object \n",
            " 28  Funding Text 5                 1 non-null      object \n",
            " 29  Funding Text 6                 1 non-null      object \n",
            " 30  Funding Text 7                 1 non-null      object \n",
            " 31  Funding Text 8                 0 non-null      float64\n",
            " 32  Funding Text 9                 0 non-null      float64\n",
            " 33  Funding Text 10                0 non-null      float64\n",
            " 34  References                     3212 non-null   object \n",
            " 35  Correspondence Address         2354 non-null   object \n",
            " 36  Editors                        491 non-null    object \n",
            " 37  Sponsors                       319 non-null    object \n",
            " 38  Publisher                      3394 non-null   object \n",
            " 39  Conference name                1063 non-null   object \n",
            " 40  Conference date                1062 non-null   object \n",
            " 41  Conference location            3 non-null      object \n",
            " 42  Conference code                1065 non-null   float64\n",
            " 43  ISSN                           2540 non-null   object \n",
            " 44  ISBN                           1174 non-null   object \n",
            " 45  CODEN                          276 non-null    object \n",
            " 46  PubMed ID                      36 non-null     float64\n",
            " 47  Language of Original Document  3400 non-null   object \n",
            " 48  Abbreviated Source Title       3396 non-null   object \n",
            " 49  Document Type                  3400 non-null   object \n",
            " 50  Publication Stage              3400 non-null   object \n",
            " 51  Open Access                    1097 non-null   object \n",
            " 52  Source                         3400 non-null   object \n",
            " 53  EID                            3400 non-null   object \n",
            "dtypes: float64(10), int64(1), object(43)\n",
            "memory usage: 1.4+ MB\n"
          ]
        }
      ],
      "source": [
        "data.info()"
      ]
    },
    {
      "cell_type": "code",
      "execution_count": 7,
      "metadata": {
        "colab": {
          "base_uri": "https://localhost:8080/",
          "height": 393
        },
        "id": "YCYShS4LD2UC",
        "outputId": "5d0a5975-1205-47ac-8686-0662dddb61ff"
      },
      "outputs": [
        {
          "data": {
            "text/html": [
              "<div>\n",
              "<style scoped>\n",
              "    .dataframe tbody tr th:only-of-type {\n",
              "        vertical-align: middle;\n",
              "    }\n",
              "\n",
              "    .dataframe tbody tr th {\n",
              "        vertical-align: top;\n",
              "    }\n",
              "\n",
              "    .dataframe thead th {\n",
              "        text-align: right;\n",
              "    }\n",
              "</style>\n",
              "<table border=\"1\" class=\"dataframe\">\n",
              "  <thead>\n",
              "    <tr style=\"text-align: right;\">\n",
              "      <th></th>\n",
              "      <th>Authors</th>\n",
              "      <th>Author(s) ID</th>\n",
              "      <th>Title</th>\n",
              "      <th>Source title</th>\n",
              "      <th>Volume</th>\n",
              "      <th>Issue</th>\n",
              "      <th>Art. No.</th>\n",
              "      <th>Page start</th>\n",
              "      <th>Page end</th>\n",
              "      <th>DOI</th>\n",
              "      <th>...</th>\n",
              "      <th>ISSN</th>\n",
              "      <th>ISBN</th>\n",
              "      <th>CODEN</th>\n",
              "      <th>Language of Original Document</th>\n",
              "      <th>Abbreviated Source Title</th>\n",
              "      <th>Document Type</th>\n",
              "      <th>Publication Stage</th>\n",
              "      <th>Open Access</th>\n",
              "      <th>Source</th>\n",
              "      <th>EID</th>\n",
              "    </tr>\n",
              "  </thead>\n",
              "  <tbody>\n",
              "    <tr>\n",
              "      <th>count</th>\n",
              "      <td>3400</td>\n",
              "      <td>3399</td>\n",
              "      <td>3400</td>\n",
              "      <td>3400</td>\n",
              "      <td>2320</td>\n",
              "      <td>1426</td>\n",
              "      <td>1051</td>\n",
              "      <td>2336</td>\n",
              "      <td>2326</td>\n",
              "      <td>2972</td>\n",
              "      <td>...</td>\n",
              "      <td>2540</td>\n",
              "      <td>1174</td>\n",
              "      <td>276</td>\n",
              "      <td>3400</td>\n",
              "      <td>3396</td>\n",
              "      <td>3400</td>\n",
              "      <td>3400</td>\n",
              "      <td>1097</td>\n",
              "      <td>3400</td>\n",
              "      <td>3400</td>\n",
              "    </tr>\n",
              "    <tr>\n",
              "      <th>unique</th>\n",
              "      <td>3167</td>\n",
              "      <td>3156</td>\n",
              "      <td>3389</td>\n",
              "      <td>1455</td>\n",
              "      <td>495</td>\n",
              "      <td>81</td>\n",
              "      <td>1023</td>\n",
              "      <td>1013</td>\n",
              "      <td>1369</td>\n",
              "      <td>2969</td>\n",
              "      <td>...</td>\n",
              "      <td>949</td>\n",
              "      <td>821</td>\n",
              "      <td>124</td>\n",
              "      <td>4</td>\n",
              "      <td>1429</td>\n",
              "      <td>13</td>\n",
              "      <td>2</td>\n",
              "      <td>7</td>\n",
              "      <td>1</td>\n",
              "      <td>3400</td>\n",
              "    </tr>\n",
              "    <tr>\n",
              "      <th>top</th>\n",
              "      <td>[No author name available]</td>\n",
              "      <td>[No author id available]</td>\n",
              "      <td>Introduction</td>\n",
              "      <td>ACM International Conference Proceeding Series</td>\n",
              "      <td>8</td>\n",
              "      <td>1</td>\n",
              "      <td>8</td>\n",
              "      <td>1</td>\n",
              "      <td>20</td>\n",
              "      <td>10.1142/9789811235825_0003</td>\n",
              "      <td>...</td>\n",
              "      <td>21945357</td>\n",
              "      <td>9781799832591; 9781799832577</td>\n",
              "      <td>JEBUD</td>\n",
              "      <td>English</td>\n",
              "      <td>ACM Int. Conf. Proc. Ser.</td>\n",
              "      <td>Article</td>\n",
              "      <td>Final</td>\n",
              "      <td>All Open Access, Gold</td>\n",
              "      <td>Scopus</td>\n",
              "      <td>2-s2.0-85138806241</td>\n",
              "    </tr>\n",
              "    <tr>\n",
              "      <th>freq</th>\n",
              "      <td>58</td>\n",
              "      <td>58</td>\n",
              "      <td>4</td>\n",
              "      <td>93</td>\n",
              "      <td>95</td>\n",
              "      <td>322</td>\n",
              "      <td>4</td>\n",
              "      <td>158</td>\n",
              "      <td>11</td>\n",
              "      <td>2</td>\n",
              "      <td>...</td>\n",
              "      <td>53</td>\n",
              "      <td>15</td>\n",
              "      <td>15</td>\n",
              "      <td>3395</td>\n",
              "      <td>93</td>\n",
              "      <td>1770</td>\n",
              "      <td>3241</td>\n",
              "      <td>278</td>\n",
              "      <td>3400</td>\n",
              "      <td>1</td>\n",
              "    </tr>\n",
              "  </tbody>\n",
              "</table>\n",
              "<p>4 rows × 43 columns</p>\n",
              "</div>"
            ],
            "text/plain": [
              "                           Authors              Author(s) ID         Title  \\\n",
              "count                         3400                      3399          3400   \n",
              "unique                        3167                      3156          3389   \n",
              "top     [No author name available]  [No author id available]  Introduction   \n",
              "freq                            58                        58             4   \n",
              "\n",
              "                                          Source title Volume Issue Art. No.  \\\n",
              "count                                             3400   2320  1426     1051   \n",
              "unique                                            1455    495    81     1023   \n",
              "top     ACM International Conference Proceeding Series      8     1        8   \n",
              "freq                                                93     95   322        4   \n",
              "\n",
              "       Page start Page end                         DOI  ...      ISSN  \\\n",
              "count        2336     2326                        2972  ...      2540   \n",
              "unique       1013     1369                        2969  ...       949   \n",
              "top             1       20  10.1142/9789811235825_0003  ...  21945357   \n",
              "freq          158       11                           2  ...        53   \n",
              "\n",
              "                                ISBN  CODEN Language of Original Document  \\\n",
              "count                           1174    276                          3400   \n",
              "unique                           821    124                             4   \n",
              "top     9781799832591; 9781799832577  JEBUD                       English   \n",
              "freq                              15     15                          3395   \n",
              "\n",
              "         Abbreviated Source Title Document Type Publication Stage  \\\n",
              "count                        3396          3400              3400   \n",
              "unique                       1429            13                 2   \n",
              "top     ACM Int. Conf. Proc. Ser.       Article             Final   \n",
              "freq                           93          1770              3241   \n",
              "\n",
              "                  Open Access  Source                 EID  \n",
              "count                    1097    3400                3400  \n",
              "unique                      7       1                3400  \n",
              "top     All Open Access, Gold  Scopus  2-s2.0-85138806241  \n",
              "freq                      278    3400                   1  \n",
              "\n",
              "[4 rows x 43 columns]"
            ]
          },
          "execution_count": 7,
          "metadata": {},
          "output_type": "execute_result"
        }
      ],
      "source": [
        "data.describe(include='object')\n"
      ]
    },
    {
      "cell_type": "code",
      "execution_count": 8,
      "metadata": {
        "colab": {
          "base_uri": "https://localhost:8080/"
        },
        "id": "SYzDPh3DD2UC",
        "outputId": "10e9ec8f-765d-42ba-dee1-0afd5455ebb6"
      },
      "outputs": [
        {
          "data": {
            "text/plain": [
              "0       Consumption; Consumption inequality; Credit co...\n",
              "1       Bank branch expansion; Financial permeation; F...\n",
              "2       Customer value; FinTech; Gamification; Marketi...\n",
              "3       Crowdfunding; Fintech; Health crowdfunding; He...\n",
              "4       Asymmetric information; Consumer credit; Exper...\n",
              "                              ...                        \n",
              "3395                                                  NaN\n",
              "3396                                                  NaN\n",
              "3397    Genetic-neural network; Short-term forecasting...\n",
              "3398    Discrimination analysis; Insider trading; Mark...\n",
              "3399    correlation dimension; KSE-100 index returns; ...\n",
              "Name: Author Keywords, Length: 3400, dtype: object"
            ]
          },
          "execution_count": 8,
          "metadata": {},
          "output_type": "execute_result"
        }
      ],
      "source": [
        "data['Author Keywords']"
      ]
    },
    {
      "cell_type": "code",
      "execution_count": 9,
      "metadata": {
        "id": "yjWVXlCDD2UD"
      },
      "outputs": [],
      "source": [
        "data = data[['Authors', 'Author(s) ID','Title', 'Abstract','Year', 'Source title', 'Author Keywords']]"
      ]
    },
    {
      "cell_type": "code",
      "execution_count": 10,
      "metadata": {
        "colab": {
          "base_uri": "https://localhost:8080/"
        },
        "id": "x--8o2WVD2UF",
        "outputId": "c4f7fd9a-8dae-4d1c-fa8d-70f3918edc65"
      },
      "outputs": [
        {
          "name": "stderr",
          "output_type": "stream",
          "text": [
            "C:\\Users\\maart\\AppData\\Local\\Temp\\ipykernel_4396\\3149525087.py:1: SettingWithCopyWarning: \n",
            "A value is trying to be set on a copy of a slice from a DataFrame.\n",
            "Try using .loc[row_indexer,col_indexer] = value instead\n",
            "\n",
            "See the caveats in the documentation: https://pandas.pydata.org/pandas-docs/stable/user_guide/indexing.html#returning-a-view-versus-a-copy\n",
            "  data['Author Keywords'] = data['Author Keywords'].astype({'Author Keywords':'string'})\n"
          ]
        }
      ],
      "source": [
        "data['Author Keywords'] = data['Author Keywords'].astype({'Author Keywords':'string'})"
      ]
    },
    {
      "cell_type": "code",
      "execution_count": 11,
      "metadata": {
        "colab": {
          "base_uri": "https://localhost:8080/"
        },
        "id": "iDHNpWAjD2UF",
        "outputId": "953aae9d-70d5-43a8-b687-8f71377ff4a0"
      },
      "outputs": [
        {
          "data": {
            "text/plain": [
              "0       Consumption; Consumption inequality; Credit co...\n",
              "1       Bank branch expansion; Financial permeation; F...\n",
              "2       Customer value; FinTech; Gamification; Marketi...\n",
              "3       Crowdfunding; Fintech; Health crowdfunding; He...\n",
              "4       Asymmetric information; Consumer credit; Exper...\n",
              "                              ...                        \n",
              "3395                                                 <NA>\n",
              "3396                                                 <NA>\n",
              "3397    Genetic-neural network; Short-term forecasting...\n",
              "3398    Discrimination analysis; Insider trading; Mark...\n",
              "3399    correlation dimension; KSE-100 index returns; ...\n",
              "Name: Author Keywords, Length: 3400, dtype: string"
            ]
          },
          "execution_count": 11,
          "metadata": {},
          "output_type": "execute_result"
        }
      ],
      "source": [
        "data['Author Keywords']"
      ]
    },
    {
      "cell_type": "code",
      "execution_count": 16,
      "metadata": {
        "colab": {
          "base_uri": "https://localhost:8080/"
        },
        "id": "TnzWSAxKD2UG",
        "outputId": "83cfa5ee-d5ed-4e2d-a527-cc0e4fe13705"
      },
      "outputs": [
        {
          "name": "stderr",
          "output_type": "stream",
          "text": [
            "C:\\Users\\maart\\AppData\\Local\\Temp\\ipykernel_4396\\339833404.py:1: SettingWithCopyWarning: \n",
            "A value is trying to be set on a copy of a slice from a DataFrame\n",
            "\n",
            "See the caveats in the documentation: https://pandas.pydata.org/pandas-docs/stable/user_guide/indexing.html#returning-a-view-versus-a-copy\n",
            "  data.dropna(inplace = True)\n"
          ]
        }
      ],
      "source": [
        "data.dropna(inplace = True)"
      ]
    },
    {
      "cell_type": "code",
      "execution_count": 17,
      "metadata": {
        "colab": {
          "base_uri": "https://localhost:8080/"
        },
        "id": "pwv-tn6OD2UH",
        "outputId": "c7fd7287-93f8-45fd-9a39-da5f8e5978f0"
      },
      "outputs": [
        {
          "data": {
            "text/plain": [
              "0    Consumption; Consumption inequality; Credit co...\n",
              "1    Bank branch expansion; Financial permeation; F...\n",
              "2    Customer value; FinTech; Gamification; Marketi...\n",
              "3    Crowdfunding; Fintech; Health crowdfunding; He...\n",
              "4    Asymmetric information; Consumer credit; Exper...\n",
              "Name: Author Keywords, dtype: string"
            ]
          },
          "execution_count": 17,
          "metadata": {},
          "output_type": "execute_result"
        }
      ],
      "source": [
        "data['Author Keywords'].head()"
      ]
    },
    {
      "cell_type": "code",
      "execution_count": 18,
      "metadata": {
        "colab": {
          "base_uri": "https://localhost:8080/"
        },
        "id": "ZW9FiCqHD2UH",
        "outputId": "69163f0b-0efe-4658-de35-7c12e9387cd6"
      },
      "outputs": [
        {
          "data": {
            "text/plain": [
              "False    2781\n",
              "Name: Author Keywords, dtype: int64"
            ]
          },
          "execution_count": 18,
          "metadata": {},
          "output_type": "execute_result"
        }
      ],
      "source": [
        "data['Author Keywords'].isnull().value_counts()"
      ]
    },
    {
      "cell_type": "markdown",
      "metadata": {},
      "source": [
        "#### Preprocessing the data for Author Keywords column"
      ]
    },
    {
      "cell_type": "code",
      "execution_count": 19,
      "metadata": {
        "colab": {
          "base_uri": "https://localhost:8080/"
        },
        "id": "WoV_x76oD2UI",
        "outputId": "67f67105-7742-4d55-8404-261707aef854"
      },
      "outputs": [
        {
          "name": "stderr",
          "output_type": "stream",
          "text": [
            "  0%|          | 0/3400 [00:15<?, ?it/s]\n",
            "c:\\Users\\maart\\anaconda3\\lib\\site-packages\\spacy\\pipeline\\lemmatizer.py:211: UserWarning: [W108] The rule-based lemmatizer did not find POS annotation for one or more tokens. Check that your pipeline includes components that assign token.pos, typically 'tagger'+'attribute_ruler' or 'morphologizer'.\n",
            "  warnings.warn(Warnings.W108)\n",
            " 92%|█████████▏| 2561/2781 [00:02<00:00, 1534.77it/s]"
          ]
        },
        {
          "name": "stderr",
          "output_type": "stream",
          "text": [
            "100%|██████████| 2781/2781 [00:14<00:00, 1534.77it/s]"
          ]
        }
      ],
      "source": [
        "# run progress bar and clean up using spacy but without some heavy parts of the pipeline\n",
        "\n",
        "clean_text = []\n",
        "\n",
        "pbar = tqdm.tqdm(total=len(data['Author Keywords']),position=0, leave=True)\n",
        "\n",
        "for text in nlp.pipe(data['Author Keywords'], disable=[\"tagger\", \"parser\", \"ner\"]):\n",
        "\n",
        "  txt = [token.lemma_.lower() for token in text \n",
        "         if token.is_alpha \n",
        "         and not token.is_stop \n",
        "         and not token.is_punct]\n",
        "\n",
        "  clean_text.append(\" \".join(txt))\n",
        "\n",
        "  pbar.update(1)"
      ]
    },
    {
      "cell_type": "code",
      "execution_count": null,
      "metadata": {
        "id": "NtkljYgFD2UJ"
      },
      "outputs": [],
      "source": [
        "# write everything into one function that can be re-used later\n",
        "def text_prepro(texts):\n",
        "  \"\"\"\n",
        "  takes in a pandas series (1 column of a DF)\n",
        "  removes twitter stuff\n",
        "  lowercases, normalizes text\n",
        "  \"\"\"\n",
        "  texts_clean = texts.map(lambda t: prepro.clean(t))\n",
        "  clean_container = []\n",
        "\n",
        "  pbar = tqdm.tqdm(total=len(texts_clean),position=0, leave=True)\n",
        "\n",
        "  for text in nlp.pipe(texts_clean, disable=[\"tagger\", \"parser\", \"ner\"]):\n",
        "\n",
        "    txt = [token.lemma_.lower() for token in text \n",
        "          if token.is_alpha \n",
        "          and not token.is_stop \n",
        "          and not token.is_punct]\n",
        "\n",
        "    clean_container.append(\" \".join(txt))\n",
        "    pbar.update(1)\n",
        "  \n",
        "  return clean_container"
      ]
    },
    {
      "cell_type": "code",
      "execution_count": null,
      "metadata": {
        "colab": {
          "base_uri": "https://localhost:8080/",
          "height": 352
        },
        "id": "gJk3hNMXD2UJ",
        "outputId": "e89801e3-6284-474e-9bbf-f1a6463c5b8e"
      },
      "outputs": [
        {
          "name": "stderr",
          "output_type": "stream",
          "text": [
            "100%|██████████| 2781/2781 [00:01<00:00, 1492.72it/s]\n",
            "C:\\Users\\maart\\AppData\\Local\\Temp\\ipykernel_8448\\4189515260.py:2: SettingWithCopyWarning: \n",
            "A value is trying to be set on a copy of a slice from a DataFrame.\n",
            "Try using .loc[row_indexer,col_indexer] = value instead\n",
            "\n",
            "See the caveats in the documentation: https://pandas.pydata.org/pandas-docs/stable/user_guide/indexing.html#returning-a-view-versus-a-copy\n",
            "  data['Author_Keywords'] = text_prepro(data['Author Keywords'])\n"
          ]
        }
      ],
      "source": [
        "# apply all prepro-pipeline to texts\n",
        "data['Author_Keywords'] = text_prepro(data['Author Keywords'])"
      ]
    },
    {
      "cell_type": "code",
      "execution_count": null,
      "metadata": {
        "id": "a-AavgpuD2UK"
      },
      "outputs": [],
      "source": [
        "# preprocess texts (we need tokens)\n",
        "tokens = []\n",
        "\n",
        "for summary in nlp.pipe(data['Author Keywords'], disable=[\"ner\"]):\n",
        "  proj_tok = [token.lemma_.lower() for token in summary \n",
        "              if token.pos_ in ['NOUN', 'PROPN', 'ADJ', 'ADV'] \n",
        "              and not token.is_stop\n",
        "              and not token.is_punct] \n",
        "  tokens.append(proj_tok)"
      ]
    },
    {
      "cell_type": "code",
      "execution_count": null,
      "metadata": {
        "colab": {
          "base_uri": "https://localhost:8080/"
        },
        "id": "e8W1SJLHD2UK",
        "outputId": "103d6e32-14fe-4f21-fe0f-c6422e45d4fc"
      },
      "outputs": [
        {
          "name": "stderr",
          "output_type": "stream",
          "text": [
            "C:\\Users\\maart\\AppData\\Local\\Temp\\ipykernel_8448\\2173657068.py:1: SettingWithCopyWarning: \n",
            "A value is trying to be set on a copy of a slice from a DataFrame.\n",
            "Try using .loc[row_indexer,col_indexer] = value instead\n",
            "\n",
            "See the caveats in the documentation: https://pandas.pydata.org/pandas-docs/stable/user_guide/indexing.html#returning-a-view-versus-a-copy\n",
            "  data['tokens'] = tokens\n"
          ]
        }
      ],
      "source": [
        "data['tokens'] = tokens"
      ]
    },
    {
      "cell_type": "code",
      "execution_count": null,
      "metadata": {
        "id": "AKurUUVyD2UK"
      },
      "outputs": [
        {
          "name": "stderr",
          "output_type": "stream",
          "text": [
            "100%|██████████| 2781/2781 [00:20<00:00, 1439.42it/s]"
          ]
        }
      ],
      "source": [
        "# Create a Dictionary from the articles: dictionary\n",
        "dictionary = Dictionary(data['tokens'])\n",
        "dictionary.filter_extremes(no_below=50, no_above=0.5, keep_n=1000)\n",
        "# construct corpus using this dictionary\n",
        "corpus = [dictionary.doc2bow(doc) for doc in data['tokens']]"
      ]
    },
    {
      "cell_type": "markdown",
      "metadata": {},
      "source": [
        "#### Preprocessing the data for Abstract column"
      ]
    },
    {
      "cell_type": "code",
      "execution_count": 35,
      "metadata": {},
      "outputs": [
        {
          "name": "stderr",
          "output_type": "stream",
          "text": [
            "  0%|          | 0/2781 [00:10<?, ?it/s]\n",
            "c:\\Users\\maart\\anaconda3\\lib\\site-packages\\spacy\\pipeline\\lemmatizer.py:211: UserWarning: [W108] The rule-based lemmatizer did not find POS annotation for one or more tokens. Check that your pipeline includes components that assign token.pos, typically 'tagger'+'attribute_ruler' or 'morphologizer'.\n",
            "  warnings.warn(Warnings.W108)\n",
            " 98%|█████████▊| 2719/2781 [00:11<00:00, 320.94it/s]"
          ]
        }
      ],
      "source": [
        "# run progress bar and clean up using spacy but without some heavy parts of the pipeline\n",
        "\n",
        "clean_text_2 = []\n",
        "\n",
        "pbar_2 = tqdm.tqdm(total=len(data['Abstract']),position=0, leave=True)\n",
        "\n",
        "for text_2 in nlp.pipe(data['Abstract'], disable=[\"tagger\", \"parser\", \"ner\"]):\n",
        "\n",
        "  txt_2 = [token_2.lemma_.lower() for token_2 in text_2 \n",
        "         if token_2.is_alpha \n",
        "         and not token_2.is_stop \n",
        "         and not token_2.is_punct]\n",
        "\n",
        "  clean_text.append(\" \".join(txt_2))\n",
        "\n",
        "  pbar_2.update(1)"
      ]
    },
    {
      "cell_type": "code",
      "execution_count": 36,
      "metadata": {},
      "outputs": [
        {
          "name": "stderr",
          "output_type": "stream",
          "text": [
            "100%|██████████| 2781/2781 [00:31<00:00, 320.94it/s]"
          ]
        }
      ],
      "source": [
        "# write everything into one function that can be re-used later\n",
        "def text_prepro_2(texts_2):\n",
        "  \"\"\"\n",
        "  takes in a pandas series (1 column of a DF)\n",
        "  removes twitter stuff\n",
        "  lowercases, normalizes text\n",
        "  \"\"\"\n",
        "  texts_clean_2 = texts_2.map(lambda t: prepro.clean(t))\n",
        "  clean_container_2 = []\n",
        "\n",
        "  pbar_2 = tqdm.tqdm(total=len(texts_clean_2),position=0, leave=True)\n",
        "\n",
        "  for text_2 in nlp.pipe(texts_clean_2, disable=[\"tagger\", \"parser\", \"ner\"]):\n",
        "\n",
        "    txt_2 = [token_2.lemma_.lower() for token_2 in text_2 \n",
        "          if token_2.is_alpha \n",
        "          and not token_2.is_stop \n",
        "          and not token_2.is_punct]\n",
        "\n",
        "    clean_container_2.append(\" \".join(txt_2))\n",
        "    pbar_2.update(1)\n",
        "  \n",
        "  return clean_container_2"
      ]
    },
    {
      "cell_type": "code",
      "execution_count": 37,
      "metadata": {},
      "outputs": [
        {
          "name": "stderr",
          "output_type": "stream",
          "text": [
            "  0%|          | 0/2781 [00:00<?, ?it/s]c:\\Users\\maart\\anaconda3\\lib\\site-packages\\spacy\\pipeline\\lemmatizer.py:211: UserWarning: [W108] The rule-based lemmatizer did not find POS annotation for one or more tokens. Check that your pipeline includes components that assign token.pos, typically 'tagger'+'attribute_ruler' or 'morphologizer'.\n",
            "  warnings.warn(Warnings.W108)\n",
            "100%|██████████| 2781/2781 [00:11<00:00, 238.98it/s]\n",
            "C:\\Users\\maart\\AppData\\Local\\Temp\\ipykernel_4396\\41527334.py:2: SettingWithCopyWarning: \n",
            "A value is trying to be set on a copy of a slice from a DataFrame.\n",
            "Try using .loc[row_indexer,col_indexer] = value instead\n",
            "\n",
            "See the caveats in the documentation: https://pandas.pydata.org/pandas-docs/stable/user_guide/indexing.html#returning-a-view-versus-a-copy\n",
            "  data['Abstract'] = text_prepro_2(data['Abstract'])\n"
          ]
        }
      ],
      "source": [
        "# apply all prepro-pipeline to texts\n",
        "data['Abstract'] = text_prepro_2(data['Abstract'])"
      ]
    },
    {
      "cell_type": "code",
      "execution_count": 38,
      "metadata": {},
      "outputs": [],
      "source": [
        "# preprocess texts (we need tokens)\n",
        "tokens_2 = []\n",
        "\n",
        "for summary in nlp.pipe(data['Abstract'], disable=[\"ner\"]):\n",
        "  proj_tok_2 = [token_2.lemma_.lower() for token_2 in summary \n",
        "              if token_2.pos_ in ['NOUN', 'PROPN', 'ADJ', 'ADV'] \n",
        "              and not token_2.is_stop\n",
        "              and not token_2.is_punct] \n",
        "  tokens_2.append(proj_tok_2)"
      ]
    },
    {
      "cell_type": "code",
      "execution_count": 39,
      "metadata": {},
      "outputs": [
        {
          "name": "stderr",
          "output_type": "stream",
          "text": [
            "C:\\Users\\maart\\AppData\\Local\\Temp\\ipykernel_4396\\2808454871.py:1: SettingWithCopyWarning: \n",
            "A value is trying to be set on a copy of a slice from a DataFrame.\n",
            "Try using .loc[row_indexer,col_indexer] = value instead\n",
            "\n",
            "See the caveats in the documentation: https://pandas.pydata.org/pandas-docs/stable/user_guide/indexing.html#returning-a-view-versus-a-copy\n",
            "  data['tokens_2'] = tokens_2\n"
          ]
        }
      ],
      "source": [
        "data['tokens_2'] = tokens_2"
      ]
    },
    {
      "cell_type": "code",
      "execution_count": 42,
      "metadata": {},
      "outputs": [],
      "source": [
        "# Create a Dictionary from the articles: dictionary\n",
        "dictionary_2 = Dictionary(data['tokens_2'])\n",
        "dictionary_2.filter_extremes(no_below=50, no_above=0.5, keep_n=1000)\n",
        "# construct corpus using this dictionary\n",
        "corpus_2 = [dictionary_2.doc2bow(doc) for doc in data['tokens_2']]"
      ]
    },
    {
      "cell_type": "markdown",
      "metadata": {
        "id": "aCKrV34cD2UL"
      },
      "source": [
        "### UML"
      ]
    },
    {
      "cell_type": "code",
      "execution_count": null,
      "metadata": {
        "id": "3OKlgESCD2UM"
      },
      "outputs": [],
      "source": [
        "#Importing UML packages\n",
        "from sklearn.preprocessing import StandardScaler\n",
        "scaler = StandardScaler()"
      ]
    },
    {
      "cell_type": "code",
      "execution_count": null,
      "metadata": {
        "id": "ovV4NSyPD2UM"
      },
      "outputs": [],
      "source": [
        "from sklearn.feature_extraction.text import TfidfVectorizer\n",
        "tfidf = TfidfVectorizer()"
      ]
    },
    {
      "cell_type": "code",
      "execution_count": null,
      "metadata": {
        "id": "YWzy_-KsD2UM"
      },
      "outputs": [],
      "source": [
        "sparse_matrix =tfidf.fit_transform(data['Author Keywords'])"
      ]
    },
    {
      "cell_type": "code",
      "execution_count": null,
      "metadata": {
        "id": "mnjUBuuJD2UM"
      },
      "outputs": [],
      "source": [
        "#Import nmf\n",
        "from sklearn.decomposition import NMF"
      ]
    },
    {
      "cell_type": "code",
      "execution_count": null,
      "metadata": {
        "id": "qqpaks72D2UN"
      },
      "outputs": [],
      "source": [
        "#Using 4 components in order to determine relevancy\n",
        "nmf = NMF(n_components=5)"
      ]
    },
    {
      "cell_type": "code",
      "execution_count": null,
      "metadata": {
        "colab": {
          "base_uri": "https://localhost:8080/"
        },
        "id": "5hAIGSzXD2UN",
        "outputId": "cc9f9c93-2c9d-445d-8bb9-d782d2d3a67f"
      },
      "outputs": [],
      "source": [
        "matrix_nmf = nmf.fit_transform(sparse_matrix)"
      ]
    },
    {
      "cell_type": "code",
      "execution_count": null,
      "metadata": {
        "colab": {
          "base_uri": "https://localhost:8080/"
        },
        "id": "t_rB4t9aD2UO",
        "outputId": "7a8fabc0-9d4a-48e4-8d71-5a296cfa41e0"
      },
      "outputs": [],
      "source": [
        "matrix_nmf.shape"
      ]
    },
    {
      "cell_type": "code",
      "execution_count": null,
      "metadata": {
        "colab": {
          "base_uri": "https://localhost:8080/"
        },
        "id": "yOjxxkydD2UP",
        "outputId": "734859f0-5b23-46f1-8d9f-c7ae69ff3244"
      },
      "outputs": [],
      "source": [
        "data['Author Keywords'].shape"
      ]
    },
    {
      "cell_type": "code",
      "execution_count": null,
      "metadata": {
        "colab": {
          "base_uri": "https://localhost:8080/"
        },
        "id": "ZgVcAgrED2UP",
        "outputId": "c62b9841-4436-4150-ab42-e14e140d1514"
      },
      "outputs": [],
      "source": [
        "nmf.components_.shape"
      ]
    },
    {
      "cell_type": "code",
      "execution_count": null,
      "metadata": {
        "colab": {
          "base_uri": "https://localhost:8080/"
        },
        "id": "FCdYh81jD2UR",
        "outputId": "918c470b-ac33-452b-871b-6fac73d33bad"
      },
      "outputs": [],
      "source": [
        "matrix_nmf.shape"
      ]
    },
    {
      "cell_type": "code",
      "execution_count": null,
      "metadata": {
        "id": "5DhD_DV1D2UT"
      },
      "outputs": [],
      "source": [
        "#2 components are more relevant\n",
        "plt.figure(figsize=(20,3))\n",
        "\n",
        "sns.heatmap(pd.DataFrame(matrix_nmf, columns=['PC1','PC2','PC3','PC4','PC5']), annot=True)"
      ]
    },
    {
      "cell_type": "markdown",
      "metadata": {},
      "source": [
        "### LDA For Abstract"
      ]
    },
    {
      "cell_type": "code",
      "execution_count": 44,
      "metadata": {},
      "outputs": [],
      "source": [
        "lda_model_2 = LdaMulticore(corpus_2, id2word=dictionary_2, num_topics=5, workers = 4, passes=10, random_state = 60)"
      ]
    },
    {
      "cell_type": "code",
      "execution_count": 45,
      "metadata": {},
      "outputs": [
        {
          "name": "stderr",
          "output_type": "stream",
          "text": [
            "c:\\Users\\maart\\anaconda3\\lib\\site-packages\\pyLDAvis\\_prepare.py:246: FutureWarning: In a future version of pandas all arguments of DataFrame.drop except for the argument 'labels' will be keyword-only.\n",
            "  default_term_info = default_term_info.sort_values(\n"
          ]
        }
      ],
      "source": [
        "# Let's try to visualize\n",
        "lda_display_2 = pyLDAvis.gensim_models.prepare(lda_model_2, corpus_2, dictionary_2)"
      ]
    },
    {
      "cell_type": "code",
      "execution_count": 46,
      "metadata": {},
      "outputs": [
        {
          "data": {
            "text/html": [
              "\n",
              "<link rel=\"stylesheet\" type=\"text/css\" href=\"https://cdn.jsdelivr.net/gh/bmabey/pyLDAvis@3.3.1/pyLDAvis/js/ldavis.v1.0.0.css\">\n",
              "\n",
              "\n",
              "<div id=\"ldavis_el43962922807146416910698572\"></div>\n",
              "<script type=\"text/javascript\">\n",
              "\n",
              "var ldavis_el43962922807146416910698572_data = {\"mdsDat\": {\"x\": [0.08292678459411093, 0.08986535282375807, -0.016231458290499507, -0.006735228854963517, -0.14982545027240612], \"y\": [0.03389703105790628, 0.010113943682323542, -0.11461053856447813, 0.03492517030700992, 0.035674393517238265], \"topics\": [1, 2, 3, 4, 5], \"cluster\": [1, 1, 1, 1, 1], \"Freq\": [25.00794325752338, 24.441277717395977, 18.043948948091266, 17.782248154939253, 14.724581922050126]}, \"tinfo\": {\"Term\": [\"stock\", \"energy\", \"price\", \"model\", \"service\", \"bank\", \"prediction\", \"learning\", \"transaction\", \"user\", \"blockchain\", \"network\", \"trading\", \"lending\", \"islamic\", \"machine\", \"market\", \"neural\", \"business\", \"system\", \"digital\", \"smart\", \"payment\", \"banking\", \"contract\", \"loan\", \"investor\", \"datum\", \"platform\", \"research\", \"informa\", \"francis\", \"taylor\", \"africa\", \"corporate\", \"uk\", \"sustainable\", \"institutional\", \"governance\", \"originality\", \"central\", \"emerald\", \"money\", \"inclusion\", \"stability\", \"limited\", \"micro\", \"sustainability\", \"panel\", \"chapter\", \"policymaker\", \"group\", \"south\", \"country\", \"literacy\", \"implication\", \"social\", \"qualitative\", \"china\", \"uncertainty\", \"practice\", \"development\", \"sector\", \"banking\", \"policy\", \"innovation\", \"economy\", \"relationship\", \"firm\", \"impact\", \"regulation\", \"bank\", \"finance\", \"study\", \"risk\", \"digital\", \"industry\", \"regulatory\", \"role\", \"finding\", \"institution\", \"purpose\", \"research\", \"effect\", \"value\", \"paper\", \"service\", \"new\", \"datum\", \"system\", \"market\", \"analysis\", \"lender\", \"borrower\", \"lending\", \"loan\", \"robo\", \"funding\", \"sme\", \"advisor\", \"financing\", \"retail\", \"incumbent\", \"segment\", \"up\", \"startup\", \"channel\", \"fintechs\", \"small\", \"capital\", \"success\", \"default\", \"tech\", \"digitalization\", \"competition\", \"entrepreneur\", \"satisfaction\", \"alternative\", \"service\", \"determinant\", \"disruption\", \"income\", \"india\", \"platform\", \"customer\", \"bank\", \"peer\", \"business\", \"digital\", \"payment\", \"company\", \"consumer\", \"product\", \"traditional\", \"banking\", \"new\", \"credit\", \"market\", \"study\", \"investment\", \"growth\", \"factor\", \"online\", \"industry\", \"model\", \"high\", \"research\", \"datum\", \"information\", \"development\", \"paper\", \"energy\", \"grid\", \"ethereum\", \"contract\", \"electricity\", \"privacy\", \"smart\", \"secure\", \"node\", \"scheme\", \"reliable\", \"consensus\", \"device\", \"transaction\", \"ledger\", \"consumption\", \"intention\", \"party\", \"user\", \"blockchain\", \"usefulness\", \"power\", \"partial\", \"reliability\", \"acceptance\", \"generation\", \"trust\", \"equation\", \"detection\", \"respondent\", \"security\", \"trading\", \"system\", \"mechanism\", \"efficiency\", \"ieee\", \"datum\", \"payment\", \"data\", \"use\", \"application\", \"platform\", \"model\", \"factor\", \"mobile\", \"information\", \"method\", \"result\", \"risk\", \"paper\", \"study\", \"service\", \"market\", \"research\", \"sandbox\", \"systematic\", \"intelligence\", \"ai\", \"cloud\", \"review\", \"journal\", \"science\", \"academic\", \"domain\", \"topic\", \"database\", \"subject\", \"publication\", \"artificial\", \"virtual\", \"cryptocurrency\", \"iot\", \"language\", \"practitioner\", \"intelligent\", \"literature\", \"element\", \"assessment\", \"basis\", \"category\", \"cryptocurrencie\", \"extensive\", \"scientific\", \"communication\", \"direction\", \"field\", \"area\", \"research\", \"organization\", \"framework\", \"regulatory\", \"paper\", \"strategy\", \"approach\", \"analysis\", \"business\", \"future\", \"application\", \"case\", \"new\", \"information\", \"model\", \"industry\", \"innovation\", \"study\", \"datum\", \"system\", \"solution\", \"market\", \"method\", \"process\", \"development\", \"security\", \"service\", \"stock\", \"neural\", \"forecasting\", \"prediction\", \"memory\", \"price\", \"volatility\", \"islamic\", \"green\", \"accuracy\", \"forecast\", \"portfolio\", \"return\", \"series\", \"deep\", \"random\", \"learning\", \"movement\", \"error\", \"accurate\", \"machine\", \"daily\", \"linear\", \"benchmark\", \"input\", \"index\", \"day\", \"short\", \"historical\", \"average\", \"exchange\", \"network\", \"investor\", \"model\", \"asset\", \"market\", \"algorithm\", \"time\", \"performance\", \"trading\", \"method\", \"technique\", \"datum\", \"result\", \"high\", \"investment\", \"paper\", \"study\", \"different\", \"risk\", \"strategy\"], \"Freq\": [853.0, 632.0, 574.0, 2143.0, 2216.0, 1775.0, 396.0, 509.0, 762.0, 796.0, 753.0, 810.0, 857.0, 537.0, 363.0, 479.0, 2050.0, 299.0, 1198.0, 1455.0, 1474.0, 399.0, 954.0, 1108.0, 316.0, 379.0, 485.0, 1892.0, 897.0, 1758.0, 86.42837322885526, 98.32980364383644, 97.94625270033323, 88.45320919353992, 114.21583743342494, 127.15250759918445, 181.77333607649393, 57.891311629544056, 97.51731620101215, 131.36852953419353, 99.82629440967816, 119.73258073361214, 290.6679225196334, 298.013044434364, 110.26918593833521, 116.95342727638089, 64.69145334486774, 89.55661327172973, 56.08149331861667, 70.65364870926679, 46.86244002358229, 165.99095334153958, 47.2293846310831, 343.18600475391327, 79.89697611052333, 236.18824789834437, 339.5907043448307, 79.80713659713862, 175.7338276121159, 46.4985673015963, 149.31439871814263, 816.9301441121903, 472.5670578020006, 578.2917832588672, 254.33759725001917, 524.0466994094602, 294.230220463496, 226.45362902149995, 288.2488819493957, 358.8999938449636, 274.08499590917523, 705.4416632732411, 447.06744602422043, 848.7532346109604, 504.72911629618, 560.7516704987835, 406.8792720712578, 280.4985004632001, 240.21676538127565, 247.42991565454182, 228.2409026547532, 218.23828923694472, 430.23362806120116, 243.57692083695244, 259.63752180649715, 348.7004166697595, 367.7566172009443, 278.6993979208727, 292.1439372336609, 274.9914266751156, 278.6087032480678, 250.97455622847778, 151.23471589970978, 178.64942079685594, 503.15219531068993, 343.1170311109026, 148.45672593876577, 97.7753909344487, 181.77690770981147, 128.95883765284086, 248.37756460305036, 114.63394502663603, 89.33963307596001, 68.57344326748732, 72.1295882948068, 132.85509459404938, 87.18407191698319, 66.95585957489503, 196.44453632524107, 184.72274510877864, 137.53142096264338, 58.174769666885, 75.89472551434605, 79.65768223000312, 110.69679546658342, 69.61183003272734, 67.93661940455917, 148.0276102454287, 1392.4275324848475, 56.38449660366605, 47.80641767701268, 81.94902294549809, 85.28983504339861, 494.85234774556886, 475.92337019844706, 931.2480665151477, 253.96169030095942, 619.4473667917744, 746.1887113723765, 469.0596482480309, 434.01500074078024, 279.4876679488914, 249.221937883681, 275.8123936366681, 443.2731120591107, 502.6438530865757, 274.93475716619446, 524.662366506922, 562.0164617833188, 262.30120716154744, 217.58500238787252, 261.3134715871296, 187.95168381692076, 289.9061621897076, 339.1495412634272, 236.94884804970795, 291.53686158980537, 264.8892364802155, 234.6820204934881, 247.93843820238266, 246.6796851390192, 615.3553522357577, 87.06919079032419, 64.46239147813478, 276.93911191937883, 93.66863824168779, 205.41584389290864, 327.68168330322663, 92.64098281323302, 80.54504071382613, 99.62930583903729, 47.14400215316035, 68.52486478817607, 93.72506646117822, 557.282089859323, 73.75025579501695, 56.66135731554009, 219.4653468075074, 127.59926787930114, 549.7567645976278, 512.0371506502402, 69.3577825360021, 151.4229657018039, 40.384335786591166, 37.0626060894233, 100.19978583104874, 84.61370492687321, 219.25076100911286, 69.65801375537765, 61.15815211607347, 64.16624846085548, 291.8865991102765, 455.0493783184247, 672.9122739980253, 167.80820393953, 170.58236274344839, 206.33648218621985, 638.3920194489717, 331.22274194051283, 232.79347853400586, 187.25333390542622, 266.2322691936245, 271.96347352188184, 412.84625450379116, 209.39043119903252, 199.75833750800535, 243.4879946065593, 227.9306552108817, 247.23314621999637, 253.2217487159867, 271.47812878735203, 282.65986479000054, 266.3280420494781, 255.33914784958907, 211.74946858469838, 104.20339751600646, 67.74663772174173, 246.43578042278904, 56.17304355644353, 84.57495483561883, 197.94492151127267, 64.20202009075635, 107.02535936040988, 84.94243479786812, 104.96608421402115, 100.23354996568112, 53.3017258810654, 55.32111958649859, 59.148165081163945, 207.42117311729052, 47.50234949893943, 122.40664599063548, 85.00500178079137, 38.26975175599963, 58.56398689757275, 40.425836212810076, 259.74506653372816, 38.48061383461908, 54.993755462089496, 50.99555947694525, 43.30857479146696, 86.86578013349065, 26.05935051239099, 48.98449875061462, 74.71518236750568, 70.65777908811832, 161.6435023074692, 171.968433694666, 690.9860362308689, 98.46957412929098, 216.48548408821188, 239.3035384280672, 540.6050392610194, 201.17243752492962, 296.5770651668301, 365.8958197792817, 381.47075220680114, 218.7238860132706, 266.47006941927197, 158.87105595568656, 329.83530622001, 258.8152242834427, 413.4488193876459, 264.7787702053522, 249.76478689044833, 388.5070885080769, 344.1156884329351, 272.3898884324949, 147.1915687514219, 278.80372096100905, 196.71252383873303, 168.47511840791492, 214.7278607471017, 155.36860938160254, 173.10125685295617, 841.0971880783461, 286.6717651591508, 102.67461886153781, 370.47667028330426, 58.114863695791044, 523.4424527283446, 88.09467524807309, 315.66264025105914, 178.24613175208452, 145.65946469734854, 65.68936626727805, 174.65608941984044, 188.5680351012101, 110.12215698780957, 179.8676851007763, 69.5105977572532, 390.27623768224765, 77.90953659511828, 63.03148982572196, 44.85187240490644, 338.547047608074, 49.490963529016824, 44.50608163288714, 38.43422138579682, 43.28642014836666, 134.98092672791614, 80.07960582665478, 106.78422076682855, 57.5451214370248, 58.848599821006424, 150.39054428493438, 441.27278304836165, 240.94307409025026, 813.2325204705288, 159.9409507255991, 713.5833437199966, 145.43789576300094, 236.47217935122495, 224.90441769290922, 261.0914899170076, 258.85374719595086, 143.5641350375368, 353.4479072463709, 260.39264538560764, 210.43584926208922, 198.26650296819415, 266.36971830306265, 249.56497707614662, 164.72279808851383, 172.14499733401416, 151.23691015993745], \"Total\": [853.0, 632.0, 574.0, 2143.0, 2216.0, 1775.0, 396.0, 509.0, 762.0, 796.0, 753.0, 810.0, 857.0, 537.0, 363.0, 479.0, 2050.0, 299.0, 1198.0, 1455.0, 1474.0, 399.0, 954.0, 1108.0, 316.0, 379.0, 485.0, 1892.0, 897.0, 1758.0, 90.05112044647024, 104.15738157781855, 104.16972991203723, 104.887259189967, 135.64516726263878, 153.57499542334378, 236.05101852382887, 76.6934839360817, 129.56661877158655, 178.9724462512074, 136.59606504940953, 164.49655777168525, 403.5605883298278, 418.3368532014637, 154.84171005467488, 166.50984286993338, 93.13491207894185, 131.08460326579024, 83.42697336635237, 108.98864458502491, 72.35533929527013, 257.8099346124409, 73.37890554734359, 534.6117864388843, 128.21633331529836, 391.7680650929488, 578.4176050237941, 136.0800456195447, 301.73986846285175, 80.01503964223664, 258.14993204298185, 1445.6217943006052, 852.879053740529, 1108.5933404090204, 456.96570223642163, 1027.5966996686102, 546.158061715179, 406.5190632438995, 535.3578128489709, 701.5709476209456, 515.0286086402, 1775.1894023307527, 990.6959400284189, 2331.5016267685032, 1218.706828303445, 1474.3529966923502, 1072.3001312830625, 608.4335310444401, 499.14388044106835, 528.6651954593351, 501.39106391608806, 469.7942795676809, 1758.5765667693327, 596.760795725196, 703.6797567526244, 1673.8329881602128, 2216.7131059204617, 1325.5598460034316, 1892.9887888421542, 1455.0696993694937, 2050.997282285585, 1125.615601967137, 156.53882360153403, 185.34687113621484, 537.4140410178118, 379.1639895710828, 168.68503794198145, 111.86463668413496, 209.25018697940902, 151.52810701931648, 292.3984208397256, 136.09217237844874, 106.46828842646947, 85.41397510168433, 91.61515221532538, 180.93160388268072, 121.00090580551387, 94.29684157545135, 284.46194414867847, 270.5887858726779, 202.48175785453233, 86.10505795445359, 113.60501917472298, 120.62574402300345, 170.61550528270297, 107.86100805804564, 105.65777448936953, 233.72686970380835, 2216.7131059204617, 90.42305217401082, 77.61976666091894, 135.34687722198564, 141.02927347891082, 897.4121603192925, 866.6257843762452, 1775.1894023307527, 446.39571307069144, 1198.604281173282, 1474.3529966923502, 954.0611274070915, 901.3403606596198, 562.6692967153358, 490.6691742211311, 567.8115545244992, 1108.5933404090204, 1325.5598460034316, 627.1767518491343, 2050.997282285585, 2331.5016267685032, 646.5878519441849, 471.5052252496946, 690.9006793373909, 369.24347297169436, 1072.3001312830625, 2143.2996810170357, 732.0610053376338, 1758.5765667693327, 1892.9887888421542, 998.2308498775326, 1445.6217943006052, 1673.8329881602128, 632.5221475779358, 91.0572427536415, 73.58861591846549, 316.3549184890918, 111.17796974680049, 249.9021091966184, 399.3986275071215, 114.28421296435798, 101.45493561914485, 126.56860647709817, 59.95276903842585, 90.38202793094052, 125.14420870272474, 762.022024691981, 102.08571833565524, 78.60883095452672, 314.925473496558, 184.09316351610283, 796.1748008327255, 753.9821905609097, 102.41097605167407, 234.2127273189722, 65.57461617110181, 60.38059489875845, 163.9393757539305, 141.06862774347374, 366.5908956410949, 117.86522918367291, 103.69547071051295, 111.73173617694258, 534.7894501526932, 857.4863881098353, 1455.0696993694937, 333.5351372907473, 348.78680345285966, 441.06555290877367, 1892.9887888421542, 954.0611274070915, 626.9196206813442, 454.96153952895367, 810.4637855108734, 897.4121603192925, 2143.2996810170357, 690.9006793373909, 647.316702144069, 998.2308498775326, 875.4839987659376, 1107.0828157467536, 1218.706828303445, 1673.8329881602128, 2331.5016267685032, 2216.7131059204617, 2050.997282285585, 1758.5765667693327, 129.52938500598657, 93.79263577376175, 342.32601470300744, 79.88564749518328, 124.22409730628848, 293.16858333855356, 96.20659357093005, 166.79426680861985, 132.78857114453342, 164.583968237655, 160.53286413652435, 87.55774762812143, 90.91204412043254, 98.73970504578017, 346.57160170272414, 81.46889537419543, 210.05056819937505, 147.92424642439377, 66.94032900901797, 103.73115526013574, 75.08871410129882, 504.85305229710775, 75.78797603896619, 110.18867737629829, 104.53031646308962, 89.52589881451118, 179.61538650339438, 54.34146286269149, 102.62415492257094, 156.9778338729249, 150.30613730331999, 364.9759451637573, 393.2648787061105, 1758.5765667693327, 217.6891327108978, 539.8851192208956, 608.4335310444401, 1673.8329881602128, 514.791811109202, 822.2817401928997, 1125.615601967137, 1198.604281173282, 610.5997461154807, 810.4637855108734, 435.8741915522872, 1325.5598460034316, 998.2308498775326, 2143.2996810170357, 1072.3001312830625, 1027.5966996686102, 2331.5016267685032, 1892.9887888421542, 1455.0696993694937, 414.056589064363, 2050.997282285585, 875.4839987659376, 614.8449814163735, 1445.6217943006052, 534.7894501526932, 2216.7131059204617, 853.9500677648721, 299.53483452768955, 108.49763100776315, 396.7052126292732, 63.61484870629492, 574.0616346027862, 97.50688580542976, 363.59190516207747, 209.57444492656182, 180.45373063041995, 82.41158157336665, 221.6470654981164, 239.44548032995613, 140.2858996003843, 229.68247568924818, 90.31886590761391, 509.335279035952, 104.31648318923081, 87.33921901257887, 63.43622208384474, 479.93736076912046, 71.56910519441013, 64.45546323384123, 56.191601294532916, 63.805651579448316, 199.5216131643025, 123.42415478262791, 167.32431824548323, 92.28952361322493, 95.07170116889154, 256.0790326583201, 810.5240232625947, 485.78814294257575, 2143.2996810170357, 303.5547664507726, 2050.997282285585, 277.7639083283517, 610.1411228248246, 621.8209029173522, 857.4863881098353, 875.4839987659376, 341.4838657874878, 1892.9887888421542, 1107.0828157467536, 732.0610053376338, 646.5878519441849, 1673.8329881602128, 2331.5016267685032, 589.9289853627356, 1218.706828303445, 514.791811109202], \"Category\": [\"Default\", \"Default\", \"Default\", \"Default\", \"Default\", \"Default\", \"Default\", \"Default\", \"Default\", \"Default\", \"Default\", \"Default\", \"Default\", \"Default\", \"Default\", \"Default\", \"Default\", \"Default\", \"Default\", \"Default\", \"Default\", \"Default\", \"Default\", \"Default\", \"Default\", \"Default\", \"Default\", \"Default\", \"Default\", \"Default\", \"Topic1\", \"Topic1\", \"Topic1\", \"Topic1\", \"Topic1\", \"Topic1\", \"Topic1\", \"Topic1\", \"Topic1\", \"Topic1\", \"Topic1\", \"Topic1\", \"Topic1\", \"Topic1\", \"Topic1\", \"Topic1\", \"Topic1\", \"Topic1\", \"Topic1\", \"Topic1\", \"Topic1\", \"Topic1\", \"Topic1\", \"Topic1\", \"Topic1\", \"Topic1\", \"Topic1\", \"Topic1\", \"Topic1\", \"Topic1\", \"Topic1\", \"Topic1\", \"Topic1\", \"Topic1\", \"Topic1\", \"Topic1\", \"Topic1\", \"Topic1\", \"Topic1\", \"Topic1\", \"Topic1\", \"Topic1\", \"Topic1\", \"Topic1\", \"Topic1\", \"Topic1\", \"Topic1\", \"Topic1\", \"Topic1\", \"Topic1\", \"Topic1\", \"Topic1\", \"Topic1\", \"Topic1\", \"Topic1\", \"Topic1\", \"Topic1\", \"Topic1\", \"Topic1\", \"Topic1\", \"Topic1\", \"Topic1\", \"Topic2\", \"Topic2\", \"Topic2\", \"Topic2\", \"Topic2\", \"Topic2\", \"Topic2\", \"Topic2\", \"Topic2\", \"Topic2\", \"Topic2\", \"Topic2\", \"Topic2\", \"Topic2\", \"Topic2\", \"Topic2\", \"Topic2\", \"Topic2\", \"Topic2\", \"Topic2\", \"Topic2\", \"Topic2\", \"Topic2\", \"Topic2\", \"Topic2\", \"Topic2\", \"Topic2\", \"Topic2\", \"Topic2\", \"Topic2\", \"Topic2\", \"Topic2\", \"Topic2\", \"Topic2\", \"Topic2\", \"Topic2\", \"Topic2\", \"Topic2\", \"Topic2\", \"Topic2\", \"Topic2\", \"Topic2\", \"Topic2\", \"Topic2\", \"Topic2\", \"Topic2\", \"Topic2\", \"Topic2\", \"Topic2\", \"Topic2\", \"Topic2\", \"Topic2\", \"Topic2\", \"Topic2\", \"Topic2\", \"Topic2\", \"Topic2\", \"Topic2\", \"Topic2\", \"Topic3\", \"Topic3\", \"Topic3\", \"Topic3\", \"Topic3\", \"Topic3\", \"Topic3\", \"Topic3\", \"Topic3\", \"Topic3\", \"Topic3\", \"Topic3\", \"Topic3\", \"Topic3\", \"Topic3\", \"Topic3\", \"Topic3\", \"Topic3\", \"Topic3\", \"Topic3\", \"Topic3\", \"Topic3\", \"Topic3\", \"Topic3\", \"Topic3\", \"Topic3\", \"Topic3\", \"Topic3\", \"Topic3\", \"Topic3\", \"Topic3\", \"Topic3\", \"Topic3\", \"Topic3\", \"Topic3\", \"Topic3\", \"Topic3\", \"Topic3\", \"Topic3\", \"Topic3\", \"Topic3\", \"Topic3\", \"Topic3\", \"Topic3\", \"Topic3\", \"Topic3\", \"Topic3\", \"Topic3\", \"Topic3\", \"Topic3\", \"Topic3\", \"Topic3\", \"Topic3\", \"Topic3\", \"Topic4\", \"Topic4\", \"Topic4\", \"Topic4\", \"Topic4\", \"Topic4\", \"Topic4\", \"Topic4\", \"Topic4\", \"Topic4\", \"Topic4\", \"Topic4\", \"Topic4\", \"Topic4\", \"Topic4\", \"Topic4\", \"Topic4\", \"Topic4\", \"Topic4\", \"Topic4\", \"Topic4\", \"Topic4\", \"Topic4\", \"Topic4\", \"Topic4\", \"Topic4\", \"Topic4\", \"Topic4\", \"Topic4\", \"Topic4\", \"Topic4\", \"Topic4\", \"Topic4\", \"Topic4\", \"Topic4\", \"Topic4\", \"Topic4\", \"Topic4\", \"Topic4\", \"Topic4\", \"Topic4\", \"Topic4\", \"Topic4\", \"Topic4\", \"Topic4\", \"Topic4\", \"Topic4\", \"Topic4\", \"Topic4\", \"Topic4\", \"Topic4\", \"Topic4\", \"Topic4\", \"Topic4\", \"Topic4\", \"Topic4\", \"Topic4\", \"Topic4\", \"Topic4\", \"Topic4\", \"Topic5\", \"Topic5\", \"Topic5\", \"Topic5\", \"Topic5\", \"Topic5\", \"Topic5\", \"Topic5\", \"Topic5\", \"Topic5\", \"Topic5\", \"Topic5\", \"Topic5\", \"Topic5\", \"Topic5\", \"Topic5\", \"Topic5\", \"Topic5\", \"Topic5\", \"Topic5\", \"Topic5\", \"Topic5\", \"Topic5\", \"Topic5\", \"Topic5\", \"Topic5\", \"Topic5\", \"Topic5\", \"Topic5\", \"Topic5\", \"Topic5\", \"Topic5\", \"Topic5\", \"Topic5\", \"Topic5\", \"Topic5\", \"Topic5\", \"Topic5\", \"Topic5\", \"Topic5\", \"Topic5\", \"Topic5\", \"Topic5\", \"Topic5\", \"Topic5\", \"Topic5\", \"Topic5\", \"Topic5\", \"Topic5\", \"Topic5\", \"Topic5\"], \"logprob\": [30.0, 29.0, 28.0, 27.0, 26.0, 25.0, 24.0, 23.0, 22.0, 21.0, 20.0, 19.0, 18.0, 17.0, 16.0, 15.0, 14.0, 13.0, 12.0, 11.0, 10.0, 9.0, 8.0, 7.0, 6.0, 5.0, 4.0, 3.0, 2.0, 1.0, -6.1629, -6.0339, -6.0378, -6.1398, -5.8842, -5.7769, -5.4195, -6.5637, -6.0422, -5.7442, -6.0188, -5.837, -4.9501, -4.9251, -5.9193, -5.8605, -6.4526, -6.1274, -6.5954, -6.3645, -6.775, -5.5103, -6.7672, -4.784, -6.2415, -5.1576, -4.7945, -6.2426, -5.4533, -6.7828, -5.6162, -3.9167, -4.4641, -4.2622, -5.0836, -4.3607, -4.9379, -5.1997, -4.9584, -4.7392, -5.0088, -4.0634, -4.5195, -3.8785, -4.3982, -4.293, -4.6137, -4.9857, -5.1407, -5.1111, -5.1918, -5.2367, -4.5579, -5.1268, -5.063, -4.768, -4.7148, -4.9921, -4.945, -5.0055, -4.9924, -5.0969, -5.5805, -5.4139, -4.3784, -4.7613, -5.599, -6.0167, -5.3965, -5.7398, -5.0844, -5.8576, -6.1069, -6.3714, -6.3209, -5.7101, -6.1313, -6.3953, -5.3189, -5.3805, -5.6755, -6.5359, -6.27, -6.2216, -5.8925, -6.3564, -6.3808, -5.6019, -3.3605, -6.5671, -6.7322, -6.1932, -6.1533, -4.3951, -4.4341, -3.7628, -5.0621, -4.1705, -3.9843, -4.4486, -4.5262, -4.9664, -5.081, -4.9796, -4.5051, -4.3794, -4.9828, -4.3366, -4.2678, -5.0298, -5.2167, -5.0336, -5.3631, -4.9298, -4.7729, -5.1315, -4.9242, -5.02, -5.1411, -5.0861, -5.0912, -3.8737, -5.8292, -6.1298, -4.6721, -5.7561, -4.9708, -4.5038, -5.7671, -5.907, -5.6944, -6.4427, -6.0687, -5.7555, -3.9728, -5.9952, -6.2588, -4.9047, -5.447, -3.9864, -4.0575, -6.0566, -5.2758, -6.5974, -6.6833, -5.6887, -5.8578, -4.9056, -6.0523, -6.1824, -6.1344, -4.6195, -4.1755, -3.7843, -5.173, -5.1566, -4.9664, -3.8369, -4.4931, -4.8457, -5.0634, -4.7115, -4.6902, -4.2728, -4.9517, -4.9988, -4.8008, -4.8668, -4.7855, -4.7616, -4.692, -4.6516, -4.7111, -4.7533, -4.9405, -5.6349, -6.0655, -4.7742, -6.2528, -5.8436, -4.9933, -6.1192, -5.6082, -5.8393, -5.6276, -5.6738, -6.3053, -6.2681, -6.2012, -4.9465, -6.4205, -5.4739, -5.8385, -6.6366, -6.2111, -6.5818, -4.7216, -6.6311, -6.274, -6.3495, -6.5129, -5.8169, -7.0209, -6.3898, -5.9676, -6.0234, -5.1959, -5.1339, -3.7431, -5.6915, -4.9037, -4.8035, -3.9886, -4.9771, -4.5889, -4.3789, -4.3372, -4.8934, -4.696, -5.2132, -4.4827, -4.7251, -4.2567, -4.7024, -4.7607, -4.3189, -4.4403, -4.674, -5.2895, -4.6507, -4.9995, -5.1545, -4.9119, -5.2355, -5.1274, -3.3579, -4.4342, -5.461, -4.1778, -6.0302, -3.8321, -5.6142, -4.3379, -4.9094, -5.1113, -5.9076, -4.9298, -4.8531, -5.391, -4.9004, -5.8511, -4.1257, -5.737, -5.9489, -6.2892, -4.2679, -6.1908, -6.2969, -6.4436, -6.3247, -5.1874, -5.7096, -5.4218, -6.04, -6.0176, -5.0793, -4.0029, -4.608, -3.3916, -5.0178, -3.5223, -5.1128, -4.6267, -4.6769, -4.5277, -4.5363, -5.1258, -4.2248, -4.5304, -4.7434, -4.803, -4.5077, -4.5729, -4.9883, -4.9442, -5.0737], \"loglift\": [30.0, 29.0, 28.0, 27.0, 26.0, 25.0, 24.0, 23.0, 22.0, 21.0, 20.0, 19.0, 18.0, 17.0, 16.0, 15.0, 14.0, 13.0, 12.0, 11.0, 10.0, 9.0, 8.0, 7.0, 6.0, 5.0, 4.0, 3.0, 2.0, 1.0, 1.3449, 1.3284, 1.3244, 1.2156, 1.214, 1.1972, 1.1247, 1.1047, 1.1018, 1.0768, 1.0724, 1.0683, 1.0578, 1.0468, 1.0465, 1.0327, 1.0216, 1.005, 0.9888, 0.9525, 0.9516, 0.9457, 0.9454, 0.9427, 0.913, 0.8799, 0.8534, 0.8523, 0.8454, 0.8432, 0.8385, 0.8152, 0.7955, 0.7352, 0.8, 0.7126, 0.7674, 0.8009, 0.7669, 0.7157, 0.7552, 0.4631, 0.5903, 0.3755, 0.5045, 0.4193, 0.4169, 0.6117, 0.6546, 0.6267, 0.599, 0.6193, -0.022, 0.4899, 0.3889, -0.1827, -0.4104, -0.1735, -0.4827, -0.2801, -0.6103, -0.1148, 1.3744, 1.3721, 1.343, 1.309, 1.2812, 1.2743, 1.2681, 1.2476, 1.2457, 1.2373, 1.2335, 1.1893, 1.1698, 1.1, 1.0811, 1.0665, 1.0387, 1.0272, 1.0221, 1.0168, 1.0055, 0.9939, 0.9763, 0.971, 0.9673, 0.9521, 0.9439, 0.9366, 0.9242, 0.9072, 0.906, 0.8136, 0.8095, 0.7638, 0.8449, 0.7488, 0.7279, 0.6989, 0.6781, 0.7092, 0.7315, 0.6868, 0.4922, 0.4392, 0.5842, 0.0456, -0.0138, 0.5067, 0.6356, 0.4366, 0.7336, 0.1009, -0.4348, 0.2809, -0.3882, -0.5577, -0.0389, -0.3542, -0.5059, 1.6848, 1.6676, 1.58, 1.5793, 1.541, 1.5163, 1.5144, 1.5024, 1.4816, 1.473, 1.472, 1.4355, 1.4233, 1.3995, 1.3872, 1.385, 1.3512, 1.3458, 1.342, 1.3254, 1.3226, 1.2762, 1.2276, 1.2243, 1.22, 1.2012, 1.1983, 1.1864, 1.1844, 1.1577, 1.1069, 1.0788, 0.9412, 1.0254, 0.9971, 0.9527, 0.6254, 0.6544, 0.7217, 0.8246, 0.5991, 0.5185, 0.0653, 0.5186, 0.5366, 0.3014, 0.3666, 0.2132, 0.1411, -0.1066, -0.3977, -0.4067, -0.3711, -0.4045, 1.5094, 1.4017, 1.3983, 1.3748, 1.3425, 1.3342, 1.3225, 1.2833, 1.2802, 1.2772, 1.256, 1.2306, 1.2302, 1.2145, 1.2136, 1.1875, 1.187, 1.173, 1.1678, 1.1553, 1.1078, 1.0624, 1.0492, 1.032, 1.0092, 1.0008, 1.0005, 0.9921, 0.9874, 0.9845, 0.9721, 0.9125, 0.8998, 0.7928, 0.9336, 0.8131, 0.7938, 0.5968, 0.7874, 0.7072, 0.6032, 0.5821, 0.7003, 0.6146, 0.7177, 0.336, 0.3771, 0.0814, 0.3283, 0.3125, -0.065, 0.022, 0.0514, 0.6927, -0.2686, 0.2339, 0.4324, -0.18, 0.4909, -0.8229, 1.9005, 1.8718, 1.8605, 1.8472, 1.8252, 1.8233, 1.8141, 1.7743, 1.7537, 1.7014, 1.6889, 1.6774, 1.6768, 1.6736, 1.6712, 1.6538, 1.6494, 1.6238, 1.5895, 1.569, 1.5667, 1.5468, 1.5453, 1.5358, 1.5276, 1.5249, 1.483, 1.4665, 1.4433, 1.436, 1.3834, 1.3076, 1.2144, 0.9466, 1.2749, 0.8599, 1.2686, 0.9678, 0.8987, 0.7265, 0.6971, 1.0491, 0.2375, 0.4684, 0.669, 0.7336, 0.0777, -0.3189, 0.6399, -0.0416, 0.6907]}, \"token.table\": {\"Topic\": [1, 2, 3, 4, 5, 1, 2, 3, 4, 5, 1, 2, 3, 4, 5, 1, 2, 3, 4, 5, 1, 2, 4, 5, 1, 2, 3, 4, 5, 1, 2, 3, 4, 5, 1, 2, 3, 4, 5, 1, 2, 3, 4, 5, 1, 2, 3, 4, 5, 1, 2, 3, 4, 5, 1, 2, 3, 4, 5, 1, 2, 3, 4, 5, 1, 2, 3, 4, 5, 1, 2, 3, 4, 5, 1, 2, 3, 4, 5, 1, 2, 3, 4, 5, 1, 2, 3, 4, 5, 1, 2, 3, 4, 5, 1, 2, 3, 4, 5, 1, 2, 3, 4, 5, 1, 2, 3, 4, 5, 1, 2, 3, 5, 1, 2, 3, 4, 5, 1, 2, 3, 4, 5, 1, 2, 3, 4, 5, 1, 2, 3, 4, 5, 1, 2, 3, 4, 5, 1, 2, 3, 5, 1, 2, 4, 5, 1, 2, 3, 4, 5, 1, 2, 3, 4, 5, 1, 2, 3, 4, 5, 1, 2, 3, 4, 5, 1, 2, 3, 4, 5, 1, 3, 4, 5, 1, 2, 3, 4, 5, 1, 2, 3, 4, 5, 1, 2, 3, 4, 5, 1, 2, 3, 4, 5, 1, 2, 3, 4, 5, 1, 2, 3, 4, 5, 1, 2, 3, 4, 5, 1, 2, 3, 4, 5, 1, 2, 3, 4, 5, 1, 2, 3, 4, 5, 1, 2, 3, 4, 5, 1, 2, 3, 4, 5, 1, 2, 3, 4, 5, 1, 2, 3, 4, 5, 1, 2, 3, 4, 5, 1, 2, 3, 4, 5, 1, 2, 3, 4, 5, 1, 2, 3, 4, 5, 1, 2, 3, 4, 5, 1, 2, 3, 4, 5, 1, 2, 3, 4, 5, 1, 2, 3, 4, 5, 1, 2, 3, 4, 5, 1, 2, 3, 4, 5, 1, 2, 3, 4, 5, 1, 2, 3, 4, 5, 1, 2, 3, 4, 5, 1, 2, 3, 4, 5, 1, 2, 3, 4, 5, 1, 2, 3, 4, 5, 1, 2, 3, 4, 5, 1, 2, 3, 4, 5, 1, 2, 3, 4, 5, 1, 2, 3, 4, 1, 2, 3, 4, 5, 1, 3, 4, 5, 1, 3, 4, 5, 1, 2, 3, 4, 5, 1, 2, 3, 4, 5, 1, 2, 3, 4, 5, 1, 2, 3, 4, 5, 1, 2, 3, 4, 5, 1, 2, 3, 4, 5, 1, 2, 3, 4, 5, 1, 2, 3, 4, 5, 1, 2, 3, 4, 5, 1, 2, 3, 4, 5, 3, 4, 5, 1, 2, 3, 4, 5, 1, 2, 4, 5, 1, 2, 3, 4, 5, 1, 2, 3, 4, 5, 1, 2, 3, 4, 5, 1, 2, 3, 4, 5, 1, 2, 3, 4, 5, 2, 3, 4, 5, 1, 2, 3, 4, 5, 1, 2, 3, 4, 5, 1, 2, 3, 4, 5, 1, 2, 3, 4, 5, 1, 2, 3, 4, 5, 1, 2, 3, 4, 5, 1, 2, 3, 4, 5, 1, 2, 3, 4, 5, 1, 2, 3, 4, 5, 1, 2, 4, 5, 1, 2, 3, 4, 5, 1, 2, 3, 4, 5, 1, 2, 3, 4, 5, 1, 2, 4, 1, 2, 3, 4, 5, 1, 2, 3, 4, 5, 1, 2, 3, 4, 5, 1, 2, 3, 4, 5, 1, 2, 3, 4, 5, 1, 2, 3, 4, 5, 1, 2, 3, 4, 5, 1, 2, 3, 4, 5, 1, 2, 3, 4, 5, 1, 2, 3, 4, 5, 1, 2, 3, 4, 5, 1, 2, 3, 4, 5, 1, 2, 3, 4, 5, 1, 2, 3, 4, 5, 1, 2, 3, 4, 5, 1, 2, 3, 4, 5, 1, 2, 3, 1, 2, 3, 4, 5, 1, 2, 3, 4, 5, 1, 2, 3, 4, 5, 1, 2, 3, 4, 5, 1, 2, 3, 4, 5, 1, 2, 3, 4, 5, 1, 2, 3, 4, 5, 1, 2, 3, 4, 5, 1, 2, 3, 4, 5, 3, 4, 5, 1, 2, 3, 4, 5, 1, 2, 3, 4, 5, 1, 2, 3, 4, 5, 1, 2, 3, 4, 5, 1, 2, 3, 4, 5, 1, 2, 3, 4, 5, 1, 2, 3, 4, 5, 1, 2, 3, 4, 5, 1, 2, 3, 4, 5, 1, 2, 3, 4, 5, 1, 2, 3, 4, 5, 1, 2, 3, 4, 5, 1, 2, 3, 4, 5, 1, 2, 3, 5, 1, 2, 3, 4, 5, 1, 2, 3, 4, 5, 1, 2, 3, 4, 5, 1, 2, 3, 4, 5, 1, 2, 3, 4, 5, 1, 2, 3, 4, 5, 1, 2, 3, 4, 5, 1, 2, 3, 4, 5, 1, 2, 3, 4, 5, 1, 2, 3, 4, 5, 1, 2, 3, 4, 5, 1, 2, 3, 4, 5, 1, 2, 3, 4, 5, 1, 2, 3, 4, 5, 1, 2, 3, 4, 5, 1, 2, 3, 4, 5, 1, 2, 3, 4, 5, 1, 2, 3, 4, 5, 1, 2, 3, 4, 5, 1, 2, 3, 4, 5, 1, 2, 3, 4, 5, 1, 2, 3, 4, 5, 1, 2, 3, 4, 5, 1, 2, 3, 4, 5, 1, 2, 3, 4, 5, 2, 3, 4, 5, 1, 2, 3, 4, 5, 1, 2, 3, 4, 5, 1, 2, 3, 4, 5, 1, 2, 3, 4, 5, 1, 2, 3, 4, 5, 1, 2, 3, 4, 5, 1, 2, 3, 4, 5, 1, 2, 3, 4, 5, 1, 2, 4, 5, 1, 2, 3, 4, 5, 1, 2, 3, 4, 1, 2, 3, 4, 5, 1, 2, 3, 4, 5, 1, 2, 3, 4, 5, 1, 2, 3, 4, 5, 1, 2, 3, 4, 5, 1, 2, 3, 4, 5, 1, 2, 3, 4, 5, 1, 2, 3, 4, 5, 1, 2, 3, 4, 5, 1, 2, 3, 4, 5, 1, 2, 3, 4, 5, 1, 2, 3, 4, 5, 1, 2, 3, 4, 5, 1, 2, 3, 4, 5, 1, 2, 3, 4, 5, 1, 2, 3, 4, 5, 1, 2, 3, 4, 5, 1, 2, 3, 4, 5, 1, 2, 3, 4, 5, 1, 2, 3, 4, 5, 1, 2, 3, 4, 5, 1, 2, 3, 4, 5, 1, 2, 3, 4, 5, 1, 2, 3, 4, 5, 1, 2, 3, 4, 5, 1, 2, 3, 4, 5, 1, 2, 3, 4, 5, 1, 2, 3, 4, 5, 1, 2, 4, 5, 1, 2, 3, 4, 5, 1, 2, 3, 4, 5, 1, 2, 3, 4, 5, 1, 2, 3, 4, 5, 1, 2, 3, 4, 5, 1, 2, 3, 4, 5, 1, 2, 3, 4, 5, 1, 2, 3, 4, 5, 1, 2, 4, 5, 1, 2, 3, 4, 5, 1, 2, 3, 4, 5, 1, 2, 3, 4, 5, 1, 2, 3, 5, 1, 2, 3, 4, 5, 1, 2, 3, 4, 5, 1, 2, 3, 4, 5, 1, 2, 3, 4, 5], \"Freq\": [0.23345382612979637, 0.08283845443315355, 0.022592305754496424, 0.6401153297107319, 0.022592305754496424, 0.054898342503809504, 0.298890975854074, 0.6099815833756611, 0.024399263335026445, 0.012199631667513222, 0.005541586735316987, 0.005541586735316987, 0.10529014797102276, 0.07758221429443783, 0.8090716633562802, 0.015763864353054994, 0.015763864353054994, 0.04729159305916498, 0.2206941009427699, 0.7093738958874747, 0.01319887141297848, 0.851327206137112, 0.01319887141297848, 0.11878984271680632, 0.8389960866516536, 0.06673832507456336, 0.01906809287844667, 0.04767023219611668, 0.01906809287844667, 0.05007157262186779, 0.1627326110210703, 0.05007157262186779, 0.701002016706149, 0.03755367946640084, 0.014400719028159337, 0.021601078542239006, 0.2844142008061469, 0.15480772955271288, 0.522026064770776, 0.13691194358848074, 0.6332177390967235, 0.04706348060854026, 0.09412696121708052, 0.0898484629799405, 0.22298909109055515, 0.1927833974766951, 0.13148360749562615, 0.3251554077256701, 0.12792999648223086, 0.15546653934768506, 0.08390257679081417, 0.3282071386228907, 0.3282071386228907, 0.10364435956512338, 0.2857901234008567, 0.1082354084369202, 0.10093863932881321, 0.36119007085129545, 0.14471925397745508, 0.2110536803415554, 0.23139620374797037, 0.0635703856450468, 0.43736425323792205, 0.05594193936764119, 0.0634789460299484, 0.05482272611677362, 0.017312439826349564, 0.5972791740090599, 0.26545741067069334, 0.11797945405592386, 0.19058219501341545, 0.13613013929529674, 0.49914384408275475, 0.0544520557181187, 0.12188904306333889, 0.184480713825594, 0.04941447691756982, 0.12188904306333889, 0.5270877537874114, 0.0525918852668648, 0.1051837705337296, 0.17881240990734032, 0.042073508213491845, 0.6205842461490046, 0.3971407214770228, 0.5244510804185932, 0.0518254558523207, 0.010703083273848842, 0.015772964824619345, 0.5213814470387711, 0.39960550352625535, 0.025257232728521786, 0.03427767298870814, 0.01894292454639134, 0.22959846303033596, 0.09566602626263998, 0.07653282101011198, 0.4878967339394639, 0.10523262888890399, 0.03559250766883889, 0.03559250766883889, 0.07118501533767778, 0.17796253834419445, 0.6762576457079389, 0.05437794222897876, 0.038462446942448394, 0.6790611322252957, 0.20292256490326221, 0.025199534203673084, 0.010790578701110973, 0.965756793749432, 0.021581157402221947, 0.005395289350555487, 0.11012808987365595, 0.5164339972105533, 0.039212274424710834, 0.31786971395350694, 0.015851770512117145, 0.16999965409373882, 0.683694261029167, 0.04065209119632885, 0.04804338050475228, 0.05913031446738742, 0.23401247877683565, 0.17665647907663082, 0.17895071906463902, 0.3647841580933026, 0.04588479976016385, 0.06701971250164611, 0.2457389458393691, 0.10052956875246917, 0.48030793959513046, 0.11169952083607686, 0.7320855103975945, 0.0805294061437354, 0.10981282655963918, 0.05856684083180756, 0.021962565311927834, 0.13223041508232164, 0.7190028820101239, 0.09917281131174123, 0.04132200471322551, 0.6514440130009235, 0.23855696250738043, 0.027525803366236203, 0.08257741009870861, 0.5832838759312576, 0.1922185500228008, 0.10605161380568319, 0.0596540327656968, 0.0629681456971244, 0.04024983967218484, 0.14489942281986543, 0.12074951901655452, 0.6842472744271423, 0.008049967934436967, 0.14014717528723972, 0.12740652298839975, 0.24844271982737948, 0.477774461206499, 0.012740652298839973, 0.21301609068020694, 0.48150512164171777, 0.061020234309434276, 0.15088639756514657, 0.09319453967259053, 0.1816950924163326, 0.6505856534907394, 0.09377811221488135, 0.06447245214773092, 0.011722264026860168, 0.011064146522183417, 0.7634261100306557, 0.16596219783275123, 0.055320732610917085, 0.1404021873259729, 0.49585076283476504, 0.20971465955018737, 0.14573391595860477, 0.007108971510175843, 0.07632730225273103, 0.05088486816848735, 0.7251093714009448, 0.025442434084243674, 0.11449095337909654, 0.015805033232547654, 0.015805033232547654, 0.87559884108314, 0.0410930864046239, 0.050576106344152494, 0.8404280248279764, 0.051605229594700305, 0.014744351312771516, 0.014744351312771516, 0.0884661078766291, 0.641587051951783, 0.2113683290686632, 0.03553980754251859, 0.06359755033924379, 0.04676290466120867, 0.2598948374910574, 0.43847288533767353, 0.2678670717699242, 0.01753891541350694, 0.01753891541350694, 0.15032119756338222, 0.02783725880803374, 0.08351177642410122, 0.48436830325978714, 0.25053532927230365, 0.03808606693416125, 0.004760758366770156, 0.03332530856739109, 0.580812520745959, 0.3380138440406811, 0.19154749719278047, 0.5492566786973705, 0.13500636850334527, 0.10269715210938231, 0.021924111124474874, 0.013972509468765925, 0.06986254734382961, 0.13972509468765923, 0.06986254734382961, 0.6846529639695302, 0.1563198802001002, 0.1052766540123124, 0.3716584906798301, 0.16908068674704718, 0.19779250147767782, 0.05710516927909325, 0.14847344012564245, 0.1142103385581865, 0.6053147943583884, 0.07994723699073054, 0.15425342279950938, 0.13999026384202048, 0.33703316351399654, 0.18172321042133982, 0.18647759674050277, 0.09722570125057088, 0.07291927593792816, 0.10532784302145179, 0.08102141770880907, 0.6481713416704725, 0.03483069387855128, 0.00870767346963782, 0.030476857143732373, 0.14367661224902403, 0.7836906122674038, 0.058068598045016316, 0.6735957373221892, 0.23227439218006526, 0.011613719609003263, 0.03484115882700979, 0.02893086823796877, 0.00964362274598959, 0.588260987505365, 0.3278831733636461, 0.03857449098395836, 0.23224166288467502, 0.6193111010258, 0.11059126804032143, 0.011059126804032144, 0.022118253608064287, 0.5651547335693471, 0.17155247726462433, 0.08923495793200217, 0.1487249298866703, 0.02559452281770605, 0.08789859406223166, 0.07191703150546226, 0.7511334401681614, 0.07990781278384695, 0.015981562556769392, 0.1661216899517859, 0.16103633209611898, 0.13052418496211748, 0.2627434892094573, 0.2796946820616803, 0.38050589055577616, 0.5059846601686435, 0.05561761680137905, 0.04476539888891484, 0.012887008771051242, 0.26528333780803515, 0.6632083445200878, 0.016580208613002197, 0.016580208613002197, 0.04145052153250549, 0.15967411863939826, 0.1197555889795487, 0.05987779448977435, 0.4723692676415532, 0.18628647174596463, 0.2061330597642198, 0.6183991792926594, 0.012883316235263738, 0.14171647858790112, 0.025766632470527476, 0.01822777778494244, 0.02430370371325659, 0.206581481562681, 0.6379722224729855, 0.10936666670965464, 0.5383057041705278, 0.2929554852628723, 0.08422470201307578, 0.03661943565785904, 0.047605266355216745, 0.40887404425333634, 0.2630869874908763, 0.21281558860726935, 0.01843284625732254, 0.09886708447109363, 0.2695056093563029, 0.1404869665793494, 0.49027084255242337, 0.03727205235778657, 0.06307578091317728, 0.008994587707235753, 0.008994587707235753, 0.8454912444801607, 0.05396752624341451, 0.08994587707235752, 0.25069939841421807, 0.15833646215634828, 0.06597352589847845, 0.5013987968284361, 0.01319470517969569, 0.729498547723748, 0.07902900933673937, 0.0182374636930937, 0.12158309128729133, 0.0547123910792811, 0.004742916926288904, 0.006323889235051872, 0.9722979698892253, 0.007904861543814841, 0.007904861543814841, 0.2225085824071322, 0.6489833653541356, 0.009271190933630508, 0.12052548213719662, 0.16968532737363454, 0.14423252826758934, 0.5938986458077209, 0.025452799106045178, 0.06787413094945381, 0.057248050263420426, 0.19464337089562944, 0.02289922010536817, 0.7213254333190974, 0.013589058409631963, 0.8696997382164456, 0.013589058409631963, 0.09512340886742374, 0.03905044429522956, 0.042955488724752515, 0.265543021207561, 0.06248071087236729, 0.5857566644284434, 0.23922800961115162, 0.055206463756419605, 0.09201077292736601, 0.47845601922230324, 0.1288150820983124, 0.10131702297229406, 0.37776775708241067, 0.3025036828744208, 0.07526407420798986, 0.14184383216121169, 0.20001318160090356, 0.12877561007181462, 0.11781598368272402, 0.44386486875816955, 0.1123361704881787, 0.4511979729998464, 0.23417881372698962, 0.04239444041609295, 0.1362678441945845, 0.13525845275610607, 0.08549977776283349, 0.8481577954073083, 0.02051994666308004, 0.006839982221026679, 0.0341999111051334, 0.4672144149481829, 0.24211921098529315, 0.0737706970970815, 0.15889073220909863, 0.05863824641050069, 0.2333057993506258, 0.7105222071132694, 0.01060480906139208, 0.03181442718417624, 0.01060480906139208, 0.5379579658460076, 0.38105355914092204, 0.005603728810895913, 0.039226101676271385, 0.03549028246900745, 0.012134216828611075, 0.07280530097166646, 0.07280530097166646, 0.0485368673144443, 0.800858310688331, 0.018433582202886045, 0.02765037330432907, 0.9493294834486314, 0.22782624603082305, 0.10743026235599787, 0.1611453935339968, 0.40008511498095756, 0.10372577055061863, 0.9408838674269262, 0.009600855790070676, 0.0384034231602827, 0.009600855790070676, 0.08045438010416756, 0.8760588055787134, 0.008939375567129728, 0.008939375567129728, 0.026818126701389184, 0.2178186297097578, 0.12446778840557587, 0.07861123478246898, 0.3586637586950147, 0.221094097825694, 0.04962123834314991, 0.09215372835156412, 0.6025436084525346, 0.1772187083683925, 0.08506498001682841, 0.7563676580367089, 0.03087214930762077, 0.16979682119191425, 0.038590186634525965, 0.007718037326905193, 0.09543148262665477, 0.014314722393998214, 0.033401018919329166, 0.004771574131332738, 0.8493401953772274, 0.010982102793355321, 0.955442943021913, 0.010982102793355321, 0.021964205586710642, 0.6438851949190537, 0.12024362073789557, 0.027151785327911904, 0.15127423254122346, 0.058182397131239794, 0.33085529416431647, 0.4623490649219294, 0.042417345405681595, 0.08483469081136319, 0.08271382354107912, 0.11064651635507071, 0.32374351081668834, 0.1816788478422766, 0.09698645260753111, 0.28686133869833147, 0.13002559261537266, 0.032506398153843166, 0.054177330256405275, 0.16253199076921582, 0.6284570309743012, 0.043077496926924606, 0.05668091700911133, 0.4670507561550773, 0.1927151178309785, 0.24032708811863202, 0.5117087604858539, 0.27367153764145946, 0.08124623773730828, 0.055589531083421455, 0.07839549255354307, 0.6023972371101965, 0.2271752292491843, 0.045945551982981093, 0.08678604263451985, 0.03573542932009641, 0.7123446039225437, 0.2557747403346046, 0.00956167253587307, 0.004780836267936535, 0.014342508803809606, 0.31031377200609367, 0.6058506977261828, 0.051718962001015605, 0.00738842314300223, 0.02216526942900669, 0.1033171488202984, 0.8359296586369598, 0.046962340372862905, 0.009392468074572582, 0.18544356881041835, 0.05011988346227523, 0.07517982519341285, 0.015035965038682568, 0.6766184267407156, 0.08508871742712658, 0.6027117484421466, 0.06381653807034493, 0.21272179356781645, 0.028362905809042195, 0.3795579130564905, 0.27044667023681146, 0.07367340327140726, 0.24713230211294837, 0.02890981647359019, 0.9550131033752282, 0.011104803527618931, 0.022209607055237862, 0.15126761511981457, 0.2354164871069962, 0.24343066539148966, 0.25945902196047665, 0.11019495141178545, 0.5099276789901961, 0.2189574957496071, 0.01459716638330714, 0.24328610638845233, 0.01362402195775333, 0.015672592869846944, 0.03134518573969389, 0.17239852156831637, 0.1097081500889286, 0.6739214934034186, 0.4547348694634049, 0.3370622497338396, 0.07180024254685341, 0.11168926618399418, 0.021938963000427428, 0.7562572075658823, 0.09127242160277889, 0.05215566948730223, 0.03911675211547667, 0.06519458685912778, 0.07595099081954633, 0.04966026322816491, 0.032133111500577294, 0.7186132208310921, 0.1226900620931133, 0.013317580570775853, 0.013317580570775853, 0.18644612799086194, 0.5327032228310341, 0.26635161141551705, 0.11748811421697963, 0.17464449410632107, 0.6954026219869875, 0.006350708876593493, 0.006350708876593493, 0.17167040745699289, 0.4052040248083976, 0.01237264197888237, 0.10362087657313984, 0.3062228889773386, 0.047345741830341036, 0.374648913614003, 0.010292552571813269, 0.07204786800269289, 0.4961010339613996, 0.0067602169635598884, 0.03380108481779944, 0.3785721499593538, 0.5746184419025906, 0.013520433927119777, 0.10176244155795108, 0.02475302632490702, 0.0027503362583230022, 0.0027503362583230022, 0.8691062576300687, 0.10394297967350147, 0.1974916613796528, 0.010394297967350146, 0.6652350699104094, 0.020788595934700293, 0.014938677697046925, 0.014938677697046925, 0.2539575208497977, 0.5676697524877831, 0.14938677697046923, 0.003926686570357966, 0.003926686570357966, 0.05301026869983254, 0.1727742090957505, 0.7657038812198034, 0.058774137046987834, 0.039182758031325225, 0.7248810235795166, 0.14693534261746957, 0.029387068523493917, 0.01277638322548631, 0.9646169335242164, 0.01277638322548631, 0.027911440444673547, 0.9359636362447196, 0.027911440444673547, 0.0037215253926231396, 0.00558228808893471, 0.7026611639492854, 0.10810171753065928, 0.03002825486962758, 0.13812997240028688, 0.024022603895702065, 0.04654376602827519, 0.09308753205655038, 0.12411670940873384, 0.04654376602827519, 0.6981564904241279, 0.6239454672539342, 0.30417341528629294, 0.038996591703370886, 0.007799318340674177, 0.02339795502202253, 0.26740454353151466, 0.13865420775708168, 0.03367316474100555, 0.5150013430977319, 0.04555781112018398, 0.0474728626533388, 0.904621771671956, 0.03428595636074469, 0.002637381258518822, 0.01318690629259411, 0.008334420961914335, 0.012501631442871503, 0.047922920531007426, 0.22711297121216562, 0.7063421765222399, 0.1360313845414211, 0.2559730354274053, 0.12432976006473972, 0.1360313845414211, 0.34812332818127123, 0.14391287343785228, 0.10193828535181204, 0.503695057032483, 0.18288927666060395, 0.06895825185563756, 0.06287840152646917, 0.015719600381617294, 0.911736822133803, 0.13364036369016516, 0.08566689980138792, 0.2604273753962193, 0.22501839014497893, 0.2958363606474596, 0.6979122924914076, 0.16105668288263253, 0.10737112192175502, 0.010737112192175501, 0.03221133657652651, 0.37076132780918847, 0.2919745456497359, 0.3089677731743237, 0.021627744122202662, 0.006179355463486475, 0.07698410141212937, 0.1581673356285567, 0.19269353868611774, 0.19269353868611774, 0.3793216633215829, 0.7210813157061, 0.12389713328283505, 0.05203679597879072, 0.05451473864444742, 0.04708091064747732, 0.162965616557087, 0.02875863821595653, 0.038344850954608704, 0.009586212738652176, 0.7477245936148698, 0.04564947976626806, 0.04935078893650601, 0.2381175566186415, 0.12337697234126503, 0.5440924480249788, 0.0033385098650606467, 0.0033385098650606467, 0.013354039460242587, 0.026708078920485174, 0.9581523312724056, 0.21047710583659135, 0.3794623090889084, 0.11844052192238294, 0.24895141550564567, 0.04375509727068924, 0.00985659291879041, 0.00985659291879041, 0.7983840264220232, 0.059139557512742455, 0.1281357079442753, 0.10562136599497773, 0.5091491488988671, 0.3060311373700637, 0.03791536215204329, 0.04333184245947805, 0.19752938267757342, 0.2113105023992646, 0.10106154462573524, 0.45018324424191153, 0.03674965259117645, 0.7319562465840533, 0.05587452264000407, 0.01676235679200122, 0.1396863066000102, 0.05028707037600367, 0.6712457343272844, 0.08390571679091055, 0.10787877873117072, 0.13185184067143088, 0.20850347822550805, 0.14756549891604723, 0.16190384698886154, 0.3232102628080225, 0.15891669114035856, 0.12199842663395617, 0.2134972466094233, 0.6099921331697808, 0.015249803329244522, 0.045749409987733566, 0.11950470935372695, 0.1520969028138343, 0.6953001271489568, 0.01086406448670245, 0.0217281289734049, 0.1310188586550213, 0.49158275767363996, 0.34693793771849646, 0.023059319123283753, 0.007337056084681193, 0.026881978586787356, 0.569001880086999, 0.36514687580386157, 0.029122143469019635, 0.011200824411161398, 0.2235370334896491, 0.1141807868903963, 0.23479429416898395, 0.06593538397896125, 0.36184052183576293, 0.07131617202203866, 0.5515860179829553, 0.3030937310936643, 0.04568692270161852, 0.02785787969610885, 0.5558404028068332, 0.2078930640419258, 0.09628731387204985, 0.07878052953167715, 0.06127374519130445, 0.6495719660466355, 0.20731020192977728, 0.0691034006432591, 0.04146204038595546, 0.04146204038595546, 0.04962844861166673, 0.013535031439545472, 0.009023354293030314, 0.13986199154196988, 0.7895435006401526, 0.11101019273214317, 0.10674056993475305, 0.6447130424059084, 0.05123547356868147, 0.08539245594780244, 0.5771839598051552, 0.1820647389989416, 0.05423204991457835, 0.15882243189269374, 0.027116024957289174, 0.15424488390084343, 0.17352549438844886, 0.067482136706619, 0.5687780093843601, 0.03856122097521086, 0.0025207634489403962, 0.0025207634489403962, 0.012603817244701982, 0.05041526897880793, 0.9326824761079466, 0.005225919690793842, 0.006967892921058457, 0.06271103628952611, 0.012193812611852298, 0.9110519994283932, 0.05202036926295744, 0.016006267465525366, 0.820321207608175, 0.10404073852591487, 0.0040015668663813415, 0.30902098210562096, 0.1349933763935081, 0.21468826125232615, 0.2732396052302333, 0.06830990130755832, 0.16711871115637858, 0.5074702326577837, 0.06929312413801063, 0.1711947772821439, 0.08559738864107196, 0.13165929545741112, 0.20255276224217098, 0.050638190560542744, 0.5975306486144044, 0.020255276224217095, 0.46403289584668905, 0.1553871623706803, 0.0830150593487196, 0.2362736304540481, 0.05960055542984997, 0.5878892796939942, 0.19106401590054808, 0.029394463984699706, 0.15432093591967347, 0.036743079980874636, 0.011071883929796994, 0.05535941964898497, 0.12179072322776692, 0.044287535719187976, 0.7750318750857895, 0.5320092814327854, 0.19416397132583404, 0.021358036845841744, 0.23688004501751755, 0.015533117706066725, 0.4601981740213275, 0.1347723223919602, 0.006574259628876107, 0.3928120128253474, 0.00493069472165708, 0.5559394882901386, 0.1869531022568608, 0.1402148266926456, 0.04919818480443705, 0.06395764024576817, 0.08280806123860847, 0.6127796531657027, 0.13249289798177355, 0.14905451022949523, 0.01667979671396103, 0.06671918685584412, 0.7839504455561683, 0.050039390141883085, 0.08339898356980514, 0.24451593870032606, 0.16604338162905863, 0.12055204419643982, 0.3929314270742449, 0.0761979901996365, 0.2058501978665787, 0.17900017205789454, 0.5728005505852625, 0.008950008602894726, 0.035800034411578904, 0.22310887359713252, 0.18788115671337477, 0.22310887359713252, 0.1309748448242276, 0.23485144589171844, 0.07347961183389544, 0.8450155360897975, 0.014695922366779088, 0.007347961183389544, 0.05878368946711635, 0.02505789623480048, 0.14617106136966945, 0.02505789623480048, 0.020881580195667066, 0.7893237313962151, 0.19101637481848022, 0.09550818740924011, 0.013644026772748587, 0.675379325251055, 0.027288053545497175, 0.4143736526880773, 0.18298084069196285, 0.20759709728729417, 0.053335222623217875, 0.1411332044798996, 0.01778462415280624, 0.8773747915384411, 0.011856416101870826, 0.0889231207640312, 0.4808232844363915, 0.3145385652354728, 0.07613035336909532, 0.0901543658318234, 0.03806517668454766, 0.18528614181940856, 0.0077202559091420235, 0.0077202559091420235, 0.8029066145507704, 0.0662516320623835, 0.6435872828917254, 0.2555420093834792, 0.02839355659816436, 0.009464518866054787, 0.07110768025741435, 0.007900853361934928, 0.7900853361934929, 0.11061194706708899, 0.023702560085804784, 0.1378944279085459, 0.09592655854507541, 0.053958689181604916, 0.6415088602701918, 0.07194491890880655, 0.136420124585317, 0.3118174276235817, 0.019488589226473858, 0.4774704360486095, 0.05846576767942157, 0.5545921170481701, 0.2626398186443765, 0.02813998056904034, 0.1348374068933183, 0.019932486236403577, 0.061250804624984403, 0.03500045978570537, 0.81376069001765, 0.07875103451783709, 0.017500229892852687, 0.0691861067742375, 0.06357642244119122, 0.5460092750831717, 0.28983369054072466, 0.03178821122059561, 0.0702461159647127, 0.807830333594196, 0.011707685994118783, 0.0702461159647127, 0.058538429970593914, 0.042769800935742536, 0.04989810109169962, 0.0641547014036138, 0.05702640124765671, 0.7841130171552798, 0.16601155964528513, 0.6279567690930351, 0.11999748604795067, 0.07804347776802807, 0.0076690122662224115, 0.06574059356908174, 0.12550476954097423, 0.13148118713816348, 0.04183492318032474, 0.6394766828992496, 0.1511625751159367, 0.6890201098307812, 0.08788521809066087, 0.024607861065385043, 0.04570031340714365, 0.012518821186762459, 0.020030113898819934, 0.8212346698516173, 0.1226844476302721, 0.022533878136172428, 0.10991626976306254, 0.8697722216033645, 0.01433690475170381, 0.004778968250567937, 0.004778968250567937, 0.5878106009342741, 0.1331218125645268, 0.09854471839192243, 0.06915418834520871, 0.11064670135233395, 0.1328320849193165, 0.14249260018617588, 0.26324904102191815, 0.35502393605708227, 0.1062656679354532, 0.6405110521807375, 0.0408836841817492, 0.12265105254524761, 0.1635347367269968, 0.013627894727249734, 0.7104029008796067, 0.14208058017592134, 0.09041491465740449, 0.01937462456944382, 0.03874924913888764, 0.011053900795003374, 0.7350844028677244, 0.005526950397501687, 0.23213191669507086, 0.022107801590006748, 0.0011710286558292557, 0.0011710286558292557, 0.0035130859674877674, 0.009368229246634045, 0.9848350995524041, 0.1204370362193816, 0.16123022590659147, 0.03302305831821753, 0.3904491012918661, 0.2933224591794616, 0.36414300133975325, 0.2410463683780228, 0.12138100044658443, 0.16684526209795528, 0.10722703219662935, 0.1649946400955332, 0.120996069403391, 0.02199928534607109, 0.604980347016955, 0.07699749871124882, 0.06914203110612034, 0.6815428780460433, 0.029632299045480145, 0.19754866030320095, 0.029632299045480145, 0.6865794895645667, 0.19071652487904633, 0.05340062696613297, 0.045771965970971114, 0.03051464398064741, 0.7710197614827384, 0.10590930789598055, 0.04236372315839222, 0.03389097852671378, 0.050836467790070665, 0.18899438296265955, 0.08865554691702938, 0.4625207990322541, 0.18693262605761235, 0.07284874397833423, 0.08529454294574777, 0.0746327250775293, 0.06397090720931083, 0.725003615038856, 0.042647271472873886, 0.9407723345616135, 0.0095997176996083, 0.0383988707984332, 0.0095997176996083, 0.14083884775717714, 0.6689845268465914, 0.035209711939294286, 0.13203641977235356, 0.026407283954470714, 0.06442471286093217, 0.026355564352199524, 0.19913093066106308, 0.29283960391332803, 0.4216890296351924, 0.10489376573028468, 0.08850411483492769, 0.2720682048629259, 0.14750685805821281, 0.38679576113042474, 0.14327284399809728, 0.056063286781864154, 0.08720955721623314, 0.6229254086873794, 0.09343881130310693, 0.09446214088429905, 0.005830996350882658, 0.5306206679303219, 0.06414095985970923, 0.30437800951607474, 0.1514587001879853, 0.48607675874283657, 0.1162357466558957, 0.1250414850389181, 0.12151918968570914, 0.08267477573954034, 0.0866116698223756, 0.7309500013797455, 0.049867325049246555, 0.049867325049246555, 0.14730316721468134, 0.18822071366320395, 0.5973961781484299, 0.02182269143921205, 0.0436453828784241, 0.826957537259973, 0.04558033669936859, 0.09767215007007556, 0.02604590668535348, 0.5748919228894376, 0.04999060199038588, 0.21246005845913998, 0.12497650497596469, 0.03749295149278941, 0.0545761250087581, 0.7858962001261167, 0.01091522500175162, 0.12006747501926783, 0.02183045000350324, 0.27914447478679183, 0.15825513531219695, 0.41102375421362264, 0.08352354363699283, 0.06593963971341539, 0.0585874701259809, 0.24411445885825375, 0.6737559064487804, 0.0195291567086603, 0.09922444156405512, 0.10173645274289196, 0.6908030741801306, 0.09671243038521829, 0.011304050304765773, 0.36948625778274574, 0.1421100991472099, 0.12221468526660052, 0.17621652294254028, 0.19042753285726127, 0.1350208561129473, 0.07364773969797127, 0.1227462328299521, 0.5891819175837701, 0.08592236298096648, 0.02051137192496233, 0.010255685962481165, 0.030767057887443498, 0.030767057887443498, 0.9025003646983426], \"Term\": [\"academic\", \"academic\", \"academic\", \"academic\", \"academic\", \"acceptance\", \"acceptance\", \"acceptance\", \"acceptance\", \"acceptance\", \"accuracy\", \"accuracy\", \"accuracy\", \"accuracy\", \"accuracy\", \"accurate\", \"accurate\", \"accurate\", \"accurate\", \"accurate\", \"advisor\", \"advisor\", \"advisor\", \"advisor\", \"africa\", \"africa\", \"africa\", \"africa\", \"africa\", \"ai\", \"ai\", \"ai\", \"ai\", \"ai\", \"algorithm\", \"algorithm\", \"algorithm\", \"algorithm\", \"algorithm\", \"alternative\", \"alternative\", \"alternative\", \"alternative\", \"alternative\", \"analysis\", \"analysis\", \"analysis\", \"analysis\", \"analysis\", \"application\", \"application\", \"application\", \"application\", \"application\", \"approach\", \"approach\", \"approach\", \"approach\", \"approach\", \"area\", \"area\", \"area\", \"area\", \"area\", \"artificial\", \"artificial\", \"artificial\", \"artificial\", \"artificial\", \"assessment\", \"assessment\", \"assessment\", \"assessment\", \"assessment\", \"asset\", \"asset\", \"asset\", \"asset\", \"asset\", \"average\", \"average\", \"average\", \"average\", \"average\", \"bank\", \"bank\", \"bank\", \"bank\", \"bank\", \"banking\", \"banking\", \"banking\", \"banking\", \"banking\", \"basis\", \"basis\", \"basis\", \"basis\", \"basis\", \"benchmark\", \"benchmark\", \"benchmark\", \"benchmark\", \"benchmark\", \"blockchain\", \"blockchain\", \"blockchain\", \"blockchain\", \"blockchain\", \"borrower\", \"borrower\", \"borrower\", \"borrower\", \"business\", \"business\", \"business\", \"business\", \"business\", \"capital\", \"capital\", \"capital\", \"capital\", \"capital\", \"case\", \"case\", \"case\", \"case\", \"case\", \"category\", \"category\", \"category\", \"category\", \"category\", \"central\", \"central\", \"central\", \"central\", \"central\", \"channel\", \"channel\", \"channel\", \"channel\", \"chapter\", \"chapter\", \"chapter\", \"chapter\", \"china\", \"china\", \"china\", \"china\", \"china\", \"cloud\", \"cloud\", \"cloud\", \"cloud\", \"cloud\", \"communication\", \"communication\", \"communication\", \"communication\", \"communication\", \"company\", \"company\", \"company\", \"company\", \"company\", \"competition\", \"competition\", \"competition\", \"competition\", \"competition\", \"consensus\", \"consensus\", \"consensus\", \"consensus\", \"consumer\", \"consumer\", \"consumer\", \"consumer\", \"consumer\", \"consumption\", \"consumption\", \"consumption\", \"consumption\", \"consumption\", \"contract\", \"contract\", \"contract\", \"contract\", \"contract\", \"corporate\", \"corporate\", \"corporate\", \"corporate\", \"corporate\", \"country\", \"country\", \"country\", \"country\", \"country\", \"credit\", \"credit\", \"credit\", \"credit\", \"credit\", \"cryptocurrencie\", \"cryptocurrencie\", \"cryptocurrencie\", \"cryptocurrencie\", \"cryptocurrencie\", \"cryptocurrency\", \"cryptocurrency\", \"cryptocurrency\", \"cryptocurrency\", \"cryptocurrency\", \"customer\", \"customer\", \"customer\", \"customer\", \"customer\", \"daily\", \"daily\", \"daily\", \"daily\", \"daily\", \"data\", \"data\", \"data\", \"data\", \"data\", \"database\", \"database\", \"database\", \"database\", \"database\", \"datum\", \"datum\", \"datum\", \"datum\", \"datum\", \"day\", \"day\", \"day\", \"day\", \"day\", \"deep\", \"deep\", \"deep\", \"deep\", \"deep\", \"default\", \"default\", \"default\", \"default\", \"default\", \"detection\", \"detection\", \"detection\", \"detection\", \"detection\", \"determinant\", \"determinant\", \"determinant\", \"determinant\", \"determinant\", \"development\", \"development\", \"development\", \"development\", \"development\", \"device\", \"device\", \"device\", \"device\", \"device\", \"different\", \"different\", \"different\", \"different\", \"different\", \"digital\", \"digital\", \"digital\", \"digital\", \"digital\", \"digitalization\", \"digitalization\", \"digitalization\", \"digitalization\", \"digitalization\", \"direction\", \"direction\", \"direction\", \"direction\", \"direction\", \"disruption\", \"disruption\", \"disruption\", \"disruption\", \"disruption\", \"domain\", \"domain\", \"domain\", \"domain\", \"domain\", \"economy\", \"economy\", \"economy\", \"economy\", \"economy\", \"effect\", \"effect\", \"effect\", \"effect\", \"effect\", \"efficiency\", \"efficiency\", \"efficiency\", \"efficiency\", \"efficiency\", \"electricity\", \"electricity\", \"electricity\", \"electricity\", \"electricity\", \"element\", \"element\", \"element\", \"element\", \"element\", \"emerald\", \"emerald\", \"emerald\", \"emerald\", \"emerald\", \"energy\", \"energy\", \"energy\", \"energy\", \"energy\", \"entrepreneur\", \"entrepreneur\", \"entrepreneur\", \"entrepreneur\", \"equation\", \"equation\", \"equation\", \"equation\", \"equation\", \"error\", \"error\", \"error\", \"error\", \"ethereum\", \"ethereum\", \"ethereum\", \"ethereum\", \"exchange\", \"exchange\", \"exchange\", \"exchange\", \"exchange\", \"extensive\", \"extensive\", \"extensive\", \"extensive\", \"extensive\", \"factor\", \"factor\", \"factor\", \"factor\", \"factor\", \"field\", \"field\", \"field\", \"field\", \"field\", \"finance\", \"finance\", \"finance\", \"finance\", \"finance\", \"financing\", \"financing\", \"financing\", \"financing\", \"financing\", \"finding\", \"finding\", \"finding\", \"finding\", \"finding\", \"fintechs\", \"fintechs\", \"fintechs\", \"fintechs\", \"fintechs\", \"firm\", \"firm\", \"firm\", \"firm\", \"firm\", \"forecast\", \"forecast\", \"forecast\", \"forecast\", \"forecast\", \"forecasting\", \"forecasting\", \"forecasting\", \"framework\", \"framework\", \"framework\", \"framework\", \"framework\", \"francis\", \"francis\", \"francis\", \"francis\", \"funding\", \"funding\", \"funding\", \"funding\", \"funding\", \"future\", \"future\", \"future\", \"future\", \"future\", \"generation\", \"generation\", \"generation\", \"generation\", \"generation\", \"governance\", \"governance\", \"governance\", \"governance\", \"governance\", \"green\", \"green\", \"green\", \"green\", \"green\", \"grid\", \"grid\", \"grid\", \"grid\", \"group\", \"group\", \"group\", \"group\", \"group\", \"growth\", \"growth\", \"growth\", \"growth\", \"growth\", \"high\", \"high\", \"high\", \"high\", \"high\", \"historical\", \"historical\", \"historical\", \"historical\", \"historical\", \"ieee\", \"ieee\", \"ieee\", \"ieee\", \"ieee\", \"impact\", \"impact\", \"impact\", \"impact\", \"impact\", \"implication\", \"implication\", \"implication\", \"implication\", \"implication\", \"inclusion\", \"inclusion\", \"inclusion\", \"inclusion\", \"inclusion\", \"income\", \"income\", \"income\", \"income\", \"income\", \"incumbent\", \"incumbent\", \"incumbent\", \"incumbent\", \"index\", \"index\", \"index\", \"index\", \"index\", \"india\", \"india\", \"india\", \"india\", \"india\", \"industry\", \"industry\", \"industry\", \"industry\", \"industry\", \"informa\", \"informa\", \"informa\", \"information\", \"information\", \"information\", \"information\", \"information\", \"innovation\", \"innovation\", \"innovation\", \"innovation\", \"innovation\", \"input\", \"input\", \"input\", \"input\", \"input\", \"institution\", \"institution\", \"institution\", \"institution\", \"institution\", \"institutional\", \"institutional\", \"institutional\", \"institutional\", \"institutional\", \"intelligence\", \"intelligence\", \"intelligence\", \"intelligence\", \"intelligence\", \"intelligent\", \"intelligent\", \"intelligent\", \"intelligent\", \"intelligent\", \"intention\", \"intention\", \"intention\", \"intention\", \"intention\", \"investment\", \"investment\", \"investment\", \"investment\", \"investment\", \"investor\", \"investor\", \"investor\", \"investor\", \"investor\", \"iot\", \"iot\", \"iot\", \"iot\", \"iot\", \"islamic\", \"islamic\", \"islamic\", \"islamic\", \"islamic\", \"journal\", \"journal\", \"journal\", \"journal\", \"journal\", \"language\", \"language\", \"language\", \"language\", \"language\", \"learning\", \"learning\", \"learning\", \"learning\", \"learning\", \"ledger\", \"ledger\", \"ledger\", \"ledger\", \"ledger\", \"lender\", \"lender\", \"lender\", \"lending\", \"lending\", \"lending\", \"lending\", \"lending\", \"limited\", \"limited\", \"limited\", \"limited\", \"limited\", \"linear\", \"linear\", \"linear\", \"linear\", \"linear\", \"literacy\", \"literacy\", \"literacy\", \"literacy\", \"literacy\", \"literature\", \"literature\", \"literature\", \"literature\", \"literature\", \"loan\", \"loan\", \"loan\", \"loan\", \"loan\", \"machine\", \"machine\", \"machine\", \"machine\", \"machine\", \"market\", \"market\", \"market\", \"market\", \"market\", \"mechanism\", \"mechanism\", \"mechanism\", \"mechanism\", \"mechanism\", \"memory\", \"memory\", \"memory\", \"method\", \"method\", \"method\", \"method\", \"method\", \"micro\", \"micro\", \"micro\", \"micro\", \"micro\", \"mobile\", \"mobile\", \"mobile\", \"mobile\", \"mobile\", \"model\", \"model\", \"model\", \"model\", \"model\", \"money\", \"money\", \"money\", \"money\", \"money\", \"movement\", \"movement\", \"movement\", \"movement\", \"movement\", \"network\", \"network\", \"network\", \"network\", \"network\", \"neural\", \"neural\", \"neural\", \"neural\", \"neural\", \"new\", \"new\", \"new\", \"new\", \"new\", \"node\", \"node\", \"node\", \"node\", \"node\", \"online\", \"online\", \"online\", \"online\", \"online\", \"organization\", \"organization\", \"organization\", \"organization\", \"organization\", \"originality\", \"originality\", \"originality\", \"originality\", \"originality\", \"panel\", \"panel\", \"panel\", \"panel\", \"paper\", \"paper\", \"paper\", \"paper\", \"paper\", \"partial\", \"partial\", \"partial\", \"partial\", \"partial\", \"party\", \"party\", \"party\", \"party\", \"party\", \"payment\", \"payment\", \"payment\", \"payment\", \"payment\", \"peer\", \"peer\", \"peer\", \"peer\", \"peer\", \"performance\", \"performance\", \"performance\", \"performance\", \"performance\", \"platform\", \"platform\", \"platform\", \"platform\", \"platform\", \"policy\", \"policy\", \"policy\", \"policy\", \"policy\", \"policymaker\", \"policymaker\", \"policymaker\", \"policymaker\", \"policymaker\", \"portfolio\", \"portfolio\", \"portfolio\", \"portfolio\", \"portfolio\", \"power\", \"power\", \"power\", \"power\", \"power\", \"practice\", \"practice\", \"practice\", \"practice\", \"practice\", \"practitioner\", \"practitioner\", \"practitioner\", \"practitioner\", \"practitioner\", \"prediction\", \"prediction\", \"prediction\", \"prediction\", \"prediction\", \"price\", \"price\", \"price\", \"price\", \"price\", \"privacy\", \"privacy\", \"privacy\", \"privacy\", \"privacy\", \"process\", \"process\", \"process\", \"process\", \"process\", \"product\", \"product\", \"product\", \"product\", \"product\", \"publication\", \"publication\", \"publication\", \"publication\", \"publication\", \"purpose\", \"purpose\", \"purpose\", \"purpose\", \"purpose\", \"qualitative\", \"qualitative\", \"qualitative\", \"qualitative\", \"qualitative\", \"random\", \"random\", \"random\", \"random\", \"random\", \"regulation\", \"regulation\", \"regulation\", \"regulation\", \"regulation\", \"regulatory\", \"regulatory\", \"regulatory\", \"regulatory\", \"regulatory\", \"relationship\", \"relationship\", \"relationship\", \"relationship\", \"relationship\", \"reliability\", \"reliability\", \"reliability\", \"reliability\", \"reliable\", \"reliable\", \"reliable\", \"reliable\", \"reliable\", \"research\", \"research\", \"research\", \"research\", \"research\", \"respondent\", \"respondent\", \"respondent\", \"respondent\", \"respondent\", \"result\", \"result\", \"result\", \"result\", \"result\", \"retail\", \"retail\", \"retail\", \"retail\", \"retail\", \"return\", \"return\", \"return\", \"return\", \"return\", \"review\", \"review\", \"review\", \"review\", \"review\", \"risk\", \"risk\", \"risk\", \"risk\", \"risk\", \"robo\", \"robo\", \"robo\", \"robo\", \"role\", \"role\", \"role\", \"role\", \"role\", \"sandbox\", \"sandbox\", \"sandbox\", \"sandbox\", \"satisfaction\", \"satisfaction\", \"satisfaction\", \"satisfaction\", \"satisfaction\", \"scheme\", \"scheme\", \"scheme\", \"scheme\", \"scheme\", \"science\", \"science\", \"science\", \"science\", \"science\", \"scientific\", \"scientific\", \"scientific\", \"scientific\", \"scientific\", \"sector\", \"sector\", \"sector\", \"sector\", \"sector\", \"secure\", \"secure\", \"secure\", \"secure\", \"secure\", \"security\", \"security\", \"security\", \"security\", \"security\", \"segment\", \"segment\", \"segment\", \"segment\", \"segment\", \"series\", \"series\", \"series\", \"series\", \"series\", \"service\", \"service\", \"service\", \"service\", \"service\", \"short\", \"short\", \"short\", \"short\", \"short\", \"small\", \"small\", \"small\", \"small\", \"small\", \"smart\", \"smart\", \"smart\", \"smart\", \"smart\", \"sme\", \"sme\", \"sme\", \"sme\", \"sme\", \"social\", \"social\", \"social\", \"social\", \"social\", \"solution\", \"solution\", \"solution\", \"solution\", \"solution\", \"south\", \"south\", \"south\", \"south\", \"south\", \"stability\", \"stability\", \"stability\", \"stability\", \"stability\", \"startup\", \"startup\", \"startup\", \"startup\", \"startup\", \"stock\", \"stock\", \"stock\", \"stock\", \"stock\", \"strategy\", \"strategy\", \"strategy\", \"strategy\", \"strategy\", \"study\", \"study\", \"study\", \"study\", \"study\", \"subject\", \"subject\", \"subject\", \"subject\", \"subject\", \"success\", \"success\", \"success\", \"success\", \"success\", \"sustainability\", \"sustainability\", \"sustainability\", \"sustainability\", \"sustainability\", \"sustainable\", \"sustainable\", \"sustainable\", \"sustainable\", \"sustainable\", \"system\", \"system\", \"system\", \"system\", \"system\", \"systematic\", \"systematic\", \"systematic\", \"systematic\", \"systematic\", \"taylor\", \"taylor\", \"taylor\", \"taylor\", \"tech\", \"tech\", \"tech\", \"tech\", \"tech\", \"technique\", \"technique\", \"technique\", \"technique\", \"technique\", \"time\", \"time\", \"time\", \"time\", \"time\", \"topic\", \"topic\", \"topic\", \"topic\", \"topic\", \"trading\", \"trading\", \"trading\", \"trading\", \"trading\", \"traditional\", \"traditional\", \"traditional\", \"traditional\", \"traditional\", \"transaction\", \"transaction\", \"transaction\", \"transaction\", \"transaction\", \"trust\", \"trust\", \"trust\", \"trust\", \"trust\", \"uk\", \"uk\", \"uk\", \"uk\", \"uncertainty\", \"uncertainty\", \"uncertainty\", \"uncertainty\", \"uncertainty\", \"up\", \"up\", \"up\", \"up\", \"up\", \"use\", \"use\", \"use\", \"use\", \"use\", \"usefulness\", \"usefulness\", \"usefulness\", \"usefulness\", \"user\", \"user\", \"user\", \"user\", \"user\", \"value\", \"value\", \"value\", \"value\", \"value\", \"virtual\", \"virtual\", \"virtual\", \"virtual\", \"virtual\", \"volatility\", \"volatility\", \"volatility\", \"volatility\", \"volatility\"]}, \"R\": 30, \"lambda.step\": 0.01, \"plot.opts\": {\"xlab\": \"PC1\", \"ylab\": \"PC2\"}, \"topic.order\": [5, 3, 1, 2, 4]};\n",
              "\n",
              "function LDAvis_load_lib(url, callback){\n",
              "  var s = document.createElement('script');\n",
              "  s.src = url;\n",
              "  s.async = true;\n",
              "  s.onreadystatechange = s.onload = callback;\n",
              "  s.onerror = function(){console.warn(\"failed to load library \" + url);};\n",
              "  document.getElementsByTagName(\"head\")[0].appendChild(s);\n",
              "}\n",
              "\n",
              "if(typeof(LDAvis) !== \"undefined\"){\n",
              "   // already loaded: just create the visualization\n",
              "   !function(LDAvis){\n",
              "       new LDAvis(\"#\" + \"ldavis_el43962922807146416910698572\", ldavis_el43962922807146416910698572_data);\n",
              "   }(LDAvis);\n",
              "}else if(typeof define === \"function\" && define.amd){\n",
              "   // require.js is available: use it to load d3/LDAvis\n",
              "   require.config({paths: {d3: \"https://d3js.org/d3.v5\"}});\n",
              "   require([\"d3\"], function(d3){\n",
              "      window.d3 = d3;\n",
              "      LDAvis_load_lib(\"https://cdn.jsdelivr.net/gh/bmabey/pyLDAvis@3.3.1/pyLDAvis/js/ldavis.v3.0.0.js\", function(){\n",
              "        new LDAvis(\"#\" + \"ldavis_el43962922807146416910698572\", ldavis_el43962922807146416910698572_data);\n",
              "      });\n",
              "    });\n",
              "}else{\n",
              "    // require.js not available: dynamically load d3 & LDAvis\n",
              "    LDAvis_load_lib(\"https://d3js.org/d3.v5.js\", function(){\n",
              "         LDAvis_load_lib(\"https://cdn.jsdelivr.net/gh/bmabey/pyLDAvis@3.3.1/pyLDAvis/js/ldavis.v3.0.0.js\", function(){\n",
              "                 new LDAvis(\"#\" + \"ldavis_el43962922807146416910698572\", ldavis_el43962922807146416910698572_data);\n",
              "            })\n",
              "         });\n",
              "}\n",
              "</script>"
            ],
            "text/plain": [
              "<IPython.core.display.HTML object>"
            ]
          },
          "execution_count": 46,
          "metadata": {},
          "output_type": "execute_result"
        }
      ],
      "source": [
        " # Let's Visualize\n",
        "pyLDAvis.display(lda_display_2)"
      ]
    },
    {
      "cell_type": "code",
      "execution_count": 47,
      "metadata": {},
      "outputs": [],
      "source": [
        "topic_dist_2 = lda_model_2[corpus_2]"
      ]
    },
    {
      "cell_type": "code",
      "execution_count": 48,
      "metadata": {},
      "outputs": [
        {
          "name": "stderr",
          "output_type": "stream",
          "text": [
            "C:\\Users\\maart\\AppData\\Local\\Temp\\ipykernel_4396\\1577890192.py:7: SettingWithCopyWarning: \n",
            "A value is trying to be set on a copy of a slice from a DataFrame.\n",
            "Try using .loc[row_indexer,col_indexer] = value instead\n",
            "\n",
            "See the caveats in the documentation: https://pandas.pydata.org/pandas-docs/stable/user_guide/indexing.html#returning-a-view-versus-a-copy\n",
            "  data['Topic Distribution_2'] = dist_2\n"
          ]
        }
      ],
      "source": [
        "dist_2 = []\n",
        "\n",
        "for t_2 in topic_dist_2:\n",
        "    dist_2.append(t_2)  \n",
        "    \n",
        "# add list to the data frame\n",
        "data['Topic Distribution_2'] = dist_2"
      ]
    },
    {
      "cell_type": "code",
      "execution_count": 49,
      "metadata": {},
      "outputs": [],
      "source": [
        "data.reset_index(inplace=True)"
      ]
    },
    {
      "cell_type": "code",
      "execution_count": 50,
      "metadata": {},
      "outputs": [
        {
          "name": "stderr",
          "output_type": "stream",
          "text": [
            "C:\\Users\\maart\\AppData\\Local\\Temp\\ipykernel_4396\\1449392197.py:4: SettingWithCopyWarning: \n",
            "A value is trying to be set on a copy of a slice from a DataFrame.\n",
            "Try using .loc[row_indexer,col_indexer] = value instead\n",
            "\n",
            "See the caveats in the documentation: https://pandas.pydata.org/pandas-docs/stable/user_guide/indexing.html#returning-a-view-versus-a-copy\n",
            "  data['topic_num:2'] = list_topicnum_2\n"
          ]
        }
      ],
      "source": [
        "list_topicnum_2 = []\n",
        "for itm in range(len(data)):\n",
        "    list_topicnum_2.append(sorted(data['Topic Distribution_2'][itm], key=lambda tup: tup[1], reverse=True)[0][0])\n",
        "data['topic_num:2'] = list_topicnum_2"
      ]
    },
    {
      "cell_type": "code",
      "execution_count": null,
      "metadata": {},
      "outputs": [],
      "source": [
        "# We change the cluster numbers to qualitively interpreted labels\n",
        "data['topic_num_2'] = data['topic_num_2'].replace(0,'')\n",
        "data['topic_num_2'] = data['topic_num_2'].replace(1,'')\n",
        "data['topic_num_2'] = data['topic_num_2'].replace(2,'')\n",
        "data['topic_num_2'] = data['topic_num_2'].replace(3,'')\n",
        "data['topic_num_2'] = data['topic_num_2'].replace(4,'')"
      ]
    },
    {
      "cell_type": "code",
      "execution_count": null,
      "metadata": {},
      "outputs": [],
      "source": [
        "#Checking if we need to fix the distribution of the data\n",
        "data['topic_num_2'].value_counts()"
      ]
    },
    {
      "cell_type": "code",
      "execution_count": null,
      "metadata": {},
      "outputs": [],
      "source": [
        "data['labels_2'] = data['topic_num_2'] "
      ]
    },
    {
      "cell_type": "markdown",
      "metadata": {},
      "source": [
        "### LDA For Author Keywords"
      ]
    },
    {
      "cell_type": "code",
      "execution_count": null,
      "metadata": {},
      "outputs": [],
      "source": [
        "lda_model = LdaMulticore(corpus, id2word=dictionary, num_topics=5, workers = 4, passes=10, random_state = 60)"
      ]
    },
    {
      "cell_type": "code",
      "execution_count": null,
      "metadata": {},
      "outputs": [],
      "source": [
        "# Let's try to visualize\n",
        "lda_display = pyLDAvis.gensim_models.prepare(lda_model, corpus, dictionary)"
      ]
    },
    {
      "cell_type": "code",
      "execution_count": null,
      "metadata": {},
      "outputs": [],
      "source": [
        " # Let's Visualize\n",
        "pyLDAvis.display(lda_display)"
      ]
    },
    {
      "cell_type": "code",
      "execution_count": null,
      "metadata": {},
      "outputs": [],
      "source": [
        "topic_dist = lda_model[corpus]"
      ]
    },
    {
      "cell_type": "code",
      "execution_count": null,
      "metadata": {},
      "outputs": [],
      "source": [
        "dist = []\n",
        "\n",
        "for t in topic_dist:\n",
        "    dist.append(t)  \n",
        "    \n",
        "# add list to the data frame\n",
        "data['Topic Distribution'] = dist"
      ]
    },
    {
      "cell_type": "code",
      "execution_count": null,
      "metadata": {},
      "outputs": [],
      "source": [
        "data.reset_index(inplace=True)"
      ]
    },
    {
      "cell_type": "code",
      "execution_count": null,
      "metadata": {},
      "outputs": [],
      "source": [
        "list_topicnum = []\n",
        "for itm in range(len(data)):\n",
        "    list_topicnum.append(sorted(data['Topic Distribution'][itm], key=lambda tup: tup[1], reverse=True)[0][0])\n",
        "data['topic_num'] = list_topicnum"
      ]
    },
    {
      "cell_type": "code",
      "execution_count": null,
      "metadata": {},
      "outputs": [],
      "source": [
        "# We change the cluster numbers to qualitively interpreted labels\n",
        "data['topic_num'] = data['topic_num'].replace(0,'Fintech')\n",
        "data['topic_num'] = data['topic_num'].replace(1,'AI')\n",
        "data['topic_num'] = data['topic_num'].replace(2,'Cryptocurrency')\n",
        "data['topic_num'] = data['topic_num'].replace(3,'Digital Banking')\n",
        "data['topic_num'] = data['topic_num'].replace(4,'Risk Exposure')"
      ]
    },
    {
      "cell_type": "code",
      "execution_count": null,
      "metadata": {},
      "outputs": [],
      "source": [
        "#Checking if we need to fix the distribution of the data\n",
        "data['topic_num'].value_counts()"
      ]
    },
    {
      "cell_type": "code",
      "execution_count": null,
      "metadata": {},
      "outputs": [],
      "source": [
        "data['topic_num'].info()"
      ]
    },
    {
      "cell_type": "code",
      "execution_count": null,
      "metadata": {},
      "outputs": [],
      "source": [
        "data['labels'] = data['topic_num'] "
      ]
    },
    {
      "cell_type": "markdown",
      "metadata": {
        "id": "uDet_IXID2Uc"
      },
      "source": [
        "#### Training the SML model"
      ]
    },
    {
      "cell_type": "code",
      "execution_count": null,
      "metadata": {
        "id": "DzL2SVUND2Uc"
      },
      "outputs": [],
      "source": [
        "# from sklearn.preprocessing import LabelEncoder"
      ]
    },
    {
      "cell_type": "code",
      "execution_count": null,
      "metadata": {
        "id": "bJ67g1vrD2Uc"
      },
      "outputs": [],
      "source": [
        "# le_keywords = LabelEncoder()\n",
        "# # le_text_clean = LabelEncoder()"
      ]
    },
    {
      "cell_type": "code",
      "execution_count": null,
      "metadata": {
        "id": "rsMUaSbTD2Ud"
      },
      "outputs": [],
      "source": [
        "# data['Keyword_ID'] = le_keywords.fit_transform(data['Author Keywords'])"
      ]
    },
    {
      "cell_type": "code",
      "execution_count": null,
      "metadata": {
        "id": "EuMRL3RDD2Ud"
      },
      "outputs": [],
      "source": [
        "# data['text_clean_ID'] = le_text_clean.fit_transform(data['text_clean'])"
      ]
    },
    {
      "cell_type": "code",
      "execution_count": null,
      "metadata": {
        "id": "RJTpy-41D2Ue"
      },
      "outputs": [],
      "source": [
        "# from collections import Counter\n",
        "# from numpy.random import RandomState\n",
        "# from sklearn.datasets import make_classification\n",
        "# from imblearn.over_sampling import SMOTE\n",
        "# smote = SMOTE()"
      ]
    },
    {
      "cell_type": "code",
      "execution_count": null,
      "metadata": {
        "id": "QOHDVCd0D2Ue"
      },
      "outputs": [],
      "source": [
        "# # Here we use oversampling, since the distribution of the y value is skewed \n",
        "# X_train_SMOTE, y_train_SMOTE = smote.fit_resample(data['Abstract'], data['topic_num'])"
      ]
    },
    {
      "cell_type": "code",
      "execution_count": null,
      "metadata": {
        "id": "8C8S-54RD2Ue"
      },
      "outputs": [],
      "source": [
        "# Splitting the dataset into the Training set and Test set (since we have a new output variable)\n",
        "X_train, X_test, y_train, y_test = train_test_split(data['Abstract'], data['topic_num'], test_size = 0.2, random_state = 42)"
      ]
    },
    {
      "cell_type": "code",
      "execution_count": null,
      "metadata": {
        "id": "oK9aGXmVD2Uf"
      },
      "outputs": [],
      "source": [
        "#instantiate models and \"bundle up as pipeline\"\n",
        "\n",
        "tfidf = TfidfVectorizer()\n",
        "cls = LogisticRegression()\n",
        "\n",
        "pipe1 = make_pipeline(tfidf, cls)"
      ]
    },
    {
      "cell_type": "code",
      "execution_count": null,
      "metadata": {},
      "outputs": [],
      "source": [
        "# from sklearn.linear_model import LinearRegression\n",
        "# model_ols = LinearRegression()"
      ]
    },
    {
      "cell_type": "code",
      "execution_count": null,
      "metadata": {},
      "outputs": [],
      "source": [
        "# model_ols.fit(X_train, y_train)"
      ]
    },
    {
      "cell_type": "code",
      "execution_count": null,
      "metadata": {},
      "outputs": [],
      "source": [
        "# from xgboost import XGBRegressor\n",
        "# model_xgb = XGBRegressor()"
      ]
    },
    {
      "cell_type": "code",
      "execution_count": null,
      "metadata": {},
      "outputs": [],
      "source": [
        "# #Running the model for training\n",
        "# model_xgb.fit(X_train, y_train)"
      ]
    },
    {
      "cell_type": "code",
      "execution_count": null,
      "metadata": {
        "id": "DAykPYH7D2Uf"
      },
      "outputs": [],
      "source": [
        "pipe.fit(X_train,y_train) # fit model"
      ]
    },
    {
      "cell_type": "code",
      "execution_count": null,
      "metadata": {
        "id": "CeeJtD-wD2Uf"
      },
      "outputs": [],
      "source": [
        "# evaluate model performance on training set\n",
        "\n",
        "y_eval = pipe.predict(X_train)\n",
        "report = classification_report(y_train, y_eval)\n",
        "print(report)"
      ]
    },
    {
      "cell_type": "code",
      "execution_count": null,
      "metadata": {
        "id": "D2DVUJrfD2Uf"
      },
      "outputs": [],
      "source": [
        "# evaluate model performance on test set\n",
        "\n",
        "y_pred = pipe.predict(X_test)\n",
        "report = classification_report(y_test, y_pred)\n",
        "print(report)"
      ]
    },
    {
      "cell_type": "code",
      "execution_count": null,
      "metadata": {
        "id": "XwF9Rx_fD2Uf"
      },
      "outputs": [],
      "source": [
        "t1 = ['haha i want to kill myself with a bomb risk risk risk']"
      ]
    },
    {
      "cell_type": "code",
      "execution_count": null,
      "metadata": {
        "id": "l8Hd5FPoD2Ug"
      },
      "outputs": [],
      "source": [
        "t1_p = text_prepro(pd.Series(t1))"
      ]
    },
    {
      "cell_type": "code",
      "execution_count": null,
      "metadata": {
        "id": "_iLnbvgmD2Ug"
      },
      "outputs": [],
      "source": [
        "pipe.predict (t1_p)"
      ]
    },
    {
      "cell_type": "markdown",
      "metadata": {
        "id": "KgHWMeFoD2Uh"
      },
      "source": [
        "### We will use a coherence matrix to find out how many topics we need for topic modelling"
      ]
    },
    {
      "cell_type": "code",
      "execution_count": null,
      "metadata": {
        "id": "l34LZpTID2Uh"
      },
      "outputs": [],
      "source": [
        "# cm = CoherenceModel(model=lda_model, corpus=corpus, coherence='u_mass')\n",
        "# coherence = cm.get_coherence()  # get coherence value"
      ]
    },
    {
      "cell_type": "code",
      "execution_count": null,
      "metadata": {
        "id": "S9iUkppxD2Uh"
      },
      "outputs": [],
      "source": [
        "data = data.reset_index()"
      ]
    },
    {
      "cell_type": "code",
      "execution_count": null,
      "metadata": {
        "id": "CNBItmApD2Uh"
      },
      "outputs": [],
      "source": [
        "data.shape"
      ]
    },
    {
      "cell_type": "code",
      "execution_count": null,
      "metadata": {
        "id": "0Z2zstzJD2Uh"
      },
      "outputs": [],
      "source": [
        "data = data[data[\"tokens\"].str.len() != 0]"
      ]
    },
    {
      "cell_type": "code",
      "execution_count": null,
      "metadata": {
        "id": "uzhUASizD2Ui"
      },
      "outputs": [],
      "source": [
        "data"
      ]
    },
    {
      "cell_type": "code",
      "execution_count": null,
      "metadata": {
        "id": "Tl5FsA6qD2Ui"
      },
      "outputs": [],
      "source": [
        "corpus = data['tokens']"
      ]
    },
    {
      "cell_type": "code",
      "execution_count": null,
      "metadata": {
        "id": "F3pLzEvkD2Ui"
      },
      "outputs": [],
      "source": [
        "data"
      ]
    },
    {
      "cell_type": "code",
      "execution_count": null,
      "metadata": {
        "id": "3EIg_0OCD2Ui"
      },
      "outputs": [],
      "source": [
        "data.tokens.value_counts().reset_index()"
      ]
    },
    {
      "cell_type": "code",
      "execution_count": null,
      "metadata": {
        "id": "G4KIGKqGD2Ui"
      },
      "outputs": [],
      "source": [
        "dirichlet_dict = corpora.Dictionary(corpus)\n",
        "bow_corpus = [dirichlet_dict.doc2bow(text) for text in corpus]\n",
        "\n",
        "# Considering 1-15 topics, as the last is cut off\n",
        "num_topics = list(range(10)[1:])\n",
        "num_keywords = 15\n",
        "\n",
        "LDA_models = {}\n",
        "LDA_topics = {}\n",
        "for i in num_topics:\n",
        "    LDA_models[i] = LdaModel(corpus=bow_corpus,\n",
        "                             id2word=dirichlet_dict,\n",
        "                             num_topics=i,\n",
        "                             update_every=1,\n",
        "                             chunksize=len(bow_corpus),\n",
        "                             passes=10,\n",
        "                             alpha='auto',\n",
        "                             random_state=42)\n",
        "\n",
        "    shown_topics = LDA_models[i].show_topics(num_topics=i, \n",
        "                                             num_words=num_keywords,\n",
        "                                             formatted=False)\n",
        "    LDA_topics[i] = [[word[0] for word in topic[1]] for topic in shown_topics]"
      ]
    },
    {
      "cell_type": "code",
      "execution_count": null,
      "metadata": {
        "id": "VmTZo_WHD2Uj"
      },
      "outputs": [],
      "source": [
        "def jaccard_similarity(topic_1, topic_2):\n",
        "    \"\"\"\n",
        "    Derives the Jaccard similarity of two topics\n",
        "\n",
        "    Jaccard similarity:\n",
        "    - A statistic used for comparing the similarity and diversity of sample sets\n",
        "    - J(A,B) = (A ∩ B)/(A ∪ B)\n",
        "    - Goal is low Jaccard scores for coverage of the diverse elements\n",
        "    \"\"\"\n",
        "    intersection = set(topic_1).intersection(set(topic_2))\n",
        "    union = set(topic_1).union(set(topic_2))\n",
        "                    \n",
        "    return float(len(intersection))/float(len(union))"
      ]
    },
    {
      "cell_type": "code",
      "execution_count": null,
      "metadata": {
        "id": "FvJ5jSseD2Uj"
      },
      "outputs": [],
      "source": [
        "LDA_stability = {}\n",
        "for i in range(0, len(num_topics)-1):\n",
        "    jaccard_sims = []\n",
        "    for t1, topic1 in enumerate(LDA_topics[num_topics[i]]): # pylint: disable=unused-variable\n",
        "        sims = []\n",
        "        for t2, topic2 in enumerate(LDA_topics[num_topics[i+1]]): # pylint: disable=unused-variable\n",
        "            sims.append(jaccard_similarity(topic1, topic2))    \n",
        "        \n",
        "        jaccard_sims.append(sims)    \n",
        "    \n",
        "    LDA_stability[num_topics[i]] = jaccard_sims\n",
        "                \n",
        "mean_stabilities = [np.array(LDA_stability[i]).mean() for i in num_topics[:-1]]"
      ]
    },
    {
      "cell_type": "code",
      "execution_count": null,
      "metadata": {
        "id": "EooFV5v9D2Uk"
      },
      "outputs": [],
      "source": [
        "coherences = [CoherenceModel(model=LDA_models[i], texts=corpus, dictionary=dirichlet_dict, coherence='c_v').get_coherence() for i in num_topics[:-1]]"
      ]
    },
    {
      "cell_type": "code",
      "execution_count": null,
      "metadata": {
        "id": "h0RlkvOHD2Uk"
      },
      "outputs": [],
      "source": [
        "num_keywords = len(coherences)"
      ]
    },
    {
      "cell_type": "code",
      "execution_count": null,
      "metadata": {
        "id": "1cwFsMrGD2Uk"
      },
      "outputs": [],
      "source": [
        "coh_sta_diffs = [coherences[i] - mean_stabilities[i] for i in range(num_keywords)[:-1]] # limit topic numbers to the number of keywords\n",
        "coh_sta_max = max(coh_sta_diffs)\n",
        "coh_sta_max_idxs = [i for i, j in enumerate(coh_sta_diffs) if j == coh_sta_max]\n",
        "ideal_topic_num_index = coh_sta_max_idxs[0] # choose less topics in case there's more than one max\n",
        "ideal_topic_num = num_topics[ideal_topic_num_index]"
      ]
    },
    {
      "cell_type": "code",
      "execution_count": null,
      "metadata": {
        "id": "1lHmkEi-D2Uk"
      },
      "outputs": [],
      "source": [
        "plt.figure(figsize=(20,10))\n",
        "ax = sns.lineplot(x=num_topics[:-1], y=mean_stabilities, label='Average Topic Overlap')\n",
        "ax = sns.lineplot(x=num_topics[:-1], y=coherences, label='Topic Coherence')\n",
        "\n",
        "ax.axvline(x=ideal_topic_num, label='Ideal Number of Topics', color='black')\n",
        "ax.axvspan(xmin=ideal_topic_num - 1, xmax=ideal_topic_num + 1, alpha=0.5, facecolor='grey')\n",
        "\n",
        "y_max = max(max(mean_stabilities), max(coherences)) + (0.10 * max(max(mean_stabilities), max(coherences)))\n",
        "ax.set_ylim([0, y_max])\n",
        "ax.set_xlim([1, num_topics[-1]-1])\n",
        "                \n",
        "ax.axes.set_title('Model Metrics per Number of Topics', fontsize=25)\n",
        "ax.set_ylabel('Metric Level', fontsize=20)\n",
        "ax.set_xlabel('Number of Topics', fontsize=20)\n",
        "plt.legend(fontsize=20)\n",
        "plt.show()  "
      ]
    }
  ],
  "metadata": {
    "colab": {
      "provenance": []
    },
    "kernelspec": {
      "display_name": "Python 3.9.12 ('base')",
      "language": "python",
      "name": "python3"
    },
    "language_info": {
      "codemirror_mode": {
        "name": "ipython",
        "version": 3
      },
      "file_extension": ".py",
      "mimetype": "text/x-python",
      "name": "python",
      "nbconvert_exporter": "python",
      "pygments_lexer": "ipython3",
      "version": "3.9.12"
    },
    "orig_nbformat": 4,
    "vscode": {
      "interpreter": {
        "hash": "995406004189bc7a762cd15e0adc766b4032076a3e0cf164ca390850079b6fa1"
      }
    }
  },
  "nbformat": 4,
  "nbformat_minor": 0
}

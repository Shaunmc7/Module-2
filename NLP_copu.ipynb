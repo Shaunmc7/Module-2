{
  "cells": [
    {
      "cell_type": "markdown",
      "metadata": {
        "id": "dHWjyxICD2T2"
      },
      "source": [
        "### All the packages that will be needed for natural language processing"
      ]
    },
    {
      "cell_type": "code",
      "execution_count": 54,
      "metadata": {
        "colab": {
          "base_uri": "https://localhost:8080/"
        },
        "id": "0y4qSrKID2T7",
        "outputId": "3c7523eb-0b81-486d-a1f5-d6af33383516"
      },
      "outputs": [],
      "source": [
        "import string\n",
        "from spacy.lang.en.stop_words import STOP_WORDS\n",
        "from sklearn.feature_extraction.text import CountVectorizer,TfidfVectorizer\n",
        "from spacy.lang.en import English\n",
        "from sklearn.base import TransformerMixin\n",
        "from sklearn.pipeline import Pipeline\n",
        "import matplotlib.pyplot as plt\n",
        "import pandas as pd\n",
        "import numpy as np\n",
        "import preprocessor as prepro # text prepro\n",
        "import tqdm #progress bar\n",
        "from gensim.models import LdaModel, CoherenceModel\n",
        "from gensim import corpora\n",
        "import seaborn as sns\n",
        "from imblearn.over_sampling import SMOTE\n",
        "SMOTE = SMOTE()\n",
        "import spacy #spacy for quick language prepro\n",
        "nlp = spacy.load('en_core_web_sm') #instantiating English module\n",
        "import scipy.sparse as ss\n",
        "\n",
        "# sampling, splitting\n",
        "from imblearn.under_sampling import RandomUnderSampler\n",
        "from sklearn.model_selection import train_test_split\n",
        "\n",
        "\n",
        "# loading ML libraries\n",
        "from sklearn.pipeline import make_pipeline #pipeline creation\n",
        "from sklearn.feature_extraction.text import TfidfVectorizer #transforms text to sparse matrix\n",
        "from sklearn.linear_model import LogisticRegression #Logit model\n",
        "from sklearn.metrics import classification_report #that's self explanatory\n",
        "from sklearn.decomposition import TruncatedSVD #dimensionality reduction\n",
        "from xgboost import XGBClassifier\n",
        "from sklearn.preprocessing import LabelEncoder\n",
        "import altair as alt #viz\n",
        "\n",
        "#explainability\n",
        "import eli5\n",
        "from eli5.lime import TextExplainer\n",
        "\n",
        "# topic modeling\n",
        "\n",
        "from gensim.corpora.dictionary import Dictionary # Import the dictionary builder\n",
        "from gensim.models import LdaMulticore # we'll use the faster multicore version of LDA\n",
        "\n",
        "# Import pyLDAvis\n",
        "import pyLDAvis\n",
        "import pyLDAvis.gensim_models as gensimvis\n",
        "\n",
        "%matplotlib inline\n",
        "pyLDAvis.enable_notebook()"
      ]
    },
    {
      "cell_type": "code",
      "execution_count": 55,
      "metadata": {
        "id": "vGXbQMWtD2T9"
      },
      "outputs": [],
      "source": [
        "# prepro settings\n",
        "# This is prob not relevant, since it has to do with tweets? \n",
        "# prepro.set_options(prepro.OPT.URL, prepro.OPT.NUMBER, prepro.OPT.RESERVED, prepro.OPT.MENTION, prepro.OPT.SMILEY)"
      ]
    },
    {
      "cell_type": "markdown",
      "metadata": {
        "id": "rcs7Hcz_D2T-"
      },
      "source": [
        "### Loading and appending the datasets"
      ]
    },
    {
      "cell_type": "code",
      "execution_count": 56,
      "metadata": {
        "id": "RWmzmswAD2T_"
      },
      "outputs": [],
      "source": [
        "scopus2022 = pd.read_csv('scopus 2022 2021.csv',  sep = ',')\n",
        "scopus = pd.read_csv('scopus.csv',  sep = ',')"
      ]
    },
    {
      "cell_type": "code",
      "execution_count": 57,
      "metadata": {
        "id": "EYEhZ0f-D2T_"
      },
      "outputs": [
        {
          "name": "stderr",
          "output_type": "stream",
          "text": [
            "C:\\Users\\maart\\AppData\\Local\\Temp\\ipykernel_4396\\3402760882.py:1: FutureWarning: The frame.append method is deprecated and will be removed from pandas in a future version. Use pandas.concat instead.\n",
            "  data = scopus2022.append(scopus, ignore_index=True)\n"
          ]
        }
      ],
      "source": [
        "data = scopus2022.append(scopus, ignore_index=True)"
      ]
    },
    {
      "cell_type": "code",
      "execution_count": 58,
      "metadata": {
        "colab": {
          "base_uri": "https://localhost:8080/",
          "height": 1000
        },
        "id": "knEto1MsD2UA",
        "outputId": "d85d89c7-00c9-4cda-d36c-b26a1d683d8b"
      },
      "outputs": [
        {
          "data": {
            "text/html": [
              "<div>\n",
              "<style scoped>\n",
              "    .dataframe tbody tr th:only-of-type {\n",
              "        vertical-align: middle;\n",
              "    }\n",
              "\n",
              "    .dataframe tbody tr th {\n",
              "        vertical-align: top;\n",
              "    }\n",
              "\n",
              "    .dataframe thead th {\n",
              "        text-align: right;\n",
              "    }\n",
              "</style>\n",
              "<table border=\"1\" class=\"dataframe\">\n",
              "  <thead>\n",
              "    <tr style=\"text-align: right;\">\n",
              "      <th></th>\n",
              "      <th>Authors</th>\n",
              "      <th>Author(s) ID</th>\n",
              "      <th>Title</th>\n",
              "      <th>Year</th>\n",
              "      <th>Source title</th>\n",
              "      <th>Volume</th>\n",
              "      <th>Issue</th>\n",
              "      <th>Art. No.</th>\n",
              "      <th>Page start</th>\n",
              "      <th>Page end</th>\n",
              "      <th>...</th>\n",
              "      <th>ISBN</th>\n",
              "      <th>CODEN</th>\n",
              "      <th>PubMed ID</th>\n",
              "      <th>Language of Original Document</th>\n",
              "      <th>Abbreviated Source Title</th>\n",
              "      <th>Document Type</th>\n",
              "      <th>Publication Stage</th>\n",
              "      <th>Open Access</th>\n",
              "      <th>Source</th>\n",
              "      <th>EID</th>\n",
              "    </tr>\n",
              "  </thead>\n",
              "  <tbody>\n",
              "    <tr>\n",
              "      <th>0</th>\n",
              "      <td>Yang T., Zhang X.</td>\n",
              "      <td>57907798100;56342888200;</td>\n",
              "      <td>FinTech adoption and financial inclusion: Evid...</td>\n",
              "      <td>2022</td>\n",
              "      <td>Journal of Banking and Finance</td>\n",
              "      <td>145</td>\n",
              "      <td>NaN</td>\n",
              "      <td>106668</td>\n",
              "      <td>NaN</td>\n",
              "      <td>NaN</td>\n",
              "      <td>...</td>\n",
              "      <td>NaN</td>\n",
              "      <td>JBFID</td>\n",
              "      <td>NaN</td>\n",
              "      <td>English</td>\n",
              "      <td>J. Bank. Financ.</td>\n",
              "      <td>Article</td>\n",
              "      <td>Final</td>\n",
              "      <td>NaN</td>\n",
              "      <td>Scopus</td>\n",
              "      <td>2-s2.0-85138806241</td>\n",
              "    </tr>\n",
              "    <tr>\n",
              "      <th>1</th>\n",
              "      <td>Wang X., Wang Y., Zhao Y.</td>\n",
              "      <td>57193015825;57901727900;57901783600;</td>\n",
              "      <td>Financial permeation and rural poverty reducti...</td>\n",
              "      <td>2022</td>\n",
              "      <td>China Economic Review</td>\n",
              "      <td>76</td>\n",
              "      <td>NaN</td>\n",
              "      <td>101863</td>\n",
              "      <td>NaN</td>\n",
              "      <td>NaN</td>\n",
              "      <td>...</td>\n",
              "      <td>NaN</td>\n",
              "      <td>NaN</td>\n",
              "      <td>NaN</td>\n",
              "      <td>English</td>\n",
              "      <td>China Econ. Rev.</td>\n",
              "      <td>Article</td>\n",
              "      <td>Final</td>\n",
              "      <td>NaN</td>\n",
              "      <td>Scopus</td>\n",
              "      <td>2-s2.0-85138589769</td>\n",
              "    </tr>\n",
              "    <tr>\n",
              "      <th>2</th>\n",
              "      <td>Dzandu M.D., Hanu C., Amegbe H.</td>\n",
              "      <td>56590001600;57201152816;57194904537;</td>\n",
              "      <td>Gamification of mobile money payment for gener...</td>\n",
              "      <td>2022</td>\n",
              "      <td>Technological Forecasting and Social Change</td>\n",
              "      <td>185</td>\n",
              "      <td>NaN</td>\n",
              "      <td>122049</td>\n",
              "      <td>NaN</td>\n",
              "      <td>NaN</td>\n",
              "      <td>...</td>\n",
              "      <td>NaN</td>\n",
              "      <td>NaN</td>\n",
              "      <td>NaN</td>\n",
              "      <td>English</td>\n",
              "      <td>Technol. Forecast. Soc. Change</td>\n",
              "      <td>Article</td>\n",
              "      <td>Final</td>\n",
              "      <td>All Open Access, Hybrid Gold, Green</td>\n",
              "      <td>Scopus</td>\n",
              "      <td>2-s2.0-85138450268</td>\n",
              "    </tr>\n",
              "    <tr>\n",
              "      <th>3</th>\n",
              "      <td>Grassi L., Fantaccini S.</td>\n",
              "      <td>57192656409;57895835500;</td>\n",
              "      <td>An overview of Fintech applications to solve t...</td>\n",
              "      <td>2022</td>\n",
              "      <td>Financial Innovation</td>\n",
              "      <td>8</td>\n",
              "      <td>1</td>\n",
              "      <td>84</td>\n",
              "      <td>NaN</td>\n",
              "      <td>NaN</td>\n",
              "      <td>...</td>\n",
              "      <td>NaN</td>\n",
              "      <td>NaN</td>\n",
              "      <td>NaN</td>\n",
              "      <td>English</td>\n",
              "      <td>Financial Innov.</td>\n",
              "      <td>Article</td>\n",
              "      <td>Final</td>\n",
              "      <td>All Open Access, Gold, Green</td>\n",
              "      <td>Scopus</td>\n",
              "      <td>2-s2.0-85138286241</td>\n",
              "    </tr>\n",
              "    <tr>\n",
              "      <th>4</th>\n",
              "      <td>DeFusco A.A., Tang H., Yannelis C.</td>\n",
              "      <td>57193852071;57890330600;55413678100;</td>\n",
              "      <td>Measuring the welfare cost of asymmetric infor...</td>\n",
              "      <td>2022</td>\n",
              "      <td>Journal of Financial Economics</td>\n",
              "      <td>146</td>\n",
              "      <td>3</td>\n",
              "      <td>NaN</td>\n",
              "      <td>821</td>\n",
              "      <td>840.0</td>\n",
              "      <td>...</td>\n",
              "      <td>NaN</td>\n",
              "      <td>JFECD</td>\n",
              "      <td>NaN</td>\n",
              "      <td>English</td>\n",
              "      <td>J. Financ. Econ.</td>\n",
              "      <td>Article</td>\n",
              "      <td>Final</td>\n",
              "      <td>NaN</td>\n",
              "      <td>Scopus</td>\n",
              "      <td>2-s2.0-85138101180</td>\n",
              "    </tr>\n",
              "    <tr>\n",
              "      <th>...</th>\n",
              "      <td>...</td>\n",
              "      <td>...</td>\n",
              "      <td>...</td>\n",
              "      <td>...</td>\n",
              "      <td>...</td>\n",
              "      <td>...</td>\n",
              "      <td>...</td>\n",
              "      <td>...</td>\n",
              "      <td>...</td>\n",
              "      <td>...</td>\n",
              "      <td>...</td>\n",
              "      <td>...</td>\n",
              "      <td>...</td>\n",
              "      <td>...</td>\n",
              "      <td>...</td>\n",
              "      <td>...</td>\n",
              "      <td>...</td>\n",
              "      <td>...</td>\n",
              "      <td>...</td>\n",
              "      <td>...</td>\n",
              "      <td>...</td>\n",
              "    </tr>\n",
              "    <tr>\n",
              "      <th>3395</th>\n",
              "      <td>Fayard E.H.</td>\n",
              "      <td>35072693600;</td>\n",
              "      <td>ACC pressure cleaning</td>\n",
              "      <td>2010</td>\n",
              "      <td>Power Engineering (Barrington, Illinois)</td>\n",
              "      <td>114</td>\n",
              "      <td>5</td>\n",
              "      <td>NaN</td>\n",
              "      <td>22</td>\n",
              "      <td>NaN</td>\n",
              "      <td>...</td>\n",
              "      <td>NaN</td>\n",
              "      <td>POENA</td>\n",
              "      <td>NaN</td>\n",
              "      <td>English</td>\n",
              "      <td>Power Eng. Barrington Ill</td>\n",
              "      <td>Short Survey</td>\n",
              "      <td>Final</td>\n",
              "      <td>NaN</td>\n",
              "      <td>Scopus</td>\n",
              "      <td>2-s2.0-77953829082</td>\n",
              "    </tr>\n",
              "    <tr>\n",
              "      <th>3396</th>\n",
              "      <td>Dassanayake M.M.K., Tilakarathne C.</td>\n",
              "      <td>57221353725;55762978100;</td>\n",
              "      <td>Predicting trading signals of Sri Lankan stock...</td>\n",
              "      <td>2010</td>\n",
              "      <td>Technological Developments in Networking, Educ...</td>\n",
              "      <td>NaN</td>\n",
              "      <td>NaN</td>\n",
              "      <td>NaN</td>\n",
              "      <td>269</td>\n",
              "      <td>273</td>\n",
              "      <td>...</td>\n",
              "      <td>9789048191505</td>\n",
              "      <td>NaN</td>\n",
              "      <td>NaN</td>\n",
              "      <td>English</td>\n",
              "      <td>Technol. Dev. Networking, Educ. Autom.</td>\n",
              "      <td>Conference Paper</td>\n",
              "      <td>Final</td>\n",
              "      <td>NaN</td>\n",
              "      <td>Scopus</td>\n",
              "      <td>2-s2.0-84878897261</td>\n",
              "    </tr>\n",
              "    <tr>\n",
              "      <th>3397</th>\n",
              "      <td>Hao H.-N.</td>\n",
              "      <td>36617357100;</td>\n",
              "      <td>Notice of Retraction: Short-term forecasting o...</td>\n",
              "      <td>2010</td>\n",
              "      <td>Proceedings - 2010 6th International Conferenc...</td>\n",
              "      <td>4</td>\n",
              "      <td>NaN</td>\n",
              "      <td>5584528</td>\n",
              "      <td>1838</td>\n",
              "      <td>1841</td>\n",
              "      <td>...</td>\n",
              "      <td>9781424459612</td>\n",
              "      <td>NaN</td>\n",
              "      <td>NaN</td>\n",
              "      <td>English</td>\n",
              "      <td>Proc. - Int. Conf. Nat. Comput., ICNC</td>\n",
              "      <td>Retracted</td>\n",
              "      <td>Final</td>\n",
              "      <td>NaN</td>\n",
              "      <td>Scopus</td>\n",
              "      <td>2-s2.0-78149350510</td>\n",
              "    </tr>\n",
              "    <tr>\n",
              "      <th>3398</th>\n",
              "      <td>Ma Z.-X., Zhang W.</td>\n",
              "      <td>55479146300;56621528900;</td>\n",
              "      <td>Notice of Retraction: An discrimination resear...</td>\n",
              "      <td>2010</td>\n",
              "      <td>ICAMS 2010 - Proceedings of 2010 IEEE Internat...</td>\n",
              "      <td>3</td>\n",
              "      <td>NaN</td>\n",
              "      <td>5553273</td>\n",
              "      <td>116</td>\n",
              "      <td>119</td>\n",
              "      <td>...</td>\n",
              "      <td>9781424469291</td>\n",
              "      <td>NaN</td>\n",
              "      <td>NaN</td>\n",
              "      <td>English</td>\n",
              "      <td>ICAMS - Proc. IEEE Int. Conf. Adv. Manage. Sci.</td>\n",
              "      <td>Retracted</td>\n",
              "      <td>Final</td>\n",
              "      <td>NaN</td>\n",
              "      <td>Scopus</td>\n",
              "      <td>2-s2.0-77957273781</td>\n",
              "    </tr>\n",
              "    <tr>\n",
              "      <th>3399</th>\n",
              "      <td>Danial S.N., Noor S.R., Usmani B.A., Zaidi S.J.H.</td>\n",
              "      <td>24823887800;24825002200;26666352700;57549810600;</td>\n",
              "      <td>A dynamical system and neural network perspect...</td>\n",
              "      <td>2008</td>\n",
              "      <td>Communications in Computer and Information Sci...</td>\n",
              "      <td>20 CCIS</td>\n",
              "      <td>NaN</td>\n",
              "      <td>NaN</td>\n",
              "      <td>88</td>\n",
              "      <td>99</td>\n",
              "      <td>...</td>\n",
              "      <td>3540898522; 9783540898528</td>\n",
              "      <td>NaN</td>\n",
              "      <td>NaN</td>\n",
              "      <td>English</td>\n",
              "      <td>Commun. Comput. Info. Sci.</td>\n",
              "      <td>Conference Paper</td>\n",
              "      <td>Final</td>\n",
              "      <td>NaN</td>\n",
              "      <td>Scopus</td>\n",
              "      <td>2-s2.0-85099426338</td>\n",
              "    </tr>\n",
              "  </tbody>\n",
              "</table>\n",
              "<p>3400 rows × 54 columns</p>\n",
              "</div>"
            ],
            "text/plain": [
              "                                                Authors  \\\n",
              "0                                     Yang T., Zhang X.   \n",
              "1                             Wang X., Wang Y., Zhao Y.   \n",
              "2                       Dzandu M.D., Hanu C., Amegbe H.   \n",
              "3                              Grassi L., Fantaccini S.   \n",
              "4                    DeFusco A.A., Tang H., Yannelis C.   \n",
              "...                                                 ...   \n",
              "3395                                        Fayard E.H.   \n",
              "3396                Dassanayake M.M.K., Tilakarathne C.   \n",
              "3397                                          Hao H.-N.   \n",
              "3398                                 Ma Z.-X., Zhang W.   \n",
              "3399  Danial S.N., Noor S.R., Usmani B.A., Zaidi S.J.H.   \n",
              "\n",
              "                                          Author(s) ID  \\\n",
              "0                             57907798100;56342888200;   \n",
              "1                 57193015825;57901727900;57901783600;   \n",
              "2                 56590001600;57201152816;57194904537;   \n",
              "3                             57192656409;57895835500;   \n",
              "4                 57193852071;57890330600;55413678100;   \n",
              "...                                                ...   \n",
              "3395                                      35072693600;   \n",
              "3396                          57221353725;55762978100;   \n",
              "3397                                      36617357100;   \n",
              "3398                          55479146300;56621528900;   \n",
              "3399  24823887800;24825002200;26666352700;57549810600;   \n",
              "\n",
              "                                                  Title  Year  \\\n",
              "0     FinTech adoption and financial inclusion: Evid...  2022   \n",
              "1     Financial permeation and rural poverty reducti...  2022   \n",
              "2     Gamification of mobile money payment for gener...  2022   \n",
              "3     An overview of Fintech applications to solve t...  2022   \n",
              "4     Measuring the welfare cost of asymmetric infor...  2022   \n",
              "...                                                 ...   ...   \n",
              "3395                              ACC pressure cleaning  2010   \n",
              "3396  Predicting trading signals of Sri Lankan stock...  2010   \n",
              "3397  Notice of Retraction: Short-term forecasting o...  2010   \n",
              "3398  Notice of Retraction: An discrimination resear...  2010   \n",
              "3399  A dynamical system and neural network perspect...  2008   \n",
              "\n",
              "                                           Source title   Volume Issue  \\\n",
              "0                        Journal of Banking and Finance      145   NaN   \n",
              "1                                 China Economic Review       76   NaN   \n",
              "2           Technological Forecasting and Social Change      185   NaN   \n",
              "3                                  Financial Innovation        8     1   \n",
              "4                        Journal of Financial Economics      146     3   \n",
              "...                                                 ...      ...   ...   \n",
              "3395           Power Engineering (Barrington, Illinois)      114     5   \n",
              "3396  Technological Developments in Networking, Educ...      NaN   NaN   \n",
              "3397  Proceedings - 2010 6th International Conferenc...        4   NaN   \n",
              "3398  ICAMS 2010 - Proceedings of 2010 IEEE Internat...        3   NaN   \n",
              "3399  Communications in Computer and Information Sci...  20 CCIS   NaN   \n",
              "\n",
              "     Art. No. Page start Page end  ...                       ISBN  CODEN  \\\n",
              "0      106668        NaN      NaN  ...                        NaN  JBFID   \n",
              "1      101863        NaN      NaN  ...                        NaN    NaN   \n",
              "2      122049        NaN      NaN  ...                        NaN    NaN   \n",
              "3          84        NaN      NaN  ...                        NaN    NaN   \n",
              "4         NaN        821    840.0  ...                        NaN  JFECD   \n",
              "...       ...        ...      ...  ...                        ...    ...   \n",
              "3395      NaN         22      NaN  ...                        NaN  POENA   \n",
              "3396      NaN        269      273  ...              9789048191505    NaN   \n",
              "3397  5584528       1838     1841  ...              9781424459612    NaN   \n",
              "3398  5553273        116      119  ...              9781424469291    NaN   \n",
              "3399      NaN         88       99  ...  3540898522; 9783540898528    NaN   \n",
              "\n",
              "     PubMed ID Language of Original Document  \\\n",
              "0          NaN                       English   \n",
              "1          NaN                       English   \n",
              "2          NaN                       English   \n",
              "3          NaN                       English   \n",
              "4          NaN                       English   \n",
              "...        ...                           ...   \n",
              "3395       NaN                       English   \n",
              "3396       NaN                       English   \n",
              "3397       NaN                       English   \n",
              "3398       NaN                       English   \n",
              "3399       NaN                       English   \n",
              "\n",
              "                             Abbreviated Source Title     Document Type  \\\n",
              "0                                    J. Bank. Financ.           Article   \n",
              "1                                    China Econ. Rev.           Article   \n",
              "2                      Technol. Forecast. Soc. Change           Article   \n",
              "3                                    Financial Innov.           Article   \n",
              "4                                    J. Financ. Econ.           Article   \n",
              "...                                               ...               ...   \n",
              "3395                        Power Eng. Barrington Ill      Short Survey   \n",
              "3396           Technol. Dev. Networking, Educ. Autom.  Conference Paper   \n",
              "3397            Proc. - Int. Conf. Nat. Comput., ICNC         Retracted   \n",
              "3398  ICAMS - Proc. IEEE Int. Conf. Adv. Manage. Sci.         Retracted   \n",
              "3399                       Commun. Comput. Info. Sci.  Conference Paper   \n",
              "\n",
              "     Publication Stage                          Open Access  Source  \\\n",
              "0                Final                                  NaN  Scopus   \n",
              "1                Final                                  NaN  Scopus   \n",
              "2                Final  All Open Access, Hybrid Gold, Green  Scopus   \n",
              "3                Final         All Open Access, Gold, Green  Scopus   \n",
              "4                Final                                  NaN  Scopus   \n",
              "...                ...                                  ...     ...   \n",
              "3395             Final                                  NaN  Scopus   \n",
              "3396             Final                                  NaN  Scopus   \n",
              "3397             Final                                  NaN  Scopus   \n",
              "3398             Final                                  NaN  Scopus   \n",
              "3399             Final                                  NaN  Scopus   \n",
              "\n",
              "                     EID  \n",
              "0     2-s2.0-85138806241  \n",
              "1     2-s2.0-85138589769  \n",
              "2     2-s2.0-85138450268  \n",
              "3     2-s2.0-85138286241  \n",
              "4     2-s2.0-85138101180  \n",
              "...                  ...  \n",
              "3395  2-s2.0-77953829082  \n",
              "3396  2-s2.0-84878897261  \n",
              "3397  2-s2.0-78149350510  \n",
              "3398  2-s2.0-77957273781  \n",
              "3399  2-s2.0-85099426338  \n",
              "\n",
              "[3400 rows x 54 columns]"
            ]
          },
          "execution_count": 58,
          "metadata": {},
          "output_type": "execute_result"
        }
      ],
      "source": [
        "data"
      ]
    },
    {
      "cell_type": "code",
      "execution_count": 59,
      "metadata": {
        "colab": {
          "base_uri": "https://localhost:8080/"
        },
        "id": "mQN6X2TfD2UB",
        "outputId": "17a6cdab-1bc8-4c3b-a53b-ea87c8f20c34"
      },
      "outputs": [
        {
          "name": "stdout",
          "output_type": "stream",
          "text": [
            "<class 'pandas.core.frame.DataFrame'>\n",
            "RangeIndex: 3400 entries, 0 to 3399\n",
            "Data columns (total 54 columns):\n",
            " #   Column                         Non-Null Count  Dtype  \n",
            "---  ------                         --------------  -----  \n",
            " 0   Authors                        3400 non-null   object \n",
            " 1   Author(s) ID                   3399 non-null   object \n",
            " 2   Title                          3400 non-null   object \n",
            " 3   Year                           3400 non-null   int64  \n",
            " 4   Source title                   3400 non-null   object \n",
            " 5   Volume                         2320 non-null   object \n",
            " 6   Issue                          1426 non-null   object \n",
            " 7   Art. No.                       1051 non-null   object \n",
            " 8   Page start                     2336 non-null   object \n",
            " 9   Page end                       2326 non-null   object \n",
            " 10  Page count                     38 non-null     float64\n",
            " 11  Cited by                       2164 non-null   float64\n",
            " 12  DOI                            2972 non-null   object \n",
            " 13  Link                           3400 non-null   object \n",
            " 14  Affiliations                   3305 non-null   object \n",
            " 15  Authors with affiliations      3342 non-null   object \n",
            " 16  Abstract                       3400 non-null   object \n",
            " 17  Author Keywords                2781 non-null   object \n",
            " 18  Index Keywords                 1616 non-null   object \n",
            " 19  Molecular Sequence Numbers     0 non-null      float64\n",
            " 20  Chemicals/CAS                  4 non-null      object \n",
            " 21  Tradenames                     0 non-null      float64\n",
            " 22  Manufacturers                  0 non-null      float64\n",
            " 23  Funding Details                827 non-null    object \n",
            " 24  Funding Text 1                 1039 non-null   object \n",
            " 25  Funding Text 2                 141 non-null    object \n",
            " 26  Funding Text 3                 7 non-null      object \n",
            " 27  Funding Text 4                 1 non-null      object \n",
            " 28  Funding Text 5                 1 non-null      object \n",
            " 29  Funding Text 6                 1 non-null      object \n",
            " 30  Funding Text 7                 1 non-null      object \n",
            " 31  Funding Text 8                 0 non-null      float64\n",
            " 32  Funding Text 9                 0 non-null      float64\n",
            " 33  Funding Text 10                0 non-null      float64\n",
            " 34  References                     3212 non-null   object \n",
            " 35  Correspondence Address         2354 non-null   object \n",
            " 36  Editors                        491 non-null    object \n",
            " 37  Sponsors                       319 non-null    object \n",
            " 38  Publisher                      3394 non-null   object \n",
            " 39  Conference name                1063 non-null   object \n",
            " 40  Conference date                1062 non-null   object \n",
            " 41  Conference location            3 non-null      object \n",
            " 42  Conference code                1065 non-null   float64\n",
            " 43  ISSN                           2540 non-null   object \n",
            " 44  ISBN                           1174 non-null   object \n",
            " 45  CODEN                          276 non-null    object \n",
            " 46  PubMed ID                      36 non-null     float64\n",
            " 47  Language of Original Document  3400 non-null   object \n",
            " 48  Abbreviated Source Title       3396 non-null   object \n",
            " 49  Document Type                  3400 non-null   object \n",
            " 50  Publication Stage              3400 non-null   object \n",
            " 51  Open Access                    1097 non-null   object \n",
            " 52  Source                         3400 non-null   object \n",
            " 53  EID                            3400 non-null   object \n",
            "dtypes: float64(10), int64(1), object(43)\n",
            "memory usage: 1.4+ MB\n"
          ]
        }
      ],
      "source": [
        "data.info()"
      ]
    },
    {
      "cell_type": "code",
      "execution_count": 60,
      "metadata": {
        "colab": {
          "base_uri": "https://localhost:8080/",
          "height": 393
        },
        "id": "YCYShS4LD2UC",
        "outputId": "5d0a5975-1205-47ac-8686-0662dddb61ff"
      },
      "outputs": [
        {
          "data": {
            "text/html": [
              "<div>\n",
              "<style scoped>\n",
              "    .dataframe tbody tr th:only-of-type {\n",
              "        vertical-align: middle;\n",
              "    }\n",
              "\n",
              "    .dataframe tbody tr th {\n",
              "        vertical-align: top;\n",
              "    }\n",
              "\n",
              "    .dataframe thead th {\n",
              "        text-align: right;\n",
              "    }\n",
              "</style>\n",
              "<table border=\"1\" class=\"dataframe\">\n",
              "  <thead>\n",
              "    <tr style=\"text-align: right;\">\n",
              "      <th></th>\n",
              "      <th>Authors</th>\n",
              "      <th>Author(s) ID</th>\n",
              "      <th>Title</th>\n",
              "      <th>Source title</th>\n",
              "      <th>Volume</th>\n",
              "      <th>Issue</th>\n",
              "      <th>Art. No.</th>\n",
              "      <th>Page start</th>\n",
              "      <th>Page end</th>\n",
              "      <th>DOI</th>\n",
              "      <th>...</th>\n",
              "      <th>ISSN</th>\n",
              "      <th>ISBN</th>\n",
              "      <th>CODEN</th>\n",
              "      <th>Language of Original Document</th>\n",
              "      <th>Abbreviated Source Title</th>\n",
              "      <th>Document Type</th>\n",
              "      <th>Publication Stage</th>\n",
              "      <th>Open Access</th>\n",
              "      <th>Source</th>\n",
              "      <th>EID</th>\n",
              "    </tr>\n",
              "  </thead>\n",
              "  <tbody>\n",
              "    <tr>\n",
              "      <th>count</th>\n",
              "      <td>3400</td>\n",
              "      <td>3399</td>\n",
              "      <td>3400</td>\n",
              "      <td>3400</td>\n",
              "      <td>2320</td>\n",
              "      <td>1426</td>\n",
              "      <td>1051</td>\n",
              "      <td>2336</td>\n",
              "      <td>2326</td>\n",
              "      <td>2972</td>\n",
              "      <td>...</td>\n",
              "      <td>2540</td>\n",
              "      <td>1174</td>\n",
              "      <td>276</td>\n",
              "      <td>3400</td>\n",
              "      <td>3396</td>\n",
              "      <td>3400</td>\n",
              "      <td>3400</td>\n",
              "      <td>1097</td>\n",
              "      <td>3400</td>\n",
              "      <td>3400</td>\n",
              "    </tr>\n",
              "    <tr>\n",
              "      <th>unique</th>\n",
              "      <td>3167</td>\n",
              "      <td>3156</td>\n",
              "      <td>3389</td>\n",
              "      <td>1455</td>\n",
              "      <td>495</td>\n",
              "      <td>81</td>\n",
              "      <td>1023</td>\n",
              "      <td>1013</td>\n",
              "      <td>1369</td>\n",
              "      <td>2969</td>\n",
              "      <td>...</td>\n",
              "      <td>949</td>\n",
              "      <td>821</td>\n",
              "      <td>124</td>\n",
              "      <td>4</td>\n",
              "      <td>1429</td>\n",
              "      <td>13</td>\n",
              "      <td>2</td>\n",
              "      <td>7</td>\n",
              "      <td>1</td>\n",
              "      <td>3400</td>\n",
              "    </tr>\n",
              "    <tr>\n",
              "      <th>top</th>\n",
              "      <td>[No author name available]</td>\n",
              "      <td>[No author id available]</td>\n",
              "      <td>Introduction</td>\n",
              "      <td>ACM International Conference Proceeding Series</td>\n",
              "      <td>8</td>\n",
              "      <td>1</td>\n",
              "      <td>8</td>\n",
              "      <td>1</td>\n",
              "      <td>20</td>\n",
              "      <td>10.1142/9789811235825_0003</td>\n",
              "      <td>...</td>\n",
              "      <td>21945357</td>\n",
              "      <td>9781799832591; 9781799832577</td>\n",
              "      <td>JEBUD</td>\n",
              "      <td>English</td>\n",
              "      <td>ACM Int. Conf. Proc. Ser.</td>\n",
              "      <td>Article</td>\n",
              "      <td>Final</td>\n",
              "      <td>All Open Access, Gold</td>\n",
              "      <td>Scopus</td>\n",
              "      <td>2-s2.0-85138806241</td>\n",
              "    </tr>\n",
              "    <tr>\n",
              "      <th>freq</th>\n",
              "      <td>58</td>\n",
              "      <td>58</td>\n",
              "      <td>4</td>\n",
              "      <td>93</td>\n",
              "      <td>95</td>\n",
              "      <td>322</td>\n",
              "      <td>4</td>\n",
              "      <td>158</td>\n",
              "      <td>11</td>\n",
              "      <td>2</td>\n",
              "      <td>...</td>\n",
              "      <td>53</td>\n",
              "      <td>15</td>\n",
              "      <td>15</td>\n",
              "      <td>3395</td>\n",
              "      <td>93</td>\n",
              "      <td>1770</td>\n",
              "      <td>3241</td>\n",
              "      <td>278</td>\n",
              "      <td>3400</td>\n",
              "      <td>1</td>\n",
              "    </tr>\n",
              "  </tbody>\n",
              "</table>\n",
              "<p>4 rows × 43 columns</p>\n",
              "</div>"
            ],
            "text/plain": [
              "                           Authors              Author(s) ID         Title  \\\n",
              "count                         3400                      3399          3400   \n",
              "unique                        3167                      3156          3389   \n",
              "top     [No author name available]  [No author id available]  Introduction   \n",
              "freq                            58                        58             4   \n",
              "\n",
              "                                          Source title Volume Issue Art. No.  \\\n",
              "count                                             3400   2320  1426     1051   \n",
              "unique                                            1455    495    81     1023   \n",
              "top     ACM International Conference Proceeding Series      8     1        8   \n",
              "freq                                                93     95   322        4   \n",
              "\n",
              "       Page start Page end                         DOI  ...      ISSN  \\\n",
              "count        2336     2326                        2972  ...      2540   \n",
              "unique       1013     1369                        2969  ...       949   \n",
              "top             1       20  10.1142/9789811235825_0003  ...  21945357   \n",
              "freq          158       11                           2  ...        53   \n",
              "\n",
              "                                ISBN  CODEN Language of Original Document  \\\n",
              "count                           1174    276                          3400   \n",
              "unique                           821    124                             4   \n",
              "top     9781799832591; 9781799832577  JEBUD                       English   \n",
              "freq                              15     15                          3395   \n",
              "\n",
              "         Abbreviated Source Title Document Type Publication Stage  \\\n",
              "count                        3396          3400              3400   \n",
              "unique                       1429            13                 2   \n",
              "top     ACM Int. Conf. Proc. Ser.       Article             Final   \n",
              "freq                           93          1770              3241   \n",
              "\n",
              "                  Open Access  Source                 EID  \n",
              "count                    1097    3400                3400  \n",
              "unique                      7       1                3400  \n",
              "top     All Open Access, Gold  Scopus  2-s2.0-85138806241  \n",
              "freq                      278    3400                   1  \n",
              "\n",
              "[4 rows x 43 columns]"
            ]
          },
          "execution_count": 60,
          "metadata": {},
          "output_type": "execute_result"
        }
      ],
      "source": [
        "data.describe(include='object')\n"
      ]
    },
    {
      "cell_type": "code",
      "execution_count": 61,
      "metadata": {
        "colab": {
          "base_uri": "https://localhost:8080/"
        },
        "id": "SYzDPh3DD2UC",
        "outputId": "10e9ec8f-765d-42ba-dee1-0afd5455ebb6"
      },
      "outputs": [
        {
          "data": {
            "text/plain": [
              "0       Consumption; Consumption inequality; Credit co...\n",
              "1       Bank branch expansion; Financial permeation; F...\n",
              "2       Customer value; FinTech; Gamification; Marketi...\n",
              "3       Crowdfunding; Fintech; Health crowdfunding; He...\n",
              "4       Asymmetric information; Consumer credit; Exper...\n",
              "                              ...                        \n",
              "3395                                                  NaN\n",
              "3396                                                  NaN\n",
              "3397    Genetic-neural network; Short-term forecasting...\n",
              "3398    Discrimination analysis; Insider trading; Mark...\n",
              "3399    correlation dimension; KSE-100 index returns; ...\n",
              "Name: Author Keywords, Length: 3400, dtype: object"
            ]
          },
          "execution_count": 61,
          "metadata": {},
          "output_type": "execute_result"
        }
      ],
      "source": [
        "data['Author Keywords']"
      ]
    },
    {
      "cell_type": "code",
      "execution_count": 62,
      "metadata": {
        "id": "yjWVXlCDD2UD"
      },
      "outputs": [],
      "source": [
        "data = data[['Authors', 'Author(s) ID','Title', 'Abstract','Year', 'Source title', 'Author Keywords']]"
      ]
    },
    {
      "cell_type": "code",
      "execution_count": 63,
      "metadata": {
        "colab": {
          "base_uri": "https://localhost:8080/"
        },
        "id": "x--8o2WVD2UF",
        "outputId": "c4f7fd9a-8dae-4d1c-fa8d-70f3918edc65"
      },
      "outputs": [
        {
          "name": "stderr",
          "output_type": "stream",
          "text": [
            "C:\\Users\\maart\\AppData\\Local\\Temp\\ipykernel_4396\\3149525087.py:1: SettingWithCopyWarning: \n",
            "A value is trying to be set on a copy of a slice from a DataFrame.\n",
            "Try using .loc[row_indexer,col_indexer] = value instead\n",
            "\n",
            "See the caveats in the documentation: https://pandas.pydata.org/pandas-docs/stable/user_guide/indexing.html#returning-a-view-versus-a-copy\n",
            "  data['Author Keywords'] = data['Author Keywords'].astype({'Author Keywords':'string'})\n"
          ]
        }
      ],
      "source": [
        "data['Author Keywords'] = data['Author Keywords'].astype({'Author Keywords':'string'})"
      ]
    },
    {
      "cell_type": "code",
      "execution_count": 64,
      "metadata": {
        "colab": {
          "base_uri": "https://localhost:8080/"
        },
        "id": "iDHNpWAjD2UF",
        "outputId": "953aae9d-70d5-43a8-b687-8f71377ff4a0"
      },
      "outputs": [
        {
          "data": {
            "text/plain": [
              "0       Consumption; Consumption inequality; Credit co...\n",
              "1       Bank branch expansion; Financial permeation; F...\n",
              "2       Customer value; FinTech; Gamification; Marketi...\n",
              "3       Crowdfunding; Fintech; Health crowdfunding; He...\n",
              "4       Asymmetric information; Consumer credit; Exper...\n",
              "                              ...                        \n",
              "3395                                                 <NA>\n",
              "3396                                                 <NA>\n",
              "3397    Genetic-neural network; Short-term forecasting...\n",
              "3398    Discrimination analysis; Insider trading; Mark...\n",
              "3399    correlation dimension; KSE-100 index returns; ...\n",
              "Name: Author Keywords, Length: 3400, dtype: string"
            ]
          },
          "execution_count": 64,
          "metadata": {},
          "output_type": "execute_result"
        }
      ],
      "source": [
        "data['Author Keywords']"
      ]
    },
    {
      "cell_type": "code",
      "execution_count": 65,
      "metadata": {
        "colab": {
          "base_uri": "https://localhost:8080/"
        },
        "id": "TnzWSAxKD2UG",
        "outputId": "83cfa5ee-d5ed-4e2d-a527-cc0e4fe13705"
      },
      "outputs": [
        {
          "name": "stderr",
          "output_type": "stream",
          "text": [
            "C:\\Users\\maart\\AppData\\Local\\Temp\\ipykernel_4396\\339833404.py:1: SettingWithCopyWarning: \n",
            "A value is trying to be set on a copy of a slice from a DataFrame\n",
            "\n",
            "See the caveats in the documentation: https://pandas.pydata.org/pandas-docs/stable/user_guide/indexing.html#returning-a-view-versus-a-copy\n",
            "  data.dropna(inplace = True)\n"
          ]
        }
      ],
      "source": [
        "data.dropna(inplace = True)"
      ]
    },
    {
      "cell_type": "code",
      "execution_count": 66,
      "metadata": {
        "colab": {
          "base_uri": "https://localhost:8080/"
        },
        "id": "pwv-tn6OD2UH",
        "outputId": "c7fd7287-93f8-45fd-9a39-da5f8e5978f0"
      },
      "outputs": [
        {
          "data": {
            "text/plain": [
              "0    Consumption; Consumption inequality; Credit co...\n",
              "1    Bank branch expansion; Financial permeation; F...\n",
              "2    Customer value; FinTech; Gamification; Marketi...\n",
              "3    Crowdfunding; Fintech; Health crowdfunding; He...\n",
              "4    Asymmetric information; Consumer credit; Exper...\n",
              "Name: Author Keywords, dtype: string"
            ]
          },
          "execution_count": 66,
          "metadata": {},
          "output_type": "execute_result"
        }
      ],
      "source": [
        "data['Author Keywords'].head()"
      ]
    },
    {
      "cell_type": "code",
      "execution_count": 67,
      "metadata": {
        "colab": {
          "base_uri": "https://localhost:8080/"
        },
        "id": "ZW9FiCqHD2UH",
        "outputId": "69163f0b-0efe-4658-de35-7c12e9387cd6"
      },
      "outputs": [
        {
          "data": {
            "text/plain": [
              "False    2781\n",
              "Name: Author Keywords, dtype: int64"
            ]
          },
          "execution_count": 67,
          "metadata": {},
          "output_type": "execute_result"
        }
      ],
      "source": [
        "data['Author Keywords'].isnull().value_counts()"
      ]
    },
    {
      "cell_type": "markdown",
      "metadata": {},
      "source": [
        "#### Preprocessing the data for Author Keywords column"
      ]
    },
    {
      "cell_type": "code",
      "execution_count": 68,
      "metadata": {
        "colab": {
          "base_uri": "https://localhost:8080/"
        },
        "id": "WoV_x76oD2UI",
        "outputId": "67f67105-7742-4d55-8404-261707aef854"
      },
      "outputs": [
        {
          "name": "stderr",
          "output_type": "stream",
          "text": [
            "5562it [1:42:53,  1.11s/it]:00<?, ?it/s]\n",
            "c:\\Users\\maart\\anaconda3\\lib\\site-packages\\spacy\\pipeline\\lemmatizer.py:211: UserWarning: [W108] The rule-based lemmatizer did not find POS annotation for one or more tokens. Check that your pipeline includes components that assign token.pos, typically 'tagger'+'attribute_ruler' or 'morphologizer'.\n",
            "  warnings.warn(Warnings.W108)\n",
            " 92%|█████████▏| 2561/2781 [00:01<00:00, 1519.90it/s]"
          ]
        }
      ],
      "source": [
        "# run progress bar and clean up using spacy but without some heavy parts of the pipeline\n",
        "\n",
        "clean_text = []\n",
        "\n",
        "pbar = tqdm.tqdm(total=len(data['Author Keywords']),position=0, leave=True)\n",
        "\n",
        "for text in nlp.pipe(data['Author Keywords'], disable=[\"tagger\", \"parser\", \"ner\"]):\n",
        "\n",
        "  txt = [token.lemma_.lower() for token in text \n",
        "         if token.is_alpha \n",
        "         and not token.is_stop \n",
        "         and not token.is_punct]\n",
        "\n",
        "  clean_text.append(\" \".join(txt))\n",
        "\n",
        "  pbar.update(1)"
      ]
    },
    {
      "cell_type": "code",
      "execution_count": 69,
      "metadata": {
        "id": "NtkljYgFD2UJ"
      },
      "outputs": [],
      "source": [
        "# write everything into one function that can be re-used later\n",
        "def text_prepro(texts):\n",
        "  \"\"\"\n",
        "  takes in a pandas series (1 column of a DF)\n",
        "  removes twitter stuff\n",
        "  lowercases, normalizes text\n",
        "  \"\"\"\n",
        "  texts_clean = texts.map(lambda t: prepro.clean(t))\n",
        "  clean_container = []\n",
        "\n",
        "  pbar = tqdm.tqdm(total=len(texts_clean),position=0, leave=True)\n",
        "\n",
        "  for text in nlp.pipe(texts_clean, disable=[\"tagger\", \"parser\", \"ner\"]):\n",
        "\n",
        "    txt = [token.lemma_.lower() for token in text \n",
        "          if token.is_alpha \n",
        "          and not token.is_stop \n",
        "          and not token.is_punct]\n",
        "\n",
        "    clean_container.append(\" \".join(txt))\n",
        "    pbar.update(1)\n",
        "  \n",
        "  return clean_container"
      ]
    },
    {
      "cell_type": "code",
      "execution_count": 70,
      "metadata": {
        "colab": {
          "base_uri": "https://localhost:8080/",
          "height": 352
        },
        "id": "gJk3hNMXD2UJ",
        "outputId": "e89801e3-6284-474e-9bbf-f1a6463c5b8e"
      },
      "outputs": [
        {
          "name": "stderr",
          "output_type": "stream",
          "text": [
            "100%|██████████| 2781/2781 [00:01<00:00, 1615.55it/s]\n",
            "C:\\Users\\maart\\AppData\\Local\\Temp\\ipykernel_4396\\4189515260.py:2: SettingWithCopyWarning: \n",
            "A value is trying to be set on a copy of a slice from a DataFrame.\n",
            "Try using .loc[row_indexer,col_indexer] = value instead\n",
            "\n",
            "See the caveats in the documentation: https://pandas.pydata.org/pandas-docs/stable/user_guide/indexing.html#returning-a-view-versus-a-copy\n",
            "  data['Author_Keywords'] = text_prepro(data['Author Keywords'])\n"
          ]
        }
      ],
      "source": [
        "# apply all prepro-pipeline to texts\n",
        "data['Author_Keywords'] = text_prepro(data['Author Keywords'])"
      ]
    },
    {
      "cell_type": "code",
      "execution_count": 71,
      "metadata": {
        "id": "a-AavgpuD2UK"
      },
      "outputs": [],
      "source": [
        "# preprocess texts (we need tokens)\n",
        "tokens = []\n",
        "\n",
        "for summary in nlp.pipe(data['Author Keywords'], disable=[\"ner\"]):\n",
        "  proj_tok = [token.lemma_.lower() for token in summary \n",
        "              if token.pos_ in ['NOUN', 'PROPN', 'ADJ', 'ADV'] \n",
        "              and not token.is_stop\n",
        "              and not token.is_punct] \n",
        "  tokens.append(proj_tok)"
      ]
    },
    {
      "cell_type": "code",
      "execution_count": 72,
      "metadata": {
        "colab": {
          "base_uri": "https://localhost:8080/"
        },
        "id": "e8W1SJLHD2UK",
        "outputId": "103d6e32-14fe-4f21-fe0f-c6422e45d4fc"
      },
      "outputs": [
        {
          "name": "stderr",
          "output_type": "stream",
          "text": [
            "C:\\Users\\maart\\AppData\\Local\\Temp\\ipykernel_4396\\2173657068.py:1: SettingWithCopyWarning: \n",
            "A value is trying to be set on a copy of a slice from a DataFrame.\n",
            "Try using .loc[row_indexer,col_indexer] = value instead\n",
            "\n",
            "See the caveats in the documentation: https://pandas.pydata.org/pandas-docs/stable/user_guide/indexing.html#returning-a-view-versus-a-copy\n",
            "  data['tokens'] = tokens\n"
          ]
        }
      ],
      "source": [
        "data['tokens'] = tokens"
      ]
    },
    {
      "cell_type": "code",
      "execution_count": 73,
      "metadata": {
        "id": "AKurUUVyD2UK"
      },
      "outputs": [],
      "source": [
        "# Create a Dictionary from the articles: dictionary\n",
        "dictionary = Dictionary(data['tokens'])\n",
        "dictionary.filter_extremes(no_below=50, no_above=0.5, keep_n=1000)\n",
        "# construct corpus using this dictionary\n",
        "corpus = [dictionary.doc2bow(doc) for doc in data['tokens']]"
      ]
    },
    {
      "cell_type": "markdown",
      "metadata": {},
      "source": [
        "#### Preprocessing the data for Abstract column"
      ]
    },
    {
      "cell_type": "code",
      "execution_count": 74,
      "metadata": {},
      "outputs": [
        {
          "name": "stderr",
          "output_type": "stream",
          "text": [
            "100%|██████████| 2781/2781 [1:30:25<00:00,  1.95s/it]\n",
            "c:\\Users\\maart\\anaconda3\\lib\\site-packages\\spacy\\pipeline\\lemmatizer.py:211: UserWarning: [W108] The rule-based lemmatizer did not find POS annotation for one or more tokens. Check that your pipeline includes components that assign token.pos, typically 'tagger'+'attribute_ruler' or 'morphologizer'.\n",
            "  warnings.warn(Warnings.W108)\n",
            "100%|█████████▉| 2776/2781 [00:22<00:00, 235.01it/s]]"
          ]
        }
      ],
      "source": [
        "# run progress bar and clean up using spacy but without some heavy parts of the pipeline\n",
        "\n",
        "clean_text_2 = []\n",
        "\n",
        "pbar_2 = tqdm.tqdm(total=len(data['Abstract']),position=0, leave=True)\n",
        "\n",
        "for text_2 in nlp.pipe(data['Abstract'], disable=[\"tagger\", \"parser\", \"ner\"]):\n",
        "\n",
        "  txt_2 = [token_2.lemma_.lower() for token_2 in text_2 \n",
        "         if token_2.is_alpha \n",
        "         and not token_2.is_stop \n",
        "         and not token_2.is_punct]\n",
        "\n",
        "  clean_text.append(\" \".join(txt_2))\n",
        "\n",
        "  pbar_2.update(1)"
      ]
    },
    {
      "cell_type": "code",
      "execution_count": 75,
      "metadata": {},
      "outputs": [],
      "source": [
        "# write everything into one function that can be re-used later\n",
        "def text_prepro_2(texts_2):\n",
        "  \"\"\"\n",
        "  takes in a pandas series (1 column of a DF)\n",
        "  removes twitter stuff\n",
        "  lowercases, normalizes text\n",
        "  \"\"\"\n",
        "  texts_clean_2 = texts_2.map(lambda t: prepro.clean(t))\n",
        "  clean_container_2 = []\n",
        "\n",
        "  pbar_2 = tqdm.tqdm(total=len(texts_clean_2),position=0, leave=True)\n",
        "\n",
        "  for text_2 in nlp.pipe(texts_clean_2, disable=[\"tagger\", \"parser\", \"ner\"]):\n",
        "\n",
        "    txt_2 = [token_2.lemma_.lower() for token_2 in text_2 \n",
        "          if token_2.is_alpha \n",
        "          and not token_2.is_stop \n",
        "          and not token_2.is_punct]\n",
        "\n",
        "    clean_container_2.append(\" \".join(txt_2))\n",
        "    pbar_2.update(1)\n",
        "  \n",
        "  return clean_container_2"
      ]
    },
    {
      "cell_type": "code",
      "execution_count": 76,
      "metadata": {},
      "outputs": [
        {
          "name": "stderr",
          "output_type": "stream",
          "text": [
            "100%|██████████| 2781/2781 [00:20<00:00, 135.26it/s]\n",
            "C:\\Users\\maart\\AppData\\Local\\Temp\\ipykernel_4396\\41527334.py:2: SettingWithCopyWarning: \n",
            "A value is trying to be set on a copy of a slice from a DataFrame.\n",
            "Try using .loc[row_indexer,col_indexer] = value instead\n",
            "\n",
            "See the caveats in the documentation: https://pandas.pydata.org/pandas-docs/stable/user_guide/indexing.html#returning-a-view-versus-a-copy\n",
            "  data['Abstract'] = text_prepro_2(data['Abstract'])\n"
          ]
        }
      ],
      "source": [
        "# apply all prepro-pipeline to texts\n",
        "data['Abstract'] = text_prepro_2(data['Abstract'])"
      ]
    },
    {
      "cell_type": "code",
      "execution_count": 77,
      "metadata": {},
      "outputs": [],
      "source": [
        "# preprocess texts (we need tokens)\n",
        "tokens_2 = []\n",
        "\n",
        "for summary in nlp.pipe(data['Abstract'], disable=[\"ner\"]):\n",
        "  proj_tok_2 = [token_2.lemma_.lower() for token_2 in summary \n",
        "              if token_2.pos_ in ['NOUN', 'PROPN', 'ADJ', 'ADV'] \n",
        "              and not token_2.is_stop\n",
        "              and not token_2.is_punct] \n",
        "  tokens_2.append(proj_tok_2)"
      ]
    },
    {
      "cell_type": "code",
      "execution_count": 78,
      "metadata": {},
      "outputs": [
        {
          "name": "stderr",
          "output_type": "stream",
          "text": [
            "C:\\Users\\maart\\AppData\\Local\\Temp\\ipykernel_4396\\2808454871.py:1: SettingWithCopyWarning: \n",
            "A value is trying to be set on a copy of a slice from a DataFrame.\n",
            "Try using .loc[row_indexer,col_indexer] = value instead\n",
            "\n",
            "See the caveats in the documentation: https://pandas.pydata.org/pandas-docs/stable/user_guide/indexing.html#returning-a-view-versus-a-copy\n",
            "  data['tokens_2'] = tokens_2\n"
          ]
        }
      ],
      "source": [
        "data['tokens_2'] = tokens_2"
      ]
    },
    {
      "cell_type": "code",
      "execution_count": 79,
      "metadata": {},
      "outputs": [],
      "source": [
        "# Create a Dictionary from the articles: dictionary\n",
        "dictionary_2 = Dictionary(data['tokens_2'])\n",
        "dictionary_2.filter_extremes(no_below=50, no_above=0.5, keep_n=1000)\n",
        "# construct corpus using this dictionary\n",
        "corpus_2 = [dictionary_2.doc2bow(doc) for doc in data['tokens_2']]"
      ]
    },
    {
      "cell_type": "markdown",
      "metadata": {
        "id": "aCKrV34cD2UL"
      },
      "source": [
        "### UML"
      ]
    },
    {
      "cell_type": "code",
      "execution_count": 80,
      "metadata": {
        "id": "3OKlgESCD2UM"
      },
      "outputs": [],
      "source": [
        "#Importing UML packages\n",
        "from sklearn.preprocessing import StandardScaler\n",
        "scaler = StandardScaler()"
      ]
    },
    {
      "cell_type": "code",
      "execution_count": 81,
      "metadata": {
        "id": "ovV4NSyPD2UM"
      },
      "outputs": [],
      "source": [
        "from sklearn.feature_extraction.text import TfidfVectorizer\n",
        "tfidf = TfidfVectorizer()"
      ]
    },
    {
      "cell_type": "code",
      "execution_count": 82,
      "metadata": {
        "id": "YWzy_-KsD2UM"
      },
      "outputs": [],
      "source": [
        "sparse_matrix =tfidf.fit_transform(data['Author Keywords'])"
      ]
    },
    {
      "cell_type": "code",
      "execution_count": 83,
      "metadata": {
        "id": "mnjUBuuJD2UM"
      },
      "outputs": [],
      "source": [
        "#Import nmf\n",
        "from sklearn.decomposition import NMF"
      ]
    },
    {
      "cell_type": "code",
      "execution_count": 84,
      "metadata": {
        "id": "qqpaks72D2UN"
      },
      "outputs": [],
      "source": [
        "#Using 4 components in order to determine relevancy\n",
        "nmf = NMF(n_components=5)"
      ]
    },
    {
      "cell_type": "code",
      "execution_count": 85,
      "metadata": {
        "colab": {
          "base_uri": "https://localhost:8080/"
        },
        "id": "5hAIGSzXD2UN",
        "outputId": "cc9f9c93-2c9d-445d-8bb9-d782d2d3a67f"
      },
      "outputs": [],
      "source": [
        "matrix_nmf = nmf.fit_transform(sparse_matrix)"
      ]
    },
    {
      "cell_type": "code",
      "execution_count": 86,
      "metadata": {
        "colab": {
          "base_uri": "https://localhost:8080/"
        },
        "id": "t_rB4t9aD2UO",
        "outputId": "7a8fabc0-9d4a-48e4-8d71-5a296cfa41e0"
      },
      "outputs": [
        {
          "data": {
            "text/plain": [
              "(2781, 5)"
            ]
          },
          "execution_count": 86,
          "metadata": {},
          "output_type": "execute_result"
        }
      ],
      "source": [
        "matrix_nmf.shape"
      ]
    },
    {
      "cell_type": "code",
      "execution_count": 87,
      "metadata": {
        "colab": {
          "base_uri": "https://localhost:8080/"
        },
        "id": "yOjxxkydD2UP",
        "outputId": "734859f0-5b23-46f1-8d9f-c7ae69ff3244"
      },
      "outputs": [
        {
          "data": {
            "text/plain": [
              "(2781,)"
            ]
          },
          "execution_count": 87,
          "metadata": {},
          "output_type": "execute_result"
        }
      ],
      "source": [
        "data['Author Keywords'].shape"
      ]
    },
    {
      "cell_type": "code",
      "execution_count": 88,
      "metadata": {
        "colab": {
          "base_uri": "https://localhost:8080/"
        },
        "id": "ZgVcAgrED2UP",
        "outputId": "c62b9841-4436-4150-ab42-e14e140d1514"
      },
      "outputs": [
        {
          "data": {
            "text/plain": [
              "(5, 3841)"
            ]
          },
          "execution_count": 88,
          "metadata": {},
          "output_type": "execute_result"
        }
      ],
      "source": [
        "nmf.components_.shape"
      ]
    },
    {
      "cell_type": "code",
      "execution_count": 89,
      "metadata": {
        "colab": {
          "base_uri": "https://localhost:8080/"
        },
        "id": "FCdYh81jD2UR",
        "outputId": "918c470b-ac33-452b-871b-6fac73d33bad"
      },
      "outputs": [
        {
          "data": {
            "text/plain": [
              "(2781, 5)"
            ]
          },
          "execution_count": 89,
          "metadata": {},
          "output_type": "execute_result"
        }
      ],
      "source": [
        "matrix_nmf.shape"
      ]
    },
    {
      "cell_type": "code",
      "execution_count": 90,
      "metadata": {
        "id": "5DhD_DV1D2UT"
      },
      "outputs": [
        {
          "data": {
            "text/plain": [
              "<AxesSubplot:>"
            ]
          },
          "execution_count": 90,
          "metadata": {},
          "output_type": "execute_result"
        },
        {
          "data": {
            "image/png": "[encoded data removed]",
            "text/plain": [
              "<Figure size 1440x216 with 2 Axes>"
            ]
          },
          "metadata": {
            "needs_background": "light"
          },
          "output_type": "display_data"
        }
      ],
      "source": [
        "#2 components are more relevant\n",
        "plt.figure(figsize=(20,3))\n",
        "\n",
        "sns.heatmap(pd.DataFrame(matrix_nmf, columns=['PC1','PC2','PC3','PC4','PC5']), annot=True)"
      ]
    },
    {
      "cell_type": "markdown",
      "metadata": {},
      "source": [
        "### LDA For Abstract"
      ]
    },
    {
      "cell_type": "code",
      "execution_count": 91,
      "metadata": {},
      "outputs": [],
      "source": [
        "lda_model_2 = LdaMulticore(corpus_2, id2word=dictionary_2, num_topics=5, workers = 4, passes=10, random_state = 60)"
      ]
    },
    {
      "cell_type": "code",
      "execution_count": 92,
      "metadata": {},
      "outputs": [
        {
          "name": "stderr",
          "output_type": "stream",
          "text": [
            "c:\\Users\\maart\\anaconda3\\lib\\site-packages\\pyLDAvis\\_prepare.py:246: FutureWarning: In a future version of pandas all arguments of DataFrame.drop except for the argument 'labels' will be keyword-only.\n",
            "  default_term_info = default_term_info.sort_values(\n"
          ]
        }
      ],
      "source": [
        "# Let's try to visualize\n",
        "lda_display_2 = pyLDAvis.gensim_models.prepare(lda_model_2, corpus_2, dictionary_2)"
      ]
    },
    {
      "cell_type": "code",
      "execution_count": 93,
      "metadata": {},
      "outputs": [
        {
          "data": {
            "text/html": [
              "\n",
              "<link rel=\"stylesheet\" type=\"text/css\" href=\"https://cdn.jsdelivr.net/gh/bmabey/pyLDAvis@3.3.1/pyLDAvis/js/ldavis.v1.0.0.css\">\n",
              "\n",
              "\n",
              "<div id=\"ldavis_el439629229177876801753825176\"></div>\n",
              "<script type=\"text/javascript\">\n",
              "\n",
              "var ldavis_el439629229177876801753825176_data = {\"mdsDat\": {\"x\": [0.0829226336882319, 0.08986132336979326, -0.0162704049486764, -0.006684190741361421, -0.14982936136798738], \"y\": [0.03387320226853961, 0.010106056464509851, -0.11460644225134903, 0.034931907260360134, 0.03569527625793948], \"topics\": [1, 2, 3, 4, 5], \"cluster\": [1, 1, 1, 1, 1], \"Freq\": [25.00172005459657, 24.440027618392257, 18.054969909379082, 17.77838019364503, 14.724902223987055]}, \"tinfo\": {\"Term\": [\"stock\", \"energy\", \"price\", \"model\", \"service\", \"bank\", \"prediction\", \"learning\", \"transaction\", \"user\", \"blockchain\", \"network\", \"trading\", \"lending\", \"islamic\", \"machine\", \"market\", \"neural\", \"business\", \"system\", \"digital\", \"smart\", \"payment\", \"banking\", \"contract\", \"loan\", \"investor\", \"datum\", \"platform\", \"research\", \"informa\", \"francis\", \"taylor\", \"africa\", \"corporate\", \"uk\", \"sustainable\", \"institutional\", \"governance\", \"originality\", \"central\", \"emerald\", \"money\", \"inclusion\", \"stability\", \"limited\", \"micro\", \"sustainability\", \"panel\", \"chapter\", \"policymaker\", \"group\", \"south\", \"country\", \"literacy\", \"implication\", \"social\", \"qualitative\", \"china\", \"uncertainty\", \"practice\", \"development\", \"sector\", \"banking\", \"policy\", \"innovation\", \"economy\", \"relationship\", \"firm\", \"impact\", \"regulation\", \"bank\", \"finance\", \"study\", \"risk\", \"digital\", \"industry\", \"regulatory\", \"role\", \"finding\", \"institution\", \"purpose\", \"research\", \"effect\", \"value\", \"paper\", \"service\", \"new\", \"datum\", \"system\", \"market\", \"analysis\", \"lender\", \"borrower\", \"lending\", \"loan\", \"robo\", \"funding\", \"sme\", \"advisor\", \"financing\", \"retail\", \"incumbent\", \"segment\", \"up\", \"startup\", \"channel\", \"fintechs\", \"small\", \"capital\", \"success\", \"default\", \"tech\", \"digitalization\", \"competition\", \"entrepreneur\", \"satisfaction\", \"alternative\", \"service\", \"determinant\", \"disruption\", \"income\", \"india\", \"platform\", \"customer\", \"bank\", \"peer\", \"digital\", \"business\", \"payment\", \"company\", \"consumer\", \"product\", \"traditional\", \"banking\", \"new\", \"credit\", \"market\", \"study\", \"investment\", \"growth\", \"factor\", \"online\", \"industry\", \"model\", \"high\", \"research\", \"datum\", \"information\", \"development\", \"paper\", \"energy\", \"grid\", \"ethereum\", \"contract\", \"electricity\", \"privacy\", \"smart\", \"secure\", \"node\", \"scheme\", \"reliable\", \"consensus\", \"device\", \"transaction\", \"ledger\", \"consumption\", \"intention\", \"party\", \"user\", \"blockchain\", \"usefulness\", \"power\", \"partial\", \"reliability\", \"acceptance\", \"detection\", \"generation\", \"trust\", \"equation\", \"respondent\", \"security\", \"trading\", \"system\", \"mechanism\", \"efficiency\", \"ieee\", \"datum\", \"payment\", \"data\", \"use\", \"application\", \"platform\", \"model\", \"factor\", \"mobile\", \"information\", \"method\", \"result\", \"risk\", \"paper\", \"study\", \"service\", \"market\", \"research\", \"sandbox\", \"systematic\", \"intelligence\", \"ai\", \"cloud\", \"review\", \"journal\", \"science\", \"academic\", \"domain\", \"topic\", \"database\", \"subject\", \"publication\", \"artificial\", \"virtual\", \"cryptocurrency\", \"iot\", \"language\", \"practitioner\", \"intelligent\", \"literature\", \"element\", \"assessment\", \"basis\", \"cryptocurrencie\", \"category\", \"extensive\", \"scientific\", \"communication\", \"direction\", \"field\", \"area\", \"research\", \"organization\", \"framework\", \"regulatory\", \"paper\", \"strategy\", \"approach\", \"analysis\", \"business\", \"future\", \"application\", \"case\", \"new\", \"information\", \"model\", \"industry\", \"innovation\", \"study\", \"datum\", \"system\", \"market\", \"method\", \"process\", \"development\", \"solution\", \"security\", \"service\", \"stock\", \"neural\", \"forecasting\", \"prediction\", \"memory\", \"price\", \"volatility\", \"islamic\", \"green\", \"accuracy\", \"forecast\", \"portfolio\", \"return\", \"series\", \"deep\", \"random\", \"learning\", \"movement\", \"error\", \"accurate\", \"machine\", \"daily\", \"linear\", \"benchmark\", \"input\", \"index\", \"day\", \"short\", \"historical\", \"average\", \"exchange\", \"network\", \"investor\", \"model\", \"asset\", \"market\", \"algorithm\", \"time\", \"performance\", \"trading\", \"method\", \"technique\", \"datum\", \"result\", \"high\", \"investment\", \"paper\", \"study\", \"different\", \"risk\", \"strategy\"], \"Freq\": [853.0, 632.0, 574.0, 2143.0, 2216.0, 1775.0, 396.0, 509.0, 762.0, 796.0, 754.0, 810.0, 857.0, 537.0, 363.0, 479.0, 2051.0, 299.0, 1198.0, 1456.0, 1474.0, 399.0, 954.0, 1108.0, 316.0, 379.0, 485.0, 1892.0, 897.0, 1758.0, 86.4186545952808, 98.31741556590408, 97.93377623383128, 88.43935950176602, 114.21497249375774, 127.12808842951674, 181.77200472486103, 57.8953124124136, 97.52520478710223, 131.3348430595696, 99.82734646063828, 119.7078516912339, 290.63281992498867, 297.9591361455319, 110.26711064968721, 116.88289981266448, 64.68760852886253, 89.54991804035122, 56.07607523165936, 70.66490151954795, 46.856418045133545, 165.9685211552966, 47.21018660229059, 343.1561882248105, 79.8620099487381, 236.1581936434138, 339.56569624334736, 79.78548459605179, 175.73029421877925, 46.48785261226671, 149.2836443462288, 816.7850173111985, 472.50220318502437, 578.2220495651809, 254.27394457292644, 523.9059571436962, 294.079890155705, 226.44746932350319, 288.25912976916317, 358.8686552470781, 274.0089456002867, 705.4655135045897, 446.97229092907617, 848.6142910297452, 504.6392595603621, 560.6708343107471, 406.7644893312173, 280.3214131400149, 240.20716906359027, 247.3797659013563, 228.1960798415329, 218.185348627793, 429.98601255616387, 243.61024032108566, 259.6142506917475, 348.54962553969216, 367.5132785232733, 278.6425170176792, 292.04928882363214, 274.9889400993617, 278.5545763864434, 250.8641674363166, 151.23255252713238, 178.64759106624373, 503.1496964417823, 343.120285676513, 148.45611642710128, 97.76881007012948, 181.7669064587658, 128.95854631455674, 248.3798022512264, 114.62647389379, 89.32968776421644, 68.56723492383887, 72.10726588823199, 132.8267166557787, 87.17980780045151, 66.95326318294771, 196.43968243534354, 184.69544802995313, 137.50037646485845, 58.16965546132936, 75.88912111357008, 79.64815444858307, 110.69214434923194, 69.60627991946531, 67.95377522831777, 148.02406928243582, 1392.4085748886564, 56.39445042694451, 47.797773970249764, 81.95819851335305, 85.27390915846016, 494.8687492587077, 475.9340879810971, 931.1677129413433, 253.9752740681721, 746.1583798780889, 619.2801739948703, 469.1312223756746, 433.99638062047194, 279.54225307686073, 249.17714904790435, 275.7725138100729, 443.19957869391874, 502.51090762289505, 274.91344332474966, 524.5605888472219, 562.0523230402555, 262.26793101003057, 217.55575785168958, 261.442981305087, 187.9937714574721, 289.8423772781681, 339.1220100170014, 236.95953783885545, 291.54882716588196, 264.9066420444294, 234.63553357521639, 247.90072931291232, 246.6285863478748, 615.4698914304728, 87.08550621688728, 64.47308059537444, 276.9844833686784, 93.62404914958455, 205.51983802267188, 327.71961576736817, 92.67189691431675, 80.57039009501528, 99.65039618211519, 47.16010517962948, 68.5309270732882, 93.75052357528261, 557.4563331205625, 73.73292767860752, 56.676522750207816, 219.40204460215344, 127.62309824745593, 550.2456214540596, 511.92896145293975, 69.3387174504463, 151.4386451279805, 40.368937618182976, 37.07660840295817, 100.1707528352872, 62.217691286752384, 84.61842021491833, 219.20356515543233, 69.61424461510246, 64.15219675192671, 292.17708751316223, 455.1146958154664, 673.7512714434102, 167.8198770893253, 170.5276052788175, 206.42473653174616, 639.506737513375, 331.2047194903999, 233.0801012877707, 187.30935568436593, 266.3690200087353, 271.9909855187165, 412.85822017660377, 209.23773360615994, 199.95614980887785, 243.75538717523938, 228.07276533930602, 247.33030746980972, 253.3046685051733, 271.66265145274485, 282.5370238421033, 266.7964144408586, 255.38184573168107, 211.9326308568609, 104.23772507984175, 67.75234594736033, 246.44155118059516, 56.15022752973131, 84.54928911466347, 197.99608978643164, 64.20638559517776, 107.02954894057844, 84.95979770506932, 104.90079216215416, 100.19206150673706, 53.29789790619486, 55.31258187770614, 59.160758580784595, 207.4214985283605, 47.51002158361708, 122.48794093125586, 84.87963733383161, 38.25291837497713, 58.58579250812841, 40.3962080840228, 259.8184226627904, 38.48107417781737, 54.98574207576909, 50.99578184342661, 86.93000662949316, 43.31496668396118, 26.072831521833937, 48.987139957350124, 74.73798164801761, 70.67856290571062, 161.6421353520866, 171.86606393142074, 691.0020988298671, 98.43184816546835, 216.49105255218063, 239.48593231584155, 540.6039889905096, 201.26410062326164, 296.5643552670061, 365.8018587203221, 381.668191669821, 218.81619918343304, 266.3912334704749, 158.85492371845524, 330.0087483849189, 258.65788035733283, 413.4559869284463, 264.92974844089946, 250.01626493091763, 388.7080668895303, 343.05272439439, 272.96303896208934, 278.98322480897264, 196.5952905255739, 168.5138782517488, 214.865891198112, 147.08987277437143, 155.13024126410886, 172.87700433736646, 841.0855936173382, 286.6715115636557, 102.67251587440491, 370.48347624276585, 58.112149975499165, 523.4340297701191, 88.09485549270705, 315.63317352547034, 178.2339697392606, 145.64628272930722, 65.68788178205982, 174.66569014285122, 188.5677276141118, 110.12311940817592, 179.87569813648852, 69.51858137559165, 390.3710008167316, 77.90964137876884, 63.02735461073636, 44.8520411911366, 338.64093285126023, 49.49072702741642, 44.507731684792915, 38.42756432028395, 43.28356355204549, 134.97426613078335, 80.08231400008638, 106.77309556531183, 57.541339785806045, 58.84377989801419, 150.3910302623916, 441.2848460486784, 240.93079014943655, 813.2994544211258, 159.9364254462906, 713.536062588228, 145.45952142614976, 236.48069969827674, 224.89321740359122, 261.0901864312521, 258.87040715879175, 143.5875201003089, 353.46670626556886, 260.40457733834995, 210.4370508868676, 198.26421514520914, 266.38967061977485, 249.56263248339252, 164.73261729061946, 172.13984422337396, 151.2374422100608], \"Total\": [853.0, 632.0, 574.0, 2143.0, 2216.0, 1775.0, 396.0, 509.0, 762.0, 796.0, 754.0, 810.0, 857.0, 537.0, 363.0, 479.0, 2051.0, 299.0, 1198.0, 1456.0, 1474.0, 399.0, 954.0, 1108.0, 316.0, 379.0, 485.0, 1892.0, 897.0, 1758.0, 90.04279260591603, 104.1479932652546, 104.16037719548798, 104.87942620396413, 135.6345189218626, 153.5633464406487, 236.03505775310424, 76.68903551722757, 129.56241194478562, 178.96161964233374, 136.58980026998663, 164.4864506781324, 403.53167453547667, 418.3068362295574, 154.8341590730661, 166.49968536803584, 93.13049248921207, 131.07704000245988, 83.42296152335173, 108.98224252444359, 72.35146907407741, 257.7945687342907, 73.37715144170099, 534.5823874372177, 128.20814282676446, 391.7505552615061, 578.3957985169, 136.07340175380585, 301.7288822950347, 80.01386746725564, 258.1387991592334, 1445.571792836535, 852.8447487981379, 1108.5428000573925, 456.9495823194169, 1027.5636478107626, 546.1327121270031, 406.5052095988031, 535.3327422113074, 701.5456676042857, 515.0045476405566, 1775.1351738456065, 990.6605001657874, 2331.4743372850266, 1218.7001255015816, 1474.3111741314206, 1072.2807050126096, 608.4140700028929, 499.12923967226004, 528.6498104354457, 501.37327047643254, 469.78047165729066, 1758.5552509587856, 596.7610926354461, 703.6713376798001, 1673.8345229505962, 2216.6942692376706, 1325.5689703201872, 1892.9820990413955, 1456.1962657645613, 2051.016298362547, 1125.5996824077506, 156.53809431093708, 185.34628499371553, 537.4120758368235, 379.16233632873036, 168.6836136189683, 111.8635623260339, 209.24769673082068, 151.5265714094345, 292.39541654193795, 136.0910399191353, 106.46765561692247, 85.4137896658284, 91.61640953782327, 180.93287940096482, 121.00129701708553, 94.29500933664244, 284.4612431858962, 270.58738673765504, 202.48290455575395, 86.108068886299, 113.60307117170474, 120.62297031219487, 170.61563576561775, 107.858656683325, 105.66141324308232, 233.72368750400784, 2216.6942692376706, 90.42268338094894, 77.61893881973306, 135.34336510774614, 141.030735713327, 897.4558397909485, 866.6272600716894, 1775.1351738456065, 446.42525429243136, 1474.3111741314206, 1198.6076022123573, 954.1106517427444, 901.3289465769626, 562.6783775437548, 490.6685759719264, 567.8160385088707, 1108.5428000573925, 1325.5689703201872, 627.1896934656727, 2051.016298362547, 2331.4743372850266, 646.5756017174818, 471.49425427118706, 690.9331432773249, 369.25741031964594, 1072.2807050126096, 2143.344561379219, 732.0729408729278, 1758.5552509587856, 1892.9820990413955, 998.2427009579134, 1445.571792836535, 1673.8345229505962, 632.6434504980024, 91.07435373303048, 73.60131086216734, 316.40868771717925, 111.19748463136389, 249.93446979735975, 399.46407149245636, 114.30107852489444, 101.46853129179473, 126.58677544608418, 59.961156200217026, 90.39550641275895, 125.16100212287712, 762.1179033521051, 102.10186122283464, 78.61860767168767, 314.96431955243344, 184.11562519683483, 796.2421269192577, 754.0957923511929, 102.4233049597834, 234.23966585607033, 65.58187468335736, 60.38691739129834, 163.95754760142162, 103.61465624655918, 141.08504916243652, 366.6279390178008, 117.8772511242501, 111.74176790558313, 534.8192750718518, 857.5646740504417, 1456.1962657645613, 333.5636753820994, 348.8133513341553, 441.0973444761195, 1892.9820990413955, 954.1106517427444, 626.9282026125749, 454.97960293025636, 810.4891514425468, 897.4558397909485, 2143.344561379219, 690.9331432773249, 647.3227882955271, 998.2427009579134, 875.4986861676229, 1107.089533678795, 1218.7001255015816, 1673.8345229505962, 2331.4743372850266, 2216.6942692376706, 2051.016298362547, 1758.5552509587856, 129.52719869652165, 93.79201357618669, 342.320028516466, 79.88285266205372, 124.22257538670954, 293.16350240687785, 96.20448341851099, 166.7914763330902, 132.78565612083275, 164.5826614861438, 160.52747384973566, 87.55750014292028, 90.90862855264886, 98.73932841571879, 346.564605497869, 81.46907941353102, 210.05345755349853, 147.9228668690693, 66.94132914315138, 103.73149870614951, 75.08782658669045, 504.8428954984832, 75.78613979637878, 110.18799987167407, 104.52833332809718, 179.6179882109371, 89.52633967534062, 54.341671380801515, 102.62210603264343, 156.98352192455081, 150.30543080463616, 364.97324546268055, 393.2484339758184, 1758.5552509587856, 217.6826721833916, 539.8847777026816, 608.4140700028929, 1673.8345229505962, 514.7897604750283, 822.2652292273614, 1125.5996824077506, 1198.6076022123573, 610.596518998889, 810.4891514425468, 435.87429846291485, 1325.5689703201872, 998.2427009579134, 2143.344561379219, 1072.2807050126096, 1027.5636478107626, 2331.4743372850266, 1892.9820990413955, 1456.1962657645613, 2051.016298362547, 875.4986861676229, 614.8494996354682, 1445.571792836535, 414.0607690408462, 534.8192750718518, 2216.6942692376706, 853.9371702259405, 299.5306350080664, 108.49629015357127, 396.69890401279764, 63.61438094183122, 574.0604718716294, 97.5055954426768, 363.5837805549804, 209.57125642320256, 180.451747818292, 82.41178262909433, 221.64234512757042, 239.44316089185264, 140.28531353920795, 229.67808734670973, 90.31904857420943, 509.32197444825925, 104.31442478880751, 87.3406203089845, 63.435124270030414, 479.92106297677236, 71.56872473081663, 64.45574806364084, 56.18728037362813, 63.797117130192774, 199.5190875542043, 123.42408545223391, 167.32465225574103, 92.28875291073018, 95.07392741263013, 256.0892458778627, 810.5395256203414, 485.78425160457516, 2143.344561379219, 303.551071636391, 2051.016298362547, 277.7687574185493, 610.1595665547496, 621.828757329065, 857.5646740504417, 875.4986861676229, 341.4747037184777, 1892.9820990413955, 1107.089533678795, 732.0729408729278, 646.5756017174818, 1673.8345229505962, 2331.4743372850266, 589.9242250379752, 1218.7001255015816, 514.7897604750283], \"Category\": [\"Default\", \"Default\", \"Default\", \"Default\", \"Default\", \"Default\", \"Default\", \"Default\", \"Default\", \"Default\", \"Default\", \"Default\", \"Default\", \"Default\", \"Default\", \"Default\", \"Default\", \"Default\", \"Default\", \"Default\", \"Default\", \"Default\", \"Default\", \"Default\", \"Default\", \"Default\", \"Default\", \"Default\", \"Default\", \"Default\", \"Topic1\", \"Topic1\", \"Topic1\", \"Topic1\", \"Topic1\", \"Topic1\", \"Topic1\", \"Topic1\", \"Topic1\", \"Topic1\", \"Topic1\", \"Topic1\", \"Topic1\", \"Topic1\", \"Topic1\", \"Topic1\", \"Topic1\", \"Topic1\", \"Topic1\", \"Topic1\", \"Topic1\", \"Topic1\", \"Topic1\", \"Topic1\", \"Topic1\", \"Topic1\", \"Topic1\", \"Topic1\", \"Topic1\", \"Topic1\", \"Topic1\", \"Topic1\", \"Topic1\", \"Topic1\", \"Topic1\", \"Topic1\", \"Topic1\", \"Topic1\", \"Topic1\", \"Topic1\", \"Topic1\", \"Topic1\", \"Topic1\", \"Topic1\", \"Topic1\", \"Topic1\", \"Topic1\", \"Topic1\", \"Topic1\", \"Topic1\", \"Topic1\", \"Topic1\", \"Topic1\", \"Topic1\", \"Topic1\", \"Topic1\", \"Topic1\", \"Topic1\", \"Topic1\", \"Topic1\", \"Topic1\", \"Topic1\", \"Topic2\", \"Topic2\", \"Topic2\", \"Topic2\", \"Topic2\", \"Topic2\", \"Topic2\", \"Topic2\", \"Topic2\", \"Topic2\", \"Topic2\", \"Topic2\", \"Topic2\", \"Topic2\", \"Topic2\", \"Topic2\", \"Topic2\", \"Topic2\", \"Topic2\", \"Topic2\", \"Topic2\", \"Topic2\", \"Topic2\", \"Topic2\", \"Topic2\", \"Topic2\", \"Topic2\", \"Topic2\", \"Topic2\", \"Topic2\", \"Topic2\", \"Topic2\", \"Topic2\", \"Topic2\", \"Topic2\", \"Topic2\", \"Topic2\", \"Topic2\", \"Topic2\", \"Topic2\", \"Topic2\", \"Topic2\", \"Topic2\", \"Topic2\", \"Topic2\", \"Topic2\", \"Topic2\", \"Topic2\", \"Topic2\", \"Topic2\", \"Topic2\", \"Topic2\", \"Topic2\", \"Topic2\", \"Topic2\", \"Topic2\", \"Topic2\", \"Topic2\", \"Topic2\", \"Topic3\", \"Topic3\", \"Topic3\", \"Topic3\", \"Topic3\", \"Topic3\", \"Topic3\", \"Topic3\", \"Topic3\", \"Topic3\", \"Topic3\", \"Topic3\", \"Topic3\", \"Topic3\", \"Topic3\", \"Topic3\", \"Topic3\", \"Topic3\", \"Topic3\", \"Topic3\", \"Topic3\", \"Topic3\", \"Topic3\", \"Topic3\", \"Topic3\", \"Topic3\", \"Topic3\", \"Topic3\", \"Topic3\", \"Topic3\", \"Topic3\", \"Topic3\", \"Topic3\", \"Topic3\", \"Topic3\", \"Topic3\", \"Topic3\", \"Topic3\", \"Topic3\", \"Topic3\", \"Topic3\", \"Topic3\", \"Topic3\", \"Topic3\", \"Topic3\", \"Topic3\", \"Topic3\", \"Topic3\", \"Topic3\", \"Topic3\", \"Topic3\", \"Topic3\", \"Topic3\", \"Topic3\", \"Topic4\", \"Topic4\", \"Topic4\", \"Topic4\", \"Topic4\", \"Topic4\", \"Topic4\", \"Topic4\", \"Topic4\", \"Topic4\", \"Topic4\", \"Topic4\", \"Topic4\", \"Topic4\", \"Topic4\", \"Topic4\", \"Topic4\", \"Topic4\", \"Topic4\", \"Topic4\", \"Topic4\", \"Topic4\", \"Topic4\", \"Topic4\", \"Topic4\", \"Topic4\", \"Topic4\", \"Topic4\", \"Topic4\", \"Topic4\", \"Topic4\", \"Topic4\", \"Topic4\", \"Topic4\", \"Topic4\", \"Topic4\", \"Topic4\", \"Topic4\", \"Topic4\", \"Topic4\", \"Topic4\", \"Topic4\", \"Topic4\", \"Topic4\", \"Topic4\", \"Topic4\", \"Topic4\", \"Topic4\", \"Topic4\", \"Topic4\", \"Topic4\", \"Topic4\", \"Topic4\", \"Topic4\", \"Topic4\", \"Topic4\", \"Topic4\", \"Topic4\", \"Topic4\", \"Topic4\", \"Topic5\", \"Topic5\", \"Topic5\", \"Topic5\", \"Topic5\", \"Topic5\", \"Topic5\", \"Topic5\", \"Topic5\", \"Topic5\", \"Topic5\", \"Topic5\", \"Topic5\", \"Topic5\", \"Topic5\", \"Topic5\", \"Topic5\", \"Topic5\", \"Topic5\", \"Topic5\", \"Topic5\", \"Topic5\", \"Topic5\", \"Topic5\", \"Topic5\", \"Topic5\", \"Topic5\", \"Topic5\", \"Topic5\", \"Topic5\", \"Topic5\", \"Topic5\", \"Topic5\", \"Topic5\", \"Topic5\", \"Topic5\", \"Topic5\", \"Topic5\", \"Topic5\", \"Topic5\", \"Topic5\", \"Topic5\", \"Topic5\", \"Topic5\", \"Topic5\", \"Topic5\", \"Topic5\", \"Topic5\", \"Topic5\", \"Topic5\", \"Topic5\"], \"logprob\": [30.0, 29.0, 28.0, 27.0, 26.0, 25.0, 24.0, 23.0, 22.0, 21.0, 20.0, 19.0, 18.0, 17.0, 16.0, 15.0, 14.0, 13.0, 12.0, 11.0, 10.0, 9.0, 8.0, 7.0, 6.0, 5.0, 4.0, 3.0, 2.0, 1.0, -6.1628, -6.0338, -6.0377, -6.1397, -5.8839, -5.7768, -5.4193, -6.5634, -6.0419, -5.7443, -6.0186, -5.837, -4.9499, -4.925, -5.9191, -5.8608, -6.4524, -6.1272, -6.5953, -6.3641, -6.7749, -5.5102, -6.7674, -4.7838, -6.2417, -5.1575, -4.7943, -6.2427, -5.4531, -6.7828, -5.6162, -3.9166, -4.464, -4.262, -5.0836, -4.3607, -4.9382, -5.1995, -4.9581, -4.739, -5.0088, -4.0631, -4.5195, -3.8784, -4.3982, -4.2929, -4.6138, -4.9861, -5.1405, -5.1111, -5.1918, -5.2367, -4.5583, -5.1264, -5.0628, -4.7682, -4.7152, -4.9921, -4.9451, -5.0053, -4.9924, -5.0971, -5.5805, -5.4139, -4.3784, -4.7612, -5.599, -6.0167, -5.3966, -5.7398, -5.0843, -5.8576, -6.1069, -6.3715, -6.3211, -5.7102, -6.1313, -6.3953, -5.3189, -5.3806, -5.6757, -6.5359, -6.27, -6.2217, -5.8925, -6.3564, -6.3805, -5.6019, -3.3605, -6.5669, -6.7323, -6.1931, -6.1534, -4.395, -4.434, -3.7628, -5.062, -3.9843, -4.1707, -4.4484, -4.5262, -4.9661, -5.0811, -4.9797, -4.5053, -4.3797, -4.9828, -4.3367, -4.2677, -5.0299, -5.2168, -5.0331, -5.3629, -4.9299, -4.7729, -5.1314, -4.9241, -5.0199, -5.1412, -5.0863, -5.0914, -3.8741, -5.8296, -6.1302, -4.6725, -5.7572, -4.9709, -4.5043, -5.7674, -5.9074, -5.6948, -6.4429, -6.0692, -5.7558, -3.9731, -5.996, -6.2591, -4.9056, -5.4474, -3.9861, -4.0583, -6.0575, -5.2763, -6.5984, -6.6835, -5.6896, -6.1658, -5.8583, -4.9065, -6.0535, -6.1352, -4.6191, -4.1759, -3.7836, -5.1736, -5.1576, -4.9665, -3.8358, -4.4937, -4.8451, -5.0637, -4.7116, -4.6907, -4.2734, -4.953, -4.9984, -4.8003, -4.8668, -4.7858, -4.7619, -4.6919, -4.6527, -4.71, -4.7537, -4.9402, -5.6344, -6.0652, -4.7739, -6.253, -5.8437, -4.9928, -6.1189, -5.6079, -5.8389, -5.628, -5.674, -6.3051, -6.268, -6.2008, -4.9463, -6.4201, -5.473, -5.8398, -6.6368, -6.2106, -6.5823, -4.7211, -6.6309, -6.274, -6.3493, -5.8159, -6.5125, -7.0202, -6.3895, -5.9671, -6.0229, -5.1957, -5.1343, -3.7429, -5.6917, -4.9035, -4.8025, -3.9884, -4.9764, -4.5888, -4.379, -4.3365, -4.8928, -4.6961, -5.2131, -4.4819, -4.7255, -4.2565, -4.7016, -4.7595, -4.3182, -4.4432, -4.6717, -4.6499, -4.9999, -5.154, -4.911, -5.29, -5.2368, -5.1285, -3.3579, -4.4343, -5.4611, -4.1778, -6.0302, -3.8322, -5.6142, -4.338, -4.9095, -5.1114, -5.9077, -4.9297, -4.8531, -5.391, -4.9003, -5.851, -4.1255, -5.7371, -5.949, -6.2892, -4.2677, -6.1908, -6.2969, -6.4438, -6.3248, -5.1875, -5.7095, -5.4219, -6.0401, -6.0177, -5.0794, -4.0029, -4.6081, -3.3915, -5.0178, -3.5224, -5.1127, -4.6267, -4.677, -4.5277, -4.5363, -5.1257, -4.2248, -4.5304, -4.7434, -4.803, -4.5076, -4.5729, -4.9883, -4.9443, -5.0738], \"loglift\": [30.0, 29.0, 28.0, 27.0, 26.0, 25.0, 24.0, 23.0, 22.0, 21.0, 20.0, 19.0, 18.0, 17.0, 16.0, 15.0, 14.0, 13.0, 12.0, 11.0, 10.0, 9.0, 8.0, 7.0, 6.0, 5.0, 4.0, 3.0, 2.0, 1.0, 1.3451, 1.3286, 1.3246, 1.2157, 1.2143, 1.1973, 1.125, 1.1051, 1.1022, 1.0768, 1.0727, 1.0685, 1.058, 1.047, 1.0468, 1.0324, 1.0218, 1.0052, 0.989, 0.953, 0.9518, 0.9459, 0.9452, 0.9429, 0.9129, 0.8801, 0.8536, 0.8524, 0.8456, 0.8432, 0.8386, 0.8153, 0.7957, 0.7354, 0.8001, 0.7126, 0.7672, 0.8011, 0.7672, 0.7159, 0.7552, 0.4635, 0.5904, 0.3756, 0.5045, 0.4194, 0.4169, 0.6113, 0.6549, 0.6268, 0.5991, 0.6193, -0.0223, 0.4903, 0.3891, -0.1829, -0.4108, -0.1734, -0.4828, -0.2806, -0.6103, -0.1149, 1.3745, 1.3721, 1.3431, 1.3091, 1.2812, 1.2743, 1.2682, 1.2477, 1.2458, 1.2373, 1.2334, 1.1893, 1.1695, 1.0999, 1.0811, 1.0665, 1.0387, 1.0271, 1.0219, 1.0167, 1.0055, 0.9939, 0.9763, 0.971, 0.9675, 0.9522, 0.944, 0.9368, 0.9241, 0.9073, 0.9058, 0.8137, 0.8096, 0.7638, 0.8449, 0.7279, 0.7486, 0.6991, 0.6781, 0.7094, 0.7313, 0.6867, 0.4922, 0.439, 0.5842, 0.0454, -0.0137, 0.5066, 0.6355, 0.4371, 0.7339, 0.1007, -0.4348, 0.281, -0.3881, -0.5576, -0.039, -0.3543, -0.506, 1.6842, 1.667, 1.5793, 1.5787, 1.5397, 1.5161, 1.5138, 1.502, 1.4811, 1.4725, 1.4716, 1.4348, 1.4228, 1.399, 1.3862, 1.3845, 1.3502, 1.3453, 1.3422, 1.3244, 1.3216, 1.2756, 1.2265, 1.224, 1.219, 1.2017, 1.2005, 1.1974, 1.1851, 1.1568, 1.1072, 1.0782, 0.941, 1.0248, 0.9961, 0.9524, 0.6265, 0.6537, 0.7223, 0.8243, 0.599, 0.518, 0.0647, 0.5172, 0.537, 0.3019, 0.3666, 0.213, 0.1408, -0.1066, -0.3987, -0.4055, -0.3716, -0.4042, 1.51, 1.402, 1.3986, 1.3747, 1.3424, 1.3347, 1.3228, 1.2835, 1.2806, 1.2768, 1.2558, 1.2308, 1.2303, 1.215, 1.2139, 1.1879, 1.1878, 1.1717, 1.1676, 1.1559, 1.1073, 1.0629, 1.0494, 1.0321, 1.0095, 1.0015, 1.0012, 0.9928, 0.9877, 0.985, 0.9727, 0.9127, 0.8995, 0.7931, 0.9335, 0.8134, 0.7948, 0.597, 0.788, 0.7074, 0.6032, 0.5828, 0.701, 0.6145, 0.7178, 0.3367, 0.3767, 0.0816, 0.3291, 0.3138, -0.0642, 0.0192, 0.0529, -0.2678, 0.2335, 0.4328, -0.1791, 0.6922, 0.4895, -0.824, 1.9005, 1.8718, 1.8605, 1.8473, 1.8252, 1.8233, 1.8141, 1.7742, 1.7537, 1.7013, 1.6888, 1.6774, 1.6768, 1.6736, 1.6712, 1.6539, 1.6496, 1.6238, 1.5894, 1.569, 1.5669, 1.5468, 1.5453, 1.5357, 1.5277, 1.5248, 1.4831, 1.4664, 1.4432, 1.4359, 1.3833, 1.3076, 1.2144, 0.9466, 1.2749, 0.8598, 1.2687, 0.9678, 0.8986, 0.7264, 0.6972, 1.0493, 0.2375, 0.4684, 0.6689, 0.7335, 0.0777, -0.3189, 0.64, -0.0416, 0.6907]}, \"token.table\": {\"Topic\": [1, 2, 3, 4, 5, 1, 2, 3, 4, 5, 1, 2, 3, 4, 5, 1, 2, 3, 4, 5, 1, 2, 4, 5, 1, 2, 3, 4, 5, 1, 2, 3, 4, 5, 1, 2, 3, 4, 5, 1, 2, 3, 4, 5, 1, 2, 3, 4, 5, 1, 2, 3, 4, 5, 1, 2, 3, 4, 5, 1, 2, 3, 4, 5, 1, 2, 3, 4, 5, 1, 2, 3, 4, 5, 1, 2, 3, 4, 5, 1, 2, 3, 4, 5, 1, 2, 3, 4, 5, 1, 2, 3, 4, 5, 1, 2, 3, 4, 5, 1, 2, 3, 4, 5, 1, 2, 3, 4, 5, 1, 2, 3, 5, 1, 2, 3, 4, 5, 1, 2, 3, 4, 5, 1, 2, 3, 4, 5, 1, 2, 3, 4, 5, 1, 2, 3, 4, 5, 1, 2, 3, 5, 1, 2, 4, 5, 1, 2, 3, 4, 5, 1, 2, 3, 4, 5, 1, 2, 3, 4, 5, 1, 2, 3, 4, 5, 1, 2, 3, 4, 5, 1, 3, 4, 5, 1, 2, 3, 4, 5, 1, 2, 3, 4, 5, 1, 2, 3, 4, 5, 1, 2, 3, 4, 5, 1, 2, 3, 4, 5, 1, 2, 3, 4, 5, 1, 2, 3, 4, 5, 1, 2, 3, 4, 5, 1, 2, 3, 4, 5, 1, 2, 3, 4, 5, 1, 2, 3, 4, 5, 1, 2, 3, 4, 5, 1, 2, 3, 4, 5, 1, 2, 3, 4, 5, 1, 2, 3, 4, 5, 1, 2, 3, 4, 5, 1, 2, 3, 4, 5, 1, 2, 3, 4, 5, 1, 2, 3, 4, 5, 1, 2, 3, 4, 5, 1, 2, 3, 4, 5, 1, 2, 3, 4, 5, 1, 2, 3, 4, 5, 1, 2, 3, 4, 5, 1, 2, 3, 4, 5, 1, 2, 3, 4, 5, 1, 2, 3, 4, 5, 1, 2, 3, 4, 5, 1, 2, 3, 4, 5, 1, 2, 3, 4, 5, 1, 2, 3, 4, 5, 1, 2, 3, 4, 5, 1, 2, 3, 4, 5, 1, 2, 3, 4, 1, 2, 3, 4, 5, 1, 3, 4, 5, 1, 3, 4, 5, 1, 2, 3, 4, 5, 1, 2, 3, 4, 5, 1, 2, 3, 4, 5, 1, 2, 3, 4, 5, 1, 2, 3, 4, 5, 1, 2, 3, 4, 5, 1, 2, 3, 4, 5, 1, 2, 3, 4, 5, 1, 2, 3, 4, 5, 1, 2, 3, 4, 5, 3, 4, 5, 1, 2, 3, 4, 5, 1, 2, 4, 5, 1, 2, 3, 4, 5, 1, 2, 3, 4, 5, 1, 2, 3, 4, 5, 1, 2, 3, 4, 5, 1, 2, 3, 4, 5, 2, 3, 4, 5, 1, 2, 3, 4, 5, 1, 2, 3, 4, 5, 1, 2, 3, 4, 5, 1, 2, 3, 4, 5, 1, 2, 3, 4, 5, 1, 2, 3, 4, 5, 1, 2, 3, 4, 5, 1, 2, 3, 4, 5, 1, 2, 3, 4, 5, 1, 2, 4, 5, 1, 2, 3, 4, 5, 1, 2, 3, 4, 5, 1, 2, 3, 4, 5, 1, 2, 4, 1, 2, 3, 4, 5, 1, 2, 3, 4, 5, 1, 2, 3, 4, 5, 1, 2, 3, 4, 5, 1, 2, 3, 4, 5, 1, 2, 3, 4, 5, 1, 2, 3, 4, 5, 1, 2, 3, 4, 5, 1, 2, 3, 4, 5, 1, 2, 3, 4, 5, 1, 2, 3, 4, 5, 1, 2, 3, 4, 5, 1, 2, 3, 4, 5, 1, 2, 3, 4, 5, 1, 2, 3, 4, 5, 1, 2, 3, 4, 5, 1, 2, 3, 1, 2, 3, 4, 5, 1, 2, 3, 4, 5, 1, 2, 3, 4, 5, 1, 2, 3, 4, 5, 1, 2, 3, 4, 5, 1, 2, 3, 4, 5, 1, 2, 3, 4, 5, 1, 2, 3, 4, 5, 1, 2, 3, 4, 5, 3, 4, 5, 1, 2, 3, 4, 5, 1, 2, 3, 4, 5, 1, 2, 3, 4, 5, 1, 2, 3, 4, 5, 1, 2, 3, 4, 5, 1, 2, 3, 4, 5, 1, 2, 3, 4, 5, 1, 2, 3, 4, 5, 1, 2, 3, 4, 5, 1, 2, 3, 4, 5, 1, 2, 3, 4, 5, 1, 2, 3, 4, 5, 1, 2, 3, 4, 5, 1, 2, 3, 5, 1, 2, 3, 4, 5, 1, 2, 3, 4, 5, 1, 2, 3, 4, 5, 1, 2, 3, 4, 5, 1, 2, 3, 4, 5, 1, 2, 3, 4, 5, 1, 2, 3, 4, 5, 1, 2, 3, 4, 5, 1, 2, 3, 4, 5, 1, 2, 3, 4, 5, 1, 2, 3, 4, 5, 1, 2, 3, 4, 5, 1, 2, 3, 4, 5, 1, 2, 3, 4, 5, 1, 2, 3, 4, 5, 1, 2, 3, 4, 5, 1, 2, 3, 4, 5, 1, 2, 3, 4, 5, 1, 2, 3, 4, 5, 1, 2, 3, 4, 5, 1, 2, 3, 4, 5, 1, 2, 3, 4, 5, 1, 2, 3, 4, 5, 1, 2, 3, 4, 5, 1, 2, 3, 4, 5, 2, 3, 4, 5, 1, 2, 3, 4, 5, 1, 2, 3, 4, 5, 1, 2, 3, 4, 5, 1, 2, 3, 4, 5, 1, 2, 3, 4, 5, 1, 2, 3, 4, 5, 1, 2, 3, 4, 5, 1, 2, 3, 4, 5, 1, 2, 4, 5, 1, 2, 3, 4, 5, 1, 2, 3, 4, 1, 2, 3, 4, 5, 1, 2, 3, 4, 5, 1, 2, 3, 4, 5, 1, 2, 3, 4, 5, 1, 2, 3, 4, 5, 1, 2, 3, 4, 5, 1, 2, 3, 4, 5, 1, 2, 3, 4, 5, 1, 2, 3, 4, 5, 1, 2, 3, 4, 5, 1, 2, 3, 4, 5, 1, 2, 3, 4, 5, 1, 2, 3, 4, 5, 1, 2, 3, 4, 5, 1, 2, 3, 4, 5, 1, 2, 3, 4, 5, 1, 2, 3, 4, 5, 1, 2, 3, 4, 5, 1, 2, 3, 4, 5, 1, 2, 3, 4, 5, 1, 2, 3, 4, 5, 1, 2, 3, 4, 5, 1, 2, 3, 4, 5, 1, 2, 3, 4, 5, 1, 2, 3, 4, 5, 1, 2, 3, 4, 5, 1, 2, 3, 4, 5, 1, 2, 3, 4, 5, 1, 2, 4, 5, 1, 2, 3, 4, 5, 1, 2, 3, 4, 5, 1, 2, 3, 4, 5, 1, 2, 3, 4, 5, 1, 2, 3, 4, 5, 1, 2, 3, 4, 5, 1, 2, 3, 4, 5, 1, 2, 3, 4, 5, 1, 2, 4, 5, 1, 2, 3, 4, 5, 1, 2, 3, 4, 5, 1, 2, 3, 4, 5, 1, 2, 3, 5, 1, 2, 3, 4, 5, 1, 2, 3, 4, 5, 1, 2, 3, 4, 5, 1, 2, 3, 4, 5], \"Freq\": [0.23345895110681616, 0.08284027297338638, 0.022592801720014467, 0.6401293820670766, 0.022592801720014467, 0.054892257975697877, 0.2988578489787995, 0.6099139775077541, 0.024396559100310165, 0.012198279550155082, 0.005541647626527628, 0.005541647626527628, 0.10529130490402494, 0.07204141914485916, 0.8090805534730338, 0.015764137163871605, 0.015764137163871605, 0.04729241149161481, 0.22069792029420246, 0.7093861723742222, 0.013199005173791413, 0.8513358337095461, 0.013199005173791413, 0.11879104656412272, 0.839058747602815, 0.06674330946840573, 0.01906951699097307, 0.04767379247743267, 0.01906951699097307, 0.0500733244582801, 0.16273830448941032, 0.0500733244582801, 0.7010265424159213, 0.037554993343710076, 0.014400467630607912, 0.021600701445911866, 0.2844092357045062, 0.15480502702903504, 0.5220169516095368, 0.13691380767493355, 0.6332263604965677, 0.04706412138825841, 0.09412824277651682, 0.08984968628667514, 0.22299224486550165, 0.19278612404706716, 0.13148546709200892, 0.32516000645726534, 0.12793180581925193, 0.15546167370129416, 0.08389995088641272, 0.3281968667027321, 0.3281968667027321, 0.10364111580086277, 0.2857958620247349, 0.10823758178809109, 0.10094066616192765, 0.36119732349509054, 0.14472215991890833, 0.21106250611313007, 0.23140588019632335, 0.06357304400997894, 0.4373825427886551, 0.055944278728781466, 0.06348022749869439, 0.054823832839781525, 0.017312789317825743, 0.5972912314649882, 0.26546276953999476, 0.11798017946727336, 0.19058336683174926, 0.13613097630839233, 0.4991469131307719, 0.05445239052335694, 0.12189052669305182, 0.18448295931921357, 0.04941507838907506, 0.12189052669305182, 0.5270941694834673, 0.05259065377934281, 0.10518130755868561, 0.17880822284976552, 0.042072523023474244, 0.6205697145962451, 0.39715285370223746, 0.5244671018394086, 0.05182703906468914, 0.010703410241620585, 0.015773446671861913, 0.52140521770569, 0.39962372222079706, 0.02525838424871855, 0.034279235766118035, 0.018943788186538912, 0.22960281902389051, 0.09566784125995438, 0.0765342730079635, 0.4879059904257674, 0.10523462538594983, 0.03559524480808851, 0.03559524480808851, 0.07119048961617702, 0.17797622404044255, 0.6763096513536817, 0.05436975038962388, 0.03845665271461201, 0.6789588341338396, 0.20421808682931897, 0.025195737985435458, 0.010790612825435445, 0.9657598478764724, 0.02158122565087089, 0.005395306412717723, 0.11012778473652093, 0.5164325663023217, 0.039212165777397605, 0.31870313461629546, 0.015851726590862862, 0.1700005331164929, 0.6836977962293737, 0.040652301397422215, 0.048043628924226256, 0.059130620214432314, 0.23401242137858785, 0.17665643574658102, 0.1789506751718613, 0.3647840686195634, 0.04588478850560546, 0.06701938247177837, 0.24573773572985402, 0.10052907370766756, 0.48030557438107835, 0.11169897078629729, 0.7321190879724374, 0.08053309967696812, 0.10981786319586562, 0.058569527037795, 0.021963572639173125, 0.13222998756567692, 0.7190005573883682, 0.0991724906742577, 0.04132187111427404, 0.6514822814742084, 0.23857097631449883, 0.027527420343980636, 0.08258226103194191, 0.5833051137209488, 0.19222554883985815, 0.1060554752219907, 0.05965620481236977, 0.06297043841305698, 0.040250332795265374, 0.14490119806295534, 0.12075099838579612, 0.6842556575195113, 0.008050066559053074, 0.1401420972742197, 0.127401906612927, 0.24843371789520763, 0.4777571497984762, 0.0127401906612927, 0.213018788233942, 0.4815112192371397, 0.0610210070461813, 0.15088830833237557, 0.09319571985234962, 0.18169495346010417, 0.6505851559377923, 0.09377804049553763, 0.06447240284068212, 0.011722255061942204, 0.011062496795292627, 0.7633122788751913, 0.1659374519293894, 0.055312483976463135, 0.1403999214344376, 0.4976199747043359, 0.2097112750539701, 0.1457315640205555, 0.007108856781490512, 0.07631781047377585, 0.05087854031585057, 0.7250191995008706, 0.025439270157925284, 0.11447671571066378, 0.015802347388353736, 0.015802347388353736, 0.8754500453147969, 0.04108610320971971, 0.050567511642731953, 0.8404940048165321, 0.05160928099750636, 0.01474550885643039, 0.01474550885643039, 0.08847305313858234, 0.6416223356035697, 0.2113799531288728, 0.03554176203051844, 0.06360104784408563, 0.046765476355945315, 0.25988947474456753, 0.4384638377592397, 0.2678615445220083, 0.01753855351036959, 0.01753855351036959, 0.15031902021022606, 0.027836855594486305, 0.08351056678345892, 0.4843612873440617, 0.25053170035037675, 0.038085543047833334, 0.004760692880979167, 0.033324850166854166, 0.5808045314794583, 0.33800919454952083, 0.19154717102513957, 0.5492557434214845, 0.1350061386141044, 0.10269697723637002, 0.021924073792034048, 0.01397258374745655, 0.06986291873728274, 0.1397258374745655, 0.06986291873728274, 0.684656603625371, 0.1563177403594354, 0.10527521289512998, 0.37165340309947403, 0.16907837222551178, 0.19778979392418358, 0.057105330689415416, 0.1484738597924801, 0.11421066137883083, 0.6053165053078035, 0.07994746296518158, 0.15425396793127022, 0.13999075856776236, 0.3380908886164827, 0.18119558561789617, 0.18647825575252872, 0.09722575586467759, 0.0729193168985082, 0.10532790218673406, 0.08102146322056467, 0.6481717057645173, 0.03483135937092522, 0.008707839842731305, 0.030477439449559572, 0.14367935740506654, 0.7837055858458175, 0.05806656756641735, 0.6735721837704413, 0.2322662702656694, 0.01161331351328347, 0.03483994053985041, 0.02895343292807212, 0.009651144309357373, 0.5983709471801572, 0.3184877622087933, 0.038604577237429494, 0.23224261009295005, 0.6193136269145335, 0.11059171909188098, 0.011059171909188098, 0.022118343818376195, 0.5651742819337, 0.1715584111622492, 0.08923804451584737, 0.14873007419307896, 0.02559540811694847, 0.08788680030861948, 0.07190738207068867, 0.7510326571827483, 0.07989709118965407, 0.015979418237930813, 0.16612303045139643, 0.16103763156002715, 0.13052523821181147, 0.2627456093874127, 0.2796969390253103, 0.38051668456661397, 0.5059990137017718, 0.0556191945355835, 0.04476666877254282, 0.012887374343610812, 0.2652894379667322, 0.6632235949168305, 0.016580589872920763, 0.016580589872920763, 0.041451474682301905, 0.15967486917485169, 0.11975615188113876, 0.05987807594056938, 0.47237148797560286, 0.1862873473706603, 0.20613525826679197, 0.618405774800376, 0.012883453641674498, 0.14171799005841948, 0.025766907283348996, 0.018227922509641576, 0.0243038966795221, 0.2126590959458184, 0.6379772878374551, 0.10936753505784945, 0.5383306904561146, 0.2929690832414229, 0.08422861143190907, 0.03662113540517786, 0.04760747602673122, 0.40887384082369554, 0.26308685659557457, 0.21281548272380874, 0.018432837086314144, 0.09886703528113949, 0.26948509751838634, 0.14047627423830777, 0.4902335284642986, 0.03726921561424492, 0.06307098027026063, 0.008993009179255699, 0.008993009179255699, 0.8453428628500357, 0.053958055075534195, 0.089930091792557, 0.2507054726767844, 0.15834029853270593, 0.06597512438862746, 0.5014109453535688, 0.013195024877725493, 0.7295433727536402, 0.07903386538164435, 0.018238584318841004, 0.1215905621256067, 0.05471575295652301, 0.00474200752041054, 0.006322676693880719, 0.9721115416841606, 0.007903345867350899, 0.007903345867350899, 0.2225134332097649, 0.648997513528481, 0.00927139305040687, 0.12052810965528933, 0.16966802168570025, 0.14421781843284523, 0.5938380758999509, 0.02545020325285504, 0.0678672086742801, 0.05724713177341223, 0.1946402480296016, 0.02289885270936489, 0.7213138603449941, 0.013586714533830695, 0.8695497301651645, 0.013586714533830695, 0.09510700173681487, 0.03904888690550218, 0.042953775596052395, 0.2655324309574148, 0.062478219048803484, 0.5857333035825326, 0.23922709165314332, 0.05520625191995615, 0.09201041986659358, 0.47845418330628664, 0.12881458781323102, 0.10131226252654027, 0.37775000742038584, 0.30248946954352735, 0.07526053787685848, 0.14183716753715636, 0.2000146610951088, 0.12877656262287826, 0.11781685516561202, 0.4438681520192825, 0.1123370014369789, 0.45121411414424456, 0.23418719123370188, 0.042395957033687405, 0.13627271903685237, 0.13526329148843125, 0.08550065625400896, 0.8481665100397688, 0.020520157500962147, 0.006840052500320716, 0.03420026250160358, 0.467228012049314, 0.24212625725632467, 0.07377284400778643, 0.15889535632446306, 0.05863995292926613, 0.23331033269701307, 0.7105360132136307, 0.010605015122591504, 0.031815045367774505, 0.010605015122591504, 0.537983159427824, 0.3810714045947087, 0.0056039912440398335, 0.039227938708278835, 0.03549194454558561, 0.012134187225395169, 0.07280512335237102, 0.07280512335237102, 0.048536748901580676, 0.8008563568760811, 0.018433810014785727, 0.027650715022178588, 0.9493412157614649, 0.22782639014826414, 0.10743033031381562, 0.1611454954707234, 0.40008536806524436, 0.10372583616506335, 0.9409686824248618, 0.009601721249233284, 0.038406884996933136, 0.009601721249233284, 0.08045515280274101, 0.8760672194076243, 0.008939461422526778, 0.008939461422526778, 0.026818384267580337, 0.21781978092187912, 0.12446844624107378, 0.07861165025752029, 0.3586656542999363, 0.2210952663492758, 0.04961546274078012, 0.09214300223287736, 0.6024734761380443, 0.17719808121707184, 0.08505507898419448, 0.7563922169167685, 0.03087315171088851, 0.1698023344098868, 0.038591439638610635, 0.007718287927722127, 0.0954329345605131, 0.014314940184076965, 0.033401527096179585, 0.0047716467280256546, 0.8493531175885666, 0.010980039484346338, 0.9552634351381315, 0.010980039484346338, 0.021960078968692676, 0.6439235737782222, 0.12025078787424631, 0.02715340371353949, 0.15128324926114858, 0.05818586510044176, 0.33086299268086994, 0.46235982310531826, 0.04241833239498333, 0.08483666478996665, 0.08271574817021748, 0.11064471240176581, 0.3237382325829444, 0.18167588579549201, 0.09698487136451077, 0.2868566617823558, 0.13002667845785562, 0.032506669614463905, 0.054177782690773175, 0.16253334807231953, 0.6284622792129688, 0.043074392167483655, 0.0566768317993206, 0.46701709402640174, 0.19270122811769003, 0.24030976682911934, 0.5117271997786719, 0.27368139932452645, 0.08124916542446879, 0.055591534237794435, 0.0783983175148383, 0.6024241620856475, 0.22718538315941794, 0.04594760558280363, 0.08678992165640685, 0.03573702656440282, 0.7123957205338721, 0.25579309428565206, 0.00956235866488419, 0.004781179332442095, 0.014343537997326284, 0.31032182454281393, 0.6058664193454938, 0.05172030409046899, 0.007388614870066998, 0.022165844610200994, 0.10331776290424496, 0.8359346271343456, 0.04696261950192953, 0.009392523900385905, 0.18544591624572276, 0.0501205179042494, 0.0751807768563741, 0.015036155371274819, 0.6766269917073668, 0.08508783521056279, 0.6027054994081531, 0.06381587640792209, 0.21271958802640697, 0.02836261173685426, 0.37956478942257366, 0.2704515698588363, 0.07367473799602782, 0.24713677935376419, 0.028910340226289397, 0.9551014302320693, 0.01110583058409383, 0.02221166116818766, 0.15126581927932, 0.23541369225589537, 0.24442953578909987, 0.259455941677774, 0.11019364318361059, 0.5099440809495243, 0.2189645385756545, 0.014597635905043633, 0.24329393175072722, 0.013624460178040726, 0.015674689468479722, 0.031349378936959445, 0.17242158415327696, 0.10972282627935806, 0.6740116471446281, 0.4547510077339022, 0.33707421187293624, 0.07180279069482666, 0.11169322996973036, 0.021939741601197035, 0.756301074968804, 0.09127771594451083, 0.05215869482543476, 0.03911902111907607, 0.06519836853179345, 0.07595231898255515, 0.049661131642439904, 0.03213367341569641, 0.7186257872964834, 0.12269220758720448, 0.013317737980409904, 0.013317737980409904, 0.18644833172573866, 0.5327095192163962, 0.2663547596081981, 0.11747362384595585, 0.17462295436561004, 0.6953168546557926, 0.006349925613294911, 0.006349925613294911, 0.1716736599790552, 0.4052117019325447, 0.01237287639488686, 0.10362283980717747, 0.30622869077344983, 0.04734612108982453, 0.3746519147107854, 0.01029263501952707, 0.0720484451366895, 0.4961050079412048, 0.006760280010562046, 0.03380140005281023, 0.37857568059147456, 0.5746238008977739, 0.013520560021124091, 0.10176471553137649, 0.024753579453578065, 0.0027503977170642295, 0.0027503977170642295, 0.8691256785922966, 0.10394525956236121, 0.1974959931684863, 0.010394525956236121, 0.6652496611991118, 0.020789051912472243, 0.014938454506356448, 0.014938454506356448, 0.25395372660805965, 0.5676612712415451, 0.1493845450635645, 0.003926789143874206, 0.003926789143874206, 0.05301165344230178, 0.17277872233046504, 0.7657238830554701, 0.05876484452036733, 0.03917656301357822, 0.724766415751197, 0.14691211130091833, 0.029382422260183665, 0.01916466412348802, 0.964621427548897, 0.012776442748992013, 0.02791154250980119, 0.9359670588286665, 0.02791154250980119, 0.003721539001306825, 0.0055823085019602375, 0.7027040305894857, 0.10810831239838241, 0.03003008677732845, 0.13813839917571086, 0.02402406942186276, 0.04654356035148221, 0.09308712070296442, 0.12411616093728589, 0.04654356035148221, 0.6981534052722331, 0.62398532757858, 0.3041928471945578, 0.03899908297366125, 0.007799816594732251, 0.023399449784196752, 0.2674099233717068, 0.138656997303848, 0.03367384220236309, 0.5150117042714354, 0.045558727685550054, 0.04747306964686007, 0.9046257160485003, 0.03428610585606561, 0.002637392758158893, 0.013186963790794464, 0.008334703993172302, 0.012502055989758452, 0.04792454796074073, 0.2271206838139452, 0.7063661634213525, 0.13603012332117642, 0.255970662163504, 0.12432860733655908, 0.13603012332117642, 0.3481201005423654, 0.14390056094991663, 0.10192956400619095, 0.5036519633247082, 0.18287362954051906, 0.06895235212183505, 0.0628788638791846, 0.01571971596979615, 0.9117435262481766, 0.1336381217339705, 0.08566546264998108, 0.26042300645594246, 0.22501461522728364, 0.2958313976846013, 0.6979454125353131, 0.16106432596968764, 0.10737621731312509, 0.01073762173131251, 0.032212865193937526, 0.3707578418982386, 0.2919718004948629, 0.30896486824853214, 0.02162754077739725, 0.006179297364970643, 0.07698248941076663, 0.15816402369848417, 0.19268950379785832, 0.19268950379785832, 0.37931372055123197, 0.7211329825223338, 0.12390601074266905, 0.052040524511920996, 0.05451864472677438, 0.04708428408221424, 0.16296883230116824, 0.028759205700206163, 0.03834560760027488, 0.00958640190006872, 0.7477393482053603, 0.04564860667551318, 0.04934984505460884, 0.23811300238848768, 0.12337461263652211, 0.5440820417270625, 0.003338556672084877, 0.003338556672084877, 0.013354226688339507, 0.026708453376679014, 0.9581657648883597, 0.2104756570551047, 0.3794596971280203, 0.11843970665824889, 0.24894970189313462, 0.04375479609030851, 0.0098552722432168, 0.0098552722432168, 0.7982770517005608, 0.0591316334593008, 0.1281185391618184, 0.10561737939460669, 0.5091299314406681, 0.3060195864510399, 0.03791393106473061, 0.04333020693112069, 0.19753524508268486, 0.2113167738093838, 0.10106454399579225, 0.45019660507216547, 0.03675074327119718, 0.7320005276092822, 0.05587790287093758, 0.016763370861281275, 0.13969475717734395, 0.050290112583843825, 0.6712780147984136, 0.0839097518498017, 0.10788396666403077, 0.13185818147825984, 0.20850328704225254, 0.1475653636087002, 0.1625011291561395, 0.3232099664465863, 0.15891654542475409, 0.12198492401483839, 0.21347361702596718, 0.6099246200741919, 0.015248115501854799, 0.045744346505564394, 0.11949013005539416, 0.15207834734322895, 0.6952153021404751, 0.010862739095944924, 0.021725478191889847, 0.13101205795331963, 0.4915572414408553, 0.3469199294603904, 0.023058122199784255, 0.0073366752453859, 0.02688019973023163, 0.5689642276232362, 0.36512271300231297, 0.0291202163744176, 0.011200083220929845, 0.22353420996006257, 0.1141793446558593, 0.23479132844725997, 0.06593455113929902, 0.361835951374202, 0.07131270104043005, 0.5515591721095762, 0.3030789794218277, 0.0456846991040255, 0.02785652384391799, 0.5558600113183798, 0.2079003979340397, 0.09629071062208154, 0.07878330869079399, 0.061275906759506435, 0.6496067129180033, 0.20732129135680957, 0.06910709711893652, 0.04146425827136191, 0.04146425827136191, 0.049629505560721, 0.013535319698378455, 0.009023546465585636, 0.13986497021657737, 0.7895603157387432, 0.11099742609766111, 0.10672829432467415, 0.6446388977210319, 0.051229581275843594, 0.08538263545973931, 0.5772088523123914, 0.18207259099786843, 0.0542343888078757, 0.15882928150877884, 0.02711719440393785, 0.15424437320938345, 0.17352491986055638, 0.06748191327910526, 0.5687761262096014, 0.03856109330234586, 0.002520803536093812, 0.002520803536093812, 0.01260401768046906, 0.05041607072187624, 0.9326973083547104, 0.005225930275636285, 0.006967907034181714, 0.06271116330763542, 0.012193837309817998, 0.911053844719259, 0.05201363385586652, 0.016004195032574314, 0.8242160441775772, 0.10402726771173304, 0.004001048758143578, 0.309018711266167, 0.13499238439522032, 0.21468668361649498, 0.2748640115999064, 0.06830939933252113, 0.16711891491639283, 0.5074708513924612, 0.0692932086238702, 0.17119498601191463, 0.08559749300595731, 0.13165979765698374, 0.20255353485689806, 0.050638383714224515, 0.5975329278278493, 0.020255353485689805, 0.4640465348228291, 0.15539172955076386, 0.08301749934903822, 0.2362805750703396, 0.059602307224950524, 0.587917983741907, 0.19107334471611975, 0.029395899187095346, 0.15432847073225056, 0.036744873983869185, 0.01107186153736289, 0.05535930768681445, 0.12179047691099179, 0.04428744614945156, 0.7750303076154023, 0.5320341368931681, 0.1941730426617402, 0.02135903469279142, 0.23689111204732305, 0.015533843412939216, 0.46021289415392486, 0.13477663328793515, 0.006574469916484641, 0.3928245775099573, 0.004930852437363481, 0.555958434636173, 0.18695947359446527, 0.14021960519584895, 0.049199861472227706, 0.06395981991389602, 0.0827993912588837, 0.6127154953157394, 0.13247902601421394, 0.14903890426599067, 0.016677463600950054, 0.06670985440380021, 0.7838407892446525, 0.05003239080285016, 0.08338731800475026, 0.24451890252840155, 0.1660453942751006, 0.12055350543260727, 0.392936189877036, 0.0761989138111763, 0.20583171745979523, 0.17898410213895236, 0.5727491268446475, 0.008949205106947617, 0.03579682042779047, 0.2231075197497651, 0.18788001663138112, 0.2231075197497651, 0.13097405005553012, 0.23485002078922643, 0.07348022328245823, 0.8450225677482698, 0.014696044656491648, 0.007348022328245824, 0.05878417862596659, 0.025058138965639413, 0.14617247729956326, 0.025058138965639413, 0.020881782471366177, 0.7893313774176415, 0.19101968539821276, 0.09550984269910638, 0.013644263242729484, 0.6753910305151094, 0.02728852648545897, 0.41437593172656534, 0.18380239347871413, 0.20759823906301195, 0.05333551596480544, 0.14113398070686978, 0.01778477432180557, 0.8773821998757415, 0.011856516214537047, 0.08892387160902786, 0.48083738824355315, 0.31454779147599105, 0.07613258647189591, 0.09015701029566622, 0.03806629323594796, 0.1852892692926316, 0.007720386220526316, 0.007720386220526316, 0.8029201669347369, 0.06624935049747967, 0.6435651191183739, 0.2555332090617073, 0.02839257878463414, 0.00946419292821138, 0.07109747418942099, 0.00789971935438011, 0.7899719354380109, 0.11059607096132154, 0.023699158063140328, 0.13789673492707713, 0.09592816342753192, 0.05395959192798671, 0.6415195929216198, 0.07194612257064895, 0.13642284826572054, 0.31182365317878985, 0.019488978323674366, 0.4774799689300219, 0.05846693497102309, 0.5546144250364091, 0.26265038310392314, 0.028141112475420338, 0.1348428306113891, 0.019933288003422738, 0.06124176683490717, 0.034995295334232665, 0.8136406165209095, 0.0787394145020235, 0.017497647667116333, 0.069182248517556, 0.06357287701613254, 0.5459788261385501, 0.28981752757354545, 0.03178643850806627, 0.07024626847110177, 0.8078320874176703, 0.011707711411850294, 0.07024626847110177, 0.05853855705925148, 0.04276997961246369, 0.0498983095478743, 0.06415496941869553, 0.057026639483284916, 0.7841162928951676, 0.16601297035272103, 0.627962105247249, 0.12044962794613183, 0.0780441409538607, 0.007669077434772438, 0.06574046233897123, 0.12550451901076326, 0.13148092467794245, 0.04183483967025442, 0.6394754063881747, 0.15116294760724006, 0.6890218076981175, 0.08788543465537213, 0.024607921703504197, 0.04570042602079351, 0.012516770234978247, 0.020026832375965194, 0.821100127414573, 0.12266434830278682, 0.022530186422960844, 0.10991757787225509, 0.8697825727282794, 0.01433707537464197, 0.004779025124880656, 0.004779025124880656, 0.5878327623952574, 0.1331268314836318, 0.0985484336956755, 0.06915679557591263, 0.11065087292146021, 0.1328307439688264, 0.14249116171201376, 0.263246383501856, 0.355020352062136, 0.10626459517506112, 0.6405263638142461, 0.04088466152005826, 0.12265398456017479, 0.16353864608023305, 0.013628220506686087, 0.7104375459428891, 0.14208750918857782, 0.09041932402909497, 0.019375569434806065, 0.03875113886961213, 0.011053822868577722, 0.7350792207604185, 0.005526911434288861, 0.23213028024013216, 0.022107645737155443, 0.0011710463425961576, 0.0011710463425961576, 0.0035131390277884727, 0.009368370740769261, 0.9848499741233685, 0.12043751597310089, 0.1612308681575383, 0.03302318986359218, 0.39045065662247225, 0.293323627611907, 0.3641472635674172, 0.24104918978196524, 0.12138242118913907, 0.16684721499143146, 0.10722828726955749, 0.16500083918121033, 0.12100061539955423, 0.022000111890828043, 0.6050030769977712, 0.07700039161789815, 0.0691416395409573, 0.6815390183322934, 0.029632131231838842, 0.1975475415455923, 0.029632131231838842, 0.686619105819837, 0.19072752939439916, 0.05340370823043176, 0.045774607054655796, 0.030516404703103864, 0.7710718981007236, 0.10591646951933016, 0.042366587807732066, 0.03389327024618565, 0.05083990536927848, 0.18884817003401255, 0.08790023914310402, 0.4628496967379071, 0.18747472879740154, 0.07279238554038302, 0.0852951087727917, 0.07463322017619274, 0.06397133157959378, 0.7250084245687295, 0.04264755438639585, 0.9408568079210562, 0.00960057967266384, 0.03840231869065536, 0.00960057967266384, 0.1408412627843211, 0.6689959982255252, 0.035210315696080276, 0.13203868386030104, 0.026407736772060205, 0.06442644143308923, 0.026356271495354685, 0.1991362735204576, 0.2928474610594965, 0.42170034392567496, 0.1048905950313528, 0.08850143955770393, 0.2720599808625713, 0.14750239926283987, 0.3867840691781135, 0.14327765489868433, 0.056065169308180826, 0.08721248559050351, 0.6229463256464537, 0.09344194884696805, 0.094453517560864, 0.0058304640469669135, 0.5305722282739891, 0.06413510451663605, 0.3043502232516729, 0.15145750413433673, 0.4860729202450807, 0.11623482875425843, 0.12504049759927802, 0.12151823006127017, 0.08266437479411036, 0.08660077359382991, 0.7308580438145948, 0.04986105146311419, 0.04986105146311419, 0.14728828398803, 0.18820169620692725, 0.5973358183958996, 0.02182048651674519, 0.04364097303349038, 0.8270202684667641, 0.04558379432493976, 0.09767955926772805, 0.026047882471394147, 0.5749003448536562, 0.04999133433510053, 0.21246317092417724, 0.12497833583775132, 0.0374935007513254, 0.05457537601859174, 0.7858854146677211, 0.01091507520371835, 0.12006582724090183, 0.0218301504074367, 0.27913339231488093, 0.15824885233599548, 0.4110074359282105, 0.0835202276217754, 0.06593702180666479, 0.058580417829281195, 0.24408507428867163, 0.6736748050367337, 0.01952680594309373, 0.0992160516621484, 0.10172785043840533, 0.6907446634706534, 0.09670425288589149, 0.011303094493156148, 0.3694906784995567, 0.14211179942290642, 0.12221614750369951, 0.17621863128440396, 0.19042981122669458, 0.13502055109969777, 0.07364757332710788, 0.12274595554517978, 0.589180586616863, 0.08592216888162585, 0.020511643366926496, 0.010255821683463248, 0.030767465050389742, 0.030767465050389742, 0.9025123081447658], \"Term\": [\"academic\", \"academic\", \"academic\", \"academic\", \"academic\", \"acceptance\", \"acceptance\", \"acceptance\", \"acceptance\", \"acceptance\", \"accuracy\", \"accuracy\", \"accuracy\", \"accuracy\", \"accuracy\", \"accurate\", \"accurate\", \"accurate\", \"accurate\", \"accurate\", \"advisor\", \"advisor\", \"advisor\", \"advisor\", \"africa\", \"africa\", \"africa\", \"africa\", \"africa\", \"ai\", \"ai\", \"ai\", \"ai\", \"ai\", \"algorithm\", \"algorithm\", \"algorithm\", \"algorithm\", \"algorithm\", \"alternative\", \"alternative\", \"alternative\", \"alternative\", \"alternative\", \"analysis\", \"analysis\", \"analysis\", \"analysis\", \"analysis\", \"application\", \"application\", \"application\", \"application\", \"application\", \"approach\", \"approach\", \"approach\", \"approach\", \"approach\", \"area\", \"area\", \"area\", \"area\", \"area\", \"artificial\", \"artificial\", \"artificial\", \"artificial\", \"artificial\", \"assessment\", \"assessment\", \"assessment\", \"assessment\", \"assessment\", \"asset\", \"asset\", \"asset\", \"asset\", \"asset\", \"average\", \"average\", \"average\", \"average\", \"average\", \"bank\", \"bank\", \"bank\", \"bank\", \"bank\", \"banking\", \"banking\", \"banking\", \"banking\", \"banking\", \"basis\", \"basis\", \"basis\", \"basis\", \"basis\", \"benchmark\", \"benchmark\", \"benchmark\", \"benchmark\", \"benchmark\", \"blockchain\", \"blockchain\", \"blockchain\", \"blockchain\", \"blockchain\", \"borrower\", \"borrower\", \"borrower\", \"borrower\", \"business\", \"business\", \"business\", \"business\", \"business\", \"capital\", \"capital\", \"capital\", \"capital\", \"capital\", \"case\", \"case\", \"case\", \"case\", \"case\", \"category\", \"category\", \"category\", \"category\", \"category\", \"central\", \"central\", \"central\", \"central\", \"central\", \"channel\", \"channel\", \"channel\", \"channel\", \"chapter\", \"chapter\", \"chapter\", \"chapter\", \"china\", \"china\", \"china\", \"china\", \"china\", \"cloud\", \"cloud\", \"cloud\", \"cloud\", \"cloud\", \"communication\", \"communication\", \"communication\", \"communication\", \"communication\", \"company\", \"company\", \"company\", \"company\", \"company\", \"competition\", \"competition\", \"competition\", \"competition\", \"competition\", \"consensus\", \"consensus\", \"consensus\", \"consensus\", \"consumer\", \"consumer\", \"consumer\", \"consumer\", \"consumer\", \"consumption\", \"consumption\", \"consumption\", \"consumption\", \"consumption\", \"contract\", \"contract\", \"contract\", \"contract\", \"contract\", \"corporate\", \"corporate\", \"corporate\", \"corporate\", \"corporate\", \"country\", \"country\", \"country\", \"country\", \"country\", \"credit\", \"credit\", \"credit\", \"credit\", \"credit\", \"cryptocurrencie\", \"cryptocurrencie\", \"cryptocurrencie\", \"cryptocurrencie\", \"cryptocurrencie\", \"cryptocurrency\", \"cryptocurrency\", \"cryptocurrency\", \"cryptocurrency\", \"cryptocurrency\", \"customer\", \"customer\", \"customer\", \"customer\", \"customer\", \"daily\", \"daily\", \"daily\", \"daily\", \"daily\", \"data\", \"data\", \"data\", \"data\", \"data\", \"database\", \"database\", \"database\", \"database\", \"database\", \"datum\", \"datum\", \"datum\", \"datum\", \"datum\", \"day\", \"day\", \"day\", \"day\", \"day\", \"deep\", \"deep\", \"deep\", \"deep\", \"deep\", \"default\", \"default\", \"default\", \"default\", \"default\", \"detection\", \"detection\", \"detection\", \"detection\", \"detection\", \"determinant\", \"determinant\", \"determinant\", \"determinant\", \"determinant\", \"development\", \"development\", \"development\", \"development\", \"development\", \"device\", \"device\", \"device\", \"device\", \"device\", \"different\", \"different\", \"different\", \"different\", \"different\", \"digital\", \"digital\", \"digital\", \"digital\", \"digital\", \"digitalization\", \"digitalization\", \"digitalization\", \"digitalization\", \"digitalization\", \"direction\", \"direction\", \"direction\", \"direction\", \"direction\", \"disruption\", \"disruption\", \"disruption\", \"disruption\", \"disruption\", \"domain\", \"domain\", \"domain\", \"domain\", \"domain\", \"economy\", \"economy\", \"economy\", \"economy\", \"economy\", \"effect\", \"effect\", \"effect\", \"effect\", \"effect\", \"efficiency\", \"efficiency\", \"efficiency\", \"efficiency\", \"efficiency\", \"electricity\", \"electricity\", \"electricity\", \"electricity\", \"electricity\", \"element\", \"element\", \"element\", \"element\", \"element\", \"emerald\", \"emerald\", \"emerald\", \"emerald\", \"emerald\", \"energy\", \"energy\", \"energy\", \"energy\", \"energy\", \"entrepreneur\", \"entrepreneur\", \"entrepreneur\", \"entrepreneur\", \"equation\", \"equation\", \"equation\", \"equation\", \"equation\", \"error\", \"error\", \"error\", \"error\", \"ethereum\", \"ethereum\", \"ethereum\", \"ethereum\", \"exchange\", \"exchange\", \"exchange\", \"exchange\", \"exchange\", \"extensive\", \"extensive\", \"extensive\", \"extensive\", \"extensive\", \"factor\", \"factor\", \"factor\", \"factor\", \"factor\", \"field\", \"field\", \"field\", \"field\", \"field\", \"finance\", \"finance\", \"finance\", \"finance\", \"finance\", \"financing\", \"financing\", \"financing\", \"financing\", \"financing\", \"finding\", \"finding\", \"finding\", \"finding\", \"finding\", \"fintechs\", \"fintechs\", \"fintechs\", \"fintechs\", \"fintechs\", \"firm\", \"firm\", \"firm\", \"firm\", \"firm\", \"forecast\", \"forecast\", \"forecast\", \"forecast\", \"forecast\", \"forecasting\", \"forecasting\", \"forecasting\", \"framework\", \"framework\", \"framework\", \"framework\", \"framework\", \"francis\", \"francis\", \"francis\", \"francis\", \"funding\", \"funding\", \"funding\", \"funding\", \"funding\", \"future\", \"future\", \"future\", \"future\", \"future\", \"generation\", \"generation\", \"generation\", \"generation\", \"generation\", \"governance\", \"governance\", \"governance\", \"governance\", \"governance\", \"green\", \"green\", \"green\", \"green\", \"green\", \"grid\", \"grid\", \"grid\", \"grid\", \"group\", \"group\", \"group\", \"group\", \"group\", \"growth\", \"growth\", \"growth\", \"growth\", \"growth\", \"high\", \"high\", \"high\", \"high\", \"high\", \"historical\", \"historical\", \"historical\", \"historical\", \"historical\", \"ieee\", \"ieee\", \"ieee\", \"ieee\", \"ieee\", \"impact\", \"impact\", \"impact\", \"impact\", \"impact\", \"implication\", \"implication\", \"implication\", \"implication\", \"implication\", \"inclusion\", \"inclusion\", \"inclusion\", \"inclusion\", \"inclusion\", \"income\", \"income\", \"income\", \"income\", \"income\", \"incumbent\", \"incumbent\", \"incumbent\", \"incumbent\", \"index\", \"index\", \"index\", \"index\", \"index\", \"india\", \"india\", \"india\", \"india\", \"india\", \"industry\", \"industry\", \"industry\", \"industry\", \"industry\", \"informa\", \"informa\", \"informa\", \"information\", \"information\", \"information\", \"information\", \"information\", \"innovation\", \"innovation\", \"innovation\", \"innovation\", \"innovation\", \"input\", \"input\", \"input\", \"input\", \"input\", \"institution\", \"institution\", \"institution\", \"institution\", \"institution\", \"institutional\", \"institutional\", \"institutional\", \"institutional\", \"institutional\", \"intelligence\", \"intelligence\", \"intelligence\", \"intelligence\", \"intelligence\", \"intelligent\", \"intelligent\", \"intelligent\", \"intelligent\", \"intelligent\", \"intention\", \"intention\", \"intention\", \"intention\", \"intention\", \"investment\", \"investment\", \"investment\", \"investment\", \"investment\", \"investor\", \"investor\", \"investor\", \"investor\", \"investor\", \"iot\", \"iot\", \"iot\", \"iot\", \"iot\", \"islamic\", \"islamic\", \"islamic\", \"islamic\", \"islamic\", \"journal\", \"journal\", \"journal\", \"journal\", \"journal\", \"language\", \"language\", \"language\", \"language\", \"language\", \"learning\", \"learning\", \"learning\", \"learning\", \"learning\", \"ledger\", \"ledger\", \"ledger\", \"ledger\", \"ledger\", \"lender\", \"lender\", \"lender\", \"lending\", \"lending\", \"lending\", \"lending\", \"lending\", \"limited\", \"limited\", \"limited\", \"limited\", \"limited\", \"linear\", \"linear\", \"linear\", \"linear\", \"linear\", \"literacy\", \"literacy\", \"literacy\", \"literacy\", \"literacy\", \"literature\", \"literature\", \"literature\", \"literature\", \"literature\", \"loan\", \"loan\", \"loan\", \"loan\", \"loan\", \"machine\", \"machine\", \"machine\", \"machine\", \"machine\", \"market\", \"market\", \"market\", \"market\", \"market\", \"mechanism\", \"mechanism\", \"mechanism\", \"mechanism\", \"mechanism\", \"memory\", \"memory\", \"memory\", \"method\", \"method\", \"method\", \"method\", \"method\", \"micro\", \"micro\", \"micro\", \"micro\", \"micro\", \"mobile\", \"mobile\", \"mobile\", \"mobile\", \"mobile\", \"model\", \"model\", \"model\", \"model\", \"model\", \"money\", \"money\", \"money\", \"money\", \"money\", \"movement\", \"movement\", \"movement\", \"movement\", \"movement\", \"network\", \"network\", \"network\", \"network\", \"network\", \"neural\", \"neural\", \"neural\", \"neural\", \"neural\", \"new\", \"new\", \"new\", \"new\", \"new\", \"node\", \"node\", \"node\", \"node\", \"node\", \"online\", \"online\", \"online\", \"online\", \"online\", \"organization\", \"organization\", \"organization\", \"organization\", \"organization\", \"originality\", \"originality\", \"originality\", \"originality\", \"originality\", \"panel\", \"panel\", \"panel\", \"panel\", \"paper\", \"paper\", \"paper\", \"paper\", \"paper\", \"partial\", \"partial\", \"partial\", \"partial\", \"partial\", \"party\", \"party\", \"party\", \"party\", \"party\", \"payment\", \"payment\", \"payment\", \"payment\", \"payment\", \"peer\", \"peer\", \"peer\", \"peer\", \"peer\", \"performance\", \"performance\", \"performance\", \"performance\", \"performance\", \"platform\", \"platform\", \"platform\", \"platform\", \"platform\", \"policy\", \"policy\", \"policy\", \"policy\", \"policy\", \"policymaker\", \"policymaker\", \"policymaker\", \"policymaker\", \"policymaker\", \"portfolio\", \"portfolio\", \"portfolio\", \"portfolio\", \"portfolio\", \"power\", \"power\", \"power\", \"power\", \"power\", \"practice\", \"practice\", \"practice\", \"practice\", \"practice\", \"practitioner\", \"practitioner\", \"practitioner\", \"practitioner\", \"practitioner\", \"prediction\", \"prediction\", \"prediction\", \"prediction\", \"prediction\", \"price\", \"price\", \"price\", \"price\", \"price\", \"privacy\", \"privacy\", \"privacy\", \"privacy\", \"privacy\", \"process\", \"process\", \"process\", \"process\", \"process\", \"product\", \"product\", \"product\", \"product\", \"product\", \"publication\", \"publication\", \"publication\", \"publication\", \"publication\", \"purpose\", \"purpose\", \"purpose\", \"purpose\", \"purpose\", \"qualitative\", \"qualitative\", \"qualitative\", \"qualitative\", \"qualitative\", \"random\", \"random\", \"random\", \"random\", \"random\", \"regulation\", \"regulation\", \"regulation\", \"regulation\", \"regulation\", \"regulatory\", \"regulatory\", \"regulatory\", \"regulatory\", \"regulatory\", \"relationship\", \"relationship\", \"relationship\", \"relationship\", \"relationship\", \"reliability\", \"reliability\", \"reliability\", \"reliability\", \"reliable\", \"reliable\", \"reliable\", \"reliable\", \"reliable\", \"research\", \"research\", \"research\", \"research\", \"research\", \"respondent\", \"respondent\", \"respondent\", \"respondent\", \"respondent\", \"result\", \"result\", \"result\", \"result\", \"result\", \"retail\", \"retail\", \"retail\", \"retail\", \"retail\", \"return\", \"return\", \"return\", \"return\", \"return\", \"review\", \"review\", \"review\", \"review\", \"review\", \"risk\", \"risk\", \"risk\", \"risk\", \"risk\", \"robo\", \"robo\", \"robo\", \"robo\", \"role\", \"role\", \"role\", \"role\", \"role\", \"sandbox\", \"sandbox\", \"sandbox\", \"sandbox\", \"satisfaction\", \"satisfaction\", \"satisfaction\", \"satisfaction\", \"satisfaction\", \"scheme\", \"scheme\", \"scheme\", \"scheme\", \"scheme\", \"science\", \"science\", \"science\", \"science\", \"science\", \"scientific\", \"scientific\", \"scientific\", \"scientific\", \"scientific\", \"sector\", \"sector\", \"sector\", \"sector\", \"sector\", \"secure\", \"secure\", \"secure\", \"secure\", \"secure\", \"security\", \"security\", \"security\", \"security\", \"security\", \"segment\", \"segment\", \"segment\", \"segment\", \"segment\", \"series\", \"series\", \"series\", \"series\", \"series\", \"service\", \"service\", \"service\", \"service\", \"service\", \"short\", \"short\", \"short\", \"short\", \"short\", \"small\", \"small\", \"small\", \"small\", \"small\", \"smart\", \"smart\", \"smart\", \"smart\", \"smart\", \"sme\", \"sme\", \"sme\", \"sme\", \"sme\", \"social\", \"social\", \"social\", \"social\", \"social\", \"solution\", \"solution\", \"solution\", \"solution\", \"solution\", \"south\", \"south\", \"south\", \"south\", \"south\", \"stability\", \"stability\", \"stability\", \"stability\", \"stability\", \"startup\", \"startup\", \"startup\", \"startup\", \"startup\", \"stock\", \"stock\", \"stock\", \"stock\", \"stock\", \"strategy\", \"strategy\", \"strategy\", \"strategy\", \"strategy\", \"study\", \"study\", \"study\", \"study\", \"study\", \"subject\", \"subject\", \"subject\", \"subject\", \"subject\", \"success\", \"success\", \"success\", \"success\", \"success\", \"sustainability\", \"sustainability\", \"sustainability\", \"sustainability\", \"sustainability\", \"sustainable\", \"sustainable\", \"sustainable\", \"sustainable\", \"sustainable\", \"system\", \"system\", \"system\", \"system\", \"system\", \"systematic\", \"systematic\", \"systematic\", \"systematic\", \"systematic\", \"taylor\", \"taylor\", \"taylor\", \"taylor\", \"tech\", \"tech\", \"tech\", \"tech\", \"tech\", \"technique\", \"technique\", \"technique\", \"technique\", \"technique\", \"time\", \"time\", \"time\", \"time\", \"time\", \"topic\", \"topic\", \"topic\", \"topic\", \"topic\", \"trading\", \"trading\", \"trading\", \"trading\", \"trading\", \"traditional\", \"traditional\", \"traditional\", \"traditional\", \"traditional\", \"transaction\", \"transaction\", \"transaction\", \"transaction\", \"transaction\", \"trust\", \"trust\", \"trust\", \"trust\", \"trust\", \"uk\", \"uk\", \"uk\", \"uk\", \"uncertainty\", \"uncertainty\", \"uncertainty\", \"uncertainty\", \"uncertainty\", \"up\", \"up\", \"up\", \"up\", \"up\", \"use\", \"use\", \"use\", \"use\", \"use\", \"usefulness\", \"usefulness\", \"usefulness\", \"usefulness\", \"user\", \"user\", \"user\", \"user\", \"user\", \"value\", \"value\", \"value\", \"value\", \"value\", \"virtual\", \"virtual\", \"virtual\", \"virtual\", \"virtual\", \"volatility\", \"volatility\", \"volatility\", \"volatility\", \"volatility\"]}, \"R\": 30, \"lambda.step\": 0.01, \"plot.opts\": {\"xlab\": \"PC1\", \"ylab\": \"PC2\"}, \"topic.order\": [5, 3, 1, 2, 4]};\n",
              "\n",
              "function LDAvis_load_lib(url, callback){\n",
              "  var s = document.createElement('script');\n",
              "  s.src = url;\n",
              "  s.async = true;\n",
              "  s.onreadystatechange = s.onload = callback;\n",
              "  s.onerror = function(){console.warn(\"failed to load library \" + url);};\n",
              "  document.getElementsByTagName(\"head\")[0].appendChild(s);\n",
              "}\n",
              "\n",
              "if(typeof(LDAvis) !== \"undefined\"){\n",
              "   // already loaded: just create the visualization\n",
              "   !function(LDAvis){\n",
              "       new LDAvis(\"#\" + \"ldavis_el439629229177876801753825176\", ldavis_el439629229177876801753825176_data);\n",
              "   }(LDAvis);\n",
              "}else if(typeof define === \"function\" && define.amd){\n",
              "   // require.js is available: use it to load d3/LDAvis\n",
              "   require.config({paths: {d3: \"https://d3js.org/d3.v5\"}});\n",
              "   require([\"d3\"], function(d3){\n",
              "      window.d3 = d3;\n",
              "      LDAvis_load_lib(\"https://cdn.jsdelivr.net/gh/bmabey/pyLDAvis@3.3.1/pyLDAvis/js/ldavis.v3.0.0.js\", function(){\n",
              "        new LDAvis(\"#\" + \"ldavis_el439629229177876801753825176\", ldavis_el439629229177876801753825176_data);\n",
              "      });\n",
              "    });\n",
              "}else{\n",
              "    // require.js not available: dynamically load d3 & LDAvis\n",
              "    LDAvis_load_lib(\"https://d3js.org/d3.v5.js\", function(){\n",
              "         LDAvis_load_lib(\"https://cdn.jsdelivr.net/gh/bmabey/pyLDAvis@3.3.1/pyLDAvis/js/ldavis.v3.0.0.js\", function(){\n",
              "                 new LDAvis(\"#\" + \"ldavis_el439629229177876801753825176\", ldavis_el439629229177876801753825176_data);\n",
              "            })\n",
              "         });\n",
              "}\n",
              "</script>"
            ],
            "text/plain": [
              "<IPython.core.display.HTML object>"
            ]
          },
          "execution_count": 93,
          "metadata": {},
          "output_type": "execute_result"
        }
      ],
      "source": [
        " # Let's Visualize\n",
        "pyLDAvis.display(lda_display_2)"
      ]
    },
    {
      "cell_type": "code",
      "execution_count": 94,
      "metadata": {},
      "outputs": [],
      "source": [
        "topic_dist_2 = lda_model_2[corpus_2]"
      ]
    },
    {
      "cell_type": "code",
      "execution_count": 95,
      "metadata": {},
      "outputs": [
        {
          "name": "stderr",
          "output_type": "stream",
          "text": [
            "C:\\Users\\maart\\AppData\\Local\\Temp\\ipykernel_4396\\1577890192.py:7: SettingWithCopyWarning: \n",
            "A value is trying to be set on a copy of a slice from a DataFrame.\n",
            "Try using .loc[row_indexer,col_indexer] = value instead\n",
            "\n",
            "See the caveats in the documentation: https://pandas.pydata.org/pandas-docs/stable/user_guide/indexing.html#returning-a-view-versus-a-copy\n",
            "  data['Topic Distribution_2'] = dist_2\n"
          ]
        }
      ],
      "source": [
        "dist_2 = []\n",
        "\n",
        "for t_2 in topic_dist_2:\n",
        "    dist_2.append(t_2)  \n",
        "    \n",
        "# add list to the data frame\n",
        "data['Topic Distribution_2'] = dist_2"
      ]
    },
    {
      "cell_type": "code",
      "execution_count": 96,
      "metadata": {},
      "outputs": [],
      "source": [
        "data.reset_index(inplace=True)"
      ]
    },
    {
      "cell_type": "code",
      "execution_count": 97,
      "metadata": {},
      "outputs": [
        {
          "name": "stderr",
          "output_type": "stream",
          "text": [
            "C:\\Users\\maart\\AppData\\Local\\Temp\\ipykernel_4396\\1449392197.py:4: SettingWithCopyWarning: \n",
            "A value is trying to be set on a copy of a slice from a DataFrame.\n",
            "Try using .loc[row_indexer,col_indexer] = value instead\n",
            "\n",
            "See the caveats in the documentation: https://pandas.pydata.org/pandas-docs/stable/user_guide/indexing.html#returning-a-view-versus-a-copy\n",
            "  data['topic_num:2'] = list_topicnum_2\n"
          ]
        }
      ],
      "source": [
        "list_topicnum_2 = []\n",
        "for itm in range(len(data)):\n",
        "    list_topicnum_2.append(sorted(data['Topic Distribution_2'][itm], key=lambda tup: tup[1], reverse=True)[0][0])\n",
        "data['topic_num:2'] = list_topicnum_2"
      ]
    },
    {
      "cell_type": "code",
      "execution_count": 98,
      "metadata": {},
      "outputs": [
        {
          "ename": "KeyError",
          "evalue": "'topic_num_2'",
          "output_type": "error",
          "traceback": [
            "\u001b[1;31m---------------------------------------------------------------------------\u001b[0m",
            "\u001b[1;31mKeyError\u001b[0m                                  Traceback (most recent call last)",
            "File \u001b[1;32mc:\\Users\\maart\\anaconda3\\lib\\site-packages\\pandas\\core\\indexes\\base.py:3621\u001b[0m, in \u001b[0;36mIndex.get_loc\u001b[1;34m(self, key, method, tolerance)\u001b[0m\n\u001b[0;32m   3620\u001b[0m \u001b[39mtry\u001b[39;00m:\n\u001b[1;32m-> 3621\u001b[0m     \u001b[39mreturn\u001b[39;00m \u001b[39mself\u001b[39;49m\u001b[39m.\u001b[39;49m_engine\u001b[39m.\u001b[39;49mget_loc(casted_key)\n\u001b[0;32m   3622\u001b[0m \u001b[39mexcept\u001b[39;00m \u001b[39mKeyError\u001b[39;00m \u001b[39mas\u001b[39;00m err:\n",
            "File \u001b[1;32mc:\\Users\\maart\\anaconda3\\lib\\site-packages\\pandas\\_libs\\index.pyx:136\u001b[0m, in \u001b[0;36mpandas._libs.index.IndexEngine.get_loc\u001b[1;34m()\u001b[0m\n",
            "File \u001b[1;32mc:\\Users\\maart\\anaconda3\\lib\\site-packages\\pandas\\_libs\\index.pyx:163\u001b[0m, in \u001b[0;36mpandas._libs.index.IndexEngine.get_loc\u001b[1;34m()\u001b[0m\n",
            "File \u001b[1;32mpandas\\_libs\\hashtable_class_helper.pxi:5198\u001b[0m, in \u001b[0;36mpandas._libs.hashtable.PyObjectHashTable.get_item\u001b[1;34m()\u001b[0m\n",
            "File \u001b[1;32mpandas\\_libs\\hashtable_class_helper.pxi:5206\u001b[0m, in \u001b[0;36mpandas._libs.hashtable.PyObjectHashTable.get_item\u001b[1;34m()\u001b[0m\n",
            "\u001b[1;31mKeyError\u001b[0m: 'topic_num_2'",
            "\nThe above exception was the direct cause of the following exception:\n",
            "\u001b[1;31mKeyError\u001b[0m                                  Traceback (most recent call last)",
            "\u001b[1;32mc:\\Users\\maart\\OneDrive\\Skrivebord\\M2\\Module-2\\NLP_copu.ipynb Cell 51\u001b[0m in \u001b[0;36m<cell line: 2>\u001b[1;34m()\u001b[0m\n\u001b[0;32m      <a href='vscode-notebook-cell:/c%3A/Users/maart/OneDrive/Skrivebord/M2/Module-2/NLP_copu.ipynb#Y415sZmlsZQ%3D%3D?line=0'>1</a>\u001b[0m \u001b[39m# We change the cluster numbers to qualitively interpreted labels\u001b[39;00m\n\u001b[1;32m----> <a href='vscode-notebook-cell:/c%3A/Users/maart/OneDrive/Skrivebord/M2/Module-2/NLP_copu.ipynb#Y415sZmlsZQ%3D%3D?line=1'>2</a>\u001b[0m data[\u001b[39m'\u001b[39m\u001b[39mtopic_num_2\u001b[39m\u001b[39m'\u001b[39m] \u001b[39m=\u001b[39m data[\u001b[39m'\u001b[39;49m\u001b[39mtopic_num_2\u001b[39;49m\u001b[39m'\u001b[39;49m]\u001b[39m.\u001b[39mreplace(\u001b[39m0\u001b[39m,\u001b[39m'\u001b[39m\u001b[39m'\u001b[39m)\n\u001b[0;32m      <a href='vscode-notebook-cell:/c%3A/Users/maart/OneDrive/Skrivebord/M2/Module-2/NLP_copu.ipynb#Y415sZmlsZQ%3D%3D?line=2'>3</a>\u001b[0m data[\u001b[39m'\u001b[39m\u001b[39mtopic_num_2\u001b[39m\u001b[39m'\u001b[39m] \u001b[39m=\u001b[39m data[\u001b[39m'\u001b[39m\u001b[39mtopic_num_2\u001b[39m\u001b[39m'\u001b[39m]\u001b[39m.\u001b[39mreplace(\u001b[39m1\u001b[39m,\u001b[39m'\u001b[39m\u001b[39m'\u001b[39m)\n\u001b[0;32m      <a href='vscode-notebook-cell:/c%3A/Users/maart/OneDrive/Skrivebord/M2/Module-2/NLP_copu.ipynb#Y415sZmlsZQ%3D%3D?line=3'>4</a>\u001b[0m data[\u001b[39m'\u001b[39m\u001b[39mtopic_num_2\u001b[39m\u001b[39m'\u001b[39m] \u001b[39m=\u001b[39m data[\u001b[39m'\u001b[39m\u001b[39mtopic_num_2\u001b[39m\u001b[39m'\u001b[39m]\u001b[39m.\u001b[39mreplace(\u001b[39m2\u001b[39m,\u001b[39m'\u001b[39m\u001b[39m'\u001b[39m)\n",
            "File \u001b[1;32mc:\\Users\\maart\\anaconda3\\lib\\site-packages\\pandas\\core\\frame.py:3505\u001b[0m, in \u001b[0;36mDataFrame.__getitem__\u001b[1;34m(self, key)\u001b[0m\n\u001b[0;32m   3503\u001b[0m \u001b[39mif\u001b[39;00m \u001b[39mself\u001b[39m\u001b[39m.\u001b[39mcolumns\u001b[39m.\u001b[39mnlevels \u001b[39m>\u001b[39m \u001b[39m1\u001b[39m:\n\u001b[0;32m   3504\u001b[0m     \u001b[39mreturn\u001b[39;00m \u001b[39mself\u001b[39m\u001b[39m.\u001b[39m_getitem_multilevel(key)\n\u001b[1;32m-> 3505\u001b[0m indexer \u001b[39m=\u001b[39m \u001b[39mself\u001b[39;49m\u001b[39m.\u001b[39;49mcolumns\u001b[39m.\u001b[39;49mget_loc(key)\n\u001b[0;32m   3506\u001b[0m \u001b[39mif\u001b[39;00m is_integer(indexer):\n\u001b[0;32m   3507\u001b[0m     indexer \u001b[39m=\u001b[39m [indexer]\n",
            "File \u001b[1;32mc:\\Users\\maart\\anaconda3\\lib\\site-packages\\pandas\\core\\indexes\\base.py:3623\u001b[0m, in \u001b[0;36mIndex.get_loc\u001b[1;34m(self, key, method, tolerance)\u001b[0m\n\u001b[0;32m   3621\u001b[0m     \u001b[39mreturn\u001b[39;00m \u001b[39mself\u001b[39m\u001b[39m.\u001b[39m_engine\u001b[39m.\u001b[39mget_loc(casted_key)\n\u001b[0;32m   3622\u001b[0m \u001b[39mexcept\u001b[39;00m \u001b[39mKeyError\u001b[39;00m \u001b[39mas\u001b[39;00m err:\n\u001b[1;32m-> 3623\u001b[0m     \u001b[39mraise\u001b[39;00m \u001b[39mKeyError\u001b[39;00m(key) \u001b[39mfrom\u001b[39;00m \u001b[39merr\u001b[39;00m\n\u001b[0;32m   3624\u001b[0m \u001b[39mexcept\u001b[39;00m \u001b[39mTypeError\u001b[39;00m:\n\u001b[0;32m   3625\u001b[0m     \u001b[39m# If we have a listlike key, _check_indexing_error will raise\u001b[39;00m\n\u001b[0;32m   3626\u001b[0m     \u001b[39m#  InvalidIndexError. Otherwise we fall through and re-raise\u001b[39;00m\n\u001b[0;32m   3627\u001b[0m     \u001b[39m#  the TypeError.\u001b[39;00m\n\u001b[0;32m   3628\u001b[0m     \u001b[39mself\u001b[39m\u001b[39m.\u001b[39m_check_indexing_error(key)\n",
            "\u001b[1;31mKeyError\u001b[0m: 'topic_num_2'"
          ]
        }
      ],
      "source": [
        "# We change the cluster numbers to qualitively interpreted labels\n",
        "data['topic_num_2'] = data['topic_num_2'].replace(0,'')\n",
        "data['topic_num_2'] = data['topic_num_2'].replace(1,'')\n",
        "data['topic_num_2'] = data['topic_num_2'].replace(2,'')\n",
        "data['topic_num_2'] = data['topic_num_2'].replace(3,'')\n",
        "data['topic_num_2'] = data['topic_num_2'].replace(4,'')"
      ]
    },
    {
      "cell_type": "code",
      "execution_count": null,
      "metadata": {},
      "outputs": [],
      "source": [
        "#Checking if we need to fix the distribution of the data\n",
        "data['topic_num_2'].value_counts()"
      ]
    },
    {
      "cell_type": "code",
      "execution_count": null,
      "metadata": {},
      "outputs": [],
      "source": [
        "data['labels_2'] = data['topic_num_2'] "
      ]
    },
    {
      "cell_type": "markdown",
      "metadata": {},
      "source": [
        "### LDA For Author Keywords"
      ]
    },
    {
      "cell_type": "code",
      "execution_count": null,
      "metadata": {},
      "outputs": [],
      "source": [
        "lda_model = LdaMulticore(corpus, id2word=dictionary, num_topics=5, workers = 4, passes=10, random_state = 60)"
      ]
    },
    {
      "cell_type": "code",
      "execution_count": null,
      "metadata": {},
      "outputs": [],
      "source": [
        "# Let's try to visualize\n",
        "lda_display = pyLDAvis.gensim_models.prepare(lda_model, corpus, dictionary)"
      ]
    },
    {
      "cell_type": "code",
      "execution_count": null,
      "metadata": {},
      "outputs": [],
      "source": [
        " # Let's Visualize\n",
        "pyLDAvis.display(lda_display)"
      ]
    },
    {
      "cell_type": "code",
      "execution_count": null,
      "metadata": {},
      "outputs": [],
      "source": [
        "topic_dist = lda_model[corpus]"
      ]
    },
    {
      "cell_type": "code",
      "execution_count": null,
      "metadata": {},
      "outputs": [],
      "source": [
        "dist = []\n",
        "\n",
        "for t in topic_dist:\n",
        "    dist.append(t)  \n",
        "    \n",
        "# add list to the data frame\n",
        "data['Topic Distribution'] = dist"
      ]
    },
    {
      "cell_type": "code",
      "execution_count": null,
      "metadata": {},
      "outputs": [],
      "source": [
        "data.reset_index(inplace=True)"
      ]
    },
    {
      "cell_type": "code",
      "execution_count": null,
      "metadata": {},
      "outputs": [],
      "source": [
        "list_topicnum = []\n",
        "for itm in range(len(data)):\n",
        "    list_topicnum.append(sorted(data['Topic Distribution'][itm], key=lambda tup: tup[1], reverse=True)[0][0])\n",
        "data['topic_num'] = list_topicnum"
      ]
    },
    {
      "cell_type": "code",
      "execution_count": null,
      "metadata": {},
      "outputs": [],
      "source": [
        "# We change the cluster numbers to qualitively interpreted labels\n",
        "data['topic_num'] = data['topic_num'].replace(0,'Fintech')\n",
        "data['topic_num'] = data['topic_num'].replace(1,'AI')\n",
        "data['topic_num'] = data['topic_num'].replace(2,'Cryptocurrency')\n",
        "data['topic_num'] = data['topic_num'].replace(3,'Digital Banking')\n",
        "data['topic_num'] = data['topic_num'].replace(4,'Risk Exposure')"
      ]
    },
    {
      "cell_type": "code",
      "execution_count": null,
      "metadata": {},
      "outputs": [],
      "source": [
        "#Checking if we need to fix the distribution of the data\n",
        "data['topic_num'].value_counts()"
      ]
    },
    {
      "cell_type": "code",
      "execution_count": null,
      "metadata": {},
      "outputs": [],
      "source": [
        "data['topic_num'].info()"
      ]
    },
    {
      "cell_type": "code",
      "execution_count": null,
      "metadata": {},
      "outputs": [],
      "source": [
        "data['labels'] = data['topic_num'] "
      ]
    },
    {
      "cell_type": "markdown",
      "metadata": {
        "id": "uDet_IXID2Uc"
      },
      "source": [
        "#### Training the SML model"
      ]
    },
    {
      "cell_type": "code",
      "execution_count": null,
      "metadata": {
        "id": "DzL2SVUND2Uc"
      },
      "outputs": [],
      "source": [
        "# from sklearn.preprocessing import LabelEncoder"
      ]
    },
    {
      "cell_type": "code",
      "execution_count": null,
      "metadata": {
        "id": "bJ67g1vrD2Uc"
      },
      "outputs": [],
      "source": [
        "# le_keywords = LabelEncoder()\n",
        "# # le_text_clean = LabelEncoder()"
      ]
    },
    {
      "cell_type": "code",
      "execution_count": null,
      "metadata": {
        "id": "rsMUaSbTD2Ud"
      },
      "outputs": [],
      "source": [
        "# data['Keyword_ID'] = le_keywords.fit_transform(data['Author Keywords'])"
      ]
    },
    {
      "cell_type": "code",
      "execution_count": null,
      "metadata": {
        "id": "EuMRL3RDD2Ud"
      },
      "outputs": [],
      "source": [
        "# data['text_clean_ID'] = le_text_clean.fit_transform(data['text_clean'])"
      ]
    },
    {
      "cell_type": "code",
      "execution_count": null,
      "metadata": {
        "id": "RJTpy-41D2Ue"
      },
      "outputs": [],
      "source": [
        "# from collections import Counter\n",
        "# from numpy.random import RandomState\n",
        "# from sklearn.datasets import make_classification\n",
        "# from imblearn.over_sampling import SMOTE\n",
        "# smote = SMOTE()"
      ]
    },
    {
      "cell_type": "code",
      "execution_count": null,
      "metadata": {
        "id": "QOHDVCd0D2Ue"
      },
      "outputs": [],
      "source": [
        "# # Here we use oversampling, since the distribution of the y value is skewed \n",
        "# X_train_SMOTE, y_train_SMOTE = smote.fit_resample(data['Abstract'], data['topic_num'])"
      ]
    },
    {
      "cell_type": "code",
      "execution_count": null,
      "metadata": {
        "id": "8C8S-54RD2Ue"
      },
      "outputs": [],
      "source": [
        "# Splitting the dataset into the Training set and Test set (since we have a new output variable)\n",
        "X_train, X_test, y_train, y_test = train_test_split(data['Abstract'], data['topic_num'], test_size = 0.2, random_state = 42)"
      ]
    },
    {
      "cell_type": "code",
      "execution_count": null,
      "metadata": {
        "id": "oK9aGXmVD2Uf"
      },
      "outputs": [],
      "source": [
        "#instantiate models and \"bundle up as pipeline\"\n",
        "\n",
        "tfidf = TfidfVectorizer()\n",
        "cls = LogisticRegression()\n",
        "\n",
        "pipe1 = make_pipeline(tfidf, cls)"
      ]
    },
    {
      "cell_type": "code",
      "execution_count": null,
      "metadata": {},
      "outputs": [],
      "source": [
        "# from sklearn.linear_model import LinearRegression\n",
        "# model_ols = LinearRegression()"
      ]
    },
    {
      "cell_type": "code",
      "execution_count": null,
      "metadata": {},
      "outputs": [],
      "source": [
        "# model_ols.fit(X_train, y_train)"
      ]
    },
    {
      "cell_type": "code",
      "execution_count": null,
      "metadata": {},
      "outputs": [],
      "source": [
        "# from xgboost import XGBRegressor\n",
        "# model_xgb = XGBRegressor()"
      ]
    },
    {
      "cell_type": "code",
      "execution_count": null,
      "metadata": {},
      "outputs": [],
      "source": [
        "# #Running the model for training\n",
        "# model_xgb.fit(X_train, y_train)"
      ]
    },
    {
      "cell_type": "code",
      "execution_count": null,
      "metadata": {
        "id": "DAykPYH7D2Uf"
      },
      "outputs": [],
      "source": [
        "pipe.fit(X_train,y_train) # fit model"
      ]
    },
    {
      "cell_type": "code",
      "execution_count": null,
      "metadata": {
        "id": "CeeJtD-wD2Uf"
      },
      "outputs": [],
      "source": [
        "# evaluate model performance on training set\n",
        "\n",
        "y_eval = pipe.predict(X_train)\n",
        "report = classification_report(y_train, y_eval)\n",
        "print(report)"
      ]
    },
    {
      "cell_type": "code",
      "execution_count": null,
      "metadata": {
        "id": "D2DVUJrfD2Uf"
      },
      "outputs": [],
      "source": [
        "# evaluate model performance on test set\n",
        "\n",
        "y_pred = pipe.predict(X_test)\n",
        "report = classification_report(y_test, y_pred)\n",
        "print(report)"
      ]
    },
    {
      "cell_type": "code",
      "execution_count": null,
      "metadata": {
        "id": "XwF9Rx_fD2Uf"
      },
      "outputs": [],
      "source": [
        "t1 = ['haha i want to kill myself with a bomb risk risk risk']"
      ]
    },
    {
      "cell_type": "code",
      "execution_count": null,
      "metadata": {
        "id": "l8Hd5FPoD2Ug"
      },
      "outputs": [],
      "source": [
        "t1_p = text_prepro(pd.Series(t1))"
      ]
    },
    {
      "cell_type": "code",
      "execution_count": null,
      "metadata": {
        "id": "_iLnbvgmD2Ug"
      },
      "outputs": [],
      "source": [
        "pipe.predict (t1_p)"
      ]
    },
    {
      "cell_type": "markdown",
      "metadata": {
        "id": "KgHWMeFoD2Uh"
      },
      "source": [
        "### We will use a coherence matrix Author Keywords"
      ]
    },
    {
      "cell_type": "code",
      "execution_count": null,
      "metadata": {
        "id": "l34LZpTID2Uh"
      },
      "outputs": [],
      "source": [
        "# cm = CoherenceModel(model=lda_model, corpus=corpus, coherence='u_mass')\n",
        "# coherence = cm.get_coherence()  # get coherence value"
      ]
    },
    {
      "cell_type": "code",
      "execution_count": null,
      "metadata": {
        "id": "S9iUkppxD2Uh"
      },
      "outputs": [],
      "source": [
        "data = data.reset_index()"
      ]
    },
    {
      "cell_type": "code",
      "execution_count": null,
      "metadata": {
        "id": "CNBItmApD2Uh"
      },
      "outputs": [
        {
          "data": {
            "text/plain": [
              "(2781, 12)"
            ]
          },
          "execution_count": 52,
          "metadata": {},
          "output_type": "execute_result"
        }
      ],
      "source": [
        "data.shape"
      ]
    },
    {
      "cell_type": "code",
      "execution_count": null,
      "metadata": {
        "id": "0Z2zstzJD2Uh"
      },
      "outputs": [
        {
          "ename": "KeyError",
          "evalue": "'tokens'",
          "output_type": "error",
          "traceback": [
            "\u001b[1;31m---------------------------------------------------------------------------\u001b[0m",
            "\u001b[1;31mKeyError\u001b[0m                                  Traceback (most recent call last)",
            "File \u001b[1;32mc:\\Users\\maart\\anaconda3\\lib\\site-packages\\pandas\\core\\indexes\\base.py:3621\u001b[0m, in \u001b[0;36mIndex.get_loc\u001b[1;34m(self, key, method, tolerance)\u001b[0m\n\u001b[0;32m   3620\u001b[0m \u001b[39mtry\u001b[39;00m:\n\u001b[1;32m-> 3621\u001b[0m     \u001b[39mreturn\u001b[39;00m \u001b[39mself\u001b[39;49m\u001b[39m.\u001b[39;49m_engine\u001b[39m.\u001b[39;49mget_loc(casted_key)\n\u001b[0;32m   3622\u001b[0m \u001b[39mexcept\u001b[39;00m \u001b[39mKeyError\u001b[39;00m \u001b[39mas\u001b[39;00m err:\n",
            "File \u001b[1;32mc:\\Users\\maart\\anaconda3\\lib\\site-packages\\pandas\\_libs\\index.pyx:136\u001b[0m, in \u001b[0;36mpandas._libs.index.IndexEngine.get_loc\u001b[1;34m()\u001b[0m\n",
            "File \u001b[1;32mc:\\Users\\maart\\anaconda3\\lib\\site-packages\\pandas\\_libs\\index.pyx:163\u001b[0m, in \u001b[0;36mpandas._libs.index.IndexEngine.get_loc\u001b[1;34m()\u001b[0m\n",
            "File \u001b[1;32mpandas\\_libs\\hashtable_class_helper.pxi:5198\u001b[0m, in \u001b[0;36mpandas._libs.hashtable.PyObjectHashTable.get_item\u001b[1;34m()\u001b[0m\n",
            "File \u001b[1;32mpandas\\_libs\\hashtable_class_helper.pxi:5206\u001b[0m, in \u001b[0;36mpandas._libs.hashtable.PyObjectHashTable.get_item\u001b[1;34m()\u001b[0m\n",
            "\u001b[1;31mKeyError\u001b[0m: 'tokens'",
            "\nThe above exception was the direct cause of the following exception:\n",
            "\u001b[1;31mKeyError\u001b[0m                                  Traceback (most recent call last)",
            "\u001b[1;32mc:\\Users\\maart\\OneDrive\\Skrivebord\\M2\\Module-2\\NLP_copu.ipynb Cell 89\u001b[0m in \u001b[0;36m<cell line: 1>\u001b[1;34m()\u001b[0m\n\u001b[1;32m----> <a href='vscode-notebook-cell:/c%3A/Users/maart/OneDrive/Skrivebord/M2/Module-2/NLP_copu.ipynb#Y344sZmlsZQ%3D%3D?line=0'>1</a>\u001b[0m data \u001b[39m=\u001b[39m data[data[\u001b[39m\"\u001b[39;49m\u001b[39mtokens\u001b[39;49m\u001b[39m\"\u001b[39;49m]\u001b[39m.\u001b[39mstr\u001b[39m.\u001b[39mlen() \u001b[39m!=\u001b[39m \u001b[39m0\u001b[39m]\n",
            "File \u001b[1;32mc:\\Users\\maart\\anaconda3\\lib\\site-packages\\pandas\\core\\frame.py:3505\u001b[0m, in \u001b[0;36mDataFrame.__getitem__\u001b[1;34m(self, key)\u001b[0m\n\u001b[0;32m   3503\u001b[0m \u001b[39mif\u001b[39;00m \u001b[39mself\u001b[39m\u001b[39m.\u001b[39mcolumns\u001b[39m.\u001b[39mnlevels \u001b[39m>\u001b[39m \u001b[39m1\u001b[39m:\n\u001b[0;32m   3504\u001b[0m     \u001b[39mreturn\u001b[39;00m \u001b[39mself\u001b[39m\u001b[39m.\u001b[39m_getitem_multilevel(key)\n\u001b[1;32m-> 3505\u001b[0m indexer \u001b[39m=\u001b[39m \u001b[39mself\u001b[39;49m\u001b[39m.\u001b[39;49mcolumns\u001b[39m.\u001b[39;49mget_loc(key)\n\u001b[0;32m   3506\u001b[0m \u001b[39mif\u001b[39;00m is_integer(indexer):\n\u001b[0;32m   3507\u001b[0m     indexer \u001b[39m=\u001b[39m [indexer]\n",
            "File \u001b[1;32mc:\\Users\\maart\\anaconda3\\lib\\site-packages\\pandas\\core\\indexes\\base.py:3623\u001b[0m, in \u001b[0;36mIndex.get_loc\u001b[1;34m(self, key, method, tolerance)\u001b[0m\n\u001b[0;32m   3621\u001b[0m     \u001b[39mreturn\u001b[39;00m \u001b[39mself\u001b[39m\u001b[39m.\u001b[39m_engine\u001b[39m.\u001b[39mget_loc(casted_key)\n\u001b[0;32m   3622\u001b[0m \u001b[39mexcept\u001b[39;00m \u001b[39mKeyError\u001b[39;00m \u001b[39mas\u001b[39;00m err:\n\u001b[1;32m-> 3623\u001b[0m     \u001b[39mraise\u001b[39;00m \u001b[39mKeyError\u001b[39;00m(key) \u001b[39mfrom\u001b[39;00m \u001b[39merr\u001b[39;00m\n\u001b[0;32m   3624\u001b[0m \u001b[39mexcept\u001b[39;00m \u001b[39mTypeError\u001b[39;00m:\n\u001b[0;32m   3625\u001b[0m     \u001b[39m# If we have a listlike key, _check_indexing_error will raise\u001b[39;00m\n\u001b[0;32m   3626\u001b[0m     \u001b[39m#  InvalidIndexError. Otherwise we fall through and re-raise\u001b[39;00m\n\u001b[0;32m   3627\u001b[0m     \u001b[39m#  the TypeError.\u001b[39;00m\n\u001b[0;32m   3628\u001b[0m     \u001b[39mself\u001b[39m\u001b[39m.\u001b[39m_check_indexing_error(key)\n",
            "\u001b[1;31mKeyError\u001b[0m: 'tokens'"
          ]
        }
      ],
      "source": [
        "data = data[data[\"tokens\"].str.len() != 0]"
      ]
    },
    {
      "cell_type": "code",
      "execution_count": null,
      "metadata": {
        "id": "Tl5FsA6qD2Ui"
      },
      "outputs": [],
      "source": [
        "corpus = data['tokens']"
      ]
    },
    {
      "cell_type": "code",
      "execution_count": null,
      "metadata": {
        "id": "3EIg_0OCD2Ui"
      },
      "outputs": [],
      "source": [
        "data.tokens.value_counts().reset_index()"
      ]
    },
    {
      "cell_type": "code",
      "execution_count": null,
      "metadata": {
        "id": "G4KIGKqGD2Ui"
      },
      "outputs": [],
      "source": [
        "dirichlet_dict = corpora.Dictionary(corpus)\n",
        "bow_corpus = [dirichlet_dict.doc2bow(text) for text in corpus]\n",
        "\n",
        "# Considering 1-15 topics, as the last is cut off\n",
        "num_topics = list(range(10)[1:])\n",
        "num_keywords = 15\n",
        "\n",
        "LDA_models = {}\n",
        "LDA_topics = {}\n",
        "for i in num_topics:\n",
        "    LDA_models[i] = LdaModel(corpus=bow_corpus,\n",
        "                             id2word=dirichlet_dict,\n",
        "                             num_topics=i,\n",
        "                             update_every=1,\n",
        "                             chunksize=len(bow_corpus),\n",
        "                             passes=10,\n",
        "                             alpha='auto',\n",
        "                             random_state=42)\n",
        "\n",
        "    shown_topics = LDA_models[i].show_topics(num_topics=i, \n",
        "                                             num_words=num_keywords,\n",
        "                                             formatted=False)\n",
        "    LDA_topics[i] = [[word[0] for word in topic[1]] for topic in shown_topics]"
      ]
    },
    {
      "cell_type": "code",
      "execution_count": null,
      "metadata": {
        "id": "VmTZo_WHD2Uj"
      },
      "outputs": [],
      "source": [
        "def jaccard_similarity(topic_1, topic_2):\n",
        "    \"\"\"\n",
        "    Derives the Jaccard similarity of two topics\n",
        "\n",
        "    Jaccard similarity:\n",
        "    - A statistic used for comparing the similarity and diversity of sample sets\n",
        "    - J(A,B) = (A ∩ B)/(A ∪ B)\n",
        "    - Goal is low Jaccard scores for coverage of the diverse elements\n",
        "    \"\"\"\n",
        "    intersection = set(topic_1).intersection(set(topic_2))\n",
        "    union = set(topic_1).union(set(topic_2))\n",
        "                    \n",
        "    return float(len(intersection))/float(len(union))"
      ]
    },
    {
      "cell_type": "code",
      "execution_count": null,
      "metadata": {
        "id": "FvJ5jSseD2Uj"
      },
      "outputs": [],
      "source": [
        "LDA_stability = {}\n",
        "for i in range(0, len(num_topics)-1):\n",
        "    jaccard_sims = []\n",
        "    for t1, topic1 in enumerate(LDA_topics[num_topics[i]]): # pylint: disable=unused-variable\n",
        "        sims = []\n",
        "        for t2, topic2 in enumerate(LDA_topics[num_topics[i+1]]): # pylint: disable=unused-variable\n",
        "            sims.append(jaccard_similarity(topic1, topic2))    \n",
        "        \n",
        "        jaccard_sims.append(sims)    \n",
        "    \n",
        "    LDA_stability[num_topics[i]] = jaccard_sims\n",
        "                \n",
        "mean_stabilities = [np.array(LDA_stability[i]).mean() for i in num_topics[:-1]]"
      ]
    },
    {
      "cell_type": "code",
      "execution_count": null,
      "metadata": {
        "id": "EooFV5v9D2Uk"
      },
      "outputs": [],
      "source": [
        "coherences = [CoherenceModel(model=LDA_models[i], texts=corpus, dictionary=dirichlet_dict, coherence='c_v').get_coherence() for i in num_topics[:-1]]"
      ]
    },
    {
      "cell_type": "code",
      "execution_count": null,
      "metadata": {
        "id": "h0RlkvOHD2Uk"
      },
      "outputs": [],
      "source": [
        "num_keywords = len(coherences)"
      ]
    },
    {
      "cell_type": "code",
      "execution_count": null,
      "metadata": {
        "id": "1cwFsMrGD2Uk"
      },
      "outputs": [],
      "source": [
        "coh_sta_diffs = [coherences[i] - mean_stabilities[i] for i in range(num_keywords)[:-1]] # limit topic numbers to the number of keywords\n",
        "coh_sta_max = max(coh_sta_diffs)\n",
        "coh_sta_max_idxs = [i for i, j in enumerate(coh_sta_diffs) if j == coh_sta_max]\n",
        "ideal_topic_num_index = coh_sta_max_idxs[0] # choose less topics in case there's more than one max\n",
        "ideal_topic_num = num_topics[ideal_topic_num_index]"
      ]
    },
    {
      "cell_type": "code",
      "execution_count": null,
      "metadata": {
        "id": "1lHmkEi-D2Uk"
      },
      "outputs": [],
      "source": [
        "plt.figure(figsize=(20,10))\n",
        "ax = sns.lineplot(x=num_topics[:-1], y=mean_stabilities, label='Average Topic Overlap')\n",
        "ax = sns.lineplot(x=num_topics[:-1], y=coherences, label='Topic Coherence')\n",
        "\n",
        "ax.axvline(x=ideal_topic_num, label='Ideal Number of Topics', color='black')\n",
        "ax.axvspan(xmin=ideal_topic_num - 1, xmax=ideal_topic_num + 1, alpha=0.5, facecolor='grey')\n",
        "\n",
        "y_max = max(max(mean_stabilities), max(coherences)) + (0.10 * max(max(mean_stabilities), max(coherences)))\n",
        "ax.set_ylim([0, y_max])\n",
        "ax.set_xlim([1, num_topics[-1]-1])\n",
        "                \n",
        "ax.axes.set_title('Model Metrics per Number of Topics', fontsize=25)\n",
        "ax.set_ylabel('Metric Level', fontsize=20)\n",
        "ax.set_xlabel('Number of Topics', fontsize=20)\n",
        "plt.legend(fontsize=20)\n",
        "plt.show()  "
      ]
    },
    {
      "cell_type": "markdown",
      "metadata": {},
      "source": [
        "### We will use a coherence matrix Abstract Keywords"
      ]
    },
    {
      "cell_type": "code",
      "execution_count": null,
      "metadata": {},
      "outputs": [],
      "source": [
        "data = data.reset_index()"
      ]
    },
    {
      "cell_type": "code",
      "execution_count": null,
      "metadata": {},
      "outputs": [],
      "source": [
        "data = data[data[\"tokens_2\"].str.len() != 0]"
      ]
    },
    {
      "cell_type": "code",
      "execution_count": null,
      "metadata": {},
      "outputs": [],
      "source": [
        "corpus_2 = data['tokens_2']"
      ]
    },
    {
      "cell_type": "code",
      "execution_count": null,
      "metadata": {},
      "outputs": [],
      "source": [
        "data.tokens_2.value_counts().reset_index()"
      ]
    },
    {
      "cell_type": "code",
      "execution_count": null,
      "metadata": {},
      "outputs": [],
      "source": [
        "dirichlet_dict = corpora.Dictionary(corpus_2)\n",
        "bow_corpus = [dirichlet_dict.doc2bow(text_2) for text_2 in corpus_2]\n",
        "\n",
        "# Considering 1-15 topics, as the last is cut off\n",
        "num_topics = list(range(10)[1:])\n",
        "num_keywords = 15\n",
        "\n",
        "LDA_models = {}\n",
        "LDA_topics = {}\n",
        "for i in num_topics:\n",
        "    LDA_models[i] = LdaModel(corpus_2=bow_corpus,\n",
        "                             id2word=dirichlet_dict,\n",
        "                             num_topics=i,\n",
        "                             update_every=1,\n",
        "                             chunksize=len(bow_corpus),\n",
        "                             passes=10,\n",
        "                             alpha='auto',\n",
        "                             random_state=42)\n",
        "\n",
        "    shown_topics = LDA_models[i].show_topics(num_topics=i, \n",
        "                                             num_words=num_keywords,\n",
        "                                             formatted=False)\n",
        "    LDA_topics[i] = [[word[0] for word in topic[1]] for topic in shown_topics]"
      ]
    }
  ],
  "metadata": {
    "colab": {
      "provenance": []
    },
    "kernelspec": {
      "display_name": "Python 3.9.12 ('base')",
      "language": "python",
      "name": "python3"
    },
    "language_info": {
      "codemirror_mode": {
        "name": "ipython",
        "version": 3
      },
      "file_extension": ".py",
      "mimetype": "text/x-python",
      "name": "python",
      "nbconvert_exporter": "python",
      "pygments_lexer": "ipython3",
      "version": "3.9.12"
    },
    "orig_nbformat": 4,
    "vscode": {
      "interpreter": {
        "hash": "995406004189bc7a762cd15e0adc766b4032076a3e0cf164ca390850079b6fa1"
      }
    }
  },
  "nbformat": 4,
  "nbformat_minor": 0
}

{
 "cells": [
  {
   "cell_type": "markdown",
   "metadata": {},
   "source": [
    "### All the packages that will be needed for natural language processing"
   ]
  },
  {
   "cell_type": "code",
   "execution_count": 1,
   "metadata": {},
   "outputs": [],
   "source": [
    "import string\n",
    "from spacy.lang.en.stop_words import STOP_WORDS\n",
    "from sklearn.feature_extraction.text import CountVectorizer,TfidfVectorizer\n",
    "from spacy.lang.en import English\n",
    "from sklearn.base import TransformerMixin\n",
    "from sklearn.pipeline import Pipeline\n",
    "import matplotlib.pyplot as plt\n",
    "import pandas as pd\n",
    "import numpy as np\n",
    "import preprocessor as prepro # text prepro\n",
    "import tqdm #progress bar\n",
    "from gensim.models import LdaModel, CoherenceModel\n",
    "from gensim import corpora\n",
    "import seaborn as sns\n",
    "from imblearn.over_sampling import SMOTE\n",
    "SMOTE = SMOTE()\n",
    "import spacy #spacy for quick language prepro\n",
    "nlp = spacy.load('en_core_web_sm') #instantiating English module\n",
    "import scipy.sparse as ss\n",
    "\n",
    "# sampling, splitting\n",
    "from imblearn.under_sampling import RandomUnderSampler\n",
    "from sklearn.model_selection import train_test_split\n",
    "\n",
    "\n",
    "# loading ML libraries\n",
    "from sklearn.pipeline import make_pipeline #pipeline creation\n",
    "from sklearn.feature_extraction.text import TfidfVectorizer #transforms text to sparse matrix\n",
    "from sklearn.linear_model import LogisticRegression #Logit model\n",
    "from sklearn.metrics import classification_report #that's self explanatory\n",
    "from sklearn.decomposition import TruncatedSVD #dimensionality reduction\n",
    "from xgboost import XGBClassifier\n",
    "from sklearn.preprocessing import LabelEncoder\n",
    "import altair as alt #viz\n",
    "\n",
    "#explainability\n",
    "import eli5\n",
    "from eli5.lime import TextExplainer\n",
    "\n",
    "# topic modeling\n",
    "\n",
    "from gensim.corpora.dictionary import Dictionary # Import the dictionary builder\n",
    "from gensim.models import LdaMulticore # we'll use the faster multicore version of LDA\n",
    "\n",
    "# Import pyLDAvis\n",
    "import pyLDAvis\n",
    "import pyLDAvis.gensim_models as gensimvis\n",
    "\n",
    "%matplotlib inline\n",
    "pyLDAvis.enable_notebook()"
   ]
  },
  {
   "cell_type": "code",
   "execution_count": 2,
   "metadata": {},
   "outputs": [],
   "source": [
    "# prepro settings\n",
    "# This is prob not relevant, since it has to do with tweets? \n",
    "# prepro.set_options(prepro.OPT.URL, prepro.OPT.NUMBER, prepro.OPT.RESERVED, prepro.OPT.MENTION, prepro.OPT.SMILEY)"
   ]
  },
  {
   "cell_type": "markdown",
   "metadata": {},
   "source": [
    "### Loading and appending the datasets"
   ]
  },
  {
   "cell_type": "code",
   "execution_count": 3,
   "metadata": {},
   "outputs": [],
   "source": [
    "scopus2022 = pd.read_csv('scopus 2022 2021.csv',  sep = ',')\n",
    "scopus = pd.read_csv('scopus.csv',  sep = ',')"
   ]
  },
  {
   "cell_type": "code",
   "execution_count": 4,
   "metadata": {},
   "outputs": [
    {
     "name": "stderr",
     "output_type": "stream",
     "text": [
      "C:\\Users\\maart\\AppData\\Local\\Temp\\ipykernel_2224\\3402760882.py:1: FutureWarning: The frame.append method is deprecated and will be removed from pandas in a future version. Use pandas.concat instead.\n",
      "  data = scopus2022.append(scopus, ignore_index=True)\n"
     ]
    }
   ],
   "source": [
    "data = scopus2022.append(scopus, ignore_index=True)"
   ]
  },
  {
   "cell_type": "code",
   "execution_count": 5,
   "metadata": {},
   "outputs": [
    {
     "data": {
      "text/html": [
       "<div>\n",
       "<style scoped>\n",
       "    .dataframe tbody tr th:only-of-type {\n",
       "        vertical-align: middle;\n",
       "    }\n",
       "\n",
       "    .dataframe tbody tr th {\n",
       "        vertical-align: top;\n",
       "    }\n",
       "\n",
       "    .dataframe thead th {\n",
       "        text-align: right;\n",
       "    }\n",
       "</style>\n",
       "<table border=\"1\" class=\"dataframe\">\n",
       "  <thead>\n",
       "    <tr style=\"text-align: right;\">\n",
       "      <th></th>\n",
       "      <th>Authors</th>\n",
       "      <th>Author(s) ID</th>\n",
       "      <th>Title</th>\n",
       "      <th>Year</th>\n",
       "      <th>Source title</th>\n",
       "      <th>Volume</th>\n",
       "      <th>Issue</th>\n",
       "      <th>Art. No.</th>\n",
       "      <th>Page start</th>\n",
       "      <th>Page end</th>\n",
       "      <th>...</th>\n",
       "      <th>ISBN</th>\n",
       "      <th>CODEN</th>\n",
       "      <th>PubMed ID</th>\n",
       "      <th>Language of Original Document</th>\n",
       "      <th>Abbreviated Source Title</th>\n",
       "      <th>Document Type</th>\n",
       "      <th>Publication Stage</th>\n",
       "      <th>Open Access</th>\n",
       "      <th>Source</th>\n",
       "      <th>EID</th>\n",
       "    </tr>\n",
       "  </thead>\n",
       "  <tbody>\n",
       "    <tr>\n",
       "      <th>0</th>\n",
       "      <td>Yang T., Zhang X.</td>\n",
       "      <td>57907798100;56342888200;</td>\n",
       "      <td>FinTech adoption and financial inclusion: Evid...</td>\n",
       "      <td>2022</td>\n",
       "      <td>Journal of Banking and Finance</td>\n",
       "      <td>145</td>\n",
       "      <td>NaN</td>\n",
       "      <td>106668</td>\n",
       "      <td>NaN</td>\n",
       "      <td>NaN</td>\n",
       "      <td>...</td>\n",
       "      <td>NaN</td>\n",
       "      <td>JBFID</td>\n",
       "      <td>NaN</td>\n",
       "      <td>English</td>\n",
       "      <td>J. Bank. Financ.</td>\n",
       "      <td>Article</td>\n",
       "      <td>Final</td>\n",
       "      <td>NaN</td>\n",
       "      <td>Scopus</td>\n",
       "      <td>2-s2.0-85138806241</td>\n",
       "    </tr>\n",
       "    <tr>\n",
       "      <th>1</th>\n",
       "      <td>Wang X., Wang Y., Zhao Y.</td>\n",
       "      <td>57193015825;57901727900;57901783600;</td>\n",
       "      <td>Financial permeation and rural poverty reducti...</td>\n",
       "      <td>2022</td>\n",
       "      <td>China Economic Review</td>\n",
       "      <td>76</td>\n",
       "      <td>NaN</td>\n",
       "      <td>101863</td>\n",
       "      <td>NaN</td>\n",
       "      <td>NaN</td>\n",
       "      <td>...</td>\n",
       "      <td>NaN</td>\n",
       "      <td>NaN</td>\n",
       "      <td>NaN</td>\n",
       "      <td>English</td>\n",
       "      <td>China Econ. Rev.</td>\n",
       "      <td>Article</td>\n",
       "      <td>Final</td>\n",
       "      <td>NaN</td>\n",
       "      <td>Scopus</td>\n",
       "      <td>2-s2.0-85138589769</td>\n",
       "    </tr>\n",
       "    <tr>\n",
       "      <th>2</th>\n",
       "      <td>Dzandu M.D., Hanu C., Amegbe H.</td>\n",
       "      <td>56590001600;57201152816;57194904537;</td>\n",
       "      <td>Gamification of mobile money payment for gener...</td>\n",
       "      <td>2022</td>\n",
       "      <td>Technological Forecasting and Social Change</td>\n",
       "      <td>185</td>\n",
       "      <td>NaN</td>\n",
       "      <td>122049</td>\n",
       "      <td>NaN</td>\n",
       "      <td>NaN</td>\n",
       "      <td>...</td>\n",
       "      <td>NaN</td>\n",
       "      <td>NaN</td>\n",
       "      <td>NaN</td>\n",
       "      <td>English</td>\n",
       "      <td>Technol. Forecast. Soc. Change</td>\n",
       "      <td>Article</td>\n",
       "      <td>Final</td>\n",
       "      <td>All Open Access, Hybrid Gold, Green</td>\n",
       "      <td>Scopus</td>\n",
       "      <td>2-s2.0-85138450268</td>\n",
       "    </tr>\n",
       "    <tr>\n",
       "      <th>3</th>\n",
       "      <td>Grassi L., Fantaccini S.</td>\n",
       "      <td>57192656409;57895835500;</td>\n",
       "      <td>An overview of Fintech applications to solve t...</td>\n",
       "      <td>2022</td>\n",
       "      <td>Financial Innovation</td>\n",
       "      <td>8</td>\n",
       "      <td>1</td>\n",
       "      <td>84</td>\n",
       "      <td>NaN</td>\n",
       "      <td>NaN</td>\n",
       "      <td>...</td>\n",
       "      <td>NaN</td>\n",
       "      <td>NaN</td>\n",
       "      <td>NaN</td>\n",
       "      <td>English</td>\n",
       "      <td>Financial Innov.</td>\n",
       "      <td>Article</td>\n",
       "      <td>Final</td>\n",
       "      <td>All Open Access, Gold, Green</td>\n",
       "      <td>Scopus</td>\n",
       "      <td>2-s2.0-85138286241</td>\n",
       "    </tr>\n",
       "    <tr>\n",
       "      <th>4</th>\n",
       "      <td>DeFusco A.A., Tang H., Yannelis C.</td>\n",
       "      <td>57193852071;57890330600;55413678100;</td>\n",
       "      <td>Measuring the welfare cost of asymmetric infor...</td>\n",
       "      <td>2022</td>\n",
       "      <td>Journal of Financial Economics</td>\n",
       "      <td>146</td>\n",
       "      <td>3</td>\n",
       "      <td>NaN</td>\n",
       "      <td>821</td>\n",
       "      <td>840.0</td>\n",
       "      <td>...</td>\n",
       "      <td>NaN</td>\n",
       "      <td>JFECD</td>\n",
       "      <td>NaN</td>\n",
       "      <td>English</td>\n",
       "      <td>J. Financ. Econ.</td>\n",
       "      <td>Article</td>\n",
       "      <td>Final</td>\n",
       "      <td>NaN</td>\n",
       "      <td>Scopus</td>\n",
       "      <td>2-s2.0-85138101180</td>\n",
       "    </tr>\n",
       "    <tr>\n",
       "      <th>...</th>\n",
       "      <td>...</td>\n",
       "      <td>...</td>\n",
       "      <td>...</td>\n",
       "      <td>...</td>\n",
       "      <td>...</td>\n",
       "      <td>...</td>\n",
       "      <td>...</td>\n",
       "      <td>...</td>\n",
       "      <td>...</td>\n",
       "      <td>...</td>\n",
       "      <td>...</td>\n",
       "      <td>...</td>\n",
       "      <td>...</td>\n",
       "      <td>...</td>\n",
       "      <td>...</td>\n",
       "      <td>...</td>\n",
       "      <td>...</td>\n",
       "      <td>...</td>\n",
       "      <td>...</td>\n",
       "      <td>...</td>\n",
       "      <td>...</td>\n",
       "    </tr>\n",
       "    <tr>\n",
       "      <th>3395</th>\n",
       "      <td>Fayard E.H.</td>\n",
       "      <td>35072693600;</td>\n",
       "      <td>ACC pressure cleaning</td>\n",
       "      <td>2010</td>\n",
       "      <td>Power Engineering (Barrington, Illinois)</td>\n",
       "      <td>114</td>\n",
       "      <td>5</td>\n",
       "      <td>NaN</td>\n",
       "      <td>22</td>\n",
       "      <td>NaN</td>\n",
       "      <td>...</td>\n",
       "      <td>NaN</td>\n",
       "      <td>POENA</td>\n",
       "      <td>NaN</td>\n",
       "      <td>English</td>\n",
       "      <td>Power Eng. Barrington Ill</td>\n",
       "      <td>Short Survey</td>\n",
       "      <td>Final</td>\n",
       "      <td>NaN</td>\n",
       "      <td>Scopus</td>\n",
       "      <td>2-s2.0-77953829082</td>\n",
       "    </tr>\n",
       "    <tr>\n",
       "      <th>3396</th>\n",
       "      <td>Dassanayake M.M.K., Tilakarathne C.</td>\n",
       "      <td>57221353725;55762978100;</td>\n",
       "      <td>Predicting trading signals of Sri Lankan stock...</td>\n",
       "      <td>2010</td>\n",
       "      <td>Technological Developments in Networking, Educ...</td>\n",
       "      <td>NaN</td>\n",
       "      <td>NaN</td>\n",
       "      <td>NaN</td>\n",
       "      <td>269</td>\n",
       "      <td>273</td>\n",
       "      <td>...</td>\n",
       "      <td>9789048191505</td>\n",
       "      <td>NaN</td>\n",
       "      <td>NaN</td>\n",
       "      <td>English</td>\n",
       "      <td>Technol. Dev. Networking, Educ. Autom.</td>\n",
       "      <td>Conference Paper</td>\n",
       "      <td>Final</td>\n",
       "      <td>NaN</td>\n",
       "      <td>Scopus</td>\n",
       "      <td>2-s2.0-84878897261</td>\n",
       "    </tr>\n",
       "    <tr>\n",
       "      <th>3397</th>\n",
       "      <td>Hao H.-N.</td>\n",
       "      <td>36617357100;</td>\n",
       "      <td>Notice of Retraction: Short-term forecasting o...</td>\n",
       "      <td>2010</td>\n",
       "      <td>Proceedings - 2010 6th International Conferenc...</td>\n",
       "      <td>4</td>\n",
       "      <td>NaN</td>\n",
       "      <td>5584528</td>\n",
       "      <td>1838</td>\n",
       "      <td>1841</td>\n",
       "      <td>...</td>\n",
       "      <td>9781424459612</td>\n",
       "      <td>NaN</td>\n",
       "      <td>NaN</td>\n",
       "      <td>English</td>\n",
       "      <td>Proc. - Int. Conf. Nat. Comput., ICNC</td>\n",
       "      <td>Retracted</td>\n",
       "      <td>Final</td>\n",
       "      <td>NaN</td>\n",
       "      <td>Scopus</td>\n",
       "      <td>2-s2.0-78149350510</td>\n",
       "    </tr>\n",
       "    <tr>\n",
       "      <th>3398</th>\n",
       "      <td>Ma Z.-X., Zhang W.</td>\n",
       "      <td>55479146300;56621528900;</td>\n",
       "      <td>Notice of Retraction: An discrimination resear...</td>\n",
       "      <td>2010</td>\n",
       "      <td>ICAMS 2010 - Proceedings of 2010 IEEE Internat...</td>\n",
       "      <td>3</td>\n",
       "      <td>NaN</td>\n",
       "      <td>5553273</td>\n",
       "      <td>116</td>\n",
       "      <td>119</td>\n",
       "      <td>...</td>\n",
       "      <td>9781424469291</td>\n",
       "      <td>NaN</td>\n",
       "      <td>NaN</td>\n",
       "      <td>English</td>\n",
       "      <td>ICAMS - Proc. IEEE Int. Conf. Adv. Manage. Sci.</td>\n",
       "      <td>Retracted</td>\n",
       "      <td>Final</td>\n",
       "      <td>NaN</td>\n",
       "      <td>Scopus</td>\n",
       "      <td>2-s2.0-77957273781</td>\n",
       "    </tr>\n",
       "    <tr>\n",
       "      <th>3399</th>\n",
       "      <td>Danial S.N., Noor S.R., Usmani B.A., Zaidi S.J.H.</td>\n",
       "      <td>24823887800;24825002200;26666352700;57549810600;</td>\n",
       "      <td>A dynamical system and neural network perspect...</td>\n",
       "      <td>2008</td>\n",
       "      <td>Communications in Computer and Information Sci...</td>\n",
       "      <td>20 CCIS</td>\n",
       "      <td>NaN</td>\n",
       "      <td>NaN</td>\n",
       "      <td>88</td>\n",
       "      <td>99</td>\n",
       "      <td>...</td>\n",
       "      <td>3540898522; 9783540898528</td>\n",
       "      <td>NaN</td>\n",
       "      <td>NaN</td>\n",
       "      <td>English</td>\n",
       "      <td>Commun. Comput. Info. Sci.</td>\n",
       "      <td>Conference Paper</td>\n",
       "      <td>Final</td>\n",
       "      <td>NaN</td>\n",
       "      <td>Scopus</td>\n",
       "      <td>2-s2.0-85099426338</td>\n",
       "    </tr>\n",
       "  </tbody>\n",
       "</table>\n",
       "<p>3400 rows × 54 columns</p>\n",
       "</div>"
      ],
      "text/plain": [
       "                                                Authors  \\\n",
       "0                                     Yang T., Zhang X.   \n",
       "1                             Wang X., Wang Y., Zhao Y.   \n",
       "2                       Dzandu M.D., Hanu C., Amegbe H.   \n",
       "3                              Grassi L., Fantaccini S.   \n",
       "4                    DeFusco A.A., Tang H., Yannelis C.   \n",
       "...                                                 ...   \n",
       "3395                                        Fayard E.H.   \n",
       "3396                Dassanayake M.M.K., Tilakarathne C.   \n",
       "3397                                          Hao H.-N.   \n",
       "3398                                 Ma Z.-X., Zhang W.   \n",
       "3399  Danial S.N., Noor S.R., Usmani B.A., Zaidi S.J.H.   \n",
       "\n",
       "                                          Author(s) ID  \\\n",
       "0                             57907798100;56342888200;   \n",
       "1                 57193015825;57901727900;57901783600;   \n",
       "2                 56590001600;57201152816;57194904537;   \n",
       "3                             57192656409;57895835500;   \n",
       "4                 57193852071;57890330600;55413678100;   \n",
       "...                                                ...   \n",
       "3395                                      35072693600;   \n",
       "3396                          57221353725;55762978100;   \n",
       "3397                                      36617357100;   \n",
       "3398                          55479146300;56621528900;   \n",
       "3399  24823887800;24825002200;26666352700;57549810600;   \n",
       "\n",
       "                                                  Title  Year  \\\n",
       "0     FinTech adoption and financial inclusion: Evid...  2022   \n",
       "1     Financial permeation and rural poverty reducti...  2022   \n",
       "2     Gamification of mobile money payment for gener...  2022   \n",
       "3     An overview of Fintech applications to solve t...  2022   \n",
       "4     Measuring the welfare cost of asymmetric infor...  2022   \n",
       "...                                                 ...   ...   \n",
       "3395                              ACC pressure cleaning  2010   \n",
       "3396  Predicting trading signals of Sri Lankan stock...  2010   \n",
       "3397  Notice of Retraction: Short-term forecasting o...  2010   \n",
       "3398  Notice of Retraction: An discrimination resear...  2010   \n",
       "3399  A dynamical system and neural network perspect...  2008   \n",
       "\n",
       "                                           Source title   Volume Issue  \\\n",
       "0                        Journal of Banking and Finance      145   NaN   \n",
       "1                                 China Economic Review       76   NaN   \n",
       "2           Technological Forecasting and Social Change      185   NaN   \n",
       "3                                  Financial Innovation        8     1   \n",
       "4                        Journal of Financial Economics      146     3   \n",
       "...                                                 ...      ...   ...   \n",
       "3395           Power Engineering (Barrington, Illinois)      114     5   \n",
       "3396  Technological Developments in Networking, Educ...      NaN   NaN   \n",
       "3397  Proceedings - 2010 6th International Conferenc...        4   NaN   \n",
       "3398  ICAMS 2010 - Proceedings of 2010 IEEE Internat...        3   NaN   \n",
       "3399  Communications in Computer and Information Sci...  20 CCIS   NaN   \n",
       "\n",
       "     Art. No. Page start Page end  ...                       ISBN  CODEN  \\\n",
       "0      106668        NaN      NaN  ...                        NaN  JBFID   \n",
       "1      101863        NaN      NaN  ...                        NaN    NaN   \n",
       "2      122049        NaN      NaN  ...                        NaN    NaN   \n",
       "3          84        NaN      NaN  ...                        NaN    NaN   \n",
       "4         NaN        821    840.0  ...                        NaN  JFECD   \n",
       "...       ...        ...      ...  ...                        ...    ...   \n",
       "3395      NaN         22      NaN  ...                        NaN  POENA   \n",
       "3396      NaN        269      273  ...              9789048191505    NaN   \n",
       "3397  5584528       1838     1841  ...              9781424459612    NaN   \n",
       "3398  5553273        116      119  ...              9781424469291    NaN   \n",
       "3399      NaN         88       99  ...  3540898522; 9783540898528    NaN   \n",
       "\n",
       "     PubMed ID Language of Original Document  \\\n",
       "0          NaN                       English   \n",
       "1          NaN                       English   \n",
       "2          NaN                       English   \n",
       "3          NaN                       English   \n",
       "4          NaN                       English   \n",
       "...        ...                           ...   \n",
       "3395       NaN                       English   \n",
       "3396       NaN                       English   \n",
       "3397       NaN                       English   \n",
       "3398       NaN                       English   \n",
       "3399       NaN                       English   \n",
       "\n",
       "                             Abbreviated Source Title     Document Type  \\\n",
       "0                                    J. Bank. Financ.           Article   \n",
       "1                                    China Econ. Rev.           Article   \n",
       "2                      Technol. Forecast. Soc. Change           Article   \n",
       "3                                    Financial Innov.           Article   \n",
       "4                                    J. Financ. Econ.           Article   \n",
       "...                                               ...               ...   \n",
       "3395                        Power Eng. Barrington Ill      Short Survey   \n",
       "3396           Technol. Dev. Networking, Educ. Autom.  Conference Paper   \n",
       "3397            Proc. - Int. Conf. Nat. Comput., ICNC         Retracted   \n",
       "3398  ICAMS - Proc. IEEE Int. Conf. Adv. Manage. Sci.         Retracted   \n",
       "3399                       Commun. Comput. Info. Sci.  Conference Paper   \n",
       "\n",
       "     Publication Stage                          Open Access  Source  \\\n",
       "0                Final                                  NaN  Scopus   \n",
       "1                Final                                  NaN  Scopus   \n",
       "2                Final  All Open Access, Hybrid Gold, Green  Scopus   \n",
       "3                Final         All Open Access, Gold, Green  Scopus   \n",
       "4                Final                                  NaN  Scopus   \n",
       "...                ...                                  ...     ...   \n",
       "3395             Final                                  NaN  Scopus   \n",
       "3396             Final                                  NaN  Scopus   \n",
       "3397             Final                                  NaN  Scopus   \n",
       "3398             Final                                  NaN  Scopus   \n",
       "3399             Final                                  NaN  Scopus   \n",
       "\n",
       "                     EID  \n",
       "0     2-s2.0-85138806241  \n",
       "1     2-s2.0-85138589769  \n",
       "2     2-s2.0-85138450268  \n",
       "3     2-s2.0-85138286241  \n",
       "4     2-s2.0-85138101180  \n",
       "...                  ...  \n",
       "3395  2-s2.0-77953829082  \n",
       "3396  2-s2.0-84878897261  \n",
       "3397  2-s2.0-78149350510  \n",
       "3398  2-s2.0-77957273781  \n",
       "3399  2-s2.0-85099426338  \n",
       "\n",
       "[3400 rows x 54 columns]"
      ]
     },
     "execution_count": 5,
     "metadata": {},
     "output_type": "execute_result"
    }
   ],
   "source": [
    "data"
   ]
  },
  {
   "cell_type": "code",
   "execution_count": 6,
   "metadata": {},
   "outputs": [
    {
     "name": "stdout",
     "output_type": "stream",
     "text": [
      "<class 'pandas.core.frame.DataFrame'>\n",
      "RangeIndex: 3400 entries, 0 to 3399\n",
      "Data columns (total 54 columns):\n",
      " #   Column                         Non-Null Count  Dtype  \n",
      "---  ------                         --------------  -----  \n",
      " 0   Authors                        3400 non-null   object \n",
      " 1   Author(s) ID                   3399 non-null   object \n",
      " 2   Title                          3400 non-null   object \n",
      " 3   Year                           3400 non-null   int64  \n",
      " 4   Source title                   3400 non-null   object \n",
      " 5   Volume                         2320 non-null   object \n",
      " 6   Issue                          1426 non-null   object \n",
      " 7   Art. No.                       1051 non-null   object \n",
      " 8   Page start                     2336 non-null   object \n",
      " 9   Page end                       2326 non-null   object \n",
      " 10  Page count                     38 non-null     float64\n",
      " 11  Cited by                       2164 non-null   float64\n",
      " 12  DOI                            2972 non-null   object \n",
      " 13  Link                           3400 non-null   object \n",
      " 14  Affiliations                   3305 non-null   object \n",
      " 15  Authors with affiliations      3342 non-null   object \n",
      " 16  Abstract                       3400 non-null   object \n",
      " 17  Author Keywords                2781 non-null   object \n",
      " 18  Index Keywords                 1616 non-null   object \n",
      " 19  Molecular Sequence Numbers     0 non-null      float64\n",
      " 20  Chemicals/CAS                  4 non-null      object \n",
      " 21  Tradenames                     0 non-null      float64\n",
      " 22  Manufacturers                  0 non-null      float64\n",
      " 23  Funding Details                827 non-null    object \n",
      " 24  Funding Text 1                 1039 non-null   object \n",
      " 25  Funding Text 2                 141 non-null    object \n",
      " 26  Funding Text 3                 7 non-null      object \n",
      " 27  Funding Text 4                 1 non-null      object \n",
      " 28  Funding Text 5                 1 non-null      object \n",
      " 29  Funding Text 6                 1 non-null      object \n",
      " 30  Funding Text 7                 1 non-null      object \n",
      " 31  Funding Text 8                 0 non-null      float64\n",
      " 32  Funding Text 9                 0 non-null      float64\n",
      " 33  Funding Text 10                0 non-null      float64\n",
      " 34  References                     3212 non-null   object \n",
      " 35  Correspondence Address         2354 non-null   object \n",
      " 36  Editors                        491 non-null    object \n",
      " 37  Sponsors                       319 non-null    object \n",
      " 38  Publisher                      3394 non-null   object \n",
      " 39  Conference name                1063 non-null   object \n",
      " 40  Conference date                1062 non-null   object \n",
      " 41  Conference location            3 non-null      object \n",
      " 42  Conference code                1065 non-null   float64\n",
      " 43  ISSN                           2540 non-null   object \n",
      " 44  ISBN                           1174 non-null   object \n",
      " 45  CODEN                          276 non-null    object \n",
      " 46  PubMed ID                      36 non-null     float64\n",
      " 47  Language of Original Document  3400 non-null   object \n",
      " 48  Abbreviated Source Title       3396 non-null   object \n",
      " 49  Document Type                  3400 non-null   object \n",
      " 50  Publication Stage              3400 non-null   object \n",
      " 51  Open Access                    1097 non-null   object \n",
      " 52  Source                         3400 non-null   object \n",
      " 53  EID                            3400 non-null   object \n",
      "dtypes: float64(10), int64(1), object(43)\n",
      "memory usage: 1.4+ MB\n"
     ]
    }
   ],
   "source": [
    "data.info()"
   ]
  },
  {
   "cell_type": "code",
   "execution_count": 7,
   "metadata": {},
   "outputs": [
    {
     "data": {
      "text/html": [
       "<div>\n",
       "<style scoped>\n",
       "    .dataframe tbody tr th:only-of-type {\n",
       "        vertical-align: middle;\n",
       "    }\n",
       "\n",
       "    .dataframe tbody tr th {\n",
       "        vertical-align: top;\n",
       "    }\n",
       "\n",
       "    .dataframe thead th {\n",
       "        text-align: right;\n",
       "    }\n",
       "</style>\n",
       "<table border=\"1\" class=\"dataframe\">\n",
       "  <thead>\n",
       "    <tr style=\"text-align: right;\">\n",
       "      <th></th>\n",
       "      <th>Authors</th>\n",
       "      <th>Author(s) ID</th>\n",
       "      <th>Title</th>\n",
       "      <th>Source title</th>\n",
       "      <th>Volume</th>\n",
       "      <th>Issue</th>\n",
       "      <th>Art. No.</th>\n",
       "      <th>Page start</th>\n",
       "      <th>Page end</th>\n",
       "      <th>DOI</th>\n",
       "      <th>...</th>\n",
       "      <th>ISSN</th>\n",
       "      <th>ISBN</th>\n",
       "      <th>CODEN</th>\n",
       "      <th>Language of Original Document</th>\n",
       "      <th>Abbreviated Source Title</th>\n",
       "      <th>Document Type</th>\n",
       "      <th>Publication Stage</th>\n",
       "      <th>Open Access</th>\n",
       "      <th>Source</th>\n",
       "      <th>EID</th>\n",
       "    </tr>\n",
       "  </thead>\n",
       "  <tbody>\n",
       "    <tr>\n",
       "      <th>count</th>\n",
       "      <td>3400</td>\n",
       "      <td>3399</td>\n",
       "      <td>3400</td>\n",
       "      <td>3400</td>\n",
       "      <td>2320</td>\n",
       "      <td>1426</td>\n",
       "      <td>1051</td>\n",
       "      <td>2336</td>\n",
       "      <td>2326</td>\n",
       "      <td>2972</td>\n",
       "      <td>...</td>\n",
       "      <td>2540</td>\n",
       "      <td>1174</td>\n",
       "      <td>276</td>\n",
       "      <td>3400</td>\n",
       "      <td>3396</td>\n",
       "      <td>3400</td>\n",
       "      <td>3400</td>\n",
       "      <td>1097</td>\n",
       "      <td>3400</td>\n",
       "      <td>3400</td>\n",
       "    </tr>\n",
       "    <tr>\n",
       "      <th>unique</th>\n",
       "      <td>3167</td>\n",
       "      <td>3156</td>\n",
       "      <td>3389</td>\n",
       "      <td>1455</td>\n",
       "      <td>495</td>\n",
       "      <td>81</td>\n",
       "      <td>1023</td>\n",
       "      <td>1013</td>\n",
       "      <td>1369</td>\n",
       "      <td>2969</td>\n",
       "      <td>...</td>\n",
       "      <td>949</td>\n",
       "      <td>821</td>\n",
       "      <td>124</td>\n",
       "      <td>4</td>\n",
       "      <td>1429</td>\n",
       "      <td>13</td>\n",
       "      <td>2</td>\n",
       "      <td>7</td>\n",
       "      <td>1</td>\n",
       "      <td>3400</td>\n",
       "    </tr>\n",
       "    <tr>\n",
       "      <th>top</th>\n",
       "      <td>[No author name available]</td>\n",
       "      <td>[No author id available]</td>\n",
       "      <td>Introduction</td>\n",
       "      <td>ACM International Conference Proceeding Series</td>\n",
       "      <td>8</td>\n",
       "      <td>1</td>\n",
       "      <td>8</td>\n",
       "      <td>1</td>\n",
       "      <td>20</td>\n",
       "      <td>10.1142/9789811235825_0003</td>\n",
       "      <td>...</td>\n",
       "      <td>21945357</td>\n",
       "      <td>9781799832591; 9781799832577</td>\n",
       "      <td>JEBUD</td>\n",
       "      <td>English</td>\n",
       "      <td>ACM Int. Conf. Proc. Ser.</td>\n",
       "      <td>Article</td>\n",
       "      <td>Final</td>\n",
       "      <td>All Open Access, Gold</td>\n",
       "      <td>Scopus</td>\n",
       "      <td>2-s2.0-85138806241</td>\n",
       "    </tr>\n",
       "    <tr>\n",
       "      <th>freq</th>\n",
       "      <td>58</td>\n",
       "      <td>58</td>\n",
       "      <td>4</td>\n",
       "      <td>93</td>\n",
       "      <td>95</td>\n",
       "      <td>322</td>\n",
       "      <td>4</td>\n",
       "      <td>158</td>\n",
       "      <td>11</td>\n",
       "      <td>2</td>\n",
       "      <td>...</td>\n",
       "      <td>53</td>\n",
       "      <td>15</td>\n",
       "      <td>15</td>\n",
       "      <td>3395</td>\n",
       "      <td>93</td>\n",
       "      <td>1770</td>\n",
       "      <td>3241</td>\n",
       "      <td>278</td>\n",
       "      <td>3400</td>\n",
       "      <td>1</td>\n",
       "    </tr>\n",
       "  </tbody>\n",
       "</table>\n",
       "<p>4 rows × 43 columns</p>\n",
       "</div>"
      ],
      "text/plain": [
       "                           Authors              Author(s) ID         Title  \\\n",
       "count                         3400                      3399          3400   \n",
       "unique                        3167                      3156          3389   \n",
       "top     [No author name available]  [No author id available]  Introduction   \n",
       "freq                            58                        58             4   \n",
       "\n",
       "                                          Source title Volume Issue Art. No.  \\\n",
       "count                                             3400   2320  1426     1051   \n",
       "unique                                            1455    495    81     1023   \n",
       "top     ACM International Conference Proceeding Series      8     1        8   \n",
       "freq                                                93     95   322        4   \n",
       "\n",
       "       Page start Page end                         DOI  ...      ISSN  \\\n",
       "count        2336     2326                        2972  ...      2540   \n",
       "unique       1013     1369                        2969  ...       949   \n",
       "top             1       20  10.1142/9789811235825_0003  ...  21945357   \n",
       "freq          158       11                           2  ...        53   \n",
       "\n",
       "                                ISBN  CODEN Language of Original Document  \\\n",
       "count                           1174    276                          3400   \n",
       "unique                           821    124                             4   \n",
       "top     9781799832591; 9781799832577  JEBUD                       English   \n",
       "freq                              15     15                          3395   \n",
       "\n",
       "         Abbreviated Source Title Document Type Publication Stage  \\\n",
       "count                        3396          3400              3400   \n",
       "unique                       1429            13                 2   \n",
       "top     ACM Int. Conf. Proc. Ser.       Article             Final   \n",
       "freq                           93          1770              3241   \n",
       "\n",
       "                  Open Access  Source                 EID  \n",
       "count                    1097    3400                3400  \n",
       "unique                      7       1                3400  \n",
       "top     All Open Access, Gold  Scopus  2-s2.0-85138806241  \n",
       "freq                      278    3400                   1  \n",
       "\n",
       "[4 rows x 43 columns]"
      ]
     },
     "execution_count": 7,
     "metadata": {},
     "output_type": "execute_result"
    }
   ],
   "source": [
    "data.describe(include='object')\n"
   ]
  },
  {
   "cell_type": "code",
   "execution_count": 8,
   "metadata": {},
   "outputs": [
    {
     "data": {
      "text/plain": [
       "0       Consumption; Consumption inequality; Credit co...\n",
       "1       Bank branch expansion; Financial permeation; F...\n",
       "2       Customer value; FinTech; Gamification; Marketi...\n",
       "3       Crowdfunding; Fintech; Health crowdfunding; He...\n",
       "4       Asymmetric information; Consumer credit; Exper...\n",
       "                              ...                        \n",
       "3395                                                  NaN\n",
       "3396                                                  NaN\n",
       "3397    Genetic-neural network; Short-term forecasting...\n",
       "3398    Discrimination analysis; Insider trading; Mark...\n",
       "3399    correlation dimension; KSE-100 index returns; ...\n",
       "Name: Author Keywords, Length: 3400, dtype: object"
      ]
     },
     "execution_count": 8,
     "metadata": {},
     "output_type": "execute_result"
    }
   ],
   "source": [
    "data['Author Keywords']"
   ]
  },
  {
   "cell_type": "markdown",
   "metadata": {},
   "source": [
    "### Preprocessing the data"
   ]
  },
  {
   "cell_type": "code",
   "execution_count": 9,
   "metadata": {},
   "outputs": [],
   "source": [
    "data = data[['Authors', 'Author(s) ID','Title', 'Abstract','Year', 'Source title', 'Author Keywords']]"
   ]
  },
  {
   "cell_type": "code",
   "execution_count": 10,
   "metadata": {},
   "outputs": [
    {
     "name": "stdout",
     "output_type": "stream",
     "text": [
      "<class 'pandas.core.series.Series'>\n",
      "RangeIndex: 3400 entries, 0 to 3399\n",
      "Series name: Author Keywords\n",
      "Non-Null Count  Dtype \n",
      "--------------  ----- \n",
      "2781 non-null   object\n",
      "dtypes: object(1)\n",
      "memory usage: 26.7+ KB\n"
     ]
    }
   ],
   "source": [
    "data['Author Keywords'].info()"
   ]
  },
  {
   "cell_type": "code",
   "execution_count": 11,
   "metadata": {},
   "outputs": [
    {
     "name": "stderr",
     "output_type": "stream",
     "text": [
      "C:\\Users\\maart\\AppData\\Local\\Temp\\ipykernel_2224\\3149525087.py:1: SettingWithCopyWarning: \n",
      "A value is trying to be set on a copy of a slice from a DataFrame.\n",
      "Try using .loc[row_indexer,col_indexer] = value instead\n",
      "\n",
      "See the caveats in the documentation: https://pandas.pydata.org/pandas-docs/stable/user_guide/indexing.html#returning-a-view-versus-a-copy\n",
      "  data['Author Keywords'] = data['Author Keywords'].astype({'Author Keywords':'string'})\n"
     ]
    }
   ],
   "source": [
    "data['Author Keywords'] = data['Author Keywords'].astype({'Author Keywords':'string'})"
   ]
  },
  {
   "cell_type": "code",
   "execution_count": 12,
   "metadata": {},
   "outputs": [
    {
     "data": {
      "text/plain": [
       "0       Consumption; Consumption inequality; Credit co...\n",
       "1       Bank branch expansion; Financial permeation; F...\n",
       "2       Customer value; FinTech; Gamification; Marketi...\n",
       "3       Crowdfunding; Fintech; Health crowdfunding; He...\n",
       "4       Asymmetric information; Consumer credit; Exper...\n",
       "                              ...                        \n",
       "3395                                                 <NA>\n",
       "3396                                                 <NA>\n",
       "3397    Genetic-neural network; Short-term forecasting...\n",
       "3398    Discrimination analysis; Insider trading; Mark...\n",
       "3399    correlation dimension; KSE-100 index returns; ...\n",
       "Name: Author Keywords, Length: 3400, dtype: string"
      ]
     },
     "execution_count": 12,
     "metadata": {},
     "output_type": "execute_result"
    }
   ],
   "source": [
    "data['Author Keywords']"
   ]
  },
  {
   "cell_type": "code",
   "execution_count": 13,
   "metadata": {},
   "outputs": [
    {
     "name": "stderr",
     "output_type": "stream",
     "text": [
      "C:\\Users\\maart\\AppData\\Local\\Temp\\ipykernel_2224\\2047529099.py:1: SettingWithCopyWarning: \n",
      "A value is trying to be set on a copy of a slice from a DataFrame\n",
      "\n",
      "See the caveats in the documentation: https://pandas.pydata.org/pandas-docs/stable/user_guide/indexing.html#returning-a-view-versus-a-copy\n",
      "  data.dropna(inplace = True,)\n"
     ]
    }
   ],
   "source": [
    "data.dropna(inplace = True,)"
   ]
  },
  {
   "cell_type": "code",
   "execution_count": 14,
   "metadata": {},
   "outputs": [
    {
     "data": {
      "text/plain": [
       "0    Consumption; Consumption inequality; Credit co...\n",
       "1    Bank branch expansion; Financial permeation; F...\n",
       "2    Customer value; FinTech; Gamification; Marketi...\n",
       "3    Crowdfunding; Fintech; Health crowdfunding; He...\n",
       "4    Asymmetric information; Consumer credit; Exper...\n",
       "Name: Author Keywords, dtype: string"
      ]
     },
     "execution_count": 14,
     "metadata": {},
     "output_type": "execute_result"
    }
   ],
   "source": [
    "data['Author Keywords'].head()"
   ]
  },
  {
   "cell_type": "code",
   "execution_count": 15,
   "metadata": {},
   "outputs": [
    {
     "data": {
      "text/plain": [
       "False    2781\n",
       "Name: Author Keywords, dtype: int64"
      ]
     },
     "execution_count": 15,
     "metadata": {},
     "output_type": "execute_result"
    }
   ],
   "source": [
    "data['Author Keywords'].isnull().value_counts()"
   ]
  },
  {
   "cell_type": "code",
   "execution_count": 16,
   "metadata": {},
   "outputs": [
    {
     "name": "stderr",
     "output_type": "stream",
     "text": [
      "  0%|          | 0/2781 [00:00<?, ?it/s]c:\\Users\\maart\\anaconda3\\lib\\site-packages\\spacy\\pipeline\\lemmatizer.py:211: UserWarning: [W108] The rule-based lemmatizer did not find POS annotation for one or more tokens. Check that your pipeline includes components that assign token.pos, typically 'tagger'+'attribute_ruler' or 'morphologizer'.\n",
      "  warnings.warn(Warnings.W108)\n",
      " 92%|█████████▏| 2561/2781 [00:02<00:00, 1284.03it/s]"
     ]
    }
   ],
   "source": [
    "# run progress bar and clean up using spacy but without some heavy parts of the pipeline\n",
    "\n",
    "clean_text = []\n",
    "\n",
    "pbar = tqdm.tqdm(total=len(data['Author Keywords']),position=0, leave=True)\n",
    "\n",
    "for text in nlp.pipe(data['Author Keywords'], disable=[\"tagger\", \"parser\", \"ner\"]):\n",
    "\n",
    "  txt = [token.lemma_.lower() for token in text \n",
    "         if token.is_alpha \n",
    "         and not token.is_stop \n",
    "         and not token.is_punct]\n",
    "\n",
    "  clean_text.append(\" \".join(txt))\n",
    "\n",
    "  pbar.update(1)"
   ]
  },
  {
   "cell_type": "code",
   "execution_count": 17,
   "metadata": {},
   "outputs": [],
   "source": [
    "# write everything into one function that can be re-used later\n",
    "def text_prepro(texts):\n",
    "  \"\"\"\n",
    "  takes in a pandas series (1 column of a DF)\n",
    "  removes twitter stuff\n",
    "  lowercases, normalizes text\n",
    "  \"\"\"\n",
    "  texts_clean = texts.map(lambda t: prepro.clean(t))\n",
    "  clean_container = []\n",
    "\n",
    "  pbar = tqdm.tqdm(total=len(texts_clean),position=0, leave=True)\n",
    "\n",
    "  for text in nlp.pipe(texts_clean, disable=[\"tagger\", \"parser\", \"ner\"]):\n",
    "\n",
    "    txt = [token.lemma_.lower() for token in text \n",
    "          if token.is_alpha \n",
    "          and not token.is_stop \n",
    "          and not token.is_punct]\n",
    "\n",
    "    clean_container.append(\" \".join(txt))\n",
    "    pbar.update(1)\n",
    "  \n",
    "  return clean_container"
   ]
  },
  {
   "cell_type": "code",
   "execution_count": 18,
   "metadata": {},
   "outputs": [
    {
     "name": "stderr",
     "output_type": "stream",
     "text": [
      "100%|██████████| 2781/2781 [00:02<00:00, 1310.35it/s]\n",
      "C:\\Users\\maart\\AppData\\Local\\Temp\\ipykernel_2224\\4189515260.py:2: SettingWithCopyWarning: \n",
      "A value is trying to be set on a copy of a slice from a DataFrame.\n",
      "Try using .loc[row_indexer,col_indexer] = value instead\n",
      "\n",
      "See the caveats in the documentation: https://pandas.pydata.org/pandas-docs/stable/user_guide/indexing.html#returning-a-view-versus-a-copy\n",
      "  data['Author_Keywords'] = text_prepro(data['Author Keywords'])\n"
     ]
    }
   ],
   "source": [
    "# apply all prepro-pipeline to texts\n",
    "data['Author_Keywords'] = text_prepro(data['Author Keywords'])"
   ]
  },
  {
   "cell_type": "code",
   "execution_count": 19,
   "metadata": {},
   "outputs": [],
   "source": [
    "# preprocess texts (we need tokens)\n",
    "tokens = []\n",
    "\n",
    "for summary in nlp.pipe(data['Author Keywords'], disable=[\"ner\"]):\n",
    "  proj_tok = [token.lemma_.lower() for token in summary \n",
    "              if token.pos_ in ['NOUN', 'PROPN', 'ADJ', 'ADV'] \n",
    "              and not token.is_stop\n",
    "              and not token.is_punct] \n",
    "  tokens.append(proj_tok)"
   ]
  },
  {
   "cell_type": "code",
   "execution_count": 20,
   "metadata": {},
   "outputs": [
    {
     "name": "stderr",
     "output_type": "stream",
     "text": [
      "C:\\Users\\maart\\AppData\\Local\\Temp\\ipykernel_2224\\2173657068.py:1: SettingWithCopyWarning: \n",
      "A value is trying to be set on a copy of a slice from a DataFrame.\n",
      "Try using .loc[row_indexer,col_indexer] = value instead\n",
      "\n",
      "See the caveats in the documentation: https://pandas.pydata.org/pandas-docs/stable/user_guide/indexing.html#returning-a-view-versus-a-copy\n",
      "  data['tokens'] = tokens\n"
     ]
    }
   ],
   "source": [
    "data['tokens'] = tokens"
   ]
  },
  {
   "cell_type": "code",
   "execution_count": 21,
   "metadata": {},
   "outputs": [],
   "source": [
    "# Create a Dictionary from the articles: dictionary\n",
    "dictionary = Dictionary(data['tokens'])\n",
    "# filter out low-frequency / high-frequency stuff, also limit the vocabulary to max 500 words, since we have a low sample size ( In the example he did, he used 1000)\n",
    "dictionary.filter_extremes(no_below=50, no_above=0.5, keep_n=1000)\n",
    "# construct corpus using this dictionary\n",
    "corpus = [dictionary.doc2bow(doc) for doc in data['tokens']]"
   ]
  },
  {
   "cell_type": "markdown",
   "metadata": {},
   "source": [
    "### UML"
   ]
  },
  {
   "cell_type": "code",
   "execution_count": 22,
   "metadata": {},
   "outputs": [],
   "source": [
    "#Importing UML packages\n",
    "from sklearn.preprocessing import StandardScaler\n",
    "scaler = StandardScaler()"
   ]
  },
  {
   "cell_type": "code",
   "execution_count": 23,
   "metadata": {},
   "outputs": [],
   "source": [
    "from sklearn.feature_extraction.text import TfidfVectorizer\n",
    "tfidf = TfidfVectorizer()"
   ]
  },
  {
   "cell_type": "code",
   "execution_count": 24,
   "metadata": {},
   "outputs": [],
   "source": [
    "sparse_matrix =tfidf.fit_transform(data['Author Keywords'])"
   ]
  },
  {
   "cell_type": "code",
   "execution_count": 25,
   "metadata": {},
   "outputs": [
    {
     "name": "stderr",
     "output_type": "stream",
     "text": [
      "100%|██████████| 2781/2781 [00:20<00:00, 1284.03it/s]"
     ]
    }
   ],
   "source": [
    "#Import nmf\n",
    "from sklearn.decomposition import NMF"
   ]
  },
  {
   "cell_type": "code",
   "execution_count": 26,
   "metadata": {},
   "outputs": [],
   "source": [
    "#Using 4 components in order to determine relevancy\n",
    "nmf = NMF(n_components=5)"
   ]
  },
  {
   "cell_type": "code",
   "execution_count": 28,
   "metadata": {},
   "outputs": [],
   "source": [
    "matrix_nmf = nmf.fit_transform(sparse_matrix)"
   ]
  },
  {
   "cell_type": "code",
   "execution_count": 29,
   "metadata": {},
   "outputs": [
    {
     "data": {
      "text/plain": [
       "(2781, 5)"
      ]
     },
     "execution_count": 29,
     "metadata": {},
     "output_type": "execute_result"
    }
   ],
   "source": [
    "matrix_nmf.shape"
   ]
  },
  {
   "cell_type": "code",
   "execution_count": 37,
   "metadata": {},
   "outputs": [
    {
     "data": {
      "text/plain": [
       "(2781,)"
      ]
     },
     "execution_count": 37,
     "metadata": {},
     "output_type": "execute_result"
    }
   ],
   "source": [
    "data['Author Keywords'].shape"
   ]
  },
  {
   "cell_type": "code",
   "execution_count": 38,
   "metadata": {},
   "outputs": [
    {
     "data": {
      "text/plain": [
       "(5, 3841)"
      ]
     },
     "execution_count": 38,
     "metadata": {},
     "output_type": "execute_result"
    }
   ],
   "source": [
    "nmf.components_.shape"
   ]
  },
  {
   "cell_type": "code",
   "execution_count": 40,
   "metadata": {},
   "outputs": [
    {
     "ename": "ValueError",
     "evalue": "Shape of passed values is (5, 3841), indices imply (5, 2781)",
     "output_type": "error",
     "traceback": [
      "\u001b[1;31m---------------------------------------------------------------------------\u001b[0m",
      "\u001b[1;31mValueError\u001b[0m                                Traceback (most recent call last)",
      "\u001b[1;32mc:\\Users\\maart\\OneDrive\\Skrivebord\\M2\\Module-2\\Sparse nmf.ipynb Cell 36\u001b[0m in \u001b[0;36m<cell line: 3>\u001b[1;34m()\u001b[0m\n\u001b[0;32m      <a href='vscode-notebook-cell:/c%3A/Users/maart/OneDrive/Skrivebord/M2/Module-2/Sparse%20nmf.ipynb#Y222sZmlsZQ%3D%3D?line=0'>1</a>\u001b[0m \u001b[39m#2 components are more relevant\u001b[39;00m\n\u001b[0;32m      <a href='vscode-notebook-cell:/c%3A/Users/maart/OneDrive/Skrivebord/M2/Module-2/Sparse%20nmf.ipynb#Y222sZmlsZQ%3D%3D?line=1'>2</a>\u001b[0m plt\u001b[39m.\u001b[39mfigure(figsize\u001b[39m=\u001b[39m(\u001b[39m20\u001b[39m,\u001b[39m3\u001b[39m))\n\u001b[1;32m----> <a href='vscode-notebook-cell:/c%3A/Users/maart/OneDrive/Skrivebord/M2/Module-2/Sparse%20nmf.ipynb#Y222sZmlsZQ%3D%3D?line=2'>3</a>\u001b[0m sns\u001b[39m.\u001b[39mheatmap(pd\u001b[39m.\u001b[39;49mDataFrame(nmf\u001b[39m.\u001b[39;49mcomponents_, columns\u001b[39m=\u001b[39;49mdata[\u001b[39m'\u001b[39;49m\u001b[39mAuthor Keywords\u001b[39;49m\u001b[39m'\u001b[39;49m]), annot\u001b[39m=\u001b[39m\u001b[39mTrue\u001b[39;00m)\n",
      "File \u001b[1;32mc:\\Users\\maart\\anaconda3\\lib\\site-packages\\pandas\\core\\frame.py:694\u001b[0m, in \u001b[0;36mDataFrame.__init__\u001b[1;34m(self, data, index, columns, dtype, copy)\u001b[0m\n\u001b[0;32m    684\u001b[0m         mgr \u001b[39m=\u001b[39m dict_to_mgr(\n\u001b[0;32m    685\u001b[0m             \u001b[39m# error: Item \"ndarray\" of \"Union[ndarray, Series, Index]\" has no\u001b[39;00m\n\u001b[0;32m    686\u001b[0m             \u001b[39m# attribute \"name\"\u001b[39;00m\n\u001b[1;32m   (...)\u001b[0m\n\u001b[0;32m    691\u001b[0m             typ\u001b[39m=\u001b[39mmanager,\n\u001b[0;32m    692\u001b[0m         )\n\u001b[0;32m    693\u001b[0m     \u001b[39melse\u001b[39;00m:\n\u001b[1;32m--> 694\u001b[0m         mgr \u001b[39m=\u001b[39m ndarray_to_mgr(\n\u001b[0;32m    695\u001b[0m             data,\n\u001b[0;32m    696\u001b[0m             index,\n\u001b[0;32m    697\u001b[0m             columns,\n\u001b[0;32m    698\u001b[0m             dtype\u001b[39m=\u001b[39;49mdtype,\n\u001b[0;32m    699\u001b[0m             copy\u001b[39m=\u001b[39;49mcopy,\n\u001b[0;32m    700\u001b[0m             typ\u001b[39m=\u001b[39;49mmanager,\n\u001b[0;32m    701\u001b[0m         )\n\u001b[0;32m    703\u001b[0m \u001b[39m# For data is list-like, or Iterable (will consume into list)\u001b[39;00m\n\u001b[0;32m    704\u001b[0m \u001b[39melif\u001b[39;00m is_list_like(data):\n",
      "File \u001b[1;32mc:\\Users\\maart\\anaconda3\\lib\\site-packages\\pandas\\core\\internals\\construction.py:351\u001b[0m, in \u001b[0;36mndarray_to_mgr\u001b[1;34m(values, index, columns, dtype, copy, typ)\u001b[0m\n\u001b[0;32m    346\u001b[0m \u001b[39m# _prep_ndarray ensures that values.ndim == 2 at this point\u001b[39;00m\n\u001b[0;32m    347\u001b[0m index, columns \u001b[39m=\u001b[39m _get_axes(\n\u001b[0;32m    348\u001b[0m     values\u001b[39m.\u001b[39mshape[\u001b[39m0\u001b[39m], values\u001b[39m.\u001b[39mshape[\u001b[39m1\u001b[39m], index\u001b[39m=\u001b[39mindex, columns\u001b[39m=\u001b[39mcolumns\n\u001b[0;32m    349\u001b[0m )\n\u001b[1;32m--> 351\u001b[0m _check_values_indices_shape_match(values, index, columns)\n\u001b[0;32m    353\u001b[0m \u001b[39mif\u001b[39;00m typ \u001b[39m==\u001b[39m \u001b[39m\"\u001b[39m\u001b[39marray\u001b[39m\u001b[39m\"\u001b[39m:\n\u001b[0;32m    355\u001b[0m     \u001b[39mif\u001b[39;00m \u001b[39missubclass\u001b[39m(values\u001b[39m.\u001b[39mdtype\u001b[39m.\u001b[39mtype, \u001b[39mstr\u001b[39m):\n",
      "File \u001b[1;32mc:\\Users\\maart\\anaconda3\\lib\\site-packages\\pandas\\core\\internals\\construction.py:422\u001b[0m, in \u001b[0;36m_check_values_indices_shape_match\u001b[1;34m(values, index, columns)\u001b[0m\n\u001b[0;32m    420\u001b[0m passed \u001b[39m=\u001b[39m values\u001b[39m.\u001b[39mshape\n\u001b[0;32m    421\u001b[0m implied \u001b[39m=\u001b[39m (\u001b[39mlen\u001b[39m(index), \u001b[39mlen\u001b[39m(columns))\n\u001b[1;32m--> 422\u001b[0m \u001b[39mraise\u001b[39;00m \u001b[39mValueError\u001b[39;00m(\u001b[39mf\u001b[39m\u001b[39m\"\u001b[39m\u001b[39mShape of passed values is \u001b[39m\u001b[39m{\u001b[39;00mpassed\u001b[39m}\u001b[39;00m\u001b[39m, indices imply \u001b[39m\u001b[39m{\u001b[39;00mimplied\u001b[39m}\u001b[39;00m\u001b[39m\"\u001b[39m)\n",
      "\u001b[1;31mValueError\u001b[0m: Shape of passed values is (5, 3841), indices imply (5, 2781)"
     ]
    },
    {
     "data": {
      "text/plain": [
       "<Figure size 1440x216 with 0 Axes>"
      ]
     },
     "metadata": {},
     "output_type": "display_data"
    }
   ],
   "source": [
    "#2 components are more relevant\n",
    "plt.figure(figsize=(20,3))\n",
    "sns.heatmap(pd.DataFrame(nmf.components_, columns=data['Author Keywords']), annot=True)"
   ]
  },
  {
   "cell_type": "markdown",
   "metadata": {},
   "source": [
    "#### K-means and clustering"
   ]
  },
  {
   "cell_type": "code",
   "execution_count": 41,
   "metadata": {},
   "outputs": [],
   "source": [
    "import umap.umap_ as umap"
   ]
  },
  {
   "cell_type": "code",
   "execution_count": 42,
   "metadata": {},
   "outputs": [],
   "source": [
    "umap_scaler = umap.UMAP()"
   ]
  },
  {
   "cell_type": "code",
   "execution_count": 43,
   "metadata": {},
   "outputs": [],
   "source": [
    "#Using standard scaling data\n",
    "embeddings = umap_scaler.fit_transform(matrix_nmf)"
   ]
  },
  {
   "cell_type": "code",
   "execution_count": 44,
   "metadata": {},
   "outputs": [],
   "source": [
    "from sklearn.cluster import KMeans\n",
    "clusterer = KMeans(n_clusters=3)"
   ]
  },
  {
   "cell_type": "code",
   "execution_count": 45,
   "metadata": {},
   "outputs": [
    {
     "name": "stderr",
     "output_type": "stream",
     "text": [
      "c:\\Users\\maart\\anaconda3\\lib\\site-packages\\sklearn\\cluster\\_kmeans.py:1334: UserWarning: KMeans is known to have a memory leak on Windows with MKL, when there are less chunks than available threads. You can avoid it by setting the environment variable OMP_NUM_THREADS=11.\n",
      "  warnings.warn(\n",
      "c:\\Users\\maart\\anaconda3\\lib\\site-packages\\sklearn\\cluster\\_kmeans.py:1334: UserWarning: KMeans is known to have a memory leak on Windows with MKL, when there are less chunks than available threads. You can avoid it by setting the environment variable OMP_NUM_THREADS=11.\n",
      "  warnings.warn(\n",
      "c:\\Users\\maart\\anaconda3\\lib\\site-packages\\sklearn\\cluster\\_kmeans.py:1334: UserWarning: KMeans is known to have a memory leak on Windows with MKL, when there are less chunks than available threads. You can avoid it by setting the environment variable OMP_NUM_THREADS=11.\n",
      "  warnings.warn(\n",
      "c:\\Users\\maart\\anaconda3\\lib\\site-packages\\sklearn\\cluster\\_kmeans.py:1334: UserWarning: KMeans is known to have a memory leak on Windows with MKL, when there are less chunks than available threads. You can avoid it by setting the environment variable OMP_NUM_THREADS=11.\n",
      "  warnings.warn(\n",
      "c:\\Users\\maart\\anaconda3\\lib\\site-packages\\sklearn\\cluster\\_kmeans.py:1334: UserWarning: KMeans is known to have a memory leak on Windows with MKL, when there are less chunks than available threads. You can avoid it by setting the environment variable OMP_NUM_THREADS=11.\n",
      "  warnings.warn(\n",
      "c:\\Users\\maart\\anaconda3\\lib\\site-packages\\sklearn\\cluster\\_kmeans.py:1334: UserWarning: KMeans is known to have a memory leak on Windows with MKL, when there are less chunks than available threads. You can avoid it by setting the environment variable OMP_NUM_THREADS=11.\n",
      "  warnings.warn(\n",
      "c:\\Users\\maart\\anaconda3\\lib\\site-packages\\sklearn\\cluster\\_kmeans.py:1334: UserWarning: KMeans is known to have a memory leak on Windows with MKL, when there are less chunks than available threads. You can avoid it by setting the environment variable OMP_NUM_THREADS=11.\n",
      "  warnings.warn(\n",
      "c:\\Users\\maart\\anaconda3\\lib\\site-packages\\sklearn\\cluster\\_kmeans.py:1334: UserWarning: KMeans is known to have a memory leak on Windows with MKL, when there are less chunks than available threads. You can avoid it by setting the environment variable OMP_NUM_THREADS=11.\n",
      "  warnings.warn(\n",
      "c:\\Users\\maart\\anaconda3\\lib\\site-packages\\sklearn\\cluster\\_kmeans.py:1334: UserWarning: KMeans is known to have a memory leak on Windows with MKL, when there are less chunks than available threads. You can avoid it by setting the environment variable OMP_NUM_THREADS=11.\n",
      "  warnings.warn(\n"
     ]
    }
   ],
   "source": [
    "Sum_of_squared_distances = []\n",
    "K = range(1,10)\n",
    "for k in K:\n",
    "    km = KMeans(n_clusters=k)\n",
    "    km = km.fit(embeddings)\n",
    "    Sum_of_squared_distances.append(km.inertia_)"
   ]
  },
  {
   "cell_type": "markdown",
   "metadata": {},
   "source": [
    "##### Elbow Method for clusters"
   ]
  },
  {
   "cell_type": "code",
   "execution_count": 49,
   "metadata": {},
   "outputs": [
    {
     "data": {
      "image/png": "[encoded data removed]",
      "text/plain": [
       "<Figure size 432x288 with 1 Axes>"
      ]
     },
     "metadata": {
      "needs_background": "light"
     },
     "output_type": "display_data"
    }
   ],
   "source": [
    "plt.plot(K, Sum_of_squared_distances, 'bx-')\n",
    "plt.xlabel('k')\n",
    "plt.ylabel('Sum_of_squared_distances')\n",
    "plt.title('Elbow Method For Optimal k')\n",
    "plt.show()"
   ]
  },
  {
   "cell_type": "code",
   "execution_count": 46,
   "metadata": {},
   "outputs": [
    {
     "name": "stderr",
     "output_type": "stream",
     "text": [
      "c:\\Users\\maart\\anaconda3\\lib\\site-packages\\sklearn\\cluster\\_kmeans.py:1334: UserWarning: KMeans is known to have a memory leak on Windows with MKL, when there are less chunks than available threads. You can avoid it by setting the environment variable OMP_NUM_THREADS=11.\n",
      "  warnings.warn(\n",
      "c:\\Users\\maart\\anaconda3\\lib\\site-packages\\sklearn\\cluster\\_kmeans.py:1334: UserWarning: KMeans is known to have a memory leak on Windows with MKL, when there are less chunks than available threads. You can avoid it by setting the environment variable OMP_NUM_THREADS=11.\n",
      "  warnings.warn(\n",
      "c:\\Users\\maart\\anaconda3\\lib\\site-packages\\sklearn\\cluster\\_kmeans.py:1334: UserWarning: KMeans is known to have a memory leak on Windows with MKL, when there are less chunks than available threads. You can avoid it by setting the environment variable OMP_NUM_THREADS=11.\n",
      "  warnings.warn(\n",
      "c:\\Users\\maart\\anaconda3\\lib\\site-packages\\sklearn\\cluster\\_kmeans.py:1334: UserWarning: KMeans is known to have a memory leak on Windows with MKL, when there are less chunks than available threads. You can avoid it by setting the environment variable OMP_NUM_THREADS=11.\n",
      "  warnings.warn(\n",
      "c:\\Users\\maart\\anaconda3\\lib\\site-packages\\sklearn\\cluster\\_kmeans.py:1334: UserWarning: KMeans is known to have a memory leak on Windows with MKL, when there are less chunks than available threads. You can avoid it by setting the environment variable OMP_NUM_THREADS=11.\n",
      "  warnings.warn(\n",
      "c:\\Users\\maart\\anaconda3\\lib\\site-packages\\sklearn\\cluster\\_kmeans.py:1334: UserWarning: KMeans is known to have a memory leak on Windows with MKL, when there are less chunks than available threads. You can avoid it by setting the environment variable OMP_NUM_THREADS=11.\n",
      "  warnings.warn(\n",
      "c:\\Users\\maart\\anaconda3\\lib\\site-packages\\sklearn\\cluster\\_kmeans.py:1334: UserWarning: KMeans is known to have a memory leak on Windows with MKL, when there are less chunks than available threads. You can avoid it by setting the environment variable OMP_NUM_THREADS=11.\n",
      "  warnings.warn(\n",
      "c:\\Users\\maart\\anaconda3\\lib\\site-packages\\sklearn\\cluster\\_kmeans.py:1334: UserWarning: KMeans is known to have a memory leak on Windows with MKL, when there are less chunks than available threads. You can avoid it by setting the environment variable OMP_NUM_THREADS=11.\n",
      "  warnings.warn(\n",
      "c:\\Users\\maart\\anaconda3\\lib\\site-packages\\sklearn\\cluster\\_kmeans.py:1334: UserWarning: KMeans is known to have a memory leak on Windows with MKL, when there are less chunks than available threads. You can avoid it by setting the environment variable OMP_NUM_THREADS=11.\n",
      "  warnings.warn(\n"
     ]
    },
    {
     "data": {
      "image/png": "[encoded data removed]",
      "text/plain": [
       "<Figure size 432x288 with 1 Axes>"
      ]
     },
     "metadata": {
      "needs_background": "light"
     },
     "output_type": "display_data"
    }
   ],
   "source": [
    "umap_scaler_km = umap.UMAP(n_components=6)\n",
    "embeddings_km = umap_scaler.fit_transform(matrix_nmf)\n",
    "\n",
    "\n",
    "Sum_of_squared_distances = []\n",
    "K = range(1,10)\n",
    "for k in K:\n",
    "    km = KMeans(n_clusters=k)\n",
    "    km = km.fit(embeddings_km)\n",
    "    Sum_of_squared_distances.append(km.inertia_)\n",
    "\n",
    "\n",
    "plt.plot(K, Sum_of_squared_distances, 'bx-')\n",
    "plt.xlabel('k')\n",
    "plt.ylabel('Sum_of_squared_distances')\n",
    "plt.title('Elbow Method For Optimal k')\n",
    "plt.show()"
   ]
  },
  {
   "cell_type": "code",
   "execution_count": 47,
   "metadata": {},
   "outputs": [
    {
     "name": "stderr",
     "output_type": "stream",
     "text": [
      "c:\\Users\\maart\\anaconda3\\lib\\site-packages\\sklearn\\cluster\\_kmeans.py:1334: UserWarning: KMeans is known to have a memory leak on Windows with MKL, when there are less chunks than available threads. You can avoid it by setting the environment variable OMP_NUM_THREADS=11.\n",
      "  warnings.warn(\n"
     ]
    }
   ],
   "source": [
    "#Assign variables some values\n",
    "clusterer = KMeans(n_clusters=3, random_state=42, n_init=10)\n",
    "label = clusterer.fit_predict(embeddings)\n",
    "centroids = clusterer.cluster_centers_"
   ]
  },
  {
   "cell_type": "code",
   "execution_count": 51,
   "metadata": {},
   "outputs": [
    {
     "ename": "ValueError",
     "evalue": "x encoding field is specified without a type; the type cannot be inferred because it does not match any column in the data.",
     "output_type": "error",
     "traceback": [
      "\u001b[1;31m---------------------------------------------------------------------------\u001b[0m",
      "\u001b[1;31mValueError\u001b[0m                                Traceback (most recent call last)",
      "File \u001b[1;32mc:\\Users\\maart\\anaconda3\\lib\\site-packages\\altair\\vegalite\\v4\\api.py:2020\u001b[0m, in \u001b[0;36mChart.to_dict\u001b[1;34m(self, *args, **kwargs)\u001b[0m\n\u001b[0;32m   2018\u001b[0m     copy\u001b[39m.\u001b[39mdata \u001b[39m=\u001b[39m core\u001b[39m.\u001b[39mInlineData(values\u001b[39m=\u001b[39m[{}])\n\u001b[0;32m   2019\u001b[0m     \u001b[39mreturn\u001b[39;00m \u001b[39msuper\u001b[39m(Chart, copy)\u001b[39m.\u001b[39mto_dict(\u001b[39m*\u001b[39margs, \u001b[39m*\u001b[39m\u001b[39m*\u001b[39mkwargs)\n\u001b[1;32m-> 2020\u001b[0m \u001b[39mreturn\u001b[39;00m \u001b[39msuper\u001b[39m()\u001b[39m.\u001b[39mto_dict(\u001b[39m*\u001b[39margs, \u001b[39m*\u001b[39m\u001b[39m*\u001b[39mkwargs)\n",
      "File \u001b[1;32mc:\\Users\\maart\\anaconda3\\lib\\site-packages\\altair\\vegalite\\v4\\api.py:384\u001b[0m, in \u001b[0;36mTopLevelMixin.to_dict\u001b[1;34m(self, *args, **kwargs)\u001b[0m\n\u001b[0;32m    381\u001b[0m kwargs[\u001b[39m\"\u001b[39m\u001b[39mcontext\u001b[39m\u001b[39m\"\u001b[39m] \u001b[39m=\u001b[39m context\n\u001b[0;32m    383\u001b[0m \u001b[39mtry\u001b[39;00m:\n\u001b[1;32m--> 384\u001b[0m     dct \u001b[39m=\u001b[39m \u001b[39msuper\u001b[39m(TopLevelMixin, copy)\u001b[39m.\u001b[39mto_dict(\u001b[39m*\u001b[39margs, \u001b[39m*\u001b[39m\u001b[39m*\u001b[39mkwargs)\n\u001b[0;32m    385\u001b[0m \u001b[39mexcept\u001b[39;00m jsonschema\u001b[39m.\u001b[39mValidationError:\n\u001b[0;32m    386\u001b[0m     dct \u001b[39m=\u001b[39m \u001b[39mNone\u001b[39;00m\n",
      "File \u001b[1;32mc:\\Users\\maart\\anaconda3\\lib\\site-packages\\altair\\utils\\schemapi.py:326\u001b[0m, in \u001b[0;36mSchemaBase.to_dict\u001b[1;34m(self, validate, ignore, context)\u001b[0m\n\u001b[0;32m    324\u001b[0m     result \u001b[39m=\u001b[39m _todict(\u001b[39mself\u001b[39m\u001b[39m.\u001b[39m_args[\u001b[39m0\u001b[39m], validate\u001b[39m=\u001b[39msub_validate, context\u001b[39m=\u001b[39mcontext)\n\u001b[0;32m    325\u001b[0m \u001b[39melif\u001b[39;00m \u001b[39mnot\u001b[39;00m \u001b[39mself\u001b[39m\u001b[39m.\u001b[39m_args:\n\u001b[1;32m--> 326\u001b[0m     result \u001b[39m=\u001b[39m _todict(\n\u001b[0;32m    327\u001b[0m         {k: v \u001b[39mfor\u001b[39;49;00m k, v \u001b[39min\u001b[39;49;00m \u001b[39mself\u001b[39;49m\u001b[39m.\u001b[39;49m_kwds\u001b[39m.\u001b[39;49mitems() \u001b[39mif\u001b[39;49;00m k \u001b[39mnot\u001b[39;49;00m \u001b[39min\u001b[39;49;00m ignore},\n\u001b[0;32m    328\u001b[0m         validate\u001b[39m=\u001b[39;49msub_validate,\n\u001b[0;32m    329\u001b[0m         context\u001b[39m=\u001b[39;49mcontext,\n\u001b[0;32m    330\u001b[0m     )\n\u001b[0;32m    331\u001b[0m \u001b[39melse\u001b[39;00m:\n\u001b[0;32m    332\u001b[0m     \u001b[39mraise\u001b[39;00m \u001b[39mValueError\u001b[39;00m(\n\u001b[0;32m    333\u001b[0m         \u001b[39m\"\u001b[39m\u001b[39m{}\u001b[39;00m\u001b[39m instance has both a value and properties : \u001b[39m\u001b[39m\"\u001b[39m\n\u001b[0;32m    334\u001b[0m         \u001b[39m\"\u001b[39m\u001b[39mcannot serialize to dict\u001b[39m\u001b[39m\"\u001b[39m\u001b[39m.\u001b[39mformat(\u001b[39mself\u001b[39m\u001b[39m.\u001b[39m\u001b[39m__class__\u001b[39m)\n\u001b[0;32m    335\u001b[0m     )\n",
      "File \u001b[1;32mc:\\Users\\maart\\anaconda3\\lib\\site-packages\\altair\\utils\\schemapi.py:60\u001b[0m, in \u001b[0;36m_todict\u001b[1;34m(obj, validate, context)\u001b[0m\n\u001b[0;32m     58\u001b[0m     \u001b[39mreturn\u001b[39;00m [_todict(v, validate, context) \u001b[39mfor\u001b[39;00m v \u001b[39min\u001b[39;00m obj]\n\u001b[0;32m     59\u001b[0m \u001b[39melif\u001b[39;00m \u001b[39misinstance\u001b[39m(obj, \u001b[39mdict\u001b[39m):\n\u001b[1;32m---> 60\u001b[0m     \u001b[39mreturn\u001b[39;00m {\n\u001b[0;32m     61\u001b[0m         k: _todict(v, validate, context)\n\u001b[0;32m     62\u001b[0m         \u001b[39mfor\u001b[39;00m k, v \u001b[39min\u001b[39;00m obj\u001b[39m.\u001b[39mitems()\n\u001b[0;32m     63\u001b[0m         \u001b[39mif\u001b[39;00m v \u001b[39mis\u001b[39;00m \u001b[39mnot\u001b[39;00m Undefined\n\u001b[0;32m     64\u001b[0m     }\n\u001b[0;32m     65\u001b[0m \u001b[39melif\u001b[39;00m \u001b[39mhasattr\u001b[39m(obj, \u001b[39m\"\u001b[39m\u001b[39mto_dict\u001b[39m\u001b[39m\"\u001b[39m):\n\u001b[0;32m     66\u001b[0m     \u001b[39mreturn\u001b[39;00m obj\u001b[39m.\u001b[39mto_dict()\n",
      "File \u001b[1;32mc:\\Users\\maart\\anaconda3\\lib\\site-packages\\altair\\utils\\schemapi.py:61\u001b[0m, in \u001b[0;36m<dictcomp>\u001b[1;34m(.0)\u001b[0m\n\u001b[0;32m     58\u001b[0m     \u001b[39mreturn\u001b[39;00m [_todict(v, validate, context) \u001b[39mfor\u001b[39;00m v \u001b[39min\u001b[39;00m obj]\n\u001b[0;32m     59\u001b[0m \u001b[39melif\u001b[39;00m \u001b[39misinstance\u001b[39m(obj, \u001b[39mdict\u001b[39m):\n\u001b[0;32m     60\u001b[0m     \u001b[39mreturn\u001b[39;00m {\n\u001b[1;32m---> 61\u001b[0m         k: _todict(v, validate, context)\n\u001b[0;32m     62\u001b[0m         \u001b[39mfor\u001b[39;00m k, v \u001b[39min\u001b[39;00m obj\u001b[39m.\u001b[39mitems()\n\u001b[0;32m     63\u001b[0m         \u001b[39mif\u001b[39;00m v \u001b[39mis\u001b[39;00m \u001b[39mnot\u001b[39;00m Undefined\n\u001b[0;32m     64\u001b[0m     }\n\u001b[0;32m     65\u001b[0m \u001b[39melif\u001b[39;00m \u001b[39mhasattr\u001b[39m(obj, \u001b[39m\"\u001b[39m\u001b[39mto_dict\u001b[39m\u001b[39m\"\u001b[39m):\n\u001b[0;32m     66\u001b[0m     \u001b[39mreturn\u001b[39;00m obj\u001b[39m.\u001b[39mto_dict()\n",
      "File \u001b[1;32mc:\\Users\\maart\\anaconda3\\lib\\site-packages\\altair\\utils\\schemapi.py:56\u001b[0m, in \u001b[0;36m_todict\u001b[1;34m(obj, validate, context)\u001b[0m\n\u001b[0;32m     54\u001b[0m \u001b[39m\"\"\"Convert an object to a dict representation.\"\"\"\u001b[39;00m\n\u001b[0;32m     55\u001b[0m \u001b[39mif\u001b[39;00m \u001b[39misinstance\u001b[39m(obj, SchemaBase):\n\u001b[1;32m---> 56\u001b[0m     \u001b[39mreturn\u001b[39;00m obj\u001b[39m.\u001b[39;49mto_dict(validate\u001b[39m=\u001b[39;49mvalidate, context\u001b[39m=\u001b[39;49mcontext)\n\u001b[0;32m     57\u001b[0m \u001b[39melif\u001b[39;00m \u001b[39misinstance\u001b[39m(obj, (\u001b[39mlist\u001b[39m, \u001b[39mtuple\u001b[39m, np\u001b[39m.\u001b[39mndarray)):\n\u001b[0;32m     58\u001b[0m     \u001b[39mreturn\u001b[39;00m [_todict(v, validate, context) \u001b[39mfor\u001b[39;00m v \u001b[39min\u001b[39;00m obj]\n",
      "File \u001b[1;32mc:\\Users\\maart\\anaconda3\\lib\\site-packages\\altair\\utils\\schemapi.py:326\u001b[0m, in \u001b[0;36mSchemaBase.to_dict\u001b[1;34m(self, validate, ignore, context)\u001b[0m\n\u001b[0;32m    324\u001b[0m     result \u001b[39m=\u001b[39m _todict(\u001b[39mself\u001b[39m\u001b[39m.\u001b[39m_args[\u001b[39m0\u001b[39m], validate\u001b[39m=\u001b[39msub_validate, context\u001b[39m=\u001b[39mcontext)\n\u001b[0;32m    325\u001b[0m \u001b[39melif\u001b[39;00m \u001b[39mnot\u001b[39;00m \u001b[39mself\u001b[39m\u001b[39m.\u001b[39m_args:\n\u001b[1;32m--> 326\u001b[0m     result \u001b[39m=\u001b[39m _todict(\n\u001b[0;32m    327\u001b[0m         {k: v \u001b[39mfor\u001b[39;49;00m k, v \u001b[39min\u001b[39;49;00m \u001b[39mself\u001b[39;49m\u001b[39m.\u001b[39;49m_kwds\u001b[39m.\u001b[39;49mitems() \u001b[39mif\u001b[39;49;00m k \u001b[39mnot\u001b[39;49;00m \u001b[39min\u001b[39;49;00m ignore},\n\u001b[0;32m    328\u001b[0m         validate\u001b[39m=\u001b[39;49msub_validate,\n\u001b[0;32m    329\u001b[0m         context\u001b[39m=\u001b[39;49mcontext,\n\u001b[0;32m    330\u001b[0m     )\n\u001b[0;32m    331\u001b[0m \u001b[39melse\u001b[39;00m:\n\u001b[0;32m    332\u001b[0m     \u001b[39mraise\u001b[39;00m \u001b[39mValueError\u001b[39;00m(\n\u001b[0;32m    333\u001b[0m         \u001b[39m\"\u001b[39m\u001b[39m{}\u001b[39;00m\u001b[39m instance has both a value and properties : \u001b[39m\u001b[39m\"\u001b[39m\n\u001b[0;32m    334\u001b[0m         \u001b[39m\"\u001b[39m\u001b[39mcannot serialize to dict\u001b[39m\u001b[39m\"\u001b[39m\u001b[39m.\u001b[39mformat(\u001b[39mself\u001b[39m\u001b[39m.\u001b[39m\u001b[39m__class__\u001b[39m)\n\u001b[0;32m    335\u001b[0m     )\n",
      "File \u001b[1;32mc:\\Users\\maart\\anaconda3\\lib\\site-packages\\altair\\utils\\schemapi.py:60\u001b[0m, in \u001b[0;36m_todict\u001b[1;34m(obj, validate, context)\u001b[0m\n\u001b[0;32m     58\u001b[0m     \u001b[39mreturn\u001b[39;00m [_todict(v, validate, context) \u001b[39mfor\u001b[39;00m v \u001b[39min\u001b[39;00m obj]\n\u001b[0;32m     59\u001b[0m \u001b[39melif\u001b[39;00m \u001b[39misinstance\u001b[39m(obj, \u001b[39mdict\u001b[39m):\n\u001b[1;32m---> 60\u001b[0m     \u001b[39mreturn\u001b[39;00m {\n\u001b[0;32m     61\u001b[0m         k: _todict(v, validate, context)\n\u001b[0;32m     62\u001b[0m         \u001b[39mfor\u001b[39;00m k, v \u001b[39min\u001b[39;00m obj\u001b[39m.\u001b[39mitems()\n\u001b[0;32m     63\u001b[0m         \u001b[39mif\u001b[39;00m v \u001b[39mis\u001b[39;00m \u001b[39mnot\u001b[39;00m Undefined\n\u001b[0;32m     64\u001b[0m     }\n\u001b[0;32m     65\u001b[0m \u001b[39melif\u001b[39;00m \u001b[39mhasattr\u001b[39m(obj, \u001b[39m\"\u001b[39m\u001b[39mto_dict\u001b[39m\u001b[39m\"\u001b[39m):\n\u001b[0;32m     66\u001b[0m     \u001b[39mreturn\u001b[39;00m obj\u001b[39m.\u001b[39mto_dict()\n",
      "File \u001b[1;32mc:\\Users\\maart\\anaconda3\\lib\\site-packages\\altair\\utils\\schemapi.py:61\u001b[0m, in \u001b[0;36m<dictcomp>\u001b[1;34m(.0)\u001b[0m\n\u001b[0;32m     58\u001b[0m     \u001b[39mreturn\u001b[39;00m [_todict(v, validate, context) \u001b[39mfor\u001b[39;00m v \u001b[39min\u001b[39;00m obj]\n\u001b[0;32m     59\u001b[0m \u001b[39melif\u001b[39;00m \u001b[39misinstance\u001b[39m(obj, \u001b[39mdict\u001b[39m):\n\u001b[0;32m     60\u001b[0m     \u001b[39mreturn\u001b[39;00m {\n\u001b[1;32m---> 61\u001b[0m         k: _todict(v, validate, context)\n\u001b[0;32m     62\u001b[0m         \u001b[39mfor\u001b[39;00m k, v \u001b[39min\u001b[39;00m obj\u001b[39m.\u001b[39mitems()\n\u001b[0;32m     63\u001b[0m         \u001b[39mif\u001b[39;00m v \u001b[39mis\u001b[39;00m \u001b[39mnot\u001b[39;00m Undefined\n\u001b[0;32m     64\u001b[0m     }\n\u001b[0;32m     65\u001b[0m \u001b[39melif\u001b[39;00m \u001b[39mhasattr\u001b[39m(obj, \u001b[39m\"\u001b[39m\u001b[39mto_dict\u001b[39m\u001b[39m\"\u001b[39m):\n\u001b[0;32m     66\u001b[0m     \u001b[39mreturn\u001b[39;00m obj\u001b[39m.\u001b[39mto_dict()\n",
      "File \u001b[1;32mc:\\Users\\maart\\anaconda3\\lib\\site-packages\\altair\\utils\\schemapi.py:56\u001b[0m, in \u001b[0;36m_todict\u001b[1;34m(obj, validate, context)\u001b[0m\n\u001b[0;32m     54\u001b[0m \u001b[39m\"\"\"Convert an object to a dict representation.\"\"\"\u001b[39;00m\n\u001b[0;32m     55\u001b[0m \u001b[39mif\u001b[39;00m \u001b[39misinstance\u001b[39m(obj, SchemaBase):\n\u001b[1;32m---> 56\u001b[0m     \u001b[39mreturn\u001b[39;00m obj\u001b[39m.\u001b[39;49mto_dict(validate\u001b[39m=\u001b[39;49mvalidate, context\u001b[39m=\u001b[39;49mcontext)\n\u001b[0;32m     57\u001b[0m \u001b[39melif\u001b[39;00m \u001b[39misinstance\u001b[39m(obj, (\u001b[39mlist\u001b[39m, \u001b[39mtuple\u001b[39m, np\u001b[39m.\u001b[39mndarray)):\n\u001b[0;32m     58\u001b[0m     \u001b[39mreturn\u001b[39;00m [_todict(v, validate, context) \u001b[39mfor\u001b[39;00m v \u001b[39min\u001b[39;00m obj]\n",
      "File \u001b[1;32mc:\\Users\\maart\\anaconda3\\lib\\site-packages\\altair\\vegalite\\v4\\schema\\channels.py:40\u001b[0m, in \u001b[0;36mFieldChannelMixin.to_dict\u001b[1;34m(self, validate, ignore, context)\u001b[0m\n\u001b[0;32m     38\u001b[0m \u001b[39melif\u001b[39;00m \u001b[39mnot\u001b[39;00m (type_in_shorthand \u001b[39mor\u001b[39;00m type_defined_explicitly):\n\u001b[0;32m     39\u001b[0m     \u001b[39mif\u001b[39;00m \u001b[39misinstance\u001b[39m(context\u001b[39m.\u001b[39mget(\u001b[39m'\u001b[39m\u001b[39mdata\u001b[39m\u001b[39m'\u001b[39m, \u001b[39mNone\u001b[39;00m), pd\u001b[39m.\u001b[39mDataFrame):\n\u001b[1;32m---> 40\u001b[0m         \u001b[39mraise\u001b[39;00m \u001b[39mValueError\u001b[39;00m(\u001b[39m\"\u001b[39m\u001b[39m{}\u001b[39;00m\u001b[39m encoding field is specified without a type; \u001b[39m\u001b[39m\"\u001b[39m\n\u001b[0;32m     41\u001b[0m                          \u001b[39m\"\u001b[39m\u001b[39mthe type cannot be inferred because it does not \u001b[39m\u001b[39m\"\u001b[39m\n\u001b[0;32m     42\u001b[0m                          \u001b[39m\"\u001b[39m\u001b[39mmatch any column in the data.\u001b[39m\u001b[39m\"\u001b[39m\u001b[39m.\u001b[39mformat(shorthand))\n\u001b[0;32m     43\u001b[0m     \u001b[39melse\u001b[39;00m:\n\u001b[0;32m     44\u001b[0m         \u001b[39mraise\u001b[39;00m \u001b[39mValueError\u001b[39;00m(\u001b[39m\"\u001b[39m\u001b[39m{}\u001b[39;00m\u001b[39m encoding field is specified without a type; \u001b[39m\u001b[39m\"\u001b[39m\n\u001b[0;32m     45\u001b[0m                          \u001b[39m\"\u001b[39m\u001b[39mthe type cannot be automatically inferred because \u001b[39m\u001b[39m\"\u001b[39m\n\u001b[0;32m     46\u001b[0m                          \u001b[39m\"\u001b[39m\u001b[39mthe data is not specified as a pandas.DataFrame.\u001b[39m\u001b[39m\"\u001b[39m\n\u001b[0;32m     47\u001b[0m                          \u001b[39m\"\u001b[39m\u001b[39m\"\u001b[39m\u001b[39m.\u001b[39mformat(shorthand))\n",
      "\u001b[1;31mValueError\u001b[0m: x encoding field is specified without a type; the type cannot be inferred because it does not match any column in the data."
     ]
    },
    {
     "data": {
      "text/plain": [
       "alt.Chart(...)"
      ]
     },
     "execution_count": 51,
     "metadata": {},
     "output_type": "execute_result"
    }
   ],
   "source": [
    "#Creating data for clustering using an interactive map\n",
    "vis_data = pd.DataFrame(embeddings)\n",
    "\n",
    "# vis_data.columns = ['x', 'y', 'EmployeeID', 'Department']\n",
    "\n",
    "alt.Chart(vis_data).mark_circle(size=60).encode(\n",
    "    x='x',\n",
    "    y='y',\n",
    "    # tooltip=['']\n",
    ").interactive()"
   ]
  },
  {
   "cell_type": "code",
   "execution_count": null,
   "metadata": {},
   "outputs": [],
   "source": [
    "#Assigning groups to the clusters\n",
    "\n",
    "print(label)\n",
    "df_t = pd.DataFrame(data=embeddings, columns=['x', 'y'])\n",
    "df_t['EmployeeID'] = data_hr['EmployeeID']\n",
    "df_t['Department'] = data_hr['Department']\n",
    "df_t.columns = ['x', 'y', 'EmployeeID', 'Department']\n",
    "df_t['label'] = label\n",
    "only_0 = df_t[df_t['label'] == 0]\n",
    "only_1 = df_t[df_t['label'] == 1]\n",
    "only_2 = df_t[df_t['label'] == 2]\n",
    "\n",
    "plt.scatter(only_0['x'], only_0['y'], color='blue')\n",
    "plt.scatter(only_1['x'], only_1['y'], color='red')\n",
    "plt.scatter(only_2['x'],only_2['y'], color ='green')\n",
    "df_t.info()\n",
    "df_t.head()"
   ]
  },
  {
   "cell_type": "code",
   "execution_count": null,
   "metadata": {},
   "outputs": [],
   "source": [
    "# We have to scale and transform our data into numerical values since they are categorical values \n",
    "le_keywords = LabelEncoder()"
   ]
  },
  {
   "cell_type": "code",
   "execution_count": null,
   "metadata": {},
   "outputs": [],
   "source": [
    "data['keywords_ID'] = le_keywords.fit_transform(data['Author Keywords'])"
   ]
  },
  {
   "cell_type": "code",
   "execution_count": null,
   "metadata": {},
   "outputs": [],
   "source": [
    "data['Title_ID'] = le_keywords.fit_transform(data['Title'])"
   ]
  },
  {
   "cell_type": "code",
   "execution_count": null,
   "metadata": {},
   "outputs": [],
   "source": [
    "ones = np.ones(len(data), np.uint32)"
   ]
  },
  {
   "cell_type": "code",
   "execution_count": null,
   "metadata": {},
   "outputs": [],
   "source": [
    "data['keywords_ID']"
   ]
  },
  {
   "cell_type": "code",
   "execution_count": null,
   "metadata": {},
   "outputs": [],
   "source": [
    "data"
   ]
  },
  {
   "cell_type": "code",
   "execution_count": null,
   "metadata": {},
   "outputs": [],
   "source": [
    "#Importing UML packages\n",
    "from sklearn.preprocessing import StandardScaler\n",
    "scaler = StandardScaler()"
   ]
  },
  {
   "cell_type": "code",
   "execution_count": null,
   "metadata": {},
   "outputs": [],
   "source": [
    "#Learn x-y relationships (principal components) and transform\n",
    "data_to_cluster_scaled = scaler.fit_transform(data['keywords_ID'])"
   ]
  },
  {
   "cell_type": "markdown",
   "metadata": {},
   "source": [
    "### Training the model"
   ]
  },
  {
   "cell_type": "code",
   "execution_count": null,
   "metadata": {},
   "outputs": [],
   "source": [
    "data.Author_Keywords.value_counts().reset_index()"
   ]
  },
  {
   "cell_type": "code",
   "execution_count": null,
   "metadata": {},
   "outputs": [],
   "source": [
    "data.text_clean.value_counts().reset_index()"
   ]
  },
  {
   "cell_type": "code",
   "execution_count": null,
   "metadata": {},
   "outputs": [],
   "source": [
    "data['text_clean'].info()"
   ]
  },
  {
   "cell_type": "code",
   "execution_count": null,
   "metadata": {},
   "outputs": [],
   "source": [
    "data['Categories'].info()"
   ]
  },
  {
   "cell_type": "markdown",
   "metadata": {},
   "source": [
    "#### Fixing the imbalances and transforming the data into numerical values "
   ]
  },
  {
   "cell_type": "code",
   "execution_count": 44,
   "metadata": {},
   "outputs": [],
   "source": [
    "from sklearn.preprocessing import LabelEncoder"
   ]
  },
  {
   "cell_type": "code",
   "execution_count": 45,
   "metadata": {},
   "outputs": [],
   "source": [
    "le_keywords = LabelEncoder()\n",
    "le_text_clean = LabelEncoder()"
   ]
  },
  {
   "cell_type": "code",
   "execution_count": 46,
   "metadata": {},
   "outputs": [
    {
     "name": "stderr",
     "output_type": "stream",
     "text": [
      "C:\\Users\\maart\\AppData\\Local\\Temp\\ipykernel_32560\\2259224982.py:1: SettingWithCopyWarning: \n",
      "A value is trying to be set on a copy of a slice from a DataFrame.\n",
      "Try using .loc[row_indexer,col_indexer] = value instead\n",
      "\n",
      "See the caveats in the documentation: https://pandas.pydata.org/pandas-docs/stable/user_guide/indexing.html#returning-a-view-versus-a-copy\n",
      "  data['Keyword_ID'] = le_keywords.fit_transform(data['Author Keywords'])\n"
     ]
    }
   ],
   "source": [
    "data['Keyword_ID'] = le_keywords.fit_transform(data['Author Keywords'])"
   ]
  },
  {
   "cell_type": "code",
   "execution_count": null,
   "metadata": {},
   "outputs": [],
   "source": [
    "data['text_clean_ID'] = le_text_clean.fit_transform(data['text_clean'])"
   ]
  },
  {
   "cell_type": "code",
   "execution_count": null,
   "metadata": {},
   "outputs": [],
   "source": [
    "data.Categories_ID.value_counts().reset_index()"
   ]
  },
  {
   "cell_type": "code",
   "execution_count": null,
   "metadata": {},
   "outputs": [],
   "source": [
    "data.text_clean_ID.value_counts().reset_index()"
   ]
  },
  {
   "cell_type": "code",
   "execution_count": null,
   "metadata": {},
   "outputs": [],
   "source": [
    "data[data['Categories_ID'] == 1]"
   ]
  },
  {
   "cell_type": "code",
   "execution_count": null,
   "metadata": {},
   "outputs": [],
   "source": [
    "from collections import Counter\n",
    "from numpy.random import RandomState\n",
    "from sklearn.datasets import make_classification\n",
    "from imblearn.over_sampling import SMOTENC\n",
    "SM = sm = SMOTENC(random_state=42, categorical_features=[18, 19])"
   ]
  },
  {
   "cell_type": "code",
   "execution_count": null,
   "metadata": {},
   "outputs": [],
   "source": [
    "data['text_clean_ID']"
   ]
  },
  {
   "cell_type": "code",
   "execution_count": null,
   "metadata": {},
   "outputs": [],
   "source": [
    "data['Categories_ID']"
   ]
  },
  {
   "cell_type": "code",
   "execution_count": null,
   "metadata": {},
   "outputs": [],
   "source": [
    "# Here we use oversampling, since the distribution of the y value is skewed \n",
    "X_train_SMOTEN, y_train_SMOTEN = sm.fit_resample(data['text_clean'], data['Categories'])"
   ]
  },
  {
   "cell_type": "code",
   "execution_count": null,
   "metadata": {},
   "outputs": [],
   "source": [
    "# Splitting the dataset into the Training set and Test set (since we have a new output variable)\n",
    "X_train, X_test, y_train, y_test = train_test_split(data['text_clean'], data['Categories'], test_size = 0.2, random_state = 42)"
   ]
  },
  {
   "cell_type": "code",
   "execution_count": null,
   "metadata": {},
   "outputs": [],
   "source": [
    "#instantiate models and \"bundle up as pipeline\"\n",
    "\n",
    "tfidf = TfidfVectorizer()\n",
    "cls = LogisticRegression()\n",
    "\n",
    "pipe = make_pipeline(tfidf, cls)"
   ]
  },
  {
   "cell_type": "code",
   "execution_count": null,
   "metadata": {},
   "outputs": [],
   "source": [
    "pipe.fit(X_train,y_train) # fit model"
   ]
  },
  {
   "cell_type": "code",
   "execution_count": null,
   "metadata": {},
   "outputs": [],
   "source": [
    "# evaluate model performance on training set\n",
    "\n",
    "y_eval = pipe.predict(X_train)\n",
    "report = classification_report(y_train, y_eval)\n",
    "print(report)"
   ]
  },
  {
   "cell_type": "code",
   "execution_count": null,
   "metadata": {},
   "outputs": [],
   "source": [
    "# evaluate model performance on test set\n",
    "\n",
    "y_pred = pipe.predict(X_test)\n",
    "report = classification_report(y_test, y_pred)\n",
    "print(report)"
   ]
  },
  {
   "cell_type": "code",
   "execution_count": null,
   "metadata": {},
   "outputs": [],
   "source": [
    "t1 = ['']"
   ]
  },
  {
   "cell_type": "code",
   "execution_count": null,
   "metadata": {},
   "outputs": [],
   "source": [
    "t1_p = text_prepro(pd.Series(t1))"
   ]
  },
  {
   "cell_type": "code",
   "execution_count": null,
   "metadata": {},
   "outputs": [],
   "source": [
    "pipe.predict (t1_p)"
   ]
  },
  {
   "cell_type": "markdown",
   "metadata": {},
   "source": [
    "### Topic modelling"
   ]
  },
  {
   "cell_type": "code",
   "execution_count": 52,
   "metadata": {},
   "outputs": [],
   "source": [
    "lda_model = LdaMulticore(corpus, id2word=dictionary, num_topics=5, workers = 4, passes=10)\n"
   ]
  },
  {
   "cell_type": "code",
   "execution_count": 53,
   "metadata": {},
   "outputs": [
    {
     "name": "stderr",
     "output_type": "stream",
     "text": [
      "c:\\Users\\maart\\anaconda3\\lib\\site-packages\\pyLDAvis\\_prepare.py:246: FutureWarning: In a future version of pandas all arguments of DataFrame.drop except for the argument 'labels' will be keyword-only.\n",
      "  default_term_info = default_term_info.sort_values(\n"
     ]
    }
   ],
   "source": [
    "# Let's try to visualize\n",
    "lda_display = pyLDAvis.gensim_models.prepare(lda_model, corpus, dictionary)"
   ]
  },
  {
   "cell_type": "code",
   "execution_count": 54,
   "metadata": {},
   "outputs": [
    {
     "data": {
      "text/html": [
       "\n",
       "<link rel=\"stylesheet\" type=\"text/css\" href=\"https://cdn.jsdelivr.net/gh/bmabey/pyLDAvis@3.3.1/pyLDAvis/js/ldavis.v1.0.0.css\">\n",
       "\n",
       "\n",
       "<div id=\"ldavis_el222424261281186082137001180\"></div>\n",
       "<script type=\"text/javascript\">\n",
       "\n",
       "var ldavis_el222424261281186082137001180_data = {\"mdsDat\": {\"x\": [-0.2052837419807467, -0.1592473523116355, 0.2951705515143516, 0.01434601720676313, 0.05501452557126758], \"y\": [0.043327378313444354, -0.02228269982131891, -0.011340423409088552, -0.22688757945780938, 0.2171833243747726], \"topics\": [1, 2, 3, 4, 5], \"cluster\": [1, 1, 1, 1, 1], \"Freq\": [27.91738352016094, 19.687599829756934, 18.89258767639043, 18.24692681064227, 15.255502163049425]}, \"tinfo\": {\"Term\": [\"financial\", \"learning\", \"datum\", \"technology\", \"artificial\", \"intelligence\", \"blockchain\", \"trading\", \"payment\", \"stock\", \"machine\", \"lending\", \"big\", \"mobile\", \"digital\", \"bank\", \"energy\", \"market\", \"finance\", \"business\", \"innovation\", \"smart\", \"network\", \"internet\", \"peer\", \"neural\", \"information\", \"money\", \"inclusion\", \"prediction\", \"robo\", \"inclusion\", \"digitalization\", \"financial\", \"innovation\", \"technology\", \"theory\", \"management\", \"consumer\", \"intention\", \"adoption\", \"service\", \"regtech\", \"digital\", \"investment\", \"covid-19\", \"ecosystem\", \"risk\", \"finance\", \"chain\", \"economy\", \"economic\", \"regulation\", \"information\", \"analysis\", \"development\", \"industry\", \"social\", \"sustainable\", \"system\", \"model\", \"bank\", \"market\", \"banking\", \"p2p\", \"platform\", \"crowdfunding\", \"lending\", \"islamic\", \"cryptocurrency\", \"china\", \"sustainable\", \"development\", \"performance\", \"bank\", \"industry\", \"peer\", \"finance\", \"risk\", \"banking\", \"trust\", \"online\", \"intention\", \"regulation\", \"credit\", \"blockchain\", \"chain\", \"economic\", \"economy\", \"adoption\", \"customer\", \"technology\", \"social\", \"theory\", \"digital\", \"financial\", \"model\", \"business\", \"energy\", \"trading\", \"stock\", \"learning\", \"price\", \"deep\", \"prediction\", \"machine\", \"privacy\", \"market\", \"investment\", \"neural\", \"blockchain\", \"network\", \"chain\", \"smart\", \"peer\", \"security\", \"contract\", \"analysis\", \"theory\", \"system\", \"model\", \"customer\", \"management\", \"performance\", \"trust\", \"e\", \"credit\", \"payment\", \"finance\", \"datum\", \"technology\", \"money\", \"business\", \"mobile\", \"payment\", \"transformation\", \"contract\", \"e\", \"information\", \"security\", \"customer\", \"smart\", \"covid-19\", \"ecosystem\", \"social\", \"model\", \"system\", \"digital\", \"economy\", \"online\", \"economic\", \"service\", \"blockchain\", \"banking\", \"adoption\", \"trust\", \"analysis\", \"regulatory\", \"network\", \"credit\", \"management\", \"bank\", \"innovation\", \"market\", \"big\", \"datum\", \"artificial\", \"data\", \"intelligence\", \"internet\", \"regulatory\", \"neural\", \"credit\", \"network\", \"regtech\", \"regulation\", \"analysis\", \"consumer\", \"banking\", \"privacy\", \"system\", \"risk\", \"machine\", \"prediction\", \"security\", \"management\", \"e\", \"ecosystem\", \"market\", \"online\", \"deep\", \"model\", \"social\", \"financial\", \"finance\", \"learning\", \"lending\", \"innovation\", \"service\", \"technology\"], \"Freq\": [1039.0, 317.0, 246.0, 583.0, 176.0, 160.0, 499.0, 169.0, 228.0, 172.0, 201.0, 186.0, 127.0, 167.0, 412.0, 230.0, 115.0, 302.0, 347.0, 134.0, 256.0, 174.0, 202.0, 101.0, 143.0, 135.0, 134.0, 88.0, 136.0, 102.0, 54.33561979047522, 128.73043960592955, 47.73582132113511, 880.9517112335787, 215.37070730626274, 470.7942737617345, 45.53271379730982, 83.64507893539867, 39.38585888686727, 36.84385687526724, 37.54769501494101, 119.560270493923, 24.45402293322535, 166.49115470802735, 33.30482759070685, 33.2992067592836, 20.697859015628573, 82.24764114184535, 120.81386485790067, 18.848830432233036, 26.162200898584537, 17.888429761437656, 41.255452599834626, 35.98436213624454, 47.50622449317194, 28.981356410286914, 20.116207840922982, 21.902043869850786, 13.843042299841276, 33.1276361239689, 38.25548506421469, 36.129454977239874, 41.869244959309306, 41.56048226226862, 87.11681330168605, 85.20944279514765, 81.06959213852282, 168.37242615862965, 74.04958028897178, 80.33920377861449, 41.602895254929514, 50.11559195564111, 89.53551139863212, 49.96925702917401, 167.6655251332419, 59.84586984835978, 101.85810415294476, 186.28371825640895, 111.46805126009943, 139.28780856993657, 29.111082643882618, 20.839036795362123, 22.043750975522503, 52.301659108979635, 46.78749925266889, 150.40807103565388, 17.088926684177064, 16.19180526089372, 18.215988597907742, 10.594194193294005, 10.583793608826452, 85.07019951732914, 14.390181354382317, 8.458002789266775, 49.53688512792226, 54.086722257990914, 18.642017032306043, 14.58097735918907, 113.2456799194157, 165.14226240049592, 164.27747365051843, 289.4977523542942, 57.882125008816516, 83.48219090463797, 88.87714719759063, 172.04939759041133, 46.633761320704366, 197.37584522104132, 46.14904365501099, 65.69935301051241, 221.65911858688767, 78.59714497290314, 20.377239116769392, 61.561233676869776, 39.99873851217149, 25.293546538067314, 23.523600243054688, 35.965936413109866, 9.554868768848955, 22.97686773115972, 26.806821932393667, 7.80014794660919, 12.530060073579087, 5.626737937816416, 5.383915202238979, 5.300003324258659, 7.606396039575345, 10.078821702306694, 12.80145654298691, 9.417843628329816, 11.426091921665677, 84.65262282698849, 116.75057671501847, 144.83354542172748, 191.97001618227196, 47.976489533602205, 84.31727974118988, 52.09275160126558, 95.44885176769994, 66.69561811477047, 44.422094432654916, 106.40062413951924, 49.6811290260155, 28.92284442209163, 50.06770662863169, 104.12762842529304, 75.82746637714439, 184.28209672086243, 38.13298099717966, 22.45801046257893, 25.86877367078498, 60.478693171694815, 119.2323968966893, 71.97262631548124, 13.968160340658573, 14.47565545626503, 39.49888375783435, 14.202620942177454, 38.063943747457195, 15.184984088900283, 12.51911623435225, 22.181950874736028, 21.2467192712316, 14.595867615440433, 124.68817087945588, 234.06070490612714, 165.35787328609734, 63.89253995465046, 148.22020629364388, 86.34201405631296, 51.69413827171136, 67.00184799634279, 62.003591032390986, 84.87716316789773, 19.974482495643343, 54.542990650550415, 55.154778227880485, 14.77459872810407, 58.11844771562376, 10.928660807720544, 25.660178617651027, 30.380436247243765, 25.722098924002555, 13.068219607300213, 12.528728867337767, 14.315486442957939, 8.01372106448884, 6.456049934148082, 34.0119446866139, 5.309718181369006, 9.177595242892295, 20.318800928338344, 9.032271481647562, 88.27492431961299, 25.822098349938145, 23.277880588946832, 13.827002918734642, 14.798464832499842, 13.096726204675006, 13.941060870563001], \"Total\": [1039.0, 317.0, 246.0, 583.0, 176.0, 160.0, 499.0, 169.0, 228.0, 172.0, 201.0, 186.0, 127.0, 167.0, 412.0, 230.0, 115.0, 302.0, 347.0, 134.0, 256.0, 174.0, 202.0, 101.0, 143.0, 135.0, 134.0, 88.0, 136.0, 102.0, 56.41382211653205, 136.77758456426307, 54.68857563131517, 1039.6400961821864, 256.25672359729276, 583.5725890830457, 64.92208680842658, 123.56308764330399, 59.11291799901848, 61.0090652115045, 62.58569091594427, 208.41849680175005, 50.605943330826946, 412.26041151954587, 84.49083100956847, 85.20662315841385, 57.00775329797938, 229.54791389554725, 347.0713237960187, 57.36934813253417, 86.98097021991126, 61.88819055423272, 149.88417713039706, 134.75158849130807, 183.3356292541595, 119.5715498439028, 84.37924269944273, 99.61638871086674, 64.76029625460245, 167.3228201276267, 208.1507533825458, 230.07525874106886, 302.37637488894893, 311.42115369299916, 93.92637674777822, 91.95030855251701, 89.1376623009716, 186.83071653742115, 83.75567838183136, 91.24395521209475, 53.095710063847484, 64.76029625460245, 119.5715498439028, 68.10709152401849, 230.07525874106886, 84.37924269944273, 143.63111418896293, 347.0713237960187, 229.54791389554725, 311.42115369299916, 66.65386461982699, 53.319529502733076, 61.0090652115045, 149.88417713039706, 141.08141256484532, 499.3388650443091, 57.36934813253417, 61.88819055423272, 86.98097021991126, 62.58569091594427, 72.23321519026037, 583.5725890830457, 99.61638871086674, 64.92208680842658, 412.26041151954587, 1039.6400961821864, 208.1507533825458, 134.03356242602837, 115.48507574836202, 169.61391651259513, 172.71180040347454, 317.0100583026226, 64.30714831620283, 93.73056484348176, 102.8309770405349, 201.41009016576797, 59.92095658218112, 302.37637488894893, 84.49083100956847, 135.84897646273862, 499.3388650443091, 202.24160705114224, 57.36934813253417, 174.18828579746372, 143.63111418896293, 106.82432756199607, 112.55411643268819, 183.3356292541595, 64.92208680842658, 167.3228201276267, 208.1507533825458, 72.23321519026037, 123.56308764330399, 68.10709152401849, 66.65386461982699, 69.80462924908453, 141.08141256484532, 228.32769538716758, 347.0713237960187, 246.82566849296506, 583.5725890830457, 88.06398018557712, 134.03356242602837, 167.7910115214411, 228.32769538716758, 57.36196107041084, 112.55411643268819, 69.80462924908453, 134.75158849130807, 106.82432756199607, 72.23321519026037, 174.18828579746372, 85.20662315841385, 57.00775329797938, 99.61638871086674, 208.1507533825458, 167.3228201276267, 412.26041151954587, 86.98097021991126, 53.319529502733076, 61.88819055423272, 208.41849680175005, 499.3388650443091, 311.42115369299916, 62.58569091594427, 66.65386461982699, 183.3356292541595, 66.97465065069079, 202.24160705114224, 141.08141256484532, 123.56308764330399, 230.07525874106886, 256.25672359729276, 302.37637488894893, 127.74913442337606, 246.82566849296506, 176.96403311056207, 68.4277274698363, 160.0763830029383, 101.58084374469394, 66.97465065069079, 135.84897646273862, 141.08141256484532, 202.24160705114224, 50.605943330826946, 149.88417713039706, 183.3356292541595, 59.11291799901848, 311.42115369299916, 59.92095658218112, 167.3228201276267, 229.54791389554725, 201.41009016576797, 102.8309770405349, 106.82432756199607, 123.56308764330399, 69.80462924908453, 57.00775329797938, 302.37637488894893, 53.319529502733076, 93.73056484348176, 208.1507533825458, 99.61638871086674, 1039.6400961821864, 347.0713237960187, 317.0100583026226, 186.83071653742115, 256.25672359729276, 208.41849680175005, 583.5725890830457], \"Category\": [\"Default\", \"Default\", \"Default\", \"Default\", \"Default\", \"Default\", \"Default\", \"Default\", \"Default\", \"Default\", \"Default\", \"Default\", \"Default\", \"Default\", \"Default\", \"Default\", \"Default\", \"Default\", \"Default\", \"Default\", \"Default\", \"Default\", \"Default\", \"Default\", \"Default\", \"Default\", \"Default\", \"Default\", \"Default\", \"Default\", \"Topic1\", \"Topic1\", \"Topic1\", \"Topic1\", \"Topic1\", \"Topic1\", \"Topic1\", \"Topic1\", \"Topic1\", \"Topic1\", \"Topic1\", \"Topic1\", \"Topic1\", \"Topic1\", \"Topic1\", \"Topic1\", \"Topic1\", \"Topic1\", \"Topic1\", \"Topic1\", \"Topic1\", \"Topic1\", \"Topic1\", \"Topic1\", \"Topic1\", \"Topic1\", \"Topic1\", \"Topic1\", \"Topic1\", \"Topic1\", \"Topic1\", \"Topic1\", \"Topic1\", \"Topic1\", \"Topic2\", \"Topic2\", \"Topic2\", \"Topic2\", \"Topic2\", \"Topic2\", \"Topic2\", \"Topic2\", \"Topic2\", \"Topic2\", \"Topic2\", \"Topic2\", \"Topic2\", \"Topic2\", \"Topic2\", \"Topic2\", \"Topic2\", \"Topic2\", \"Topic2\", \"Topic2\", \"Topic2\", \"Topic2\", \"Topic2\", \"Topic2\", \"Topic2\", \"Topic2\", \"Topic2\", \"Topic2\", \"Topic2\", \"Topic2\", \"Topic2\", \"Topic2\", \"Topic2\", \"Topic2\", \"Topic3\", \"Topic3\", \"Topic3\", \"Topic3\", \"Topic3\", \"Topic3\", \"Topic3\", \"Topic3\", \"Topic3\", \"Topic3\", \"Topic3\", \"Topic3\", \"Topic3\", \"Topic3\", \"Topic3\", \"Topic3\", \"Topic3\", \"Topic3\", \"Topic3\", \"Topic3\", \"Topic3\", \"Topic3\", \"Topic3\", \"Topic3\", \"Topic3\", \"Topic3\", \"Topic3\", \"Topic3\", \"Topic3\", \"Topic3\", \"Topic3\", \"Topic3\", \"Topic3\", \"Topic4\", \"Topic4\", \"Topic4\", \"Topic4\", \"Topic4\", \"Topic4\", \"Topic4\", \"Topic4\", \"Topic4\", \"Topic4\", \"Topic4\", \"Topic4\", \"Topic4\", \"Topic4\", \"Topic4\", \"Topic4\", \"Topic4\", \"Topic4\", \"Topic4\", \"Topic4\", \"Topic4\", \"Topic4\", \"Topic4\", \"Topic4\", \"Topic4\", \"Topic4\", \"Topic4\", \"Topic4\", \"Topic4\", \"Topic4\", \"Topic4\", \"Topic4\", \"Topic4\", \"Topic5\", \"Topic5\", \"Topic5\", \"Topic5\", \"Topic5\", \"Topic5\", \"Topic5\", \"Topic5\", \"Topic5\", \"Topic5\", \"Topic5\", \"Topic5\", \"Topic5\", \"Topic5\", \"Topic5\", \"Topic5\", \"Topic5\", \"Topic5\", \"Topic5\", \"Topic5\", \"Topic5\", \"Topic5\", \"Topic5\", \"Topic5\", \"Topic5\", \"Topic5\", \"Topic5\", \"Topic5\", \"Topic5\", \"Topic5\", \"Topic5\", \"Topic5\", \"Topic5\", \"Topic5\", \"Topic5\", \"Topic5\"], \"logprob\": [30.0, 29.0, 28.0, 27.0, 26.0, 25.0, 24.0, 23.0, 22.0, 21.0, 20.0, 19.0, 18.0, 17.0, 16.0, 15.0, 14.0, 13.0, 12.0, 11.0, 10.0, 9.0, 8.0, 7.0, 6.0, 5.0, 4.0, 3.0, 2.0, 1.0, -4.0956, -3.233, -4.2251, -1.3097, -2.7184, -1.9363, -4.2723, -3.6642, -4.4173, -4.4841, -4.4651, -3.3069, -4.8939, -2.9758, -4.585, -4.5852, -5.0607, -3.681, -3.2965, -5.1543, -4.8264, -5.2066, -4.371, -4.5077, -4.2299, -4.7241, -5.0892, -5.0042, -5.463, -4.5904, -4.4465, -4.5036, -4.3562, -4.3636, -3.2742, -3.2964, -3.3462, -2.6153, -3.4367, -3.3552, -4.0133, -3.8271, -3.2468, -3.8301, -2.6195, -3.6497, -3.1179, -2.5142, -3.0277, -2.8049, -4.3704, -4.7047, -4.6484, -3.7845, -3.8959, -2.7281, -4.903, -4.957, -4.8392, -5.3812, -5.3822, -3.298, -5.0749, -5.6064, -3.8388, -3.7509, -4.8161, -5.0618, -2.9707, -2.5935, -2.5987, -2.0321, -3.6419, -3.2756, -3.213, -2.5525, -3.8579, -2.4151, -3.8684, -3.5152, -2.2991, -3.3359, -4.6858, -3.5802, -4.0114, -4.4697, -4.5423, -4.1177, -5.4432, -4.5658, -4.4116, -5.6461, -5.1721, -5.9727, -6.0168, -6.0326, -5.6713, -5.3898, -5.1507, -5.4577, -5.2644, -3.2269, -2.9054, -2.6899, -2.4081, -3.7948, -3.2309, -3.7125, -3.1069, -3.4653, -3.8717, -2.9983, -3.7599, -4.3009, -3.7521, -3.0199, -3.337, -2.449, -4.0244, -4.5538, -4.4125, -3.5632, -2.8844, -3.3892, -5.0287, -4.993, -3.9892, -5.0121, -4.0262, -4.9452, -5.1382, -4.5662, -4.6093, -4.9847, -2.6606, -2.0308, -2.3783, -3.3292, -2.4877, -3.0281, -3.5411, -3.2817, -3.3592, -3.0452, -4.492, -3.4874, -3.4763, -4.7935, -3.4239, -5.095, -4.2415, -4.0726, -4.2391, -4.9162, -4.9584, -4.8251, -5.4053, -5.6214, -3.9597, -5.8169, -5.2697, -4.4749, -5.2856, -3.006, -4.2352, -4.3389, -4.8598, -4.7919, -4.9141, -4.8516], \"loglift\": [30.0, 29.0, 28.0, 27.0, 26.0, 25.0, 24.0, 23.0, 22.0, 21.0, 20.0, 19.0, 18.0, 17.0, 16.0, 15.0, 14.0, 13.0, 12.0, 11.0, 10.0, 9.0, 8.0, 7.0, 6.0, 5.0, 4.0, 3.0, 2.0, 1.0, 1.2384, 1.2153, 1.1399, 1.1103, 1.1021, 1.0612, 0.9212, 0.8858, 0.8699, 0.7716, 0.765, 0.7202, 0.5486, 0.3692, 0.345, 0.3364, 0.2628, 0.2495, 0.2206, 0.1629, 0.0745, 0.0347, -0.0142, -0.0444, -0.0745, -0.1413, -0.1579, -0.2388, -0.267, -0.3436, -0.4181, -0.5754, -0.7012, -0.7381, 1.5499, 1.549, 1.5303, 1.5212, 1.502, 1.4979, 1.3813, 1.3688, 1.3359, 1.3155, 1.3087, 1.2816, 1.2815, 1.0029, 0.9028, 0.8206, 0.7968, 0.6857, 0.6072, 0.5723, 0.5215, 0.4252, 0.4141, 0.2844, 0.0618, -0.151, -0.2954, -0.3005, -0.3096, -0.4129, -0.4938, -1.3309, -0.7877, -0.5932, 1.6468, 1.6397, 1.6163, 1.5756, 1.5611, 1.5506, 1.5206, 1.5088, 1.4157, 1.2398, 1.0616, 0.9399, 0.8543, 0.7213, 0.6313, 0.6263, 0.388, 0.2258, 0.101, 0.0377, -0.2497, -0.319, -0.3832, -0.5594, -0.6222, -0.8272, -0.8497, -0.9116, -1.2539, -1.4539, -1.6336, -1.5997, -2.2669, 1.6617, 1.5631, 1.554, 1.5277, 1.5225, 1.4123, 1.4085, 1.3563, 1.2301, 1.215, 1.2082, 1.1617, 1.0226, 1.0132, 1.0085, 0.9097, 0.896, 0.8766, 0.8365, 0.8289, 0.4639, 0.269, 0.2363, 0.2014, 0.1741, 0.1661, 0.1503, 0.031, -0.5279, -0.5883, -0.638, -0.7888, -1.3298, 1.856, 1.8271, 1.8124, 1.8117, 1.8033, 1.7177, 1.6213, 1.1734, 1.0581, 1.012, 0.9506, 0.8694, 0.6791, 0.4937, 0.2016, 0.1786, 0.0052, -0.1421, -0.1778, -0.1827, -0.2629, -0.2752, -0.2843, -0.2979, -0.3047, -0.4265, -0.4434, -0.4465, -0.5203, -0.5859, -0.7181, -0.7312, -0.7233, -0.9714, -0.887, -1.8541]}, \"token.table\": {\"Topic\": [1, 2, 4, 1, 2, 3, 4, 5, 1, 2, 3, 4, 5, 1, 2, 4, 5, 1, 2, 4, 5, 1, 3, 4, 5, 1, 2, 3, 4, 5, 1, 2, 4, 5, 1, 2, 3, 4, 1, 2, 5, 1, 4, 5, 2, 3, 4, 1, 2, 4, 5, 1, 2, 3, 4, 5, 1, 2, 3, 4, 5, 1, 2, 3, 4, 5, 1, 2, 3, 4, 1, 4, 5, 1, 2, 3, 4, 5, 1, 3, 5, 1, 2, 1, 2, 3, 4, 5, 1, 2, 4, 1, 2, 3, 4, 5, 1, 2, 4, 5, 1, 2, 3, 4, 5, 1, 3, 4, 5, 2, 3, 1, 2, 3, 4, 5, 1, 2, 3, 4, 5, 1, 2, 4, 5, 1, 2, 3, 4, 5, 1, 2, 4, 5, 1, 2, 3, 4, 5, 1, 2, 4, 5, 1, 2, 3, 1, 2, 3, 5, 1, 2, 3, 4, 5, 1, 2, 5, 1, 3, 5, 1, 2, 3, 4, 5, 1, 3, 5, 1, 2, 3, 4, 5, 1, 2, 3, 4, 5, 1, 2, 3, 4, 5, 1, 2, 3, 4, 5, 1, 2, 3, 4, 3, 4, 5, 3, 4, 5, 1, 2, 4, 5, 1, 2, 3, 5, 1, 2, 3, 4, 5, 1, 2, 3, 1, 2, 3, 4, 2, 3, 5, 3, 5, 3, 4, 5, 2, 3, 4, 5, 1, 2, 3, 5, 1, 2, 3, 5, 4, 5, 1, 2, 3, 5, 1, 3, 4, 5, 1, 2, 3, 4, 5, 1, 2, 3, 4, 5, 2, 3, 4, 5, 1, 2, 3, 4, 5, 3, 4, 5, 1, 2, 1, 2, 3, 4, 5, 1, 2, 3, 4, 5, 1, 2, 3, 5, 1, 2, 3, 4, 5, 1, 4, 1, 2, 3, 4, 5], \"Freq\": [0.607167540117691, 0.17575902477091054, 0.22369330425388614, 0.26181490305660804, 0.027272385735063336, 0.19636117729245603, 0.21272460873349402, 0.2999962430856967, 0.04520692628542111, 0.005650865785677639, 0.005650865785677639, 0.011301731571355278, 0.9323928546368104, 0.15647054010494493, 0.7301958538230764, 0.09562088561968858, 0.017385615567216104, 0.1348655976061403, 0.44634090636317864, 0.23119816732481197, 0.1862429681227652, 0.007827841687646032, 0.007827841687646032, 0.007827841687646032, 0.9784802109557541, 0.00600794412374409, 0.3003972061872045, 0.44458786515706267, 0.23831511690851556, 0.01001324020624015, 0.014921635773903852, 0.11191226830427889, 0.8729156927733753, 0.007460817886951926, 0.33118730852765427, 0.29632548657737484, 0.348618219502794, 0.0174309109751397, 0.15067130640837115, 0.7910243586439485, 0.056501739903139184, 0.6597542689509519, 0.06766710450778994, 0.25375164190421223, 0.035538460313818535, 0.2132307618829112, 0.7463076665901892, 0.3872938367554749, 0.011736176871378028, 0.5868088435689014, 0.011736176871378028, 0.06379295356050767, 0.33314097970487333, 0.056704847609340144, 0.10632158926751277, 0.4394625689723861, 0.011218602487279948, 0.9087068014696758, 0.044874409949119794, 0.022437204974559897, 0.022437204974559897, 0.021919260244155792, 0.8767704097662317, 0.021919260244155792, 0.06575778073246738, 0.010959630122077896, 0.1245964197536305, 0.15228451303221507, 0.11075237311433823, 0.6091380521288603, 0.014613958945820772, 0.04384187683746232, 0.9352933725325294, 0.004051442486130658, 0.004051442486130658, 0.03646298237517592, 0.008102884972261316, 0.948037541754574, 0.010668878414099756, 0.8855169083702797, 0.09601990572689781, 0.24253260945315722, 0.7526874086477293, 0.4026581145352825, 0.12128256461906099, 0.01455390775428732, 0.4463198377981445, 0.01455390775428732, 0.8776970225663506, 0.09142677318399485, 0.01828535463679897, 0.04297709238301476, 0.02865139492200984, 0.07162848730502461, 0.7449362679722559, 0.11460557968803936, 0.29084708793071873, 0.25853074482730554, 0.4201124603443715, 0.03231634310341319, 0.2989159575280089, 0.20694181675016002, 0.034490302791693336, 0.4368771686947822, 0.011496767597231112, 0.36837094579456686, 0.017541473609265088, 0.5087027346686875, 0.10524884165559052, 0.017318255082223184, 0.9784814121456099, 0.34863151088539457, 0.5359129010304412, 0.03745627802900933, 0.002881252156077641, 0.07491255605801866, 0.8474086400046018, 0.05194105171424347, 0.0057712279682492745, 0.009618713280415457, 0.08464467686765602, 0.9431369943471338, 0.014622278982126107, 0.007311139491063053, 0.03655569745531527, 0.23702511850265856, 0.7110753555079757, 0.011851255925132928, 0.023702511850265857, 0.023702511850265857, 0.2671582606413736, 0.007421062795593711, 0.7050009655814026, 0.007421062795593711, 0.8390023761400787, 0.015609346532838674, 0.0039023366332096685, 0.08194906929740303, 0.058535049498145024, 0.05622315941405798, 0.006247017712673109, 0.006247017712673109, 0.9245586214756201, 0.6064672499362095, 0.36060214861071915, 0.03278201351006538, 0.11813250961135888, 0.009844375800946572, 0.019688751601893144, 0.8466163188814052, 0.3905749251804944, 0.011835603793348316, 0.5444377744940225, 0.035506811380044946, 0.023671207586696632, 0.09551591193052045, 0.8835221853573142, 0.011939488991315056, 0.01261789616839709, 0.9116429981666898, 0.07255290296828326, 0.01070487785449033, 0.8992097397771878, 0.005352438927245165, 0.005352438927245165, 0.0749341449814323, 0.014894983650178046, 0.853979062610208, 0.12908985830154307, 0.6798146728292124, 0.008093031819395385, 0.10520941365214002, 0.10520941365214002, 0.11330244547153541, 0.13889974048212253, 0.04960705017218662, 0.6515059255947176, 0.04960705017218662, 0.11244264705695634, 0.07151753774645184, 0.01787938443661296, 0.0297989740610216, 0.8641702477696264, 0.01787938443661296, 0.18255999261344225, 0.09127999630672112, 0.12971367896218267, 0.4996378745209999, 0.09608420663865382, 0.011355380461940299, 0.022710760923880597, 0.011355380461940299, 0.9652073392649253, 0.39062189601777997, 0.1878940765655144, 0.4202893817912822, 0.48583361993973384, 0.022083346360896993, 0.49319473539336617, 0.07501941666223755, 0.3938519374767471, 0.4126067916423065, 0.09377427082779694, 0.010646636595866074, 0.9262573838403485, 0.010646636595866074, 0.05323318297933038, 0.07883406333812465, 0.017518680741805476, 0.043796701854513696, 0.8408966756066629, 0.021898350927256848, 0.006962279765402274, 0.7101525360710319, 0.27849119061609096, 0.1468275883793015, 0.7341379418965075, 0.0880965530275809, 0.0293655176758603, 0.9244123411663444, 0.010875439307839347, 0.05437719653919673, 0.8654979517010436, 0.12642104912487154, 0.9019215051305007, 0.03110074155622416, 0.06220148311244832, 0.01668865213505909, 0.7843666503477772, 0.01668865213505909, 0.18357517348565, 0.47425259604597153, 0.07904209934099526, 0.019760524835248816, 0.3952104967049763, 0.27354455143274126, 0.34693455303664744, 0.013343636655255672, 0.3669500080195309, 0.20903431169828135, 0.7764131577364736, 0.35722389547531685, 0.4835591755824411, 0.021781944846055903, 0.13069166907633542, 0.9572122216511779, 0.01772615225279959, 0.01772615225279959, 0.01772615225279959, 0.009361163536645196, 0.01872232707329039, 0.2340290884161299, 0.6271979569552281, 0.12169512597638754, 0.5757646362556069, 0.03838430908370713, 0.03838430908370713, 0.28788231812780346, 0.06237450226102409, 0.0287045709021657, 0.3559366791868547, 0.6085369031259128, 0.00574091418043314, 0.2208471947708752, 0.1405391239451024, 0.040154035412886396, 0.50192544266108, 0.0903465796789944, 0.9495587424650616, 0.023159969328416137, 0.023159969328416137, 0.2161818399495823, 0.7720779998199367, 0.19722354652419205, 0.05976471106793698, 0.13745883545625506, 0.45421180411632106, 0.15538824877663615, 0.8070975381829902, 0.1456545451073337, 0.018849411719772596, 0.003427165767231381, 0.02399016037061967, 0.7085416113585156, 0.12322462806235053, 0.15403078507793816, 0.015403078507793816, 0.0058957426404674905, 0.011791485280934981, 0.9727975356771359, 0.0058957426404674905, 0.011791485280934981, 0.13946524579555666, 0.8367914747733399, 0.18003457216538435, 0.4350835493996788, 0.07501440506891013, 0.2100403341929484, 0.07501440506891013], \"Term\": [\"adoption\", \"adoption\", \"adoption\", \"analysis\", \"analysis\", \"analysis\", \"analysis\", \"analysis\", \"artificial\", \"artificial\", \"artificial\", \"artificial\", \"artificial\", \"bank\", \"bank\", \"bank\", \"bank\", \"banking\", \"banking\", \"banking\", \"banking\", \"big\", \"big\", \"big\", \"big\", \"blockchain\", \"blockchain\", \"blockchain\", \"blockchain\", \"blockchain\", \"business\", \"business\", \"business\", \"business\", \"chain\", \"chain\", \"chain\", \"chain\", \"china\", \"china\", \"china\", \"consumer\", \"consumer\", \"consumer\", \"contract\", \"contract\", \"contract\", \"covid-19\", \"covid-19\", \"covid-19\", \"covid-19\", \"credit\", \"credit\", \"credit\", \"credit\", \"credit\", \"crowdfunding\", \"crowdfunding\", \"crowdfunding\", \"crowdfunding\", \"crowdfunding\", \"cryptocurrency\", \"cryptocurrency\", \"cryptocurrency\", \"cryptocurrency\", \"cryptocurrency\", \"customer\", \"customer\", \"customer\", \"customer\", \"data\", \"data\", \"data\", \"datum\", \"datum\", \"datum\", \"datum\", \"datum\", \"deep\", \"deep\", \"deep\", \"development\", \"development\", \"digital\", \"digital\", \"digital\", \"digital\", \"digital\", \"digitalization\", \"digitalization\", \"digitalization\", \"e\", \"e\", \"e\", \"e\", \"e\", \"economic\", \"economic\", \"economic\", \"economic\", \"economy\", \"economy\", \"economy\", \"economy\", \"economy\", \"ecosystem\", \"ecosystem\", \"ecosystem\", \"ecosystem\", \"energy\", \"energy\", \"finance\", \"finance\", \"finance\", \"finance\", \"finance\", \"financial\", \"financial\", \"financial\", \"financial\", \"financial\", \"inclusion\", \"inclusion\", \"inclusion\", \"inclusion\", \"industry\", \"industry\", \"industry\", \"industry\", \"industry\", \"information\", \"information\", \"information\", \"information\", \"innovation\", \"innovation\", \"innovation\", \"innovation\", \"innovation\", \"intelligence\", \"intelligence\", \"intelligence\", \"intelligence\", \"intention\", \"intention\", \"intention\", \"internet\", \"internet\", \"internet\", \"internet\", \"investment\", \"investment\", \"investment\", \"investment\", \"investment\", \"islamic\", \"islamic\", \"islamic\", \"learning\", \"learning\", \"learning\", \"lending\", \"lending\", \"lending\", \"lending\", \"lending\", \"machine\", \"machine\", \"machine\", \"management\", \"management\", \"management\", \"management\", \"management\", \"market\", \"market\", \"market\", \"market\", \"market\", \"mobile\", \"mobile\", \"mobile\", \"mobile\", \"mobile\", \"model\", \"model\", \"model\", \"model\", \"model\", \"money\", \"money\", \"money\", \"money\", \"network\", \"network\", \"network\", \"neural\", \"neural\", \"neural\", \"online\", \"online\", \"online\", \"online\", \"p2p\", \"p2p\", \"p2p\", \"p2p\", \"payment\", \"payment\", \"payment\", \"payment\", \"payment\", \"peer\", \"peer\", \"peer\", \"performance\", \"performance\", \"performance\", \"performance\", \"platform\", \"platform\", \"platform\", \"prediction\", \"prediction\", \"price\", \"price\", \"price\", \"privacy\", \"privacy\", \"privacy\", \"privacy\", \"regtech\", \"regtech\", \"regtech\", \"regtech\", \"regulation\", \"regulation\", \"regulation\", \"regulation\", \"regulatory\", \"regulatory\", \"risk\", \"risk\", \"risk\", \"risk\", \"robo\", \"robo\", \"robo\", \"robo\", \"security\", \"security\", \"security\", \"security\", \"security\", \"service\", \"service\", \"service\", \"service\", \"service\", \"smart\", \"smart\", \"smart\", \"smart\", \"social\", \"social\", \"social\", \"social\", \"social\", \"stock\", \"stock\", \"stock\", \"sustainable\", \"sustainable\", \"system\", \"system\", \"system\", \"system\", \"system\", \"technology\", \"technology\", \"technology\", \"technology\", \"technology\", \"theory\", \"theory\", \"theory\", \"theory\", \"trading\", \"trading\", \"trading\", \"trading\", \"trading\", \"transformation\", \"transformation\", \"trust\", \"trust\", \"trust\", \"trust\", \"trust\"]}, \"R\": 30, \"lambda.step\": 0.01, \"plot.opts\": {\"xlab\": \"PC1\", \"ylab\": \"PC2\"}, \"topic.order\": [5, 1, 2, 4, 3]};\n",
       "\n",
       "function LDAvis_load_lib(url, callback){\n",
       "  var s = document.createElement('script');\n",
       "  s.src = url;\n",
       "  s.async = true;\n",
       "  s.onreadystatechange = s.onload = callback;\n",
       "  s.onerror = function(){console.warn(\"failed to load library \" + url);};\n",
       "  document.getElementsByTagName(\"head\")[0].appendChild(s);\n",
       "}\n",
       "\n",
       "if(typeof(LDAvis) !== \"undefined\"){\n",
       "   // already loaded: just create the visualization\n",
       "   !function(LDAvis){\n",
       "       new LDAvis(\"#\" + \"ldavis_el222424261281186082137001180\", ldavis_el222424261281186082137001180_data);\n",
       "   }(LDAvis);\n",
       "}else if(typeof define === \"function\" && define.amd){\n",
       "   // require.js is available: use it to load d3/LDAvis\n",
       "   require.config({paths: {d3: \"https://d3js.org/d3.v5\"}});\n",
       "   require([\"d3\"], function(d3){\n",
       "      window.d3 = d3;\n",
       "      LDAvis_load_lib(\"https://cdn.jsdelivr.net/gh/bmabey/pyLDAvis@3.3.1/pyLDAvis/js/ldavis.v3.0.0.js\", function(){\n",
       "        new LDAvis(\"#\" + \"ldavis_el222424261281186082137001180\", ldavis_el222424261281186082137001180_data);\n",
       "      });\n",
       "    });\n",
       "}else{\n",
       "    // require.js not available: dynamically load d3 & LDAvis\n",
       "    LDAvis_load_lib(\"https://d3js.org/d3.v5.js\", function(){\n",
       "         LDAvis_load_lib(\"https://cdn.jsdelivr.net/gh/bmabey/pyLDAvis@3.3.1/pyLDAvis/js/ldavis.v3.0.0.js\", function(){\n",
       "                 new LDAvis(\"#\" + \"ldavis_el222424261281186082137001180\", ldavis_el222424261281186082137001180_data);\n",
       "            })\n",
       "         });\n",
       "}\n",
       "</script>"
      ],
      "text/plain": [
       "<IPython.core.display.HTML object>"
      ]
     },
     "execution_count": 54,
     "metadata": {},
     "output_type": "execute_result"
    }
   ],
   "source": [
    " # Let's Visualize\n",
    "pyLDAvis.display(lda_display)"
   ]
  },
  {
   "cell_type": "markdown",
   "metadata": {},
   "source": [
    "### We will use a coherence matrix to find out how many topics we need for topic modelling"
   ]
  },
  {
   "cell_type": "code",
   "execution_count": null,
   "metadata": {},
   "outputs": [],
   "source": [
    "# cm = CoherenceModel(model=lda_model, corpus=corpus, coherence='u_mass')\n",
    "# coherence = cm.get_coherence()  # get coherence value"
   ]
  },
  {
   "cell_type": "code",
   "execution_count": null,
   "metadata": {},
   "outputs": [],
   "source": [
    "data = data.reset_index()"
   ]
  },
  {
   "cell_type": "code",
   "execution_count": null,
   "metadata": {},
   "outputs": [],
   "source": [
    "data.shape"
   ]
  },
  {
   "cell_type": "code",
   "execution_count": null,
   "metadata": {},
   "outputs": [],
   "source": [
    "data = data[data[\"tokens\"].str.len() != 0]"
   ]
  },
  {
   "cell_type": "code",
   "execution_count": null,
   "metadata": {},
   "outputs": [],
   "source": [
    "data"
   ]
  },
  {
   "cell_type": "code",
   "execution_count": null,
   "metadata": {},
   "outputs": [],
   "source": [
    "corpus = data['tokens']"
   ]
  },
  {
   "cell_type": "code",
   "execution_count": null,
   "metadata": {},
   "outputs": [],
   "source": [
    "data.tokens.value_counts().reset_index()"
   ]
  },
  {
   "cell_type": "code",
   "execution_count": null,
   "metadata": {},
   "outputs": [],
   "source": [
    "dirichlet_dict = corpora.Dictionary(corpus)\n",
    "bow_corpus = [dirichlet_dict.doc2bow(text) for text in corpus]\n",
    "\n",
    "# Considering 1-15 topics, as the last is cut off\n",
    "num_topics = list(range(10)[1:])\n",
    "num_keywords = 15\n",
    "\n",
    "LDA_models = {}\n",
    "LDA_topics = {}\n",
    "for i in num_topics:\n",
    "    LDA_models[i] = LdaModel(corpus=bow_corpus,\n",
    "                             id2word=dirichlet_dict,\n",
    "                             num_topics=i,\n",
    "                             update_every=1,\n",
    "                             chunksize=len(bow_corpus),\n",
    "                             passes=10,\n",
    "                             alpha='auto',\n",
    "                             random_state=42)\n",
    "\n",
    "    shown_topics = LDA_models[i].show_topics(num_topics=i, \n",
    "                                             num_words=num_keywords,\n",
    "                                             formatted=False)\n",
    "    LDA_topics[i] = [[word[0] for word in topic[1]] for topic in shown_topics]"
   ]
  },
  {
   "cell_type": "code",
   "execution_count": null,
   "metadata": {},
   "outputs": [],
   "source": [
    "def jaccard_similarity(topic_1, topic_2):\n",
    "    \"\"\"\n",
    "    Derives the Jaccard similarity of two topics\n",
    "\n",
    "    Jaccard similarity:\n",
    "    - A statistic used for comparing the similarity and diversity of sample sets\n",
    "    - J(A,B) = (A ∩ B)/(A ∪ B)\n",
    "    - Goal is low Jaccard scores for coverage of the diverse elements\n",
    "    \"\"\"\n",
    "    intersection = set(topic_1).intersection(set(topic_2))\n",
    "    union = set(topic_1).union(set(topic_2))\n",
    "                    \n",
    "    return float(len(intersection))/float(len(union))"
   ]
  },
  {
   "cell_type": "code",
   "execution_count": null,
   "metadata": {},
   "outputs": [],
   "source": [
    "LDA_stability = {}\n",
    "for i in range(0, len(num_topics)-1):\n",
    "    jaccard_sims = []\n",
    "    for t1, topic1 in enumerate(LDA_topics[num_topics[i]]): # pylint: disable=unused-variable\n",
    "        sims = []\n",
    "        for t2, topic2 in enumerate(LDA_topics[num_topics[i+1]]): # pylint: disable=unused-variable\n",
    "            sims.append(jaccard_similarity(topic1, topic2))    \n",
    "        \n",
    "        jaccard_sims.append(sims)    \n",
    "    \n",
    "    LDA_stability[num_topics[i]] = jaccard_sims\n",
    "                \n",
    "mean_stabilities = [np.array(LDA_stability[i]).mean() for i in num_topics[:-1]]"
   ]
  },
  {
   "cell_type": "code",
   "execution_count": null,
   "metadata": {},
   "outputs": [],
   "source": [
    "coherences = [CoherenceModel(model=LDA_models[i], texts=corpus, dictionary=dirichlet_dict, coherence='c_v').get_coherence() for i in num_topics[:-1]]"
   ]
  },
  {
   "cell_type": "code",
   "execution_count": null,
   "metadata": {},
   "outputs": [],
   "source": [
    "num_keywords = len(coherences)"
   ]
  },
  {
   "cell_type": "code",
   "execution_count": null,
   "metadata": {},
   "outputs": [],
   "source": [
    "coh_sta_diffs = [coherences[i] - mean_stabilities[i] for i in range(num_keywords)[:-1]] # limit topic numbers to the number of keywords\n",
    "coh_sta_max = max(coh_sta_diffs)\n",
    "coh_sta_max_idxs = [i for i, j in enumerate(coh_sta_diffs) if j == coh_sta_max]\n",
    "ideal_topic_num_index = coh_sta_max_idxs[0] # choose less topics in case there's more than one max\n",
    "ideal_topic_num = num_topics[ideal_topic_num_index]"
   ]
  },
  {
   "cell_type": "code",
   "execution_count": null,
   "metadata": {},
   "outputs": [],
   "source": [
    "plt.figure(figsize=(20,10))\n",
    "ax = sns.lineplot(x=num_topics[:-1], y=mean_stabilities, label='Average Topic Overlap')\n",
    "ax = sns.lineplot(x=num_topics[:-1], y=coherences, label='Topic Coherence')\n",
    "\n",
    "ax.axvline(x=ideal_topic_num, label='Ideal Number of Topics', color='black')\n",
    "ax.axvspan(xmin=ideal_topic_num - 1, xmax=ideal_topic_num + 1, alpha=0.5, facecolor='grey')\n",
    "\n",
    "y_max = max(max(mean_stabilities), max(coherences)) + (0.10 * max(max(mean_stabilities), max(coherences)))\n",
    "ax.set_ylim([0, y_max])\n",
    "ax.set_xlim([1, num_topics[-1]-1])\n",
    "                \n",
    "ax.axes.set_title('Model Metrics per Number of Topics', fontsize=25)\n",
    "ax.set_ylabel('Metric Level', fontsize=20)\n",
    "ax.set_xlabel('Number of Topics', fontsize=20)\n",
    "plt.legend(fontsize=20)\n",
    "plt.show()  "
   ]
  }
 ],
 "metadata": {
  "kernelspec": {
   "display_name": "Python 3.9.12 ('base')",
   "language": "python",
   "name": "python3"
  },
  "language_info": {
   "codemirror_mode": {
    "name": "ipython",
    "version": 3
   },
   "file_extension": ".py",
   "mimetype": "text/x-python",
   "name": "python",
   "nbconvert_exporter": "python",
   "pygments_lexer": "ipython3",
   "version": "3.9.12"
  },
  "orig_nbformat": 4,
  "vscode": {
   "interpreter": {
    "hash": "995406004189bc7a762cd15e0adc766b4032076a3e0cf164ca390850079b6fa1"
   }
  }
 },
 "nbformat": 4,
 "nbformat_minor": 2
}

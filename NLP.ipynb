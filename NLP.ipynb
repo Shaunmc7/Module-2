{
  "cells": [
    {
      "cell_type": "markdown",
      "metadata": {
        "id": "dHWjyxICD2T2"
      },
      "source": [
        "### All the packages that will be needed for natural language processing"
      ]
    },
    {
      "cell_type": "code",
      "execution_count": 1,
      "metadata": {
        "colab": {
          "base_uri": "https://localhost:8080/"
        },
        "id": "0y4qSrKID2T7",
        "outputId": "3c7523eb-0b81-486d-a1f5-d6af33383516"
      },
      "outputs": [],
      "source": [
        "import string\n",
        "from spacy.lang.en.stop_words import STOP_WORDS\n",
        "from sklearn.feature_extraction.text import CountVectorizer,TfidfVectorizer\n",
        "from spacy.lang.en import English\n",
        "from sklearn.base import TransformerMixin\n",
        "from sklearn.pipeline import Pipeline\n",
        "import matplotlib.pyplot as plt\n",
        "import pandas as pd\n",
        "import numpy as np\n",
        "import preprocessor as prepro # text prepro\n",
        "import tqdm #progress bar\n",
        "from gensim.models import LdaModel, CoherenceModel\n",
        "from gensim import corpora\n",
        "import seaborn as sns\n",
        "from imblearn.over_sampling import SMOTE\n",
        "SMOTE = SMOTE()\n",
        "import spacy #spacy for quick language prepro\n",
        "nlp = spacy.load('en_core_web_sm') #instantiating English module\n",
        "import scipy.sparse as ss\n",
        "\n",
        "# sampling, splitting\n",
        "from imblearn.under_sampling import RandomUnderSampler\n",
        "from sklearn.model_selection import train_test_split\n",
        "\n",
        "\n",
        "# loading ML libraries\n",
        "from sklearn.pipeline import make_pipeline #pipeline creation\n",
        "from sklearn.feature_extraction.text import TfidfVectorizer #transforms text to sparse matrix\n",
        "from sklearn.linear_model import LogisticRegression #Logit model\n",
        "from sklearn.metrics import classification_report #that's self explanatory\n",
        "from sklearn.decomposition import TruncatedSVD #dimensionality reduction\n",
        "from xgboost import XGBClassifier\n",
        "from sklearn.preprocessing import LabelEncoder\n",
        "import altair as alt #viz\n",
        "\n",
        "#explainability\n",
        "import eli5\n",
        "from eli5.lime import TextExplainer\n",
        "\n",
        "# topic modeling\n",
        "\n",
        "from gensim.corpora.dictionary import Dictionary # Import the dictionary builder\n",
        "from gensim.models import LdaMulticore # we'll use the faster multicore version of LDA\n",
        "\n",
        "# Import pyLDAvis\n",
        "import pyLDAvis\n",
        "import pyLDAvis.gensim_models as gensimvis\n",
        "\n",
        "%matplotlib inline\n",
        "pyLDAvis.enable_notebook()"
      ]
    },
    {
      "cell_type": "code",
      "execution_count": 2,
      "metadata": {
        "id": "vGXbQMWtD2T9"
      },
      "outputs": [],
      "source": [
        "# prepro settings\n",
        "# This is prob not relevant, since it has to do with tweets? \n",
        "# prepro.set_options(prepro.OPT.URL, prepro.OPT.NUMBER, prepro.OPT.RESERVED, prepro.OPT.MENTION, prepro.OPT.SMILEY)"
      ]
    },
    {
      "cell_type": "markdown",
      "metadata": {
        "id": "rcs7Hcz_D2T-"
      },
      "source": [
        "### Loading and appending the datasets"
      ]
    },
    {
      "cell_type": "code",
      "execution_count": 3,
      "metadata": {
        "id": "RWmzmswAD2T_"
      },
      "outputs": [],
      "source": [
        "scopus2022 = pd.read_csv('scopus 2022 2021.csv',  sep = ',')\n",
        "scopus = pd.read_csv('scopus.csv',  sep = ',')"
      ]
    },
    {
      "cell_type": "code",
      "execution_count": 4,
      "metadata": {
        "id": "EYEhZ0f-D2T_"
      },
      "outputs": [
        {
          "name": "stderr",
          "output_type": "stream",
          "text": [
            "C:\\Users\\maart\\AppData\\Local\\Temp\\ipykernel_21124\\3402760882.py:1: FutureWarning: The frame.append method is deprecated and will be removed from pandas in a future version. Use pandas.concat instead.\n",
            "  data = scopus2022.append(scopus, ignore_index=True)\n"
          ]
        }
      ],
      "source": [
        "data = scopus2022.append(scopus, ignore_index=True)"
      ]
    },
    {
      "cell_type": "code",
      "execution_count": 5,
      "metadata": {
        "colab": {
          "base_uri": "https://localhost:8080/",
          "height": 1000
        },
        "id": "knEto1MsD2UA",
        "outputId": "d85d89c7-00c9-4cda-d36c-b26a1d683d8b"
      },
      "outputs": [
        {
          "data": {
            "text/html": [
              "<div>\n",
              "<style scoped>\n",
              "    .dataframe tbody tr th:only-of-type {\n",
              "        vertical-align: middle;\n",
              "    }\n",
              "\n",
              "    .dataframe tbody tr th {\n",
              "        vertical-align: top;\n",
              "    }\n",
              "\n",
              "    .dataframe thead th {\n",
              "        text-align: right;\n",
              "    }\n",
              "</style>\n",
              "<table border=\"1\" class=\"dataframe\">\n",
              "  <thead>\n",
              "    <tr style=\"text-align: right;\">\n",
              "      <th></th>\n",
              "      <th>Authors</th>\n",
              "      <th>Author(s) ID</th>\n",
              "      <th>Title</th>\n",
              "      <th>Year</th>\n",
              "      <th>Source title</th>\n",
              "      <th>Volume</th>\n",
              "      <th>Issue</th>\n",
              "      <th>Art. No.</th>\n",
              "      <th>Page start</th>\n",
              "      <th>Page end</th>\n",
              "      <th>...</th>\n",
              "      <th>ISBN</th>\n",
              "      <th>CODEN</th>\n",
              "      <th>PubMed ID</th>\n",
              "      <th>Language of Original Document</th>\n",
              "      <th>Abbreviated Source Title</th>\n",
              "      <th>Document Type</th>\n",
              "      <th>Publication Stage</th>\n",
              "      <th>Open Access</th>\n",
              "      <th>Source</th>\n",
              "      <th>EID</th>\n",
              "    </tr>\n",
              "  </thead>\n",
              "  <tbody>\n",
              "    <tr>\n",
              "      <th>0</th>\n",
              "      <td>Yang T., Zhang X.</td>\n",
              "      <td>57907798100;56342888200;</td>\n",
              "      <td>FinTech adoption and financial inclusion: Evid...</td>\n",
              "      <td>2022</td>\n",
              "      <td>Journal of Banking and Finance</td>\n",
              "      <td>145</td>\n",
              "      <td>NaN</td>\n",
              "      <td>106668</td>\n",
              "      <td>NaN</td>\n",
              "      <td>NaN</td>\n",
              "      <td>...</td>\n",
              "      <td>NaN</td>\n",
              "      <td>JBFID</td>\n",
              "      <td>NaN</td>\n",
              "      <td>English</td>\n",
              "      <td>J. Bank. Financ.</td>\n",
              "      <td>Article</td>\n",
              "      <td>Final</td>\n",
              "      <td>NaN</td>\n",
              "      <td>Scopus</td>\n",
              "      <td>2-s2.0-85138806241</td>\n",
              "    </tr>\n",
              "    <tr>\n",
              "      <th>1</th>\n",
              "      <td>Wang X., Wang Y., Zhao Y.</td>\n",
              "      <td>57193015825;57901727900;57901783600;</td>\n",
              "      <td>Financial permeation and rural poverty reducti...</td>\n",
              "      <td>2022</td>\n",
              "      <td>China Economic Review</td>\n",
              "      <td>76</td>\n",
              "      <td>NaN</td>\n",
              "      <td>101863</td>\n",
              "      <td>NaN</td>\n",
              "      <td>NaN</td>\n",
              "      <td>...</td>\n",
              "      <td>NaN</td>\n",
              "      <td>NaN</td>\n",
              "      <td>NaN</td>\n",
              "      <td>English</td>\n",
              "      <td>China Econ. Rev.</td>\n",
              "      <td>Article</td>\n",
              "      <td>Final</td>\n",
              "      <td>NaN</td>\n",
              "      <td>Scopus</td>\n",
              "      <td>2-s2.0-85138589769</td>\n",
              "    </tr>\n",
              "    <tr>\n",
              "      <th>2</th>\n",
              "      <td>Dzandu M.D., Hanu C., Amegbe H.</td>\n",
              "      <td>56590001600;57201152816;57194904537;</td>\n",
              "      <td>Gamification of mobile money payment for gener...</td>\n",
              "      <td>2022</td>\n",
              "      <td>Technological Forecasting and Social Change</td>\n",
              "      <td>185</td>\n",
              "      <td>NaN</td>\n",
              "      <td>122049</td>\n",
              "      <td>NaN</td>\n",
              "      <td>NaN</td>\n",
              "      <td>...</td>\n",
              "      <td>NaN</td>\n",
              "      <td>NaN</td>\n",
              "      <td>NaN</td>\n",
              "      <td>English</td>\n",
              "      <td>Technol. Forecast. Soc. Change</td>\n",
              "      <td>Article</td>\n",
              "      <td>Final</td>\n",
              "      <td>All Open Access, Hybrid Gold, Green</td>\n",
              "      <td>Scopus</td>\n",
              "      <td>2-s2.0-85138450268</td>\n",
              "    </tr>\n",
              "    <tr>\n",
              "      <th>3</th>\n",
              "      <td>Grassi L., Fantaccini S.</td>\n",
              "      <td>57192656409;57895835500;</td>\n",
              "      <td>An overview of Fintech applications to solve t...</td>\n",
              "      <td>2022</td>\n",
              "      <td>Financial Innovation</td>\n",
              "      <td>8</td>\n",
              "      <td>1</td>\n",
              "      <td>84</td>\n",
              "      <td>NaN</td>\n",
              "      <td>NaN</td>\n",
              "      <td>...</td>\n",
              "      <td>NaN</td>\n",
              "      <td>NaN</td>\n",
              "      <td>NaN</td>\n",
              "      <td>English</td>\n",
              "      <td>Financial Innov.</td>\n",
              "      <td>Article</td>\n",
              "      <td>Final</td>\n",
              "      <td>All Open Access, Gold, Green</td>\n",
              "      <td>Scopus</td>\n",
              "      <td>2-s2.0-85138286241</td>\n",
              "    </tr>\n",
              "    <tr>\n",
              "      <th>4</th>\n",
              "      <td>DeFusco A.A., Tang H., Yannelis C.</td>\n",
              "      <td>57193852071;57890330600;55413678100;</td>\n",
              "      <td>Measuring the welfare cost of asymmetric infor...</td>\n",
              "      <td>2022</td>\n",
              "      <td>Journal of Financial Economics</td>\n",
              "      <td>146</td>\n",
              "      <td>3</td>\n",
              "      <td>NaN</td>\n",
              "      <td>821</td>\n",
              "      <td>840.0</td>\n",
              "      <td>...</td>\n",
              "      <td>NaN</td>\n",
              "      <td>JFECD</td>\n",
              "      <td>NaN</td>\n",
              "      <td>English</td>\n",
              "      <td>J. Financ. Econ.</td>\n",
              "      <td>Article</td>\n",
              "      <td>Final</td>\n",
              "      <td>NaN</td>\n",
              "      <td>Scopus</td>\n",
              "      <td>2-s2.0-85138101180</td>\n",
              "    </tr>\n",
              "    <tr>\n",
              "      <th>...</th>\n",
              "      <td>...</td>\n",
              "      <td>...</td>\n",
              "      <td>...</td>\n",
              "      <td>...</td>\n",
              "      <td>...</td>\n",
              "      <td>...</td>\n",
              "      <td>...</td>\n",
              "      <td>...</td>\n",
              "      <td>...</td>\n",
              "      <td>...</td>\n",
              "      <td>...</td>\n",
              "      <td>...</td>\n",
              "      <td>...</td>\n",
              "      <td>...</td>\n",
              "      <td>...</td>\n",
              "      <td>...</td>\n",
              "      <td>...</td>\n",
              "      <td>...</td>\n",
              "      <td>...</td>\n",
              "      <td>...</td>\n",
              "      <td>...</td>\n",
              "    </tr>\n",
              "    <tr>\n",
              "      <th>3395</th>\n",
              "      <td>Fayard E.H.</td>\n",
              "      <td>35072693600;</td>\n",
              "      <td>ACC pressure cleaning</td>\n",
              "      <td>2010</td>\n",
              "      <td>Power Engineering (Barrington, Illinois)</td>\n",
              "      <td>114</td>\n",
              "      <td>5</td>\n",
              "      <td>NaN</td>\n",
              "      <td>22</td>\n",
              "      <td>NaN</td>\n",
              "      <td>...</td>\n",
              "      <td>NaN</td>\n",
              "      <td>POENA</td>\n",
              "      <td>NaN</td>\n",
              "      <td>English</td>\n",
              "      <td>Power Eng. Barrington Ill</td>\n",
              "      <td>Short Survey</td>\n",
              "      <td>Final</td>\n",
              "      <td>NaN</td>\n",
              "      <td>Scopus</td>\n",
              "      <td>2-s2.0-77953829082</td>\n",
              "    </tr>\n",
              "    <tr>\n",
              "      <th>3396</th>\n",
              "      <td>Dassanayake M.M.K., Tilakarathne C.</td>\n",
              "      <td>57221353725;55762978100;</td>\n",
              "      <td>Predicting trading signals of Sri Lankan stock...</td>\n",
              "      <td>2010</td>\n",
              "      <td>Technological Developments in Networking, Educ...</td>\n",
              "      <td>NaN</td>\n",
              "      <td>NaN</td>\n",
              "      <td>NaN</td>\n",
              "      <td>269</td>\n",
              "      <td>273</td>\n",
              "      <td>...</td>\n",
              "      <td>9789048191505</td>\n",
              "      <td>NaN</td>\n",
              "      <td>NaN</td>\n",
              "      <td>English</td>\n",
              "      <td>Technol. Dev. Networking, Educ. Autom.</td>\n",
              "      <td>Conference Paper</td>\n",
              "      <td>Final</td>\n",
              "      <td>NaN</td>\n",
              "      <td>Scopus</td>\n",
              "      <td>2-s2.0-84878897261</td>\n",
              "    </tr>\n",
              "    <tr>\n",
              "      <th>3397</th>\n",
              "      <td>Hao H.-N.</td>\n",
              "      <td>36617357100;</td>\n",
              "      <td>Notice of Retraction: Short-term forecasting o...</td>\n",
              "      <td>2010</td>\n",
              "      <td>Proceedings - 2010 6th International Conferenc...</td>\n",
              "      <td>4</td>\n",
              "      <td>NaN</td>\n",
              "      <td>5584528</td>\n",
              "      <td>1838</td>\n",
              "      <td>1841</td>\n",
              "      <td>...</td>\n",
              "      <td>9781424459612</td>\n",
              "      <td>NaN</td>\n",
              "      <td>NaN</td>\n",
              "      <td>English</td>\n",
              "      <td>Proc. - Int. Conf. Nat. Comput., ICNC</td>\n",
              "      <td>Retracted</td>\n",
              "      <td>Final</td>\n",
              "      <td>NaN</td>\n",
              "      <td>Scopus</td>\n",
              "      <td>2-s2.0-78149350510</td>\n",
              "    </tr>\n",
              "    <tr>\n",
              "      <th>3398</th>\n",
              "      <td>Ma Z.-X., Zhang W.</td>\n",
              "      <td>55479146300;56621528900;</td>\n",
              "      <td>Notice of Retraction: An discrimination resear...</td>\n",
              "      <td>2010</td>\n",
              "      <td>ICAMS 2010 - Proceedings of 2010 IEEE Internat...</td>\n",
              "      <td>3</td>\n",
              "      <td>NaN</td>\n",
              "      <td>5553273</td>\n",
              "      <td>116</td>\n",
              "      <td>119</td>\n",
              "      <td>...</td>\n",
              "      <td>9781424469291</td>\n",
              "      <td>NaN</td>\n",
              "      <td>NaN</td>\n",
              "      <td>English</td>\n",
              "      <td>ICAMS - Proc. IEEE Int. Conf. Adv. Manage. Sci.</td>\n",
              "      <td>Retracted</td>\n",
              "      <td>Final</td>\n",
              "      <td>NaN</td>\n",
              "      <td>Scopus</td>\n",
              "      <td>2-s2.0-77957273781</td>\n",
              "    </tr>\n",
              "    <tr>\n",
              "      <th>3399</th>\n",
              "      <td>Danial S.N., Noor S.R., Usmani B.A., Zaidi S.J.H.</td>\n",
              "      <td>24823887800;24825002200;26666352700;57549810600;</td>\n",
              "      <td>A dynamical system and neural network perspect...</td>\n",
              "      <td>2008</td>\n",
              "      <td>Communications in Computer and Information Sci...</td>\n",
              "      <td>20 CCIS</td>\n",
              "      <td>NaN</td>\n",
              "      <td>NaN</td>\n",
              "      <td>88</td>\n",
              "      <td>99</td>\n",
              "      <td>...</td>\n",
              "      <td>3540898522; 9783540898528</td>\n",
              "      <td>NaN</td>\n",
              "      <td>NaN</td>\n",
              "      <td>English</td>\n",
              "      <td>Commun. Comput. Info. Sci.</td>\n",
              "      <td>Conference Paper</td>\n",
              "      <td>Final</td>\n",
              "      <td>NaN</td>\n",
              "      <td>Scopus</td>\n",
              "      <td>2-s2.0-85099426338</td>\n",
              "    </tr>\n",
              "  </tbody>\n",
              "</table>\n",
              "<p>3400 rows × 54 columns</p>\n",
              "</div>"
            ],
            "text/plain": [
              "                                                Authors  \\\n",
              "0                                     Yang T., Zhang X.   \n",
              "1                             Wang X., Wang Y., Zhao Y.   \n",
              "2                       Dzandu M.D., Hanu C., Amegbe H.   \n",
              "3                              Grassi L., Fantaccini S.   \n",
              "4                    DeFusco A.A., Tang H., Yannelis C.   \n",
              "...                                                 ...   \n",
              "3395                                        Fayard E.H.   \n",
              "3396                Dassanayake M.M.K., Tilakarathne C.   \n",
              "3397                                          Hao H.-N.   \n",
              "3398                                 Ma Z.-X., Zhang W.   \n",
              "3399  Danial S.N., Noor S.R., Usmani B.A., Zaidi S.J.H.   \n",
              "\n",
              "                                          Author(s) ID  \\\n",
              "0                             57907798100;56342888200;   \n",
              "1                 57193015825;57901727900;57901783600;   \n",
              "2                 56590001600;57201152816;57194904537;   \n",
              "3                             57192656409;57895835500;   \n",
              "4                 57193852071;57890330600;55413678100;   \n",
              "...                                                ...   \n",
              "3395                                      35072693600;   \n",
              "3396                          57221353725;55762978100;   \n",
              "3397                                      36617357100;   \n",
              "3398                          55479146300;56621528900;   \n",
              "3399  24823887800;24825002200;26666352700;57549810600;   \n",
              "\n",
              "                                                  Title  Year  \\\n",
              "0     FinTech adoption and financial inclusion: Evid...  2022   \n",
              "1     Financial permeation and rural poverty reducti...  2022   \n",
              "2     Gamification of mobile money payment for gener...  2022   \n",
              "3     An overview of Fintech applications to solve t...  2022   \n",
              "4     Measuring the welfare cost of asymmetric infor...  2022   \n",
              "...                                                 ...   ...   \n",
              "3395                              ACC pressure cleaning  2010   \n",
              "3396  Predicting trading signals of Sri Lankan stock...  2010   \n",
              "3397  Notice of Retraction: Short-term forecasting o...  2010   \n",
              "3398  Notice of Retraction: An discrimination resear...  2010   \n",
              "3399  A dynamical system and neural network perspect...  2008   \n",
              "\n",
              "                                           Source title   Volume Issue  \\\n",
              "0                        Journal of Banking and Finance      145   NaN   \n",
              "1                                 China Economic Review       76   NaN   \n",
              "2           Technological Forecasting and Social Change      185   NaN   \n",
              "3                                  Financial Innovation        8     1   \n",
              "4                        Journal of Financial Economics      146     3   \n",
              "...                                                 ...      ...   ...   \n",
              "3395           Power Engineering (Barrington, Illinois)      114     5   \n",
              "3396  Technological Developments in Networking, Educ...      NaN   NaN   \n",
              "3397  Proceedings - 2010 6th International Conferenc...        4   NaN   \n",
              "3398  ICAMS 2010 - Proceedings of 2010 IEEE Internat...        3   NaN   \n",
              "3399  Communications in Computer and Information Sci...  20 CCIS   NaN   \n",
              "\n",
              "     Art. No. Page start Page end  ...                       ISBN  CODEN  \\\n",
              "0      106668        NaN      NaN  ...                        NaN  JBFID   \n",
              "1      101863        NaN      NaN  ...                        NaN    NaN   \n",
              "2      122049        NaN      NaN  ...                        NaN    NaN   \n",
              "3          84        NaN      NaN  ...                        NaN    NaN   \n",
              "4         NaN        821    840.0  ...                        NaN  JFECD   \n",
              "...       ...        ...      ...  ...                        ...    ...   \n",
              "3395      NaN         22      NaN  ...                        NaN  POENA   \n",
              "3396      NaN        269      273  ...              9789048191505    NaN   \n",
              "3397  5584528       1838     1841  ...              9781424459612    NaN   \n",
              "3398  5553273        116      119  ...              9781424469291    NaN   \n",
              "3399      NaN         88       99  ...  3540898522; 9783540898528    NaN   \n",
              "\n",
              "     PubMed ID Language of Original Document  \\\n",
              "0          NaN                       English   \n",
              "1          NaN                       English   \n",
              "2          NaN                       English   \n",
              "3          NaN                       English   \n",
              "4          NaN                       English   \n",
              "...        ...                           ...   \n",
              "3395       NaN                       English   \n",
              "3396       NaN                       English   \n",
              "3397       NaN                       English   \n",
              "3398       NaN                       English   \n",
              "3399       NaN                       English   \n",
              "\n",
              "                             Abbreviated Source Title     Document Type  \\\n",
              "0                                    J. Bank. Financ.           Article   \n",
              "1                                    China Econ. Rev.           Article   \n",
              "2                      Technol. Forecast. Soc. Change           Article   \n",
              "3                                    Financial Innov.           Article   \n",
              "4                                    J. Financ. Econ.           Article   \n",
              "...                                               ...               ...   \n",
              "3395                        Power Eng. Barrington Ill      Short Survey   \n",
              "3396           Technol. Dev. Networking, Educ. Autom.  Conference Paper   \n",
              "3397            Proc. - Int. Conf. Nat. Comput., ICNC         Retracted   \n",
              "3398  ICAMS - Proc. IEEE Int. Conf. Adv. Manage. Sci.         Retracted   \n",
              "3399                       Commun. Comput. Info. Sci.  Conference Paper   \n",
              "\n",
              "     Publication Stage                          Open Access  Source  \\\n",
              "0                Final                                  NaN  Scopus   \n",
              "1                Final                                  NaN  Scopus   \n",
              "2                Final  All Open Access, Hybrid Gold, Green  Scopus   \n",
              "3                Final         All Open Access, Gold, Green  Scopus   \n",
              "4                Final                                  NaN  Scopus   \n",
              "...                ...                                  ...     ...   \n",
              "3395             Final                                  NaN  Scopus   \n",
              "3396             Final                                  NaN  Scopus   \n",
              "3397             Final                                  NaN  Scopus   \n",
              "3398             Final                                  NaN  Scopus   \n",
              "3399             Final                                  NaN  Scopus   \n",
              "\n",
              "                     EID  \n",
              "0     2-s2.0-85138806241  \n",
              "1     2-s2.0-85138589769  \n",
              "2     2-s2.0-85138450268  \n",
              "3     2-s2.0-85138286241  \n",
              "4     2-s2.0-85138101180  \n",
              "...                  ...  \n",
              "3395  2-s2.0-77953829082  \n",
              "3396  2-s2.0-84878897261  \n",
              "3397  2-s2.0-78149350510  \n",
              "3398  2-s2.0-77957273781  \n",
              "3399  2-s2.0-85099426338  \n",
              "\n",
              "[3400 rows x 54 columns]"
            ]
          },
          "execution_count": 5,
          "metadata": {},
          "output_type": "execute_result"
        }
      ],
      "source": [
        "data"
      ]
    },
    {
      "cell_type": "code",
      "execution_count": 6,
      "metadata": {
        "colab": {
          "base_uri": "https://localhost:8080/"
        },
        "id": "mQN6X2TfD2UB",
        "outputId": "17a6cdab-1bc8-4c3b-a53b-ea87c8f20c34"
      },
      "outputs": [
        {
          "name": "stdout",
          "output_type": "stream",
          "text": [
            "<class 'pandas.core.frame.DataFrame'>\n",
            "RangeIndex: 3400 entries, 0 to 3399\n",
            "Data columns (total 54 columns):\n",
            " #   Column                         Non-Null Count  Dtype  \n",
            "---  ------                         --------------  -----  \n",
            " 0   Authors                        3400 non-null   object \n",
            " 1   Author(s) ID                   3399 non-null   object \n",
            " 2   Title                          3400 non-null   object \n",
            " 3   Year                           3400 non-null   int64  \n",
            " 4   Source title                   3400 non-null   object \n",
            " 5   Volume                         2320 non-null   object \n",
            " 6   Issue                          1426 non-null   object \n",
            " 7   Art. No.                       1051 non-null   object \n",
            " 8   Page start                     2336 non-null   object \n",
            " 9   Page end                       2326 non-null   object \n",
            " 10  Page count                     38 non-null     float64\n",
            " 11  Cited by                       2164 non-null   float64\n",
            " 12  DOI                            2972 non-null   object \n",
            " 13  Link                           3400 non-null   object \n",
            " 14  Affiliations                   3305 non-null   object \n",
            " 15  Authors with affiliations      3342 non-null   object \n",
            " 16  Abstract                       3400 non-null   object \n",
            " 17  Author Keywords                2781 non-null   object \n",
            " 18  Index Keywords                 1616 non-null   object \n",
            " 19  Molecular Sequence Numbers     0 non-null      float64\n",
            " 20  Chemicals/CAS                  4 non-null      object \n",
            " 21  Tradenames                     0 non-null      float64\n",
            " 22  Manufacturers                  0 non-null      float64\n",
            " 23  Funding Details                827 non-null    object \n",
            " 24  Funding Text 1                 1039 non-null   object \n",
            " 25  Funding Text 2                 141 non-null    object \n",
            " 26  Funding Text 3                 7 non-null      object \n",
            " 27  Funding Text 4                 1 non-null      object \n",
            " 28  Funding Text 5                 1 non-null      object \n",
            " 29  Funding Text 6                 1 non-null      object \n",
            " 30  Funding Text 7                 1 non-null      object \n",
            " 31  Funding Text 8                 0 non-null      float64\n",
            " 32  Funding Text 9                 0 non-null      float64\n",
            " 33  Funding Text 10                0 non-null      float64\n",
            " 34  References                     3212 non-null   object \n",
            " 35  Correspondence Address         2354 non-null   object \n",
            " 36  Editors                        491 non-null    object \n",
            " 37  Sponsors                       319 non-null    object \n",
            " 38  Publisher                      3394 non-null   object \n",
            " 39  Conference name                1063 non-null   object \n",
            " 40  Conference date                1062 non-null   object \n",
            " 41  Conference location            3 non-null      object \n",
            " 42  Conference code                1065 non-null   float64\n",
            " 43  ISSN                           2540 non-null   object \n",
            " 44  ISBN                           1174 non-null   object \n",
            " 45  CODEN                          276 non-null    object \n",
            " 46  PubMed ID                      36 non-null     float64\n",
            " 47  Language of Original Document  3400 non-null   object \n",
            " 48  Abbreviated Source Title       3396 non-null   object \n",
            " 49  Document Type                  3400 non-null   object \n",
            " 50  Publication Stage              3400 non-null   object \n",
            " 51  Open Access                    1097 non-null   object \n",
            " 52  Source                         3400 non-null   object \n",
            " 53  EID                            3400 non-null   object \n",
            "dtypes: float64(10), int64(1), object(43)\n",
            "memory usage: 1.4+ MB\n"
          ]
        }
      ],
      "source": [
        "data.info()"
      ]
    },
    {
      "cell_type": "code",
      "execution_count": 7,
      "metadata": {
        "colab": {
          "base_uri": "https://localhost:8080/",
          "height": 393
        },
        "id": "YCYShS4LD2UC",
        "outputId": "5d0a5975-1205-47ac-8686-0662dddb61ff"
      },
      "outputs": [
        {
          "data": {
            "text/html": [
              "<div>\n",
              "<style scoped>\n",
              "    .dataframe tbody tr th:only-of-type {\n",
              "        vertical-align: middle;\n",
              "    }\n",
              "\n",
              "    .dataframe tbody tr th {\n",
              "        vertical-align: top;\n",
              "    }\n",
              "\n",
              "    .dataframe thead th {\n",
              "        text-align: right;\n",
              "    }\n",
              "</style>\n",
              "<table border=\"1\" class=\"dataframe\">\n",
              "  <thead>\n",
              "    <tr style=\"text-align: right;\">\n",
              "      <th></th>\n",
              "      <th>Authors</th>\n",
              "      <th>Author(s) ID</th>\n",
              "      <th>Title</th>\n",
              "      <th>Source title</th>\n",
              "      <th>Volume</th>\n",
              "      <th>Issue</th>\n",
              "      <th>Art. No.</th>\n",
              "      <th>Page start</th>\n",
              "      <th>Page end</th>\n",
              "      <th>DOI</th>\n",
              "      <th>...</th>\n",
              "      <th>ISSN</th>\n",
              "      <th>ISBN</th>\n",
              "      <th>CODEN</th>\n",
              "      <th>Language of Original Document</th>\n",
              "      <th>Abbreviated Source Title</th>\n",
              "      <th>Document Type</th>\n",
              "      <th>Publication Stage</th>\n",
              "      <th>Open Access</th>\n",
              "      <th>Source</th>\n",
              "      <th>EID</th>\n",
              "    </tr>\n",
              "  </thead>\n",
              "  <tbody>\n",
              "    <tr>\n",
              "      <th>count</th>\n",
              "      <td>3400</td>\n",
              "      <td>3399</td>\n",
              "      <td>3400</td>\n",
              "      <td>3400</td>\n",
              "      <td>2320</td>\n",
              "      <td>1426</td>\n",
              "      <td>1051</td>\n",
              "      <td>2336</td>\n",
              "      <td>2326</td>\n",
              "      <td>2972</td>\n",
              "      <td>...</td>\n",
              "      <td>2540</td>\n",
              "      <td>1174</td>\n",
              "      <td>276</td>\n",
              "      <td>3400</td>\n",
              "      <td>3396</td>\n",
              "      <td>3400</td>\n",
              "      <td>3400</td>\n",
              "      <td>1097</td>\n",
              "      <td>3400</td>\n",
              "      <td>3400</td>\n",
              "    </tr>\n",
              "    <tr>\n",
              "      <th>unique</th>\n",
              "      <td>3167</td>\n",
              "      <td>3156</td>\n",
              "      <td>3389</td>\n",
              "      <td>1455</td>\n",
              "      <td>495</td>\n",
              "      <td>81</td>\n",
              "      <td>1023</td>\n",
              "      <td>1013</td>\n",
              "      <td>1369</td>\n",
              "      <td>2969</td>\n",
              "      <td>...</td>\n",
              "      <td>949</td>\n",
              "      <td>821</td>\n",
              "      <td>124</td>\n",
              "      <td>4</td>\n",
              "      <td>1429</td>\n",
              "      <td>13</td>\n",
              "      <td>2</td>\n",
              "      <td>7</td>\n",
              "      <td>1</td>\n",
              "      <td>3400</td>\n",
              "    </tr>\n",
              "    <tr>\n",
              "      <th>top</th>\n",
              "      <td>[No author name available]</td>\n",
              "      <td>[No author id available]</td>\n",
              "      <td>Introduction</td>\n",
              "      <td>ACM International Conference Proceeding Series</td>\n",
              "      <td>8</td>\n",
              "      <td>1</td>\n",
              "      <td>8</td>\n",
              "      <td>1</td>\n",
              "      <td>20</td>\n",
              "      <td>10.1142/9789811235825_0003</td>\n",
              "      <td>...</td>\n",
              "      <td>21945357</td>\n",
              "      <td>9781799832591; 9781799832577</td>\n",
              "      <td>JEBUD</td>\n",
              "      <td>English</td>\n",
              "      <td>ACM Int. Conf. Proc. Ser.</td>\n",
              "      <td>Article</td>\n",
              "      <td>Final</td>\n",
              "      <td>All Open Access, Gold</td>\n",
              "      <td>Scopus</td>\n",
              "      <td>2-s2.0-85138806241</td>\n",
              "    </tr>\n",
              "    <tr>\n",
              "      <th>freq</th>\n",
              "      <td>58</td>\n",
              "      <td>58</td>\n",
              "      <td>4</td>\n",
              "      <td>93</td>\n",
              "      <td>95</td>\n",
              "      <td>322</td>\n",
              "      <td>4</td>\n",
              "      <td>158</td>\n",
              "      <td>11</td>\n",
              "      <td>2</td>\n",
              "      <td>...</td>\n",
              "      <td>53</td>\n",
              "      <td>15</td>\n",
              "      <td>15</td>\n",
              "      <td>3395</td>\n",
              "      <td>93</td>\n",
              "      <td>1770</td>\n",
              "      <td>3241</td>\n",
              "      <td>278</td>\n",
              "      <td>3400</td>\n",
              "      <td>1</td>\n",
              "    </tr>\n",
              "  </tbody>\n",
              "</table>\n",
              "<p>4 rows × 43 columns</p>\n",
              "</div>"
            ],
            "text/plain": [
              "                           Authors              Author(s) ID         Title  \\\n",
              "count                         3400                      3399          3400   \n",
              "unique                        3167                      3156          3389   \n",
              "top     [No author name available]  [No author id available]  Introduction   \n",
              "freq                            58                        58             4   \n",
              "\n",
              "                                          Source title Volume Issue Art. No.  \\\n",
              "count                                             3400   2320  1426     1051   \n",
              "unique                                            1455    495    81     1023   \n",
              "top     ACM International Conference Proceeding Series      8     1        8   \n",
              "freq                                                93     95   322        4   \n",
              "\n",
              "       Page start Page end                         DOI  ...      ISSN  \\\n",
              "count        2336     2326                        2972  ...      2540   \n",
              "unique       1013     1369                        2969  ...       949   \n",
              "top             1       20  10.1142/9789811235825_0003  ...  21945357   \n",
              "freq          158       11                           2  ...        53   \n",
              "\n",
              "                                ISBN  CODEN Language of Original Document  \\\n",
              "count                           1174    276                          3400   \n",
              "unique                           821    124                             4   \n",
              "top     9781799832591; 9781799832577  JEBUD                       English   \n",
              "freq                              15     15                          3395   \n",
              "\n",
              "         Abbreviated Source Title Document Type Publication Stage  \\\n",
              "count                        3396          3400              3400   \n",
              "unique                       1429            13                 2   \n",
              "top     ACM Int. Conf. Proc. Ser.       Article             Final   \n",
              "freq                           93          1770              3241   \n",
              "\n",
              "                  Open Access  Source                 EID  \n",
              "count                    1097    3400                3400  \n",
              "unique                      7       1                3400  \n",
              "top     All Open Access, Gold  Scopus  2-s2.0-85138806241  \n",
              "freq                      278    3400                   1  \n",
              "\n",
              "[4 rows x 43 columns]"
            ]
          },
          "execution_count": 7,
          "metadata": {},
          "output_type": "execute_result"
        }
      ],
      "source": [
        "data.describe(include='object')\n"
      ]
    },
    {
      "cell_type": "code",
      "execution_count": 8,
      "metadata": {
        "colab": {
          "base_uri": "https://localhost:8080/"
        },
        "id": "SYzDPh3DD2UC",
        "outputId": "10e9ec8f-765d-42ba-dee1-0afd5455ebb6"
      },
      "outputs": [
        {
          "data": {
            "text/plain": [
              "0       Consumption; Consumption inequality; Credit co...\n",
              "1       Bank branch expansion; Financial permeation; F...\n",
              "2       Customer value; FinTech; Gamification; Marketi...\n",
              "3       Crowdfunding; Fintech; Health crowdfunding; He...\n",
              "4       Asymmetric information; Consumer credit; Exper...\n",
              "                              ...                        \n",
              "3395                                                  NaN\n",
              "3396                                                  NaN\n",
              "3397    Genetic-neural network; Short-term forecasting...\n",
              "3398    Discrimination analysis; Insider trading; Mark...\n",
              "3399    correlation dimension; KSE-100 index returns; ...\n",
              "Name: Author Keywords, Length: 3400, dtype: object"
            ]
          },
          "execution_count": 8,
          "metadata": {},
          "output_type": "execute_result"
        }
      ],
      "source": [
        "data['Author Keywords']"
      ]
    },
    {
      "cell_type": "markdown",
      "metadata": {
        "id": "YIjzOCrED2UD"
      },
      "source": [
        "### Preprocessing the data"
      ]
    },
    {
      "cell_type": "code",
      "execution_count": 9,
      "metadata": {
        "id": "yjWVXlCDD2UD"
      },
      "outputs": [],
      "source": [
        "data = data[['Authors', 'Author(s) ID','Title', 'Abstract','Year', 'Source title', 'Author Keywords']]"
      ]
    },
    {
      "cell_type": "code",
      "execution_count": 10,
      "metadata": {
        "id": "EXD6XXY9D2UE"
      },
      "outputs": [],
      "source": [
        "# data['Author Keywords'].info()"
      ]
    },
    {
      "cell_type": "code",
      "execution_count": 11,
      "metadata": {
        "colab": {
          "base_uri": "https://localhost:8080/"
        },
        "id": "x--8o2WVD2UF",
        "outputId": "c4f7fd9a-8dae-4d1c-fa8d-70f3918edc65"
      },
      "outputs": [
        {
          "name": "stderr",
          "output_type": "stream",
          "text": [
            "C:\\Users\\maart\\AppData\\Local\\Temp\\ipykernel_21124\\3149525087.py:1: SettingWithCopyWarning: \n",
            "A value is trying to be set on a copy of a slice from a DataFrame.\n",
            "Try using .loc[row_indexer,col_indexer] = value instead\n",
            "\n",
            "See the caveats in the documentation: https://pandas.pydata.org/pandas-docs/stable/user_guide/indexing.html#returning-a-view-versus-a-copy\n",
            "  data['Author Keywords'] = data['Author Keywords'].astype({'Author Keywords':'string'})\n"
          ]
        }
      ],
      "source": [
        "data['Author Keywords'] = data['Author Keywords'].astype({'Author Keywords':'string'})"
      ]
    },
    {
      "cell_type": "code",
      "execution_count": 12,
      "metadata": {
        "colab": {
          "base_uri": "https://localhost:8080/"
        },
        "id": "iDHNpWAjD2UF",
        "outputId": "953aae9d-70d5-43a8-b687-8f71377ff4a0"
      },
      "outputs": [
        {
          "data": {
            "text/plain": [
              "0       Consumption; Consumption inequality; Credit co...\n",
              "1       Bank branch expansion; Financial permeation; F...\n",
              "2       Customer value; FinTech; Gamification; Marketi...\n",
              "3       Crowdfunding; Fintech; Health crowdfunding; He...\n",
              "4       Asymmetric information; Consumer credit; Exper...\n",
              "                              ...                        \n",
              "3395                                                 <NA>\n",
              "3396                                                 <NA>\n",
              "3397    Genetic-neural network; Short-term forecasting...\n",
              "3398    Discrimination analysis; Insider trading; Mark...\n",
              "3399    correlation dimension; KSE-100 index returns; ...\n",
              "Name: Author Keywords, Length: 3400, dtype: string"
            ]
          },
          "execution_count": 12,
          "metadata": {},
          "output_type": "execute_result"
        }
      ],
      "source": [
        "data['Author Keywords']"
      ]
    },
    {
      "cell_type": "code",
      "execution_count": 13,
      "metadata": {
        "colab": {
          "base_uri": "https://localhost:8080/"
        },
        "id": "TnzWSAxKD2UG",
        "outputId": "83cfa5ee-d5ed-4e2d-a527-cc0e4fe13705"
      },
      "outputs": [
        {
          "name": "stderr",
          "output_type": "stream",
          "text": [
            "C:\\Users\\maart\\AppData\\Local\\Temp\\ipykernel_21124\\2047529099.py:1: SettingWithCopyWarning: \n",
            "A value is trying to be set on a copy of a slice from a DataFrame\n",
            "\n",
            "See the caveats in the documentation: https://pandas.pydata.org/pandas-docs/stable/user_guide/indexing.html#returning-a-view-versus-a-copy\n",
            "  data.dropna(inplace = True,)\n"
          ]
        }
      ],
      "source": [
        "data.dropna(inplace = True,)"
      ]
    },
    {
      "cell_type": "code",
      "execution_count": 14,
      "metadata": {
        "colab": {
          "base_uri": "https://localhost:8080/"
        },
        "id": "pwv-tn6OD2UH",
        "outputId": "c7fd7287-93f8-45fd-9a39-da5f8e5978f0"
      },
      "outputs": [
        {
          "data": {
            "text/plain": [
              "0    Consumption; Consumption inequality; Credit co...\n",
              "1    Bank branch expansion; Financial permeation; F...\n",
              "2    Customer value; FinTech; Gamification; Marketi...\n",
              "3    Crowdfunding; Fintech; Health crowdfunding; He...\n",
              "4    Asymmetric information; Consumer credit; Exper...\n",
              "Name: Author Keywords, dtype: string"
            ]
          },
          "execution_count": 14,
          "metadata": {},
          "output_type": "execute_result"
        }
      ],
      "source": [
        "data['Author Keywords'].head()"
      ]
    },
    {
      "cell_type": "code",
      "execution_count": 15,
      "metadata": {
        "colab": {
          "base_uri": "https://localhost:8080/"
        },
        "id": "ZW9FiCqHD2UH",
        "outputId": "69163f0b-0efe-4658-de35-7c12e9387cd6"
      },
      "outputs": [
        {
          "data": {
            "text/plain": [
              "False    2781\n",
              "Name: Author Keywords, dtype: int64"
            ]
          },
          "execution_count": 15,
          "metadata": {},
          "output_type": "execute_result"
        }
      ],
      "source": [
        "data['Author Keywords'].isnull().value_counts()"
      ]
    },
    {
      "cell_type": "code",
      "execution_count": 16,
      "metadata": {
        "colab": {
          "base_uri": "https://localhost:8080/"
        },
        "id": "WoV_x76oD2UI",
        "outputId": "67f67105-7742-4d55-8404-261707aef854"
      },
      "outputs": [
        {
          "name": "stderr",
          "output_type": "stream",
          "text": [
            "  0%|          | 0/2781 [00:00<?, ?it/s]c:\\Users\\maart\\anaconda3\\lib\\site-packages\\spacy\\pipeline\\lemmatizer.py:211: UserWarning: [W108] The rule-based lemmatizer did not find POS annotation for one or more tokens. Check that your pipeline includes components that assign token.pos, typically 'tagger'+'attribute_ruler' or 'morphologizer'.\n",
            "  warnings.warn(Warnings.W108)\n",
            " 92%|█████████▏| 2561/2781 [00:02<00:00, 1363.23it/s]"
          ]
        }
      ],
      "source": [
        "# run progress bar and clean up using spacy but without some heavy parts of the pipeline\n",
        "\n",
        "clean_text = []\n",
        "\n",
        "pbar = tqdm.tqdm(total=len(data['Author Keywords']),position=0, leave=True)\n",
        "\n",
        "for text in nlp.pipe(data['Author Keywords'], disable=[\"tagger\", \"parser\", \"ner\"]):\n",
        "\n",
        "  txt = [token.lemma_.lower() for token in text \n",
        "         if token.is_alpha \n",
        "         and not token.is_stop \n",
        "         and not token.is_punct]\n",
        "\n",
        "  clean_text.append(\" \".join(txt))\n",
        "\n",
        "  pbar.update(1)"
      ]
    },
    {
      "cell_type": "code",
      "execution_count": 17,
      "metadata": {
        "id": "NtkljYgFD2UJ"
      },
      "outputs": [],
      "source": [
        "# write everything into one function that can be re-used later\n",
        "def text_prepro(texts):\n",
        "  \"\"\"\n",
        "  takes in a pandas series (1 column of a DF)\n",
        "  removes twitter stuff\n",
        "  lowercases, normalizes text\n",
        "  \"\"\"\n",
        "  texts_clean = texts.map(lambda t: prepro.clean(t))\n",
        "  clean_container = []\n",
        "\n",
        "  pbar = tqdm.tqdm(total=len(texts_clean),position=0, leave=True)\n",
        "\n",
        "  for text in nlp.pipe(texts_clean, disable=[\"tagger\", \"parser\", \"ner\"]):\n",
        "\n",
        "    txt = [token.lemma_.lower() for token in text \n",
        "          if token.is_alpha \n",
        "          and not token.is_stop \n",
        "          and not token.is_punct]\n",
        "\n",
        "    clean_container.append(\" \".join(txt))\n",
        "    pbar.update(1)\n",
        "  \n",
        "  return clean_container"
      ]
    },
    {
      "cell_type": "code",
      "execution_count": 18,
      "metadata": {
        "colab": {
          "base_uri": "https://localhost:8080/",
          "height": 352
        },
        "id": "gJk3hNMXD2UJ",
        "outputId": "e89801e3-6284-474e-9bbf-f1a6463c5b8e"
      },
      "outputs": [
        {
          "name": "stderr",
          "output_type": "stream",
          "text": [
            "100%|██████████| 2781/2781 [00:01<00:00, 1412.56it/s]\n",
            "C:\\Users\\maart\\AppData\\Local\\Temp\\ipykernel_21124\\4189515260.py:2: SettingWithCopyWarning: \n",
            "A value is trying to be set on a copy of a slice from a DataFrame.\n",
            "Try using .loc[row_indexer,col_indexer] = value instead\n",
            "\n",
            "See the caveats in the documentation: https://pandas.pydata.org/pandas-docs/stable/user_guide/indexing.html#returning-a-view-versus-a-copy\n",
            "  data['Author_Keywords'] = text_prepro(data['Author Keywords'])\n"
          ]
        }
      ],
      "source": [
        "# apply all prepro-pipeline to texts\n",
        "data['Author_Keywords'] = text_prepro(data['Author Keywords'])"
      ]
    },
    {
      "cell_type": "code",
      "execution_count": 19,
      "metadata": {
        "id": "a-AavgpuD2UK"
      },
      "outputs": [],
      "source": [
        "# preprocess texts (we need tokens)\n",
        "tokens = []\n",
        "\n",
        "for summary in nlp.pipe(data['Author Keywords'], disable=[\"ner\"]):\n",
        "  proj_tok = [token.lemma_.lower() for token in summary \n",
        "              if token.pos_ in ['NOUN', 'PROPN', 'ADJ', 'ADV'] \n",
        "              and not token.is_stop\n",
        "              and not token.is_punct] \n",
        "  tokens.append(proj_tok)"
      ]
    },
    {
      "cell_type": "code",
      "execution_count": 20,
      "metadata": {
        "colab": {
          "base_uri": "https://localhost:8080/"
        },
        "id": "e8W1SJLHD2UK",
        "outputId": "103d6e32-14fe-4f21-fe0f-c6422e45d4fc"
      },
      "outputs": [
        {
          "name": "stderr",
          "output_type": "stream",
          "text": [
            "C:\\Users\\maart\\AppData\\Local\\Temp\\ipykernel_21124\\2173657068.py:1: SettingWithCopyWarning: \n",
            "A value is trying to be set on a copy of a slice from a DataFrame.\n",
            "Try using .loc[row_indexer,col_indexer] = value instead\n",
            "\n",
            "See the caveats in the documentation: https://pandas.pydata.org/pandas-docs/stable/user_guide/indexing.html#returning-a-view-versus-a-copy\n",
            "  data['tokens'] = tokens\n"
          ]
        }
      ],
      "source": [
        "data['tokens'] = tokens"
      ]
    },
    {
      "cell_type": "code",
      "execution_count": 21,
      "metadata": {
        "id": "AKurUUVyD2UK"
      },
      "outputs": [],
      "source": [
        "# Create a Dictionary from the articles: dictionary\n",
        "dictionary = Dictionary(data['tokens'])\n",
        "dictionary.filter_extremes(no_below=50, no_above=0.5, keep_n=1000)\n",
        "# construct corpus using this dictionary\n",
        "corpus = [dictionary.doc2bow(doc) for doc in data['tokens']]"
      ]
    },
    {
      "cell_type": "markdown",
      "metadata": {
        "id": "aCKrV34cD2UL"
      },
      "source": [
        "### UML"
      ]
    },
    {
      "cell_type": "code",
      "execution_count": 22,
      "metadata": {
        "id": "3OKlgESCD2UM"
      },
      "outputs": [],
      "source": [
        "#Importing UML packages\n",
        "from sklearn.preprocessing import StandardScaler\n",
        "scaler = StandardScaler()"
      ]
    },
    {
      "cell_type": "code",
      "execution_count": 23,
      "metadata": {
        "id": "ovV4NSyPD2UM"
      },
      "outputs": [],
      "source": [
        "from sklearn.feature_extraction.text import TfidfVectorizer\n",
        "tfidf = TfidfVectorizer()"
      ]
    },
    {
      "cell_type": "code",
      "execution_count": 24,
      "metadata": {
        "id": "YWzy_-KsD2UM"
      },
      "outputs": [],
      "source": [
        "sparse_matrix =tfidf.fit_transform(data['Author Keywords'])"
      ]
    },
    {
      "cell_type": "code",
      "execution_count": 25,
      "metadata": {
        "id": "mnjUBuuJD2UM"
      },
      "outputs": [],
      "source": [
        "#Import nmf\n",
        "from sklearn.decomposition import NMF"
      ]
    },
    {
      "cell_type": "code",
      "execution_count": 26,
      "metadata": {
        "id": "qqpaks72D2UN"
      },
      "outputs": [],
      "source": [
        "#Using 4 components in order to determine relevancy\n",
        "nmf = NMF(n_components=4)"
      ]
    },
    {
      "cell_type": "code",
      "execution_count": 27,
      "metadata": {
        "colab": {
          "base_uri": "https://localhost:8080/"
        },
        "id": "5hAIGSzXD2UN",
        "outputId": "cc9f9c93-2c9d-445d-8bb9-d782d2d3a67f"
      },
      "outputs": [],
      "source": [
        "matrix_nmf = nmf.fit_transform(sparse_matrix)"
      ]
    },
    {
      "cell_type": "code",
      "execution_count": 28,
      "metadata": {
        "colab": {
          "base_uri": "https://localhost:8080/"
        },
        "id": "t_rB4t9aD2UO",
        "outputId": "7a8fabc0-9d4a-48e4-8d71-5a296cfa41e0"
      },
      "outputs": [
        {
          "data": {
            "text/plain": [
              "(2781, 4)"
            ]
          },
          "execution_count": 28,
          "metadata": {},
          "output_type": "execute_result"
        }
      ],
      "source": [
        "matrix_nmf.shape"
      ]
    },
    {
      "cell_type": "code",
      "execution_count": 29,
      "metadata": {
        "colab": {
          "base_uri": "https://localhost:8080/"
        },
        "id": "yOjxxkydD2UP",
        "outputId": "734859f0-5b23-46f1-8d9f-c7ae69ff3244"
      },
      "outputs": [
        {
          "data": {
            "text/plain": [
              "(2781,)"
            ]
          },
          "execution_count": 29,
          "metadata": {},
          "output_type": "execute_result"
        }
      ],
      "source": [
        "data['Author Keywords'].shape"
      ]
    },
    {
      "cell_type": "code",
      "execution_count": 30,
      "metadata": {
        "colab": {
          "base_uri": "https://localhost:8080/"
        },
        "id": "ZgVcAgrED2UP",
        "outputId": "c62b9841-4436-4150-ab42-e14e140d1514"
      },
      "outputs": [
        {
          "data": {
            "text/plain": [
              "(4, 3841)"
            ]
          },
          "execution_count": 30,
          "metadata": {},
          "output_type": "execute_result"
        }
      ],
      "source": [
        "nmf.components_.shape"
      ]
    },
    {
      "cell_type": "code",
      "execution_count": 31,
      "metadata": {
        "id": "OXFa2t9UD2UR"
      },
      "outputs": [],
      "source": [
        "matrix_nmf = matrix_nmf.T"
      ]
    },
    {
      "cell_type": "code",
      "execution_count": 32,
      "metadata": {
        "colab": {
          "base_uri": "https://localhost:8080/"
        },
        "id": "FCdYh81jD2UR",
        "outputId": "918c470b-ac33-452b-871b-6fac73d33bad"
      },
      "outputs": [
        {
          "data": {
            "text/plain": [
              "(4, 2781)"
            ]
          },
          "execution_count": 32,
          "metadata": {},
          "output_type": "execute_result"
        }
      ],
      "source": [
        "matrix_nmf.shape"
      ]
    },
    {
      "cell_type": "code",
      "execution_count": 33,
      "metadata": {
        "id": "5DhD_DV1D2UT"
      },
      "outputs": [
        {
          "ename": "ValueError",
          "evalue": "Shape of passed values is (4, 2781), indices imply (4, 5)",
          "output_type": "error",
          "traceback": [
            "\u001b[1;31m---------------------------------------------------------------------------\u001b[0m",
            "\u001b[1;31mValueError\u001b[0m                                Traceback (most recent call last)",
            "\u001b[1;32mc:\\Users\\maart\\OneDrive\\Skrivebord\\M2\\Module-2\\Sparse_nmf (1).ipynb Cell 37\u001b[0m in \u001b[0;36m<cell line: 4>\u001b[1;34m()\u001b[0m\n\u001b[0;32m      <a href='vscode-notebook-cell:/c%3A/Users/maart/OneDrive/Skrivebord/M2/Module-2/Sparse_nmf%20%281%29.ipynb#X60sZmlsZQ%3D%3D?line=0'>1</a>\u001b[0m \u001b[39m#2 components are more relevant\u001b[39;00m\n\u001b[0;32m      <a href='vscode-notebook-cell:/c%3A/Users/maart/OneDrive/Skrivebord/M2/Module-2/Sparse_nmf%20%281%29.ipynb#X60sZmlsZQ%3D%3D?line=1'>2</a>\u001b[0m plt\u001b[39m.\u001b[39mfigure(figsize\u001b[39m=\u001b[39m(\u001b[39m20\u001b[39m,\u001b[39m3\u001b[39m))\n\u001b[1;32m----> <a href='vscode-notebook-cell:/c%3A/Users/maart/OneDrive/Skrivebord/M2/Module-2/Sparse_nmf%20%281%29.ipynb#X60sZmlsZQ%3D%3D?line=3'>4</a>\u001b[0m sns\u001b[39m.\u001b[39mheatmap(pd\u001b[39m.\u001b[39;49mDataFrame(matrix_nmf, columns\u001b[39m=\u001b[39;49m[\u001b[39m'\u001b[39;49m\u001b[39mPC1\u001b[39;49m\u001b[39m'\u001b[39;49m,\u001b[39m'\u001b[39;49m\u001b[39mPC2\u001b[39;49m\u001b[39m'\u001b[39;49m,\u001b[39m'\u001b[39;49m\u001b[39mPC3\u001b[39;49m\u001b[39m'\u001b[39;49m,\u001b[39m'\u001b[39;49m\u001b[39mPC4\u001b[39;49m\u001b[39m'\u001b[39;49m,\u001b[39m'\u001b[39;49m\u001b[39mPC5\u001b[39;49m\u001b[39m'\u001b[39;49m]), annot\u001b[39m=\u001b[39m\u001b[39mTrue\u001b[39;00m)\n",
            "File \u001b[1;32mc:\\Users\\maart\\anaconda3\\lib\\site-packages\\pandas\\core\\frame.py:694\u001b[0m, in \u001b[0;36mDataFrame.__init__\u001b[1;34m(self, data, index, columns, dtype, copy)\u001b[0m\n\u001b[0;32m    684\u001b[0m         mgr \u001b[39m=\u001b[39m dict_to_mgr(\n\u001b[0;32m    685\u001b[0m             \u001b[39m# error: Item \"ndarray\" of \"Union[ndarray, Series, Index]\" has no\u001b[39;00m\n\u001b[0;32m    686\u001b[0m             \u001b[39m# attribute \"name\"\u001b[39;00m\n\u001b[1;32m   (...)\u001b[0m\n\u001b[0;32m    691\u001b[0m             typ\u001b[39m=\u001b[39mmanager,\n\u001b[0;32m    692\u001b[0m         )\n\u001b[0;32m    693\u001b[0m     \u001b[39melse\u001b[39;00m:\n\u001b[1;32m--> 694\u001b[0m         mgr \u001b[39m=\u001b[39m ndarray_to_mgr(\n\u001b[0;32m    695\u001b[0m             data,\n\u001b[0;32m    696\u001b[0m             index,\n\u001b[0;32m    697\u001b[0m             columns,\n\u001b[0;32m    698\u001b[0m             dtype\u001b[39m=\u001b[39;49mdtype,\n\u001b[0;32m    699\u001b[0m             copy\u001b[39m=\u001b[39;49mcopy,\n\u001b[0;32m    700\u001b[0m             typ\u001b[39m=\u001b[39;49mmanager,\n\u001b[0;32m    701\u001b[0m         )\n\u001b[0;32m    703\u001b[0m \u001b[39m# For data is list-like, or Iterable (will consume into list)\u001b[39;00m\n\u001b[0;32m    704\u001b[0m \u001b[39melif\u001b[39;00m is_list_like(data):\n",
            "File \u001b[1;32mc:\\Users\\maart\\anaconda3\\lib\\site-packages\\pandas\\core\\internals\\construction.py:351\u001b[0m, in \u001b[0;36mndarray_to_mgr\u001b[1;34m(values, index, columns, dtype, copy, typ)\u001b[0m\n\u001b[0;32m    346\u001b[0m \u001b[39m# _prep_ndarray ensures that values.ndim == 2 at this point\u001b[39;00m\n\u001b[0;32m    347\u001b[0m index, columns \u001b[39m=\u001b[39m _get_axes(\n\u001b[0;32m    348\u001b[0m     values\u001b[39m.\u001b[39mshape[\u001b[39m0\u001b[39m], values\u001b[39m.\u001b[39mshape[\u001b[39m1\u001b[39m], index\u001b[39m=\u001b[39mindex, columns\u001b[39m=\u001b[39mcolumns\n\u001b[0;32m    349\u001b[0m )\n\u001b[1;32m--> 351\u001b[0m _check_values_indices_shape_match(values, index, columns)\n\u001b[0;32m    353\u001b[0m \u001b[39mif\u001b[39;00m typ \u001b[39m==\u001b[39m \u001b[39m\"\u001b[39m\u001b[39marray\u001b[39m\u001b[39m\"\u001b[39m:\n\u001b[0;32m    355\u001b[0m     \u001b[39mif\u001b[39;00m \u001b[39missubclass\u001b[39m(values\u001b[39m.\u001b[39mdtype\u001b[39m.\u001b[39mtype, \u001b[39mstr\u001b[39m):\n",
            "File \u001b[1;32mc:\\Users\\maart\\anaconda3\\lib\\site-packages\\pandas\\core\\internals\\construction.py:422\u001b[0m, in \u001b[0;36m_check_values_indices_shape_match\u001b[1;34m(values, index, columns)\u001b[0m\n\u001b[0;32m    420\u001b[0m passed \u001b[39m=\u001b[39m values\u001b[39m.\u001b[39mshape\n\u001b[0;32m    421\u001b[0m implied \u001b[39m=\u001b[39m (\u001b[39mlen\u001b[39m(index), \u001b[39mlen\u001b[39m(columns))\n\u001b[1;32m--> 422\u001b[0m \u001b[39mraise\u001b[39;00m \u001b[39mValueError\u001b[39;00m(\u001b[39mf\u001b[39m\u001b[39m\"\u001b[39m\u001b[39mShape of passed values is \u001b[39m\u001b[39m{\u001b[39;00mpassed\u001b[39m}\u001b[39;00m\u001b[39m, indices imply \u001b[39m\u001b[39m{\u001b[39;00mimplied\u001b[39m}\u001b[39;00m\u001b[39m\"\u001b[39m)\n",
            "\u001b[1;31mValueError\u001b[0m: Shape of passed values is (4, 2781), indices imply (4, 5)"
          ]
        },
        {
          "data": {
            "text/plain": [
              "<Figure size 1440x216 with 0 Axes>"
            ]
          },
          "metadata": {},
          "output_type": "display_data"
        }
      ],
      "source": [
        "#2 components are more relevant\n",
        "plt.figure(figsize=(20,3))\n",
        "\n",
        "sns.heatmap(pd.DataFrame(matrix_nmf, columns=['PC1','PC2','PC3','PC4','PC5']), annot=True)"
      ]
    },
    {
      "cell_type": "markdown",
      "metadata": {
        "id": "xqN9uHQXD2UU"
      },
      "source": [
        "#### K-means and clustering"
      ]
    },
    {
      "cell_type": "code",
      "execution_count": null,
      "metadata": {
        "id": "eCkR3nS0D2UU"
      },
      "outputs": [],
      "source": [
        "import umap.umap_ as umap"
      ]
    },
    {
      "cell_type": "code",
      "execution_count": null,
      "metadata": {
        "id": "oE5TvPg6D2UV"
      },
      "outputs": [],
      "source": [
        "umap_scaler = umap.UMAP()"
      ]
    },
    {
      "cell_type": "code",
      "execution_count": null,
      "metadata": {
        "id": "O0DHeq_eD2UV"
      },
      "outputs": [],
      "source": [
        "#Using standard scaling data\n",
        "embeddings = umap_scaler.fit_transform(matrix_nmf)"
      ]
    },
    {
      "cell_type": "code",
      "execution_count": null,
      "metadata": {
        "id": "JSXUjHYrD2UW"
      },
      "outputs": [],
      "source": [
        "from sklearn.cluster import KMeans\n",
        "clusterer = KMeans(n_clusters=3)"
      ]
    },
    {
      "cell_type": "code",
      "execution_count": null,
      "metadata": {
        "id": "ZA44QnYrD2UW"
      },
      "outputs": [],
      "source": [
        "Sum_of_squared_distances = []\n",
        "K = range(1,10)\n",
        "for k in K:\n",
        "    km = KMeans(n_clusters=k)\n",
        "    km = km.fit(embeddings)\n",
        "    Sum_of_squared_distances.append(km.inertia_)"
      ]
    },
    {
      "cell_type": "markdown",
      "metadata": {
        "id": "HSkoMYHoD2UW"
      },
      "source": [
        "##### Elbow Method for clusters"
      ]
    },
    {
      "cell_type": "code",
      "execution_count": null,
      "metadata": {
        "id": "PnW11P4RD2UX"
      },
      "outputs": [],
      "source": [
        "plt.plot(K, Sum_of_squared_distances, 'bx-')\n",
        "plt.xlabel('k')\n",
        "plt.ylabel('Sum_of_squared_distances')\n",
        "plt.title('Elbow Method For Optimal k')\n",
        "plt.show()"
      ]
    },
    {
      "cell_type": "code",
      "execution_count": null,
      "metadata": {
        "id": "6HQFrMsvD2UX"
      },
      "outputs": [],
      "source": [
        "umap_scaler_km = umap.UMAP(n_components=6)\n",
        "embeddings_km = umap_scaler.fit_transform(matrix_nmf)\n",
        "\n",
        "\n",
        "Sum_of_squared_distances = []\n",
        "K = range(1,10)\n",
        "for k in K:\n",
        "    km = KMeans(n_clusters=k)\n",
        "    km = km.fit(embeddings_km)\n",
        "    Sum_of_squared_distances.append(km.inertia_)\n",
        "\n",
        "\n",
        "plt.plot(K, Sum_of_squared_distances, 'bx-')\n",
        "plt.xlabel('k')\n",
        "plt.ylabel('Sum_of_squared_distances')\n",
        "plt.title('Elbow Method For Optimal k')\n",
        "plt.show()"
      ]
    },
    {
      "cell_type": "code",
      "execution_count": null,
      "metadata": {
        "id": "27xPwPxcD2UX"
      },
      "outputs": [],
      "source": [
        "#Assign variables some values\n",
        "clusterer = KMeans(n_clusters=3, random_state=42, n_init=10)\n",
        "label = clusterer.fit_predict(embeddings)\n",
        "centroids = clusterer.cluster_centers_"
      ]
    },
    {
      "cell_type": "code",
      "execution_count": null,
      "metadata": {
        "id": "dXBfLNF2D2UY"
      },
      "outputs": [],
      "source": [
        "#Creating data for clustering using an interactive map\n",
        "vis_data = pd.DataFrame(embeddings)\n",
        "\n",
        "# vis_data.columns = ['x', 'y', 'EmployeeID', 'Department']\n",
        "\n",
        "alt.Chart(vis_data).mark_circle(size=60).encode(\n",
        "    x='x',\n",
        "    y='y',\n",
        "    # tooltip=['']\n",
        ").interactive()"
      ]
    },
    {
      "cell_type": "code",
      "execution_count": null,
      "metadata": {
        "id": "fjF4nFIFD2UZ"
      },
      "outputs": [],
      "source": [
        "#Assigning groups to the clusters\n",
        "\n",
        "print(label)\n",
        "df_t = pd.DataFrame(data=embeddings, columns=['x', 'y'])\n",
        "df_t['EmployeeID'] = data_hr['EmployeeID']\n",
        "df_t['Department'] = data_hr['Department']\n",
        "df_t.columns = ['x', 'y', 'EmployeeID', 'Department']\n",
        "df_t['label'] = label\n",
        "only_0 = df_t[df_t['label'] == 0]\n",
        "only_1 = df_t[df_t['label'] == 1]\n",
        "only_2 = df_t[df_t['label'] == 2]\n",
        "\n",
        "plt.scatter(only_0['x'], only_0['y'], color='blue')\n",
        "plt.scatter(only_1['x'], only_1['y'], color='red')\n",
        "plt.scatter(only_2['x'],only_2['y'], color ='green')\n",
        "df_t.info()\n",
        "df_t.head()"
      ]
    },
    {
      "cell_type": "code",
      "execution_count": null,
      "metadata": {
        "id": "2IoaVr35D2UZ"
      },
      "outputs": [],
      "source": [
        "# We have to scale and transform our data into numerical values since they are categorical values \n",
        "le_keywords = LabelEncoder()"
      ]
    },
    {
      "cell_type": "code",
      "execution_count": null,
      "metadata": {
        "id": "DWFqlyngD2Ua"
      },
      "outputs": [],
      "source": [
        "data['keywords_ID'] = le_keywords.fit_transform(data['Author Keywords'])"
      ]
    },
    {
      "cell_type": "code",
      "execution_count": null,
      "metadata": {
        "id": "o2tlw5FDD2Ua"
      },
      "outputs": [],
      "source": [
        "data['Title_ID'] = le_keywords.fit_transform(data['Title'])"
      ]
    },
    {
      "cell_type": "code",
      "execution_count": null,
      "metadata": {
        "id": "E3OEJcrZD2Ua"
      },
      "outputs": [],
      "source": [
        "ones = np.ones(len(data), np.uint32)"
      ]
    },
    {
      "cell_type": "code",
      "execution_count": null,
      "metadata": {
        "id": "jssjKkWsD2Ua"
      },
      "outputs": [],
      "source": [
        "data['keywords_ID']"
      ]
    },
    {
      "cell_type": "code",
      "execution_count": null,
      "metadata": {
        "id": "49IShklUD2Ub"
      },
      "outputs": [],
      "source": [
        "data"
      ]
    },
    {
      "cell_type": "code",
      "execution_count": null,
      "metadata": {
        "id": "QygrCKevD2Ub"
      },
      "outputs": [],
      "source": [
        "#Importing UML packages\n",
        "from sklearn.preprocessing import StandardScaler\n",
        "scaler = StandardScaler()"
      ]
    },
    {
      "cell_type": "code",
      "execution_count": null,
      "metadata": {
        "id": "rIKFlGR1D2Ub"
      },
      "outputs": [],
      "source": [
        "#Learn x-y relationships (principal components) and transform\n",
        "data_to_cluster_scaled = scaler.fit_transform(data['keywords_ID'])"
      ]
    },
    {
      "cell_type": "markdown",
      "metadata": {},
      "source": [
        "### LDA For Abstract"
      ]
    },
    {
      "cell_type": "markdown",
      "metadata": {},
      "source": [
        "### LDA For Keywords"
      ]
    },
    {
      "cell_type": "code",
      "execution_count": 75,
      "metadata": {},
      "outputs": [],
      "source": [
        "lda_model = LdaMulticore(corpus, id2word=dictionary, num_topics=5, workers = 4, passes=10, random_state = 60)\n"
      ]
    },
    {
      "cell_type": "code",
      "execution_count": 76,
      "metadata": {},
      "outputs": [
        {
          "name": "stderr",
          "output_type": "stream",
          "text": [
            "c:\\Users\\maart\\anaconda3\\lib\\site-packages\\pyLDAvis\\_prepare.py:246: FutureWarning: In a future version of pandas all arguments of DataFrame.drop except for the argument 'labels' will be keyword-only.\n",
            "  default_term_info = default_term_info.sort_values(\n"
          ]
        }
      ],
      "source": [
        "# Let's try to visualize\n",
        "lda_display = pyLDAvis.gensim_models.prepare(lda_model, corpus, dictionary)"
      ]
    },
    {
      "cell_type": "code",
      "execution_count": 77,
      "metadata": {},
      "outputs": [
        {
          "data": {
            "text/html": [
              "\n",
              "<link rel=\"stylesheet\" type=\"text/css\" href=\"https://cdn.jsdelivr.net/gh/bmabey/pyLDAvis@3.3.1/pyLDAvis/js/ldavis.v1.0.0.css\">\n",
              "\n",
              "\n",
              "<div id=\"ldavis_el2112416240284124963514484877\"></div>\n",
              "<script type=\"text/javascript\">\n",
              "\n",
              "var ldavis_el2112416240284124963514484877_data = {\"mdsDat\": {\"x\": [0.1498385064394251, -0.3464686927255885, 0.02550476352797175, 0.14576734727804758, 0.02535807548014425], \"y\": [0.0766372286293674, -0.050983643181945794, 0.03311093206794753, -0.23670748170315598, 0.17794296418778696], \"topics\": [1, 2, 3, 4, 5], \"cluster\": [1, 1, 1, 1, 1], \"Freq\": [25.56685888367633, 21.24223456471425, 18.399369283646134, 17.765312472825233, 17.026224795138052]}, \"tinfo\": {\"Term\": [\"financial\", \"learning\", \"payment\", \"lending\", \"blockchain\", \"machine\", \"digital\", \"mobile\", \"risk\", \"network\", \"stock\", \"credit\", \"datum\", \"business\", \"neural\", \"model\", \"smart\", \"trading\", \"finance\", \"energy\", \"peer\", \"service\", \"p2p\", \"big\", \"development\", \"industry\", \"regulation\", \"prediction\", \"banking\", \"technology\", \"islamic\", \"sustainable\", \"development\", \"inclusion\", \"investment\", \"performance\", \"financial\", \"information\", \"bank\", \"innovation\", \"ecosystem\", \"social\", \"technology\", \"robo\", \"service\", \"economic\", \"digitalization\", \"management\", \"finance\", \"covid-19\", \"cryptocurrency\", \"banking\", \"crowdfunding\", \"regulation\", \"theory\", \"system\", \"economy\", \"consumer\", \"digital\", \"regtech\", \"market\", \"blockchain\", \"machine\", \"energy\", \"learning\", \"neural\", \"stock\", \"deep\", \"prediction\", \"price\", \"network\", \"smart\", \"trading\", \"contract\", \"market\", \"blockchain\", \"peer\", \"artificial\", \"analysis\", \"investment\", \"system\", \"model\", \"privacy\", \"intelligence\", \"datum\", \"theory\", \"performance\", \"management\", \"data\", \"p2p\", \"cryptocurrency\", \"big\", \"risk\", \"technology\", \"financial\", \"finance\", \"transformation\", \"industry\", \"chain\", \"data\", \"internet\", \"big\", \"security\", \"datum\", \"digital\", \"privacy\", \"economy\", \"cryptocurrency\", \"blockchain\", \"platform\", \"finance\", \"economic\", \"banking\", \"digitalization\", \"china\", \"management\", \"analysis\", \"crowdfunding\", \"ecosystem\", \"system\", \"innovation\", \"technology\", \"market\", \"trading\", \"trust\", \"customer\", \"financial\", \"model\", \"risk\", \"payment\", \"mobile\", \"e\", \"business\", \"money\", \"intention\", \"adoption\", \"customer\", \"trust\", \"model\", \"online\", \"theory\", \"covid-19\", \"consumer\", \"service\", \"intelligence\", \"system\", \"artificial\", \"banking\", \"ecosystem\", \"digitalization\", \"bank\", \"privacy\", \"economy\", \"digital\", \"security\", \"platform\", \"technology\", \"performance\", \"information\", \"innovation\", \"risk\", \"financial\", \"lending\", \"credit\", \"p2p\", \"regulatory\", \"regtech\", \"risk\", \"china\", \"peer\", \"regulation\", \"analysis\", \"crowdfunding\", \"robo\", \"social\", \"platform\", \"intelligence\", \"artificial\", \"management\", \"online\", \"datum\", \"consumer\", \"finance\", \"technology\", \"financial\", \"information\", \"big\", \"market\", \"inclusion\", \"bank\", \"intention\", \"trust\", \"innovation\", \"system\", \"digital\"], \"Freq\": [1060.0, 301.0, 228.0, 192.0, 487.0, 191.0, 416.0, 167.0, 238.0, 193.0, 163.0, 144.0, 250.0, 133.0, 130.0, 208.0, 163.0, 161.0, 353.0, 109.0, 144.0, 210.0, 96.0, 130.0, 117.0, 86.0, 153.0, 97.0, 314.0, 600.0, 80.81310258064877, 62.20367431855811, 113.59553458793262, 122.21838210209448, 60.13439670705604, 48.1694409046303, 757.8052299236394, 91.40943091020385, 158.75198947212783, 179.56218278193737, 31.115439691850625, 52.38539637539433, 319.3454600708751, 28.725001999002533, 102.91785275718914, 29.799134363300503, 27.191437554743644, 52.86680798762143, 121.14380986875307, 29.075109917777795, 30.870201564200745, 77.56377882074048, 21.742987120104264, 36.32510109149302, 15.313358672381048, 32.200855532307536, 16.837975400781353, 11.608041049402118, 70.45417547141878, 7.623335592308057, 42.19193241001593, 64.39559187374476, 189.78092694390668, 108.07823951143767, 297.50449851068674, 128.80485359257216, 160.27138445922773, 86.5114992019673, 94.1067854509155, 58.5229402933785, 184.35590356086024, 145.32785729538563, 141.89421304772125, 92.08820458967597, 174.54396347544935, 158.08629017613228, 45.59617591624157, 53.87386927113487, 45.39834812664262, 19.333596583242567, 36.54310152931132, 40.64626213307356, 11.177663334568294, 27.22380412898291, 26.067969026450026, 6.837448132670965, 6.758508770494104, 12.307464812566693, 6.524779791521566, 7.5958356035307695, 5.690485395780743, 7.547527674610596, 9.442848402486653, 13.02929707296565, 14.246841464893752, 8.17418049483566, 55.00701758664779, 83.52060679909788, 55.55112727526628, 61.184132528969954, 82.9882577239024, 103.58792380231753, 74.88630502091544, 175.96009417205153, 257.98097632778365, 35.70183241049475, 49.89097844564186, 51.75372738007518, 257.1769270298421, 42.736426299611026, 158.3804975223355, 26.928088224539373, 127.61011671692036, 14.194947203148184, 12.509081300566544, 26.24555591558105, 31.37871306017915, 14.675889174508251, 8.449279480226682, 24.173852736456414, 33.565329653867565, 75.68510511831727, 34.158050545805, 17.93362918046969, 6.327907744506452, 6.495111310668211, 56.95959997673023, 12.974440960019056, 11.526330783945129, 226.20084100120263, 163.47962801947926, 67.82004010509874, 124.84872967079045, 80.08681793510516, 58.18000817195722, 58.76797843619333, 62.517095544296936, 50.43938885136152, 150.1737462644901, 37.71182049105662, 41.59945332179453, 49.40423898113918, 34.718906683536474, 96.57146567816818, 70.60551305734589, 65.23329129053631, 64.05785372401992, 93.33618997988827, 16.107536540930464, 12.52412895428431, 50.594556483671774, 11.037119997417511, 15.683919735340131, 73.37615250083431, 16.238598754273255, 13.528160955193542, 84.86241849203842, 8.872515857490109, 16.333577316223696, 32.247173661456955, 23.62953377508136, 48.62568869396459, 187.9038660911897, 136.08893472367097, 87.61461827805759, 58.03312730136022, 42.205784693330806, 189.58745182586892, 41.325310186361186, 97.79936198858059, 101.7165083575943, 102.22081578469557, 47.52656065498898, 25.816579404141706, 43.220651200564085, 37.005084224017246, 62.07034174676001, 59.0337811240937, 33.13329756527906, 12.62468861642452, 47.54403636123671, 11.391665930471666, 65.11387337043325, 107.16831318232819, 182.72616250924054, 19.768579718288912, 18.22862626818683, 34.5607768805175, 12.119766591761046, 15.618318255229973, 4.2973973245384185, 4.1289294583818394, 15.083347693646273, 7.6420956586027575, 13.082582340145935], \"Total\": [1060.0, 301.0, 228.0, 192.0, 487.0, 191.0, 416.0, 167.0, 238.0, 193.0, 163.0, 144.0, 250.0, 133.0, 130.0, 208.0, 163.0, 161.0, 353.0, 109.0, 144.0, 210.0, 96.0, 130.0, 117.0, 86.0, 153.0, 97.0, 314.0, 600.0, 82.06735841549049, 63.758958712561494, 117.93461350436999, 138.8834812896812, 82.22210535891202, 67.30577541273065, 1060.3635225684686, 130.41755239441576, 228.84428733474678, 260.9715185551527, 56.39671005425432, 97.89485224717079, 600.0905939365247, 58.357031444256634, 210.97358729657654, 61.26885209192352, 56.53480728577909, 125.58771551795587, 353.1704415448082, 85.28501961123956, 91.29120514932565, 314.0798099275725, 90.20258356141126, 153.8379154379656, 67.42414903414169, 165.79319674721435, 87.37633559707625, 61.70454350831969, 416.2741105372483, 52.53522130612619, 293.8694644762453, 487.1397520141877, 191.68668896149262, 109.39270970320187, 301.12403203879165, 130.70477087427966, 163.68449023371713, 89.147379077821, 97.91934896467782, 61.086174949953026, 193.82229216098153, 163.67689049648766, 161.44002270314974, 105.48378069498858, 293.8694644762453, 487.1397520141877, 144.3150691561312, 180.09942809742793, 184.55068385072275, 82.22210535891202, 165.79319674721435, 208.91295108473, 59.29681814248456, 164.2386855000418, 250.8157559521273, 67.42414903414169, 67.30577541273065, 125.58771551795587, 69.42765136163028, 96.38888752750884, 91.29120514932565, 130.13267689955666, 238.8632470867159, 600.0905939365247, 1060.3635225684686, 353.1704415448082, 56.53403706924912, 86.7930624984787, 58.51265849842474, 69.42765136163028, 103.88785537124687, 130.13267689955666, 104.87657060661658, 250.8157559521273, 416.2741105372483, 59.29681814248456, 87.37633559707625, 91.29120514932565, 487.1397520141877, 94.46214142613792, 353.1704415448082, 61.26885209192352, 314.0798099275725, 56.53480728577909, 54.89018913144353, 125.58771551795587, 184.55068385072275, 90.20258356141126, 56.39671005425432, 165.79319674721435, 260.9715185551527, 600.0905939365247, 293.8694644762453, 161.44002270314974, 68.27109052170299, 72.66773022785286, 1060.3635225684686, 208.91295108473, 238.8632470867159, 228.206135610876, 167.42861852439202, 69.82891465520265, 133.4054607398503, 87.00810752820546, 64.61837545826558, 65.62244552591667, 72.66773022785286, 68.27109052170299, 208.91295108473, 54.16046736922033, 67.42414903414169, 85.28501961123956, 61.70454350831969, 210.97358729657654, 164.2386855000418, 165.79319674721435, 180.09942809742793, 314.0798099275725, 56.39671005425432, 56.53480728577909, 228.84428733474678, 59.29681814248456, 87.37633559707625, 416.2741105372483, 104.87657060661658, 94.46214142613792, 600.0905939365247, 67.30577541273065, 130.41755239441576, 260.9715185551527, 238.8632470867159, 1060.3635225684686, 192.43732147067817, 144.38766976450805, 96.38888752750884, 67.93272829195197, 52.53522130612619, 238.8632470867159, 54.89018913144353, 144.3150691561312, 153.8379154379656, 184.55068385072275, 90.20258356141126, 58.357031444256634, 97.89485224717079, 94.46214142613792, 164.2386855000418, 180.09942809742793, 125.58771551795587, 54.16046736922033, 250.8157559521273, 61.70454350831969, 353.1704415448082, 600.0905939365247, 1060.3635225684686, 130.41755239441576, 130.13267689955666, 293.8694644762453, 138.8834812896812, 228.84428733474678, 64.61837545826558, 68.27109052170299, 260.9715185551527, 165.79319674721435, 416.2741105372483], \"Category\": [\"Default\", \"Default\", \"Default\", \"Default\", \"Default\", \"Default\", \"Default\", \"Default\", \"Default\", \"Default\", \"Default\", \"Default\", \"Default\", \"Default\", \"Default\", \"Default\", \"Default\", \"Default\", \"Default\", \"Default\", \"Default\", \"Default\", \"Default\", \"Default\", \"Default\", \"Default\", \"Default\", \"Default\", \"Default\", \"Default\", \"Topic1\", \"Topic1\", \"Topic1\", \"Topic1\", \"Topic1\", \"Topic1\", \"Topic1\", \"Topic1\", \"Topic1\", \"Topic1\", \"Topic1\", \"Topic1\", \"Topic1\", \"Topic1\", \"Topic1\", \"Topic1\", \"Topic1\", \"Topic1\", \"Topic1\", \"Topic1\", \"Topic1\", \"Topic1\", \"Topic1\", \"Topic1\", \"Topic1\", \"Topic1\", \"Topic1\", \"Topic1\", \"Topic1\", \"Topic1\", \"Topic1\", \"Topic1\", \"Topic2\", \"Topic2\", \"Topic2\", \"Topic2\", \"Topic2\", \"Topic2\", \"Topic2\", \"Topic2\", \"Topic2\", \"Topic2\", \"Topic2\", \"Topic2\", \"Topic2\", \"Topic2\", \"Topic2\", \"Topic2\", \"Topic2\", \"Topic2\", \"Topic2\", \"Topic2\", \"Topic2\", \"Topic2\", \"Topic2\", \"Topic2\", \"Topic2\", \"Topic2\", \"Topic2\", \"Topic2\", \"Topic2\", \"Topic2\", \"Topic2\", \"Topic2\", \"Topic2\", \"Topic2\", \"Topic3\", \"Topic3\", \"Topic3\", \"Topic3\", \"Topic3\", \"Topic3\", \"Topic3\", \"Topic3\", \"Topic3\", \"Topic3\", \"Topic3\", \"Topic3\", \"Topic3\", \"Topic3\", \"Topic3\", \"Topic3\", \"Topic3\", \"Topic3\", \"Topic3\", \"Topic3\", \"Topic3\", \"Topic3\", \"Topic3\", \"Topic3\", \"Topic3\", \"Topic3\", \"Topic3\", \"Topic3\", \"Topic3\", \"Topic3\", \"Topic3\", \"Topic3\", \"Topic3\", \"Topic4\", \"Topic4\", \"Topic4\", \"Topic4\", \"Topic4\", \"Topic4\", \"Topic4\", \"Topic4\", \"Topic4\", \"Topic4\", \"Topic4\", \"Topic4\", \"Topic4\", \"Topic4\", \"Topic4\", \"Topic4\", \"Topic4\", \"Topic4\", \"Topic4\", \"Topic4\", \"Topic4\", \"Topic4\", \"Topic4\", \"Topic4\", \"Topic4\", \"Topic4\", \"Topic4\", \"Topic4\", \"Topic4\", \"Topic4\", \"Topic4\", \"Topic4\", \"Topic4\", \"Topic5\", \"Topic5\", \"Topic5\", \"Topic5\", \"Topic5\", \"Topic5\", \"Topic5\", \"Topic5\", \"Topic5\", \"Topic5\", \"Topic5\", \"Topic5\", \"Topic5\", \"Topic5\", \"Topic5\", \"Topic5\", \"Topic5\", \"Topic5\", \"Topic5\", \"Topic5\", \"Topic5\", \"Topic5\", \"Topic5\", \"Topic5\", \"Topic5\", \"Topic5\", \"Topic5\", \"Topic5\", \"Topic5\", \"Topic5\", \"Topic5\", \"Topic5\", \"Topic5\"], \"logprob\": [30.0, 29.0, 28.0, 27.0, 26.0, 25.0, 24.0, 23.0, 22.0, 21.0, 20.0, 19.0, 18.0, 17.0, 16.0, 15.0, 14.0, 13.0, 12.0, 11.0, 10.0, 9.0, 8.0, 7.0, 6.0, 5.0, 4.0, 3.0, 2.0, 1.0, -3.6106, -3.8724, -3.2701, -3.197, -3.9062, -4.1281, -1.3724, -3.4874, -2.9354, -2.8123, -4.5651, -4.0442, -2.2365, -4.645, -3.3689, -4.6083, -4.6999, -4.035, -3.2058, -4.6329, -4.573, -3.6517, -4.9235, -4.4103, -5.2741, -4.5308, -5.1792, -5.5511, -3.7478, -5.9716, -4.2606, -3.8377, -2.5716, -3.1346, -2.1221, -2.9592, -2.7406, -3.3572, -3.2731, -3.7481, -2.6006, -2.8385, -2.8624, -3.2947, -2.6553, -2.7543, -3.9977, -3.8308, -4.002, -4.8556, -4.219, -4.1126, -5.4036, -4.5134, -4.5568, -5.8951, -5.9067, -5.3073, -5.9419, -5.7899, -6.0787, -5.7963, -5.5722, -5.2503, -5.1609, -5.7165, -3.6663, -3.2487, -3.6565, -3.5599, -3.2551, -3.0334, -3.3578, -2.5035, -2.1209, -4.0986, -3.764, -3.7273, -2.124, -3.9188, -2.6088, -4.3806, -2.8248, -5.0209, -5.1474, -4.4063, -4.2277, -4.9876, -5.5397, -4.4885, -4.1603, -3.3472, -4.1428, -4.7871, -5.8288, -5.8028, -3.6315, -5.1108, -5.2292, -2.2173, -2.542, -3.4219, -2.8116, -3.2556, -3.5752, -3.5651, -3.5033, -3.718, -2.6269, -4.0088, -3.9107, -3.7387, -4.0915, -3.0685, -3.3816, -3.4608, -3.479, -3.1025, -4.8595, -5.1111, -3.7149, -5.2375, -4.8861, -3.3431, -4.8513, -5.034, -3.1977, -5.4558, -4.8455, -4.1653, -4.4762, -3.7546, -2.3603, -2.6829, -3.1233, -3.5352, -3.8537, -2.3514, -3.8748, -3.0133, -2.9741, -2.9691, -3.735, -4.3452, -3.8299, -3.9852, -3.468, -3.5181, -4.0957, -5.0606, -3.7346, -5.1634, -3.4201, -2.9218, -2.3883, -4.6122, -4.6933, -4.0535, -5.1014, -4.8478, -6.1382, -6.1782, -4.8827, -5.5626, -5.025], \"loglift\": [30.0, 29.0, 28.0, 27.0, 26.0, 25.0, 24.0, 23.0, 22.0, 21.0, 20.0, 19.0, 18.0, 17.0, 16.0, 15.0, 14.0, 13.0, 12.0, 11.0, 10.0, 9.0, 8.0, 7.0, 6.0, 5.0, 4.0, 3.0, 2.0, 1.0, 1.3485, 1.3392, 1.3264, 1.236, 1.051, 1.0294, 1.0279, 1.0085, 0.9982, 0.99, 0.7692, 0.7386, 0.7331, 0.6551, 0.6461, 0.6431, 0.6319, 0.4986, 0.2939, 0.2878, 0.2796, -0.0347, -0.0589, -0.0795, -0.1184, -0.2749, -0.2827, -0.3068, -0.4125, -0.5664, -0.577, -0.6596, 1.5392, 1.5371, 1.5371, 1.5345, 1.5281, 1.5192, 1.5095, 1.5063, 1.4991, 1.4303, 1.4201, 1.4134, 1.0282, 0.4238, 0.397, 0.3423, 0.1467, 0.1016, 0.0369, -0.0878, -0.1195, -0.2481, -0.7148, -0.7394, -0.7493, -0.7736, -0.8155, -0.9916, -1.2261, -1.2982, -1.6815, -2.2807, -2.7607, -2.2168, 1.6655, 1.6544, 1.6409, 1.5665, 1.4682, 1.4647, 1.356, 1.3384, 1.2144, 1.1855, 1.1325, 1.1253, 1.0541, 0.8997, 0.8909, 0.8708, 0.7922, 0.3109, 0.214, 0.1273, -0.0789, -0.123, -0.2055, -0.2326, -0.3581, -0.3776, -0.4593, -0.5046, -0.6857, -0.722, -1.2312, -1.0861, -1.3384, 1.7191, 1.7041, 1.6987, 1.6616, 1.645, 1.623, 1.6176, 1.5775, 1.4252, 1.3978, 1.3659, 1.245, 1.182, 1.1528, 0.9465, 0.8837, 0.7952, 0.6942, 0.5145, 0.4748, 0.2207, 0.2187, 0.0466, 0.0103, -0.0078, -0.1375, -0.2155, -0.2281, -0.2984, -0.3496, -0.3631, -0.5855, -1.3543, 1.7466, 1.7112, 1.675, 1.6129, 1.5515, 1.5394, 1.4866, 1.3813, 1.3567, 1.1796, 1.1296, 0.9549, 0.9528, 0.8333, 0.7974, 0.655, 0.4379, 0.3141, 0.1074, 0.0809, 0.0796, 0.0477, 0.012, -0.1162, -0.1951, -0.37, -0.6684, -0.9142, -0.9401, -1.0351, -1.0804, -1.3067, -1.6896]}, \"token.table\": {\"Topic\": [1, 2, 3, 4, 5, 1, 2, 3, 5, 2, 3, 4, 5, 1, 2, 3, 4, 5, 1, 2, 3, 4, 5, 2, 3, 5, 1, 2, 3, 4, 5, 1, 2, 3, 4, 5, 1, 3, 4, 3, 5, 1, 2, 3, 4, 5, 1, 2, 1, 2, 4, 5, 2, 4, 5, 1, 2, 3, 4, 5, 1, 2, 3, 4, 1, 2, 3, 4, 2, 3, 4, 5, 2, 3, 4, 5, 2, 5, 1, 3, 5, 1, 2, 3, 4, 5, 1, 3, 4, 5, 2, 4, 1, 3, 4, 5, 1, 2, 3, 4, 5, 1, 3, 4, 2, 1, 2, 3, 5, 1, 2, 3, 4, 5, 1, 3, 4, 5, 1, 2, 3, 4, 1, 2, 4, 5, 1, 2, 3, 4, 5, 2, 3, 4, 5, 1, 2, 4, 5, 1, 2, 3, 4, 1, 2, 5, 1, 2, 3, 5, 2, 3, 5, 2, 4, 5, 1, 2, 3, 4, 5, 1, 2, 3, 4, 5, 1, 3, 4, 5, 1, 2, 3, 4, 5, 1, 3, 4, 1, 2, 3, 4, 5, 1, 2, 5, 1, 2, 4, 5, 1, 2, 5, 2, 3, 4, 2, 5, 1, 2, 3, 4, 1, 2, 3, 4, 5, 2, 4, 5, 2, 4, 5, 2, 3, 4, 5, 1, 2, 3, 4, 5, 1, 3, 4, 5, 1, 2, 3, 5, 1, 2, 3, 4, 5, 1, 2, 4, 5, 1, 2, 3, 4, 5, 1, 2, 3, 4, 1, 2, 4, 1, 2, 4, 5, 1, 2, 4, 5, 1, 4, 5, 1, 2, 3, 4, 5, 1, 2, 3, 4, 5, 1, 2, 4, 5, 1, 2, 3, 1, 3, 1, 2, 3, 4, 5], \"Freq\": [0.015238688408908258, 0.015238688408908258, 0.07619344204454129, 0.8990826161255873, 0.015238688408908258, 0.027092828353019505, 0.24383545517717553, 0.16797553578872093, 0.5526936984015979, 0.2998343779902941, 0.01665746544390523, 0.35535926280331154, 0.3275968203968028, 0.6947955828472109, 0.013109350619758696, 0.004369783539919566, 0.22285896053589785, 0.06991653663871306, 0.24834452115208225, 0.01591952058667194, 0.40753972701880165, 0.296103082912098, 0.035022945290678266, 0.061475719939080534, 0.799184359208047, 0.1383203698629312, 0.13137913655245287, 0.3243422433638681, 0.5275693452184436, 0.002052799008632076, 0.012316794051792458, 0.014991890053887192, 0.007495945026943596, 0.03747972513471798, 0.9369931283679496, 0.007495945026943596, 0.034180638024742, 0.9570578646927761, 0.017090319012371, 0.2368364949311684, 0.7469458686290695, 0.194475144255496, 0.032412524042582665, 0.032412524042582665, 0.5672191707451967, 0.17826888223420465, 0.1232416956839092, 0.8721720002245883, 0.34003627052198204, 0.035176165916067106, 0.5745440432957628, 0.04690155455475614, 0.04155479487816252, 0.006925799146360419, 0.941908683905017, 0.2438954532274796, 0.04434462785954175, 0.16629235447328156, 0.033258470894656306, 0.5321355343145009, 0.3395726888399938, 0.06572374622709558, 0.5696058006348284, 0.03286187311354779, 0.041283799433302355, 0.01376126647776745, 0.08256759886660471, 0.8669597880993494, 0.10082438139148407, 0.878612466411504, 0.014403483055926296, 0.014403483055926296, 0.10366174924418452, 0.7017103025760183, 0.003986990355545558, 0.19137553706618682, 0.9759120335332971, 0.02243475939157005, 0.9666373307423931, 0.008479274831073623, 0.02543782449322087, 0.16815842789179747, 0.002402263255597107, 0.6197839199440536, 0.17536521765858878, 0.03122942232276239, 0.4775818879777388, 0.24763505302549418, 0.2299468349522446, 0.03537643614649917, 0.014320715207127944, 0.9738086340847002, 0.4896452108322527, 0.44068068974902747, 0.03264301405548351, 0.04896452108322527, 0.19456068835838025, 0.011444746374022369, 0.5722373187011184, 0.1831159419843579, 0.045778985496089476, 0.54967745406031, 0.14185224620911224, 0.2837044924182245, 0.9872687155571839, 0.34261077872409723, 0.022651952312337006, 0.4473760581686559, 0.18404711253773817, 0.7148491850831801, 0.013203019249557415, 0.05375514980176948, 0.04621056737345095, 0.1725823230477862, 0.8784342015846659, 0.007200280340857917, 0.02160084102257375, 0.086403364090295, 0.023043316394499337, 0.011521658197249669, 0.9678192885689721, 0.011521658197249669, 0.6977588394297795, 0.023003038662520202, 0.12268287286677441, 0.15335359108346802, 0.6897304387718444, 0.0038318357709546907, 0.13028241621245948, 0.1226187446705501, 0.05747753656432036, 0.16439488612439684, 0.024354797944355088, 0.4322976635123028, 0.37749936813750384, 0.015475474165175508, 0.015475474165175508, 0.8975775015801795, 0.06190189666070203, 0.02887729262751065, 0.0577545852550213, 0.798938429361128, 0.1155091705100426, 0.7297307669037525, 0.2310814095195216, 0.02432435889679175, 0.9869941175627139, 0.9896254310303961, 0.0033208907081556916, 0.006641781416311383, 0.015589491565736184, 0.005196497188578728, 0.9769414714528009, 0.9912008028797896, 0.0052168463309462615, 0.0052168463309462615, 0.422015798132918, 0.09555074674707578, 0.2070266179519975, 0.00796256222892298, 0.2627645535544584, 0.14292059937174942, 0.5955024973822892, 0.11569762806284477, 0.02722297130890465, 0.11910049947645784, 0.011945389131360645, 0.005972694565680323, 0.9735492142058926, 0.005972694565680323, 0.009573365316106463, 0.19625398898018248, 0.062226874554692, 0.7180023987079847, 0.014360047974159693, 0.057465909120930456, 0.01149318182418609, 0.9194545459348873, 0.020637461023718315, 0.9493232070910425, 0.005159365255929579, 0.015478095767788734, 0.010318730511859157, 0.007650830136582122, 0.9869570876190937, 0.007650830136582122, 0.01846365160002857, 0.03692730320005714, 0.7016187608010857, 0.2400274708003714, 0.010374639915982075, 0.0829971193278566, 0.9129683126064226, 0.004382003127668498, 0.004382003127668498, 0.9903327068530805, 0.3187470322328824, 0.6790697643222278, 0.713163167731977, 0.1040029619609133, 0.04457269798324856, 0.13371809394974568, 0.010586251644336504, 0.010586251644336504, 0.4552088207064697, 0.14820752302071108, 0.39169131084045067, 0.959973702785834, 0.010212486199849298, 0.020424972399698597, 0.9658486563995503, 0.01637031621016187, 0.01637031621016187, 0.18550742425281666, 0.6071152066455818, 0.18550742425281666, 0.016864311295710605, 0.15227879127763588, 0.019034848909704485, 0.019034848909704485, 0.019034848909704485, 0.7994636542075885, 0.23401253128990057, 0.07150382900524739, 0.03250174045693063, 0.6630355053213849, 0.07360222569762964, 0.01472044513952593, 0.05888178055810372, 0.8537858180925039, 0.020932479403936183, 0.037678462927085134, 0.05023795056944684, 0.10047590113889368, 0.795434217349575, 0.49694097321761754, 0.051407686884581125, 0.017135895628193707, 0.4455332863330364, 0.0858151629858137, 0.009535018109534854, 0.7151263582151142, 0.15256028975255767, 0.028605054328604565, 0.48821277260270285, 0.0047399298310942025, 0.04739929831094202, 0.4597731936161376, 0.09164396974123776, 0.8858917074986316, 0.01832879394824755, 0.5311821695047588, 0.010215041721245363, 0.010215041721245363, 0.4392467940135506, 0.00610931431910347, 0.977490291056555, 0.00610931431910347, 0.01221862863820694, 0.9724123676408951, 0.01568407044582089, 0.01568407044582089, 0.1930115386386484, 0.2231695915509372, 0.1447586539789863, 0.39205468785975456, 0.0482528846596621, 0.5315864024919921, 0.021663395712839803, 0.12664754416737117, 0.14164527966087564, 0.17830641086721993, 0.22247221826121116, 0.10382036852189853, 0.6229222111313912, 0.044494443652242234, 0.006194250863299029, 0.879583622588462, 0.11149651553938252, 0.017688459056534205, 0.9728652481093811, 0.058589953220806144, 0.043942464915604613, 0.08788492983120923, 0.7323744152600768, 0.058589953220806144], \"Term\": [\"adoption\", \"adoption\", \"adoption\", \"adoption\", \"adoption\", \"analysis\", \"analysis\", \"analysis\", \"analysis\", \"artificial\", \"artificial\", \"artificial\", \"artificial\", \"bank\", \"bank\", \"bank\", \"bank\", \"bank\", \"banking\", \"banking\", \"banking\", \"banking\", \"banking\", \"big\", \"big\", \"big\", \"blockchain\", \"blockchain\", \"blockchain\", \"blockchain\", \"blockchain\", \"business\", \"business\", \"business\", \"business\", \"business\", \"chain\", \"chain\", \"chain\", \"china\", \"china\", \"consumer\", \"consumer\", \"consumer\", \"consumer\", \"consumer\", \"contract\", \"contract\", \"covid-19\", \"covid-19\", \"covid-19\", \"covid-19\", \"credit\", \"credit\", \"credit\", \"crowdfunding\", \"crowdfunding\", \"crowdfunding\", \"crowdfunding\", \"crowdfunding\", \"cryptocurrency\", \"cryptocurrency\", \"cryptocurrency\", \"cryptocurrency\", \"customer\", \"customer\", \"customer\", \"customer\", \"data\", \"data\", \"data\", \"data\", \"datum\", \"datum\", \"datum\", \"datum\", \"deep\", \"deep\", \"development\", \"development\", \"development\", \"digital\", \"digital\", \"digital\", \"digital\", \"digital\", \"digitalization\", \"digitalization\", \"digitalization\", \"digitalization\", \"e\", \"e\", \"economic\", \"economic\", \"economic\", \"economic\", \"economy\", \"economy\", \"economy\", \"economy\", \"economy\", \"ecosystem\", \"ecosystem\", \"ecosystem\", \"energy\", \"finance\", \"finance\", \"finance\", \"finance\", \"financial\", \"financial\", \"financial\", \"financial\", \"financial\", \"inclusion\", \"inclusion\", \"inclusion\", \"inclusion\", \"industry\", \"industry\", \"industry\", \"industry\", \"information\", \"information\", \"information\", \"information\", \"innovation\", \"innovation\", \"innovation\", \"innovation\", \"innovation\", \"intelligence\", \"intelligence\", \"intelligence\", \"intelligence\", \"intention\", \"intention\", \"intention\", \"intention\", \"internet\", \"internet\", \"internet\", \"internet\", \"investment\", \"investment\", \"investment\", \"islamic\", \"learning\", \"learning\", \"learning\", \"lending\", \"lending\", \"lending\", \"machine\", \"machine\", \"machine\", \"management\", \"management\", \"management\", \"management\", \"management\", \"market\", \"market\", \"market\", \"market\", \"market\", \"mobile\", \"mobile\", \"mobile\", \"mobile\", \"model\", \"model\", \"model\", \"model\", \"model\", \"money\", \"money\", \"money\", \"network\", \"network\", \"network\", \"network\", \"network\", \"neural\", \"neural\", \"neural\", \"online\", \"online\", \"online\", \"online\", \"p2p\", \"p2p\", \"p2p\", \"payment\", \"payment\", \"payment\", \"peer\", \"peer\", \"performance\", \"performance\", \"performance\", \"performance\", \"platform\", \"platform\", \"platform\", \"platform\", \"platform\", \"prediction\", \"prediction\", \"prediction\", \"price\", \"price\", \"price\", \"privacy\", \"privacy\", \"privacy\", \"privacy\", \"regtech\", \"regtech\", \"regtech\", \"regtech\", \"regtech\", \"regulation\", \"regulation\", \"regulation\", \"regulation\", \"regulatory\", \"regulatory\", \"regulatory\", \"regulatory\", \"risk\", \"risk\", \"risk\", \"risk\", \"risk\", \"robo\", \"robo\", \"robo\", \"robo\", \"security\", \"security\", \"security\", \"security\", \"security\", \"service\", \"service\", \"service\", \"service\", \"smart\", \"smart\", \"smart\", \"social\", \"social\", \"social\", \"social\", \"stock\", \"stock\", \"stock\", \"stock\", \"sustainable\", \"sustainable\", \"sustainable\", \"system\", \"system\", \"system\", \"system\", \"system\", \"technology\", \"technology\", \"technology\", \"technology\", \"technology\", \"theory\", \"theory\", \"theory\", \"theory\", \"trading\", \"trading\", \"trading\", \"transformation\", \"transformation\", \"trust\", \"trust\", \"trust\", \"trust\", \"trust\"]}, \"R\": 30, \"lambda.step\": 0.01, \"plot.opts\": {\"xlab\": \"PC1\", \"ylab\": \"PC2\"}, \"topic.order\": [1, 3, 2, 5, 4]};\n",
              "\n",
              "function LDAvis_load_lib(url, callback){\n",
              "  var s = document.createElement('script');\n",
              "  s.src = url;\n",
              "  s.async = true;\n",
              "  s.onreadystatechange = s.onload = callback;\n",
              "  s.onerror = function(){console.warn(\"failed to load library \" + url);};\n",
              "  document.getElementsByTagName(\"head\")[0].appendChild(s);\n",
              "}\n",
              "\n",
              "if(typeof(LDAvis) !== \"undefined\"){\n",
              "   // already loaded: just create the visualization\n",
              "   !function(LDAvis){\n",
              "       new LDAvis(\"#\" + \"ldavis_el2112416240284124963514484877\", ldavis_el2112416240284124963514484877_data);\n",
              "   }(LDAvis);\n",
              "}else if(typeof define === \"function\" && define.amd){\n",
              "   // require.js is available: use it to load d3/LDAvis\n",
              "   require.config({paths: {d3: \"https://d3js.org/d3.v5\"}});\n",
              "   require([\"d3\"], function(d3){\n",
              "      window.d3 = d3;\n",
              "      LDAvis_load_lib(\"https://cdn.jsdelivr.net/gh/bmabey/pyLDAvis@3.3.1/pyLDAvis/js/ldavis.v3.0.0.js\", function(){\n",
              "        new LDAvis(\"#\" + \"ldavis_el2112416240284124963514484877\", ldavis_el2112416240284124963514484877_data);\n",
              "      });\n",
              "    });\n",
              "}else{\n",
              "    // require.js not available: dynamically load d3 & LDAvis\n",
              "    LDAvis_load_lib(\"https://d3js.org/d3.v5.js\", function(){\n",
              "         LDAvis_load_lib(\"https://cdn.jsdelivr.net/gh/bmabey/pyLDAvis@3.3.1/pyLDAvis/js/ldavis.v3.0.0.js\", function(){\n",
              "                 new LDAvis(\"#\" + \"ldavis_el2112416240284124963514484877\", ldavis_el2112416240284124963514484877_data);\n",
              "            })\n",
              "         });\n",
              "}\n",
              "</script>"
            ],
            "text/plain": [
              "<IPython.core.display.HTML object>"
            ]
          },
          "execution_count": 77,
          "metadata": {},
          "output_type": "execute_result"
        }
      ],
      "source": [
        " # Let's Visualize\n",
        "pyLDAvis.display(lda_display)"
      ]
    },
    {
      "cell_type": "code",
      "execution_count": 37,
      "metadata": {},
      "outputs": [],
      "source": [
        "topic_dist = lda_model[corpus]"
      ]
    },
    {
      "cell_type": "code",
      "execution_count": 38,
      "metadata": {},
      "outputs": [
        {
          "name": "stderr",
          "output_type": "stream",
          "text": [
            "C:\\Users\\maart\\AppData\\Local\\Temp\\ipykernel_21124\\4110002641.py:7: SettingWithCopyWarning: \n",
            "A value is trying to be set on a copy of a slice from a DataFrame.\n",
            "Try using .loc[row_indexer,col_indexer] = value instead\n",
            "\n",
            "See the caveats in the documentation: https://pandas.pydata.org/pandas-docs/stable/user_guide/indexing.html#returning-a-view-versus-a-copy\n",
            "  data['Topic Distribution'] = dist\n"
          ]
        }
      ],
      "source": [
        "dist = []\n",
        "\n",
        "for t in topic_dist:\n",
        "    dist.append(t)  \n",
        "    \n",
        "# add list to the data frame\n",
        "data['Topic Distribution'] = dist\n"
      ]
    },
    {
      "cell_type": "code",
      "execution_count": 39,
      "metadata": {},
      "outputs": [],
      "source": [
        "data.reset_index(inplace=True)"
      ]
    },
    {
      "cell_type": "code",
      "execution_count": 40,
      "metadata": {},
      "outputs": [
        {
          "name": "stderr",
          "output_type": "stream",
          "text": [
            "C:\\Users\\maart\\AppData\\Local\\Temp\\ipykernel_21124\\1351492271.py:4: SettingWithCopyWarning: \n",
            "A value is trying to be set on a copy of a slice from a DataFrame.\n",
            "Try using .loc[row_indexer,col_indexer] = value instead\n",
            "\n",
            "See the caveats in the documentation: https://pandas.pydata.org/pandas-docs/stable/user_guide/indexing.html#returning-a-view-versus-a-copy\n",
            "  data['topic_num'] = list_topicnum\n"
          ]
        }
      ],
      "source": [
        "\n",
        "list_topicnum = []\n",
        "for itm in range(len(data)):\n",
        "    list_topicnum.append(sorted(data['Topic Distribution'][itm], key=lambda tup: tup[1], reverse=True)[0][0])\n",
        "data['topic_num'] = list_topicnum"
      ]
    },
    {
      "cell_type": "code",
      "execution_count": 41,
      "metadata": {},
      "outputs": [
        {
          "data": {
            "text/plain": [
              "0       3\n",
              "1       0\n",
              "2       3\n",
              "3       2\n",
              "4       4\n",
              "       ..\n",
              "2776    1\n",
              "2777    0\n",
              "2778    1\n",
              "2779    1\n",
              "2780    1\n",
              "Name: topic_num, Length: 2781, dtype: int64"
            ]
          },
          "execution_count": 41,
          "metadata": {},
          "output_type": "execute_result"
        }
      ],
      "source": [
        "#See if it works\n",
        "data['topic_num']"
      ]
    },
    {
      "cell_type": "code",
      "execution_count": 50,
      "metadata": {},
      "outputs": [
        {
          "data": {
            "text/plain": [
              "Cryptocurrency     684\n",
              "Fintech            631\n",
              "AI                 565\n",
              "Risk Exposure      477\n",
              "Digital Banking    424\n",
              "Name: topic_num, dtype: int64"
            ]
          },
          "execution_count": 50,
          "metadata": {},
          "output_type": "execute_result"
        }
      ],
      "source": [
        "#Checking if we need to fix the distribution of the data\n",
        "data['topic_num'].value_counts()"
      ]
    },
    {
      "cell_type": "code",
      "execution_count": 43,
      "metadata": {},
      "outputs": [
        {
          "name": "stdout",
          "output_type": "stream",
          "text": [
            "<class 'pandas.core.series.Series'>\n",
            "RangeIndex: 2781 entries, 0 to 2780\n",
            "Series name: topic_num\n",
            "Non-Null Count  Dtype\n",
            "--------------  -----\n",
            "2781 non-null   int64\n",
            "dtypes: int64(1)\n",
            "memory usage: 21.9 KB\n"
          ]
        }
      ],
      "source": [
        "data['topic_num'].info()"
      ]
    },
    {
      "cell_type": "code",
      "execution_count": 44,
      "metadata": {},
      "outputs": [
        {
          "name": "stdout",
          "output_type": "stream",
          "text": [
            "<class 'pandas.core.series.Series'>\n",
            "RangeIndex: 2781 entries, 0 to 2780\n",
            "Series name: topic_num\n",
            "Non-Null Count  Dtype\n",
            "--------------  -----\n",
            "2781 non-null   int64\n",
            "dtypes: int64(1)\n",
            "memory usage: 21.9 KB\n"
          ]
        }
      ],
      "source": [
        "data['topic_num'].info()"
      ]
    },
    {
      "cell_type": "code",
      "execution_count": null,
      "metadata": {},
      "outputs": [],
      "source": [
        "data['labels'] = data['topic_num'] "
      ]
    },
    {
      "cell_type": "markdown",
      "metadata": {
        "id": "uDet_IXID2Uc"
      },
      "source": [
        "#### Training the SML model"
      ]
    },
    {
      "cell_type": "code",
      "execution_count": null,
      "metadata": {
        "id": "DzL2SVUND2Uc"
      },
      "outputs": [],
      "source": [
        "# from sklearn.preprocessing import LabelEncoder"
      ]
    },
    {
      "cell_type": "code",
      "execution_count": null,
      "metadata": {
        "id": "bJ67g1vrD2Uc"
      },
      "outputs": [],
      "source": [
        "# le_keywords = LabelEncoder()\n",
        "# # le_text_clean = LabelEncoder()"
      ]
    },
    {
      "cell_type": "code",
      "execution_count": null,
      "metadata": {
        "id": "rsMUaSbTD2Ud"
      },
      "outputs": [],
      "source": [
        "# data['Keyword_ID'] = le_keywords.fit_transform(data['Author Keywords'])"
      ]
    },
    {
      "cell_type": "code",
      "execution_count": null,
      "metadata": {
        "id": "EuMRL3RDD2Ud"
      },
      "outputs": [],
      "source": [
        "# data['text_clean_ID'] = le_text_clean.fit_transform(data['text_clean'])"
      ]
    },
    {
      "cell_type": "code",
      "execution_count": 81,
      "metadata": {
        "id": "RJTpy-41D2Ue"
      },
      "outputs": [],
      "source": [
        "# from collections import Counter\n",
        "# from numpy.random import RandomState\n",
        "# from sklearn.datasets import make_classification\n",
        "# from imblearn.over_sampling import SMOTE\n",
        "# smote = SMOTE()"
      ]
    },
    {
      "cell_type": "code",
      "execution_count": 84,
      "metadata": {
        "id": "QOHDVCd0D2Ue"
      },
      "outputs": [
        {
          "ename": "ValueError",
          "evalue": "could not convert string to float: \"This paper provides micro-level evidence on how FinTech adoption affects household consumption and consumption inequality. Our hypothesis is that through FinTech's payment facilitation and credit constraint alleviation, higher FinTech adoption by households fosters financial inclusion by promoting consumption. Financial inclusion is especially increased for households that traditionally consumed less, which suggests that FinTech could reduce consumption inequality. By combining region-level FinTech adoption measures with household-level representative data of consumption, we find that higher FinTech adoption by a household increases household consumption and reduces consumption inequality across households. Using the distance to Hangzhou from the city in which a household is located as an instrument variable to capture the exogenous variation in FinTech adoption yields results with similar economic and statistical significance. In addition, traditional financial infrastructure is still a prerequisite for the benign distributive impacts provided by FinTech credit, which demonstrates the need for further welfare-improving policies. Our paper adds to the literature by documenting FinTech to be a market force that contributes to financial inclusion. © 2022 Elsevier B.V.\"",
          "output_type": "error",
          "traceback": [
            "\u001b[1;31m---------------------------------------------------------------------------\u001b[0m",
            "\u001b[1;31mValueError\u001b[0m                                Traceback (most recent call last)",
            "\u001b[1;32mc:\\Users\\maart\\OneDrive\\Skrivebord\\M2\\Module-2\\Sparse_nmf (1).ipynb Cell 90\u001b[0m in \u001b[0;36m<cell line: 2>\u001b[1;34m()\u001b[0m\n\u001b[0;32m      <a href='vscode-notebook-cell:/c%3A/Users/maart/OneDrive/Skrivebord/M2/Module-2/Sparse_nmf%20%281%29.ipynb#Y143sZmlsZQ%3D%3D?line=0'>1</a>\u001b[0m \u001b[39m# Here we use oversampling, since the distribution of the y value is skewed \u001b[39;00m\n\u001b[1;32m----> <a href='vscode-notebook-cell:/c%3A/Users/maart/OneDrive/Skrivebord/M2/Module-2/Sparse_nmf%20%281%29.ipynb#Y143sZmlsZQ%3D%3D?line=1'>2</a>\u001b[0m X_train_SMOTE, y_train_SMOTE \u001b[39m=\u001b[39m smote\u001b[39m.\u001b[39;49mfit_resample(data[\u001b[39m'\u001b[39;49m\u001b[39mAbstract\u001b[39;49m\u001b[39m'\u001b[39;49m], data[\u001b[39m'\u001b[39;49m\u001b[39mtopic_num\u001b[39;49m\u001b[39m'\u001b[39;49m])\n",
            "File \u001b[1;32mc:\\Users\\maart\\anaconda3\\lib\\site-packages\\imblearn\\base.py:77\u001b[0m, in \u001b[0;36mSamplerMixin.fit_resample\u001b[1;34m(self, X, y)\u001b[0m\n\u001b[0;32m     75\u001b[0m check_classification_targets(y)\n\u001b[0;32m     76\u001b[0m arrays_transformer \u001b[39m=\u001b[39m ArraysTransformer(X, y)\n\u001b[1;32m---> 77\u001b[0m X, y, binarize_y \u001b[39m=\u001b[39m \u001b[39mself\u001b[39;49m\u001b[39m.\u001b[39;49m_check_X_y(X, y)\n\u001b[0;32m     79\u001b[0m \u001b[39mself\u001b[39m\u001b[39m.\u001b[39msampling_strategy_ \u001b[39m=\u001b[39m check_sampling_strategy(\n\u001b[0;32m     80\u001b[0m     \u001b[39mself\u001b[39m\u001b[39m.\u001b[39msampling_strategy, y, \u001b[39mself\u001b[39m\u001b[39m.\u001b[39m_sampling_type\n\u001b[0;32m     81\u001b[0m )\n\u001b[0;32m     83\u001b[0m output \u001b[39m=\u001b[39m \u001b[39mself\u001b[39m\u001b[39m.\u001b[39m_fit_resample(X, y)\n",
            "File \u001b[1;32mc:\\Users\\maart\\anaconda3\\lib\\site-packages\\imblearn\\base.py:132\u001b[0m, in \u001b[0;36mBaseSampler._check_X_y\u001b[1;34m(self, X, y, accept_sparse)\u001b[0m\n\u001b[0;32m    130\u001b[0m     accept_sparse \u001b[39m=\u001b[39m [\u001b[39m\"\u001b[39m\u001b[39mcsr\u001b[39m\u001b[39m\"\u001b[39m, \u001b[39m\"\u001b[39m\u001b[39mcsc\u001b[39m\u001b[39m\"\u001b[39m]\n\u001b[0;32m    131\u001b[0m y, binarize_y \u001b[39m=\u001b[39m check_target_type(y, indicate_one_vs_all\u001b[39m=\u001b[39m\u001b[39mTrue\u001b[39;00m)\n\u001b[1;32m--> 132\u001b[0m X, y \u001b[39m=\u001b[39m \u001b[39mself\u001b[39;49m\u001b[39m.\u001b[39;49m_validate_data(X, y, reset\u001b[39m=\u001b[39;49m\u001b[39mTrue\u001b[39;49;00m, accept_sparse\u001b[39m=\u001b[39;49maccept_sparse)\n\u001b[0;32m    133\u001b[0m \u001b[39mreturn\u001b[39;00m X, y, binarize_y\n",
            "File \u001b[1;32mc:\\Users\\maart\\anaconda3\\lib\\site-packages\\sklearn\\base.py:596\u001b[0m, in \u001b[0;36mBaseEstimator._validate_data\u001b[1;34m(self, X, y, reset, validate_separately, **check_params)\u001b[0m\n\u001b[0;32m    594\u001b[0m         y \u001b[39m=\u001b[39m check_array(y, input_name\u001b[39m=\u001b[39m\u001b[39m\"\u001b[39m\u001b[39my\u001b[39m\u001b[39m\"\u001b[39m, \u001b[39m*\u001b[39m\u001b[39m*\u001b[39mcheck_y_params)\n\u001b[0;32m    595\u001b[0m     \u001b[39melse\u001b[39;00m:\n\u001b[1;32m--> 596\u001b[0m         X, y \u001b[39m=\u001b[39m check_X_y(X, y, \u001b[39m*\u001b[39m\u001b[39m*\u001b[39mcheck_params)\n\u001b[0;32m    597\u001b[0m     out \u001b[39m=\u001b[39m X, y\n\u001b[0;32m    599\u001b[0m \u001b[39mif\u001b[39;00m \u001b[39mnot\u001b[39;00m no_val_X \u001b[39mand\u001b[39;00m check_params\u001b[39m.\u001b[39mget(\u001b[39m\"\u001b[39m\u001b[39mensure_2d\u001b[39m\u001b[39m\"\u001b[39m, \u001b[39mTrue\u001b[39;00m):\n",
            "File \u001b[1;32mc:\\Users\\maart\\anaconda3\\lib\\site-packages\\sklearn\\utils\\validation.py:1074\u001b[0m, in \u001b[0;36mcheck_X_y\u001b[1;34m(X, y, accept_sparse, accept_large_sparse, dtype, order, copy, force_all_finite, ensure_2d, allow_nd, multi_output, ensure_min_samples, ensure_min_features, y_numeric, estimator)\u001b[0m\n\u001b[0;32m   1069\u001b[0m         estimator_name \u001b[39m=\u001b[39m _check_estimator_name(estimator)\n\u001b[0;32m   1070\u001b[0m     \u001b[39mraise\u001b[39;00m \u001b[39mValueError\u001b[39;00m(\n\u001b[0;32m   1071\u001b[0m         \u001b[39mf\u001b[39m\u001b[39m\"\u001b[39m\u001b[39m{\u001b[39;00mestimator_name\u001b[39m}\u001b[39;00m\u001b[39m requires y to be passed, but the target y is None\u001b[39m\u001b[39m\"\u001b[39m\n\u001b[0;32m   1072\u001b[0m     )\n\u001b[1;32m-> 1074\u001b[0m X \u001b[39m=\u001b[39m check_array(\n\u001b[0;32m   1075\u001b[0m     X,\n\u001b[0;32m   1076\u001b[0m     accept_sparse\u001b[39m=\u001b[39;49maccept_sparse,\n\u001b[0;32m   1077\u001b[0m     accept_large_sparse\u001b[39m=\u001b[39;49maccept_large_sparse,\n\u001b[0;32m   1078\u001b[0m     dtype\u001b[39m=\u001b[39;49mdtype,\n\u001b[0;32m   1079\u001b[0m     order\u001b[39m=\u001b[39;49morder,\n\u001b[0;32m   1080\u001b[0m     copy\u001b[39m=\u001b[39;49mcopy,\n\u001b[0;32m   1081\u001b[0m     force_all_finite\u001b[39m=\u001b[39;49mforce_all_finite,\n\u001b[0;32m   1082\u001b[0m     ensure_2d\u001b[39m=\u001b[39;49mensure_2d,\n\u001b[0;32m   1083\u001b[0m     allow_nd\u001b[39m=\u001b[39;49mallow_nd,\n\u001b[0;32m   1084\u001b[0m     ensure_min_samples\u001b[39m=\u001b[39;49mensure_min_samples,\n\u001b[0;32m   1085\u001b[0m     ensure_min_features\u001b[39m=\u001b[39;49mensure_min_features,\n\u001b[0;32m   1086\u001b[0m     estimator\u001b[39m=\u001b[39;49mestimator,\n\u001b[0;32m   1087\u001b[0m     input_name\u001b[39m=\u001b[39;49m\u001b[39m\"\u001b[39;49m\u001b[39mX\u001b[39;49m\u001b[39m\"\u001b[39;49m,\n\u001b[0;32m   1088\u001b[0m )\n\u001b[0;32m   1090\u001b[0m y \u001b[39m=\u001b[39m _check_y(y, multi_output\u001b[39m=\u001b[39mmulti_output, y_numeric\u001b[39m=\u001b[39my_numeric, estimator\u001b[39m=\u001b[39mestimator)\n\u001b[0;32m   1092\u001b[0m check_consistent_length(X, y)\n",
            "File \u001b[1;32mc:\\Users\\maart\\anaconda3\\lib\\site-packages\\sklearn\\utils\\validation.py:856\u001b[0m, in \u001b[0;36mcheck_array\u001b[1;34m(array, accept_sparse, accept_large_sparse, dtype, order, copy, force_all_finite, ensure_2d, allow_nd, ensure_min_samples, ensure_min_features, estimator, input_name)\u001b[0m\n\u001b[0;32m    854\u001b[0m         array \u001b[39m=\u001b[39m array\u001b[39m.\u001b[39mastype(dtype, casting\u001b[39m=\u001b[39m\u001b[39m\"\u001b[39m\u001b[39munsafe\u001b[39m\u001b[39m\"\u001b[39m, copy\u001b[39m=\u001b[39m\u001b[39mFalse\u001b[39;00m)\n\u001b[0;32m    855\u001b[0m     \u001b[39melse\u001b[39;00m:\n\u001b[1;32m--> 856\u001b[0m         array \u001b[39m=\u001b[39m np\u001b[39m.\u001b[39;49masarray(array, order\u001b[39m=\u001b[39;49morder, dtype\u001b[39m=\u001b[39;49mdtype)\n\u001b[0;32m    857\u001b[0m \u001b[39mexcept\u001b[39;00m ComplexWarning \u001b[39mas\u001b[39;00m complex_warning:\n\u001b[0;32m    858\u001b[0m     \u001b[39mraise\u001b[39;00m \u001b[39mValueError\u001b[39;00m(\n\u001b[0;32m    859\u001b[0m         \u001b[39m\"\u001b[39m\u001b[39mComplex data not supported\u001b[39m\u001b[39m\\n\u001b[39;00m\u001b[39m{}\u001b[39;00m\u001b[39m\\n\u001b[39;00m\u001b[39m\"\u001b[39m\u001b[39m.\u001b[39mformat(array)\n\u001b[0;32m    860\u001b[0m     ) \u001b[39mfrom\u001b[39;00m \u001b[39mcomplex_warning\u001b[39;00m\n",
            "File \u001b[1;32mc:\\Users\\maart\\anaconda3\\lib\\site-packages\\pandas\\core\\series.py:872\u001b[0m, in \u001b[0;36mSeries.__array__\u001b[1;34m(self, dtype)\u001b[0m\n\u001b[0;32m    825\u001b[0m \u001b[39mdef\u001b[39;00m \u001b[39m__array__\u001b[39m(\u001b[39mself\u001b[39m, dtype: npt\u001b[39m.\u001b[39mDTypeLike \u001b[39m|\u001b[39m \u001b[39mNone\u001b[39;00m \u001b[39m=\u001b[39m \u001b[39mNone\u001b[39;00m) \u001b[39m-\u001b[39m\u001b[39m>\u001b[39m np\u001b[39m.\u001b[39mndarray:\n\u001b[0;32m    826\u001b[0m     \u001b[39m\"\"\"\u001b[39;00m\n\u001b[0;32m    827\u001b[0m \u001b[39m    Return the values as a NumPy array.\u001b[39;00m\n\u001b[0;32m    828\u001b[0m \n\u001b[1;32m   (...)\u001b[0m\n\u001b[0;32m    870\u001b[0m \u001b[39m          dtype='datetime64[ns]')\u001b[39;00m\n\u001b[0;32m    871\u001b[0m \u001b[39m    \"\"\"\u001b[39;00m\n\u001b[1;32m--> 872\u001b[0m     \u001b[39mreturn\u001b[39;00m np\u001b[39m.\u001b[39;49masarray(\u001b[39mself\u001b[39;49m\u001b[39m.\u001b[39;49m_values, dtype)\n",
            "\u001b[1;31mValueError\u001b[0m: could not convert string to float: \"This paper provides micro-level evidence on how FinTech adoption affects household consumption and consumption inequality. Our hypothesis is that through FinTech's payment facilitation and credit constraint alleviation, higher FinTech adoption by households fosters financial inclusion by promoting consumption. Financial inclusion is especially increased for households that traditionally consumed less, which suggests that FinTech could reduce consumption inequality. By combining region-level FinTech adoption measures with household-level representative data of consumption, we find that higher FinTech adoption by a household increases household consumption and reduces consumption inequality across households. Using the distance to Hangzhou from the city in which a household is located as an instrument variable to capture the exogenous variation in FinTech adoption yields results with similar economic and statistical significance. In addition, traditional financial infrastructure is still a prerequisite for the benign distributive impacts provided by FinTech credit, which demonstrates the need for further welfare-improving policies. Our paper adds to the literature by documenting FinTech to be a market force that contributes to financial inclusion. © 2022 Elsevier B.V.\""
          ]
        }
      ],
      "source": [
        "# # Here we use oversampling, since the distribution of the y value is skewed \n",
        "# X_train_SMOTE, y_train_SMOTE = smote.fit_resample(data['Abstract'], data['topic_num'])"
      ]
    },
    {
      "cell_type": "code",
      "execution_count": 87,
      "metadata": {
        "id": "8C8S-54RD2Ue"
      },
      "outputs": [],
      "source": [
        "# Splitting the dataset into the Training set and Test set (since we have a new output variable)\n",
        "X_train, X_test, y_train, y_test = train_test_split(data['Abstract'], data['topic_num'], test_size = 0.2, random_state = 42)"
      ]
    },
    {
      "cell_type": "code",
      "execution_count": 88,
      "metadata": {
        "id": "oK9aGXmVD2Uf"
      },
      "outputs": [],
      "source": [
        "#instantiate models and \"bundle up as pipeline\"\n",
        "\n",
        "tfidf = TfidfVectorizer()\n",
        "cls = LogisticRegression()\n",
        "\n",
        "pipe1 = make_pipeline(tfidf, cls)"
      ]
    },
    {
      "cell_type": "code",
      "execution_count": 122,
      "metadata": {},
      "outputs": [],
      "source": [
        "# from sklearn.linear_model import LinearRegression\n",
        "# model_ols = LinearRegression()"
      ]
    },
    {
      "cell_type": "code",
      "execution_count": 123,
      "metadata": {},
      "outputs": [
        {
          "ename": "ValueError",
          "evalue": "could not convert string to float: 'This paper improves stock market prediction based on genetic algorithms (GA) and wavelet neural networks (WNN) and reports significantly better accuracies compared to existing approaches to stock market prediction, including the hierarchical GA (HGA) WNN. Specifically, we added information such as trading volume as inputs and we used the Morlet wavelet function instead of Morlet-Gaussian wavelet function in our prediction model. We also employed a smaller number of hidden nodes in WNN compared to other research work. The prediction system is tested using Shenzhen Composite Index data. © 2014 IEEE.'",
          "output_type": "error",
          "traceback": [
            "\u001b[1;31m---------------------------------------------------------------------------\u001b[0m",
            "\u001b[1;31mValueError\u001b[0m                                Traceback (most recent call last)",
            "\u001b[1;32mc:\\Users\\maart\\OneDrive\\Skrivebord\\M2\\Module-2\\Sparse_nmf (1).ipynb Cell 92\u001b[0m in \u001b[0;36m<cell line: 1>\u001b[1;34m()\u001b[0m\n\u001b[1;32m----> <a href='vscode-notebook-cell:/c%3A/Users/maart/OneDrive/Skrivebord/M2/Module-2/Sparse_nmf%20%281%29.ipynb#Y301sZmlsZQ%3D%3D?line=0'>1</a>\u001b[0m model_ols\u001b[39m.\u001b[39;49mfit(X_train, y_train)\n",
            "File \u001b[1;32mc:\\Users\\maart\\anaconda3\\lib\\site-packages\\sklearn\\linear_model\\_base.py:684\u001b[0m, in \u001b[0;36mLinearRegression.fit\u001b[1;34m(self, X, y, sample_weight)\u001b[0m\n\u001b[0;32m    680\u001b[0m n_jobs_ \u001b[39m=\u001b[39m \u001b[39mself\u001b[39m\u001b[39m.\u001b[39mn_jobs\n\u001b[0;32m    682\u001b[0m accept_sparse \u001b[39m=\u001b[39m \u001b[39mFalse\u001b[39;00m \u001b[39mif\u001b[39;00m \u001b[39mself\u001b[39m\u001b[39m.\u001b[39mpositive \u001b[39melse\u001b[39;00m [\u001b[39m\"\u001b[39m\u001b[39mcsr\u001b[39m\u001b[39m\"\u001b[39m, \u001b[39m\"\u001b[39m\u001b[39mcsc\u001b[39m\u001b[39m\"\u001b[39m, \u001b[39m\"\u001b[39m\u001b[39mcoo\u001b[39m\u001b[39m\"\u001b[39m]\n\u001b[1;32m--> 684\u001b[0m X, y \u001b[39m=\u001b[39m \u001b[39mself\u001b[39;49m\u001b[39m.\u001b[39;49m_validate_data(\n\u001b[0;32m    685\u001b[0m     X, y, accept_sparse\u001b[39m=\u001b[39;49maccept_sparse, y_numeric\u001b[39m=\u001b[39;49m\u001b[39mTrue\u001b[39;49;00m, multi_output\u001b[39m=\u001b[39;49m\u001b[39mTrue\u001b[39;49;00m\n\u001b[0;32m    686\u001b[0m )\n\u001b[0;32m    688\u001b[0m sample_weight \u001b[39m=\u001b[39m _check_sample_weight(\n\u001b[0;32m    689\u001b[0m     sample_weight, X, dtype\u001b[39m=\u001b[39mX\u001b[39m.\u001b[39mdtype, only_non_negative\u001b[39m=\u001b[39m\u001b[39mTrue\u001b[39;00m\n\u001b[0;32m    690\u001b[0m )\n\u001b[0;32m    692\u001b[0m X, y, X_offset, y_offset, X_scale \u001b[39m=\u001b[39m _preprocess_data(\n\u001b[0;32m    693\u001b[0m     X,\n\u001b[0;32m    694\u001b[0m     y,\n\u001b[1;32m   (...)\u001b[0m\n\u001b[0;32m    698\u001b[0m     sample_weight\u001b[39m=\u001b[39msample_weight,\n\u001b[0;32m    699\u001b[0m )\n",
            "File \u001b[1;32mc:\\Users\\maart\\anaconda3\\lib\\site-packages\\sklearn\\base.py:596\u001b[0m, in \u001b[0;36mBaseEstimator._validate_data\u001b[1;34m(self, X, y, reset, validate_separately, **check_params)\u001b[0m\n\u001b[0;32m    594\u001b[0m         y \u001b[39m=\u001b[39m check_array(y, input_name\u001b[39m=\u001b[39m\u001b[39m\"\u001b[39m\u001b[39my\u001b[39m\u001b[39m\"\u001b[39m, \u001b[39m*\u001b[39m\u001b[39m*\u001b[39mcheck_y_params)\n\u001b[0;32m    595\u001b[0m     \u001b[39melse\u001b[39;00m:\n\u001b[1;32m--> 596\u001b[0m         X, y \u001b[39m=\u001b[39m check_X_y(X, y, \u001b[39m*\u001b[39m\u001b[39m*\u001b[39mcheck_params)\n\u001b[0;32m    597\u001b[0m     out \u001b[39m=\u001b[39m X, y\n\u001b[0;32m    599\u001b[0m \u001b[39mif\u001b[39;00m \u001b[39mnot\u001b[39;00m no_val_X \u001b[39mand\u001b[39;00m check_params\u001b[39m.\u001b[39mget(\u001b[39m\"\u001b[39m\u001b[39mensure_2d\u001b[39m\u001b[39m\"\u001b[39m, \u001b[39mTrue\u001b[39;00m):\n",
            "File \u001b[1;32mc:\\Users\\maart\\anaconda3\\lib\\site-packages\\sklearn\\utils\\validation.py:1074\u001b[0m, in \u001b[0;36mcheck_X_y\u001b[1;34m(X, y, accept_sparse, accept_large_sparse, dtype, order, copy, force_all_finite, ensure_2d, allow_nd, multi_output, ensure_min_samples, ensure_min_features, y_numeric, estimator)\u001b[0m\n\u001b[0;32m   1069\u001b[0m         estimator_name \u001b[39m=\u001b[39m _check_estimator_name(estimator)\n\u001b[0;32m   1070\u001b[0m     \u001b[39mraise\u001b[39;00m \u001b[39mValueError\u001b[39;00m(\n\u001b[0;32m   1071\u001b[0m         \u001b[39mf\u001b[39m\u001b[39m\"\u001b[39m\u001b[39m{\u001b[39;00mestimator_name\u001b[39m}\u001b[39;00m\u001b[39m requires y to be passed, but the target y is None\u001b[39m\u001b[39m\"\u001b[39m\n\u001b[0;32m   1072\u001b[0m     )\n\u001b[1;32m-> 1074\u001b[0m X \u001b[39m=\u001b[39m check_array(\n\u001b[0;32m   1075\u001b[0m     X,\n\u001b[0;32m   1076\u001b[0m     accept_sparse\u001b[39m=\u001b[39;49maccept_sparse,\n\u001b[0;32m   1077\u001b[0m     accept_large_sparse\u001b[39m=\u001b[39;49maccept_large_sparse,\n\u001b[0;32m   1078\u001b[0m     dtype\u001b[39m=\u001b[39;49mdtype,\n\u001b[0;32m   1079\u001b[0m     order\u001b[39m=\u001b[39;49morder,\n\u001b[0;32m   1080\u001b[0m     copy\u001b[39m=\u001b[39;49mcopy,\n\u001b[0;32m   1081\u001b[0m     force_all_finite\u001b[39m=\u001b[39;49mforce_all_finite,\n\u001b[0;32m   1082\u001b[0m     ensure_2d\u001b[39m=\u001b[39;49mensure_2d,\n\u001b[0;32m   1083\u001b[0m     allow_nd\u001b[39m=\u001b[39;49mallow_nd,\n\u001b[0;32m   1084\u001b[0m     ensure_min_samples\u001b[39m=\u001b[39;49mensure_min_samples,\n\u001b[0;32m   1085\u001b[0m     ensure_min_features\u001b[39m=\u001b[39;49mensure_min_features,\n\u001b[0;32m   1086\u001b[0m     estimator\u001b[39m=\u001b[39;49mestimator,\n\u001b[0;32m   1087\u001b[0m     input_name\u001b[39m=\u001b[39;49m\u001b[39m\"\u001b[39;49m\u001b[39mX\u001b[39;49m\u001b[39m\"\u001b[39;49m,\n\u001b[0;32m   1088\u001b[0m )\n\u001b[0;32m   1090\u001b[0m y \u001b[39m=\u001b[39m _check_y(y, multi_output\u001b[39m=\u001b[39mmulti_output, y_numeric\u001b[39m=\u001b[39my_numeric, estimator\u001b[39m=\u001b[39mestimator)\n\u001b[0;32m   1092\u001b[0m check_consistent_length(X, y)\n",
            "File \u001b[1;32mc:\\Users\\maart\\anaconda3\\lib\\site-packages\\sklearn\\utils\\validation.py:856\u001b[0m, in \u001b[0;36mcheck_array\u001b[1;34m(array, accept_sparse, accept_large_sparse, dtype, order, copy, force_all_finite, ensure_2d, allow_nd, ensure_min_samples, ensure_min_features, estimator, input_name)\u001b[0m\n\u001b[0;32m    854\u001b[0m         array \u001b[39m=\u001b[39m array\u001b[39m.\u001b[39mastype(dtype, casting\u001b[39m=\u001b[39m\u001b[39m\"\u001b[39m\u001b[39munsafe\u001b[39m\u001b[39m\"\u001b[39m, copy\u001b[39m=\u001b[39m\u001b[39mFalse\u001b[39;00m)\n\u001b[0;32m    855\u001b[0m     \u001b[39melse\u001b[39;00m:\n\u001b[1;32m--> 856\u001b[0m         array \u001b[39m=\u001b[39m np\u001b[39m.\u001b[39;49masarray(array, order\u001b[39m=\u001b[39;49morder, dtype\u001b[39m=\u001b[39;49mdtype)\n\u001b[0;32m    857\u001b[0m \u001b[39mexcept\u001b[39;00m ComplexWarning \u001b[39mas\u001b[39;00m complex_warning:\n\u001b[0;32m    858\u001b[0m     \u001b[39mraise\u001b[39;00m \u001b[39mValueError\u001b[39;00m(\n\u001b[0;32m    859\u001b[0m         \u001b[39m\"\u001b[39m\u001b[39mComplex data not supported\u001b[39m\u001b[39m\\n\u001b[39;00m\u001b[39m{}\u001b[39;00m\u001b[39m\\n\u001b[39;00m\u001b[39m\"\u001b[39m\u001b[39m.\u001b[39mformat(array)\n\u001b[0;32m    860\u001b[0m     ) \u001b[39mfrom\u001b[39;00m \u001b[39mcomplex_warning\u001b[39;00m\n",
            "File \u001b[1;32mc:\\Users\\maart\\anaconda3\\lib\\site-packages\\pandas\\core\\series.py:872\u001b[0m, in \u001b[0;36mSeries.__array__\u001b[1;34m(self, dtype)\u001b[0m\n\u001b[0;32m    825\u001b[0m \u001b[39mdef\u001b[39;00m \u001b[39m__array__\u001b[39m(\u001b[39mself\u001b[39m, dtype: npt\u001b[39m.\u001b[39mDTypeLike \u001b[39m|\u001b[39m \u001b[39mNone\u001b[39;00m \u001b[39m=\u001b[39m \u001b[39mNone\u001b[39;00m) \u001b[39m-\u001b[39m\u001b[39m>\u001b[39m np\u001b[39m.\u001b[39mndarray:\n\u001b[0;32m    826\u001b[0m     \u001b[39m\"\"\"\u001b[39;00m\n\u001b[0;32m    827\u001b[0m \u001b[39m    Return the values as a NumPy array.\u001b[39;00m\n\u001b[0;32m    828\u001b[0m \n\u001b[1;32m   (...)\u001b[0m\n\u001b[0;32m    870\u001b[0m \u001b[39m          dtype='datetime64[ns]')\u001b[39;00m\n\u001b[0;32m    871\u001b[0m \u001b[39m    \"\"\"\u001b[39;00m\n\u001b[1;32m--> 872\u001b[0m     \u001b[39mreturn\u001b[39;00m np\u001b[39m.\u001b[39;49masarray(\u001b[39mself\u001b[39;49m\u001b[39m.\u001b[39;49m_values, dtype)\n",
            "\u001b[1;31mValueError\u001b[0m: could not convert string to float: 'This paper improves stock market prediction based on genetic algorithms (GA) and wavelet neural networks (WNN) and reports significantly better accuracies compared to existing approaches to stock market prediction, including the hierarchical GA (HGA) WNN. Specifically, we added information such as trading volume as inputs and we used the Morlet wavelet function instead of Morlet-Gaussian wavelet function in our prediction model. We also employed a smaller number of hidden nodes in WNN compared to other research work. The prediction system is tested using Shenzhen Composite Index data. © 2014 IEEE.'"
          ]
        }
      ],
      "source": [
        "# model_ols.fit(X_train, y_train)"
      ]
    },
    {
      "cell_type": "code",
      "execution_count": 119,
      "metadata": {},
      "outputs": [],
      "source": [
        "# from xgboost import XGBRegressor\n",
        "# model_xgb = XGBRegressor()"
      ]
    },
    {
      "cell_type": "code",
      "execution_count": 120,
      "metadata": {},
      "outputs": [
        {
          "ename": "ValueError",
          "evalue": "DataFrame.dtypes for data must be int, float, bool or category.  When\ncategorical type is supplied, DMatrix parameter `enable_categorical` must\nbe set to `True`.",
          "output_type": "error",
          "traceback": [
            "\u001b[1;31m---------------------------------------------------------------------------\u001b[0m",
            "\u001b[1;31mValueError\u001b[0m                                Traceback (most recent call last)",
            "\u001b[1;32mc:\\Users\\maart\\OneDrive\\Skrivebord\\M2\\Module-2\\Sparse_nmf (1).ipynb Cell 92\u001b[0m in \u001b[0;36m<cell line: 2>\u001b[1;34m()\u001b[0m\n\u001b[0;32m      <a href='vscode-notebook-cell:/c%3A/Users/maart/OneDrive/Skrivebord/M2/Module-2/Sparse_nmf%20%281%29.ipynb#Y265sZmlsZQ%3D%3D?line=0'>1</a>\u001b[0m \u001b[39m#Running the model for training\u001b[39;00m\n\u001b[1;32m----> <a href='vscode-notebook-cell:/c%3A/Users/maart/OneDrive/Skrivebord/M2/Module-2/Sparse_nmf%20%281%29.ipynb#Y265sZmlsZQ%3D%3D?line=1'>2</a>\u001b[0m model_xgb\u001b[39m.\u001b[39;49mfit(X_train, y_train)\n",
            "File \u001b[1;32mc:\\Users\\maart\\anaconda3\\lib\\site-packages\\xgboost\\core.py:575\u001b[0m, in \u001b[0;36m_deprecate_positional_args.<locals>.inner_f\u001b[1;34m(*args, **kwargs)\u001b[0m\n\u001b[0;32m    573\u001b[0m \u001b[39mfor\u001b[39;00m k, arg \u001b[39min\u001b[39;00m \u001b[39mzip\u001b[39m(sig\u001b[39m.\u001b[39mparameters, args):\n\u001b[0;32m    574\u001b[0m     kwargs[k] \u001b[39m=\u001b[39m arg\n\u001b[1;32m--> 575\u001b[0m \u001b[39mreturn\u001b[39;00m f(\u001b[39m*\u001b[39m\u001b[39m*\u001b[39mkwargs)\n",
            "File \u001b[1;32mc:\\Users\\maart\\anaconda3\\lib\\site-packages\\xgboost\\sklearn.py:931\u001b[0m, in \u001b[0;36mXGBModel.fit\u001b[1;34m(self, X, y, sample_weight, base_margin, eval_set, eval_metric, early_stopping_rounds, verbose, xgb_model, sample_weight_eval_set, base_margin_eval_set, feature_weights, callbacks)\u001b[0m\n\u001b[0;32m    880\u001b[0m \u001b[39m\"\"\"Fit gradient boosting model.\u001b[39;00m\n\u001b[0;32m    881\u001b[0m \n\u001b[0;32m    882\u001b[0m \u001b[39mNote that calling ``fit()`` multiple times will cause the model object to be\u001b[39;00m\n\u001b[1;32m   (...)\u001b[0m\n\u001b[0;32m    928\u001b[0m \u001b[39m        Use `callbacks` in :py:meth:`__init__` or :py:meth:`set_params` instead.\u001b[39;00m\n\u001b[0;32m    929\u001b[0m \u001b[39m\"\"\"\u001b[39;00m\n\u001b[0;32m    930\u001b[0m evals_result: TrainingCallback\u001b[39m.\u001b[39mEvalsLog \u001b[39m=\u001b[39m {}\n\u001b[1;32m--> 931\u001b[0m train_dmatrix, evals \u001b[39m=\u001b[39m _wrap_evaluation_matrices(\n\u001b[0;32m    932\u001b[0m     missing\u001b[39m=\u001b[39;49m\u001b[39mself\u001b[39;49m\u001b[39m.\u001b[39;49mmissing,\n\u001b[0;32m    933\u001b[0m     X\u001b[39m=\u001b[39;49mX,\n\u001b[0;32m    934\u001b[0m     y\u001b[39m=\u001b[39;49my,\n\u001b[0;32m    935\u001b[0m     group\u001b[39m=\u001b[39;49m\u001b[39mNone\u001b[39;49;00m,\n\u001b[0;32m    936\u001b[0m     qid\u001b[39m=\u001b[39;49m\u001b[39mNone\u001b[39;49;00m,\n\u001b[0;32m    937\u001b[0m     sample_weight\u001b[39m=\u001b[39;49msample_weight,\n\u001b[0;32m    938\u001b[0m     base_margin\u001b[39m=\u001b[39;49mbase_margin,\n\u001b[0;32m    939\u001b[0m     feature_weights\u001b[39m=\u001b[39;49mfeature_weights,\n\u001b[0;32m    940\u001b[0m     eval_set\u001b[39m=\u001b[39;49meval_set,\n\u001b[0;32m    941\u001b[0m     sample_weight_eval_set\u001b[39m=\u001b[39;49msample_weight_eval_set,\n\u001b[0;32m    942\u001b[0m     base_margin_eval_set\u001b[39m=\u001b[39;49mbase_margin_eval_set,\n\u001b[0;32m    943\u001b[0m     eval_group\u001b[39m=\u001b[39;49m\u001b[39mNone\u001b[39;49;00m,\n\u001b[0;32m    944\u001b[0m     eval_qid\u001b[39m=\u001b[39;49m\u001b[39mNone\u001b[39;49;00m,\n\u001b[0;32m    945\u001b[0m     create_dmatrix\u001b[39m=\u001b[39;49m\u001b[39mlambda\u001b[39;49;00m \u001b[39m*\u001b[39;49m\u001b[39m*\u001b[39;49mkwargs: DMatrix(nthread\u001b[39m=\u001b[39;49m\u001b[39mself\u001b[39;49m\u001b[39m.\u001b[39;49mn_jobs, \u001b[39m*\u001b[39;49m\u001b[39m*\u001b[39;49mkwargs),\n\u001b[0;32m    946\u001b[0m     enable_categorical\u001b[39m=\u001b[39;49m\u001b[39mself\u001b[39;49m\u001b[39m.\u001b[39;49menable_categorical,\n\u001b[0;32m    947\u001b[0m )\n\u001b[0;32m    948\u001b[0m params \u001b[39m=\u001b[39m \u001b[39mself\u001b[39m\u001b[39m.\u001b[39mget_xgb_params()\n\u001b[0;32m    950\u001b[0m \u001b[39mif\u001b[39;00m callable(\u001b[39mself\u001b[39m\u001b[39m.\u001b[39mobjective):\n",
            "File \u001b[1;32mc:\\Users\\maart\\anaconda3\\lib\\site-packages\\xgboost\\sklearn.py:401\u001b[0m, in \u001b[0;36m_wrap_evaluation_matrices\u001b[1;34m(missing, X, y, group, qid, sample_weight, base_margin, feature_weights, eval_set, sample_weight_eval_set, base_margin_eval_set, eval_group, eval_qid, create_dmatrix, enable_categorical)\u001b[0m\n\u001b[0;32m    381\u001b[0m \u001b[39mdef\u001b[39;00m \u001b[39m_wrap_evaluation_matrices\u001b[39m(\n\u001b[0;32m    382\u001b[0m     missing: \u001b[39mfloat\u001b[39m,\n\u001b[0;32m    383\u001b[0m     X: Any,\n\u001b[1;32m   (...)\u001b[0m\n\u001b[0;32m    396\u001b[0m     enable_categorical: \u001b[39mbool\u001b[39m,\n\u001b[0;32m    397\u001b[0m ) \u001b[39m-\u001b[39m\u001b[39m>\u001b[39m Tuple[Any, List[Tuple[Any, \u001b[39mstr\u001b[39m]]]:\n\u001b[0;32m    398\u001b[0m     \u001b[39m\"\"\"Convert array_like evaluation matrices into DMatrix.  Perform validation on the way.\u001b[39;00m\n\u001b[0;32m    399\u001b[0m \n\u001b[0;32m    400\u001b[0m \u001b[39m    \"\"\"\u001b[39;00m\n\u001b[1;32m--> 401\u001b[0m     train_dmatrix \u001b[39m=\u001b[39m create_dmatrix(\n\u001b[0;32m    402\u001b[0m         data\u001b[39m=\u001b[39;49mX,\n\u001b[0;32m    403\u001b[0m         label\u001b[39m=\u001b[39;49my,\n\u001b[0;32m    404\u001b[0m         group\u001b[39m=\u001b[39;49mgroup,\n\u001b[0;32m    405\u001b[0m         qid\u001b[39m=\u001b[39;49mqid,\n\u001b[0;32m    406\u001b[0m         weight\u001b[39m=\u001b[39;49msample_weight,\n\u001b[0;32m    407\u001b[0m         base_margin\u001b[39m=\u001b[39;49mbase_margin,\n\u001b[0;32m    408\u001b[0m         feature_weights\u001b[39m=\u001b[39;49mfeature_weights,\n\u001b[0;32m    409\u001b[0m         missing\u001b[39m=\u001b[39;49mmissing,\n\u001b[0;32m    410\u001b[0m         enable_categorical\u001b[39m=\u001b[39;49menable_categorical,\n\u001b[0;32m    411\u001b[0m     )\n\u001b[0;32m    413\u001b[0m     n_validation \u001b[39m=\u001b[39m \u001b[39m0\u001b[39m \u001b[39mif\u001b[39;00m eval_set \u001b[39mis\u001b[39;00m \u001b[39mNone\u001b[39;00m \u001b[39melse\u001b[39;00m \u001b[39mlen\u001b[39m(eval_set)\n\u001b[0;32m    415\u001b[0m     \u001b[39mdef\u001b[39;00m \u001b[39mvalidate_or_none\u001b[39m(meta: Optional[Sequence], name: \u001b[39mstr\u001b[39m) \u001b[39m-\u001b[39m\u001b[39m>\u001b[39m Sequence:\n",
            "File \u001b[1;32mc:\\Users\\maart\\anaconda3\\lib\\site-packages\\xgboost\\sklearn.py:945\u001b[0m, in \u001b[0;36mXGBModel.fit.<locals>.<lambda>\u001b[1;34m(**kwargs)\u001b[0m\n\u001b[0;32m    880\u001b[0m \u001b[39m\"\"\"Fit gradient boosting model.\u001b[39;00m\n\u001b[0;32m    881\u001b[0m \n\u001b[0;32m    882\u001b[0m \u001b[39mNote that calling ``fit()`` multiple times will cause the model object to be\u001b[39;00m\n\u001b[1;32m   (...)\u001b[0m\n\u001b[0;32m    928\u001b[0m \u001b[39m        Use `callbacks` in :py:meth:`__init__` or :py:meth:`set_params` instead.\u001b[39;00m\n\u001b[0;32m    929\u001b[0m \u001b[39m\"\"\"\u001b[39;00m\n\u001b[0;32m    930\u001b[0m evals_result: TrainingCallback\u001b[39m.\u001b[39mEvalsLog \u001b[39m=\u001b[39m {}\n\u001b[0;32m    931\u001b[0m train_dmatrix, evals \u001b[39m=\u001b[39m _wrap_evaluation_matrices(\n\u001b[0;32m    932\u001b[0m     missing\u001b[39m=\u001b[39m\u001b[39mself\u001b[39m\u001b[39m.\u001b[39mmissing,\n\u001b[0;32m    933\u001b[0m     X\u001b[39m=\u001b[39mX,\n\u001b[0;32m    934\u001b[0m     y\u001b[39m=\u001b[39my,\n\u001b[0;32m    935\u001b[0m     group\u001b[39m=\u001b[39m\u001b[39mNone\u001b[39;00m,\n\u001b[0;32m    936\u001b[0m     qid\u001b[39m=\u001b[39m\u001b[39mNone\u001b[39;00m,\n\u001b[0;32m    937\u001b[0m     sample_weight\u001b[39m=\u001b[39msample_weight,\n\u001b[0;32m    938\u001b[0m     base_margin\u001b[39m=\u001b[39mbase_margin,\n\u001b[0;32m    939\u001b[0m     feature_weights\u001b[39m=\u001b[39mfeature_weights,\n\u001b[0;32m    940\u001b[0m     eval_set\u001b[39m=\u001b[39meval_set,\n\u001b[0;32m    941\u001b[0m     sample_weight_eval_set\u001b[39m=\u001b[39msample_weight_eval_set,\n\u001b[0;32m    942\u001b[0m     base_margin_eval_set\u001b[39m=\u001b[39mbase_margin_eval_set,\n\u001b[0;32m    943\u001b[0m     eval_group\u001b[39m=\u001b[39m\u001b[39mNone\u001b[39;00m,\n\u001b[0;32m    944\u001b[0m     eval_qid\u001b[39m=\u001b[39m\u001b[39mNone\u001b[39;00m,\n\u001b[1;32m--> 945\u001b[0m     create_dmatrix\u001b[39m=\u001b[39m\u001b[39mlambda\u001b[39;00m \u001b[39m*\u001b[39m\u001b[39m*\u001b[39mkwargs: DMatrix(nthread\u001b[39m=\u001b[39m\u001b[39mself\u001b[39m\u001b[39m.\u001b[39mn_jobs, \u001b[39m*\u001b[39m\u001b[39m*\u001b[39mkwargs),\n\u001b[0;32m    946\u001b[0m     enable_categorical\u001b[39m=\u001b[39m\u001b[39mself\u001b[39m\u001b[39m.\u001b[39menable_categorical,\n\u001b[0;32m    947\u001b[0m )\n\u001b[0;32m    948\u001b[0m params \u001b[39m=\u001b[39m \u001b[39mself\u001b[39m\u001b[39m.\u001b[39mget_xgb_params()\n\u001b[0;32m    950\u001b[0m \u001b[39mif\u001b[39;00m callable(\u001b[39mself\u001b[39m\u001b[39m.\u001b[39mobjective):\n",
            "File \u001b[1;32mc:\\Users\\maart\\anaconda3\\lib\\site-packages\\xgboost\\core.py:575\u001b[0m, in \u001b[0;36m_deprecate_positional_args.<locals>.inner_f\u001b[1;34m(*args, **kwargs)\u001b[0m\n\u001b[0;32m    573\u001b[0m \u001b[39mfor\u001b[39;00m k, arg \u001b[39min\u001b[39;00m \u001b[39mzip\u001b[39m(sig\u001b[39m.\u001b[39mparameters, args):\n\u001b[0;32m    574\u001b[0m     kwargs[k] \u001b[39m=\u001b[39m arg\n\u001b[1;32m--> 575\u001b[0m \u001b[39mreturn\u001b[39;00m f(\u001b[39m*\u001b[39m\u001b[39m*\u001b[39mkwargs)\n",
            "File \u001b[1;32mc:\\Users\\maart\\anaconda3\\lib\\site-packages\\xgboost\\core.py:686\u001b[0m, in \u001b[0;36mDMatrix.__init__\u001b[1;34m(self, data, label, weight, base_margin, missing, silent, feature_names, feature_types, nthread, group, qid, label_lower_bound, label_upper_bound, feature_weights, enable_categorical)\u001b[0m\n\u001b[0;32m    683\u001b[0m     \u001b[39massert\u001b[39;00m \u001b[39mself\u001b[39m\u001b[39m.\u001b[39mhandle \u001b[39mis\u001b[39;00m \u001b[39mnot\u001b[39;00m \u001b[39mNone\u001b[39;00m\n\u001b[0;32m    684\u001b[0m     \u001b[39mreturn\u001b[39;00m\n\u001b[1;32m--> 686\u001b[0m handle, feature_names, feature_types \u001b[39m=\u001b[39m dispatch_data_backend(\n\u001b[0;32m    687\u001b[0m     data,\n\u001b[0;32m    688\u001b[0m     missing\u001b[39m=\u001b[39;49m\u001b[39mself\u001b[39;49m\u001b[39m.\u001b[39;49mmissing,\n\u001b[0;32m    689\u001b[0m     threads\u001b[39m=\u001b[39;49m\u001b[39mself\u001b[39;49m\u001b[39m.\u001b[39;49mnthread,\n\u001b[0;32m    690\u001b[0m     feature_names\u001b[39m=\u001b[39;49mfeature_names,\n\u001b[0;32m    691\u001b[0m     feature_types\u001b[39m=\u001b[39;49mfeature_types,\n\u001b[0;32m    692\u001b[0m     enable_categorical\u001b[39m=\u001b[39;49menable_categorical,\n\u001b[0;32m    693\u001b[0m )\n\u001b[0;32m    694\u001b[0m \u001b[39massert\u001b[39;00m handle \u001b[39mis\u001b[39;00m \u001b[39mnot\u001b[39;00m \u001b[39mNone\u001b[39;00m\n\u001b[0;32m    695\u001b[0m \u001b[39mself\u001b[39m\u001b[39m.\u001b[39mhandle \u001b[39m=\u001b[39m handle\n",
            "File \u001b[1;32mc:\\Users\\maart\\anaconda3\\lib\\site-packages\\xgboost\\data.py:892\u001b[0m, in \u001b[0;36mdispatch_data_backend\u001b[1;34m(data, missing, threads, feature_names, feature_types, enable_categorical)\u001b[0m\n\u001b[0;32m    889\u001b[0m     \u001b[39mreturn\u001b[39;00m _from_pandas_df(data, enable_categorical, missing, threads,\n\u001b[0;32m    890\u001b[0m                            feature_names, feature_types)\n\u001b[0;32m    891\u001b[0m \u001b[39mif\u001b[39;00m _is_pandas_series(data):\n\u001b[1;32m--> 892\u001b[0m     \u001b[39mreturn\u001b[39;00m _from_pandas_series(\n\u001b[0;32m    893\u001b[0m         data, missing, threads, enable_categorical, feature_names, feature_types\n\u001b[0;32m    894\u001b[0m     )\n\u001b[0;32m    895\u001b[0m \u001b[39mif\u001b[39;00m _is_cudf_df(data) \u001b[39mor\u001b[39;00m _is_cudf_ser(data):\n\u001b[0;32m    896\u001b[0m     \u001b[39mreturn\u001b[39;00m _from_cudf_df(\n\u001b[0;32m    897\u001b[0m         data, missing, threads, feature_names, feature_types, enable_categorical\n\u001b[0;32m    898\u001b[0m     )\n",
            "File \u001b[1;32mc:\\Users\\maart\\anaconda3\\lib\\site-packages\\xgboost\\data.py:391\u001b[0m, in \u001b[0;36m_from_pandas_series\u001b[1;34m(data, missing, nthread, enable_categorical, feature_names, feature_types)\u001b[0m\n\u001b[0;32m    386\u001b[0m \u001b[39mfrom\u001b[39;00m \u001b[39mpandas\u001b[39;00m\u001b[39m.\u001b[39;00m\u001b[39mapi\u001b[39;00m\u001b[39m.\u001b[39;00m\u001b[39mtypes\u001b[39;00m \u001b[39mimport\u001b[39;00m is_categorical_dtype\n\u001b[0;32m    388\u001b[0m \u001b[39mif\u001b[39;00m (data\u001b[39m.\u001b[39mdtype\u001b[39m.\u001b[39mname \u001b[39mnot\u001b[39;00m \u001b[39min\u001b[39;00m _pandas_dtype_mapper) \u001b[39mand\u001b[39;00m \u001b[39mnot\u001b[39;00m (\n\u001b[0;32m    389\u001b[0m     is_categorical_dtype(data\u001b[39m.\u001b[39mdtype) \u001b[39mand\u001b[39;00m enable_categorical\n\u001b[0;32m    390\u001b[0m ):\n\u001b[1;32m--> 391\u001b[0m     _invalid_dataframe_dtype(data)\n\u001b[0;32m    392\u001b[0m \u001b[39mif\u001b[39;00m enable_categorical \u001b[39mand\u001b[39;00m is_categorical_dtype(data\u001b[39m.\u001b[39mdtype):\n\u001b[0;32m    393\u001b[0m     data \u001b[39m=\u001b[39m data\u001b[39m.\u001b[39mcat\u001b[39m.\u001b[39mcodes\n",
            "File \u001b[1;32mc:\\Users\\maart\\anaconda3\\lib\\site-packages\\xgboost\\data.py:246\u001b[0m, in \u001b[0;36m_invalid_dataframe_dtype\u001b[1;34m(data)\u001b[0m\n\u001b[0;32m    241\u001b[0m         err \u001b[39m=\u001b[39m \u001b[39m\"\u001b[39m\u001b[39m\"\u001b[39m\n\u001b[0;32m    243\u001b[0m     msg \u001b[39m=\u001b[39m \u001b[39m\"\"\"\u001b[39m\u001b[39mDataFrame.dtypes for data must be int, float, bool or category.  When\u001b[39m\n\u001b[0;32m    244\u001b[0m \u001b[39mcategorical type is supplied, DMatrix parameter `enable_categorical` must\u001b[39m\n\u001b[0;32m    245\u001b[0m \u001b[39mbe set to `True`.\u001b[39m\u001b[39m\"\"\"\u001b[39m \u001b[39m+\u001b[39m err\n\u001b[1;32m--> 246\u001b[0m     \u001b[39mraise\u001b[39;00m \u001b[39mValueError\u001b[39;00m(msg)\n",
            "\u001b[1;31mValueError\u001b[0m: DataFrame.dtypes for data must be int, float, bool or category.  When\ncategorical type is supplied, DMatrix parameter `enable_categorical` must\nbe set to `True`."
          ]
        }
      ],
      "source": [
        "# #Running the model for training\n",
        "# model_xgb.fit(X_train, y_train)"
      ]
    },
    {
      "cell_type": "code",
      "execution_count": 89,
      "metadata": {
        "id": "DAykPYH7D2Uf"
      },
      "outputs": [
        {
          "data": {
            "text/html": [
              "<style>#sk-container-id-1 {color: black;background-color: white;}#sk-container-id-1 pre{padding: 0;}#sk-container-id-1 div.sk-toggleable {background-color: white;}#sk-container-id-1 label.sk-toggleable__label {cursor: pointer;display: block;width: 100%;margin-bottom: 0;padding: 0.3em;box-sizing: border-box;text-align: center;}#sk-container-id-1 label.sk-toggleable__label-arrow:before {content: \"▸\";float: left;margin-right: 0.25em;color: #696969;}#sk-container-id-1 label.sk-toggleable__label-arrow:hover:before {color: black;}#sk-container-id-1 div.sk-estimator:hover label.sk-toggleable__label-arrow:before {color: black;}#sk-container-id-1 div.sk-toggleable__content {max-height: 0;max-width: 0;overflow: hidden;text-align: left;background-color: #f0f8ff;}#sk-container-id-1 div.sk-toggleable__content pre {margin: 0.2em;color: black;border-radius: 0.25em;background-color: #f0f8ff;}#sk-container-id-1 input.sk-toggleable__control:checked~div.sk-toggleable__content {max-height: 200px;max-width: 100%;overflow: auto;}#sk-container-id-1 input.sk-toggleable__control:checked~label.sk-toggleable__label-arrow:before {content: \"▾\";}#sk-container-id-1 div.sk-estimator input.sk-toggleable__control:checked~label.sk-toggleable__label {background-color: #d4ebff;}#sk-container-id-1 div.sk-label input.sk-toggleable__control:checked~label.sk-toggleable__label {background-color: #d4ebff;}#sk-container-id-1 input.sk-hidden--visually {border: 0;clip: rect(1px 1px 1px 1px);clip: rect(1px, 1px, 1px, 1px);height: 1px;margin: -1px;overflow: hidden;padding: 0;position: absolute;width: 1px;}#sk-container-id-1 div.sk-estimator {font-family: monospace;background-color: #f0f8ff;border: 1px dotted black;border-radius: 0.25em;box-sizing: border-box;margin-bottom: 0.5em;}#sk-container-id-1 div.sk-estimator:hover {background-color: #d4ebff;}#sk-container-id-1 div.sk-parallel-item::after {content: \"\";width: 100%;border-bottom: 1px solid gray;flex-grow: 1;}#sk-container-id-1 div.sk-label:hover label.sk-toggleable__label {background-color: #d4ebff;}#sk-container-id-1 div.sk-serial::before {content: \"\";position: absolute;border-left: 1px solid gray;box-sizing: border-box;top: 0;bottom: 0;left: 50%;z-index: 0;}#sk-container-id-1 div.sk-serial {display: flex;flex-direction: column;align-items: center;background-color: white;padding-right: 0.2em;padding-left: 0.2em;position: relative;}#sk-container-id-1 div.sk-item {position: relative;z-index: 1;}#sk-container-id-1 div.sk-parallel {display: flex;align-items: stretch;justify-content: center;background-color: white;position: relative;}#sk-container-id-1 div.sk-item::before, #sk-container-id-1 div.sk-parallel-item::before {content: \"\";position: absolute;border-left: 1px solid gray;box-sizing: border-box;top: 0;bottom: 0;left: 50%;z-index: -1;}#sk-container-id-1 div.sk-parallel-item {display: flex;flex-direction: column;z-index: 1;position: relative;background-color: white;}#sk-container-id-1 div.sk-parallel-item:first-child::after {align-self: flex-end;width: 50%;}#sk-container-id-1 div.sk-parallel-item:last-child::after {align-self: flex-start;width: 50%;}#sk-container-id-1 div.sk-parallel-item:only-child::after {width: 0;}#sk-container-id-1 div.sk-dashed-wrapped {border: 1px dashed gray;margin: 0 0.4em 0.5em 0.4em;box-sizing: border-box;padding-bottom: 0.4em;background-color: white;}#sk-container-id-1 div.sk-label label {font-family: monospace;font-weight: bold;display: inline-block;line-height: 1.2em;}#sk-container-id-1 div.sk-label-container {text-align: center;}#sk-container-id-1 div.sk-container {/* jupyter's `normalize.less` sets `[hidden] { display: none; }` but bootstrap.min.css set `[hidden] { display: none !important; }` so we also need the `!important` here to be able to override the default hidden behavior on the sphinx rendered scikit-learn.org. See: https://github.com/scikit-learn/scikit-learn/issues/21755 */display: inline-block !important;position: relative;}#sk-container-id-1 div.sk-text-repr-fallback {display: none;}</style><div id=\"sk-container-id-1\" class=\"sk-top-container\"><div class=\"sk-text-repr-fallback\"><pre>Pipeline(steps=[(&#x27;tfidfvectorizer&#x27;, TfidfVectorizer()),\n",
              "                (&#x27;logisticregression&#x27;, LogisticRegression())])</pre><b>In a Jupyter environment, please rerun this cell to show the HTML representation or trust the notebook. <br />On GitHub, the HTML representation is unable to render, please try loading this page with nbviewer.org.</b></div><div class=\"sk-container\" hidden><div class=\"sk-item sk-dashed-wrapped\"><div class=\"sk-label-container\"><div class=\"sk-label sk-toggleable\"><input class=\"sk-toggleable__control sk-hidden--visually\" id=\"sk-estimator-id-1\" type=\"checkbox\" ><label for=\"sk-estimator-id-1\" class=\"sk-toggleable__label sk-toggleable__label-arrow\">Pipeline</label><div class=\"sk-toggleable__content\"><pre>Pipeline(steps=[(&#x27;tfidfvectorizer&#x27;, TfidfVectorizer()),\n",
              "                (&#x27;logisticregression&#x27;, LogisticRegression())])</pre></div></div></div><div class=\"sk-serial\"><div class=\"sk-item\"><div class=\"sk-estimator sk-toggleable\"><input class=\"sk-toggleable__control sk-hidden--visually\" id=\"sk-estimator-id-2\" type=\"checkbox\" ><label for=\"sk-estimator-id-2\" class=\"sk-toggleable__label sk-toggleable__label-arrow\">TfidfVectorizer</label><div class=\"sk-toggleable__content\"><pre>TfidfVectorizer()</pre></div></div></div><div class=\"sk-item\"><div class=\"sk-estimator sk-toggleable\"><input class=\"sk-toggleable__control sk-hidden--visually\" id=\"sk-estimator-id-3\" type=\"checkbox\" ><label for=\"sk-estimator-id-3\" class=\"sk-toggleable__label sk-toggleable__label-arrow\">LogisticRegression</label><div class=\"sk-toggleable__content\"><pre>LogisticRegression()</pre></div></div></div></div></div></div></div>"
            ],
            "text/plain": [
              "Pipeline(steps=[('tfidfvectorizer', TfidfVectorizer()),\n",
              "                ('logisticregression', LogisticRegression())])"
            ]
          },
          "execution_count": 89,
          "metadata": {},
          "output_type": "execute_result"
        }
      ],
      "source": [
        "pipe.fit(X_train,y_train) # fit model"
      ]
    },
    {
      "cell_type": "code",
      "execution_count": 90,
      "metadata": {
        "id": "CeeJtD-wD2Uf"
      },
      "outputs": [
        {
          "name": "stdout",
          "output_type": "stream",
          "text": [
            "                 precision    recall  f1-score   support\n",
            "\n",
            "             AI       0.87      0.84      0.86       443\n",
            " Cryptocurrency       0.83      0.92      0.88       562\n",
            "Digital Banking       0.92      0.88      0.90       339\n",
            "        Fintech       0.84      0.88      0.86       503\n",
            "  Risk Exposure       0.92      0.78      0.84       377\n",
            "\n",
            "       accuracy                           0.87      2224\n",
            "      macro avg       0.88      0.86      0.87      2224\n",
            "   weighted avg       0.87      0.87      0.87      2224\n",
            "\n"
          ]
        }
      ],
      "source": [
        "# evaluate model performance on training set\n",
        "\n",
        "y_eval = pipe.predict(X_train)\n",
        "report = classification_report(y_train, y_eval)\n",
        "print(report)"
      ]
    },
    {
      "cell_type": "code",
      "execution_count": 91,
      "metadata": {
        "id": "D2DVUJrfD2Uf"
      },
      "outputs": [
        {
          "name": "stdout",
          "output_type": "stream",
          "text": [
            "                 precision    recall  f1-score   support\n",
            "\n",
            "             AI       0.58      0.48      0.53       122\n",
            " Cryptocurrency       0.50      0.72      0.59       122\n",
            "Digital Banking       0.83      0.67      0.74        85\n",
            "        Fintech       0.51      0.55      0.53       128\n",
            "  Risk Exposure       0.67      0.49      0.57       100\n",
            "\n",
            "       accuracy                           0.58       557\n",
            "      macro avg       0.62      0.58      0.59       557\n",
            "   weighted avg       0.60      0.58      0.58       557\n",
            "\n"
          ]
        }
      ],
      "source": [
        "# evaluate model performance on test set\n",
        "\n",
        "y_pred = pipe.predict(X_test)\n",
        "report = classification_report(y_test, y_pred)\n",
        "print(report)"
      ]
    },
    {
      "cell_type": "code",
      "execution_count": 131,
      "metadata": {
        "id": "XwF9Rx_fD2Uf"
      },
      "outputs": [],
      "source": [
        "t1 = ['haha i want to kill myself with a bomb risk risk risk']"
      ]
    },
    {
      "cell_type": "code",
      "execution_count": 132,
      "metadata": {
        "id": "l8Hd5FPoD2Ug"
      },
      "outputs": [
        {
          "name": "stderr",
          "output_type": "stream",
          "text": [
            "100%|██████████| 1/1 [00:00<00:00, 334.13it/s]\n"
          ]
        }
      ],
      "source": [
        "t1_p = text_prepro(pd.Series(t1))"
      ]
    },
    {
      "cell_type": "code",
      "execution_count": 133,
      "metadata": {
        "id": "_iLnbvgmD2Ug"
      },
      "outputs": [
        {
          "data": {
            "text/plain": [
              "array(['Fintech'], dtype=object)"
            ]
          },
          "execution_count": 133,
          "metadata": {},
          "output_type": "execute_result"
        }
      ],
      "source": [
        "pipe.predict (t1_p)"
      ]
    },
    {
      "cell_type": "markdown",
      "metadata": {
        "id": "KgHWMeFoD2Uh"
      },
      "source": [
        "### We will use a coherence matrix to find out how many topics we need for topic modelling"
      ]
    },
    {
      "cell_type": "code",
      "execution_count": 134,
      "metadata": {
        "id": "l34LZpTID2Uh"
      },
      "outputs": [],
      "source": [
        "# cm = CoherenceModel(model=lda_model, corpus=corpus, coherence='u_mass')\n",
        "# coherence = cm.get_coherence()  # get coherence value"
      ]
    },
    {
      "cell_type": "code",
      "execution_count": 135,
      "metadata": {
        "id": "S9iUkppxD2Uh"
      },
      "outputs": [],
      "source": [
        "data = data.reset_index()"
      ]
    },
    {
      "cell_type": "code",
      "execution_count": 136,
      "metadata": {
        "id": "CNBItmApD2Uh"
      },
      "outputs": [
        {
          "data": {
            "text/plain": [
              "(2781, 13)"
            ]
          },
          "execution_count": 136,
          "metadata": {},
          "output_type": "execute_result"
        }
      ],
      "source": [
        "data.shape"
      ]
    },
    {
      "cell_type": "code",
      "execution_count": 137,
      "metadata": {
        "id": "0Z2zstzJD2Uh"
      },
      "outputs": [],
      "source": [
        "data = data[data[\"tokens\"].str.len() != 0]"
      ]
    },
    {
      "cell_type": "code",
      "execution_count": 138,
      "metadata": {
        "id": "uzhUASizD2Ui"
      },
      "outputs": [
        {
          "data": {
            "text/html": [
              "<div>\n",
              "<style scoped>\n",
              "    .dataframe tbody tr th:only-of-type {\n",
              "        vertical-align: middle;\n",
              "    }\n",
              "\n",
              "    .dataframe tbody tr th {\n",
              "        vertical-align: top;\n",
              "    }\n",
              "\n",
              "    .dataframe thead th {\n",
              "        text-align: right;\n",
              "    }\n",
              "</style>\n",
              "<table border=\"1\" class=\"dataframe\">\n",
              "  <thead>\n",
              "    <tr style=\"text-align: right;\">\n",
              "      <th></th>\n",
              "      <th>level_0</th>\n",
              "      <th>index</th>\n",
              "      <th>Authors</th>\n",
              "      <th>Author(s) ID</th>\n",
              "      <th>Title</th>\n",
              "      <th>Abstract</th>\n",
              "      <th>Year</th>\n",
              "      <th>Source title</th>\n",
              "      <th>Author Keywords</th>\n",
              "      <th>Author_Keywords</th>\n",
              "      <th>tokens</th>\n",
              "      <th>Topic Distribution</th>\n",
              "      <th>topic_num</th>\n",
              "    </tr>\n",
              "  </thead>\n",
              "  <tbody>\n",
              "    <tr>\n",
              "      <th>0</th>\n",
              "      <td>0</td>\n",
              "      <td>0</td>\n",
              "      <td>Yang T., Zhang X.</td>\n",
              "      <td>57907798100;56342888200;</td>\n",
              "      <td>FinTech adoption and financial inclusion: Evid...</td>\n",
              "      <td>This paper provides micro-level evidence on ho...</td>\n",
              "      <td>2022</td>\n",
              "      <td>Journal of Banking and Finance</td>\n",
              "      <td>Consumption; Consumption inequality; Credit co...</td>\n",
              "      <td>consumption consumption inequality credit cons...</td>\n",
              "      <td>[consumption, consumption, inequality, credit,...</td>\n",
              "      <td>[(0, 0.050067484), (1, 0.050014284), (2, 0.051...</td>\n",
              "      <td>Cryptocurrency</td>\n",
              "    </tr>\n",
              "    <tr>\n",
              "      <th>1</th>\n",
              "      <td>1</td>\n",
              "      <td>1</td>\n",
              "      <td>Wang X., Wang Y., Zhao Y.</td>\n",
              "      <td>57193015825;57901727900;57901783600;</td>\n",
              "      <td>Financial permeation and rural poverty reducti...</td>\n",
              "      <td>We investigate how financial permeation affect...</td>\n",
              "      <td>2022</td>\n",
              "      <td>China Economic Review</td>\n",
              "      <td>Bank branch expansion; Financial permeation; F...</td>\n",
              "      <td>bank branch expansion financial permeation fin...</td>\n",
              "      <td>[bank, branch, expansion, financial, permeatio...</td>\n",
              "      <td>[(0, 0.73060805), (1, 0.06730225), (2, 0.06707...</td>\n",
              "      <td>Fintech</td>\n",
              "    </tr>\n",
              "    <tr>\n",
              "      <th>2</th>\n",
              "      <td>2</td>\n",
              "      <td>2</td>\n",
              "      <td>Dzandu M.D., Hanu C., Amegbe H.</td>\n",
              "      <td>56590001600;57201152816;57194904537;</td>\n",
              "      <td>Gamification of mobile money payment for gener...</td>\n",
              "      <td>This study develops and tests an integrated mo...</td>\n",
              "      <td>2022</td>\n",
              "      <td>Technological Forecasting and Social Change</td>\n",
              "      <td>Customer value; FinTech; Gamification; Marketi...</td>\n",
              "      <td>customer value fintech gamification marketing ...</td>\n",
              "      <td>[customer, value, fintech, gamification, marke...</td>\n",
              "      <td>[(0, 0.028599268), (1, 0.15185189), (2, 0.0286...</td>\n",
              "      <td>Cryptocurrency</td>\n",
              "    </tr>\n",
              "    <tr>\n",
              "      <th>3</th>\n",
              "      <td>3</td>\n",
              "      <td>3</td>\n",
              "      <td>Grassi L., Fantaccini S.</td>\n",
              "      <td>57192656409;57895835500;</td>\n",
              "      <td>An overview of Fintech applications to solve t...</td>\n",
              "      <td>Crowdfunding is emerging as an alternative for...</td>\n",
              "      <td>2022</td>\n",
              "      <td>Financial Innovation</td>\n",
              "      <td>Crowdfunding; Fintech; Health crowdfunding; He...</td>\n",
              "      <td>crowdfunding fintech health crowdfunding healt...</td>\n",
              "      <td>[crowdfunding, fintech, health, crowdfunding, ...</td>\n",
              "      <td>[(0, 0.06768805), (1, 0.066682294), (2, 0.7318...</td>\n",
              "      <td>AI</td>\n",
              "    </tr>\n",
              "    <tr>\n",
              "      <th>4</th>\n",
              "      <td>4</td>\n",
              "      <td>4</td>\n",
              "      <td>DeFusco A.A., Tang H., Yannelis C.</td>\n",
              "      <td>57193852071;57890330600;55413678100;</td>\n",
              "      <td>Measuring the welfare cost of asymmetric infor...</td>\n",
              "      <td>Information asymmetries are known in theory to...</td>\n",
              "      <td>2022</td>\n",
              "      <td>Journal of Financial Economics</td>\n",
              "      <td>Asymmetric information; Consumer credit; Exper...</td>\n",
              "      <td>asymmetric information consumer credit experim...</td>\n",
              "      <td>[asymmetric, information, consumer, credit, ex...</td>\n",
              "      <td>[(0, 0.05137005), (1, 0.05005633), (2, 0.23245...</td>\n",
              "      <td>Risk Exposure</td>\n",
              "    </tr>\n",
              "    <tr>\n",
              "      <th>...</th>\n",
              "      <td>...</td>\n",
              "      <td>...</td>\n",
              "      <td>...</td>\n",
              "      <td>...</td>\n",
              "      <td>...</td>\n",
              "      <td>...</td>\n",
              "      <td>...</td>\n",
              "      <td>...</td>\n",
              "      <td>...</td>\n",
              "      <td>...</td>\n",
              "      <td>...</td>\n",
              "      <td>...</td>\n",
              "      <td>...</td>\n",
              "    </tr>\n",
              "    <tr>\n",
              "      <th>2776</th>\n",
              "      <td>2776</td>\n",
              "      <td>3391</td>\n",
              "      <td>Kumar R., Ghosh A.K.</td>\n",
              "      <td>56126759700;55600232500;</td>\n",
              "      <td>Estimation of aerodynamic derivatives using ne...</td>\n",
              "      <td>The paper presents the estimation of lateral-d...</td>\n",
              "      <td>2014</td>\n",
              "      <td>IFAC Proceedings Volumes (IFAC-PapersOnline)</td>\n",
              "      <td>Aerodynamic Derivatives; Lateral-directional; ...</td>\n",
              "      <td>aerodynamic derivatives lateral directional ne...</td>\n",
              "      <td>[aerodynamic, derivative, lateral, directional...</td>\n",
              "      <td>[(0, 0.10202968), (1, 0.597958), (2, 0.1000109...</td>\n",
              "      <td>Digital Banking</td>\n",
              "    </tr>\n",
              "    <tr>\n",
              "      <th>2777</th>\n",
              "      <td>2777</td>\n",
              "      <td>3393</td>\n",
              "      <td>Sher G.I.</td>\n",
              "      <td>48161857400;</td>\n",
              "      <td>Forex trading using geometry sensitive neural ...</td>\n",
              "      <td>When neural network based systems are used wit...</td>\n",
              "      <td>2012</td>\n",
              "      <td>GECCO'12 - Proceedings of the 14th Internation...</td>\n",
              "      <td>DXNN; Evolutionary computation; Financial anal...</td>\n",
              "      <td>dxnn evolutionary computation financial analys...</td>\n",
              "      <td>[dxnn, evolutionary, computation, financial, a...</td>\n",
              "      <td>[(0, 0.8381539), (1, 0.041315682), (2, 0.04012...</td>\n",
              "      <td>Fintech</td>\n",
              "    </tr>\n",
              "    <tr>\n",
              "      <th>2778</th>\n",
              "      <td>2778</td>\n",
              "      <td>3397</td>\n",
              "      <td>Hao H.-N.</td>\n",
              "      <td>36617357100;</td>\n",
              "      <td>Notice of Retraction: Short-term forecasting o...</td>\n",
              "      <td>For short-term forecasting of stock price, thi...</td>\n",
              "      <td>2010</td>\n",
              "      <td>Proceedings - 2010 6th International Conferenc...</td>\n",
              "      <td>Genetic-neural network; Short-term forecasting...</td>\n",
              "      <td>genetic neural network short term forecasting ...</td>\n",
              "      <td>[genetic, neural, network, short, term, foreca...</td>\n",
              "      <td>[(0, 0.04053648), (1, 0.8394504), (2, 0.040005...</td>\n",
              "      <td>Digital Banking</td>\n",
              "    </tr>\n",
              "    <tr>\n",
              "      <th>2779</th>\n",
              "      <td>2779</td>\n",
              "      <td>3398</td>\n",
              "      <td>Ma Z.-X., Zhang W.</td>\n",
              "      <td>55479146300;56621528900;</td>\n",
              "      <td>Notice of Retraction: An discrimination resear...</td>\n",
              "      <td>The discrimination and supervision of insider ...</td>\n",
              "      <td>2010</td>\n",
              "      <td>ICAMS 2010 - Proceedings of 2010 IEEE Internat...</td>\n",
              "      <td>Discrimination analysis; Insider trading; Mark...</td>\n",
              "      <td>discrimination analysis insider trading market...</td>\n",
              "      <td>[discrimination, analysis, insider, trading, m...</td>\n",
              "      <td>[(0, 0.034076948), (1, 0.8649012), (2, 0.03336...</td>\n",
              "      <td>Digital Banking</td>\n",
              "    </tr>\n",
              "    <tr>\n",
              "      <th>2780</th>\n",
              "      <td>2780</td>\n",
              "      <td>3399</td>\n",
              "      <td>Danial S.N., Noor S.R., Usmani B.A., Zaidi S.J.H.</td>\n",
              "      <td>24823887800;24825002200;26666352700;57549810600;</td>\n",
              "      <td>A dynamical system and neural network perspect...</td>\n",
              "      <td>This study discusses the evolution of KSE-100 ...</td>\n",
              "      <td>2008</td>\n",
              "      <td>Communications in Computer and Information Sci...</td>\n",
              "      <td>correlation dimension; KSE-100 index returns; ...</td>\n",
              "      <td>correlation dimension index returns neural net...</td>\n",
              "      <td>[correlation, dimension, kse-100, index, retur...</td>\n",
              "      <td>[(0, 0.051346723), (1, 0.79808176), (2, 0.0500...</td>\n",
              "      <td>Digital Banking</td>\n",
              "    </tr>\n",
              "  </tbody>\n",
              "</table>\n",
              "<p>2781 rows × 13 columns</p>\n",
              "</div>"
            ],
            "text/plain": [
              "      level_0  index                                            Authors  \\\n",
              "0           0      0                                  Yang T., Zhang X.   \n",
              "1           1      1                          Wang X., Wang Y., Zhao Y.   \n",
              "2           2      2                    Dzandu M.D., Hanu C., Amegbe H.   \n",
              "3           3      3                           Grassi L., Fantaccini S.   \n",
              "4           4      4                 DeFusco A.A., Tang H., Yannelis C.   \n",
              "...       ...    ...                                                ...   \n",
              "2776     2776   3391                               Kumar R., Ghosh A.K.   \n",
              "2777     2777   3393                                          Sher G.I.   \n",
              "2778     2778   3397                                          Hao H.-N.   \n",
              "2779     2779   3398                                 Ma Z.-X., Zhang W.   \n",
              "2780     2780   3399  Danial S.N., Noor S.R., Usmani B.A., Zaidi S.J.H.   \n",
              "\n",
              "                                          Author(s) ID  \\\n",
              "0                             57907798100;56342888200;   \n",
              "1                 57193015825;57901727900;57901783600;   \n",
              "2                 56590001600;57201152816;57194904537;   \n",
              "3                             57192656409;57895835500;   \n",
              "4                 57193852071;57890330600;55413678100;   \n",
              "...                                                ...   \n",
              "2776                          56126759700;55600232500;   \n",
              "2777                                      48161857400;   \n",
              "2778                                      36617357100;   \n",
              "2779                          55479146300;56621528900;   \n",
              "2780  24823887800;24825002200;26666352700;57549810600;   \n",
              "\n",
              "                                                  Title  \\\n",
              "0     FinTech adoption and financial inclusion: Evid...   \n",
              "1     Financial permeation and rural poverty reducti...   \n",
              "2     Gamification of mobile money payment for gener...   \n",
              "3     An overview of Fintech applications to solve t...   \n",
              "4     Measuring the welfare cost of asymmetric infor...   \n",
              "...                                                 ...   \n",
              "2776  Estimation of aerodynamic derivatives using ne...   \n",
              "2777  Forex trading using geometry sensitive neural ...   \n",
              "2778  Notice of Retraction: Short-term forecasting o...   \n",
              "2779  Notice of Retraction: An discrimination resear...   \n",
              "2780  A dynamical system and neural network perspect...   \n",
              "\n",
              "                                               Abstract  Year  \\\n",
              "0     This paper provides micro-level evidence on ho...  2022   \n",
              "1     We investigate how financial permeation affect...  2022   \n",
              "2     This study develops and tests an integrated mo...  2022   \n",
              "3     Crowdfunding is emerging as an alternative for...  2022   \n",
              "4     Information asymmetries are known in theory to...  2022   \n",
              "...                                                 ...   ...   \n",
              "2776  The paper presents the estimation of lateral-d...  2014   \n",
              "2777  When neural network based systems are used wit...  2012   \n",
              "2778  For short-term forecasting of stock price, thi...  2010   \n",
              "2779  The discrimination and supervision of insider ...  2010   \n",
              "2780  This study discusses the evolution of KSE-100 ...  2008   \n",
              "\n",
              "                                           Source title  \\\n",
              "0                        Journal of Banking and Finance   \n",
              "1                                 China Economic Review   \n",
              "2           Technological Forecasting and Social Change   \n",
              "3                                  Financial Innovation   \n",
              "4                        Journal of Financial Economics   \n",
              "...                                                 ...   \n",
              "2776       IFAC Proceedings Volumes (IFAC-PapersOnline)   \n",
              "2777  GECCO'12 - Proceedings of the 14th Internation...   \n",
              "2778  Proceedings - 2010 6th International Conferenc...   \n",
              "2779  ICAMS 2010 - Proceedings of 2010 IEEE Internat...   \n",
              "2780  Communications in Computer and Information Sci...   \n",
              "\n",
              "                                        Author Keywords  \\\n",
              "0     Consumption; Consumption inequality; Credit co...   \n",
              "1     Bank branch expansion; Financial permeation; F...   \n",
              "2     Customer value; FinTech; Gamification; Marketi...   \n",
              "3     Crowdfunding; Fintech; Health crowdfunding; He...   \n",
              "4     Asymmetric information; Consumer credit; Exper...   \n",
              "...                                                 ...   \n",
              "2776  Aerodynamic Derivatives; Lateral-directional; ...   \n",
              "2777  DXNN; Evolutionary computation; Financial anal...   \n",
              "2778  Genetic-neural network; Short-term forecasting...   \n",
              "2779  Discrimination analysis; Insider trading; Mark...   \n",
              "2780  correlation dimension; KSE-100 index returns; ...   \n",
              "\n",
              "                                        Author_Keywords  \\\n",
              "0     consumption consumption inequality credit cons...   \n",
              "1     bank branch expansion financial permeation fin...   \n",
              "2     customer value fintech gamification marketing ...   \n",
              "3     crowdfunding fintech health crowdfunding healt...   \n",
              "4     asymmetric information consumer credit experim...   \n",
              "...                                                 ...   \n",
              "2776  aerodynamic derivatives lateral directional ne...   \n",
              "2777  dxnn evolutionary computation financial analys...   \n",
              "2778  genetic neural network short term forecasting ...   \n",
              "2779  discrimination analysis insider trading market...   \n",
              "2780  correlation dimension index returns neural net...   \n",
              "\n",
              "                                                 tokens  \\\n",
              "0     [consumption, consumption, inequality, credit,...   \n",
              "1     [bank, branch, expansion, financial, permeatio...   \n",
              "2     [customer, value, fintech, gamification, marke...   \n",
              "3     [crowdfunding, fintech, health, crowdfunding, ...   \n",
              "4     [asymmetric, information, consumer, credit, ex...   \n",
              "...                                                 ...   \n",
              "2776  [aerodynamic, derivative, lateral, directional...   \n",
              "2777  [dxnn, evolutionary, computation, financial, a...   \n",
              "2778  [genetic, neural, network, short, term, foreca...   \n",
              "2779  [discrimination, analysis, insider, trading, m...   \n",
              "2780  [correlation, dimension, kse-100, index, retur...   \n",
              "\n",
              "                                     Topic Distribution        topic_num  \n",
              "0     [(0, 0.050067484), (1, 0.050014284), (2, 0.051...   Cryptocurrency  \n",
              "1     [(0, 0.73060805), (1, 0.06730225), (2, 0.06707...          Fintech  \n",
              "2     [(0, 0.028599268), (1, 0.15185189), (2, 0.0286...   Cryptocurrency  \n",
              "3     [(0, 0.06768805), (1, 0.066682294), (2, 0.7318...               AI  \n",
              "4     [(0, 0.05137005), (1, 0.05005633), (2, 0.23245...    Risk Exposure  \n",
              "...                                                 ...              ...  \n",
              "2776  [(0, 0.10202968), (1, 0.597958), (2, 0.1000109...  Digital Banking  \n",
              "2777  [(0, 0.8381539), (1, 0.041315682), (2, 0.04012...          Fintech  \n",
              "2778  [(0, 0.04053648), (1, 0.8394504), (2, 0.040005...  Digital Banking  \n",
              "2779  [(0, 0.034076948), (1, 0.8649012), (2, 0.03336...  Digital Banking  \n",
              "2780  [(0, 0.051346723), (1, 0.79808176), (2, 0.0500...  Digital Banking  \n",
              "\n",
              "[2781 rows x 13 columns]"
            ]
          },
          "execution_count": 138,
          "metadata": {},
          "output_type": "execute_result"
        }
      ],
      "source": [
        "data"
      ]
    },
    {
      "cell_type": "code",
      "execution_count": 139,
      "metadata": {
        "id": "Tl5FsA6qD2Ui"
      },
      "outputs": [],
      "source": [
        "corpus = data['tokens']"
      ]
    },
    {
      "cell_type": "code",
      "execution_count": 140,
      "metadata": {
        "id": "F3pLzEvkD2Ui"
      },
      "outputs": [
        {
          "data": {
            "text/html": [
              "<div>\n",
              "<style scoped>\n",
              "    .dataframe tbody tr th:only-of-type {\n",
              "        vertical-align: middle;\n",
              "    }\n",
              "\n",
              "    .dataframe tbody tr th {\n",
              "        vertical-align: top;\n",
              "    }\n",
              "\n",
              "    .dataframe thead th {\n",
              "        text-align: right;\n",
              "    }\n",
              "</style>\n",
              "<table border=\"1\" class=\"dataframe\">\n",
              "  <thead>\n",
              "    <tr style=\"text-align: right;\">\n",
              "      <th></th>\n",
              "      <th>level_0</th>\n",
              "      <th>index</th>\n",
              "      <th>Authors</th>\n",
              "      <th>Author(s) ID</th>\n",
              "      <th>Title</th>\n",
              "      <th>Abstract</th>\n",
              "      <th>Year</th>\n",
              "      <th>Source title</th>\n",
              "      <th>Author Keywords</th>\n",
              "      <th>Author_Keywords</th>\n",
              "      <th>tokens</th>\n",
              "      <th>Topic Distribution</th>\n",
              "      <th>topic_num</th>\n",
              "    </tr>\n",
              "  </thead>\n",
              "  <tbody>\n",
              "    <tr>\n",
              "      <th>0</th>\n",
              "      <td>0</td>\n",
              "      <td>0</td>\n",
              "      <td>Yang T., Zhang X.</td>\n",
              "      <td>57907798100;56342888200;</td>\n",
              "      <td>FinTech adoption and financial inclusion: Evid...</td>\n",
              "      <td>This paper provides micro-level evidence on ho...</td>\n",
              "      <td>2022</td>\n",
              "      <td>Journal of Banking and Finance</td>\n",
              "      <td>Consumption; Consumption inequality; Credit co...</td>\n",
              "      <td>consumption consumption inequality credit cons...</td>\n",
              "      <td>[consumption, consumption, inequality, credit,...</td>\n",
              "      <td>[(0, 0.050067484), (1, 0.050014284), (2, 0.051...</td>\n",
              "      <td>Cryptocurrency</td>\n",
              "    </tr>\n",
              "    <tr>\n",
              "      <th>1</th>\n",
              "      <td>1</td>\n",
              "      <td>1</td>\n",
              "      <td>Wang X., Wang Y., Zhao Y.</td>\n",
              "      <td>57193015825;57901727900;57901783600;</td>\n",
              "      <td>Financial permeation and rural poverty reducti...</td>\n",
              "      <td>We investigate how financial permeation affect...</td>\n",
              "      <td>2022</td>\n",
              "      <td>China Economic Review</td>\n",
              "      <td>Bank branch expansion; Financial permeation; F...</td>\n",
              "      <td>bank branch expansion financial permeation fin...</td>\n",
              "      <td>[bank, branch, expansion, financial, permeatio...</td>\n",
              "      <td>[(0, 0.73060805), (1, 0.06730225), (2, 0.06707...</td>\n",
              "      <td>Fintech</td>\n",
              "    </tr>\n",
              "    <tr>\n",
              "      <th>2</th>\n",
              "      <td>2</td>\n",
              "      <td>2</td>\n",
              "      <td>Dzandu M.D., Hanu C., Amegbe H.</td>\n",
              "      <td>56590001600;57201152816;57194904537;</td>\n",
              "      <td>Gamification of mobile money payment for gener...</td>\n",
              "      <td>This study develops and tests an integrated mo...</td>\n",
              "      <td>2022</td>\n",
              "      <td>Technological Forecasting and Social Change</td>\n",
              "      <td>Customer value; FinTech; Gamification; Marketi...</td>\n",
              "      <td>customer value fintech gamification marketing ...</td>\n",
              "      <td>[customer, value, fintech, gamification, marke...</td>\n",
              "      <td>[(0, 0.028599268), (1, 0.15185189), (2, 0.0286...</td>\n",
              "      <td>Cryptocurrency</td>\n",
              "    </tr>\n",
              "    <tr>\n",
              "      <th>3</th>\n",
              "      <td>3</td>\n",
              "      <td>3</td>\n",
              "      <td>Grassi L., Fantaccini S.</td>\n",
              "      <td>57192656409;57895835500;</td>\n",
              "      <td>An overview of Fintech applications to solve t...</td>\n",
              "      <td>Crowdfunding is emerging as an alternative for...</td>\n",
              "      <td>2022</td>\n",
              "      <td>Financial Innovation</td>\n",
              "      <td>Crowdfunding; Fintech; Health crowdfunding; He...</td>\n",
              "      <td>crowdfunding fintech health crowdfunding healt...</td>\n",
              "      <td>[crowdfunding, fintech, health, crowdfunding, ...</td>\n",
              "      <td>[(0, 0.06768805), (1, 0.066682294), (2, 0.7318...</td>\n",
              "      <td>AI</td>\n",
              "    </tr>\n",
              "    <tr>\n",
              "      <th>4</th>\n",
              "      <td>4</td>\n",
              "      <td>4</td>\n",
              "      <td>DeFusco A.A., Tang H., Yannelis C.</td>\n",
              "      <td>57193852071;57890330600;55413678100;</td>\n",
              "      <td>Measuring the welfare cost of asymmetric infor...</td>\n",
              "      <td>Information asymmetries are known in theory to...</td>\n",
              "      <td>2022</td>\n",
              "      <td>Journal of Financial Economics</td>\n",
              "      <td>Asymmetric information; Consumer credit; Exper...</td>\n",
              "      <td>asymmetric information consumer credit experim...</td>\n",
              "      <td>[asymmetric, information, consumer, credit, ex...</td>\n",
              "      <td>[(0, 0.05137005), (1, 0.05005633), (2, 0.23245...</td>\n",
              "      <td>Risk Exposure</td>\n",
              "    </tr>\n",
              "    <tr>\n",
              "      <th>...</th>\n",
              "      <td>...</td>\n",
              "      <td>...</td>\n",
              "      <td>...</td>\n",
              "      <td>...</td>\n",
              "      <td>...</td>\n",
              "      <td>...</td>\n",
              "      <td>...</td>\n",
              "      <td>...</td>\n",
              "      <td>...</td>\n",
              "      <td>...</td>\n",
              "      <td>...</td>\n",
              "      <td>...</td>\n",
              "      <td>...</td>\n",
              "    </tr>\n",
              "    <tr>\n",
              "      <th>2776</th>\n",
              "      <td>2776</td>\n",
              "      <td>3391</td>\n",
              "      <td>Kumar R., Ghosh A.K.</td>\n",
              "      <td>56126759700;55600232500;</td>\n",
              "      <td>Estimation of aerodynamic derivatives using ne...</td>\n",
              "      <td>The paper presents the estimation of lateral-d...</td>\n",
              "      <td>2014</td>\n",
              "      <td>IFAC Proceedings Volumes (IFAC-PapersOnline)</td>\n",
              "      <td>Aerodynamic Derivatives; Lateral-directional; ...</td>\n",
              "      <td>aerodynamic derivatives lateral directional ne...</td>\n",
              "      <td>[aerodynamic, derivative, lateral, directional...</td>\n",
              "      <td>[(0, 0.10202968), (1, 0.597958), (2, 0.1000109...</td>\n",
              "      <td>Digital Banking</td>\n",
              "    </tr>\n",
              "    <tr>\n",
              "      <th>2777</th>\n",
              "      <td>2777</td>\n",
              "      <td>3393</td>\n",
              "      <td>Sher G.I.</td>\n",
              "      <td>48161857400;</td>\n",
              "      <td>Forex trading using geometry sensitive neural ...</td>\n",
              "      <td>When neural network based systems are used wit...</td>\n",
              "      <td>2012</td>\n",
              "      <td>GECCO'12 - Proceedings of the 14th Internation...</td>\n",
              "      <td>DXNN; Evolutionary computation; Financial anal...</td>\n",
              "      <td>dxnn evolutionary computation financial analys...</td>\n",
              "      <td>[dxnn, evolutionary, computation, financial, a...</td>\n",
              "      <td>[(0, 0.8381539), (1, 0.041315682), (2, 0.04012...</td>\n",
              "      <td>Fintech</td>\n",
              "    </tr>\n",
              "    <tr>\n",
              "      <th>2778</th>\n",
              "      <td>2778</td>\n",
              "      <td>3397</td>\n",
              "      <td>Hao H.-N.</td>\n",
              "      <td>36617357100;</td>\n",
              "      <td>Notice of Retraction: Short-term forecasting o...</td>\n",
              "      <td>For short-term forecasting of stock price, thi...</td>\n",
              "      <td>2010</td>\n",
              "      <td>Proceedings - 2010 6th International Conferenc...</td>\n",
              "      <td>Genetic-neural network; Short-term forecasting...</td>\n",
              "      <td>genetic neural network short term forecasting ...</td>\n",
              "      <td>[genetic, neural, network, short, term, foreca...</td>\n",
              "      <td>[(0, 0.04053648), (1, 0.8394504), (2, 0.040005...</td>\n",
              "      <td>Digital Banking</td>\n",
              "    </tr>\n",
              "    <tr>\n",
              "      <th>2779</th>\n",
              "      <td>2779</td>\n",
              "      <td>3398</td>\n",
              "      <td>Ma Z.-X., Zhang W.</td>\n",
              "      <td>55479146300;56621528900;</td>\n",
              "      <td>Notice of Retraction: An discrimination resear...</td>\n",
              "      <td>The discrimination and supervision of insider ...</td>\n",
              "      <td>2010</td>\n",
              "      <td>ICAMS 2010 - Proceedings of 2010 IEEE Internat...</td>\n",
              "      <td>Discrimination analysis; Insider trading; Mark...</td>\n",
              "      <td>discrimination analysis insider trading market...</td>\n",
              "      <td>[discrimination, analysis, insider, trading, m...</td>\n",
              "      <td>[(0, 0.034076948), (1, 0.8649012), (2, 0.03336...</td>\n",
              "      <td>Digital Banking</td>\n",
              "    </tr>\n",
              "    <tr>\n",
              "      <th>2780</th>\n",
              "      <td>2780</td>\n",
              "      <td>3399</td>\n",
              "      <td>Danial S.N., Noor S.R., Usmani B.A., Zaidi S.J.H.</td>\n",
              "      <td>24823887800;24825002200;26666352700;57549810600;</td>\n",
              "      <td>A dynamical system and neural network perspect...</td>\n",
              "      <td>This study discusses the evolution of KSE-100 ...</td>\n",
              "      <td>2008</td>\n",
              "      <td>Communications in Computer and Information Sci...</td>\n",
              "      <td>correlation dimension; KSE-100 index returns; ...</td>\n",
              "      <td>correlation dimension index returns neural net...</td>\n",
              "      <td>[correlation, dimension, kse-100, index, retur...</td>\n",
              "      <td>[(0, 0.051346723), (1, 0.79808176), (2, 0.0500...</td>\n",
              "      <td>Digital Banking</td>\n",
              "    </tr>\n",
              "  </tbody>\n",
              "</table>\n",
              "<p>2781 rows × 13 columns</p>\n",
              "</div>"
            ],
            "text/plain": [
              "      level_0  index                                            Authors  \\\n",
              "0           0      0                                  Yang T., Zhang X.   \n",
              "1           1      1                          Wang X., Wang Y., Zhao Y.   \n",
              "2           2      2                    Dzandu M.D., Hanu C., Amegbe H.   \n",
              "3           3      3                           Grassi L., Fantaccini S.   \n",
              "4           4      4                 DeFusco A.A., Tang H., Yannelis C.   \n",
              "...       ...    ...                                                ...   \n",
              "2776     2776   3391                               Kumar R., Ghosh A.K.   \n",
              "2777     2777   3393                                          Sher G.I.   \n",
              "2778     2778   3397                                          Hao H.-N.   \n",
              "2779     2779   3398                                 Ma Z.-X., Zhang W.   \n",
              "2780     2780   3399  Danial S.N., Noor S.R., Usmani B.A., Zaidi S.J.H.   \n",
              "\n",
              "                                          Author(s) ID  \\\n",
              "0                             57907798100;56342888200;   \n",
              "1                 57193015825;57901727900;57901783600;   \n",
              "2                 56590001600;57201152816;57194904537;   \n",
              "3                             57192656409;57895835500;   \n",
              "4                 57193852071;57890330600;55413678100;   \n",
              "...                                                ...   \n",
              "2776                          56126759700;55600232500;   \n",
              "2777                                      48161857400;   \n",
              "2778                                      36617357100;   \n",
              "2779                          55479146300;56621528900;   \n",
              "2780  24823887800;24825002200;26666352700;57549810600;   \n",
              "\n",
              "                                                  Title  \\\n",
              "0     FinTech adoption and financial inclusion: Evid...   \n",
              "1     Financial permeation and rural poverty reducti...   \n",
              "2     Gamification of mobile money payment for gener...   \n",
              "3     An overview of Fintech applications to solve t...   \n",
              "4     Measuring the welfare cost of asymmetric infor...   \n",
              "...                                                 ...   \n",
              "2776  Estimation of aerodynamic derivatives using ne...   \n",
              "2777  Forex trading using geometry sensitive neural ...   \n",
              "2778  Notice of Retraction: Short-term forecasting o...   \n",
              "2779  Notice of Retraction: An discrimination resear...   \n",
              "2780  A dynamical system and neural network perspect...   \n",
              "\n",
              "                                               Abstract  Year  \\\n",
              "0     This paper provides micro-level evidence on ho...  2022   \n",
              "1     We investigate how financial permeation affect...  2022   \n",
              "2     This study develops and tests an integrated mo...  2022   \n",
              "3     Crowdfunding is emerging as an alternative for...  2022   \n",
              "4     Information asymmetries are known in theory to...  2022   \n",
              "...                                                 ...   ...   \n",
              "2776  The paper presents the estimation of lateral-d...  2014   \n",
              "2777  When neural network based systems are used wit...  2012   \n",
              "2778  For short-term forecasting of stock price, thi...  2010   \n",
              "2779  The discrimination and supervision of insider ...  2010   \n",
              "2780  This study discusses the evolution of KSE-100 ...  2008   \n",
              "\n",
              "                                           Source title  \\\n",
              "0                        Journal of Banking and Finance   \n",
              "1                                 China Economic Review   \n",
              "2           Technological Forecasting and Social Change   \n",
              "3                                  Financial Innovation   \n",
              "4                        Journal of Financial Economics   \n",
              "...                                                 ...   \n",
              "2776       IFAC Proceedings Volumes (IFAC-PapersOnline)   \n",
              "2777  GECCO'12 - Proceedings of the 14th Internation...   \n",
              "2778  Proceedings - 2010 6th International Conferenc...   \n",
              "2779  ICAMS 2010 - Proceedings of 2010 IEEE Internat...   \n",
              "2780  Communications in Computer and Information Sci...   \n",
              "\n",
              "                                        Author Keywords  \\\n",
              "0     Consumption; Consumption inequality; Credit co...   \n",
              "1     Bank branch expansion; Financial permeation; F...   \n",
              "2     Customer value; FinTech; Gamification; Marketi...   \n",
              "3     Crowdfunding; Fintech; Health crowdfunding; He...   \n",
              "4     Asymmetric information; Consumer credit; Exper...   \n",
              "...                                                 ...   \n",
              "2776  Aerodynamic Derivatives; Lateral-directional; ...   \n",
              "2777  DXNN; Evolutionary computation; Financial anal...   \n",
              "2778  Genetic-neural network; Short-term forecasting...   \n",
              "2779  Discrimination analysis; Insider trading; Mark...   \n",
              "2780  correlation dimension; KSE-100 index returns; ...   \n",
              "\n",
              "                                        Author_Keywords  \\\n",
              "0     consumption consumption inequality credit cons...   \n",
              "1     bank branch expansion financial permeation fin...   \n",
              "2     customer value fintech gamification marketing ...   \n",
              "3     crowdfunding fintech health crowdfunding healt...   \n",
              "4     asymmetric information consumer credit experim...   \n",
              "...                                                 ...   \n",
              "2776  aerodynamic derivatives lateral directional ne...   \n",
              "2777  dxnn evolutionary computation financial analys...   \n",
              "2778  genetic neural network short term forecasting ...   \n",
              "2779  discrimination analysis insider trading market...   \n",
              "2780  correlation dimension index returns neural net...   \n",
              "\n",
              "                                                 tokens  \\\n",
              "0     [consumption, consumption, inequality, credit,...   \n",
              "1     [bank, branch, expansion, financial, permeatio...   \n",
              "2     [customer, value, fintech, gamification, marke...   \n",
              "3     [crowdfunding, fintech, health, crowdfunding, ...   \n",
              "4     [asymmetric, information, consumer, credit, ex...   \n",
              "...                                                 ...   \n",
              "2776  [aerodynamic, derivative, lateral, directional...   \n",
              "2777  [dxnn, evolutionary, computation, financial, a...   \n",
              "2778  [genetic, neural, network, short, term, foreca...   \n",
              "2779  [discrimination, analysis, insider, trading, m...   \n",
              "2780  [correlation, dimension, kse-100, index, retur...   \n",
              "\n",
              "                                     Topic Distribution        topic_num  \n",
              "0     [(0, 0.050067484), (1, 0.050014284), (2, 0.051...   Cryptocurrency  \n",
              "1     [(0, 0.73060805), (1, 0.06730225), (2, 0.06707...          Fintech  \n",
              "2     [(0, 0.028599268), (1, 0.15185189), (2, 0.0286...   Cryptocurrency  \n",
              "3     [(0, 0.06768805), (1, 0.066682294), (2, 0.7318...               AI  \n",
              "4     [(0, 0.05137005), (1, 0.05005633), (2, 0.23245...    Risk Exposure  \n",
              "...                                                 ...              ...  \n",
              "2776  [(0, 0.10202968), (1, 0.597958), (2, 0.1000109...  Digital Banking  \n",
              "2777  [(0, 0.8381539), (1, 0.041315682), (2, 0.04012...          Fintech  \n",
              "2778  [(0, 0.04053648), (1, 0.8394504), (2, 0.040005...  Digital Banking  \n",
              "2779  [(0, 0.034076948), (1, 0.8649012), (2, 0.03336...  Digital Banking  \n",
              "2780  [(0, 0.051346723), (1, 0.79808176), (2, 0.0500...  Digital Banking  \n",
              "\n",
              "[2781 rows x 13 columns]"
            ]
          },
          "execution_count": 140,
          "metadata": {},
          "output_type": "execute_result"
        }
      ],
      "source": [
        "data"
      ]
    },
    {
      "cell_type": "code",
      "execution_count": 141,
      "metadata": {
        "id": "3EIg_0OCD2Ui"
      },
      "outputs": [
        {
          "data": {
            "text/html": [
              "<div>\n",
              "<style scoped>\n",
              "    .dataframe tbody tr th:only-of-type {\n",
              "        vertical-align: middle;\n",
              "    }\n",
              "\n",
              "    .dataframe tbody tr th {\n",
              "        vertical-align: top;\n",
              "    }\n",
              "\n",
              "    .dataframe thead th {\n",
              "        text-align: right;\n",
              "    }\n",
              "</style>\n",
              "<table border=\"1\" class=\"dataframe\">\n",
              "  <thead>\n",
              "    <tr style=\"text-align: right;\">\n",
              "      <th></th>\n",
              "      <th>index</th>\n",
              "      <th>tokens</th>\n",
              "    </tr>\n",
              "  </thead>\n",
              "  <tbody>\n",
              "    <tr>\n",
              "      <th>0</th>\n",
              "      <td>[technology, decentralized, finance, digital, ...</td>\n",
              "      <td>3</td>\n",
              "    </tr>\n",
              "    <tr>\n",
              "      <th>1</th>\n",
              "      <td>[d14, e42, e51, g21]</td>\n",
              "      <td>2</td>\n",
              "    </tr>\n",
              "    <tr>\n",
              "      <th>2</th>\n",
              "      <td>[deep, learning, cluster, fintech, genetic, le...</td>\n",
              "      <td>2</td>\n",
              "    </tr>\n",
              "    <tr>\n",
              "      <th>3</th>\n",
              "      <td>[awareness, financial, literacy, fintech, inve...</td>\n",
              "      <td>2</td>\n",
              "    </tr>\n",
              "    <tr>\n",
              "      <th>4</th>\n",
              "      <td>[g18, g51, l11, l40, l51, o16, o17, o29, o33]</td>\n",
              "      <td>2</td>\n",
              "    </tr>\n",
              "    <tr>\n",
              "      <th>...</th>\n",
              "      <td>...</td>\n",
              "      <td>...</td>\n",
              "    </tr>\n",
              "    <tr>\n",
              "      <th>2754</th>\n",
              "      <td>[artificial, intelligence, banking, financial,...</td>\n",
              "      <td>1</td>\n",
              "    </tr>\n",
              "    <tr>\n",
              "      <th>2755</th>\n",
              "      <td>[graph, convolution, network, long, short, ter...</td>\n",
              "      <td>1</td>\n",
              "    </tr>\n",
              "    <tr>\n",
              "      <th>2756</th>\n",
              "      <td>[digital, entrepreneurship, digitization, fina...</td>\n",
              "      <td>1</td>\n",
              "    </tr>\n",
              "    <tr>\n",
              "      <th>2757</th>\n",
              "      <td>[benefit, earning, heterogeneity, income, pand...</td>\n",
              "      <td>1</td>\n",
              "    </tr>\n",
              "    <tr>\n",
              "      <th>2758</th>\n",
              "      <td>[correlation, dimension, kse-100, index, retur...</td>\n",
              "      <td>1</td>\n",
              "    </tr>\n",
              "  </tbody>\n",
              "</table>\n",
              "<p>2759 rows × 2 columns</p>\n",
              "</div>"
            ],
            "text/plain": [
              "                                                  index  tokens\n",
              "0     [technology, decentralized, finance, digital, ...       3\n",
              "1                                  [d14, e42, e51, g21]       2\n",
              "2     [deep, learning, cluster, fintech, genetic, le...       2\n",
              "3     [awareness, financial, literacy, fintech, inve...       2\n",
              "4         [g18, g51, l11, l40, l51, o16, o17, o29, o33]       2\n",
              "...                                                 ...     ...\n",
              "2754  [artificial, intelligence, banking, financial,...       1\n",
              "2755  [graph, convolution, network, long, short, ter...       1\n",
              "2756  [digital, entrepreneurship, digitization, fina...       1\n",
              "2757  [benefit, earning, heterogeneity, income, pand...       1\n",
              "2758  [correlation, dimension, kse-100, index, retur...       1\n",
              "\n",
              "[2759 rows x 2 columns]"
            ]
          },
          "execution_count": 141,
          "metadata": {},
          "output_type": "execute_result"
        }
      ],
      "source": [
        "data.tokens.value_counts().reset_index()"
      ]
    },
    {
      "cell_type": "code",
      "execution_count": 142,
      "metadata": {
        "id": "G4KIGKqGD2Ui"
      },
      "outputs": [],
      "source": [
        "dirichlet_dict = corpora.Dictionary(corpus)\n",
        "bow_corpus = [dirichlet_dict.doc2bow(text) for text in corpus]\n",
        "\n",
        "# Considering 1-15 topics, as the last is cut off\n",
        "num_topics = list(range(10)[1:])\n",
        "num_keywords = 15\n",
        "\n",
        "LDA_models = {}\n",
        "LDA_topics = {}\n",
        "for i in num_topics:\n",
        "    LDA_models[i] = LdaModel(corpus=bow_corpus,\n",
        "                             id2word=dirichlet_dict,\n",
        "                             num_topics=i,\n",
        "                             update_every=1,\n",
        "                             chunksize=len(bow_corpus),\n",
        "                             passes=10,\n",
        "                             alpha='auto',\n",
        "                             random_state=42)\n",
        "\n",
        "    shown_topics = LDA_models[i].show_topics(num_topics=i, \n",
        "                                             num_words=num_keywords,\n",
        "                                             formatted=False)\n",
        "    LDA_topics[i] = [[word[0] for word in topic[1]] for topic in shown_topics]"
      ]
    },
    {
      "cell_type": "code",
      "execution_count": 143,
      "metadata": {
        "id": "VmTZo_WHD2Uj"
      },
      "outputs": [],
      "source": [
        "def jaccard_similarity(topic_1, topic_2):\n",
        "    \"\"\"\n",
        "    Derives the Jaccard similarity of two topics\n",
        "\n",
        "    Jaccard similarity:\n",
        "    - A statistic used for comparing the similarity and diversity of sample sets\n",
        "    - J(A,B) = (A ∩ B)/(A ∪ B)\n",
        "    - Goal is low Jaccard scores for coverage of the diverse elements\n",
        "    \"\"\"\n",
        "    intersection = set(topic_1).intersection(set(topic_2))\n",
        "    union = set(topic_1).union(set(topic_2))\n",
        "                    \n",
        "    return float(len(intersection))/float(len(union))"
      ]
    },
    {
      "cell_type": "code",
      "execution_count": 144,
      "metadata": {
        "id": "FvJ5jSseD2Uj"
      },
      "outputs": [],
      "source": [
        "LDA_stability = {}\n",
        "for i in range(0, len(num_topics)-1):\n",
        "    jaccard_sims = []\n",
        "    for t1, topic1 in enumerate(LDA_topics[num_topics[i]]): # pylint: disable=unused-variable\n",
        "        sims = []\n",
        "        for t2, topic2 in enumerate(LDA_topics[num_topics[i+1]]): # pylint: disable=unused-variable\n",
        "            sims.append(jaccard_similarity(topic1, topic2))    \n",
        "        \n",
        "        jaccard_sims.append(sims)    \n",
        "    \n",
        "    LDA_stability[num_topics[i]] = jaccard_sims\n",
        "                \n",
        "mean_stabilities = [np.array(LDA_stability[i]).mean() for i in num_topics[:-1]]"
      ]
    },
    {
      "cell_type": "code",
      "execution_count": 145,
      "metadata": {
        "id": "EooFV5v9D2Uk"
      },
      "outputs": [],
      "source": [
        "coherences = [CoherenceModel(model=LDA_models[i], texts=corpus, dictionary=dirichlet_dict, coherence='c_v').get_coherence() for i in num_topics[:-1]]"
      ]
    },
    {
      "cell_type": "code",
      "execution_count": null,
      "metadata": {
        "id": "h0RlkvOHD2Uk"
      },
      "outputs": [],
      "source": [
        "num_keywords = len(coherences)"
      ]
    },
    {
      "cell_type": "code",
      "execution_count": null,
      "metadata": {
        "id": "1cwFsMrGD2Uk"
      },
      "outputs": [],
      "source": [
        "coh_sta_diffs = [coherences[i] - mean_stabilities[i] for i in range(num_keywords)[:-1]] # limit topic numbers to the number of keywords\n",
        "coh_sta_max = max(coh_sta_diffs)\n",
        "coh_sta_max_idxs = [i for i, j in enumerate(coh_sta_diffs) if j == coh_sta_max]\n",
        "ideal_topic_num_index = coh_sta_max_idxs[0] # choose less topics in case there's more than one max\n",
        "ideal_topic_num = num_topics[ideal_topic_num_index]"
      ]
    },
    {
      "cell_type": "code",
      "execution_count": null,
      "metadata": {
        "id": "1lHmkEi-D2Uk"
      },
      "outputs": [],
      "source": [
        "plt.figure(figsize=(20,10))\n",
        "ax = sns.lineplot(x=num_topics[:-1], y=mean_stabilities, label='Average Topic Overlap')\n",
        "ax = sns.lineplot(x=num_topics[:-1], y=coherences, label='Topic Coherence')\n",
        "\n",
        "ax.axvline(x=ideal_topic_num, label='Ideal Number of Topics', color='black')\n",
        "ax.axvspan(xmin=ideal_topic_num - 1, xmax=ideal_topic_num + 1, alpha=0.5, facecolor='grey')\n",
        "\n",
        "y_max = max(max(mean_stabilities), max(coherences)) + (0.10 * max(max(mean_stabilities), max(coherences)))\n",
        "ax.set_ylim([0, y_max])\n",
        "ax.set_xlim([1, num_topics[-1]-1])\n",
        "                \n",
        "ax.axes.set_title('Model Metrics per Number of Topics', fontsize=25)\n",
        "ax.set_ylabel('Metric Level', fontsize=20)\n",
        "ax.set_xlabel('Number of Topics', fontsize=20)\n",
        "plt.legend(fontsize=20)\n",
        "plt.show()  "
      ]
    },
    {
      "cell_type": "code",
      "execution_count": null,
      "metadata": {},
      "outputs": [],
      "source": []
    }
  ],
  "metadata": {
    "colab": {
      "provenance": []
    },
    "kernelspec": {
      "display_name": "Python 3.9.12 ('base')",
      "language": "python",
      "name": "python3"
    },
    "language_info": {
      "codemirror_mode": {
        "name": "ipython",
        "version": 3
      },
      "file_extension": ".py",
      "mimetype": "text/x-python",
      "name": "python",
      "nbconvert_exporter": "python",
      "pygments_lexer": "ipython3",
      "version": "3.9.12"
    },
    "orig_nbformat": 4,
    "vscode": {
      "interpreter": {
        "hash": "995406004189bc7a762cd15e0adc766b4032076a3e0cf164ca390850079b6fa1"
      }
    }
  },
  "nbformat": 4,
  "nbformat_minor": 0
}
